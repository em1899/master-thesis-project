{
 "cells": [
  {
   "cell_type": "markdown",
   "metadata": {},
   "source": [
    "### Master Thesis Project: Finding optimal EV charging infrastructure on DFDS routes\n",
    "_________________________________________________________________________________________\n",
    "\n",
    "#### Students: Jan Gaydoul & Emanuela Zucchetto\n",
    "\n",
    "#### Code Part 1: Data Pre-processing, Exploratory Data Analysis, and Feature Engineering"
   ]
  },
  {
   "cell_type": "markdown",
   "metadata": {},
   "source": [
    "This notebook contains ...\n",
    "\n",
    "1) Loading the different data sources and merging them into one consolidated dataset \n",
    "2) Get a first overview of the data we are working with \n",
    "3) Checking missing values and dropping redundant variables\n",
    "4) Feature Deep Dive\n",
    "5) Feature Engineering\n",
    "6)\n",
    "7)\n",
    "8)\n",
    "9) \n",
    "\n",
    "This file outputs the final dataset that is used as the basis for the further project.\n",
    "______________________________________________________________________________________________________________"
   ]
  },
  {
   "cell_type": "code",
   "execution_count": 2,
   "metadata": {},
   "outputs": [
    {
     "ename": "SyntaxError",
     "evalue": "invalid syntax (1420181597.py, line 2)",
     "output_type": "error",
     "traceback": [
      "\u001b[0;36m  Cell \u001b[0;32mIn [2], line 2\u001b[0;36m\u001b[0m\n\u001b[0;31m    pip install requests\u001b[0m\n\u001b[0m        ^\u001b[0m\n\u001b[0;31mSyntaxError\u001b[0m\u001b[0;31m:\u001b[0m invalid syntax\n"
     ]
    }
   ],
   "source": [
    "# Cell to install packages\n",
    "pip install requests"
   ]
  },
  {
   "cell_type": "code",
   "execution_count": 4,
   "metadata": {},
   "outputs": [],
   "source": [
    "# Importing needed libraries\n",
    "\n",
    "import pandas as pd\n",
    "pd.set_option('display.max_columns', None)\n",
    "\n",
    "import numpy as np\n",
    "import seaborn as sns\n",
    "import matplotlib.pyplot as plt\n",
    "import haversine as hs\n",
    "import requests\n",
    "import reverse_geocode\n",
    "# from geopy.geocoders import Nominatim\n",
    "# from tqdm import tqdm\n",
    "\n",
    "from sklearn import preprocessing\n",
    "from sklearn.preprocessing import LabelEncoder"
   ]
  },
  {
   "cell_type": "markdown",
   "metadata": {},
   "source": [
    "##### 1) Data Loading and Merging"
   ]
  },
  {
   "cell_type": "code",
   "execution_count": 6,
   "metadata": {},
   "outputs": [],
   "source": [
    "# Read three initial datasets (csv files) \n",
    "\n",
    "df = pd.read_csv(\"Results.csv\")\n",
    "df_with_legs_1 = pd.read_csv(\"booking_with_legs_2021-2022.csv\")\n",
    "df_with_legs_2 = pd.read_csv(\"collections_bookings_with_legs_2022.csv\")"
   ]
  },
  {
   "cell_type": "code",
   "execution_count": 7,
   "metadata": {},
   "outputs": [],
   "source": [
    "# Creating copies of original datasets\n",
    "\n",
    "df_backup = df.copy()\n",
    "df_with_legs_1_backup = df_with_legs_1.copy()\n",
    "df_with_legs_2_backup = df_with_legs_2.copy()"
   ]
  },
  {
   "cell_type": "markdown",
   "metadata": {},
   "source": [
    "Note: \n",
    "\n",
    "- We are drawing data from two different systems in DFDS:   \n",
    "--> df is from one system   \n",
    "--> df_with_legs_1 & 2 are from another system, which is why the columns slightly differ  \n",
    "  \n",
    "- booking_with_legs_2021-2022 (df_with_legs_1) and collections_bookings_with_legs_2022 (df_with_legs_2) have the same columns and are consecutive df (the first has data until 04/2022, the latter 04/2022 - 02/2023)   \n",
    "  \n",
    "- That's why these two datasets will be merged in the next steps"
   ]
  },
  {
   "cell_type": "code",
   "execution_count": null,
   "metadata": {},
   "outputs": [],
   "source": [
    "# The time frames of the datasets don't align 100%\n",
    "\n",
    "df.head()"
   ]
  },
  {
   "cell_type": "code",
   "execution_count": null,
   "metadata": {},
   "outputs": [],
   "source": [
    "df_with_legs_1.head()"
   ]
  },
  {
   "cell_type": "code",
   "execution_count": null,
   "metadata": {},
   "outputs": [],
   "source": [
    "df_with_legs_2.head()"
   ]
  },
  {
   "cell_type": "markdown",
   "metadata": {},
   "source": [
    "_Note_:   \n",
    "\n",
    "There are differences between datasets:"
   ]
  },
  {
   "cell_type": "code",
   "execution_count": 8,
   "metadata": {},
   "outputs": [
    {
     "data": {
      "text/html": [
       "<div>\n",
       "<style scoped>\n",
       "    .dataframe tbody tr th:only-of-type {\n",
       "        vertical-align: middle;\n",
       "    }\n",
       "\n",
       "    .dataframe tbody tr th {\n",
       "        vertical-align: top;\n",
       "    }\n",
       "\n",
       "    .dataframe thead th {\n",
       "        text-align: right;\n",
       "    }\n",
       "</style>\n",
       "<table border=\"1\" class=\"dataframe\">\n",
       "  <thead>\n",
       "    <tr style=\"text-align: right;\">\n",
       "      <th></th>\n",
       "      <th>BookingId</th>\n",
       "      <th>BookingNumber</th>\n",
       "      <th>PlannedFirstCollectionDate</th>\n",
       "      <th>PlannedLastDeliveryDate</th>\n",
       "      <th>ActualFirstCollectionDate</th>\n",
       "      <th>ActualLastDeliveryDate</th>\n",
       "      <th>CreationDate</th>\n",
       "      <th>OrganizationName</th>\n",
       "      <th>TrafficDescription</th>\n",
       "      <th>FirstCollectionFreightLocation</th>\n",
       "      <th>FirstCollectionFreightLocationCity</th>\n",
       "      <th>FirstCollectionFreightLocationPostalCode</th>\n",
       "      <th>FirstCollectionFreightLocationCountry</th>\n",
       "      <th>FirstCollectionFreightLocationLongitudePositionDD</th>\n",
       "      <th>FirstCollectionFreightLocationLatitudePositionDD</th>\n",
       "      <th>LastDeliveryFreightLocation</th>\n",
       "      <th>LastDeliveryFreightLocationCity</th>\n",
       "      <th>LastDeliveryFreightLocationPostalCode</th>\n",
       "      <th>LastDeliveryFreightLocationCountry</th>\n",
       "      <th>LastDeliveryFreightLocationLongitudePositionDD</th>\n",
       "      <th>LastDeliveryFreightLocationLatitudePositionDD</th>\n",
       "      <th>FullLoadIndicator</th>\n",
       "      <th>EmptyBookingIndicator</th>\n",
       "      <th>Customer Name</th>\n",
       "      <th>Customer City</th>\n",
       "    </tr>\n",
       "  </thead>\n",
       "  <tbody>\n",
       "    <tr>\n",
       "      <th>2703963</th>\n",
       "      <td>9031814</td>\n",
       "      <td>petcher19031814</td>\n",
       "      <td>2022-01-04 00:00:00.000</td>\n",
       "      <td>2022-01-04 00:00:00.000</td>\n",
       "      <td>2022-01-04 00:00:00.000</td>\n",
       "      <td>2022-01-04 00:00:00.000</td>\n",
       "      <td>2022-01-01 00:00:00.000</td>\n",
       "      <td>Peterborough</td>\n",
       "      <td>PET Chesterf-Dom FL Reefer</td>\n",
       "      <td>LANGDONS LIVERPOOL</td>\n",
       "      <td>Liverpool</td>\n",
       "      <td>L33 7YQ</td>\n",
       "      <td>United Kingdom</td>\n",
       "      <td>-2.85863</td>\n",
       "      <td>53.47114</td>\n",
       "      <td>A F BLAKEMORE - LEEDS</td>\n",
       "      <td>LEEDS</td>\n",
       "      <td>L33 7YQ</td>\n",
       "      <td>United Kingdom</td>\n",
       "      <td>-1.47493</td>\n",
       "      <td>53.72657</td>\n",
       "      <td>Y</td>\n",
       "      <td>N</td>\n",
       "      <td>STEF LANGDONS LTD</td>\n",
       "      <td>Bridgwater</td>\n",
       "    </tr>\n",
       "  </tbody>\n",
       "</table>\n",
       "</div>"
      ],
      "text/plain": [
       "         BookingId    BookingNumber PlannedFirstCollectionDate  \\\n",
       "2703963    9031814  petcher19031814    2022-01-04 00:00:00.000   \n",
       "\n",
       "         PlannedLastDeliveryDate ActualFirstCollectionDate  \\\n",
       "2703963  2022-01-04 00:00:00.000   2022-01-04 00:00:00.000   \n",
       "\n",
       "          ActualLastDeliveryDate             CreationDate OrganizationName  \\\n",
       "2703963  2022-01-04 00:00:00.000  2022-01-01 00:00:00.000     Peterborough   \n",
       "\n",
       "                 TrafficDescription FirstCollectionFreightLocation  \\\n",
       "2703963  PET Chesterf-Dom FL Reefer             LANGDONS LIVERPOOL   \n",
       "\n",
       "        FirstCollectionFreightLocationCity  \\\n",
       "2703963                          Liverpool   \n",
       "\n",
       "        FirstCollectionFreightLocationPostalCode  \\\n",
       "2703963                                  L33 7YQ   \n",
       "\n",
       "        FirstCollectionFreightLocationCountry  \\\n",
       "2703963                        United Kingdom   \n",
       "\n",
       "         FirstCollectionFreightLocationLongitudePositionDD  \\\n",
       "2703963                                           -2.85863   \n",
       "\n",
       "         FirstCollectionFreightLocationLatitudePositionDD  \\\n",
       "2703963                                          53.47114   \n",
       "\n",
       "        LastDeliveryFreightLocation LastDeliveryFreightLocationCity  \\\n",
       "2703963       A F BLAKEMORE - LEEDS                           LEEDS   \n",
       "\n",
       "        LastDeliveryFreightLocationPostalCode  \\\n",
       "2703963                               L33 7YQ   \n",
       "\n",
       "        LastDeliveryFreightLocationCountry  \\\n",
       "2703963                     United Kingdom   \n",
       "\n",
       "         LastDeliveryFreightLocationLongitudePositionDD  \\\n",
       "2703963                                        -1.47493   \n",
       "\n",
       "         LastDeliveryFreightLocationLatitudePositionDD FullLoadIndicator  \\\n",
       "2703963                                       53.72657                 Y   \n",
       "\n",
       "        EmptyBookingIndicator      Customer Name Customer City  \n",
       "2703963                     N  STEF LANGDONS LTD    Bridgwater  "
      ]
     },
     "execution_count": 8,
     "metadata": {},
     "output_type": "execute_result"
    }
   ],
   "source": [
    "# There are different representations of the same booking in the two systems.\n",
    "# Find example of BookingId 9031814 below:\n",
    "\n",
    "# 1) In df, the bookings don't show sub-bookings (\"legs\"), which essentially constitute\n",
    "# different steps in the delivery process\n",
    "\n",
    "df[df['BookingId'] == 9031814]"
   ]
  },
  {
   "cell_type": "code",
   "execution_count": 9,
   "metadata": {},
   "outputs": [
    {
     "data": {
      "text/html": [
       "<div>\n",
       "<style scoped>\n",
       "    .dataframe tbody tr th:only-of-type {\n",
       "        vertical-align: middle;\n",
       "    }\n",
       "\n",
       "    .dataframe tbody tr th {\n",
       "        vertical-align: top;\n",
       "    }\n",
       "\n",
       "    .dataframe thead th {\n",
       "        text-align: right;\n",
       "    }\n",
       "</style>\n",
       "<table border=\"1\" class=\"dataframe\">\n",
       "  <thead>\n",
       "    <tr style=\"text-align: right;\">\n",
       "      <th></th>\n",
       "      <th>BookingId</th>\n",
       "      <th>SubBookingName</th>\n",
       "      <th>SubBookingLegId</th>\n",
       "      <th>StartLegLocationId</th>\n",
       "      <th>EndLegLocationId</th>\n",
       "      <th>FromLocation</th>\n",
       "      <th>ToLocation</th>\n",
       "      <th>TransportId</th>\n",
       "      <th>StartRequestedDate</th>\n",
       "      <th>EndRequestedDate</th>\n",
       "      <th>GrossWeight</th>\n",
       "      <th>LoadMetres</th>\n",
       "      <th>CubicMetres</th>\n",
       "      <th>Length</th>\n",
       "      <th>Width</th>\n",
       "      <th>Height</th>\n",
       "      <th>Temperature</th>\n",
       "      <th>FromLatitude</th>\n",
       "      <th>FromLongtitude</th>\n",
       "      <th>FromCity</th>\n",
       "      <th>FromCountry</th>\n",
       "      <th>ToLatitude</th>\n",
       "      <th>ToLongtitude</th>\n",
       "      <th>ToCity</th>\n",
       "      <th>ToCountry</th>\n",
       "    </tr>\n",
       "  </thead>\n",
       "  <tbody>\n",
       "    <tr>\n",
       "      <th>0</th>\n",
       "      <td>9031814</td>\n",
       "      <td>A</td>\n",
       "      <td>11006604</td>\n",
       "      <td>219248</td>\n",
       "      <td>45984</td>\n",
       "      <td>LANGDONS LIVERPOOL</td>\n",
       "      <td>HOPWELLS - HANDSWORTH</td>\n",
       "      <td>4297407.0</td>\n",
       "      <td>2022-01-04</td>\n",
       "      <td>2022-01-04</td>\n",
       "      <td>0.0</td>\n",
       "      <td>7.5</td>\n",
       "      <td>0.0</td>\n",
       "      <td>NaN</td>\n",
       "      <td>NaN</td>\n",
       "      <td>NaN</td>\n",
       "      <td>NaN</td>\n",
       "      <td>53.47114</td>\n",
       "      <td>-2.85863</td>\n",
       "      <td>Liverpool</td>\n",
       "      <td>United Kingdom</td>\n",
       "      <td>53.37030</td>\n",
       "      <td>-1.36706</td>\n",
       "      <td>Sheffield</td>\n",
       "      <td>United Kingdom</td>\n",
       "    </tr>\n",
       "    <tr>\n",
       "      <th>1</th>\n",
       "      <td>9031814</td>\n",
       "      <td>B</td>\n",
       "      <td>11006603</td>\n",
       "      <td>219248</td>\n",
       "      <td>313716</td>\n",
       "      <td>LANGDONS LIVERPOOL</td>\n",
       "      <td>A F BLAKEMORE - LEEDS</td>\n",
       "      <td>4297407.0</td>\n",
       "      <td>2022-01-04</td>\n",
       "      <td>2022-01-04</td>\n",
       "      <td>0.0</td>\n",
       "      <td>3.0</td>\n",
       "      <td>0.0</td>\n",
       "      <td>NaN</td>\n",
       "      <td>NaN</td>\n",
       "      <td>NaN</td>\n",
       "      <td>NaN</td>\n",
       "      <td>53.47114</td>\n",
       "      <td>-2.85863</td>\n",
       "      <td>Liverpool</td>\n",
       "      <td>United Kingdom</td>\n",
       "      <td>53.72657</td>\n",
       "      <td>-1.47493</td>\n",
       "      <td>LEEDS</td>\n",
       "      <td>United Kingdom</td>\n",
       "    </tr>\n",
       "  </tbody>\n",
       "</table>\n",
       "</div>"
      ],
      "text/plain": [
       "   BookingId SubBookingName  SubBookingLegId  StartLegLocationId  \\\n",
       "0    9031814              A         11006604              219248   \n",
       "1    9031814              B         11006603              219248   \n",
       "\n",
       "   EndLegLocationId        FromLocation             ToLocation  TransportId  \\\n",
       "0             45984  LANGDONS LIVERPOOL  HOPWELLS - HANDSWORTH    4297407.0   \n",
       "1            313716  LANGDONS LIVERPOOL  A F BLAKEMORE - LEEDS    4297407.0   \n",
       "\n",
       "  StartRequestedDate EndRequestedDate  GrossWeight  LoadMetres  CubicMetres  \\\n",
       "0         2022-01-04       2022-01-04          0.0         7.5          0.0   \n",
       "1         2022-01-04       2022-01-04          0.0         3.0          0.0   \n",
       "\n",
       "   Length  Width  Height  Temperature  FromLatitude  FromLongtitude  \\\n",
       "0     NaN    NaN     NaN          NaN      53.47114        -2.85863   \n",
       "1     NaN    NaN     NaN          NaN      53.47114        -2.85863   \n",
       "\n",
       "    FromCity     FromCountry  ToLatitude  ToLongtitude     ToCity  \\\n",
       "0  Liverpool  United Kingdom    53.37030      -1.36706  Sheffield   \n",
       "1  Liverpool  United Kingdom    53.72657      -1.47493      LEEDS   \n",
       "\n",
       "        ToCountry  \n",
       "0  United Kingdom  \n",
       "1  United Kingdom  "
      ]
     },
     "execution_count": 9,
     "metadata": {},
     "output_type": "execute_result"
    }
   ],
   "source": [
    "# 2) In df_with_legs_1/2, every collection is divided into sub-bookings where applicable\n",
    "\n",
    "df_with_legs_2[df_with_legs_2['BookingId'] == 9031814]"
   ]
  },
  {
   "cell_type": "code",
   "execution_count": 10,
   "metadata": {},
   "outputs": [
    {
     "name": "stdout",
     "output_type": "stream",
     "text": [
      "(4410786, 25) (2314238, 25) (2697688, 25)\n"
     ]
    }
   ],
   "source": [
    "print(df.shape, df_with_legs_1.shape, df_with_legs_2.shape)"
   ]
  },
  {
   "cell_type": "markdown",
   "metadata": {},
   "source": [
    "_Note:_\n",
    "\n",
    "Find description of columns in report"
   ]
  },
  {
   "cell_type": "code",
   "execution_count": 17,
   "metadata": {},
   "outputs": [
    {
     "data": {
      "text/plain": [
       "array([ True,  True,  True,  True,  True,  True,  True,  True,  True,\n",
       "        True,  True,  True,  True,  True,  True,  True,  True,  True,\n",
       "        True,  True,  True,  True,  True,  True,  True])"
      ]
     },
     "execution_count": 17,
     "metadata": {},
     "output_type": "execute_result"
    }
   ],
   "source": [
    "# Check if two dfs with legs have the same columns (and if we therefore are able to merge them)\n",
    "\n",
    "df_with_legs_1.columns == df_with_legs_2.columns"
   ]
  },
  {
   "cell_type": "code",
   "execution_count": 18,
   "metadata": {},
   "outputs": [
    {
     "name": "stdout",
     "output_type": "stream",
     "text": [
      "2314233    9031810\n",
      "2314234    9031811\n",
      "2314235    9031811\n",
      "2314236    9031812\n",
      "2314237    9031813\n",
      "Name: BookingId, dtype: int64 0    9031814\n",
      "1    9031814\n",
      "2    9031815\n",
      "3    9031815\n",
      "4    9031816\n",
      "Name: BookingId, dtype: int64\n"
     ]
    }
   ],
   "source": [
    "# From the BookingId we can see that df_with_legs_1/2 are consecutive \n",
    "# --> since all columns are the same we can directly concatenate them \n",
    "\n",
    "print(df_with_legs_1[\"BookingId\"].tail(), df_with_legs_2[\"BookingId\"].head())"
   ]
  },
  {
   "cell_type": "code",
   "execution_count": 11,
   "metadata": {},
   "outputs": [],
   "source": [
    "# Concatenating datasets so we can work with one consolidated dataset:\n",
    "\n",
    "df_final = pd.concat([df_with_legs_1, df_with_legs_2], ignore_index = True)"
   ]
  },
  {
   "cell_type": "code",
   "execution_count": 12,
   "metadata": {},
   "outputs": [
    {
     "data": {
      "text/plain": [
       "(5011926, 25)"
      ]
     },
     "execution_count": 12,
     "metadata": {},
     "output_type": "execute_result"
    }
   ],
   "source": [
    "df_final.shape # consolidated dataset has ~5m rows and 25 columns"
   ]
  },
  {
   "cell_type": "markdown",
   "metadata": {},
   "source": [
    "_Note_: \n",
    "\n",
    "This step is visualized in the report"
   ]
  },
  {
   "cell_type": "code",
   "execution_count": 13,
   "metadata": {},
   "outputs": [],
   "source": [
    "# Next step is to add columns from dataset without legs that are missing in the new df_final \n",
    "# --> [\"FullLoadIndicator\", \"EmptyBookingIndicator\", \"CustomerName\"] are being merged using \"BookingId\"\n",
    "\n",
    "df_final = pd.merge(df_final, df[['BookingId','FullLoadIndicator','EmptyBookingIndicator', 'Customer Name']],on = 'BookingId', how = 'left')"
   ]
  },
  {
   "cell_type": "markdown",
   "metadata": {},
   "source": [
    "##### 2) General Overview"
   ]
  },
  {
   "cell_type": "code",
   "execution_count": 14,
   "metadata": {},
   "outputs": [
    {
     "data": {
      "text/html": [
       "<div>\n",
       "<style scoped>\n",
       "    .dataframe tbody tr th:only-of-type {\n",
       "        vertical-align: middle;\n",
       "    }\n",
       "\n",
       "    .dataframe tbody tr th {\n",
       "        vertical-align: top;\n",
       "    }\n",
       "\n",
       "    .dataframe thead th {\n",
       "        text-align: right;\n",
       "    }\n",
       "</style>\n",
       "<table border=\"1\" class=\"dataframe\">\n",
       "  <thead>\n",
       "    <tr style=\"text-align: right;\">\n",
       "      <th></th>\n",
       "      <th>BookingId</th>\n",
       "      <th>SubBookingName</th>\n",
       "      <th>SubBookingLegId</th>\n",
       "      <th>StartLegLocationId</th>\n",
       "      <th>EndLegLocationId</th>\n",
       "      <th>FromLocation</th>\n",
       "      <th>ToLocation</th>\n",
       "      <th>TransportId</th>\n",
       "      <th>StartRequestedDate</th>\n",
       "      <th>EndRequestedDate</th>\n",
       "      <th>GrossWeight</th>\n",
       "      <th>LoadMetres</th>\n",
       "      <th>CubicMetres</th>\n",
       "      <th>Length</th>\n",
       "      <th>Width</th>\n",
       "      <th>Height</th>\n",
       "      <th>Temperature</th>\n",
       "      <th>FromLatitude</th>\n",
       "      <th>FromLongtitude</th>\n",
       "      <th>FromCity</th>\n",
       "      <th>FromCountry</th>\n",
       "      <th>ToLatitude</th>\n",
       "      <th>ToLongtitude</th>\n",
       "      <th>ToCity</th>\n",
       "      <th>ToCountry</th>\n",
       "      <th>FullLoadIndicator</th>\n",
       "      <th>EmptyBookingIndicator</th>\n",
       "      <th>Customer Name</th>\n",
       "    </tr>\n",
       "  </thead>\n",
       "  <tbody>\n",
       "    <tr>\n",
       "      <th>0</th>\n",
       "      <td>7399574</td>\n",
       "      <td>A</td>\n",
       "      <td>8266605</td>\n",
       "      <td>132168</td>\n",
       "      <td>124047</td>\n",
       "      <td>TESCO</td>\n",
       "      <td>GRAYRENTALS</td>\n",
       "      <td>NaN</td>\n",
       "      <td>2020-12-31</td>\n",
       "      <td>2020-12-31</td>\n",
       "      <td>0.0</td>\n",
       "      <td>0.0</td>\n",
       "      <td>0.0</td>\n",
       "      <td>NaN</td>\n",
       "      <td>NaN</td>\n",
       "      <td>NaN</td>\n",
       "      <td>NaN</td>\n",
       "      <td>53.51131</td>\n",
       "      <td>-1.12540</td>\n",
       "      <td>YORKSHIRE</td>\n",
       "      <td>United Kingdom</td>\n",
       "      <td>53.60475</td>\n",
       "      <td>-0.65636</td>\n",
       "      <td>SCUNTHORPE</td>\n",
       "      <td>United Kingdom</td>\n",
       "      <td>Y</td>\n",
       "      <td>N</td>\n",
       "      <td>DFDS LOGISTICS LIMITED (WARRINGTON)</td>\n",
       "    </tr>\n",
       "    <tr>\n",
       "      <th>1</th>\n",
       "      <td>7399575</td>\n",
       "      <td>A</td>\n",
       "      <td>8266607</td>\n",
       "      <td>243727</td>\n",
       "      <td>27597</td>\n",
       "      <td>DFDS SIMONSWOOD</td>\n",
       "      <td>NORISH COLD STORAGE WREXHAM</td>\n",
       "      <td>NaN</td>\n",
       "      <td>2020-12-31</td>\n",
       "      <td>2020-12-31</td>\n",
       "      <td>0.0</td>\n",
       "      <td>0.0</td>\n",
       "      <td>0.0</td>\n",
       "      <td>NaN</td>\n",
       "      <td>NaN</td>\n",
       "      <td>NaN</td>\n",
       "      <td>NaN</td>\n",
       "      <td>53.50446</td>\n",
       "      <td>-2.84867</td>\n",
       "      <td>Liverpool</td>\n",
       "      <td>United Kingdom</td>\n",
       "      <td>53.04612</td>\n",
       "      <td>-2.92787</td>\n",
       "      <td>Wrexham</td>\n",
       "      <td>United Kingdom</td>\n",
       "      <td>Y</td>\n",
       "      <td>N</td>\n",
       "      <td>NEEROCK T/A WOODHEAD BROS MEAT COMPANY</td>\n",
       "    </tr>\n",
       "    <tr>\n",
       "      <th>2</th>\n",
       "      <td>7399576</td>\n",
       "      <td>A</td>\n",
       "      <td>8266606</td>\n",
       "      <td>243727</td>\n",
       "      <td>27597</td>\n",
       "      <td>DFDS SIMONSWOOD</td>\n",
       "      <td>NORISH COLD STORAGE WREXHAM</td>\n",
       "      <td>NaN</td>\n",
       "      <td>2020-12-31</td>\n",
       "      <td>2020-12-31</td>\n",
       "      <td>0.0</td>\n",
       "      <td>0.0</td>\n",
       "      <td>0.0</td>\n",
       "      <td>NaN</td>\n",
       "      <td>NaN</td>\n",
       "      <td>NaN</td>\n",
       "      <td>NaN</td>\n",
       "      <td>53.50446</td>\n",
       "      <td>-2.84867</td>\n",
       "      <td>Liverpool</td>\n",
       "      <td>United Kingdom</td>\n",
       "      <td>53.04612</td>\n",
       "      <td>-2.92787</td>\n",
       "      <td>Wrexham</td>\n",
       "      <td>United Kingdom</td>\n",
       "      <td>Y</td>\n",
       "      <td>N</td>\n",
       "      <td>NEEROCK T/A WOODHEAD BROS MEAT COMPANY</td>\n",
       "    </tr>\n",
       "    <tr>\n",
       "      <th>3</th>\n",
       "      <td>7399577</td>\n",
       "      <td>A</td>\n",
       "      <td>8266608</td>\n",
       "      <td>29361</td>\n",
       "      <td>108395</td>\n",
       "      <td>C/O GREENCORE FROZEN FOODS</td>\n",
       "      <td>BIDVEST</td>\n",
       "      <td>NaN</td>\n",
       "      <td>2020-12-31</td>\n",
       "      <td>2020-12-31</td>\n",
       "      <td>0.0</td>\n",
       "      <td>0.0</td>\n",
       "      <td>0.0</td>\n",
       "      <td>NaN</td>\n",
       "      <td>NaN</td>\n",
       "      <td>NaN</td>\n",
       "      <td>NaN</td>\n",
       "      <td>53.77629</td>\n",
       "      <td>-1.52585</td>\n",
       "      <td>Leeds</td>\n",
       "      <td>United Kingdom</td>\n",
       "      <td>53.71874</td>\n",
       "      <td>-1.41235</td>\n",
       "      <td>YORKSHIRE</td>\n",
       "      <td>United Kingdom</td>\n",
       "      <td>N</td>\n",
       "      <td>N</td>\n",
       "      <td>GREENCORE GROCERY LTD (LEEDS)</td>\n",
       "    </tr>\n",
       "    <tr>\n",
       "      <th>4</th>\n",
       "      <td>7399578</td>\n",
       "      <td>A</td>\n",
       "      <td>8266609</td>\n",
       "      <td>29361</td>\n",
       "      <td>69407</td>\n",
       "      <td>C/O GREENCORE FROZEN FOODS</td>\n",
       "      <td>ALDI STORES LTD</td>\n",
       "      <td>NaN</td>\n",
       "      <td>2020-12-31</td>\n",
       "      <td>2020-12-31</td>\n",
       "      <td>0.0</td>\n",
       "      <td>0.0</td>\n",
       "      <td>0.0</td>\n",
       "      <td>NaN</td>\n",
       "      <td>NaN</td>\n",
       "      <td>NaN</td>\n",
       "      <td>NaN</td>\n",
       "      <td>53.77629</td>\n",
       "      <td>-1.52585</td>\n",
       "      <td>Leeds</td>\n",
       "      <td>United Kingdom</td>\n",
       "      <td>55.87784</td>\n",
       "      <td>-3.65235</td>\n",
       "      <td>Bathgate</td>\n",
       "      <td>United Kingdom</td>\n",
       "      <td>Y</td>\n",
       "      <td>N</td>\n",
       "      <td>GREENCORE GROCERY LTD (LEEDS)</td>\n",
       "    </tr>\n",
       "  </tbody>\n",
       "</table>\n",
       "</div>"
      ],
      "text/plain": [
       "   BookingId SubBookingName  SubBookingLegId  StartLegLocationId  \\\n",
       "0    7399574              A          8266605              132168   \n",
       "1    7399575              A          8266607              243727   \n",
       "2    7399576              A          8266606              243727   \n",
       "3    7399577              A          8266608               29361   \n",
       "4    7399578              A          8266609               29361   \n",
       "\n",
       "   EndLegLocationId                 FromLocation                   ToLocation  \\\n",
       "0            124047                        TESCO                  GRAYRENTALS   \n",
       "1             27597              DFDS SIMONSWOOD  NORISH COLD STORAGE WREXHAM   \n",
       "2             27597              DFDS SIMONSWOOD  NORISH COLD STORAGE WREXHAM   \n",
       "3            108395  C/O GREENCORE FROZEN FOODS                       BIDVEST   \n",
       "4             69407  C/O GREENCORE FROZEN FOODS               ALDI STORES LTD   \n",
       "\n",
       "   TransportId StartRequestedDate EndRequestedDate  GrossWeight  LoadMetres  \\\n",
       "0          NaN         2020-12-31       2020-12-31          0.0         0.0   \n",
       "1          NaN         2020-12-31       2020-12-31          0.0         0.0   \n",
       "2          NaN         2020-12-31       2020-12-31          0.0         0.0   \n",
       "3          NaN         2020-12-31       2020-12-31          0.0         0.0   \n",
       "4          NaN         2020-12-31       2020-12-31          0.0         0.0   \n",
       "\n",
       "   CubicMetres  Length  Width  Height  Temperature  FromLatitude  \\\n",
       "0          0.0     NaN    NaN     NaN          NaN      53.51131   \n",
       "1          0.0     NaN    NaN     NaN          NaN      53.50446   \n",
       "2          0.0     NaN    NaN     NaN          NaN      53.50446   \n",
       "3          0.0     NaN    NaN     NaN          NaN      53.77629   \n",
       "4          0.0     NaN    NaN     NaN          NaN      53.77629   \n",
       "\n",
       "   FromLongtitude   FromCity     FromCountry  ToLatitude  ToLongtitude  \\\n",
       "0        -1.12540  YORKSHIRE  United Kingdom    53.60475      -0.65636   \n",
       "1        -2.84867  Liverpool  United Kingdom    53.04612      -2.92787   \n",
       "2        -2.84867  Liverpool  United Kingdom    53.04612      -2.92787   \n",
       "3        -1.52585      Leeds  United Kingdom    53.71874      -1.41235   \n",
       "4        -1.52585      Leeds  United Kingdom    55.87784      -3.65235   \n",
       "\n",
       "       ToCity       ToCountry FullLoadIndicator EmptyBookingIndicator  \\\n",
       "0  SCUNTHORPE  United Kingdom                 Y                     N   \n",
       "1     Wrexham  United Kingdom                 Y                     N   \n",
       "2     Wrexham  United Kingdom                 Y                     N   \n",
       "3   YORKSHIRE  United Kingdom                 N                     N   \n",
       "4    Bathgate  United Kingdom                 Y                     N   \n",
       "\n",
       "                            Customer Name  \n",
       "0     DFDS LOGISTICS LIMITED (WARRINGTON)  \n",
       "1  NEEROCK T/A WOODHEAD BROS MEAT COMPANY  \n",
       "2  NEEROCK T/A WOODHEAD BROS MEAT COMPANY  \n",
       "3           GREENCORE GROCERY LTD (LEEDS)  \n",
       "4           GREENCORE GROCERY LTD (LEEDS)  "
      ]
     },
     "execution_count": 14,
     "metadata": {},
     "output_type": "execute_result"
    }
   ],
   "source": [
    "# Check if concatenating and merging worked out\n",
    "\n",
    "df_final.head()"
   ]
  },
  {
   "cell_type": "code",
   "execution_count": null,
   "metadata": {},
   "outputs": [],
   "source": [
    "print(df_final.shape)\n",
    "print(df_final.columns)"
   ]
  },
  {
   "cell_type": "code",
   "execution_count": null,
   "metadata": {},
   "outputs": [],
   "source": [
    "# df_final.shape = (5011926 , 28)\n",
    "\n",
    "df_final.info() "
   ]
  },
  {
   "cell_type": "markdown",
   "metadata": {},
   "source": [
    "#### 3) Checking missing values and dropping redundant variables"
   ]
  },
  {
   "cell_type": "code",
   "execution_count": 15,
   "metadata": {},
   "outputs": [
    {
     "data": {
      "text/plain": [
       "BookingId                      0\n",
       "SubBookingName                 0\n",
       "SubBookingLegId                0\n",
       "StartLegLocationId             0\n",
       "EndLegLocationId               0\n",
       "FromLocation                   0\n",
       "ToLocation                     8\n",
       "TransportId              1937830\n",
       "StartRequestedDate         18968\n",
       "EndRequestedDate           19277\n",
       "GrossWeight                    0\n",
       "LoadMetres                     0\n",
       "CubicMetres                    0\n",
       "Length                   3918187\n",
       "Width                    3930534\n",
       "Height                   3987874\n",
       "Temperature              4066738\n",
       "FromLatitude                   0\n",
       "FromLongtitude                 0\n",
       "FromCity                       1\n",
       "FromCountry                96415\n",
       "ToLatitude                     0\n",
       "ToLongtitude                   0\n",
       "ToCity                        19\n",
       "ToCountry                  80797\n",
       "FullLoadIndicator         619661\n",
       "EmptyBookingIndicator     619661\n",
       "Customer Name             619661\n",
       "dtype: int64"
      ]
     },
     "execution_count": 15,
     "metadata": {},
     "output_type": "execute_result"
    }
   ],
   "source": [
    "df_final.isna().sum()"
   ]
  },
  {
   "cell_type": "markdown",
   "metadata": {},
   "source": [
    "a) **\"TransportId\"**: around 40% missing   \n",
    "-> _How to handle_: drop variable (not used anyways)  \n",
    "   \n",
    "b) **\"StartRequestedDate\"/ \"EndRequestedDate\"**: around 0.3% nulls   \n",
    "-> Only very small amount of data missing, so it won't affect the seasonal analyses   \n",
    "-> _How to handle_: Keep variables and also don't drop rows, as the routes should still be analyzed  \n",
    "  \n",
    "c) **\"Length\", \"Width\", \"Height\"** : Close to 80% missing values  \n",
    "-> _How to handle_: drop variables  \n",
    "  \n",
    "d) **\"Temperature\"**: Close to 80% missing values   \n",
    "-> _How to handle_: Keep for now as variable is important for analyses; maybe drop later \n",
    "  \n",
    "e) **\"FullLoadIndicator\", \"EmptyBookingIndicator\", \"Customer Name\"**: 619.661 missing   \n",
    "-> _How to handle_: ....   \n",
    "  \n",
    "f) **\"FromCountry\" and \"ToCountry\"**: Around 1.5% missing   \n",
    "-> _How to handle_: infer from longitude and latitude data (code below)  "
   ]
  },
  {
   "cell_type": "code",
   "execution_count": 26,
   "metadata": {},
   "outputs": [],
   "source": [
    "# Dropping variables that are not needed for the analysis\n",
    "\n",
    "# Jan // Suggestion for variables to drop: \n",
    "\n",
    "# 1) SubBookingLegId (?) \n",
    "# 2) StartLegLocationId\n",
    "# 3) EndLegLocationId\n",
    "# 4) TransportId\n",
    "# 5) LoadMetres\n",
    "# 6) Cubicmetres \n",
    "# 7) Length \n",
    "# 8) Width\n",
    "# 9) Height \n",
    "\n",
    "\n",
    "# I would keep \"GrossWeight\" and \"Temperature\" as they have influence on e-Truck reach"
   ]
  },
  {
   "cell_type": "code",
   "execution_count": 16,
   "metadata": {},
   "outputs": [
    {
     "data": {
      "text/html": [
       "<div>\n",
       "<style scoped>\n",
       "    .dataframe tbody tr th:only-of-type {\n",
       "        vertical-align: middle;\n",
       "    }\n",
       "\n",
       "    .dataframe tbody tr th {\n",
       "        vertical-align: top;\n",
       "    }\n",
       "\n",
       "    .dataframe thead th {\n",
       "        text-align: right;\n",
       "    }\n",
       "</style>\n",
       "<table border=\"1\" class=\"dataframe\">\n",
       "  <thead>\n",
       "    <tr style=\"text-align: right;\">\n",
       "      <th></th>\n",
       "      <th>BookingId</th>\n",
       "      <th>SubBookingName</th>\n",
       "      <th>FromLocation</th>\n",
       "      <th>ToLocation</th>\n",
       "      <th>StartRequestedDate</th>\n",
       "      <th>EndRequestedDate</th>\n",
       "      <th>GrossWeight</th>\n",
       "      <th>Temperature</th>\n",
       "      <th>FromLatitude</th>\n",
       "      <th>FromLongtitude</th>\n",
       "      <th>FromCity</th>\n",
       "      <th>FromCountry</th>\n",
       "      <th>ToLatitude</th>\n",
       "      <th>ToLongtitude</th>\n",
       "      <th>ToCity</th>\n",
       "      <th>ToCountry</th>\n",
       "      <th>FullLoadIndicator</th>\n",
       "      <th>EmptyBookingIndicator</th>\n",
       "      <th>Customer Name</th>\n",
       "    </tr>\n",
       "  </thead>\n",
       "  <tbody>\n",
       "    <tr>\n",
       "      <th>0</th>\n",
       "      <td>7399574</td>\n",
       "      <td>A</td>\n",
       "      <td>TESCO</td>\n",
       "      <td>GRAYRENTALS</td>\n",
       "      <td>2020-12-31</td>\n",
       "      <td>2020-12-31</td>\n",
       "      <td>0.0</td>\n",
       "      <td>NaN</td>\n",
       "      <td>53.51131</td>\n",
       "      <td>-1.12540</td>\n",
       "      <td>YORKSHIRE</td>\n",
       "      <td>United Kingdom</td>\n",
       "      <td>53.60475</td>\n",
       "      <td>-0.65636</td>\n",
       "      <td>SCUNTHORPE</td>\n",
       "      <td>United Kingdom</td>\n",
       "      <td>Y</td>\n",
       "      <td>N</td>\n",
       "      <td>DFDS LOGISTICS LIMITED (WARRINGTON)</td>\n",
       "    </tr>\n",
       "    <tr>\n",
       "      <th>1</th>\n",
       "      <td>7399575</td>\n",
       "      <td>A</td>\n",
       "      <td>DFDS SIMONSWOOD</td>\n",
       "      <td>NORISH COLD STORAGE WREXHAM</td>\n",
       "      <td>2020-12-31</td>\n",
       "      <td>2020-12-31</td>\n",
       "      <td>0.0</td>\n",
       "      <td>NaN</td>\n",
       "      <td>53.50446</td>\n",
       "      <td>-2.84867</td>\n",
       "      <td>Liverpool</td>\n",
       "      <td>United Kingdom</td>\n",
       "      <td>53.04612</td>\n",
       "      <td>-2.92787</td>\n",
       "      <td>Wrexham</td>\n",
       "      <td>United Kingdom</td>\n",
       "      <td>Y</td>\n",
       "      <td>N</td>\n",
       "      <td>NEEROCK T/A WOODHEAD BROS MEAT COMPANY</td>\n",
       "    </tr>\n",
       "    <tr>\n",
       "      <th>2</th>\n",
       "      <td>7399576</td>\n",
       "      <td>A</td>\n",
       "      <td>DFDS SIMONSWOOD</td>\n",
       "      <td>NORISH COLD STORAGE WREXHAM</td>\n",
       "      <td>2020-12-31</td>\n",
       "      <td>2020-12-31</td>\n",
       "      <td>0.0</td>\n",
       "      <td>NaN</td>\n",
       "      <td>53.50446</td>\n",
       "      <td>-2.84867</td>\n",
       "      <td>Liverpool</td>\n",
       "      <td>United Kingdom</td>\n",
       "      <td>53.04612</td>\n",
       "      <td>-2.92787</td>\n",
       "      <td>Wrexham</td>\n",
       "      <td>United Kingdom</td>\n",
       "      <td>Y</td>\n",
       "      <td>N</td>\n",
       "      <td>NEEROCK T/A WOODHEAD BROS MEAT COMPANY</td>\n",
       "    </tr>\n",
       "    <tr>\n",
       "      <th>3</th>\n",
       "      <td>7399577</td>\n",
       "      <td>A</td>\n",
       "      <td>C/O GREENCORE FROZEN FOODS</td>\n",
       "      <td>BIDVEST</td>\n",
       "      <td>2020-12-31</td>\n",
       "      <td>2020-12-31</td>\n",
       "      <td>0.0</td>\n",
       "      <td>NaN</td>\n",
       "      <td>53.77629</td>\n",
       "      <td>-1.52585</td>\n",
       "      <td>Leeds</td>\n",
       "      <td>United Kingdom</td>\n",
       "      <td>53.71874</td>\n",
       "      <td>-1.41235</td>\n",
       "      <td>YORKSHIRE</td>\n",
       "      <td>United Kingdom</td>\n",
       "      <td>N</td>\n",
       "      <td>N</td>\n",
       "      <td>GREENCORE GROCERY LTD (LEEDS)</td>\n",
       "    </tr>\n",
       "    <tr>\n",
       "      <th>4</th>\n",
       "      <td>7399578</td>\n",
       "      <td>A</td>\n",
       "      <td>C/O GREENCORE FROZEN FOODS</td>\n",
       "      <td>ALDI STORES LTD</td>\n",
       "      <td>2020-12-31</td>\n",
       "      <td>2020-12-31</td>\n",
       "      <td>0.0</td>\n",
       "      <td>NaN</td>\n",
       "      <td>53.77629</td>\n",
       "      <td>-1.52585</td>\n",
       "      <td>Leeds</td>\n",
       "      <td>United Kingdom</td>\n",
       "      <td>55.87784</td>\n",
       "      <td>-3.65235</td>\n",
       "      <td>Bathgate</td>\n",
       "      <td>United Kingdom</td>\n",
       "      <td>Y</td>\n",
       "      <td>N</td>\n",
       "      <td>GREENCORE GROCERY LTD (LEEDS)</td>\n",
       "    </tr>\n",
       "  </tbody>\n",
       "</table>\n",
       "</div>"
      ],
      "text/plain": [
       "   BookingId SubBookingName                 FromLocation  \\\n",
       "0    7399574              A                        TESCO   \n",
       "1    7399575              A              DFDS SIMONSWOOD   \n",
       "2    7399576              A              DFDS SIMONSWOOD   \n",
       "3    7399577              A  C/O GREENCORE FROZEN FOODS    \n",
       "4    7399578              A  C/O GREENCORE FROZEN FOODS    \n",
       "\n",
       "                    ToLocation StartRequestedDate EndRequestedDate  \\\n",
       "0                  GRAYRENTALS         2020-12-31       2020-12-31   \n",
       "1  NORISH COLD STORAGE WREXHAM         2020-12-31       2020-12-31   \n",
       "2  NORISH COLD STORAGE WREXHAM         2020-12-31       2020-12-31   \n",
       "3                      BIDVEST         2020-12-31       2020-12-31   \n",
       "4              ALDI STORES LTD         2020-12-31       2020-12-31   \n",
       "\n",
       "   GrossWeight  Temperature  FromLatitude  FromLongtitude   FromCity  \\\n",
       "0          0.0          NaN      53.51131        -1.12540  YORKSHIRE   \n",
       "1          0.0          NaN      53.50446        -2.84867  Liverpool   \n",
       "2          0.0          NaN      53.50446        -2.84867  Liverpool   \n",
       "3          0.0          NaN      53.77629        -1.52585      Leeds   \n",
       "4          0.0          NaN      53.77629        -1.52585      Leeds   \n",
       "\n",
       "      FromCountry  ToLatitude  ToLongtitude      ToCity       ToCountry  \\\n",
       "0  United Kingdom    53.60475      -0.65636  SCUNTHORPE  United Kingdom   \n",
       "1  United Kingdom    53.04612      -2.92787     Wrexham  United Kingdom   \n",
       "2  United Kingdom    53.04612      -2.92787     Wrexham  United Kingdom   \n",
       "3  United Kingdom    53.71874      -1.41235   YORKSHIRE  United Kingdom   \n",
       "4  United Kingdom    55.87784      -3.65235    Bathgate  United Kingdom   \n",
       "\n",
       "  FullLoadIndicator EmptyBookingIndicator  \\\n",
       "0                 Y                     N   \n",
       "1                 Y                     N   \n",
       "2                 Y                     N   \n",
       "3                 N                     N   \n",
       "4                 Y                     N   \n",
       "\n",
       "                            Customer Name  \n",
       "0     DFDS LOGISTICS LIMITED (WARRINGTON)  \n",
       "1  NEEROCK T/A WOODHEAD BROS MEAT COMPANY  \n",
       "2  NEEROCK T/A WOODHEAD BROS MEAT COMPANY  \n",
       "3           GREENCORE GROCERY LTD (LEEDS)  \n",
       "4           GREENCORE GROCERY LTD (LEEDS)  "
      ]
     },
     "execution_count": 16,
     "metadata": {},
     "output_type": "execute_result"
    }
   ],
   "source": [
    "# Creating list of columns to drop\n",
    "columns_to_drop = [\"SubBookingLegId\", \"StartLegLocationId\", \"EndLegLocationId\", \"TransportId\", \"LoadMetres\", \"CubicMetres\", \"Length\", \"Width\", \"Height\"]\n",
    "\n",
    "# Dropping columns\n",
    "df_final = df_final.drop(columns_to_drop, axis = 1)\n",
    "\n",
    "# Check dataset \n",
    "df_final.head()"
   ]
  },
  {
   "cell_type": "markdown",
   "metadata": {},
   "source": [
    "#### 4) Feature Deep Dive"
   ]
  },
  {
   "cell_type": "code",
   "execution_count": 28,
   "metadata": {},
   "outputs": [
    {
     "name": "stdout",
     "output_type": "stream",
     "text": [
      "['BookingId', 'SubBookingName', 'FromLocation', 'ToLocation', 'StartRequestedDate', 'EndRequestedDate', 'GrossWeight', 'Temperature', 'FromLatitude', 'FromLongtitude', 'FromCity', 'FromCountry', 'ToLatitude', 'ToLongtitude', 'ToCity', 'ToCountry', 'FullLoadIndicator', 'EmptyBookingIndicator', 'Customer Name']\n"
     ]
    }
   ],
   "source": [
    "columns = list(df_final.columns)\n",
    "print(columns)"
   ]
  },
  {
   "cell_type": "markdown",
   "metadata": {},
   "source": [
    "4.1) \"BookingId\""
   ]
  },
  {
   "cell_type": "code",
   "execution_count": 17,
   "metadata": {},
   "outputs": [
    {
     "data": {
      "text/plain": [
       "3322128"
      ]
     },
     "execution_count": 17,
     "metadata": {},
     "output_type": "execute_result"
    }
   ],
   "source": [
    "# = A unique ID for every delivery. Sometimes it includes more than one \"Leg\" (which is the reason some \n",
    "# IDs span over several rows)\n",
    "\n",
    "df_final['BookingId'].nunique() # ~3.3m unique BookingIDs"
   ]
  },
  {
   "cell_type": "code",
   "execution_count": 18,
   "metadata": {},
   "outputs": [
    {
     "name": "stdout",
     "output_type": "stream",
     "text": [
      "          count  frequency\n",
      "8382237     135          1\n",
      "8708339     134          1\n",
      "8818872     131          1\n",
      "8403071     129          1\n",
      "8862355     128          2\n",
      "...         ...        ...\n",
      "8516401       5      10653\n",
      "7677843       4      23573\n",
      "7759452       3      48401\n",
      "10394945      2     253879\n",
      "10141763      1    2925778\n",
      "\n",
      "[128 rows x 2 columns]\n"
     ]
    }
   ],
   "source": [
    "# Finding about how many bookings are divided into multiple legs\n",
    "# -> And in the case they are divided, in how many legs? \n",
    "\n",
    "id_counts = df_final['BookingId'].value_counts()\n",
    "\n",
    "# Create a new DataFrame to hold the results\n",
    "id_result = pd.DataFrame({'count': id_counts})\n",
    "\n",
    "# Add a new column indicating how many times each ID appears\n",
    "id_result['frequency'] = id_result.groupby('count')['count'].transform('count')\n",
    "\n",
    "# Keep only the unique frequency counts\n",
    "id_result = id_result.drop_duplicates(subset = 'count').sort_values('count', ascending = False)\n",
    "\n",
    "# Print the result\n",
    "print(id_result)"
   ]
  },
  {
   "cell_type": "markdown",
   "metadata": {},
   "source": [
    "4.2) \"SubBookingName\""
   ]
  },
  {
   "cell_type": "code",
   "execution_count": null,
   "metadata": {},
   "outputs": [],
   "source": [
    "# = Gives information whether one delivery is sub-divided into multiple sub-bookings\n",
    "# The vast majority of deliveries only consists of one booking\n",
    "\n",
    "df_final[\"SubBookingName\"].value_counts()"
   ]
  },
  {
   "cell_type": "code",
   "execution_count": null,
   "metadata": {},
   "outputs": [],
   "source": [
    "# Percentage share of legs \n",
    "\n",
    "percentage_share = df_final[\"SubBookingName\"].value_counts(normalize = True) * 100\n",
    "print(percentage_share)"
   ]
  },
  {
   "cell_type": "markdown",
   "metadata": {},
   "source": [
    "**Note**:   \n",
    "- 92% of the deliveries have \"SubBookingName\" == A and are therefor deliveries with only one leg\n",
    "- We will later create a new df (df_full) that only contains the deliveries with \"SubBookingName\" == \"A\""
   ]
  },
  {
   "cell_type": "code",
   "execution_count": 33,
   "metadata": {},
   "outputs": [
    {
     "data": {
      "text/plain": [
       "5011926"
      ]
     },
     "execution_count": 33,
     "metadata": {},
     "output_type": "execute_result"
    }
   ],
   "source": [
    "df_final[\"SubBookingName\"].value_counts().sum() # Aligns with ~5m total entries"
   ]
  },
  {
   "cell_type": "markdown",
   "metadata": {},
   "source": [
    "4.3) \"FromLocation\" & 4.4) \"ToLocation\""
   ]
  },
  {
   "cell_type": "code",
   "execution_count": 34,
   "metadata": {},
   "outputs": [],
   "source": [
    "# = Information about the senders and receivers of deliveries"
   ]
  },
  {
   "cell_type": "code",
   "execution_count": 20,
   "metadata": {},
   "outputs": [
    {
     "data": {
      "text/html": [
       "<div>\n",
       "<style scoped>\n",
       "    .dataframe tbody tr th:only-of-type {\n",
       "        vertical-align: middle;\n",
       "    }\n",
       "\n",
       "    .dataframe tbody tr th {\n",
       "        vertical-align: top;\n",
       "    }\n",
       "\n",
       "    .dataframe thead th {\n",
       "        text-align: right;\n",
       "    }\n",
       "</style>\n",
       "<table border=\"1\" class=\"dataframe\">\n",
       "  <thead>\n",
       "    <tr style=\"text-align: right;\">\n",
       "      <th></th>\n",
       "      <th>BookingId</th>\n",
       "      <th>SubBookingName</th>\n",
       "      <th>FromLocation</th>\n",
       "      <th>ToLocation</th>\n",
       "      <th>StartRequestedDate</th>\n",
       "      <th>EndRequestedDate</th>\n",
       "      <th>GrossWeight</th>\n",
       "      <th>Temperature</th>\n",
       "      <th>FromLatitude</th>\n",
       "      <th>FromLongtitude</th>\n",
       "      <th>FromCity</th>\n",
       "      <th>FromCountry</th>\n",
       "      <th>ToLatitude</th>\n",
       "      <th>ToLongtitude</th>\n",
       "      <th>ToCity</th>\n",
       "      <th>ToCountry</th>\n",
       "      <th>FullLoadIndicator</th>\n",
       "      <th>EmptyBookingIndicator</th>\n",
       "      <th>Customer Name</th>\n",
       "    </tr>\n",
       "  </thead>\n",
       "  <tbody>\n",
       "    <tr>\n",
       "      <th>0</th>\n",
       "      <td>7399574</td>\n",
       "      <td>A</td>\n",
       "      <td>33917</td>\n",
       "      <td>32289</td>\n",
       "      <td>2020-12-31</td>\n",
       "      <td>2020-12-31</td>\n",
       "      <td>0.0</td>\n",
       "      <td>NaN</td>\n",
       "      <td>53.51131</td>\n",
       "      <td>-1.12540</td>\n",
       "      <td>YORKSHIRE</td>\n",
       "      <td>United Kingdom</td>\n",
       "      <td>53.60475</td>\n",
       "      <td>-0.65636</td>\n",
       "      <td>SCUNTHORPE</td>\n",
       "      <td>United Kingdom</td>\n",
       "      <td>Y</td>\n",
       "      <td>N</td>\n",
       "      <td>DFDS LOGISTICS LIMITED (WARRINGTON)</td>\n",
       "    </tr>\n",
       "    <tr>\n",
       "      <th>1</th>\n",
       "      <td>7399575</td>\n",
       "      <td>A</td>\n",
       "      <td>9443</td>\n",
       "      <td>57716</td>\n",
       "      <td>2020-12-31</td>\n",
       "      <td>2020-12-31</td>\n",
       "      <td>0.0</td>\n",
       "      <td>NaN</td>\n",
       "      <td>53.50446</td>\n",
       "      <td>-2.84867</td>\n",
       "      <td>Liverpool</td>\n",
       "      <td>United Kingdom</td>\n",
       "      <td>53.04612</td>\n",
       "      <td>-2.92787</td>\n",
       "      <td>Wrexham</td>\n",
       "      <td>United Kingdom</td>\n",
       "      <td>Y</td>\n",
       "      <td>N</td>\n",
       "      <td>NEEROCK T/A WOODHEAD BROS MEAT COMPANY</td>\n",
       "    </tr>\n",
       "    <tr>\n",
       "      <th>2</th>\n",
       "      <td>7399576</td>\n",
       "      <td>A</td>\n",
       "      <td>9443</td>\n",
       "      <td>57716</td>\n",
       "      <td>2020-12-31</td>\n",
       "      <td>2020-12-31</td>\n",
       "      <td>0.0</td>\n",
       "      <td>NaN</td>\n",
       "      <td>53.50446</td>\n",
       "      <td>-2.84867</td>\n",
       "      <td>Liverpool</td>\n",
       "      <td>United Kingdom</td>\n",
       "      <td>53.04612</td>\n",
       "      <td>-2.92787</td>\n",
       "      <td>Wrexham</td>\n",
       "      <td>United Kingdom</td>\n",
       "      <td>Y</td>\n",
       "      <td>N</td>\n",
       "      <td>NEEROCK T/A WOODHEAD BROS MEAT COMPANY</td>\n",
       "    </tr>\n",
       "    <tr>\n",
       "      <th>3</th>\n",
       "      <td>7399577</td>\n",
       "      <td>A</td>\n",
       "      <td>5977</td>\n",
       "      <td>9831</td>\n",
       "      <td>2020-12-31</td>\n",
       "      <td>2020-12-31</td>\n",
       "      <td>0.0</td>\n",
       "      <td>NaN</td>\n",
       "      <td>53.77629</td>\n",
       "      <td>-1.52585</td>\n",
       "      <td>Leeds</td>\n",
       "      <td>United Kingdom</td>\n",
       "      <td>53.71874</td>\n",
       "      <td>-1.41235</td>\n",
       "      <td>YORKSHIRE</td>\n",
       "      <td>United Kingdom</td>\n",
       "      <td>N</td>\n",
       "      <td>N</td>\n",
       "      <td>GREENCORE GROCERY LTD (LEEDS)</td>\n",
       "    </tr>\n",
       "    <tr>\n",
       "      <th>4</th>\n",
       "      <td>7399578</td>\n",
       "      <td>A</td>\n",
       "      <td>5977</td>\n",
       "      <td>3182</td>\n",
       "      <td>2020-12-31</td>\n",
       "      <td>2020-12-31</td>\n",
       "      <td>0.0</td>\n",
       "      <td>NaN</td>\n",
       "      <td>53.77629</td>\n",
       "      <td>-1.52585</td>\n",
       "      <td>Leeds</td>\n",
       "      <td>United Kingdom</td>\n",
       "      <td>55.87784</td>\n",
       "      <td>-3.65235</td>\n",
       "      <td>Bathgate</td>\n",
       "      <td>United Kingdom</td>\n",
       "      <td>Y</td>\n",
       "      <td>N</td>\n",
       "      <td>GREENCORE GROCERY LTD (LEEDS)</td>\n",
       "    </tr>\n",
       "  </tbody>\n",
       "</table>\n",
       "</div>"
      ],
      "text/plain": [
       "   BookingId SubBookingName  FromLocation  ToLocation StartRequestedDate  \\\n",
       "0    7399574              A         33917       32289         2020-12-31   \n",
       "1    7399575              A          9443       57716         2020-12-31   \n",
       "2    7399576              A          9443       57716         2020-12-31   \n",
       "3    7399577              A          5977        9831         2020-12-31   \n",
       "4    7399578              A          5977        3182         2020-12-31   \n",
       "\n",
       "  EndRequestedDate  GrossWeight  Temperature  FromLatitude  FromLongtitude  \\\n",
       "0       2020-12-31          0.0          NaN      53.51131        -1.12540   \n",
       "1       2020-12-31          0.0          NaN      53.50446        -2.84867   \n",
       "2       2020-12-31          0.0          NaN      53.50446        -2.84867   \n",
       "3       2020-12-31          0.0          NaN      53.77629        -1.52585   \n",
       "4       2020-12-31          0.0          NaN      53.77629        -1.52585   \n",
       "\n",
       "    FromCity     FromCountry  ToLatitude  ToLongtitude      ToCity  \\\n",
       "0  YORKSHIRE  United Kingdom    53.60475      -0.65636  SCUNTHORPE   \n",
       "1  Liverpool  United Kingdom    53.04612      -2.92787     Wrexham   \n",
       "2  Liverpool  United Kingdom    53.04612      -2.92787     Wrexham   \n",
       "3      Leeds  United Kingdom    53.71874      -1.41235   YORKSHIRE   \n",
       "4      Leeds  United Kingdom    55.87784      -3.65235    Bathgate   \n",
       "\n",
       "        ToCountry FullLoadIndicator EmptyBookingIndicator  \\\n",
       "0  United Kingdom                 Y                     N   \n",
       "1  United Kingdom                 Y                     N   \n",
       "2  United Kingdom                 Y                     N   \n",
       "3  United Kingdom                 N                     N   \n",
       "4  United Kingdom                 Y                     N   \n",
       "\n",
       "                            Customer Name  \n",
       "0     DFDS LOGISTICS LIMITED (WARRINGTON)  \n",
       "1  NEEROCK T/A WOODHEAD BROS MEAT COMPANY  \n",
       "2  NEEROCK T/A WOODHEAD BROS MEAT COMPANY  \n",
       "3           GREENCORE GROCERY LTD (LEEDS)  \n",
       "4           GREENCORE GROCERY LTD (LEEDS)  "
      ]
     },
     "execution_count": 20,
     "metadata": {},
     "output_type": "execute_result"
    }
   ],
   "source": [
    "# Encode senders (FromLocation) and receivers (ToLocation) from deliveries for anonymization purposes\n",
    "# as they usually contain customer information\n",
    "\n",
    "# (other option would be using the CustomerName column from the original dataset and encode it --> problem is we have around 600k missing\n",
    "\n",
    "labelencoder = LabelEncoder()\n",
    "\n",
    "df_final[\"FromLocation\"] = labelencoder.fit_transform(df_final[\"FromLocation\"])\n",
    "df_final[\"ToLocation\"] = labelencoder.fit_transform(df_final[\"ToLocation\"])\n",
    "\n",
    "df_final.head()"
   ]
  },
  {
   "cell_type": "markdown",
   "metadata": {},
   "source": [
    "4.5) \"StartRequestedDate\" & 4.6) \"EndRequestedDate\""
   ]
  },
  {
   "cell_type": "code",
   "execution_count": 21,
   "metadata": {},
   "outputs": [
    {
     "name": "stdout",
     "output_type": "stream",
     "text": [
      "<class 'pandas.core.frame.DataFrame'>\n",
      "Int64Index: 5011926 entries, 0 to 5011925\n",
      "Data columns (total 19 columns):\n",
      " #   Column                 Dtype         \n",
      "---  ------                 -----         \n",
      " 0   BookingId              int64         \n",
      " 1   SubBookingName         object        \n",
      " 2   FromLocation           int64         \n",
      " 3   ToLocation             int64         \n",
      " 4   StartRequestedDate     datetime64[ns]\n",
      " 5   EndRequestedDate       datetime64[ns]\n",
      " 6   GrossWeight            float64       \n",
      " 7   Temperature            float64       \n",
      " 8   FromLatitude           float64       \n",
      " 9   FromLongtitude         float64       \n",
      " 10  FromCity               object        \n",
      " 11  FromCountry            object        \n",
      " 12  ToLatitude             float64       \n",
      " 13  ToLongtitude           float64       \n",
      " 14  ToCity                 object        \n",
      " 15  ToCountry              object        \n",
      " 16  FullLoadIndicator      object        \n",
      " 17  EmptyBookingIndicator  object        \n",
      " 18  Customer Name          object        \n",
      "dtypes: datetime64[ns](2), float64(6), int64(3), object(8)\n",
      "memory usage: 764.8+ MB\n"
     ]
    }
   ],
   "source": [
    "# = The date when a delivery was requested (Start) vs. when it was actually picked up (End)\n",
    "\n",
    "# First, bring date columns to datetime format before analysis\n",
    "\n",
    "df_final['StartRequestedDate'] = pd.to_datetime(df_final['StartRequestedDate'])\n",
    "df_final['EndRequestedDate'] = pd.to_datetime(df_final['EndRequestedDate'])\n",
    "\n",
    "# Check if it worked\n",
    "df_final.info()"
   ]
  },
  {
   "cell_type": "code",
   "execution_count": 22,
   "metadata": {},
   "outputs": [],
   "source": [
    "# Remove wrong dates \n",
    "\n",
    "# Add column for year in StartRequestedDate and EndRequestedDate\n",
    "df_final['StartYear'] = df_final.StartRequestedDate.apply(lambda x:x.year)\n",
    "df_final['EndYear'] = df_final.EndRequestedDate.apply(lambda x:x.year)"
   ]
  },
  {
   "cell_type": "code",
   "execution_count": 23,
   "metadata": {},
   "outputs": [
    {
     "data": {
      "text/plain": [
       "(64, 21)"
      ]
     },
     "execution_count": 23,
     "metadata": {},
     "output_type": "execute_result"
    }
   ],
   "source": [
    "# There seems to be many wrong inputs for the StartRequestedDate\n",
    "\n",
    "df_final[df_final.StartYear < 2020].shape"
   ]
  },
  {
   "cell_type": "code",
   "execution_count": 24,
   "metadata": {},
   "outputs": [
    {
     "data": {
      "text/plain": [
       "(44, 21)"
      ]
     },
     "execution_count": 24,
     "metadata": {},
     "output_type": "execute_result"
    }
   ],
   "source": [
    "# EndRequestedDate is more contains less wrong inputs, so we can drop values out of our range of interest in EndRequestedDate\n",
    "\n",
    "df_final[df_final.EndYear < 2020].shape"
   ]
  },
  {
   "cell_type": "code",
   "execution_count": 25,
   "metadata": {},
   "outputs": [
    {
     "data": {
      "text/plain": [
       "(4992586, 21)"
      ]
     },
     "execution_count": 25,
     "metadata": {},
     "output_type": "execute_result"
    }
   ],
   "source": [
    "# Remove rows where the EndRequestedDate is before 2020 \n",
    "df_final = df_final[df_final.EndYear >= 2020]\n",
    "\n",
    "# Remove rows where the EndRequestedDate is after 2023\n",
    "df_final = df_final[df_final.EndYear <= 2023]\n",
    "df_final.shape"
   ]
  },
  {
   "cell_type": "code",
   "execution_count": 26,
   "metadata": {},
   "outputs": [
    {
     "data": {
      "text/html": [
       "<div>\n",
       "<style scoped>\n",
       "    .dataframe tbody tr th:only-of-type {\n",
       "        vertical-align: middle;\n",
       "    }\n",
       "\n",
       "    .dataframe tbody tr th {\n",
       "        vertical-align: top;\n",
       "    }\n",
       "\n",
       "    .dataframe thead th {\n",
       "        text-align: right;\n",
       "    }\n",
       "</style>\n",
       "<table border=\"1\" class=\"dataframe\">\n",
       "  <thead>\n",
       "    <tr style=\"text-align: right;\">\n",
       "      <th></th>\n",
       "      <th>BookingId</th>\n",
       "      <th>SubBookingName</th>\n",
       "      <th>FromLocation</th>\n",
       "      <th>ToLocation</th>\n",
       "      <th>StartRequestedDate</th>\n",
       "      <th>EndRequestedDate</th>\n",
       "      <th>GrossWeight</th>\n",
       "      <th>Temperature</th>\n",
       "      <th>FromLatitude</th>\n",
       "      <th>FromLongtitude</th>\n",
       "      <th>FromCity</th>\n",
       "      <th>FromCountry</th>\n",
       "      <th>ToLatitude</th>\n",
       "      <th>ToLongtitude</th>\n",
       "      <th>ToCity</th>\n",
       "      <th>ToCountry</th>\n",
       "      <th>FullLoadIndicator</th>\n",
       "      <th>EmptyBookingIndicator</th>\n",
       "      <th>Customer Name</th>\n",
       "      <th>StartYear</th>\n",
       "      <th>EndYear</th>\n",
       "    </tr>\n",
       "  </thead>\n",
       "  <tbody>\n",
       "    <tr>\n",
       "      <th>1011</th>\n",
       "      <td>7400270</td>\n",
       "      <td>A</td>\n",
       "      <td>9225</td>\n",
       "      <td>21110</td>\n",
       "      <td>2020-12-31</td>\n",
       "      <td>2021-01-01</td>\n",
       "      <td>1.0</td>\n",
       "      <td>NaN</td>\n",
       "      <td>57.12226</td>\n",
       "      <td>-2.08894</td>\n",
       "      <td>Aberdeen</td>\n",
       "      <td>United Kingdom</td>\n",
       "      <td>55.72639</td>\n",
       "      <td>-3.95987</td>\n",
       "      <td>Larkhall</td>\n",
       "      <td>United Kingdom</td>\n",
       "      <td>Y</td>\n",
       "      <td>N</td>\n",
       "      <td>DFDS LOGISTICS LIMITED</td>\n",
       "      <td>2020.0</td>\n",
       "      <td>2021.0</td>\n",
       "    </tr>\n",
       "    <tr>\n",
       "      <th>1012</th>\n",
       "      <td>7400271</td>\n",
       "      <td>A</td>\n",
       "      <td>8661</td>\n",
       "      <td>21110</td>\n",
       "      <td>2020-12-31</td>\n",
       "      <td>2021-01-01</td>\n",
       "      <td>1.0</td>\n",
       "      <td>NaN</td>\n",
       "      <td>55.81563</td>\n",
       "      <td>-4.06952</td>\n",
       "      <td>UDDINGSTON</td>\n",
       "      <td>United Kingdom</td>\n",
       "      <td>55.72639</td>\n",
       "      <td>-3.95987</td>\n",
       "      <td>Larkhall</td>\n",
       "      <td>United Kingdom</td>\n",
       "      <td>Y</td>\n",
       "      <td>N</td>\n",
       "      <td>DFDS LOGISTICS LIMITED</td>\n",
       "      <td>2020.0</td>\n",
       "      <td>2021.0</td>\n",
       "    </tr>\n",
       "    <tr>\n",
       "      <th>1015</th>\n",
       "      <td>7400273</td>\n",
       "      <td>A</td>\n",
       "      <td>9343</td>\n",
       "      <td>21110</td>\n",
       "      <td>2020-12-31</td>\n",
       "      <td>2021-01-01</td>\n",
       "      <td>1.0</td>\n",
       "      <td>NaN</td>\n",
       "      <td>53.57513</td>\n",
       "      <td>-0.11671</td>\n",
       "      <td>GRIMSBY</td>\n",
       "      <td>United Kingdom</td>\n",
       "      <td>55.72639</td>\n",
       "      <td>-3.95987</td>\n",
       "      <td>Larkhall</td>\n",
       "      <td>United Kingdom</td>\n",
       "      <td>Y</td>\n",
       "      <td>N</td>\n",
       "      <td>DFDS LOGISTICS LIMITED</td>\n",
       "      <td>2020.0</td>\n",
       "      <td>2021.0</td>\n",
       "    </tr>\n",
       "    <tr>\n",
       "      <th>1017</th>\n",
       "      <td>7400275</td>\n",
       "      <td>A</td>\n",
       "      <td>12331</td>\n",
       "      <td>31337</td>\n",
       "      <td>2020-01-02</td>\n",
       "      <td>2021-01-03</td>\n",
       "      <td>1.0</td>\n",
       "      <td>NaN</td>\n",
       "      <td>55.77058</td>\n",
       "      <td>-2.33837</td>\n",
       "      <td>DUNS</td>\n",
       "      <td>United Kingdom</td>\n",
       "      <td>55.82770</td>\n",
       "      <td>-3.98129</td>\n",
       "      <td>NORTH LANARKSHIRE</td>\n",
       "      <td>United Kingdom</td>\n",
       "      <td>Y</td>\n",
       "      <td>N</td>\n",
       "      <td>DFDS LOGISTICS LIMITED</td>\n",
       "      <td>2020.0</td>\n",
       "      <td>2021.0</td>\n",
       "    </tr>\n",
       "    <tr>\n",
       "      <th>1449</th>\n",
       "      <td>7400530</td>\n",
       "      <td>A</td>\n",
       "      <td>17858</td>\n",
       "      <td>56428</td>\n",
       "      <td>2020-12-31</td>\n",
       "      <td>2021-01-05</td>\n",
       "      <td>21500.0</td>\n",
       "      <td>NaN</td>\n",
       "      <td>45.75822</td>\n",
       "      <td>12.81087</td>\n",
       "      <td>Portogruaro</td>\n",
       "      <td>Italy</td>\n",
       "      <td>57.68486</td>\n",
       "      <td>12.22925</td>\n",
       "      <td>Landvetter</td>\n",
       "      <td>Sweden</td>\n",
       "      <td>Y</td>\n",
       "      <td>N</td>\n",
       "      <td>FERCAM AUSTRIA GMBH</td>\n",
       "      <td>2020.0</td>\n",
       "      <td>2021.0</td>\n",
       "    </tr>\n",
       "  </tbody>\n",
       "</table>\n",
       "</div>"
      ],
      "text/plain": [
       "      BookingId SubBookingName  FromLocation  ToLocation StartRequestedDate  \\\n",
       "1011    7400270              A          9225       21110         2020-12-31   \n",
       "1012    7400271              A          8661       21110         2020-12-31   \n",
       "1015    7400273              A          9343       21110         2020-12-31   \n",
       "1017    7400275              A         12331       31337         2020-01-02   \n",
       "1449    7400530              A         17858       56428         2020-12-31   \n",
       "\n",
       "     EndRequestedDate  GrossWeight  Temperature  FromLatitude  FromLongtitude  \\\n",
       "1011       2021-01-01          1.0          NaN      57.12226        -2.08894   \n",
       "1012       2021-01-01          1.0          NaN      55.81563        -4.06952   \n",
       "1015       2021-01-01          1.0          NaN      53.57513        -0.11671   \n",
       "1017       2021-01-03          1.0          NaN      55.77058        -2.33837   \n",
       "1449       2021-01-05      21500.0          NaN      45.75822        12.81087   \n",
       "\n",
       "         FromCity     FromCountry  ToLatitude  ToLongtitude  \\\n",
       "1011     Aberdeen  United Kingdom    55.72639      -3.95987   \n",
       "1012   UDDINGSTON  United Kingdom    55.72639      -3.95987   \n",
       "1015      GRIMSBY  United Kingdom    55.72639      -3.95987   \n",
       "1017         DUNS  United Kingdom    55.82770      -3.98129   \n",
       "1449  Portogruaro           Italy    57.68486      12.22925   \n",
       "\n",
       "                 ToCity       ToCountry FullLoadIndicator  \\\n",
       "1011           Larkhall  United Kingdom                 Y   \n",
       "1012           Larkhall  United Kingdom                 Y   \n",
       "1015           Larkhall  United Kingdom                 Y   \n",
       "1017  NORTH LANARKSHIRE  United Kingdom                 Y   \n",
       "1449         Landvetter          Sweden                 Y   \n",
       "\n",
       "     EmptyBookingIndicator           Customer Name  StartYear  EndYear  \n",
       "1011                     N  DFDS LOGISTICS LIMITED     2020.0   2021.0  \n",
       "1012                     N  DFDS LOGISTICS LIMITED     2020.0   2021.0  \n",
       "1015                     N  DFDS LOGISTICS LIMITED     2020.0   2021.0  \n",
       "1017                     N  DFDS LOGISTICS LIMITED     2020.0   2021.0  \n",
       "1449                     N     FERCAM AUSTRIA GMBH     2020.0   2021.0  "
      ]
     },
     "execution_count": 26,
     "metadata": {},
     "output_type": "execute_result"
    }
   ],
   "source": [
    "# when the StartYear and EndYear differ (18750 entries), it is mostly because of StartDate = 31.12., EndDate = 1.1. \n",
    "# --> Keep those observations \n",
    "\n",
    "diff = df_final[df_final.StartYear != df_final.EndYear]\n",
    "diff.head()"
   ]
  },
  {
   "cell_type": "code",
   "execution_count": 27,
   "metadata": {},
   "outputs": [],
   "source": [
    "# Remove the columns created before, as not necessary anymore\n",
    "cols = ['StartYear','EndYear']\n",
    "df_final = df_final.drop(cols, axis = 1)"
   ]
  },
  {
   "cell_type": "code",
   "execution_count": 28,
   "metadata": {},
   "outputs": [],
   "source": [
    "#by looking at dataset info it results that for features joined from the 1st dataset there are multiple NaNs --> using one of these features ['Customer Name'] to understand what time periods are not covered by the 1st dataset\n",
    "\n",
    "missing_df_info = df_final[df_final['Customer Name'].isna()]"
   ]
  },
  {
   "cell_type": "code",
   "execution_count": 29,
   "metadata": {},
   "outputs": [
    {
     "name": "stderr",
     "output_type": "stream",
     "text": [
      "/var/folders/c8/h2cp_4sd6dv_l0f506nl_kg00000gn/T/ipykernel_6060/1263935299.py:2: SettingWithCopyWarning: \n",
      "A value is trying to be set on a copy of a slice from a DataFrame.\n",
      "Try using .loc[row_indexer,col_indexer] = value instead\n",
      "\n",
      "See the caveats in the documentation: https://pandas.pydata.org/pandas-docs/stable/user_guide/indexing.html#returning-a-view-versus-a-copy\n",
      "  missing_df_info['StartRequestedDate'] = pd.to_datetime(missing_df_info['StartRequestedDate'])\n",
      "/var/folders/c8/h2cp_4sd6dv_l0f506nl_kg00000gn/T/ipykernel_6060/1263935299.py:3: SettingWithCopyWarning: \n",
      "A value is trying to be set on a copy of a slice from a DataFrame.\n",
      "Try using .loc[row_indexer,col_indexer] = value instead\n",
      "\n",
      "See the caveats in the documentation: https://pandas.pydata.org/pandas-docs/stable/user_guide/indexing.html#returning-a-view-versus-a-copy\n",
      "  missing_df_info['EndRequestedDate'] = pd.to_datetime(missing_df_info['EndRequestedDate'])\n"
     ]
    }
   ],
   "source": [
    "#ensuring that dates are in the appropriate format\n",
    "missing_df_info['StartRequestedDate'] = pd.to_datetime(missing_df_info['StartRequestedDate'])\n",
    "missing_df_info['EndRequestedDate'] = pd.to_datetime(missing_df_info['EndRequestedDate'])"
   ]
  },
  {
   "cell_type": "code",
   "execution_count": 30,
   "metadata": {},
   "outputs": [],
   "source": [
    "#creating a csv file to eventually retrieve data for the missing period and remove Nan\n",
    "\n",
    "dates_to_add_og=missing_df_info.EndRequestedDate.value_counts()\n",
    "#dates_to_add_og.to_csv('dates_missing.csv')"
   ]
  },
  {
   "cell_type": "code",
   "execution_count": 31,
   "metadata": {},
   "outputs": [
    {
     "name": "stdout",
     "output_type": "stream",
     "text": [
      "Time range: 2020-01-07 00:00:00 - 2023-12-15 00:00:00\n"
     ]
    }
   ],
   "source": [
    "# Looking at time range of missing values --> fairly useless as both upper and lower bound \n",
    "# are false data (with 1907 & 2202 as years)\n",
    "earliest_missing = missing_df_info['EndRequestedDate'].min()\n",
    "latest_missing = missing_df_info['EndRequestedDate'].max()\n",
    "\n",
    "# print the time range\n",
    "print(\"Time range: {} - {}\".format(earliest_missing, latest_missing))\n",
    "#Time range: 2020-01-07 00:00:00 - 2023-12-15 00:00:00"
   ]
  },
  {
   "cell_type": "code",
   "execution_count": 32,
   "metadata": {},
   "outputs": [
    {
     "data": {
      "image/png": "[encoded data removed]",
      "text/plain": [
       "<Figure size 1500x750 with 1 Axes>"
      ]
     },
     "metadata": {},
     "output_type": "display_data"
    }
   ],
   "source": [
    "# Plotting WEEKLY number of deliveries\n",
    "weekly_deliveries = df_final.groupby(pd.Grouper(key = 'StartRequestedDate', freq = 'W')).count()\n",
    "\n",
    "# Setting figure size\n",
    "fig = plt.figure(figsize = (15, 7.5))\n",
    "\n",
    "# Plot the number of deliveries over time\n",
    "plt.plot(weekly_deliveries.index, weekly_deliveries['BookingId'], label = 'Deliveries')\n",
    "\n",
    "# Add axis labels and a title\n",
    "plt.xlabel('Time')\n",
    "plt.xlim(pd.Timestamp('2021-01-01'), pd.Timestamp('2023-03-01'), None)\n",
    "plt.ylabel('Number of deliveries')\n",
    "plt.title('Weekly deliveries over time')\n",
    "\n",
    "# Show the plot\n",
    "plt.show()"
   ]
  },
  {
   "cell_type": "markdown",
   "metadata": {},
   "source": [
    "_Note_:   \n",
    "- The dips at the beginning of 2021, 2022 and 2023 are due to low activity surrounding end/beginning of year and nothing to worry about for now   \n",
    "- The sudden rise in 10/2022 is due to DDFS acquiring another company in 2020/2021; it seems like the operations of this new part of DFDS have only been fed into the data systems around the end of 2022"
   ]
  },
  {
   "cell_type": "code",
   "execution_count": null,
   "metadata": {},
   "outputs": [],
   "source": [
    "# Plotting DAILY number of deliveries \n",
    "daily_deliveries = df_final.groupby(pd.Grouper(key = 'StartRequestedDate', freq = 'D')).count()\n",
    "\n",
    "# Setting figure size\n",
    "fig = plt.figure(figsize=(25, 5))\n",
    "\n",
    "# Plot the number of deliveries over time\n",
    "plt.plot(daily_deliveries.index, daily_deliveries['BookingId'], label = 'Deliveries')\n",
    "\n",
    "# Add axis labels and a title\n",
    "plt.xlabel('Time')\n",
    "plt.xlim(pd.Timestamp('2021-01-01'), pd.Timestamp('2023-03-01'), None)\n",
    "plt.ylabel('Number of deliveries')\n",
    "plt.title('Daily deliveries over time')\n",
    "\n",
    "# Show the plot\n",
    "plt.show()"
   ]
  },
  {
   "cell_type": "code",
   "execution_count": 33,
   "metadata": {},
   "outputs": [
    {
     "name": "stdout",
     "output_type": "stream",
     "text": [
      "2022981\n"
     ]
    }
   ],
   "source": [
    "# \"EndRequestedDate\" Should look similar as the distribution of 'StartRequestedDate', but we'll check: \n",
    "\n",
    "same_date = df_final['StartRequestedDate'] == df_final['EndRequestedDate']\n",
    "\n",
    "# Print the number of unique dates where delivery was planned and actually executed the same day\n",
    "\n",
    "print(same_date.sum()) #2m deliveries are being picked up at the date they are supposed to "
   ]
  },
  {
   "cell_type": "code",
   "execution_count": 34,
   "metadata": {},
   "outputs": [
    {
     "data": {
      "image/png": "[encoded data removed]",
      "text/plain": [
       "<Figure size 1500x750 with 1 Axes>"
      ]
     },
     "metadata": {},
     "output_type": "display_data"
    }
   ],
   "source": [
    "# Now checking if this is also visible in a graph\n",
    "\n",
    "# Plotting WEEKLY number of deliveries\n",
    "weekly_deliveries_planned = df_final.groupby(pd.Grouper(key = 'StartRequestedDate', freq = 'W')).count()\n",
    "weekly_deliveries_actual = df_final.groupby(pd.Grouper(key = 'EndRequestedDate', freq = 'W')).count()\n",
    "\n",
    "# Setting figure size\n",
    "fig = plt.figure(figsize=(15, 7.5))\n",
    "\n",
    "# Plot the number of deliveries over time\n",
    "plt.plot(weekly_deliveries_planned.index, weekly_deliveries_planned['BookingId'], label = 'Planned Deliveries')\n",
    "plt.plot(weekly_deliveries_actual.index, weekly_deliveries_actual['BookingId'], label = 'Actual Deliveries')\n",
    "\n",
    "# Add axis labels and a title\n",
    "plt.xlabel('Time')\n",
    "plt.xlim(pd.Timestamp('2021-01-01'), pd.Timestamp('2023-03-01'), None)\n",
    "plt.ylabel('Number of deliveries')\n",
    "plt.title('Planned vs. Actual Weekly deliveries over time')\n",
    "\n",
    "# Show the plot\n",
    "plt.show()"
   ]
  },
  {
   "cell_type": "markdown",
   "metadata": {},
   "source": [
    "4.7) \"GrossWeight\""
   ]
  },
  {
   "cell_type": "code",
   "execution_count": 47,
   "metadata": {},
   "outputs": [
    {
     "data": {
      "text/plain": [
       "count    4.992586e+06\n",
       "mean     5.447181e+03\n",
       "std      4.502304e+05\n",
       "min      0.000000e+00\n",
       "25%      7.683000e+01\n",
       "50%      5.782800e+02\n",
       "75%      5.000000e+03\n",
       "max      1.000024e+09\n",
       "Name: GrossWeight, dtype: float64"
      ]
     },
     "execution_count": 47,
     "metadata": {},
     "output_type": "execute_result"
    }
   ],
   "source": [
    "# = Weight of the delivery\n",
    "\n",
    "df_final['GrossWeight'].describe()\n",
    "\n",
    "# -> The distribution is extremely skewed by an unreasonably high maximum value"
   ]
  },
  {
   "cell_type": "markdown",
   "metadata": {},
   "source": [
    "Mean = 5447 kg, Min. = 0 kg, Max. = 1 bn kg (??)"
   ]
  },
  {
   "cell_type": "code",
   "execution_count": 48,
   "metadata": {},
   "outputs": [
    {
     "data": {
      "text/plain": [
       "0.00        490055\n",
       "1.00        174846\n",
       "24000.00     42680\n",
       "20000.00     37648\n",
       "25000.00     32723\n",
       "             ...  \n",
       "973.55           1\n",
       "8725.40          1\n",
       "2516.85          1\n",
       "3895.02          1\n",
       "719.65           1\n",
       "Name: GrossWeight, Length: 333343, dtype: int64"
      ]
     },
     "execution_count": 48,
     "metadata": {},
     "output_type": "execute_result"
    }
   ],
   "source": [
    "# ~10% of the values is 0: \n",
    "\n",
    "df_final['GrossWeight'].value_counts()"
   ]
  },
  {
   "cell_type": "code",
   "execution_count": 49,
   "metadata": {},
   "outputs": [
    {
     "name": "stdout",
     "output_type": "stream",
     "text": [
      "Percentage of deliveries with weight 0: 9.82%\n"
     ]
    }
   ],
   "source": [
    "# Calculate the percentage of deliveries with a weight of 0\n",
    "\n",
    "num_zero_weight_deliveries = (df_final[\"GrossWeight\"] == 0).sum()\n",
    "total_deliveries = len(df_final)\n",
    "percentage_zero_weight_deliveries = num_zero_weight_deliveries / total_deliveries * 100\n",
    "\n",
    "# Print the percentage of deliveries with a weight of 0\n",
    "print(\"Percentage of deliveries with weight 0: {:.2f}%\".format(percentage_zero_weight_deliveries))"
   ]
  },
  {
   "cell_type": "markdown",
   "metadata": {},
   "source": [
    "_Note_:   \n",
    "- Can we assume here that 9.82% of the deliveries are empty deliveries, so most likely empty trucks that are being relocated/\"returning to home base\"? "
   ]
  },
  {
   "cell_type": "code",
   "execution_count": 50,
   "metadata": {},
   "outputs": [
    {
     "data": {
      "image/png": "[encoded data removed]",
      "text/plain": [
       "<Figure size 432x288 with 1 Axes>"
      ]
     },
     "metadata": {
      "needs_background": "light"
     },
     "output_type": "display_data"
    }
   ],
   "source": [
    "# Based on the previous findings, we plot the 'GrossWeight' distribution, excluding values >50,000\n",
    "\n",
    "# Create a subset of the data \n",
    "subset = df_final[(df_final['GrossWeight'] < 50000)]\n",
    "\n",
    "# Plot the histogram for GrossWeight feature\n",
    "plt.hist(subset['GrossWeight'], bins = 100)\n",
    "plt.xlabel('GrossWeight')\n",
    "plt.ylabel('Frequency')\n",
    "plt.title('Distribution of GrossWeight (without outliers)')\n",
    "plt.show()\n",
    "\n",
    "# Still skewed but maybe good enough"
   ]
  },
  {
   "cell_type": "markdown",
   "metadata": {},
   "source": [
    "4.8) \"Temperature\""
   ]
  },
  {
   "cell_type": "code",
   "execution_count": 51,
   "metadata": {},
   "outputs": [
    {
     "data": {
      "text/plain": [
       "81.41464163060986"
      ]
     },
     "execution_count": 51,
     "metadata": {},
     "output_type": "execute_result"
    }
   ],
   "source": [
    "# = Temperature of the delivery;\n",
    "# -> 81.1% missing values, so careful with analyses\n",
    "\n",
    "df_final['Temperature'].isna().sum() / len(df_final) * 100 "
   ]
  },
  {
   "cell_type": "code",
   "execution_count": 52,
   "metadata": {},
   "outputs": [
    {
     "data": {
      "text/plain": [
       "count    927890.000000\n",
       "mean         -7.597398\n",
       "std          15.614036\n",
       "min         -40.000000\n",
       "25%         -22.000000\n",
       "50%          -5.000000\n",
       "75%           0.000000\n",
       "max          99.000000\n",
       "Name: Temperature, dtype: float64"
      ]
     },
     "execution_count": 52,
     "metadata": {},
     "output_type": "execute_result"
    }
   ],
   "source": [
    "df_final['Temperature'].describe()"
   ]
  },
  {
   "cell_type": "code",
   "execution_count": 53,
   "metadata": {},
   "outputs": [
    {
     "data": {
      "image/png": "[encoded data removed]",
      "text/plain": [
       "<Figure size 432x288 with 1 Axes>"
      ]
     },
     "metadata": {
      "needs_background": "light"
     },
     "output_type": "display_data"
    }
   ],
   "source": [
    "plt.hist(df_final['Temperature'], bins=100)\n",
    "plt.xlabel('Temperature')\n",
    "plt.ylabel('Frequency')\n",
    "plt.title('Distribution of Temperature')\n",
    "plt.show()"
   ]
  },
  {
   "cell_type": "markdown",
   "metadata": {},
   "source": [
    "**Note:**\n",
    "\n",
    "There are two types of transports: Warm and cold. These have to be differentiated as cold transports have less reach. \n",
    "Find the creation of a new variable for frozen loads in \"Feature Engineering\" part below. "
   ]
  },
  {
   "cell_type": "markdown",
   "metadata": {},
   "source": [
    "4.9) \"FromLatitude\" and 4.10) \"FromLongtitude\" "
   ]
  },
  {
   "cell_type": "code",
   "execution_count": 54,
   "metadata": {},
   "outputs": [],
   "source": [
    "# = Information about the latitude and longitude points where a booking/delivery departs from \n",
    "\n",
    "# No analyses in here; see geographical visualization in Tableau\n",
    "# Will be used to calculate distances below in feature engineering part"
   ]
  },
  {
   "cell_type": "code",
   "execution_count": 35,
   "metadata": {},
   "outputs": [],
   "source": [
    "# Rename longitude column to vanish typo: \n",
    "df_final.rename(columns = {\"FromLongtitude\": \"FromLongitude\"}, inplace = True)"
   ]
  },
  {
   "cell_type": "markdown",
   "metadata": {},
   "source": [
    "4.11) \"FromCity\""
   ]
  },
  {
   "cell_type": "code",
   "execution_count": 63,
   "metadata": {},
   "outputs": [],
   "source": [
    "# = City where a booking/delivery departs from \n",
    "\n",
    "# Irrelevant for analysis for now"
   ]
  },
  {
   "cell_type": "markdown",
   "metadata": {},
   "source": [
    "4.12) \"FromCountry\""
   ]
  },
  {
   "cell_type": "code",
   "execution_count": 64,
   "metadata": {},
   "outputs": [
    {
     "data": {
      "text/plain": [
       "88101"
      ]
     },
     "execution_count": 64,
     "metadata": {},
     "output_type": "execute_result"
    }
   ],
   "source": [
    "# = Country where a booking/delivery departs from \n",
    "\n",
    "# There are quite some missing values in this variable due to the merge. \n",
    "\n",
    "df_final[\"FromCountry\"].isna().sum()"
   ]
  },
  {
   "cell_type": "code",
   "execution_count": 36,
   "metadata": {},
   "outputs": [],
   "source": [
    "# Let's fill the gaps by reverse geocoding and get countries via the coordinates. \n",
    "\n",
    "# Define a function to get the country from the latitude and longitude columns\n",
    "\n",
    "def get_from_country(row):\n",
    "    if pd.isnull(row['FromCountry']):\n",
    "        coordinates = (row['FromLatitude'], row['FromLongitude']), (0, 0)\n",
    "        address = reverse_geocode.search(coordinates)[0]\n",
    "        return address['country']\n",
    "    else:\n",
    "        return row['FromCountry']"
   ]
  },
  {
   "cell_type": "code",
   "execution_count": 37,
   "metadata": {},
   "outputs": [],
   "source": [
    "# Apply the function\n",
    "\n",
    "df_final['FromCountry'] = df_final.apply(get_from_country, axis = 1)"
   ]
  },
  {
   "cell_type": "code",
   "execution_count": 38,
   "metadata": {},
   "outputs": [
    {
     "data": {
      "text/plain": [
       "0"
      ]
     },
     "execution_count": 38,
     "metadata": {},
     "output_type": "execute_result"
    }
   ],
   "source": [
    "# Check again for missing values\n",
    "\n",
    "df_final[\"FromCountry\"].isna().sum()"
   ]
  },
  {
   "cell_type": "code",
   "execution_count": 39,
   "metadata": {},
   "outputs": [
    {
     "data": {
      "image/png": "[encoded data removed]",
      "text/plain": [
       "<Figure size 300x300 with 1 Axes>"
      ]
     },
     "metadata": {},
     "output_type": "display_data"
    }
   ],
   "source": [
    "# Now let's visualize the variable\n",
    "\n",
    "from_country = df_final['FromCountry'].value_counts()\n",
    "\n",
    "from_country.plot(kind = 'pie', \n",
    "                  figsize = (3, 3), \n",
    "                  autopct = '%1.1f%%', \n",
    "                  startangle = 90,\n",
    "                  pctdistance = 0.8,\n",
    "                  labeldistance = 1.1)\n",
    "\n",
    "plt.axis('equal')\n",
    "plt.title('Freight Collection Distribution by Country')\n",
    "plt.show()"
   ]
  },
  {
   "cell_type": "markdown",
   "metadata": {},
   "source": [
    "4.13) \"ToLatitude\" and 4.14) \"ToLongtitude\""
   ]
  },
  {
   "cell_type": "code",
   "execution_count": 49,
   "metadata": {},
   "outputs": [],
   "source": [
    "# = Information about the latitude and longitude point where a booking/delivery is headed\n",
    "\n",
    "# No analyses in here; see geographical visualization in Tableau\n",
    "# Will be used to calculate distances below in feature engineering part"
   ]
  },
  {
   "cell_type": "code",
   "execution_count": 40,
   "metadata": {},
   "outputs": [],
   "source": [
    "# Rename longitude column to vanish typo: \n",
    "df_final.rename(columns = {\"ToLongtitude\": \"ToLongitude\"}, inplace = True)"
   ]
  },
  {
   "cell_type": "code",
   "execution_count": 41,
   "metadata": {},
   "outputs": [],
   "source": [
    "# Removing rows with latitude and longitude = 0.00 (due to human error) \n",
    "# --> because that corresponds to NullIsland and so the returned country = Ghana\n",
    "\n",
    "df_final = df_final[df_final.FromLongitude != 0.000000]\n",
    "df_final = df_final[df_final.ToLongitude != 0.000000]"
   ]
  },
  {
   "cell_type": "markdown",
   "metadata": {},
   "source": [
    "4.15) \"ToCity\""
   ]
  },
  {
   "cell_type": "code",
   "execution_count": 52,
   "metadata": {},
   "outputs": [],
   "source": [
    "# = City where a booking/delivery is headed\n",
    "\n",
    "# No deep dive needed for now"
   ]
  },
  {
   "cell_type": "markdown",
   "metadata": {},
   "source": [
    "4.16) \"ToCountry\""
   ]
  },
  {
   "cell_type": "code",
   "execution_count": 42,
   "metadata": {},
   "outputs": [
    {
     "data": {
      "text/plain": [
       "54190"
      ]
     },
     "execution_count": 42,
     "metadata": {},
     "output_type": "execute_result"
    }
   ],
   "source": [
    "# = Country where a booking/delivery is headed\n",
    "\n",
    "# There are quite some missing values in this variable due to the merge. \n",
    "\n",
    "df_final[\"ToCountry\"].isna().sum()"
   ]
  },
  {
   "cell_type": "code",
   "execution_count": 43,
   "metadata": {},
   "outputs": [],
   "source": [
    "# Let's fill the gaps by reverse geocoding and get countries via the coordinates. \n",
    "\n",
    "# Define a function to get the country from the latitude and longitude columns\n",
    "def get_to_country(row):\n",
    "    if pd.isnull(row['ToCountry']):\n",
    "        coordinates = (row['ToLatitude'], row['ToLongitude']), (0, 0)\n",
    "        address=reverse_geocode.search(coordinates)[0]\n",
    "        return address['country']\n",
    "    else:\n",
    "        return row['ToCountry']"
   ]
  },
  {
   "cell_type": "code",
   "execution_count": 44,
   "metadata": {},
   "outputs": [],
   "source": [
    "# Applying the Function\n",
    "df_final['ToCountry'] = df_final.apply(get_to_country, axis=1)"
   ]
  },
  {
   "cell_type": "code",
   "execution_count": 46,
   "metadata": {},
   "outputs": [
    {
     "data": {
      "text/plain": [
       "0"
      ]
     },
     "execution_count": 46,
     "metadata": {},
     "output_type": "execute_result"
    }
   ],
   "source": [
    "# Check again for missing values\n",
    "df_final[\"ToCountry\"].isna().sum()"
   ]
  },
  {
   "cell_type": "code",
   "execution_count": 47,
   "metadata": {},
   "outputs": [
    {
     "data": {
      "image/png": "[encoded data removed]",
      "text/plain": [
       "<Figure size 300x300 with 1 Axes>"
      ]
     },
     "metadata": {},
     "output_type": "display_data"
    }
   ],
   "source": [
    "# Now let's visualize the variable\n",
    "\n",
    "to_country = df_final['ToCountry'].value_counts()\n",
    "\n",
    "to_country.plot(kind = 'pie', \n",
    "                  figsize = (3, 3), \n",
    "                  autopct = '%1.1f%%', \n",
    "                  startangle = 90,\n",
    "                  pctdistance = 0.8,\n",
    "                  labeldistance = 1.1)\n",
    "\n",
    "plt.axis('equal')\n",
    "plt.title('Freight Delivery Distribution by Country')\n",
    "plt.show()"
   ]
  },
  {
   "cell_type": "markdown",
   "metadata": {},
   "source": [
    "4.17) \"FullLoadIndicator\""
   ]
  },
  {
   "cell_type": "code",
   "execution_count": 48,
   "metadata": {},
   "outputs": [
    {
     "name": "stdout",
     "output_type": "stream",
     "text": [
      "Nan: 584367\n"
     ]
    },
    {
     "data": {
      "text/plain": [
       "Y    2515263\n",
       "N    1873974\n",
       "Name: FullLoadIndicator, dtype: int64"
      ]
     },
     "execution_count": 48,
     "metadata": {},
     "output_type": "execute_result"
    }
   ],
   "source": [
    "# = Indicates whether a load was \"full\"\n",
    "\n",
    "# Checking loads counts\n",
    "\n",
    "print('Nan:',df_final.FullLoadIndicator.isna().sum())\n",
    "df_final.FullLoadIndicator.value_counts()"
   ]
  },
  {
   "cell_type": "code",
   "execution_count": 49,
   "metadata": {},
   "outputs": [],
   "source": [
    "# Binary encoding \"FullLoadIndicator\" from Y/N to 1/0\n",
    "\n",
    "labelencoder = preprocessing.LabelEncoder()\n",
    "\n",
    "df_final[\"FullLoadIndicator\"] = df_final[\"FullLoadIndicator\"].astype(str)\n",
    "df_final[\"FullLoadIndicator\"] = df_final[\"FullLoadIndicator\"].map({'Y': 1, 'N': 0})"
   ]
  },
  {
   "cell_type": "code",
   "execution_count": 50,
   "metadata": {},
   "outputs": [
    {
     "data": {
      "image/png": "[encoded data removed]",
      "text/plain": [
       "<Figure size 200x200 with 1 Axes>"
      ]
     },
     "metadata": {},
     "output_type": "display_data"
    }
   ],
   "source": [
    "full_loads = df_final['FullLoadIndicator'].value_counts()\n",
    "\n",
    "full_loads.plot(kind = 'pie', \n",
    "                            figsize = (2, 2), \n",
    "                            autopct = '%1.1f%%', \n",
    "                            startangle = 90,\n",
    "                            pctdistance = 0.8,\n",
    "                            labeldistance = 1.1)\n",
    "\n",
    "plt.axis('equal')\n",
    "plt.title('Share of Full Loads')\n",
    "plt.show()"
   ]
  },
  {
   "cell_type": "markdown",
   "metadata": {},
   "source": [
    "4.18) \"EmptyBookingIndicator\""
   ]
  },
  {
   "cell_type": "code",
   "execution_count": 57,
   "metadata": {},
   "outputs": [
    {
     "data": {
      "text/plain": [
       "N    4389237\n",
       "Name: EmptyBookingIndicator, dtype: int64"
      ]
     },
     "execution_count": 57,
     "metadata": {},
     "output_type": "execute_result"
    }
   ],
   "source": [
    "df_final['EmptyBookingIndicator'].value_counts()"
   ]
  },
  {
   "cell_type": "code",
   "execution_count": 51,
   "metadata": {},
   "outputs": [],
   "source": [
    "# Binary encoding \"EmptyBookingIndicator\" from Y/N to 1/0\n",
    "\n",
    "labelencoder = preprocessing.LabelEncoder()\n",
    "\n",
    "df_final[\"EmptyBookingIndicator\"] = df_final[\"EmptyBookingIndicator\"].astype(str)\n",
    "df_final[\"EmptyBookingIndicator\"] = df_final[\"EmptyBookingIndicator\"].map({'Y': 1, 'N': 0})"
   ]
  },
  {
   "cell_type": "code",
   "execution_count": 59,
   "metadata": {},
   "outputs": [
    {
     "data": {
      "image/png": "[encoded data removed]",
      "text/plain": [
       "<Figure size 400x400 with 1 Axes>"
      ]
     },
     "metadata": {},
     "output_type": "display_data"
    }
   ],
   "source": [
    "# = Gives information about \"empty loads\"; mostly trucks heading back to DFDS entities after a delivery\n",
    "\n",
    "empty_booking = df_final['EmptyBookingIndicator'].value_counts()\n",
    "\n",
    "empty_booking.plot(kind = 'pie', \n",
    "                            figsize = (4, 4), \n",
    "                            autopct = '%1.1f%%', \n",
    "                            startangle = 90,\n",
    "                            pctdistance = 0.8,\n",
    "                            labeldistance = 1.1)\n",
    "\n",
    "plt.axis('equal')\n",
    "plt.title('Empty vs. non-Empty Bookings')\n",
    "plt.show()\n",
    "\n",
    "# No empty bookings in new dataset?"
   ]
  },
  {
   "cell_type": "code",
   "execution_count": 60,
   "metadata": {},
   "outputs": [
    {
     "data": {
      "text/plain": [
       "584367"
      ]
     },
     "execution_count": 60,
     "metadata": {},
     "output_type": "execute_result"
    }
   ],
   "source": [
    "# From Per's email:you can now guess if it is a full load (at least in the sense of being one truck doing a single collection and a single delivery), \n",
    "# Simply by counting the number of subbokings. E.g. if only one exists, it is full load.\n",
    "no_load_info = df_final[df_final['EmptyBookingIndicator'].isna()]\n",
    "len(no_load_info)"
   ]
  },
  {
   "cell_type": "code",
   "execution_count": null,
   "metadata": {},
   "outputs": [],
   "source": [
    "no_load_info.BookingId.value_counts()"
   ]
  },
  {
   "cell_type": "code",
   "execution_count": null,
   "metadata": {},
   "outputs": [],
   "source": [
    "v = no_load_info.BookingId.value_counts()"
   ]
  },
  {
   "cell_type": "code",
   "execution_count": null,
   "metadata": {},
   "outputs": [],
   "source": [
    "# These are the bookings without load indication appearing multiple times -->if we follow Per's suggestions, these should be NOT FULL LOAD \n",
    "# The remaining of 'no_load_info' df should be set as FULL LOAD\n",
    "\n",
    "booking_multiple_lag = no_load_info[no_load_info.BookingId.isin(v.index[v.gt(1)])]\n",
    "booking_multiple_lag.shape"
   ]
  },
  {
   "cell_type": "code",
   "execution_count": null,
   "metadata": {},
   "outputs": [],
   "source": [
    "# Seems like all empty trips are not taken into account in the newest database \n",
    "# --> should we add these bookings from the og dataset or focus only on non-empty loads? \n",
    "\n",
    "print(df.EmptyBookingIndicator.isna().sum())\n",
    "df.EmptyBookingIndicator.value_counts()"
   ]
  },
  {
   "cell_type": "code",
   "execution_count": null,
   "metadata": {},
   "outputs": [],
   "source": [
    "empties=df[df['EmptyBookingIndicator']=='Y']\n",
    "empties"
   ]
  },
  {
   "cell_type": "markdown",
   "metadata": {},
   "source": [
    "4.19) \"Customer Name\""
   ]
  },
  {
   "cell_type": "code",
   "execution_count": 52,
   "metadata": {},
   "outputs": [
    {
     "data": {
      "text/plain": [
       "12883"
      ]
     },
     "execution_count": 52,
     "metadata": {},
     "output_type": "execute_result"
    }
   ],
   "source": [
    "# = the name of a customer \n",
    "\n",
    "# Counting unique number of customers:\n",
    "df_final[\"Customer Name\"].nunique()"
   ]
  },
  {
   "cell_type": "code",
   "execution_count": 53,
   "metadata": {},
   "outputs": [
    {
     "data": {
      "text/html": [
       "<div>\n",
       "<style scoped>\n",
       "    .dataframe tbody tr th:only-of-type {\n",
       "        vertical-align: middle;\n",
       "    }\n",
       "\n",
       "    .dataframe tbody tr th {\n",
       "        vertical-align: top;\n",
       "    }\n",
       "\n",
       "    .dataframe thead th {\n",
       "        text-align: right;\n",
       "    }\n",
       "</style>\n",
       "<table border=\"1\" class=\"dataframe\">\n",
       "  <thead>\n",
       "    <tr style=\"text-align: right;\">\n",
       "      <th></th>\n",
       "      <th>BookingId</th>\n",
       "      <th>SubBookingName</th>\n",
       "      <th>FromLocation</th>\n",
       "      <th>ToLocation</th>\n",
       "      <th>StartRequestedDate</th>\n",
       "      <th>EndRequestedDate</th>\n",
       "      <th>GrossWeight</th>\n",
       "      <th>Temperature</th>\n",
       "      <th>FromLatitude</th>\n",
       "      <th>FromLongitude</th>\n",
       "      <th>FromCity</th>\n",
       "      <th>FromCountry</th>\n",
       "      <th>ToLatitude</th>\n",
       "      <th>ToLongitude</th>\n",
       "      <th>ToCity</th>\n",
       "      <th>ToCountry</th>\n",
       "      <th>FullLoadIndicator</th>\n",
       "      <th>EmptyBookingIndicator</th>\n",
       "      <th>Customer Name</th>\n",
       "    </tr>\n",
       "  </thead>\n",
       "  <tbody>\n",
       "    <tr>\n",
       "      <th>0</th>\n",
       "      <td>7399574</td>\n",
       "      <td>A</td>\n",
       "      <td>33917</td>\n",
       "      <td>32289</td>\n",
       "      <td>2020-12-31</td>\n",
       "      <td>2020-12-31</td>\n",
       "      <td>0.0</td>\n",
       "      <td>NaN</td>\n",
       "      <td>53.51131</td>\n",
       "      <td>-1.12540</td>\n",
       "      <td>YORKSHIRE</td>\n",
       "      <td>United Kingdom</td>\n",
       "      <td>53.60475</td>\n",
       "      <td>-0.65636</td>\n",
       "      <td>SCUNTHORPE</td>\n",
       "      <td>United Kingdom</td>\n",
       "      <td>1.0</td>\n",
       "      <td>0.0</td>\n",
       "      <td>2966</td>\n",
       "    </tr>\n",
       "    <tr>\n",
       "      <th>1</th>\n",
       "      <td>7399575</td>\n",
       "      <td>A</td>\n",
       "      <td>9443</td>\n",
       "      <td>57716</td>\n",
       "      <td>2020-12-31</td>\n",
       "      <td>2020-12-31</td>\n",
       "      <td>0.0</td>\n",
       "      <td>NaN</td>\n",
       "      <td>53.50446</td>\n",
       "      <td>-2.84867</td>\n",
       "      <td>Liverpool</td>\n",
       "      <td>United Kingdom</td>\n",
       "      <td>53.04612</td>\n",
       "      <td>-2.92787</td>\n",
       "      <td>Wrexham</td>\n",
       "      <td>United Kingdom</td>\n",
       "      <td>1.0</td>\n",
       "      <td>0.0</td>\n",
       "      <td>8183</td>\n",
       "    </tr>\n",
       "    <tr>\n",
       "      <th>2</th>\n",
       "      <td>7399576</td>\n",
       "      <td>A</td>\n",
       "      <td>9443</td>\n",
       "      <td>57716</td>\n",
       "      <td>2020-12-31</td>\n",
       "      <td>2020-12-31</td>\n",
       "      <td>0.0</td>\n",
       "      <td>NaN</td>\n",
       "      <td>53.50446</td>\n",
       "      <td>-2.84867</td>\n",
       "      <td>Liverpool</td>\n",
       "      <td>United Kingdom</td>\n",
       "      <td>53.04612</td>\n",
       "      <td>-2.92787</td>\n",
       "      <td>Wrexham</td>\n",
       "      <td>United Kingdom</td>\n",
       "      <td>1.0</td>\n",
       "      <td>0.0</td>\n",
       "      <td>8183</td>\n",
       "    </tr>\n",
       "    <tr>\n",
       "      <th>3</th>\n",
       "      <td>7399577</td>\n",
       "      <td>A</td>\n",
       "      <td>5977</td>\n",
       "      <td>9831</td>\n",
       "      <td>2020-12-31</td>\n",
       "      <td>2020-12-31</td>\n",
       "      <td>0.0</td>\n",
       "      <td>NaN</td>\n",
       "      <td>53.77629</td>\n",
       "      <td>-1.52585</td>\n",
       "      <td>Leeds</td>\n",
       "      <td>United Kingdom</td>\n",
       "      <td>53.71874</td>\n",
       "      <td>-1.41235</td>\n",
       "      <td>YORKSHIRE</td>\n",
       "      <td>United Kingdom</td>\n",
       "      <td>0.0</td>\n",
       "      <td>0.0</td>\n",
       "      <td>4737</td>\n",
       "    </tr>\n",
       "    <tr>\n",
       "      <th>4</th>\n",
       "      <td>7399578</td>\n",
       "      <td>A</td>\n",
       "      <td>5977</td>\n",
       "      <td>3182</td>\n",
       "      <td>2020-12-31</td>\n",
       "      <td>2020-12-31</td>\n",
       "      <td>0.0</td>\n",
       "      <td>NaN</td>\n",
       "      <td>53.77629</td>\n",
       "      <td>-1.52585</td>\n",
       "      <td>Leeds</td>\n",
       "      <td>United Kingdom</td>\n",
       "      <td>55.87784</td>\n",
       "      <td>-3.65235</td>\n",
       "      <td>Bathgate</td>\n",
       "      <td>United Kingdom</td>\n",
       "      <td>1.0</td>\n",
       "      <td>0.0</td>\n",
       "      <td>4737</td>\n",
       "    </tr>\n",
       "  </tbody>\n",
       "</table>\n",
       "</div>"
      ],
      "text/plain": [
       "   BookingId SubBookingName  FromLocation  ToLocation StartRequestedDate  \\\n",
       "0    7399574              A         33917       32289         2020-12-31   \n",
       "1    7399575              A          9443       57716         2020-12-31   \n",
       "2    7399576              A          9443       57716         2020-12-31   \n",
       "3    7399577              A          5977        9831         2020-12-31   \n",
       "4    7399578              A          5977        3182         2020-12-31   \n",
       "\n",
       "  EndRequestedDate  GrossWeight  Temperature  FromLatitude  FromLongitude  \\\n",
       "0       2020-12-31          0.0          NaN      53.51131       -1.12540   \n",
       "1       2020-12-31          0.0          NaN      53.50446       -2.84867   \n",
       "2       2020-12-31          0.0          NaN      53.50446       -2.84867   \n",
       "3       2020-12-31          0.0          NaN      53.77629       -1.52585   \n",
       "4       2020-12-31          0.0          NaN      53.77629       -1.52585   \n",
       "\n",
       "    FromCity     FromCountry  ToLatitude  ToLongitude      ToCity  \\\n",
       "0  YORKSHIRE  United Kingdom    53.60475     -0.65636  SCUNTHORPE   \n",
       "1  Liverpool  United Kingdom    53.04612     -2.92787     Wrexham   \n",
       "2  Liverpool  United Kingdom    53.04612     -2.92787     Wrexham   \n",
       "3      Leeds  United Kingdom    53.71874     -1.41235   YORKSHIRE   \n",
       "4      Leeds  United Kingdom    55.87784     -3.65235    Bathgate   \n",
       "\n",
       "        ToCountry  FullLoadIndicator  EmptyBookingIndicator  Customer Name  \n",
       "0  United Kingdom                1.0                    0.0           2966  \n",
       "1  United Kingdom                1.0                    0.0           8183  \n",
       "2  United Kingdom                1.0                    0.0           8183  \n",
       "3  United Kingdom                0.0                    0.0           4737  \n",
       "4  United Kingdom                1.0                    0.0           4737  "
      ]
     },
     "execution_count": 53,
     "metadata": {},
     "output_type": "execute_result"
    }
   ],
   "source": [
    "# Encoding Customer Name for anonymization purposes\n",
    "\n",
    "df_final[\"Customer Name\"] = labelencoder.fit_transform(df_final[\"Customer Name\"])\n",
    "\n",
    "df_final.head()"
   ]
  },
  {
   "cell_type": "markdown",
   "metadata": {},
   "source": [
    "#### 5) Feature Engineering"
   ]
  },
  {
   "cell_type": "markdown",
   "metadata": {},
   "source": [
    "5.1) \"DomesticDelivery\""
   ]
  },
  {
   "cell_type": "code",
   "execution_count": 54,
   "metadata": {},
   "outputs": [
    {
     "data": {
      "text/html": [
       "<div>\n",
       "<style scoped>\n",
       "    .dataframe tbody tr th:only-of-type {\n",
       "        vertical-align: middle;\n",
       "    }\n",
       "\n",
       "    .dataframe tbody tr th {\n",
       "        vertical-align: top;\n",
       "    }\n",
       "\n",
       "    .dataframe thead th {\n",
       "        text-align: right;\n",
       "    }\n",
       "</style>\n",
       "<table border=\"1\" class=\"dataframe\">\n",
       "  <thead>\n",
       "    <tr style=\"text-align: right;\">\n",
       "      <th></th>\n",
       "      <th>BookingId</th>\n",
       "      <th>SubBookingName</th>\n",
       "      <th>FromLocation</th>\n",
       "      <th>ToLocation</th>\n",
       "      <th>StartRequestedDate</th>\n",
       "      <th>EndRequestedDate</th>\n",
       "      <th>GrossWeight</th>\n",
       "      <th>Temperature</th>\n",
       "      <th>FromLatitude</th>\n",
       "      <th>FromLongitude</th>\n",
       "      <th>FromCity</th>\n",
       "      <th>FromCountry</th>\n",
       "      <th>ToLatitude</th>\n",
       "      <th>ToLongitude</th>\n",
       "      <th>ToCity</th>\n",
       "      <th>ToCountry</th>\n",
       "      <th>FullLoadIndicator</th>\n",
       "      <th>EmptyBookingIndicator</th>\n",
       "      <th>Customer Name</th>\n",
       "      <th>DomesticDelivery</th>\n",
       "    </tr>\n",
       "  </thead>\n",
       "  <tbody>\n",
       "    <tr>\n",
       "      <th>0</th>\n",
       "      <td>7399574</td>\n",
       "      <td>A</td>\n",
       "      <td>33917</td>\n",
       "      <td>32289</td>\n",
       "      <td>2020-12-31</td>\n",
       "      <td>2020-12-31</td>\n",
       "      <td>0.0</td>\n",
       "      <td>NaN</td>\n",
       "      <td>53.51131</td>\n",
       "      <td>-1.12540</td>\n",
       "      <td>YORKSHIRE</td>\n",
       "      <td>United Kingdom</td>\n",
       "      <td>53.60475</td>\n",
       "      <td>-0.65636</td>\n",
       "      <td>SCUNTHORPE</td>\n",
       "      <td>United Kingdom</td>\n",
       "      <td>1.0</td>\n",
       "      <td>0.0</td>\n",
       "      <td>2966</td>\n",
       "      <td>1</td>\n",
       "    </tr>\n",
       "    <tr>\n",
       "      <th>1</th>\n",
       "      <td>7399575</td>\n",
       "      <td>A</td>\n",
       "      <td>9443</td>\n",
       "      <td>57716</td>\n",
       "      <td>2020-12-31</td>\n",
       "      <td>2020-12-31</td>\n",
       "      <td>0.0</td>\n",
       "      <td>NaN</td>\n",
       "      <td>53.50446</td>\n",
       "      <td>-2.84867</td>\n",
       "      <td>Liverpool</td>\n",
       "      <td>United Kingdom</td>\n",
       "      <td>53.04612</td>\n",
       "      <td>-2.92787</td>\n",
       "      <td>Wrexham</td>\n",
       "      <td>United Kingdom</td>\n",
       "      <td>1.0</td>\n",
       "      <td>0.0</td>\n",
       "      <td>8183</td>\n",
       "      <td>1</td>\n",
       "    </tr>\n",
       "    <tr>\n",
       "      <th>2</th>\n",
       "      <td>7399576</td>\n",
       "      <td>A</td>\n",
       "      <td>9443</td>\n",
       "      <td>57716</td>\n",
       "      <td>2020-12-31</td>\n",
       "      <td>2020-12-31</td>\n",
       "      <td>0.0</td>\n",
       "      <td>NaN</td>\n",
       "      <td>53.50446</td>\n",
       "      <td>-2.84867</td>\n",
       "      <td>Liverpool</td>\n",
       "      <td>United Kingdom</td>\n",
       "      <td>53.04612</td>\n",
       "      <td>-2.92787</td>\n",
       "      <td>Wrexham</td>\n",
       "      <td>United Kingdom</td>\n",
       "      <td>1.0</td>\n",
       "      <td>0.0</td>\n",
       "      <td>8183</td>\n",
       "      <td>1</td>\n",
       "    </tr>\n",
       "    <tr>\n",
       "      <th>3</th>\n",
       "      <td>7399577</td>\n",
       "      <td>A</td>\n",
       "      <td>5977</td>\n",
       "      <td>9831</td>\n",
       "      <td>2020-12-31</td>\n",
       "      <td>2020-12-31</td>\n",
       "      <td>0.0</td>\n",
       "      <td>NaN</td>\n",
       "      <td>53.77629</td>\n",
       "      <td>-1.52585</td>\n",
       "      <td>Leeds</td>\n",
       "      <td>United Kingdom</td>\n",
       "      <td>53.71874</td>\n",
       "      <td>-1.41235</td>\n",
       "      <td>YORKSHIRE</td>\n",
       "      <td>United Kingdom</td>\n",
       "      <td>0.0</td>\n",
       "      <td>0.0</td>\n",
       "      <td>4737</td>\n",
       "      <td>1</td>\n",
       "    </tr>\n",
       "    <tr>\n",
       "      <th>4</th>\n",
       "      <td>7399578</td>\n",
       "      <td>A</td>\n",
       "      <td>5977</td>\n",
       "      <td>3182</td>\n",
       "      <td>2020-12-31</td>\n",
       "      <td>2020-12-31</td>\n",
       "      <td>0.0</td>\n",
       "      <td>NaN</td>\n",
       "      <td>53.77629</td>\n",
       "      <td>-1.52585</td>\n",
       "      <td>Leeds</td>\n",
       "      <td>United Kingdom</td>\n",
       "      <td>55.87784</td>\n",
       "      <td>-3.65235</td>\n",
       "      <td>Bathgate</td>\n",
       "      <td>United Kingdom</td>\n",
       "      <td>1.0</td>\n",
       "      <td>0.0</td>\n",
       "      <td>4737</td>\n",
       "      <td>1</td>\n",
       "    </tr>\n",
       "  </tbody>\n",
       "</table>\n",
       "</div>"
      ],
      "text/plain": [
       "   BookingId SubBookingName  FromLocation  ToLocation StartRequestedDate  \\\n",
       "0    7399574              A         33917       32289         2020-12-31   \n",
       "1    7399575              A          9443       57716         2020-12-31   \n",
       "2    7399576              A          9443       57716         2020-12-31   \n",
       "3    7399577              A          5977        9831         2020-12-31   \n",
       "4    7399578              A          5977        3182         2020-12-31   \n",
       "\n",
       "  EndRequestedDate  GrossWeight  Temperature  FromLatitude  FromLongitude  \\\n",
       "0       2020-12-31          0.0          NaN      53.51131       -1.12540   \n",
       "1       2020-12-31          0.0          NaN      53.50446       -2.84867   \n",
       "2       2020-12-31          0.0          NaN      53.50446       -2.84867   \n",
       "3       2020-12-31          0.0          NaN      53.77629       -1.52585   \n",
       "4       2020-12-31          0.0          NaN      53.77629       -1.52585   \n",
       "\n",
       "    FromCity     FromCountry  ToLatitude  ToLongitude      ToCity  \\\n",
       "0  YORKSHIRE  United Kingdom    53.60475     -0.65636  SCUNTHORPE   \n",
       "1  Liverpool  United Kingdom    53.04612     -2.92787     Wrexham   \n",
       "2  Liverpool  United Kingdom    53.04612     -2.92787     Wrexham   \n",
       "3      Leeds  United Kingdom    53.71874     -1.41235   YORKSHIRE   \n",
       "4      Leeds  United Kingdom    55.87784     -3.65235    Bathgate   \n",
       "\n",
       "        ToCountry  FullLoadIndicator  EmptyBookingIndicator  Customer Name  \\\n",
       "0  United Kingdom                1.0                    0.0           2966   \n",
       "1  United Kingdom                1.0                    0.0           8183   \n",
       "2  United Kingdom                1.0                    0.0           8183   \n",
       "3  United Kingdom                0.0                    0.0           4737   \n",
       "4  United Kingdom                1.0                    0.0           4737   \n",
       "\n",
       "   DomesticDelivery  \n",
       "0                 1  \n",
       "1                 1  \n",
       "2                 1  \n",
       "3                 1  \n",
       "4                 1  "
      ]
     },
     "execution_count": 54,
     "metadata": {},
     "output_type": "execute_result"
    }
   ],
   "source": [
    "# = equals 1 if delivery is collected and delivered within the same country, 0 if otherwise\n",
    "\n",
    "df_final['DomesticDelivery'] = (df_final['FromCountry'] == df_final['ToCountry']).astype(int)\n",
    "df_final.head()"
   ]
  },
  {
   "cell_type": "code",
   "execution_count": 55,
   "metadata": {},
   "outputs": [
    {
     "data": {
      "image/png": "[encoded data removed]",
      "text/plain": [
       "<Figure size 200x200 with 1 Axes>"
      ]
     },
     "metadata": {},
     "output_type": "display_data"
    }
   ],
   "source": [
    "domestic_delivery = df_final['DomesticDelivery'].value_counts()\n",
    "\n",
    "domestic_delivery.plot(kind = 'pie', \n",
    "                            figsize = (2, 2), \n",
    "                            autopct = '%1.1f%%', \n",
    "                            startangle = 90,\n",
    "                            pctdistance = 0.8,\n",
    "                            labeldistance = 1.1)\n",
    "\n",
    "plt.axis('equal')\n",
    "plt.title('Domestic vs. Non-Domestic Delivery')\n",
    "plt.show()"
   ]
  },
  {
   "cell_type": "markdown",
   "metadata": {},
   "source": [
    "5.2) \"distance_haversine\""
   ]
  },
  {
   "cell_type": "code",
   "execution_count": null,
   "metadata": {},
   "outputs": [],
   "source": [
    "# = Calculate haversine distance between delivery points to have an approximation for delivery distance \n",
    "# Is later gonna be replaced by more exact distance we calculate via API\n",
    "\n",
    "def get_distance_h(lat1, lon1, lat2, lon2):\n",
    "    pickup = (lat1, lon1)\n",
    "    dropoff = (lat2, lon2)\n",
    "    return hs.haversine(pickup, dropoff)\n",
    "\n",
    "# Apply the function to dataframe\n",
    "df_final['distance_haversine'] = df_final.apply(lambda row: get_distance_h(row['FromLatitude'], row['FromLongitude'], row['ToLatitude'], row['ToLongitude']), axis=1)\n",
    "df_final.head()"
   ]
  },
  {
   "cell_type": "code",
   "execution_count": null,
   "metadata": {},
   "outputs": [],
   "source": [
    "# df_final.to_csv('clean_data_distance.csv')"
   ]
  },
  {
   "cell_type": "code",
   "execution_count": null,
   "metadata": {},
   "outputs": [],
   "source": [
    "df_final['distance_haversine'].describe()"
   ]
  },
  {
   "cell_type": "markdown",
   "metadata": {},
   "source": [
    "Mean: 368 km \n",
    "Min.: 0 km\n",
    "Max.: 8543 km"
   ]
  },
  {
   "cell_type": "code",
   "execution_count": null,
   "metadata": {},
   "outputs": [],
   "source": [
    "# Plotting haversine distances\n",
    "\n",
    "plt.hist(df_final[\"distance_haversine\"], bins = 100)\n",
    "plt.xlabel(\"Driving distance (km)\")\n",
    "plt.ylabel(\"Frequency\")\n",
    "plt.title(\"Distribution of delivery distances\")\n",
    "plt.show()"
   ]
  },
  {
   "cell_type": "code",
   "execution_count": null,
   "metadata": {},
   "outputs": [],
   "source": [
    "# Plotting again, but this time exclusing all deliveries >2,500km, as they usually include sea travel \n",
    "\n",
    "subset = df_final[(df_final['distance_haversine'] < 2500)]\n",
    "\n",
    "plt.hist(subset[\"distance_haversine\"], bins = 250)\n",
    "plt.xlabel(\"Driving distance (km)\")\n",
    "plt.ylabel(\"Frequency\")\n",
    "plt.title(\"Distribution of delivery distances\")\n",
    "plt.show()"
   ]
  },
  {
   "cell_type": "markdown",
   "metadata": {},
   "source": [
    "5.3) \"route_distance\"\n",
    "\n",
    "= We calculate the route length of a deliverie leveraging the Bing Maps API \n",
    "\n",
    "Knowing the distance of a delivery is crucial for us to now, as e-Trucks have a limited reach and charging stations have to be placed accordingly "
   ]
  },
  {
   "cell_type": "code",
   "execution_count": 65,
   "metadata": {},
   "outputs": [
    {
     "data": {
      "text/html": [
       "<div>\n",
       "<style scoped>\n",
       "    .dataframe tbody tr th:only-of-type {\n",
       "        vertical-align: middle;\n",
       "    }\n",
       "\n",
       "    .dataframe tbody tr th {\n",
       "        vertical-align: top;\n",
       "    }\n",
       "\n",
       "    .dataframe thead th {\n",
       "        text-align: right;\n",
       "    }\n",
       "</style>\n",
       "<table border=\"1\" class=\"dataframe\">\n",
       "  <thead>\n",
       "    <tr style=\"text-align: right;\">\n",
       "      <th></th>\n",
       "      <th>FromLatitude</th>\n",
       "      <th>FromLongitude</th>\n",
       "      <th>ToLatitude</th>\n",
       "      <th>ToLongitude</th>\n",
       "    </tr>\n",
       "  </thead>\n",
       "  <tbody>\n",
       "    <tr>\n",
       "      <th>0</th>\n",
       "      <td>53.51131</td>\n",
       "      <td>-1.12540</td>\n",
       "      <td>53.60475</td>\n",
       "      <td>-0.65636</td>\n",
       "    </tr>\n",
       "    <tr>\n",
       "      <th>1</th>\n",
       "      <td>53.50446</td>\n",
       "      <td>-2.84867</td>\n",
       "      <td>53.04612</td>\n",
       "      <td>-2.92787</td>\n",
       "    </tr>\n",
       "    <tr>\n",
       "      <th>3</th>\n",
       "      <td>53.77629</td>\n",
       "      <td>-1.52585</td>\n",
       "      <td>53.71874</td>\n",
       "      <td>-1.41235</td>\n",
       "    </tr>\n",
       "    <tr>\n",
       "      <th>4</th>\n",
       "      <td>53.77629</td>\n",
       "      <td>-1.52585</td>\n",
       "      <td>55.87784</td>\n",
       "      <td>-3.65235</td>\n",
       "    </tr>\n",
       "    <tr>\n",
       "      <th>5</th>\n",
       "      <td>53.50446</td>\n",
       "      <td>-2.84867</td>\n",
       "      <td>55.91412</td>\n",
       "      <td>-3.50947</td>\n",
       "    </tr>\n",
       "  </tbody>\n",
       "</table>\n",
       "</div>"
      ],
      "text/plain": [
       "   FromLatitude  FromLongitude  ToLatitude  ToLongitude\n",
       "0      53.51131       -1.12540    53.60475     -0.65636\n",
       "1      53.50446       -2.84867    53.04612     -2.92787\n",
       "3      53.77629       -1.52585    53.71874     -1.41235\n",
       "4      53.77629       -1.52585    55.87784     -3.65235\n",
       "5      53.50446       -2.84867    55.91412     -3.50947"
      ]
     },
     "execution_count": 65,
     "metadata": {},
     "output_type": "execute_result"
    }
   ],
   "source": [
    "# The dataset has ~5 million rows. However, we don't want to make 5 million calls to the APi. \n",
    "# This is why we extract the unique routes first. \n",
    "# Every unique set of the four coordinate variables equals a unique route. \n",
    "\n",
    "# 1) Creating dataframe with only the coordinates \n",
    "coordinates_df = df_final[['FromLatitude', 'FromLongitude', 'ToLatitude', 'ToLongitude']]\n",
    "\n",
    "# 2) dropping duplicate rows\n",
    "coordinates_df = coordinates_df.drop_duplicates()\n",
    "\n",
    "coordinates_df.head()"
   ]
  },
  {
   "cell_type": "code",
   "execution_count": 66,
   "metadata": {},
   "outputs": [
    {
     "name": "stdout",
     "output_type": "stream",
     "text": [
      "45000 45000 45000 27113\n"
     ]
    }
   ],
   "source": [
    "# 3) The API Key is configured for educational uses and only allows for 50,000 API calls per day (for free).\n",
    "\n",
    "# As 'coordinates_df' has ~163,000 rows, we need to divide this dataset into four parts before calling the API\n",
    "# and then calculate the distances step-by-step\n",
    "\n",
    "#coordinates_df_1 = coordinates_df.iloc[:45000]\n",
    "#coordinates_df_2 = coordinates_df.iloc[45000:90000]\n",
    "#coordinates_df_3 = coordinates_df.iloc[90000:135000]\n",
    "#coordinates_df_4 = coordinates_df.iloc[135000:]\n",
    "\n",
    "#print(len(coordinates_df_1), len(coordinates_df_2), len(coordinates_df_3), len(coordinates_df_4))"
   ]
  },
  {
   "cell_type": "code",
   "execution_count": 68,
   "metadata": {},
   "outputs": [
    {
     "ename": "ReadTimeout",
     "evalue": "HTTPSConnectionPool(host='dev.virtualearth.net', port=443): Read timed out. (read timeout=60)",
     "output_type": "error",
     "traceback": [
      "\u001b[0;31m---------------------------------------------------------------------------\u001b[0m",
      "\u001b[0;31mtimeout\u001b[0m                                   Traceback (most recent call last)",
      "File \u001b[0;32m~/opt/anaconda3/lib/python3.8/site-packages/urllib3/connectionpool.py:449\u001b[0m, in \u001b[0;36mHTTPConnectionPool._make_request\u001b[0;34m(self, conn, method, url, timeout, chunked, **httplib_request_kw)\u001b[0m\n\u001b[1;32m    445\u001b[0m         \u001b[38;5;28;01mexcept\u001b[39;00m \u001b[38;5;167;01mBaseException\u001b[39;00m \u001b[38;5;28;01mas\u001b[39;00m e:\n\u001b[1;32m    446\u001b[0m             \u001b[38;5;66;03m# Remove the TypeError from the exception chain in\u001b[39;00m\n\u001b[1;32m    447\u001b[0m             \u001b[38;5;66;03m# Python 3 (including for exceptions like SystemExit).\u001b[39;00m\n\u001b[1;32m    448\u001b[0m             \u001b[38;5;66;03m# Otherwise it looks like a bug in the code.\u001b[39;00m\n\u001b[0;32m--> 449\u001b[0m             \u001b[43msix\u001b[49m\u001b[38;5;241;43m.\u001b[39;49m\u001b[43mraise_from\u001b[49m\u001b[43m(\u001b[49m\u001b[43me\u001b[49m\u001b[43m,\u001b[49m\u001b[43m \u001b[49m\u001b[38;5;28;43;01mNone\u001b[39;49;00m\u001b[43m)\u001b[49m\n\u001b[1;32m    450\u001b[0m \u001b[38;5;28;01mexcept\u001b[39;00m (SocketTimeout, BaseSSLError, SocketError) \u001b[38;5;28;01mas\u001b[39;00m e:\n",
      "File \u001b[0;32m<string>:3\u001b[0m, in \u001b[0;36mraise_from\u001b[0;34m(value, from_value)\u001b[0m\n",
      "File \u001b[0;32m~/opt/anaconda3/lib/python3.8/site-packages/urllib3/connectionpool.py:444\u001b[0m, in \u001b[0;36mHTTPConnectionPool._make_request\u001b[0;34m(self, conn, method, url, timeout, chunked, **httplib_request_kw)\u001b[0m\n\u001b[1;32m    443\u001b[0m \u001b[38;5;28;01mtry\u001b[39;00m:\n\u001b[0;32m--> 444\u001b[0m     httplib_response \u001b[38;5;241m=\u001b[39m \u001b[43mconn\u001b[49m\u001b[38;5;241;43m.\u001b[39;49m\u001b[43mgetresponse\u001b[49m\u001b[43m(\u001b[49m\u001b[43m)\u001b[49m\n\u001b[1;32m    445\u001b[0m \u001b[38;5;28;01mexcept\u001b[39;00m \u001b[38;5;167;01mBaseException\u001b[39;00m \u001b[38;5;28;01mas\u001b[39;00m e:\n\u001b[1;32m    446\u001b[0m     \u001b[38;5;66;03m# Remove the TypeError from the exception chain in\u001b[39;00m\n\u001b[1;32m    447\u001b[0m     \u001b[38;5;66;03m# Python 3 (including for exceptions like SystemExit).\u001b[39;00m\n\u001b[1;32m    448\u001b[0m     \u001b[38;5;66;03m# Otherwise it looks like a bug in the code.\u001b[39;00m\n",
      "File \u001b[0;32m~/opt/anaconda3/lib/python3.8/http/client.py:1347\u001b[0m, in \u001b[0;36mHTTPConnection.getresponse\u001b[0;34m(self)\u001b[0m\n\u001b[1;32m   1346\u001b[0m \u001b[38;5;28;01mtry\u001b[39;00m:\n\u001b[0;32m-> 1347\u001b[0m     \u001b[43mresponse\u001b[49m\u001b[38;5;241;43m.\u001b[39;49m\u001b[43mbegin\u001b[49m\u001b[43m(\u001b[49m\u001b[43m)\u001b[49m\n\u001b[1;32m   1348\u001b[0m \u001b[38;5;28;01mexcept\u001b[39;00m \u001b[38;5;167;01mConnectionError\u001b[39;00m:\n",
      "File \u001b[0;32m~/opt/anaconda3/lib/python3.8/http/client.py:307\u001b[0m, in \u001b[0;36mHTTPResponse.begin\u001b[0;34m(self)\u001b[0m\n\u001b[1;32m    306\u001b[0m \u001b[38;5;28;01mwhile\u001b[39;00m \u001b[38;5;28;01mTrue\u001b[39;00m:\n\u001b[0;32m--> 307\u001b[0m     version, status, reason \u001b[38;5;241m=\u001b[39m \u001b[38;5;28;43mself\u001b[39;49m\u001b[38;5;241;43m.\u001b[39;49m\u001b[43m_read_status\u001b[49m\u001b[43m(\u001b[49m\u001b[43m)\u001b[49m\n\u001b[1;32m    308\u001b[0m     \u001b[38;5;28;01mif\u001b[39;00m status \u001b[38;5;241m!=\u001b[39m CONTINUE:\n",
      "File \u001b[0;32m~/opt/anaconda3/lib/python3.8/http/client.py:268\u001b[0m, in \u001b[0;36mHTTPResponse._read_status\u001b[0;34m(self)\u001b[0m\n\u001b[1;32m    267\u001b[0m \u001b[38;5;28;01mdef\u001b[39;00m \u001b[38;5;21m_read_status\u001b[39m(\u001b[38;5;28mself\u001b[39m):\n\u001b[0;32m--> 268\u001b[0m     line \u001b[38;5;241m=\u001b[39m \u001b[38;5;28mstr\u001b[39m(\u001b[38;5;28;43mself\u001b[39;49m\u001b[38;5;241;43m.\u001b[39;49m\u001b[43mfp\u001b[49m\u001b[38;5;241;43m.\u001b[39;49m\u001b[43mreadline\u001b[49m\u001b[43m(\u001b[49m\u001b[43m_MAXLINE\u001b[49m\u001b[43m \u001b[49m\u001b[38;5;241;43m+\u001b[39;49m\u001b[43m \u001b[49m\u001b[38;5;241;43m1\u001b[39;49m\u001b[43m)\u001b[49m, \u001b[38;5;124m\"\u001b[39m\u001b[38;5;124miso-8859-1\u001b[39m\u001b[38;5;124m\"\u001b[39m)\n\u001b[1;32m    269\u001b[0m     \u001b[38;5;28;01mif\u001b[39;00m \u001b[38;5;28mlen\u001b[39m(line) \u001b[38;5;241m>\u001b[39m _MAXLINE:\n",
      "File \u001b[0;32m~/opt/anaconda3/lib/python3.8/socket.py:669\u001b[0m, in \u001b[0;36mSocketIO.readinto\u001b[0;34m(self, b)\u001b[0m\n\u001b[1;32m    668\u001b[0m \u001b[38;5;28;01mtry\u001b[39;00m:\n\u001b[0;32m--> 669\u001b[0m     \u001b[38;5;28;01mreturn\u001b[39;00m \u001b[38;5;28;43mself\u001b[39;49m\u001b[38;5;241;43m.\u001b[39;49m\u001b[43m_sock\u001b[49m\u001b[38;5;241;43m.\u001b[39;49m\u001b[43mrecv_into\u001b[49m\u001b[43m(\u001b[49m\u001b[43mb\u001b[49m\u001b[43m)\u001b[49m\n\u001b[1;32m    670\u001b[0m \u001b[38;5;28;01mexcept\u001b[39;00m timeout:\n",
      "File \u001b[0;32m~/opt/anaconda3/lib/python3.8/ssl.py:1241\u001b[0m, in \u001b[0;36mSSLSocket.recv_into\u001b[0;34m(self, buffer, nbytes, flags)\u001b[0m\n\u001b[1;32m   1238\u001b[0m         \u001b[38;5;28;01mraise\u001b[39;00m \u001b[38;5;167;01mValueError\u001b[39;00m(\n\u001b[1;32m   1239\u001b[0m           \u001b[38;5;124m\"\u001b[39m\u001b[38;5;124mnon-zero flags not allowed in calls to recv_into() on \u001b[39m\u001b[38;5;132;01m%s\u001b[39;00m\u001b[38;5;124m\"\u001b[39m \u001b[38;5;241m%\u001b[39m\n\u001b[1;32m   1240\u001b[0m           \u001b[38;5;28mself\u001b[39m\u001b[38;5;241m.\u001b[39m\u001b[38;5;18m__class__\u001b[39m)\n\u001b[0;32m-> 1241\u001b[0m     \u001b[38;5;28;01mreturn\u001b[39;00m \u001b[38;5;28;43mself\u001b[39;49m\u001b[38;5;241;43m.\u001b[39;49m\u001b[43mread\u001b[49m\u001b[43m(\u001b[49m\u001b[43mnbytes\u001b[49m\u001b[43m,\u001b[49m\u001b[43m \u001b[49m\u001b[43mbuffer\u001b[49m\u001b[43m)\u001b[49m\n\u001b[1;32m   1242\u001b[0m \u001b[38;5;28;01melse\u001b[39;00m:\n",
      "File \u001b[0;32m~/opt/anaconda3/lib/python3.8/ssl.py:1099\u001b[0m, in \u001b[0;36mSSLSocket.read\u001b[0;34m(self, len, buffer)\u001b[0m\n\u001b[1;32m   1098\u001b[0m \u001b[38;5;28;01mif\u001b[39;00m buffer \u001b[38;5;129;01mis\u001b[39;00m \u001b[38;5;129;01mnot\u001b[39;00m \u001b[38;5;28;01mNone\u001b[39;00m:\n\u001b[0;32m-> 1099\u001b[0m     \u001b[38;5;28;01mreturn\u001b[39;00m \u001b[38;5;28;43mself\u001b[39;49m\u001b[38;5;241;43m.\u001b[39;49m\u001b[43m_sslobj\u001b[49m\u001b[38;5;241;43m.\u001b[39;49m\u001b[43mread\u001b[49m\u001b[43m(\u001b[49m\u001b[38;5;28;43mlen\u001b[39;49m\u001b[43m,\u001b[49m\u001b[43m \u001b[49m\u001b[43mbuffer\u001b[49m\u001b[43m)\u001b[49m\n\u001b[1;32m   1100\u001b[0m \u001b[38;5;28;01melse\u001b[39;00m:\n",
      "\u001b[0;31mtimeout\u001b[0m: The read operation timed out",
      "\nDuring handling of the above exception, another exception occurred:\n",
      "\u001b[0;31mReadTimeoutError\u001b[0m                          Traceback (most recent call last)",
      "File \u001b[0;32m~/opt/anaconda3/lib/python3.8/site-packages/requests/adapters.py:489\u001b[0m, in \u001b[0;36mHTTPAdapter.send\u001b[0;34m(self, request, stream, timeout, verify, cert, proxies)\u001b[0m\n\u001b[1;32m    488\u001b[0m \u001b[38;5;28;01mif\u001b[39;00m \u001b[38;5;129;01mnot\u001b[39;00m chunked:\n\u001b[0;32m--> 489\u001b[0m     resp \u001b[38;5;241m=\u001b[39m \u001b[43mconn\u001b[49m\u001b[38;5;241;43m.\u001b[39;49m\u001b[43murlopen\u001b[49m\u001b[43m(\u001b[49m\n\u001b[1;32m    490\u001b[0m \u001b[43m        \u001b[49m\u001b[43mmethod\u001b[49m\u001b[38;5;241;43m=\u001b[39;49m\u001b[43mrequest\u001b[49m\u001b[38;5;241;43m.\u001b[39;49m\u001b[43mmethod\u001b[49m\u001b[43m,\u001b[49m\n\u001b[1;32m    491\u001b[0m \u001b[43m        \u001b[49m\u001b[43murl\u001b[49m\u001b[38;5;241;43m=\u001b[39;49m\u001b[43murl\u001b[49m\u001b[43m,\u001b[49m\n\u001b[1;32m    492\u001b[0m \u001b[43m        \u001b[49m\u001b[43mbody\u001b[49m\u001b[38;5;241;43m=\u001b[39;49m\u001b[43mrequest\u001b[49m\u001b[38;5;241;43m.\u001b[39;49m\u001b[43mbody\u001b[49m\u001b[43m,\u001b[49m\n\u001b[1;32m    493\u001b[0m \u001b[43m        \u001b[49m\u001b[43mheaders\u001b[49m\u001b[38;5;241;43m=\u001b[39;49m\u001b[43mrequest\u001b[49m\u001b[38;5;241;43m.\u001b[39;49m\u001b[43mheaders\u001b[49m\u001b[43m,\u001b[49m\n\u001b[1;32m    494\u001b[0m \u001b[43m        \u001b[49m\u001b[43mredirect\u001b[49m\u001b[38;5;241;43m=\u001b[39;49m\u001b[38;5;28;43;01mFalse\u001b[39;49;00m\u001b[43m,\u001b[49m\n\u001b[1;32m    495\u001b[0m \u001b[43m        \u001b[49m\u001b[43massert_same_host\u001b[49m\u001b[38;5;241;43m=\u001b[39;49m\u001b[38;5;28;43;01mFalse\u001b[39;49;00m\u001b[43m,\u001b[49m\n\u001b[1;32m    496\u001b[0m \u001b[43m        \u001b[49m\u001b[43mpreload_content\u001b[49m\u001b[38;5;241;43m=\u001b[39;49m\u001b[38;5;28;43;01mFalse\u001b[39;49;00m\u001b[43m,\u001b[49m\n\u001b[1;32m    497\u001b[0m \u001b[43m        \u001b[49m\u001b[43mdecode_content\u001b[49m\u001b[38;5;241;43m=\u001b[39;49m\u001b[38;5;28;43;01mFalse\u001b[39;49;00m\u001b[43m,\u001b[49m\n\u001b[1;32m    498\u001b[0m \u001b[43m        \u001b[49m\u001b[43mretries\u001b[49m\u001b[38;5;241;43m=\u001b[39;49m\u001b[38;5;28;43mself\u001b[39;49m\u001b[38;5;241;43m.\u001b[39;49m\u001b[43mmax_retries\u001b[49m\u001b[43m,\u001b[49m\n\u001b[1;32m    499\u001b[0m \u001b[43m        \u001b[49m\u001b[43mtimeout\u001b[49m\u001b[38;5;241;43m=\u001b[39;49m\u001b[43mtimeout\u001b[49m\u001b[43m,\u001b[49m\n\u001b[1;32m    500\u001b[0m \u001b[43m    \u001b[49m\u001b[43m)\u001b[49m\n\u001b[1;32m    502\u001b[0m \u001b[38;5;66;03m# Send the request.\u001b[39;00m\n\u001b[1;32m    503\u001b[0m \u001b[38;5;28;01melse\u001b[39;00m:\n",
      "File \u001b[0;32m~/opt/anaconda3/lib/python3.8/site-packages/urllib3/connectionpool.py:787\u001b[0m, in \u001b[0;36mHTTPConnectionPool.urlopen\u001b[0;34m(self, method, url, body, headers, retries, redirect, assert_same_host, timeout, pool_timeout, release_conn, chunked, body_pos, **response_kw)\u001b[0m\n\u001b[1;32m    785\u001b[0m     e \u001b[38;5;241m=\u001b[39m ProtocolError(\u001b[38;5;124m\"\u001b[39m\u001b[38;5;124mConnection aborted.\u001b[39m\u001b[38;5;124m\"\u001b[39m, e)\n\u001b[0;32m--> 787\u001b[0m retries \u001b[38;5;241m=\u001b[39m \u001b[43mretries\u001b[49m\u001b[38;5;241;43m.\u001b[39;49m\u001b[43mincrement\u001b[49m\u001b[43m(\u001b[49m\n\u001b[1;32m    788\u001b[0m \u001b[43m    \u001b[49m\u001b[43mmethod\u001b[49m\u001b[43m,\u001b[49m\u001b[43m \u001b[49m\u001b[43murl\u001b[49m\u001b[43m,\u001b[49m\u001b[43m \u001b[49m\u001b[43merror\u001b[49m\u001b[38;5;241;43m=\u001b[39;49m\u001b[43me\u001b[49m\u001b[43m,\u001b[49m\u001b[43m \u001b[49m\u001b[43m_pool\u001b[49m\u001b[38;5;241;43m=\u001b[39;49m\u001b[38;5;28;43mself\u001b[39;49m\u001b[43m,\u001b[49m\u001b[43m \u001b[49m\u001b[43m_stacktrace\u001b[49m\u001b[38;5;241;43m=\u001b[39;49m\u001b[43msys\u001b[49m\u001b[38;5;241;43m.\u001b[39;49m\u001b[43mexc_info\u001b[49m\u001b[43m(\u001b[49m\u001b[43m)\u001b[49m\u001b[43m[\u001b[49m\u001b[38;5;241;43m2\u001b[39;49m\u001b[43m]\u001b[49m\n\u001b[1;32m    789\u001b[0m \u001b[43m\u001b[49m\u001b[43m)\u001b[49m\n\u001b[1;32m    790\u001b[0m retries\u001b[38;5;241m.\u001b[39msleep()\n",
      "File \u001b[0;32m~/opt/anaconda3/lib/python3.8/site-packages/urllib3/util/retry.py:550\u001b[0m, in \u001b[0;36mRetry.increment\u001b[0;34m(self, method, url, response, error, _pool, _stacktrace)\u001b[0m\n\u001b[1;32m    549\u001b[0m \u001b[38;5;28;01mif\u001b[39;00m read \u001b[38;5;129;01mis\u001b[39;00m \u001b[38;5;28;01mFalse\u001b[39;00m \u001b[38;5;129;01mor\u001b[39;00m \u001b[38;5;129;01mnot\u001b[39;00m \u001b[38;5;28mself\u001b[39m\u001b[38;5;241m.\u001b[39m_is_method_retryable(method):\n\u001b[0;32m--> 550\u001b[0m     \u001b[38;5;28;01mraise\u001b[39;00m \u001b[43msix\u001b[49m\u001b[38;5;241;43m.\u001b[39;49m\u001b[43mreraise\u001b[49m\u001b[43m(\u001b[49m\u001b[38;5;28;43mtype\u001b[39;49m\u001b[43m(\u001b[49m\u001b[43merror\u001b[49m\u001b[43m)\u001b[49m\u001b[43m,\u001b[49m\u001b[43m \u001b[49m\u001b[43merror\u001b[49m\u001b[43m,\u001b[49m\u001b[43m \u001b[49m\u001b[43m_stacktrace\u001b[49m\u001b[43m)\u001b[49m\n\u001b[1;32m    551\u001b[0m \u001b[38;5;28;01melif\u001b[39;00m read \u001b[38;5;129;01mis\u001b[39;00m \u001b[38;5;129;01mnot\u001b[39;00m \u001b[38;5;28;01mNone\u001b[39;00m:\n",
      "File \u001b[0;32m~/opt/anaconda3/lib/python3.8/site-packages/urllib3/packages/six.py:770\u001b[0m, in \u001b[0;36mreraise\u001b[0;34m(tp, value, tb)\u001b[0m\n\u001b[1;32m    769\u001b[0m         \u001b[38;5;28;01mraise\u001b[39;00m value\u001b[38;5;241m.\u001b[39mwith_traceback(tb)\n\u001b[0;32m--> 770\u001b[0m     \u001b[38;5;28;01mraise\u001b[39;00m value\n\u001b[1;32m    771\u001b[0m \u001b[38;5;28;01mfinally\u001b[39;00m:\n",
      "File \u001b[0;32m~/opt/anaconda3/lib/python3.8/site-packages/urllib3/connectionpool.py:703\u001b[0m, in \u001b[0;36mHTTPConnectionPool.urlopen\u001b[0;34m(self, method, url, body, headers, retries, redirect, assert_same_host, timeout, pool_timeout, release_conn, chunked, body_pos, **response_kw)\u001b[0m\n\u001b[1;32m    702\u001b[0m \u001b[38;5;66;03m# Make the request on the httplib connection object.\u001b[39;00m\n\u001b[0;32m--> 703\u001b[0m httplib_response \u001b[38;5;241m=\u001b[39m \u001b[38;5;28;43mself\u001b[39;49m\u001b[38;5;241;43m.\u001b[39;49m\u001b[43m_make_request\u001b[49m\u001b[43m(\u001b[49m\n\u001b[1;32m    704\u001b[0m \u001b[43m    \u001b[49m\u001b[43mconn\u001b[49m\u001b[43m,\u001b[49m\n\u001b[1;32m    705\u001b[0m \u001b[43m    \u001b[49m\u001b[43mmethod\u001b[49m\u001b[43m,\u001b[49m\n\u001b[1;32m    706\u001b[0m \u001b[43m    \u001b[49m\u001b[43murl\u001b[49m\u001b[43m,\u001b[49m\n\u001b[1;32m    707\u001b[0m \u001b[43m    \u001b[49m\u001b[43mtimeout\u001b[49m\u001b[38;5;241;43m=\u001b[39;49m\u001b[43mtimeout_obj\u001b[49m\u001b[43m,\u001b[49m\n\u001b[1;32m    708\u001b[0m \u001b[43m    \u001b[49m\u001b[43mbody\u001b[49m\u001b[38;5;241;43m=\u001b[39;49m\u001b[43mbody\u001b[49m\u001b[43m,\u001b[49m\n\u001b[1;32m    709\u001b[0m \u001b[43m    \u001b[49m\u001b[43mheaders\u001b[49m\u001b[38;5;241;43m=\u001b[39;49m\u001b[43mheaders\u001b[49m\u001b[43m,\u001b[49m\n\u001b[1;32m    710\u001b[0m \u001b[43m    \u001b[49m\u001b[43mchunked\u001b[49m\u001b[38;5;241;43m=\u001b[39;49m\u001b[43mchunked\u001b[49m\u001b[43m,\u001b[49m\n\u001b[1;32m    711\u001b[0m \u001b[43m\u001b[49m\u001b[43m)\u001b[49m\n\u001b[1;32m    713\u001b[0m \u001b[38;5;66;03m# If we're going to release the connection in ``finally:``, then\u001b[39;00m\n\u001b[1;32m    714\u001b[0m \u001b[38;5;66;03m# the response doesn't need to know about the connection. Otherwise\u001b[39;00m\n\u001b[1;32m    715\u001b[0m \u001b[38;5;66;03m# it will also try to release it and we'll have a double-release\u001b[39;00m\n\u001b[1;32m    716\u001b[0m \u001b[38;5;66;03m# mess.\u001b[39;00m\n",
      "File \u001b[0;32m~/opt/anaconda3/lib/python3.8/site-packages/urllib3/connectionpool.py:451\u001b[0m, in \u001b[0;36mHTTPConnectionPool._make_request\u001b[0;34m(self, conn, method, url, timeout, chunked, **httplib_request_kw)\u001b[0m\n\u001b[1;32m    450\u001b[0m \u001b[38;5;28;01mexcept\u001b[39;00m (SocketTimeout, BaseSSLError, SocketError) \u001b[38;5;28;01mas\u001b[39;00m e:\n\u001b[0;32m--> 451\u001b[0m     \u001b[38;5;28;43mself\u001b[39;49m\u001b[38;5;241;43m.\u001b[39;49m\u001b[43m_raise_timeout\u001b[49m\u001b[43m(\u001b[49m\u001b[43merr\u001b[49m\u001b[38;5;241;43m=\u001b[39;49m\u001b[43me\u001b[49m\u001b[43m,\u001b[49m\u001b[43m \u001b[49m\u001b[43murl\u001b[49m\u001b[38;5;241;43m=\u001b[39;49m\u001b[43murl\u001b[49m\u001b[43m,\u001b[49m\u001b[43m \u001b[49m\u001b[43mtimeout_value\u001b[49m\u001b[38;5;241;43m=\u001b[39;49m\u001b[43mread_timeout\u001b[49m\u001b[43m)\u001b[49m\n\u001b[1;32m    452\u001b[0m     \u001b[38;5;28;01mraise\u001b[39;00m\n",
      "File \u001b[0;32m~/opt/anaconda3/lib/python3.8/site-packages/urllib3/connectionpool.py:340\u001b[0m, in \u001b[0;36mHTTPConnectionPool._raise_timeout\u001b[0;34m(self, err, url, timeout_value)\u001b[0m\n\u001b[1;32m    339\u001b[0m \u001b[38;5;28;01mif\u001b[39;00m \u001b[38;5;28misinstance\u001b[39m(err, SocketTimeout):\n\u001b[0;32m--> 340\u001b[0m     \u001b[38;5;28;01mraise\u001b[39;00m ReadTimeoutError(\n\u001b[1;32m    341\u001b[0m         \u001b[38;5;28mself\u001b[39m, url, \u001b[38;5;124m\"\u001b[39m\u001b[38;5;124mRead timed out. (read timeout=\u001b[39m\u001b[38;5;132;01m%s\u001b[39;00m\u001b[38;5;124m)\u001b[39m\u001b[38;5;124m\"\u001b[39m \u001b[38;5;241m%\u001b[39m timeout_value\n\u001b[1;32m    342\u001b[0m     )\n\u001b[1;32m    344\u001b[0m \u001b[38;5;66;03m# See the above comment about EAGAIN in Python 3. In Python 2 we have\u001b[39;00m\n\u001b[1;32m    345\u001b[0m \u001b[38;5;66;03m# to specifically catch it and throw the timeout error\u001b[39;00m\n",
      "\u001b[0;31mReadTimeoutError\u001b[0m: HTTPSConnectionPool(host='dev.virtualearth.net', port=443): Read timed out. (read timeout=60)",
      "\nDuring handling of the above exception, another exception occurred:\n",
      "\u001b[0;31mReadTimeout\u001b[0m                               Traceback (most recent call last)",
      "Cell \u001b[0;32mIn[68], line 39\u001b[0m\n\u001b[1;32m     37\u001b[0m distances \u001b[38;5;241m=\u001b[39m []\n\u001b[1;32m     38\u001b[0m \u001b[38;5;28;01mfor\u001b[39;00m batch \u001b[38;5;129;01min\u001b[39;00m batches:\n\u001b[0;32m---> 39\u001b[0m     distances \u001b[38;5;241m+\u001b[39m\u001b[38;5;241m=\u001b[39m \u001b[43mcalculate_distances\u001b[49m\u001b[43m(\u001b[49m\u001b[43mbatch\u001b[49m\u001b[43m)\u001b[49m\n\u001b[1;32m     41\u001b[0m \u001b[38;5;66;03m# Add the distances to the DataFrame\u001b[39;00m\n\u001b[1;32m     42\u001b[0m coordinates_df_1[\u001b[38;5;124m'\u001b[39m\u001b[38;5;124mroute_distance\u001b[39m\u001b[38;5;124m'\u001b[39m] \u001b[38;5;241m=\u001b[39m distances\n",
      "Cell \u001b[0;32mIn[68], line 26\u001b[0m, in \u001b[0;36mcalculate_distances\u001b[0;34m(rows)\u001b[0m\n\u001b[1;32m     19\u001b[0m params \u001b[38;5;241m=\u001b[39m {\n\u001b[1;32m     20\u001b[0m     \u001b[38;5;124m'\u001b[39m\u001b[38;5;124morigins\u001b[39m\u001b[38;5;124m'\u001b[39m: \u001b[38;5;124mf\u001b[39m\u001b[38;5;124m\"\u001b[39m\u001b[38;5;132;01m{\u001b[39;00mrow[\u001b[38;5;124m'\u001b[39m\u001b[38;5;124mFromLatitude\u001b[39m\u001b[38;5;124m'\u001b[39m]\u001b[38;5;132;01m}\u001b[39;00m\u001b[38;5;124m,\u001b[39m\u001b[38;5;132;01m{\u001b[39;00mrow[\u001b[38;5;124m'\u001b[39m\u001b[38;5;124mFromLongitude\u001b[39m\u001b[38;5;124m'\u001b[39m]\u001b[38;5;132;01m}\u001b[39;00m\u001b[38;5;124m\"\u001b[39m,\n\u001b[1;32m     21\u001b[0m     \u001b[38;5;124m'\u001b[39m\u001b[38;5;124mdestinations\u001b[39m\u001b[38;5;124m'\u001b[39m: \u001b[38;5;124mf\u001b[39m\u001b[38;5;124m\"\u001b[39m\u001b[38;5;132;01m{\u001b[39;00mrow[\u001b[38;5;124m'\u001b[39m\u001b[38;5;124mToLatitude\u001b[39m\u001b[38;5;124m'\u001b[39m]\u001b[38;5;132;01m}\u001b[39;00m\u001b[38;5;124m,\u001b[39m\u001b[38;5;132;01m{\u001b[39;00mrow[\u001b[38;5;124m'\u001b[39m\u001b[38;5;124mToLongitude\u001b[39m\u001b[38;5;124m'\u001b[39m]\u001b[38;5;132;01m}\u001b[39;00m\u001b[38;5;124m\"\u001b[39m,\n\u001b[1;32m     22\u001b[0m     \u001b[38;5;124m'\u001b[39m\u001b[38;5;124mtravelMode\u001b[39m\u001b[38;5;124m'\u001b[39m: \u001b[38;5;124m'\u001b[39m\u001b[38;5;124mdriving\u001b[39m\u001b[38;5;124m'\u001b[39m,\n\u001b[1;32m     23\u001b[0m     \u001b[38;5;124m'\u001b[39m\u001b[38;5;124mkey\u001b[39m\u001b[38;5;124m'\u001b[39m: api_key\n\u001b[1;32m     24\u001b[0m }\n\u001b[1;32m     25\u001b[0m \u001b[38;5;66;03m# Send the API request and get the response\u001b[39;00m\n\u001b[0;32m---> 26\u001b[0m response \u001b[38;5;241m=\u001b[39m \u001b[43msession\u001b[49m\u001b[38;5;241;43m.\u001b[39;49m\u001b[43mget\u001b[49m\u001b[43m(\u001b[49m\u001b[43murl\u001b[49m\u001b[43m,\u001b[49m\u001b[43m \u001b[49m\u001b[43mparams\u001b[49m\u001b[38;5;241;43m=\u001b[39;49m\u001b[43mparams\u001b[49m\u001b[43m,\u001b[49m\u001b[43m \u001b[49m\u001b[43mtimeout\u001b[49m\u001b[38;5;241;43m=\u001b[39;49m\u001b[43mtimeout\u001b[49m\u001b[43m)\u001b[49m\u001b[38;5;241m.\u001b[39mjson()\n\u001b[1;32m     27\u001b[0m \u001b[38;5;66;03m# Extract the distance from the response\u001b[39;00m\n\u001b[1;32m     28\u001b[0m distance \u001b[38;5;241m=\u001b[39m response[\u001b[38;5;124m'\u001b[39m\u001b[38;5;124mresourceSets\u001b[39m\u001b[38;5;124m'\u001b[39m][\u001b[38;5;241m0\u001b[39m][\u001b[38;5;124m'\u001b[39m\u001b[38;5;124mresources\u001b[39m\u001b[38;5;124m'\u001b[39m][\u001b[38;5;241m0\u001b[39m][\u001b[38;5;124m'\u001b[39m\u001b[38;5;124mresults\u001b[39m\u001b[38;5;124m'\u001b[39m][\u001b[38;5;241m0\u001b[39m][\u001b[38;5;124m'\u001b[39m\u001b[38;5;124mtravelDistance\u001b[39m\u001b[38;5;124m'\u001b[39m]\n",
      "File \u001b[0;32m~/opt/anaconda3/lib/python3.8/site-packages/requests/sessions.py:600\u001b[0m, in \u001b[0;36mSession.get\u001b[0;34m(self, url, **kwargs)\u001b[0m\n\u001b[1;32m    592\u001b[0m \u001b[38;5;124mr\u001b[39m\u001b[38;5;124;03m\"\"\"Sends a GET request. Returns :class:`Response` object.\u001b[39;00m\n\u001b[1;32m    593\u001b[0m \n\u001b[1;32m    594\u001b[0m \u001b[38;5;124;03m:param url: URL for the new :class:`Request` object.\u001b[39;00m\n\u001b[1;32m    595\u001b[0m \u001b[38;5;124;03m:param \\*\\*kwargs: Optional arguments that ``request`` takes.\u001b[39;00m\n\u001b[1;32m    596\u001b[0m \u001b[38;5;124;03m:rtype: requests.Response\u001b[39;00m\n\u001b[1;32m    597\u001b[0m \u001b[38;5;124;03m\"\"\"\u001b[39;00m\n\u001b[1;32m    599\u001b[0m kwargs\u001b[38;5;241m.\u001b[39msetdefault(\u001b[38;5;124m\"\u001b[39m\u001b[38;5;124mallow_redirects\u001b[39m\u001b[38;5;124m\"\u001b[39m, \u001b[38;5;28;01mTrue\u001b[39;00m)\n\u001b[0;32m--> 600\u001b[0m \u001b[38;5;28;01mreturn\u001b[39;00m \u001b[38;5;28;43mself\u001b[39;49m\u001b[38;5;241;43m.\u001b[39;49m\u001b[43mrequest\u001b[49m\u001b[43m(\u001b[49m\u001b[38;5;124;43m\"\u001b[39;49m\u001b[38;5;124;43mGET\u001b[39;49m\u001b[38;5;124;43m\"\u001b[39;49m\u001b[43m,\u001b[49m\u001b[43m \u001b[49m\u001b[43murl\u001b[49m\u001b[43m,\u001b[49m\u001b[43m \u001b[49m\u001b[38;5;241;43m*\u001b[39;49m\u001b[38;5;241;43m*\u001b[39;49m\u001b[43mkwargs\u001b[49m\u001b[43m)\u001b[49m\n",
      "File \u001b[0;32m~/opt/anaconda3/lib/python3.8/site-packages/requests/sessions.py:587\u001b[0m, in \u001b[0;36mSession.request\u001b[0;34m(self, method, url, params, data, headers, cookies, files, auth, timeout, allow_redirects, proxies, hooks, stream, verify, cert, json)\u001b[0m\n\u001b[1;32m    582\u001b[0m send_kwargs \u001b[38;5;241m=\u001b[39m {\n\u001b[1;32m    583\u001b[0m     \u001b[38;5;124m\"\u001b[39m\u001b[38;5;124mtimeout\u001b[39m\u001b[38;5;124m\"\u001b[39m: timeout,\n\u001b[1;32m    584\u001b[0m     \u001b[38;5;124m\"\u001b[39m\u001b[38;5;124mallow_redirects\u001b[39m\u001b[38;5;124m\"\u001b[39m: allow_redirects,\n\u001b[1;32m    585\u001b[0m }\n\u001b[1;32m    586\u001b[0m send_kwargs\u001b[38;5;241m.\u001b[39mupdate(settings)\n\u001b[0;32m--> 587\u001b[0m resp \u001b[38;5;241m=\u001b[39m \u001b[38;5;28;43mself\u001b[39;49m\u001b[38;5;241;43m.\u001b[39;49m\u001b[43msend\u001b[49m\u001b[43m(\u001b[49m\u001b[43mprep\u001b[49m\u001b[43m,\u001b[49m\u001b[43m \u001b[49m\u001b[38;5;241;43m*\u001b[39;49m\u001b[38;5;241;43m*\u001b[39;49m\u001b[43msend_kwargs\u001b[49m\u001b[43m)\u001b[49m\n\u001b[1;32m    589\u001b[0m \u001b[38;5;28;01mreturn\u001b[39;00m resp\n",
      "File \u001b[0;32m~/opt/anaconda3/lib/python3.8/site-packages/requests/sessions.py:701\u001b[0m, in \u001b[0;36mSession.send\u001b[0;34m(self, request, **kwargs)\u001b[0m\n\u001b[1;32m    698\u001b[0m start \u001b[38;5;241m=\u001b[39m preferred_clock()\n\u001b[1;32m    700\u001b[0m \u001b[38;5;66;03m# Send the request\u001b[39;00m\n\u001b[0;32m--> 701\u001b[0m r \u001b[38;5;241m=\u001b[39m \u001b[43madapter\u001b[49m\u001b[38;5;241;43m.\u001b[39;49m\u001b[43msend\u001b[49m\u001b[43m(\u001b[49m\u001b[43mrequest\u001b[49m\u001b[43m,\u001b[49m\u001b[43m \u001b[49m\u001b[38;5;241;43m*\u001b[39;49m\u001b[38;5;241;43m*\u001b[39;49m\u001b[43mkwargs\u001b[49m\u001b[43m)\u001b[49m\n\u001b[1;32m    703\u001b[0m \u001b[38;5;66;03m# Total elapsed time of the request (approximately)\u001b[39;00m\n\u001b[1;32m    704\u001b[0m elapsed \u001b[38;5;241m=\u001b[39m preferred_clock() \u001b[38;5;241m-\u001b[39m start\n",
      "File \u001b[0;32m~/opt/anaconda3/lib/python3.8/site-packages/requests/adapters.py:578\u001b[0m, in \u001b[0;36mHTTPAdapter.send\u001b[0;34m(self, request, stream, timeout, verify, cert, proxies)\u001b[0m\n\u001b[1;32m    576\u001b[0m     \u001b[38;5;28;01mraise\u001b[39;00m SSLError(e, request\u001b[38;5;241m=\u001b[39mrequest)\n\u001b[1;32m    577\u001b[0m \u001b[38;5;28;01melif\u001b[39;00m \u001b[38;5;28misinstance\u001b[39m(e, ReadTimeoutError):\n\u001b[0;32m--> 578\u001b[0m     \u001b[38;5;28;01mraise\u001b[39;00m ReadTimeout(e, request\u001b[38;5;241m=\u001b[39mrequest)\n\u001b[1;32m    579\u001b[0m \u001b[38;5;28;01melif\u001b[39;00m \u001b[38;5;28misinstance\u001b[39m(e, _InvalidHeader):\n\u001b[1;32m    580\u001b[0m     \u001b[38;5;28;01mraise\u001b[39;00m InvalidHeader(e, request\u001b[38;5;241m=\u001b[39mrequest)\n",
      "\u001b[0;31mReadTimeout\u001b[0m: HTTPSConnectionPool(host='dev.virtualearth.net', port=443): Read timed out. (read timeout=60)"
     ]
    }
   ],
   "source": [
    "# # 3) Calculate distances using Bing Matrix API // Batches\n",
    "\n",
    "# # Define Bing Maps API key\n",
    "# api_key = 'AjjPXgFK_kEPapm4Aa71lVBC-OD0Cv--TxfWszdsMyVPAptZVtzAxV8a52UjW6Po'\n",
    "\n",
    "# # Define the Bing Maps API endpoint\n",
    "# url = 'https://dev.virtualearth.net/REST/v1/Routes/DistanceMatrix'\n",
    "\n",
    "# # set the timeout value to 60 seconds to prevent errors from short-term connection issues\n",
    "# # (default is 10 seconds)\n",
    "# timeout = 60\n",
    "\n",
    "# # Define a function to calculate distance between two locations using Bing Maps API\n",
    "# def calculate_distances(rows):\n",
    "#     distances = []\n",
    "#     with requests.Session() as session:\n",
    "#         for index, row in rows.iterrows():\n",
    "#             # Define the request parameters\n",
    "#             params = {\n",
    "#                 'origins': f\"{row['FromLatitude']},{row['FromLongitude']}\",\n",
    "#                 'destinations': f\"{row['ToLatitude']},{row['ToLongitude']}\",\n",
    "#                 'travelMode': 'driving',\n",
    "#                 'key': api_key\n",
    "#             }\n",
    "#             # Send the API request and get the response\n",
    "#             response = session.get(url, params=params, timeout=timeout).json()\n",
    "#             # Extract the distance from the response\n",
    "#             distance = response['resourceSets'][0]['resources'][0]['results'][0]['travelDistance']\n",
    "#             distances.append(distance)\n",
    "#     return distances\n",
    "\n",
    "# # Define the batch size\n",
    "# batch_size = 100\n",
    "\n",
    "# # Split the DataFrame into batches and calculate distances for each batch\n",
    "# batches = [coordinates_df_1[i:i+batch_size] for i in range(0, len(coordinates_df_1), batch_size)]\n",
    "# distances = []\n",
    "# for batch in batches:\n",
    "#     distances += calculate_distances(batch)\n",
    "\n",
    "# # Add the distances to the DataFrame\n",
    "# coordinates_df_1['route_distance'] = distances\n",
    "\n",
    "# # Print the updated DataFrame\n",
    "# print(coordinates_df_1.head())\n",
    "\n",
    "# # Save the DataFrame as a CSV file\n",
    "# coordinates_df_1.to_csv('coordinates_df_1.csv', index=False)\n"
   ]
  },
  {
   "cell_type": "code",
   "execution_count": 59,
   "metadata": {},
   "outputs": [],
   "source": [
    "# Concatenating together the single csv files from the API calls\n",
    "import os \n",
    "# set working directory to where the CSV files are located\n",
    "os.chdir('/Users/jangaydoul/Desktop/Copenhagen Business School/4. Semester :: Thesis/03_Data/csvs')\n",
    "\n",
    "# initialize an empty dataframe to hold the concatenated data\n",
    "coordinates_df_vf = pd.DataFrame()\n",
    "\n",
    "# loop through each CSV file and append its data to the dataframe\n",
    "for file in os.listdir():\n",
    "    if file.endswith('.csv'):\n",
    "        temp_df = pd.read_csv(file)\n",
    "        coordinates_df_vf = pd.concat([coordinates_df_vf, temp_df])\n",
    "\n",
    "# export the concatenated data to a new CSV file\n",
    "coordinates_df_vf.to_csv('coordinates_df_vf.csv', index=False)"
   ]
  },
  {
   "cell_type": "code",
   "execution_count": 60,
   "metadata": {},
   "outputs": [],
   "source": [
    "# 4) We create a [route: distance] dictionary in order to then map the distances from the unique routes \n",
    "# to the full dataset:\n",
    "\n",
    "route_distances_dict = coordinates_df_vf.set_index(['FromLatitude', 'FromLongitude', 'ToLatitude', 'ToLongitude'])['route_distance'].to_dict()"
   ]
  },
  {
   "cell_type": "code",
   "execution_count": 62,
   "metadata": {},
   "outputs": [
    {
     "name": "stdout",
     "output_type": "stream",
     "text": [
      "[((50.63656, 4.78251, 63.44178, 10.40893), 2004.311), ((56.20318, 14.8734, 57.42278, 15.06204), 160.384), ((57.73572, 11.98862, 56.16157, 15.58364), 376.025), ((60.71076, 10.60526, 51.00683, -0.42949), 1991.237), ((57.73572, 11.98862, 56.21754, 15.27024), 348.243), ((52.29191, 0.3908, 52.59905, -2.11051), 203.926), ((56.73379, 15.98266, 53.46811, -2.30989), 1870.927), ((51.80442, -2.73111, 56.65121, 12.90138), 1639.319), ((54.81511, -6.71169, 52.59421, -1.21486), 665.551), ((54.81511, -6.71169, 51.8658, 0.87254), 827.731)]\n"
     ]
    }
   ],
   "source": [
    "# Check out if dictionare setup worked\n",
    "first_few = list(route_distances_dict.items())[:10]\n",
    "\n",
    "# print the first few entries\n",
    "print(first_few)"
   ]
  },
  {
   "cell_type": "code",
   "execution_count": 64,
   "metadata": {},
   "outputs": [
    {
     "data": {
      "text/html": [
       "<div>\n",
       "<style scoped>\n",
       "    .dataframe tbody tr th:only-of-type {\n",
       "        vertical-align: middle;\n",
       "    }\n",
       "\n",
       "    .dataframe tbody tr th {\n",
       "        vertical-align: top;\n",
       "    }\n",
       "\n",
       "    .dataframe thead th {\n",
       "        text-align: right;\n",
       "    }\n",
       "</style>\n",
       "<table border=\"1\" class=\"dataframe\">\n",
       "  <thead>\n",
       "    <tr style=\"text-align: right;\">\n",
       "      <th></th>\n",
       "      <th>BookingId</th>\n",
       "      <th>SubBookingName</th>\n",
       "      <th>FromLocation</th>\n",
       "      <th>ToLocation</th>\n",
       "      <th>StartRequestedDate</th>\n",
       "      <th>EndRequestedDate</th>\n",
       "      <th>GrossWeight</th>\n",
       "      <th>Temperature</th>\n",
       "      <th>FromLatitude</th>\n",
       "      <th>FromLongitude</th>\n",
       "      <th>FromCity</th>\n",
       "      <th>FromCountry</th>\n",
       "      <th>ToLatitude</th>\n",
       "      <th>ToLongitude</th>\n",
       "      <th>ToCity</th>\n",
       "      <th>ToCountry</th>\n",
       "      <th>FullLoadIndicator</th>\n",
       "      <th>EmptyBookingIndicator</th>\n",
       "      <th>Customer Name</th>\n",
       "      <th>DomesticDelivery</th>\n",
       "      <th>route_distance</th>\n",
       "    </tr>\n",
       "  </thead>\n",
       "  <tbody>\n",
       "    <tr>\n",
       "      <th>0</th>\n",
       "      <td>7399574</td>\n",
       "      <td>A</td>\n",
       "      <td>33917</td>\n",
       "      <td>32289</td>\n",
       "      <td>2020-12-31</td>\n",
       "      <td>2020-12-31</td>\n",
       "      <td>0.0</td>\n",
       "      <td>NaN</td>\n",
       "      <td>53.51131</td>\n",
       "      <td>-1.12540</td>\n",
       "      <td>YORKSHIRE</td>\n",
       "      <td>United Kingdom</td>\n",
       "      <td>53.60475</td>\n",
       "      <td>-0.65636</td>\n",
       "      <td>SCUNTHORPE</td>\n",
       "      <td>United Kingdom</td>\n",
       "      <td>1.0</td>\n",
       "      <td>0.0</td>\n",
       "      <td>2966</td>\n",
       "      <td>1</td>\n",
       "      <td>46.346</td>\n",
       "    </tr>\n",
       "    <tr>\n",
       "      <th>1</th>\n",
       "      <td>7399575</td>\n",
       "      <td>A</td>\n",
       "      <td>9443</td>\n",
       "      <td>57716</td>\n",
       "      <td>2020-12-31</td>\n",
       "      <td>2020-12-31</td>\n",
       "      <td>0.0</td>\n",
       "      <td>NaN</td>\n",
       "      <td>53.50446</td>\n",
       "      <td>-2.84867</td>\n",
       "      <td>Liverpool</td>\n",
       "      <td>United Kingdom</td>\n",
       "      <td>53.04612</td>\n",
       "      <td>-2.92787</td>\n",
       "      <td>Wrexham</td>\n",
       "      <td>United Kingdom</td>\n",
       "      <td>1.0</td>\n",
       "      <td>0.0</td>\n",
       "      <td>8183</td>\n",
       "      <td>1</td>\n",
       "      <td>78.192</td>\n",
       "    </tr>\n",
       "    <tr>\n",
       "      <th>2</th>\n",
       "      <td>7399576</td>\n",
       "      <td>A</td>\n",
       "      <td>9443</td>\n",
       "      <td>57716</td>\n",
       "      <td>2020-12-31</td>\n",
       "      <td>2020-12-31</td>\n",
       "      <td>0.0</td>\n",
       "      <td>NaN</td>\n",
       "      <td>53.50446</td>\n",
       "      <td>-2.84867</td>\n",
       "      <td>Liverpool</td>\n",
       "      <td>United Kingdom</td>\n",
       "      <td>53.04612</td>\n",
       "      <td>-2.92787</td>\n",
       "      <td>Wrexham</td>\n",
       "      <td>United Kingdom</td>\n",
       "      <td>1.0</td>\n",
       "      <td>0.0</td>\n",
       "      <td>8183</td>\n",
       "      <td>1</td>\n",
       "      <td>78.192</td>\n",
       "    </tr>\n",
       "    <tr>\n",
       "      <th>3</th>\n",
       "      <td>7399577</td>\n",
       "      <td>A</td>\n",
       "      <td>5977</td>\n",
       "      <td>9831</td>\n",
       "      <td>2020-12-31</td>\n",
       "      <td>2020-12-31</td>\n",
       "      <td>0.0</td>\n",
       "      <td>NaN</td>\n",
       "      <td>53.77629</td>\n",
       "      <td>-1.52585</td>\n",
       "      <td>Leeds</td>\n",
       "      <td>United Kingdom</td>\n",
       "      <td>53.71874</td>\n",
       "      <td>-1.41235</td>\n",
       "      <td>YORKSHIRE</td>\n",
       "      <td>United Kingdom</td>\n",
       "      <td>0.0</td>\n",
       "      <td>0.0</td>\n",
       "      <td>4737</td>\n",
       "      <td>1</td>\n",
       "      <td>17.733</td>\n",
       "    </tr>\n",
       "    <tr>\n",
       "      <th>4</th>\n",
       "      <td>7399578</td>\n",
       "      <td>A</td>\n",
       "      <td>5977</td>\n",
       "      <td>3182</td>\n",
       "      <td>2020-12-31</td>\n",
       "      <td>2020-12-31</td>\n",
       "      <td>0.0</td>\n",
       "      <td>NaN</td>\n",
       "      <td>53.77629</td>\n",
       "      <td>-1.52585</td>\n",
       "      <td>Leeds</td>\n",
       "      <td>United Kingdom</td>\n",
       "      <td>55.87784</td>\n",
       "      <td>-3.65235</td>\n",
       "      <td>Bathgate</td>\n",
       "      <td>United Kingdom</td>\n",
       "      <td>1.0</td>\n",
       "      <td>0.0</td>\n",
       "      <td>4737</td>\n",
       "      <td>1</td>\n",
       "      <td>369.340</td>\n",
       "    </tr>\n",
       "  </tbody>\n",
       "</table>\n",
       "</div>"
      ],
      "text/plain": [
       "   BookingId SubBookingName  FromLocation  ToLocation StartRequestedDate  \\\n",
       "0    7399574              A         33917       32289         2020-12-31   \n",
       "1    7399575              A          9443       57716         2020-12-31   \n",
       "2    7399576              A          9443       57716         2020-12-31   \n",
       "3    7399577              A          5977        9831         2020-12-31   \n",
       "4    7399578              A          5977        3182         2020-12-31   \n",
       "\n",
       "  EndRequestedDate  GrossWeight  Temperature  FromLatitude  FromLongitude  \\\n",
       "0       2020-12-31          0.0          NaN      53.51131       -1.12540   \n",
       "1       2020-12-31          0.0          NaN      53.50446       -2.84867   \n",
       "2       2020-12-31          0.0          NaN      53.50446       -2.84867   \n",
       "3       2020-12-31          0.0          NaN      53.77629       -1.52585   \n",
       "4       2020-12-31          0.0          NaN      53.77629       -1.52585   \n",
       "\n",
       "    FromCity     FromCountry  ToLatitude  ToLongitude      ToCity  \\\n",
       "0  YORKSHIRE  United Kingdom    53.60475     -0.65636  SCUNTHORPE   \n",
       "1  Liverpool  United Kingdom    53.04612     -2.92787     Wrexham   \n",
       "2  Liverpool  United Kingdom    53.04612     -2.92787     Wrexham   \n",
       "3      Leeds  United Kingdom    53.71874     -1.41235   YORKSHIRE   \n",
       "4      Leeds  United Kingdom    55.87784     -3.65235    Bathgate   \n",
       "\n",
       "        ToCountry  FullLoadIndicator  EmptyBookingIndicator  Customer Name  \\\n",
       "0  United Kingdom                1.0                    0.0           2966   \n",
       "1  United Kingdom                1.0                    0.0           8183   \n",
       "2  United Kingdom                1.0                    0.0           8183   \n",
       "3  United Kingdom                0.0                    0.0           4737   \n",
       "4  United Kingdom                1.0                    0.0           4737   \n",
       "\n",
       "   DomesticDelivery  route_distance  \n",
       "0                 1          46.346  \n",
       "1                 1          78.192  \n",
       "2                 1          78.192  \n",
       "3                 1          17.733  \n",
       "4                 1         369.340  "
      ]
     },
     "execution_count": 64,
     "metadata": {},
     "output_type": "execute_result"
    }
   ],
   "source": [
    "# 5) Map the route distances to the original DataFrame\n",
    "\n",
    "df_final['route_distance'] = df_final.set_index(['FromLatitude', 'FromLongitude', 'ToLatitude', 'ToLongitude']).index.map(route_distances_dict)\n",
    "\n",
    "# Check the updated DataFrame\n",
    "df_final.head()"
   ]
  },
  {
   "cell_type": "code",
   "execution_count": 65,
   "metadata": {},
   "outputs": [
    {
     "data": {
      "text/plain": [
       "382"
      ]
     },
     "execution_count": 65,
     "metadata": {},
     "output_type": "execute_result"
    }
   ],
   "source": [
    "df_final['route_distance'].isna().sum()"
   ]
  },
  {
   "cell_type": "markdown",
   "metadata": {},
   "source": [
    " 5.4) \"frozen_load\""
   ]
  },
  {
   "cell_type": "code",
   "execution_count": 66,
   "metadata": {},
   "outputs": [],
   "source": [
    "# We want to know whether a load is frozen or not, as this has major implications on the reach of the truck. \n",
    "# That's why we binary encode the \"temperature\" feature \n",
    "\n",
    "# Create the new \"frozen_load\" column using numpy.where\n",
    "df_final['frozen_load'] = np.where(df_final['Temperature'] < 0, 1, 0)"
   ]
  },
  {
   "cell_type": "code",
   "execution_count": 67,
   "metadata": {},
   "outputs": [
    {
     "data": {
      "image/png": "[encoded data removed]",
      "text/plain": [
       "<Figure size 200x200 with 1 Axes>"
      ]
     },
     "metadata": {},
     "output_type": "display_data"
    }
   ],
   "source": [
    "frozen_load = df_final['frozen_load'].value_counts()\n",
    "\n",
    "frozen_load.plot(kind = 'pie', \n",
    "                        figsize = (2, 2), \n",
    "                        autopct = '%1.1f%%', \n",
    "                        startangle = 90,\n",
    "                        pctdistance = 0.8,\n",
    "                        labeldistance = 1.1)\n",
    "\n",
    "plt.axis('equal')\n",
    "plt.title('Share of frozen loads')\n",
    "plt.show()"
   ]
  },
  {
   "cell_type": "markdown",
   "metadata": {},
   "source": [
    "#### Final touches \n",
    "\n",
    "- Now that pre-processing is done, there are two final steps: \n",
    "\n",
    "1) Re-order columns so everything is in a purposeful order\n",
    "2) Create dataset only with full loads (makes up 92% of original dataset anyways, but still) \n"
   ]
  },
  {
   "cell_type": "code",
   "execution_count": 68,
   "metadata": {},
   "outputs": [
    {
     "data": {
      "text/plain": [
       "BookingId                      0\n",
       "SubBookingName                 0\n",
       "FromLocation                   0\n",
       "ToLocation                     0\n",
       "StartRequestedDate           338\n",
       "EndRequestedDate               0\n",
       "GrossWeight                    0\n",
       "Temperature              4048923\n",
       "FromLatitude                   0\n",
       "FromLongitude                  0\n",
       "FromCity                       0\n",
       "FromCountry                    0\n",
       "ToLatitude                     0\n",
       "ToLongitude                    0\n",
       "ToCity                         2\n",
       "ToCountry                      0\n",
       "FullLoadIndicator         584367\n",
       "EmptyBookingIndicator     584367\n",
       "Customer Name                  0\n",
       "DomesticDelivery               0\n",
       "route_distance               382\n",
       "frozen_load                    0\n",
       "dtype: int64"
      ]
     },
     "execution_count": 68,
     "metadata": {},
     "output_type": "execute_result"
    }
   ],
   "source": [
    "# Check missing values again to see if everything has been taken care of \n",
    "df_final.isna().sum()"
   ]
  },
  {
   "cell_type": "code",
   "execution_count": null,
   "metadata": {},
   "outputs": [],
   "source": [
    "# Create df_full that only contains full loads \n",
    "\n",
    "#\n",
    "#"
   ]
  },
  {
   "cell_type": "code",
   "execution_count": 69,
   "metadata": {},
   "outputs": [
    {
     "name": "stdout",
     "output_type": "stream",
     "text": [
      "['BookingId', 'SubBookingName', 'FromLocation', 'ToLocation', 'StartRequestedDate', 'EndRequestedDate', 'GrossWeight', 'Temperature', 'FromLatitude', 'FromLongitude', 'FromCity', 'FromCountry', 'ToLatitude', 'ToLongitude', 'ToCity', 'ToCountry', 'FullLoadIndicator', 'EmptyBookingIndicator', 'Customer Name', 'DomesticDelivery', 'route_distance', 'frozen_load']\n"
     ]
    }
   ],
   "source": [
    "columns = list(df_final.columns)\n",
    "print(columns)"
   ]
  },
  {
   "cell_type": "code",
   "execution_count": 70,
   "metadata": {},
   "outputs": [],
   "source": [
    "# Order columns of dataset meaningful \n",
    "\n",
    "# Define the desired order of columns\n",
    "column_order = ['BookingId', 'SubBookingName', 'Customer Name', 'StartRequestedDate', 'EndRequestedDate', 'FromLocation', 'ToLocation', 'FromLatitude', 'FromLongitude', 'FromCity', 'FromCountry', 'ToLatitude', 'ToLongitude', 'ToCity', 'ToCountry', 'DomesticDelivery', 'route_distance', 'FullLoadIndicator', 'EmptyBookingIndicator','GrossWeight', 'Temperature', 'frozen_load']\n",
    "\n",
    "# Use the reindex() method to reorder the columns in the dataframe\n",
    "df_final = df_final.reindex(columns = column_order)"
   ]
  },
  {
   "cell_type": "code",
   "execution_count": 71,
   "metadata": {},
   "outputs": [
    {
     "data": {
      "text/html": [
       "<div>\n",
       "<style scoped>\n",
       "    .dataframe tbody tr th:only-of-type {\n",
       "        vertical-align: middle;\n",
       "    }\n",
       "\n",
       "    .dataframe tbody tr th {\n",
       "        vertical-align: top;\n",
       "    }\n",
       "\n",
       "    .dataframe thead th {\n",
       "        text-align: right;\n",
       "    }\n",
       "</style>\n",
       "<table border=\"1\" class=\"dataframe\">\n",
       "  <thead>\n",
       "    <tr style=\"text-align: right;\">\n",
       "      <th></th>\n",
       "      <th>BookingId</th>\n",
       "      <th>SubBookingName</th>\n",
       "      <th>Customer Name</th>\n",
       "      <th>StartRequestedDate</th>\n",
       "      <th>EndRequestedDate</th>\n",
       "      <th>FromLocation</th>\n",
       "      <th>ToLocation</th>\n",
       "      <th>FromLatitude</th>\n",
       "      <th>FromLongitude</th>\n",
       "      <th>FromCity</th>\n",
       "      <th>FromCountry</th>\n",
       "      <th>ToLatitude</th>\n",
       "      <th>ToLongitude</th>\n",
       "      <th>ToCity</th>\n",
       "      <th>ToCountry</th>\n",
       "      <th>DomesticDelivery</th>\n",
       "      <th>route_distance</th>\n",
       "      <th>FullLoadIndicator</th>\n",
       "      <th>EmptyBookingIndicator</th>\n",
       "      <th>GrossWeight</th>\n",
       "      <th>Temperature</th>\n",
       "      <th>frozen_load</th>\n",
       "    </tr>\n",
       "  </thead>\n",
       "  <tbody>\n",
       "    <tr>\n",
       "      <th>0</th>\n",
       "      <td>7399574</td>\n",
       "      <td>A</td>\n",
       "      <td>2966</td>\n",
       "      <td>2020-12-31</td>\n",
       "      <td>2020-12-31</td>\n",
       "      <td>33917</td>\n",
       "      <td>32289</td>\n",
       "      <td>53.51131</td>\n",
       "      <td>-1.12540</td>\n",
       "      <td>YORKSHIRE</td>\n",
       "      <td>United Kingdom</td>\n",
       "      <td>53.60475</td>\n",
       "      <td>-0.65636</td>\n",
       "      <td>SCUNTHORPE</td>\n",
       "      <td>United Kingdom</td>\n",
       "      <td>1</td>\n",
       "      <td>46.346</td>\n",
       "      <td>1.0</td>\n",
       "      <td>0.0</td>\n",
       "      <td>0.0</td>\n",
       "      <td>NaN</td>\n",
       "      <td>0</td>\n",
       "    </tr>\n",
       "    <tr>\n",
       "      <th>1</th>\n",
       "      <td>7399575</td>\n",
       "      <td>A</td>\n",
       "      <td>8183</td>\n",
       "      <td>2020-12-31</td>\n",
       "      <td>2020-12-31</td>\n",
       "      <td>9443</td>\n",
       "      <td>57716</td>\n",
       "      <td>53.50446</td>\n",
       "      <td>-2.84867</td>\n",
       "      <td>Liverpool</td>\n",
       "      <td>United Kingdom</td>\n",
       "      <td>53.04612</td>\n",
       "      <td>-2.92787</td>\n",
       "      <td>Wrexham</td>\n",
       "      <td>United Kingdom</td>\n",
       "      <td>1</td>\n",
       "      <td>78.192</td>\n",
       "      <td>1.0</td>\n",
       "      <td>0.0</td>\n",
       "      <td>0.0</td>\n",
       "      <td>NaN</td>\n",
       "      <td>0</td>\n",
       "    </tr>\n",
       "    <tr>\n",
       "      <th>2</th>\n",
       "      <td>7399576</td>\n",
       "      <td>A</td>\n",
       "      <td>8183</td>\n",
       "      <td>2020-12-31</td>\n",
       "      <td>2020-12-31</td>\n",
       "      <td>9443</td>\n",
       "      <td>57716</td>\n",
       "      <td>53.50446</td>\n",
       "      <td>-2.84867</td>\n",
       "      <td>Liverpool</td>\n",
       "      <td>United Kingdom</td>\n",
       "      <td>53.04612</td>\n",
       "      <td>-2.92787</td>\n",
       "      <td>Wrexham</td>\n",
       "      <td>United Kingdom</td>\n",
       "      <td>1</td>\n",
       "      <td>78.192</td>\n",
       "      <td>1.0</td>\n",
       "      <td>0.0</td>\n",
       "      <td>0.0</td>\n",
       "      <td>NaN</td>\n",
       "      <td>0</td>\n",
       "    </tr>\n",
       "    <tr>\n",
       "      <th>3</th>\n",
       "      <td>7399577</td>\n",
       "      <td>A</td>\n",
       "      <td>4737</td>\n",
       "      <td>2020-12-31</td>\n",
       "      <td>2020-12-31</td>\n",
       "      <td>5977</td>\n",
       "      <td>9831</td>\n",
       "      <td>53.77629</td>\n",
       "      <td>-1.52585</td>\n",
       "      <td>Leeds</td>\n",
       "      <td>United Kingdom</td>\n",
       "      <td>53.71874</td>\n",
       "      <td>-1.41235</td>\n",
       "      <td>YORKSHIRE</td>\n",
       "      <td>United Kingdom</td>\n",
       "      <td>1</td>\n",
       "      <td>17.733</td>\n",
       "      <td>0.0</td>\n",
       "      <td>0.0</td>\n",
       "      <td>0.0</td>\n",
       "      <td>NaN</td>\n",
       "      <td>0</td>\n",
       "    </tr>\n",
       "    <tr>\n",
       "      <th>4</th>\n",
       "      <td>7399578</td>\n",
       "      <td>A</td>\n",
       "      <td>4737</td>\n",
       "      <td>2020-12-31</td>\n",
       "      <td>2020-12-31</td>\n",
       "      <td>5977</td>\n",
       "      <td>3182</td>\n",
       "      <td>53.77629</td>\n",
       "      <td>-1.52585</td>\n",
       "      <td>Leeds</td>\n",
       "      <td>United Kingdom</td>\n",
       "      <td>55.87784</td>\n",
       "      <td>-3.65235</td>\n",
       "      <td>Bathgate</td>\n",
       "      <td>United Kingdom</td>\n",
       "      <td>1</td>\n",
       "      <td>369.340</td>\n",
       "      <td>1.0</td>\n",
       "      <td>0.0</td>\n",
       "      <td>0.0</td>\n",
       "      <td>NaN</td>\n",
       "      <td>0</td>\n",
       "    </tr>\n",
       "    <tr>\n",
       "      <th>5</th>\n",
       "      <td>7399579</td>\n",
       "      <td>A</td>\n",
       "      <td>8054</td>\n",
       "      <td>2020-12-31</td>\n",
       "      <td>2020-12-31</td>\n",
       "      <td>9320</td>\n",
       "      <td>37777</td>\n",
       "      <td>53.50446</td>\n",
       "      <td>-2.84867</td>\n",
       "      <td>Liverpool</td>\n",
       "      <td>United Kingdom</td>\n",
       "      <td>55.91412</td>\n",
       "      <td>-3.50947</td>\n",
       "      <td>LIVINGSTON</td>\n",
       "      <td>United Kingdom</td>\n",
       "      <td>1</td>\n",
       "      <td>362.516</td>\n",
       "      <td>0.0</td>\n",
       "      <td>0.0</td>\n",
       "      <td>0.0</td>\n",
       "      <td>NaN</td>\n",
       "      <td>0</td>\n",
       "    </tr>\n",
       "    <tr>\n",
       "      <th>6</th>\n",
       "      <td>7399580</td>\n",
       "      <td>A</td>\n",
       "      <td>4737</td>\n",
       "      <td>2020-12-31</td>\n",
       "      <td>2020-12-31</td>\n",
       "      <td>5977</td>\n",
       "      <td>29662</td>\n",
       "      <td>53.77629</td>\n",
       "      <td>-1.52585</td>\n",
       "      <td>Leeds</td>\n",
       "      <td>United Kingdom</td>\n",
       "      <td>53.58155</td>\n",
       "      <td>-1.52633</td>\n",
       "      <td>Barnsley</td>\n",
       "      <td>United Kingdom</td>\n",
       "      <td>1</td>\n",
       "      <td>27.685</td>\n",
       "      <td>0.0</td>\n",
       "      <td>0.0</td>\n",
       "      <td>0.0</td>\n",
       "      <td>NaN</td>\n",
       "      <td>0</td>\n",
       "    </tr>\n",
       "    <tr>\n",
       "      <th>7</th>\n",
       "      <td>7399581</td>\n",
       "      <td>A</td>\n",
       "      <td>4737</td>\n",
       "      <td>2020-12-31</td>\n",
       "      <td>2020-12-31</td>\n",
       "      <td>5977</td>\n",
       "      <td>11828</td>\n",
       "      <td>53.77629</td>\n",
       "      <td>-1.52585</td>\n",
       "      <td>Leeds</td>\n",
       "      <td>United Kingdom</td>\n",
       "      <td>53.62632</td>\n",
       "      <td>-1.35656</td>\n",
       "      <td>Pontefract</td>\n",
       "      <td>United Kingdom</td>\n",
       "      <td>1</td>\n",
       "      <td>29.779</td>\n",
       "      <td>0.0</td>\n",
       "      <td>0.0</td>\n",
       "      <td>0.0</td>\n",
       "      <td>NaN</td>\n",
       "      <td>0</td>\n",
       "    </tr>\n",
       "    <tr>\n",
       "      <th>8</th>\n",
       "      <td>7399582</td>\n",
       "      <td>A</td>\n",
       "      <td>8183</td>\n",
       "      <td>2020-12-30</td>\n",
       "      <td>2020-12-31</td>\n",
       "      <td>37964</td>\n",
       "      <td>21225</td>\n",
       "      <td>53.84792</td>\n",
       "      <td>-2.19863</td>\n",
       "      <td>Colne</td>\n",
       "      <td>United Kingdom</td>\n",
       "      <td>53.50446</td>\n",
       "      <td>-2.84867</td>\n",
       "      <td>Liverpool</td>\n",
       "      <td>United Kingdom</td>\n",
       "      <td>1</td>\n",
       "      <td>79.157</td>\n",
       "      <td>1.0</td>\n",
       "      <td>0.0</td>\n",
       "      <td>0.0</td>\n",
       "      <td>NaN</td>\n",
       "      <td>0</td>\n",
       "    </tr>\n",
       "    <tr>\n",
       "      <th>9</th>\n",
       "      <td>7399583</td>\n",
       "      <td>A</td>\n",
       "      <td>7658</td>\n",
       "      <td>2020-12-31</td>\n",
       "      <td>2020-12-31</td>\n",
       "      <td>9320</td>\n",
       "      <td>78484</td>\n",
       "      <td>53.50446</td>\n",
       "      <td>-2.84867</td>\n",
       "      <td>Liverpool</td>\n",
       "      <td>United Kingdom</td>\n",
       "      <td>53.51131</td>\n",
       "      <td>-1.12540</td>\n",
       "      <td>Doncaster</td>\n",
       "      <td>United Kingdom</td>\n",
       "      <td>1</td>\n",
       "      <td>167.201</td>\n",
       "      <td>1.0</td>\n",
       "      <td>0.0</td>\n",
       "      <td>0.0</td>\n",
       "      <td>NaN</td>\n",
       "      <td>0</td>\n",
       "    </tr>\n",
       "  </tbody>\n",
       "</table>\n",
       "</div>"
      ],
      "text/plain": [
       "   BookingId SubBookingName  Customer Name StartRequestedDate  \\\n",
       "0    7399574              A           2966         2020-12-31   \n",
       "1    7399575              A           8183         2020-12-31   \n",
       "2    7399576              A           8183         2020-12-31   \n",
       "3    7399577              A           4737         2020-12-31   \n",
       "4    7399578              A           4737         2020-12-31   \n",
       "5    7399579              A           8054         2020-12-31   \n",
       "6    7399580              A           4737         2020-12-31   \n",
       "7    7399581              A           4737         2020-12-31   \n",
       "8    7399582              A           8183         2020-12-30   \n",
       "9    7399583              A           7658         2020-12-31   \n",
       "\n",
       "  EndRequestedDate  FromLocation  ToLocation  FromLatitude  FromLongitude  \\\n",
       "0       2020-12-31         33917       32289      53.51131       -1.12540   \n",
       "1       2020-12-31          9443       57716      53.50446       -2.84867   \n",
       "2       2020-12-31          9443       57716      53.50446       -2.84867   \n",
       "3       2020-12-31          5977        9831      53.77629       -1.52585   \n",
       "4       2020-12-31          5977        3182      53.77629       -1.52585   \n",
       "5       2020-12-31          9320       37777      53.50446       -2.84867   \n",
       "6       2020-12-31          5977       29662      53.77629       -1.52585   \n",
       "7       2020-12-31          5977       11828      53.77629       -1.52585   \n",
       "8       2020-12-31         37964       21225      53.84792       -2.19863   \n",
       "9       2020-12-31          9320       78484      53.50446       -2.84867   \n",
       "\n",
       "    FromCity     FromCountry  ToLatitude  ToLongitude      ToCity  \\\n",
       "0  YORKSHIRE  United Kingdom    53.60475     -0.65636  SCUNTHORPE   \n",
       "1  Liverpool  United Kingdom    53.04612     -2.92787     Wrexham   \n",
       "2  Liverpool  United Kingdom    53.04612     -2.92787     Wrexham   \n",
       "3      Leeds  United Kingdom    53.71874     -1.41235   YORKSHIRE   \n",
       "4      Leeds  United Kingdom    55.87784     -3.65235    Bathgate   \n",
       "5  Liverpool  United Kingdom    55.91412     -3.50947  LIVINGSTON   \n",
       "6      Leeds  United Kingdom    53.58155     -1.52633    Barnsley   \n",
       "7      Leeds  United Kingdom    53.62632     -1.35656  Pontefract   \n",
       "8      Colne  United Kingdom    53.50446     -2.84867   Liverpool   \n",
       "9  Liverpool  United Kingdom    53.51131     -1.12540   Doncaster   \n",
       "\n",
       "        ToCountry  DomesticDelivery  route_distance  FullLoadIndicator  \\\n",
       "0  United Kingdom                 1          46.346                1.0   \n",
       "1  United Kingdom                 1          78.192                1.0   \n",
       "2  United Kingdom                 1          78.192                1.0   \n",
       "3  United Kingdom                 1          17.733                0.0   \n",
       "4  United Kingdom                 1         369.340                1.0   \n",
       "5  United Kingdom                 1         362.516                0.0   \n",
       "6  United Kingdom                 1          27.685                0.0   \n",
       "7  United Kingdom                 1          29.779                0.0   \n",
       "8  United Kingdom                 1          79.157                1.0   \n",
       "9  United Kingdom                 1         167.201                1.0   \n",
       "\n",
       "   EmptyBookingIndicator  GrossWeight  Temperature  frozen_load  \n",
       "0                    0.0          0.0          NaN            0  \n",
       "1                    0.0          0.0          NaN            0  \n",
       "2                    0.0          0.0          NaN            0  \n",
       "3                    0.0          0.0          NaN            0  \n",
       "4                    0.0          0.0          NaN            0  \n",
       "5                    0.0          0.0          NaN            0  \n",
       "6                    0.0          0.0          NaN            0  \n",
       "7                    0.0          0.0          NaN            0  \n",
       "8                    0.0          0.0          NaN            0  \n",
       "9                    0.0          0.0          NaN            0  "
      ]
     },
     "execution_count": 71,
     "metadata": {},
     "output_type": "execute_result"
    }
   ],
   "source": [
    "# Look at final dataset\n",
    "\n",
    "df_final.head(10)"
   ]
  },
  {
   "cell_type": "code",
   "execution_count": 72,
   "metadata": {},
   "outputs": [],
   "source": [
    "# Saving df_final\n",
    "df_final.to_csv('df_final.csv', index=False)"
   ]
  },
  {
   "cell_type": "code",
   "execution_count": null,
   "metadata": {},
   "outputs": [],
   "source": []
  }
 ],
 "metadata": {
  "kernelspec": {
   "display_name": "Python 3 (ipykernel)",
   "language": "python",
   "name": "python3"
  },
  "language_info": {
   "codemirror_mode": {
    "name": "ipython",
    "version": 3
   },
   "file_extension": ".py",
   "mimetype": "text/x-python",
   "name": "python",
   "nbconvert_exporter": "python",
   "pygments_lexer": "ipython3",
   "version": "3.9.5"
  },
  "vscode": {
   "interpreter": {
    "hash": "963c985a3ab934e468d0c83ad8f6cb085181b72f2da62ae8faec564842f144dd"
   }
  }
 },
 "nbformat": 4,
 "nbformat_minor": 2
}
