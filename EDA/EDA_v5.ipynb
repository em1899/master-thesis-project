{
 "cells": [
  {
   "cell_type": "markdown",
   "metadata": {},
   "source": [
    "### Master Thesis Project: Finding optimal EV charging infrastructure on DFDS routes\n",
    "_________________________________________________________________________________________\n",
    "\n",
    "#### Students: Jan Gaydoul & Emanuela Zucchetto\n",
    "\n",
    "#### Code Part 1: Data Pre-processing, Exploratory Data Analysis, and Feature Engineering"
   ]
  },
  {
   "cell_type": "markdown",
   "metadata": {},
   "source": [
    "This notebook contains ...\n",
    "\n",
    "1) Loading the different data sources and merging them into one consolidated dataset \n",
    "2) Get a first overview of the data we are working with \n",
    "3) Checking missing values and dropping redundant variables\n",
    "4) Feature Deep Dive\n",
    "5) Feature Engineering\n",
    "6)\n",
    "7)\n",
    "8)\n",
    "9) \n",
    "\n",
    "This file outputs the final dataset that is used as the basis for the further project.\n",
    "______________________________________________________________________________________________________________"
   ]
  },
  {
   "cell_type": "code",
   "execution_count": 1,
   "metadata": {},
   "outputs": [],
   "source": [
    "# Importing needed libraries\n",
    "\n",
    "import pandas as pd\n",
    "pd.set_option('display.max_columns', None)\n",
    "\n",
    "import numpy as np\n",
    "import seaborn as sns\n",
    "import matplotlib.pyplot as plt\n",
    "import haversine as hs\n",
    "import requests\n",
    "import reverse_geocode\n",
    "# from geopy.geocoders import Nominatim\n",
    "# from tqdm import tqdm\n",
    "\n",
    "from sklearn import preprocessing\n",
    "from sklearn.preprocessing import LabelEncoder"
   ]
  },
  {
   "cell_type": "markdown",
   "metadata": {},
   "source": [
    "##### 1) Data Loading and Merging"
   ]
  },
  {
   "cell_type": "code",
   "execution_count": 3,
   "metadata": {},
   "outputs": [],
   "source": [
    "# Read three initial datasets (csv files) \n",
    "\n",
    "df = pd.read_csv(\"/Users/jangaydoul/Desktop/Copenhagen Business School/4. Semester :: Thesis/03_Data/Results.csv\")\n",
    "df_with_legs_1 = pd.read_csv(\"/Users/jangaydoul/Desktop/Copenhagen Business School/4. Semester :: Thesis/03_Data/booking_with_legs_2021-2022.csv\")\n",
    "df_with_legs_2 = pd.read_csv(\"/Users/jangaydoul/Desktop/Copenhagen Business School/4. Semester :: Thesis/03_Data/collections_bookings_with_legs_2022.csv\")"
   ]
  },
  {
   "cell_type": "code",
   "execution_count": 5,
   "metadata": {},
   "outputs": [],
   "source": [
    "# Creating copies of original datasets\n",
    "\n",
    "df_backup = df.copy()\n",
    "df_with_legs_1_backup = df_with_legs_1.copy()\n",
    "df_with_legs_2_backup = df_with_legs_2.copy()"
   ]
  },
  {
   "cell_type": "markdown",
   "metadata": {},
   "source": [
    "Note: \n",
    "\n",
    "- We are drawing data from two different systems in DFDS:   \n",
    "--> df is from one system   \n",
    "--> df_with_legs_1 & 2 are from another system, which is why the columns slightly differ  \n",
    "  \n",
    "- booking_with_legs_2021-2022 (df_with_legs_1) and collections_bookings_with_legs_2022 (df_with_legs_2) have the same columns and are consecutive df (the first has data until 04/2022, the latter 04/2022 - 02/2023)   \n",
    "  \n",
    "- That's why these two datasets will be merged in the next steps"
   ]
  },
  {
   "cell_type": "code",
   "execution_count": 6,
   "metadata": {},
   "outputs": [
    {
     "data": {
      "text/html": [
       "<div>\n",
       "<style scoped>\n",
       "    .dataframe tbody tr th:only-of-type {\n",
       "        vertical-align: middle;\n",
       "    }\n",
       "\n",
       "    .dataframe tbody tr th {\n",
       "        vertical-align: top;\n",
       "    }\n",
       "\n",
       "    .dataframe thead th {\n",
       "        text-align: right;\n",
       "    }\n",
       "</style>\n",
       "<table border=\"1\" class=\"dataframe\">\n",
       "  <thead>\n",
       "    <tr style=\"text-align: right;\">\n",
       "      <th></th>\n",
       "      <th>BookingId</th>\n",
       "      <th>BookingNumber</th>\n",
       "      <th>PlannedFirstCollectionDate</th>\n",
       "      <th>PlannedLastDeliveryDate</th>\n",
       "      <th>ActualFirstCollectionDate</th>\n",
       "      <th>ActualLastDeliveryDate</th>\n",
       "      <th>CreationDate</th>\n",
       "      <th>OrganizationName</th>\n",
       "      <th>TrafficDescription</th>\n",
       "      <th>FirstCollectionFreightLocation</th>\n",
       "      <th>FirstCollectionFreightLocationCity</th>\n",
       "      <th>FirstCollectionFreightLocationPostalCode</th>\n",
       "      <th>FirstCollectionFreightLocationCountry</th>\n",
       "      <th>FirstCollectionFreightLocationLongitudePositionDD</th>\n",
       "      <th>FirstCollectionFreightLocationLatitudePositionDD</th>\n",
       "      <th>LastDeliveryFreightLocation</th>\n",
       "      <th>LastDeliveryFreightLocationCity</th>\n",
       "      <th>LastDeliveryFreightLocationPostalCode</th>\n",
       "      <th>LastDeliveryFreightLocationCountry</th>\n",
       "      <th>LastDeliveryFreightLocationLongitudePositionDD</th>\n",
       "      <th>LastDeliveryFreightLocationLatitudePositionDD</th>\n",
       "      <th>FullLoadIndicator</th>\n",
       "      <th>EmptyBookingIndicator</th>\n",
       "      <th>Customer Name</th>\n",
       "      <th>Customer City</th>\n",
       "    </tr>\n",
       "  </thead>\n",
       "  <tbody>\n",
       "    <tr>\n",
       "      <th>0</th>\n",
       "      <td>6123633</td>\n",
       "      <td>petwarr16123633</td>\n",
       "      <td>2020-01-01 00:00:00.000</td>\n",
       "      <td>2020-01-01 00:00:00.000</td>\n",
       "      <td>1900-01-01 00:00:00.000</td>\n",
       "      <td>1900-01-01 00:00:00.000</td>\n",
       "      <td>2020-01-02 00:00:00.000</td>\n",
       "      <td>Peterborough</td>\n",
       "      <td>PET Warrington FL Reefer</td>\n",
       "      <td>RB NORTH WEST</td>\n",
       "      <td>Warrington</td>\n",
       "      <td>WA3 3JD</td>\n",
       "      <td>United Kingdom</td>\n",
       "      <td>-2.59099</td>\n",
       "      <td>53.46935</td>\n",
       "      <td>RB NORTH WEST</td>\n",
       "      <td>Warrington</td>\n",
       "      <td>WA3 3JD</td>\n",
       "      <td>United Kingdom</td>\n",
       "      <td>-2.59099</td>\n",
       "      <td>53.46935</td>\n",
       "      <td>N</td>\n",
       "      <td>N</td>\n",
       "      <td>RB NORTH WEST - SHUNTING</td>\n",
       "      <td>Warrington</td>\n",
       "    </tr>\n",
       "    <tr>\n",
       "      <th>1</th>\n",
       "      <td>6123634</td>\n",
       "      <td>gotdome16123634</td>\n",
       "      <td>2020-01-02 00:00:00.000</td>\n",
       "      <td>2020-01-02 00:00:00.000</td>\n",
       "      <td>1900-01-01 00:00:00.000</td>\n",
       "      <td>1900-01-01 00:00:00.000</td>\n",
       "      <td>2020-01-02 00:00:00.000</td>\n",
       "      <td>Gothenburg</td>\n",
       "      <td>GOT Area DLS</td>\n",
       "      <td>DHL VOLVO X-DOCK</td>\n",
       "      <td>Göteborg</td>\n",
       "      <td>418 79</td>\n",
       "      <td>Sweden</td>\n",
       "      <td>11.82177</td>\n",
       "      <td>57.71499</td>\n",
       "      <td>TAV</td>\n",
       "      <td>Göteborg</td>\n",
       "      <td>418 79</td>\n",
       "      <td>Sweden</td>\n",
       "      <td>11.82862</td>\n",
       "      <td>57.71873</td>\n",
       "      <td>Y</td>\n",
       "      <td>N</td>\n",
       "      <td>VOLVO CAR CORPORATION SHUTTLE</td>\n",
       "      <td>Göteborg</td>\n",
       "    </tr>\n",
       "    <tr>\n",
       "      <th>2</th>\n",
       "      <td>6123635</td>\n",
       "      <td>petwarr16123635</td>\n",
       "      <td>2020-01-01 00:00:00.000</td>\n",
       "      <td>2020-01-01 00:00:00.000</td>\n",
       "      <td>1900-01-01 00:00:00.000</td>\n",
       "      <td>1900-01-01 00:00:00.000</td>\n",
       "      <td>2020-01-02 00:00:00.000</td>\n",
       "      <td>Peterborough</td>\n",
       "      <td>PET Warrington FL Reefer</td>\n",
       "      <td>RB NORTH WEST</td>\n",
       "      <td>Warrington</td>\n",
       "      <td>WA3 3JD</td>\n",
       "      <td>United Kingdom</td>\n",
       "      <td>0.00000</td>\n",
       "      <td>0.00000</td>\n",
       "      <td>RB NORTH WEST</td>\n",
       "      <td>Warrington</td>\n",
       "      <td>WA3 3JD</td>\n",
       "      <td>United Kingdom</td>\n",
       "      <td>0.00000</td>\n",
       "      <td>0.00000</td>\n",
       "      <td>N</td>\n",
       "      <td>N</td>\n",
       "      <td>RB NORTH WEST - SHUNTING</td>\n",
       "      <td>Warrington</td>\n",
       "    </tr>\n",
       "    <tr>\n",
       "      <th>3</th>\n",
       "      <td>6123636</td>\n",
       "      <td>gotflua16123636</td>\n",
       "      <td>2020-01-02 00:00:00.000</td>\n",
       "      <td>2020-01-02 00:00:00.000</td>\n",
       "      <td>2020-01-03 00:00:00.000</td>\n",
       "      <td>2020-01-02 00:00:00.000</td>\n",
       "      <td>2020-01-02 00:00:00.000</td>\n",
       "      <td>Karlshamn</td>\n",
       "      <td>KAN Domestic</td>\n",
       "      <td>DHL VOLVO X-DOCK</td>\n",
       "      <td>Göteborg</td>\n",
       "      <td>418 79</td>\n",
       "      <td>Sweden</td>\n",
       "      <td>11.82177</td>\n",
       "      <td>57.71499</td>\n",
       "      <td>BSNRA_VCBC  HF - VOLVO CARS BODY CO</td>\n",
       "      <td>Olofström</td>\n",
       "      <td>418 79</td>\n",
       "      <td>Sweden</td>\n",
       "      <td>14.51683</td>\n",
       "      <td>56.28538</td>\n",
       "      <td>Y</td>\n",
       "      <td>N</td>\n",
       "      <td>VOLVO CAR CORPORATION SHUTTLE</td>\n",
       "      <td>Göteborg</td>\n",
       "    </tr>\n",
       "    <tr>\n",
       "      <th>4</th>\n",
       "      <td>6123637</td>\n",
       "      <td>gotdome16123637</td>\n",
       "      <td>2020-01-02 00:00:00.000</td>\n",
       "      <td>2020-01-02 00:00:00.000</td>\n",
       "      <td>1900-01-01 00:00:00.000</td>\n",
       "      <td>1900-01-01 00:00:00.000</td>\n",
       "      <td>2020-01-02 00:00:00.000</td>\n",
       "      <td>Gothenburg</td>\n",
       "      <td>GOT International DLS</td>\n",
       "      <td>DHL VOLVO X-DOCK</td>\n",
       "      <td>Göteborg</td>\n",
       "      <td>418 79</td>\n",
       "      <td>Sweden</td>\n",
       "      <td>11.82177</td>\n",
       "      <td>57.71499</td>\n",
       "      <td>VOLVO CAR M3</td>\n",
       "      <td>Skövde</td>\n",
       "      <td>418 79</td>\n",
       "      <td>Sweden</td>\n",
       "      <td>13.87343</td>\n",
       "      <td>58.38001</td>\n",
       "      <td>Y</td>\n",
       "      <td>N</td>\n",
       "      <td>VOLVO CAR CORPORATION SHUTTLE</td>\n",
       "      <td>Göteborg</td>\n",
       "    </tr>\n",
       "  </tbody>\n",
       "</table>\n",
       "</div>"
      ],
      "text/plain": [
       "   BookingId    BookingNumber PlannedFirstCollectionDate  \\\n",
       "0    6123633  petwarr16123633    2020-01-01 00:00:00.000   \n",
       "1    6123634  gotdome16123634    2020-01-02 00:00:00.000   \n",
       "2    6123635  petwarr16123635    2020-01-01 00:00:00.000   \n",
       "3    6123636  gotflua16123636    2020-01-02 00:00:00.000   \n",
       "4    6123637  gotdome16123637    2020-01-02 00:00:00.000   \n",
       "\n",
       "   PlannedLastDeliveryDate ActualFirstCollectionDate   ActualLastDeliveryDate  \\\n",
       "0  2020-01-01 00:00:00.000   1900-01-01 00:00:00.000  1900-01-01 00:00:00.000   \n",
       "1  2020-01-02 00:00:00.000   1900-01-01 00:00:00.000  1900-01-01 00:00:00.000   \n",
       "2  2020-01-01 00:00:00.000   1900-01-01 00:00:00.000  1900-01-01 00:00:00.000   \n",
       "3  2020-01-02 00:00:00.000   2020-01-03 00:00:00.000  2020-01-02 00:00:00.000   \n",
       "4  2020-01-02 00:00:00.000   1900-01-01 00:00:00.000  1900-01-01 00:00:00.000   \n",
       "\n",
       "              CreationDate OrganizationName        TrafficDescription  \\\n",
       "0  2020-01-02 00:00:00.000     Peterborough  PET Warrington FL Reefer   \n",
       "1  2020-01-02 00:00:00.000       Gothenburg              GOT Area DLS   \n",
       "2  2020-01-02 00:00:00.000     Peterborough  PET Warrington FL Reefer   \n",
       "3  2020-01-02 00:00:00.000        Karlshamn              KAN Domestic   \n",
       "4  2020-01-02 00:00:00.000       Gothenburg     GOT International DLS   \n",
       "\n",
       "  FirstCollectionFreightLocation FirstCollectionFreightLocationCity  \\\n",
       "0                  RB NORTH WEST                         Warrington   \n",
       "1               DHL VOLVO X-DOCK                           Göteborg   \n",
       "2                  RB NORTH WEST                         Warrington   \n",
       "3               DHL VOLVO X-DOCK                           Göteborg   \n",
       "4               DHL VOLVO X-DOCK                           Göteborg   \n",
       "\n",
       "  FirstCollectionFreightLocationPostalCode  \\\n",
       "0                                  WA3 3JD   \n",
       "1                                   418 79   \n",
       "2                                  WA3 3JD   \n",
       "3                                   418 79   \n",
       "4                                   418 79   \n",
       "\n",
       "  FirstCollectionFreightLocationCountry  \\\n",
       "0                        United Kingdom   \n",
       "1                                Sweden   \n",
       "2                        United Kingdom   \n",
       "3                                Sweden   \n",
       "4                                Sweden   \n",
       "\n",
       "   FirstCollectionFreightLocationLongitudePositionDD  \\\n",
       "0                                           -2.59099   \n",
       "1                                           11.82177   \n",
       "2                                            0.00000   \n",
       "3                                           11.82177   \n",
       "4                                           11.82177   \n",
       "\n",
       "   FirstCollectionFreightLocationLatitudePositionDD  \\\n",
       "0                                          53.46935   \n",
       "1                                          57.71499   \n",
       "2                                           0.00000   \n",
       "3                                          57.71499   \n",
       "4                                          57.71499   \n",
       "\n",
       "           LastDeliveryFreightLocation LastDeliveryFreightLocationCity  \\\n",
       "0                        RB NORTH WEST                      Warrington   \n",
       "1                                  TAV                        Göteborg   \n",
       "2                        RB NORTH WEST                      Warrington   \n",
       "3  BSNRA_VCBC  HF - VOLVO CARS BODY CO                       Olofström   \n",
       "4                        VOLVO CAR M3                           Skövde   \n",
       "\n",
       "  LastDeliveryFreightLocationPostalCode LastDeliveryFreightLocationCountry  \\\n",
       "0                               WA3 3JD                     United Kingdom   \n",
       "1                                418 79                             Sweden   \n",
       "2                               WA3 3JD                     United Kingdom   \n",
       "3                                418 79                             Sweden   \n",
       "4                                418 79                             Sweden   \n",
       "\n",
       "   LastDeliveryFreightLocationLongitudePositionDD  \\\n",
       "0                                        -2.59099   \n",
       "1                                        11.82862   \n",
       "2                                         0.00000   \n",
       "3                                        14.51683   \n",
       "4                                        13.87343   \n",
       "\n",
       "   LastDeliveryFreightLocationLatitudePositionDD FullLoadIndicator  \\\n",
       "0                                       53.46935                 N   \n",
       "1                                       57.71873                 Y   \n",
       "2                                        0.00000                 N   \n",
       "3                                       56.28538                 Y   \n",
       "4                                       58.38001                 Y   \n",
       "\n",
       "  EmptyBookingIndicator                  Customer Name Customer City  \n",
       "0                     N       RB NORTH WEST - SHUNTING    Warrington  \n",
       "1                     N  VOLVO CAR CORPORATION SHUTTLE      Göteborg  \n",
       "2                     N       RB NORTH WEST - SHUNTING    Warrington  \n",
       "3                     N  VOLVO CAR CORPORATION SHUTTLE      Göteborg  \n",
       "4                     N  VOLVO CAR CORPORATION SHUTTLE      Göteborg  "
      ]
     },
     "execution_count": 6,
     "metadata": {},
     "output_type": "execute_result"
    }
   ],
   "source": [
    "# The time frames of the datasets don't align 100%\n",
    "\n",
    "df.head()"
   ]
  },
  {
   "cell_type": "code",
   "execution_count": null,
   "metadata": {},
   "outputs": [],
   "source": [
    "df_with_legs_1.head()"
   ]
  },
  {
   "cell_type": "code",
   "execution_count": null,
   "metadata": {},
   "outputs": [],
   "source": [
    "df_with_legs_2.head()"
   ]
  },
  {
   "cell_type": "markdown",
   "metadata": {},
   "source": [
    "_Note_:   \n",
    "\n",
    "There are differences between datasets:"
   ]
  },
  {
   "cell_type": "code",
   "execution_count": 77,
   "metadata": {},
   "outputs": [
    {
     "data": {
      "text/html": [
       "<div>\n",
       "<style scoped>\n",
       "    .dataframe tbody tr th:only-of-type {\n",
       "        vertical-align: middle;\n",
       "    }\n",
       "\n",
       "    .dataframe tbody tr th {\n",
       "        vertical-align: top;\n",
       "    }\n",
       "\n",
       "    .dataframe thead th {\n",
       "        text-align: right;\n",
       "    }\n",
       "</style>\n",
       "<table border=\"1\" class=\"dataframe\">\n",
       "  <thead>\n",
       "    <tr style=\"text-align: right;\">\n",
       "      <th></th>\n",
       "      <th>BookingId</th>\n",
       "      <th>BookingNumber</th>\n",
       "      <th>PlannedFirstCollectionDate</th>\n",
       "      <th>PlannedLastDeliveryDate</th>\n",
       "      <th>ActualFirstCollectionDate</th>\n",
       "      <th>ActualLastDeliveryDate</th>\n",
       "      <th>CreationDate</th>\n",
       "      <th>OrganizationName</th>\n",
       "      <th>TrafficDescription</th>\n",
       "      <th>FirstCollectionFreightLocation</th>\n",
       "      <th>FirstCollectionFreightLocationCity</th>\n",
       "      <th>FirstCollectionFreightLocationPostalCode</th>\n",
       "      <th>FirstCollectionFreightLocationCountry</th>\n",
       "      <th>FirstCollectionFreightLocationLongitudePositionDD</th>\n",
       "      <th>FirstCollectionFreightLocationLatitudePositionDD</th>\n",
       "      <th>LastDeliveryFreightLocation</th>\n",
       "      <th>LastDeliveryFreightLocationCity</th>\n",
       "      <th>LastDeliveryFreightLocationPostalCode</th>\n",
       "      <th>LastDeliveryFreightLocationCountry</th>\n",
       "      <th>LastDeliveryFreightLocationLongitudePositionDD</th>\n",
       "      <th>LastDeliveryFreightLocationLatitudePositionDD</th>\n",
       "      <th>FullLoadIndicator</th>\n",
       "      <th>EmptyBookingIndicator</th>\n",
       "      <th>Customer Name</th>\n",
       "      <th>Customer City</th>\n",
       "    </tr>\n",
       "  </thead>\n",
       "  <tbody>\n",
       "    <tr>\n",
       "      <th>2703963</th>\n",
       "      <td>9031814</td>\n",
       "      <td>petcher19031814</td>\n",
       "      <td>2022-01-04 00:00:00.000</td>\n",
       "      <td>2022-01-04 00:00:00.000</td>\n",
       "      <td>2022-01-04 00:00:00.000</td>\n",
       "      <td>2022-01-04 00:00:00.000</td>\n",
       "      <td>2022-01-01 00:00:00.000</td>\n",
       "      <td>Peterborough</td>\n",
       "      <td>PET Chesterf-Dom FL Reefer</td>\n",
       "      <td>LANGDONS LIVERPOOL</td>\n",
       "      <td>Liverpool</td>\n",
       "      <td>L33 7YQ</td>\n",
       "      <td>United Kingdom</td>\n",
       "      <td>-2.85863</td>\n",
       "      <td>53.47114</td>\n",
       "      <td>A F BLAKEMORE - LEEDS</td>\n",
       "      <td>LEEDS</td>\n",
       "      <td>L33 7YQ</td>\n",
       "      <td>United Kingdom</td>\n",
       "      <td>-1.47493</td>\n",
       "      <td>53.72657</td>\n",
       "      <td>Y</td>\n",
       "      <td>N</td>\n",
       "      <td>STEF LANGDONS LTD</td>\n",
       "      <td>Bridgwater</td>\n",
       "    </tr>\n",
       "  </tbody>\n",
       "</table>\n",
       "</div>"
      ],
      "text/plain": [
       "         BookingId    BookingNumber PlannedFirstCollectionDate  \\\n",
       "2703963    9031814  petcher19031814    2022-01-04 00:00:00.000   \n",
       "\n",
       "         PlannedLastDeliveryDate ActualFirstCollectionDate  \\\n",
       "2703963  2022-01-04 00:00:00.000   2022-01-04 00:00:00.000   \n",
       "\n",
       "          ActualLastDeliveryDate             CreationDate OrganizationName  \\\n",
       "2703963  2022-01-04 00:00:00.000  2022-01-01 00:00:00.000     Peterborough   \n",
       "\n",
       "                 TrafficDescription FirstCollectionFreightLocation  \\\n",
       "2703963  PET Chesterf-Dom FL Reefer             LANGDONS LIVERPOOL   \n",
       "\n",
       "        FirstCollectionFreightLocationCity  \\\n",
       "2703963                          Liverpool   \n",
       "\n",
       "        FirstCollectionFreightLocationPostalCode  \\\n",
       "2703963                                  L33 7YQ   \n",
       "\n",
       "        FirstCollectionFreightLocationCountry  \\\n",
       "2703963                        United Kingdom   \n",
       "\n",
       "         FirstCollectionFreightLocationLongitudePositionDD  \\\n",
       "2703963                                           -2.85863   \n",
       "\n",
       "         FirstCollectionFreightLocationLatitudePositionDD  \\\n",
       "2703963                                          53.47114   \n",
       "\n",
       "        LastDeliveryFreightLocation LastDeliveryFreightLocationCity  \\\n",
       "2703963       A F BLAKEMORE - LEEDS                           LEEDS   \n",
       "\n",
       "        LastDeliveryFreightLocationPostalCode  \\\n",
       "2703963                               L33 7YQ   \n",
       "\n",
       "        LastDeliveryFreightLocationCountry  \\\n",
       "2703963                     United Kingdom   \n",
       "\n",
       "         LastDeliveryFreightLocationLongitudePositionDD  \\\n",
       "2703963                                        -1.47493   \n",
       "\n",
       "         LastDeliveryFreightLocationLatitudePositionDD FullLoadIndicator  \\\n",
       "2703963                                       53.72657                 Y   \n",
       "\n",
       "        EmptyBookingIndicator      Customer Name Customer City  \n",
       "2703963                     N  STEF LANGDONS LTD    Bridgwater  "
      ]
     },
     "execution_count": 77,
     "metadata": {},
     "output_type": "execute_result"
    }
   ],
   "source": [
    "# There are different representations of the same booking in the two systems.\n",
    "# Find example of BookingId 9031814 below:\n",
    "\n",
    "# 1) In df, the bookings don't show sub-bookings (\"legs\"), which essentially constitute\n",
    "# different steps in the delivery process\n",
    "\n",
    "df[df['BookingId'] == 9031814]"
   ]
  },
  {
   "cell_type": "code",
   "execution_count": 78,
   "metadata": {},
   "outputs": [
    {
     "data": {
      "text/html": [
       "<div>\n",
       "<style scoped>\n",
       "    .dataframe tbody tr th:only-of-type {\n",
       "        vertical-align: middle;\n",
       "    }\n",
       "\n",
       "    .dataframe tbody tr th {\n",
       "        vertical-align: top;\n",
       "    }\n",
       "\n",
       "    .dataframe thead th {\n",
       "        text-align: right;\n",
       "    }\n",
       "</style>\n",
       "<table border=\"1\" class=\"dataframe\">\n",
       "  <thead>\n",
       "    <tr style=\"text-align: right;\">\n",
       "      <th></th>\n",
       "      <th>BookingId</th>\n",
       "      <th>SubBookingName</th>\n",
       "      <th>SubBookingLegId</th>\n",
       "      <th>StartLegLocationId</th>\n",
       "      <th>EndLegLocationId</th>\n",
       "      <th>FromLocation</th>\n",
       "      <th>ToLocation</th>\n",
       "      <th>TransportId</th>\n",
       "      <th>StartRequestedDate</th>\n",
       "      <th>EndRequestedDate</th>\n",
       "      <th>GrossWeight</th>\n",
       "      <th>LoadMetres</th>\n",
       "      <th>CubicMetres</th>\n",
       "      <th>Length</th>\n",
       "      <th>Width</th>\n",
       "      <th>Height</th>\n",
       "      <th>Temperature</th>\n",
       "      <th>FromLatitude</th>\n",
       "      <th>FromLongtitude</th>\n",
       "      <th>FromCity</th>\n",
       "      <th>FromCountry</th>\n",
       "      <th>ToLatitude</th>\n",
       "      <th>ToLongtitude</th>\n",
       "      <th>ToCity</th>\n",
       "      <th>ToCountry</th>\n",
       "    </tr>\n",
       "  </thead>\n",
       "  <tbody>\n",
       "    <tr>\n",
       "      <th>0</th>\n",
       "      <td>9031814</td>\n",
       "      <td>A</td>\n",
       "      <td>11006604</td>\n",
       "      <td>219248</td>\n",
       "      <td>45984</td>\n",
       "      <td>LANGDONS LIVERPOOL</td>\n",
       "      <td>HOPWELLS - HANDSWORTH</td>\n",
       "      <td>4297407.0</td>\n",
       "      <td>2022-01-04</td>\n",
       "      <td>2022-01-04</td>\n",
       "      <td>0.0</td>\n",
       "      <td>7.5</td>\n",
       "      <td>0.0</td>\n",
       "      <td>NaN</td>\n",
       "      <td>NaN</td>\n",
       "      <td>NaN</td>\n",
       "      <td>NaN</td>\n",
       "      <td>53.47114</td>\n",
       "      <td>-2.85863</td>\n",
       "      <td>Liverpool</td>\n",
       "      <td>United Kingdom</td>\n",
       "      <td>53.37030</td>\n",
       "      <td>-1.36706</td>\n",
       "      <td>Sheffield</td>\n",
       "      <td>United Kingdom</td>\n",
       "    </tr>\n",
       "    <tr>\n",
       "      <th>1</th>\n",
       "      <td>9031814</td>\n",
       "      <td>B</td>\n",
       "      <td>11006603</td>\n",
       "      <td>219248</td>\n",
       "      <td>313716</td>\n",
       "      <td>LANGDONS LIVERPOOL</td>\n",
       "      <td>A F BLAKEMORE - LEEDS</td>\n",
       "      <td>4297407.0</td>\n",
       "      <td>2022-01-04</td>\n",
       "      <td>2022-01-04</td>\n",
       "      <td>0.0</td>\n",
       "      <td>3.0</td>\n",
       "      <td>0.0</td>\n",
       "      <td>NaN</td>\n",
       "      <td>NaN</td>\n",
       "      <td>NaN</td>\n",
       "      <td>NaN</td>\n",
       "      <td>53.47114</td>\n",
       "      <td>-2.85863</td>\n",
       "      <td>Liverpool</td>\n",
       "      <td>United Kingdom</td>\n",
       "      <td>53.72657</td>\n",
       "      <td>-1.47493</td>\n",
       "      <td>LEEDS</td>\n",
       "      <td>United Kingdom</td>\n",
       "    </tr>\n",
       "  </tbody>\n",
       "</table>\n",
       "</div>"
      ],
      "text/plain": [
       "   BookingId SubBookingName  SubBookingLegId  StartLegLocationId  \\\n",
       "0    9031814              A         11006604              219248   \n",
       "1    9031814              B         11006603              219248   \n",
       "\n",
       "   EndLegLocationId        FromLocation             ToLocation  TransportId  \\\n",
       "0             45984  LANGDONS LIVERPOOL  HOPWELLS - HANDSWORTH    4297407.0   \n",
       "1            313716  LANGDONS LIVERPOOL  A F BLAKEMORE - LEEDS    4297407.0   \n",
       "\n",
       "  StartRequestedDate EndRequestedDate  GrossWeight  LoadMetres  CubicMetres  \\\n",
       "0         2022-01-04       2022-01-04          0.0         7.5          0.0   \n",
       "1         2022-01-04       2022-01-04          0.0         3.0          0.0   \n",
       "\n",
       "   Length  Width  Height  Temperature  FromLatitude  FromLongtitude  \\\n",
       "0     NaN    NaN     NaN          NaN      53.47114        -2.85863   \n",
       "1     NaN    NaN     NaN          NaN      53.47114        -2.85863   \n",
       "\n",
       "    FromCity     FromCountry  ToLatitude  ToLongtitude     ToCity  \\\n",
       "0  Liverpool  United Kingdom    53.37030      -1.36706  Sheffield   \n",
       "1  Liverpool  United Kingdom    53.72657      -1.47493      LEEDS   \n",
       "\n",
       "        ToCountry  \n",
       "0  United Kingdom  \n",
       "1  United Kingdom  "
      ]
     },
     "execution_count": 78,
     "metadata": {},
     "output_type": "execute_result"
    }
   ],
   "source": [
    "# 2) In df_with_legs_1/2, every collection is divided into sub-bookings where applicable\n",
    "\n",
    "df_with_legs_2[df_with_legs_2['BookingId'] == 9031814]"
   ]
  },
  {
   "cell_type": "code",
   "execution_count": 79,
   "metadata": {},
   "outputs": [
    {
     "name": "stdout",
     "output_type": "stream",
     "text": [
      "(4410786, 25) (2314238, 25) (2697688, 25)\n"
     ]
    }
   ],
   "source": [
    "print(df.shape, df_with_legs_1.shape, df_with_legs_2.shape)"
   ]
  },
  {
   "cell_type": "markdown",
   "metadata": {},
   "source": [
    "_Note:_\n",
    "\n",
    "Find description of columns in report"
   ]
  },
  {
   "cell_type": "code",
   "execution_count": 80,
   "metadata": {},
   "outputs": [
    {
     "data": {
      "text/plain": [
       "array([ True,  True,  True,  True,  True,  True,  True,  True,  True,\n",
       "        True,  True,  True,  True,  True,  True,  True,  True,  True,\n",
       "        True,  True,  True,  True,  True,  True,  True])"
      ]
     },
     "execution_count": 80,
     "metadata": {},
     "output_type": "execute_result"
    }
   ],
   "source": [
    "# Check if two dfs with legs have the same columns (and if we therefore are able to merge them)\n",
    "\n",
    "df_with_legs_1.columns == df_with_legs_2.columns"
   ]
  },
  {
   "cell_type": "code",
   "execution_count": 81,
   "metadata": {},
   "outputs": [
    {
     "name": "stdout",
     "output_type": "stream",
     "text": [
      "2314233    9031810\n",
      "2314234    9031811\n",
      "2314235    9031811\n",
      "2314236    9031812\n",
      "2314237    9031813\n",
      "Name: BookingId, dtype: int64 0    9031814\n",
      "1    9031814\n",
      "2    9031815\n",
      "3    9031815\n",
      "4    9031816\n",
      "Name: BookingId, dtype: int64\n"
     ]
    }
   ],
   "source": [
    "# From the BookingId we can see that df_with_legs_1/2 are consecutive \n",
    "# --> since all columns are the same we can directly concatenate them \n",
    "\n",
    "print(df_with_legs_1[\"BookingId\"].tail(), df_with_legs_2[\"BookingId\"].head())"
   ]
  },
  {
   "cell_type": "code",
   "execution_count": 7,
   "metadata": {},
   "outputs": [],
   "source": [
    "# Concatenating datasets so we can work with one consolidated dataset:\n",
    "\n",
    "df_final = pd.concat([df_with_legs_1, df_with_legs_2], ignore_index = True)"
   ]
  },
  {
   "cell_type": "code",
   "execution_count": 8,
   "metadata": {},
   "outputs": [
    {
     "data": {
      "text/plain": [
       "(5011926, 25)"
      ]
     },
     "execution_count": 8,
     "metadata": {},
     "output_type": "execute_result"
    }
   ],
   "source": [
    "df_final.shape # consolidated dataset has ~5m rows and 25 columns"
   ]
  },
  {
   "cell_type": "markdown",
   "metadata": {},
   "source": [
    "_Note_: \n",
    "\n",
    "This step is visualized in the report"
   ]
  },
  {
   "cell_type": "code",
   "execution_count": 9,
   "metadata": {},
   "outputs": [],
   "source": [
    "# Next step is to add columns from dataset without legs that are missing in the new df_final \n",
    "# --> [\"FullLoadIndicator\", \"EmptyBookingIndicator\", \"CustomerName\"] are being merged using \"BookingId\"\n",
    "\n",
    "df_final = pd.merge(df_final, df[['BookingId','FullLoadIndicator','EmptyBookingIndicator', 'Customer Name']],on = 'BookingId', how = 'left')"
   ]
  },
  {
   "cell_type": "markdown",
   "metadata": {},
   "source": [
    "##### 2) General Overview"
   ]
  },
  {
   "cell_type": "code",
   "execution_count": 85,
   "metadata": {},
   "outputs": [
    {
     "data": {
      "text/html": [
       "<div>\n",
       "<style scoped>\n",
       "    .dataframe tbody tr th:only-of-type {\n",
       "        vertical-align: middle;\n",
       "    }\n",
       "\n",
       "    .dataframe tbody tr th {\n",
       "        vertical-align: top;\n",
       "    }\n",
       "\n",
       "    .dataframe thead th {\n",
       "        text-align: right;\n",
       "    }\n",
       "</style>\n",
       "<table border=\"1\" class=\"dataframe\">\n",
       "  <thead>\n",
       "    <tr style=\"text-align: right;\">\n",
       "      <th></th>\n",
       "      <th>BookingId</th>\n",
       "      <th>SubBookingName</th>\n",
       "      <th>SubBookingLegId</th>\n",
       "      <th>StartLegLocationId</th>\n",
       "      <th>EndLegLocationId</th>\n",
       "      <th>FromLocation</th>\n",
       "      <th>ToLocation</th>\n",
       "      <th>TransportId</th>\n",
       "      <th>StartRequestedDate</th>\n",
       "      <th>EndRequestedDate</th>\n",
       "      <th>GrossWeight</th>\n",
       "      <th>LoadMetres</th>\n",
       "      <th>CubicMetres</th>\n",
       "      <th>Length</th>\n",
       "      <th>Width</th>\n",
       "      <th>Height</th>\n",
       "      <th>Temperature</th>\n",
       "      <th>FromLatitude</th>\n",
       "      <th>FromLongtitude</th>\n",
       "      <th>FromCity</th>\n",
       "      <th>FromCountry</th>\n",
       "      <th>ToLatitude</th>\n",
       "      <th>ToLongtitude</th>\n",
       "      <th>ToCity</th>\n",
       "      <th>ToCountry</th>\n",
       "      <th>FullLoadIndicator</th>\n",
       "      <th>EmptyBookingIndicator</th>\n",
       "      <th>Customer Name</th>\n",
       "    </tr>\n",
       "  </thead>\n",
       "  <tbody>\n",
       "    <tr>\n",
       "      <th>0</th>\n",
       "      <td>7399574</td>\n",
       "      <td>A</td>\n",
       "      <td>8266605</td>\n",
       "      <td>132168</td>\n",
       "      <td>124047</td>\n",
       "      <td>TESCO</td>\n",
       "      <td>GRAYRENTALS</td>\n",
       "      <td>NaN</td>\n",
       "      <td>2020-12-31</td>\n",
       "      <td>2020-12-31</td>\n",
       "      <td>0.0</td>\n",
       "      <td>0.0</td>\n",
       "      <td>0.0</td>\n",
       "      <td>NaN</td>\n",
       "      <td>NaN</td>\n",
       "      <td>NaN</td>\n",
       "      <td>NaN</td>\n",
       "      <td>53.51131</td>\n",
       "      <td>-1.12540</td>\n",
       "      <td>YORKSHIRE</td>\n",
       "      <td>United Kingdom</td>\n",
       "      <td>53.60475</td>\n",
       "      <td>-0.65636</td>\n",
       "      <td>SCUNTHORPE</td>\n",
       "      <td>United Kingdom</td>\n",
       "      <td>Y</td>\n",
       "      <td>N</td>\n",
       "      <td>DFDS LOGISTICS LIMITED (WARRINGTON)</td>\n",
       "    </tr>\n",
       "    <tr>\n",
       "      <th>1</th>\n",
       "      <td>7399575</td>\n",
       "      <td>A</td>\n",
       "      <td>8266607</td>\n",
       "      <td>243727</td>\n",
       "      <td>27597</td>\n",
       "      <td>DFDS SIMONSWOOD</td>\n",
       "      <td>NORISH COLD STORAGE WREXHAM</td>\n",
       "      <td>NaN</td>\n",
       "      <td>2020-12-31</td>\n",
       "      <td>2020-12-31</td>\n",
       "      <td>0.0</td>\n",
       "      <td>0.0</td>\n",
       "      <td>0.0</td>\n",
       "      <td>NaN</td>\n",
       "      <td>NaN</td>\n",
       "      <td>NaN</td>\n",
       "      <td>NaN</td>\n",
       "      <td>53.50446</td>\n",
       "      <td>-2.84867</td>\n",
       "      <td>Liverpool</td>\n",
       "      <td>United Kingdom</td>\n",
       "      <td>53.04612</td>\n",
       "      <td>-2.92787</td>\n",
       "      <td>Wrexham</td>\n",
       "      <td>United Kingdom</td>\n",
       "      <td>Y</td>\n",
       "      <td>N</td>\n",
       "      <td>NEEROCK T/A WOODHEAD BROS MEAT COMPANY</td>\n",
       "    </tr>\n",
       "    <tr>\n",
       "      <th>2</th>\n",
       "      <td>7399576</td>\n",
       "      <td>A</td>\n",
       "      <td>8266606</td>\n",
       "      <td>243727</td>\n",
       "      <td>27597</td>\n",
       "      <td>DFDS SIMONSWOOD</td>\n",
       "      <td>NORISH COLD STORAGE WREXHAM</td>\n",
       "      <td>NaN</td>\n",
       "      <td>2020-12-31</td>\n",
       "      <td>2020-12-31</td>\n",
       "      <td>0.0</td>\n",
       "      <td>0.0</td>\n",
       "      <td>0.0</td>\n",
       "      <td>NaN</td>\n",
       "      <td>NaN</td>\n",
       "      <td>NaN</td>\n",
       "      <td>NaN</td>\n",
       "      <td>53.50446</td>\n",
       "      <td>-2.84867</td>\n",
       "      <td>Liverpool</td>\n",
       "      <td>United Kingdom</td>\n",
       "      <td>53.04612</td>\n",
       "      <td>-2.92787</td>\n",
       "      <td>Wrexham</td>\n",
       "      <td>United Kingdom</td>\n",
       "      <td>Y</td>\n",
       "      <td>N</td>\n",
       "      <td>NEEROCK T/A WOODHEAD BROS MEAT COMPANY</td>\n",
       "    </tr>\n",
       "    <tr>\n",
       "      <th>3</th>\n",
       "      <td>7399577</td>\n",
       "      <td>A</td>\n",
       "      <td>8266608</td>\n",
       "      <td>29361</td>\n",
       "      <td>108395</td>\n",
       "      <td>C/O GREENCORE FROZEN FOODS</td>\n",
       "      <td>BIDVEST</td>\n",
       "      <td>NaN</td>\n",
       "      <td>2020-12-31</td>\n",
       "      <td>2020-12-31</td>\n",
       "      <td>0.0</td>\n",
       "      <td>0.0</td>\n",
       "      <td>0.0</td>\n",
       "      <td>NaN</td>\n",
       "      <td>NaN</td>\n",
       "      <td>NaN</td>\n",
       "      <td>NaN</td>\n",
       "      <td>53.77629</td>\n",
       "      <td>-1.52585</td>\n",
       "      <td>Leeds</td>\n",
       "      <td>United Kingdom</td>\n",
       "      <td>53.71874</td>\n",
       "      <td>-1.41235</td>\n",
       "      <td>YORKSHIRE</td>\n",
       "      <td>United Kingdom</td>\n",
       "      <td>N</td>\n",
       "      <td>N</td>\n",
       "      <td>GREENCORE GROCERY LTD (LEEDS)</td>\n",
       "    </tr>\n",
       "    <tr>\n",
       "      <th>4</th>\n",
       "      <td>7399578</td>\n",
       "      <td>A</td>\n",
       "      <td>8266609</td>\n",
       "      <td>29361</td>\n",
       "      <td>69407</td>\n",
       "      <td>C/O GREENCORE FROZEN FOODS</td>\n",
       "      <td>ALDI STORES LTD</td>\n",
       "      <td>NaN</td>\n",
       "      <td>2020-12-31</td>\n",
       "      <td>2020-12-31</td>\n",
       "      <td>0.0</td>\n",
       "      <td>0.0</td>\n",
       "      <td>0.0</td>\n",
       "      <td>NaN</td>\n",
       "      <td>NaN</td>\n",
       "      <td>NaN</td>\n",
       "      <td>NaN</td>\n",
       "      <td>53.77629</td>\n",
       "      <td>-1.52585</td>\n",
       "      <td>Leeds</td>\n",
       "      <td>United Kingdom</td>\n",
       "      <td>55.87784</td>\n",
       "      <td>-3.65235</td>\n",
       "      <td>Bathgate</td>\n",
       "      <td>United Kingdom</td>\n",
       "      <td>Y</td>\n",
       "      <td>N</td>\n",
       "      <td>GREENCORE GROCERY LTD (LEEDS)</td>\n",
       "    </tr>\n",
       "  </tbody>\n",
       "</table>\n",
       "</div>"
      ],
      "text/plain": [
       "   BookingId SubBookingName  SubBookingLegId  StartLegLocationId  \\\n",
       "0    7399574              A          8266605              132168   \n",
       "1    7399575              A          8266607              243727   \n",
       "2    7399576              A          8266606              243727   \n",
       "3    7399577              A          8266608               29361   \n",
       "4    7399578              A          8266609               29361   \n",
       "\n",
       "   EndLegLocationId                 FromLocation                   ToLocation  \\\n",
       "0            124047                        TESCO                  GRAYRENTALS   \n",
       "1             27597              DFDS SIMONSWOOD  NORISH COLD STORAGE WREXHAM   \n",
       "2             27597              DFDS SIMONSWOOD  NORISH COLD STORAGE WREXHAM   \n",
       "3            108395  C/O GREENCORE FROZEN FOODS                       BIDVEST   \n",
       "4             69407  C/O GREENCORE FROZEN FOODS               ALDI STORES LTD   \n",
       "\n",
       "   TransportId StartRequestedDate EndRequestedDate  GrossWeight  LoadMetres  \\\n",
       "0          NaN         2020-12-31       2020-12-31          0.0         0.0   \n",
       "1          NaN         2020-12-31       2020-12-31          0.0         0.0   \n",
       "2          NaN         2020-12-31       2020-12-31          0.0         0.0   \n",
       "3          NaN         2020-12-31       2020-12-31          0.0         0.0   \n",
       "4          NaN         2020-12-31       2020-12-31          0.0         0.0   \n",
       "\n",
       "   CubicMetres  Length  Width  Height  Temperature  FromLatitude  \\\n",
       "0          0.0     NaN    NaN     NaN          NaN      53.51131   \n",
       "1          0.0     NaN    NaN     NaN          NaN      53.50446   \n",
       "2          0.0     NaN    NaN     NaN          NaN      53.50446   \n",
       "3          0.0     NaN    NaN     NaN          NaN      53.77629   \n",
       "4          0.0     NaN    NaN     NaN          NaN      53.77629   \n",
       "\n",
       "   FromLongtitude   FromCity     FromCountry  ToLatitude  ToLongtitude  \\\n",
       "0        -1.12540  YORKSHIRE  United Kingdom    53.60475      -0.65636   \n",
       "1        -2.84867  Liverpool  United Kingdom    53.04612      -2.92787   \n",
       "2        -2.84867  Liverpool  United Kingdom    53.04612      -2.92787   \n",
       "3        -1.52585      Leeds  United Kingdom    53.71874      -1.41235   \n",
       "4        -1.52585      Leeds  United Kingdom    55.87784      -3.65235   \n",
       "\n",
       "       ToCity       ToCountry FullLoadIndicator EmptyBookingIndicator  \\\n",
       "0  SCUNTHORPE  United Kingdom                 Y                     N   \n",
       "1     Wrexham  United Kingdom                 Y                     N   \n",
       "2     Wrexham  United Kingdom                 Y                     N   \n",
       "3   YORKSHIRE  United Kingdom                 N                     N   \n",
       "4    Bathgate  United Kingdom                 Y                     N   \n",
       "\n",
       "                            Customer Name  \n",
       "0     DFDS LOGISTICS LIMITED (WARRINGTON)  \n",
       "1  NEEROCK T/A WOODHEAD BROS MEAT COMPANY  \n",
       "2  NEEROCK T/A WOODHEAD BROS MEAT COMPANY  \n",
       "3           GREENCORE GROCERY LTD (LEEDS)  \n",
       "4           GREENCORE GROCERY LTD (LEEDS)  "
      ]
     },
     "execution_count": 85,
     "metadata": {},
     "output_type": "execute_result"
    }
   ],
   "source": [
    "# Check if concatenating and merging worked out\n",
    "\n",
    "df_final.head()"
   ]
  },
  {
   "cell_type": "code",
   "execution_count": 86,
   "metadata": {},
   "outputs": [
    {
     "name": "stdout",
     "output_type": "stream",
     "text": [
      "(5011926, 28)\n",
      "Index(['BookingId', 'SubBookingName', 'SubBookingLegId', 'StartLegLocationId',\n",
      "       'EndLegLocationId', 'FromLocation', 'ToLocation', 'TransportId',\n",
      "       'StartRequestedDate', 'EndRequestedDate', 'GrossWeight', 'LoadMetres',\n",
      "       'CubicMetres', 'Length', 'Width', 'Height', 'Temperature',\n",
      "       'FromLatitude', 'FromLongtitude', 'FromCity', 'FromCountry',\n",
      "       'ToLatitude', 'ToLongtitude', 'ToCity', 'ToCountry',\n",
      "       'FullLoadIndicator', 'EmptyBookingIndicator', 'Customer Name'],\n",
      "      dtype='object')\n"
     ]
    }
   ],
   "source": [
    "print(df_final.shape)\n",
    "print(df_final.columns)"
   ]
  },
  {
   "cell_type": "code",
   "execution_count": null,
   "metadata": {},
   "outputs": [],
   "source": [
    "# df_final.shape = (5011926 , 28)\n",
    "\n",
    "df_final.info() "
   ]
  },
  {
   "cell_type": "markdown",
   "metadata": {},
   "source": [
    "#### 3) Checking missing values and dropping redundant variables"
   ]
  },
  {
   "cell_type": "code",
   "execution_count": 88,
   "metadata": {},
   "outputs": [
    {
     "data": {
      "text/plain": [
       "BookingId                      0\n",
       "SubBookingName                 0\n",
       "SubBookingLegId                0\n",
       "StartLegLocationId             0\n",
       "EndLegLocationId               0\n",
       "FromLocation                   0\n",
       "ToLocation                     8\n",
       "TransportId              1937830\n",
       "StartRequestedDate         18968\n",
       "EndRequestedDate           19277\n",
       "GrossWeight                    0\n",
       "LoadMetres                     0\n",
       "CubicMetres                    0\n",
       "Length                   3918187\n",
       "Width                    3930534\n",
       "Height                   3987874\n",
       "Temperature              4066738\n",
       "FromLatitude                   0\n",
       "FromLongtitude                 0\n",
       "FromCity                       1\n",
       "FromCountry                96415\n",
       "ToLatitude                     0\n",
       "ToLongtitude                   0\n",
       "ToCity                        19\n",
       "ToCountry                  80797\n",
       "FullLoadIndicator         619661\n",
       "EmptyBookingIndicator     619661\n",
       "Customer Name             619661\n",
       "dtype: int64"
      ]
     },
     "execution_count": 88,
     "metadata": {},
     "output_type": "execute_result"
    }
   ],
   "source": [
    "df_final.isna().sum()"
   ]
  },
  {
   "attachments": {},
   "cell_type": "markdown",
   "metadata": {},
   "source": [
    "a) **\"TransportId\"**: around 40% missing   \n",
    "-> _How to handle_: drop variable (not used anyways)  \n",
    "   \n",
    "b) **\"StartRequestedDate\"/ \"EndRequestedDate\"**: around 0.3% nulls   \n",
    "-> Only very small amount of data missing, so it won't affect the seasonal analyses   \n",
    "-> _How to handle_: Keep variables and also don't drop rows, as the routes should still be analyzed  \n",
    "  \n",
    "c) **\"Length\", \"Width\", \"Height\"** : Close to 80% missing values  \n",
    "-> _How to handle_: drop variables  \n",
    "  \n",
    "d) **\"Temperature\"**: Close to 80% missing values   \n",
    "-> _How to handle_: Keep but only look at the end\n",
    "  \n",
    "e) **\"FullLoadIndicator\", \"EmptyBookingIndicator\", \"Customer Name\"**: 619.661 missing   \n",
    "-> _How to handle_: ....   \n",
    "  \n",
    "f) **\"FromCountry\" and \"ToCountry\"**: Around 1.5% missing   \n",
    "-> _How to handle_: geoencode to find out respective values"
   ]
  },
  {
   "cell_type": "code",
   "execution_count": 89,
   "metadata": {},
   "outputs": [],
   "source": [
    "# Dropping variables that are not needed for the analysis\n",
    "\n",
    "# SOME TYPE OF EXPLANATION HERE"
   ]
  },
  {
   "cell_type": "code",
   "execution_count": 11,
   "metadata": {},
   "outputs": [
    {
     "data": {
      "text/html": [
       "<div>\n",
       "<style scoped>\n",
       "    .dataframe tbody tr th:only-of-type {\n",
       "        vertical-align: middle;\n",
       "    }\n",
       "\n",
       "    .dataframe tbody tr th {\n",
       "        vertical-align: top;\n",
       "    }\n",
       "\n",
       "    .dataframe thead th {\n",
       "        text-align: right;\n",
       "    }\n",
       "</style>\n",
       "<table border=\"1\" class=\"dataframe\">\n",
       "  <thead>\n",
       "    <tr style=\"text-align: right;\">\n",
       "      <th></th>\n",
       "      <th>BookingId</th>\n",
       "      <th>SubBookingName</th>\n",
       "      <th>FromLocation</th>\n",
       "      <th>ToLocation</th>\n",
       "      <th>StartRequestedDate</th>\n",
       "      <th>EndRequestedDate</th>\n",
       "      <th>Temperature</th>\n",
       "      <th>FromLatitude</th>\n",
       "      <th>FromLongtitude</th>\n",
       "      <th>FromCity</th>\n",
       "      <th>FromCountry</th>\n",
       "      <th>ToLatitude</th>\n",
       "      <th>ToLongtitude</th>\n",
       "      <th>ToCity</th>\n",
       "      <th>ToCountry</th>\n",
       "      <th>FullLoadIndicator</th>\n",
       "      <th>EmptyBookingIndicator</th>\n",
       "      <th>Customer Name</th>\n",
       "    </tr>\n",
       "  </thead>\n",
       "  <tbody>\n",
       "    <tr>\n",
       "      <th>0</th>\n",
       "      <td>7399574</td>\n",
       "      <td>A</td>\n",
       "      <td>TESCO</td>\n",
       "      <td>GRAYRENTALS</td>\n",
       "      <td>2020-12-31</td>\n",
       "      <td>2020-12-31</td>\n",
       "      <td>NaN</td>\n",
       "      <td>53.51131</td>\n",
       "      <td>-1.12540</td>\n",
       "      <td>YORKSHIRE</td>\n",
       "      <td>United Kingdom</td>\n",
       "      <td>53.60475</td>\n",
       "      <td>-0.65636</td>\n",
       "      <td>SCUNTHORPE</td>\n",
       "      <td>United Kingdom</td>\n",
       "      <td>Y</td>\n",
       "      <td>N</td>\n",
       "      <td>DFDS LOGISTICS LIMITED (WARRINGTON)</td>\n",
       "    </tr>\n",
       "    <tr>\n",
       "      <th>1</th>\n",
       "      <td>7399575</td>\n",
       "      <td>A</td>\n",
       "      <td>DFDS SIMONSWOOD</td>\n",
       "      <td>NORISH COLD STORAGE WREXHAM</td>\n",
       "      <td>2020-12-31</td>\n",
       "      <td>2020-12-31</td>\n",
       "      <td>NaN</td>\n",
       "      <td>53.50446</td>\n",
       "      <td>-2.84867</td>\n",
       "      <td>Liverpool</td>\n",
       "      <td>United Kingdom</td>\n",
       "      <td>53.04612</td>\n",
       "      <td>-2.92787</td>\n",
       "      <td>Wrexham</td>\n",
       "      <td>United Kingdom</td>\n",
       "      <td>Y</td>\n",
       "      <td>N</td>\n",
       "      <td>NEEROCK T/A WOODHEAD BROS MEAT COMPANY</td>\n",
       "    </tr>\n",
       "    <tr>\n",
       "      <th>2</th>\n",
       "      <td>7399576</td>\n",
       "      <td>A</td>\n",
       "      <td>DFDS SIMONSWOOD</td>\n",
       "      <td>NORISH COLD STORAGE WREXHAM</td>\n",
       "      <td>2020-12-31</td>\n",
       "      <td>2020-12-31</td>\n",
       "      <td>NaN</td>\n",
       "      <td>53.50446</td>\n",
       "      <td>-2.84867</td>\n",
       "      <td>Liverpool</td>\n",
       "      <td>United Kingdom</td>\n",
       "      <td>53.04612</td>\n",
       "      <td>-2.92787</td>\n",
       "      <td>Wrexham</td>\n",
       "      <td>United Kingdom</td>\n",
       "      <td>Y</td>\n",
       "      <td>N</td>\n",
       "      <td>NEEROCK T/A WOODHEAD BROS MEAT COMPANY</td>\n",
       "    </tr>\n",
       "    <tr>\n",
       "      <th>3</th>\n",
       "      <td>7399577</td>\n",
       "      <td>A</td>\n",
       "      <td>C/O GREENCORE FROZEN FOODS</td>\n",
       "      <td>BIDVEST</td>\n",
       "      <td>2020-12-31</td>\n",
       "      <td>2020-12-31</td>\n",
       "      <td>NaN</td>\n",
       "      <td>53.77629</td>\n",
       "      <td>-1.52585</td>\n",
       "      <td>Leeds</td>\n",
       "      <td>United Kingdom</td>\n",
       "      <td>53.71874</td>\n",
       "      <td>-1.41235</td>\n",
       "      <td>YORKSHIRE</td>\n",
       "      <td>United Kingdom</td>\n",
       "      <td>N</td>\n",
       "      <td>N</td>\n",
       "      <td>GREENCORE GROCERY LTD (LEEDS)</td>\n",
       "    </tr>\n",
       "    <tr>\n",
       "      <th>4</th>\n",
       "      <td>7399578</td>\n",
       "      <td>A</td>\n",
       "      <td>C/O GREENCORE FROZEN FOODS</td>\n",
       "      <td>ALDI STORES LTD</td>\n",
       "      <td>2020-12-31</td>\n",
       "      <td>2020-12-31</td>\n",
       "      <td>NaN</td>\n",
       "      <td>53.77629</td>\n",
       "      <td>-1.52585</td>\n",
       "      <td>Leeds</td>\n",
       "      <td>United Kingdom</td>\n",
       "      <td>55.87784</td>\n",
       "      <td>-3.65235</td>\n",
       "      <td>Bathgate</td>\n",
       "      <td>United Kingdom</td>\n",
       "      <td>Y</td>\n",
       "      <td>N</td>\n",
       "      <td>GREENCORE GROCERY LTD (LEEDS)</td>\n",
       "    </tr>\n",
       "  </tbody>\n",
       "</table>\n",
       "</div>"
      ],
      "text/plain": [
       "   BookingId SubBookingName                 FromLocation  \\\n",
       "0    7399574              A                        TESCO   \n",
       "1    7399575              A              DFDS SIMONSWOOD   \n",
       "2    7399576              A              DFDS SIMONSWOOD   \n",
       "3    7399577              A  C/O GREENCORE FROZEN FOODS    \n",
       "4    7399578              A  C/O GREENCORE FROZEN FOODS    \n",
       "\n",
       "                    ToLocation StartRequestedDate EndRequestedDate  \\\n",
       "0                  GRAYRENTALS         2020-12-31       2020-12-31   \n",
       "1  NORISH COLD STORAGE WREXHAM         2020-12-31       2020-12-31   \n",
       "2  NORISH COLD STORAGE WREXHAM         2020-12-31       2020-12-31   \n",
       "3                      BIDVEST         2020-12-31       2020-12-31   \n",
       "4              ALDI STORES LTD         2020-12-31       2020-12-31   \n",
       "\n",
       "   Temperature  FromLatitude  FromLongtitude   FromCity     FromCountry  \\\n",
       "0          NaN      53.51131        -1.12540  YORKSHIRE  United Kingdom   \n",
       "1          NaN      53.50446        -2.84867  Liverpool  United Kingdom   \n",
       "2          NaN      53.50446        -2.84867  Liverpool  United Kingdom   \n",
       "3          NaN      53.77629        -1.52585      Leeds  United Kingdom   \n",
       "4          NaN      53.77629        -1.52585      Leeds  United Kingdom   \n",
       "\n",
       "   ToLatitude  ToLongtitude      ToCity       ToCountry FullLoadIndicator  \\\n",
       "0    53.60475      -0.65636  SCUNTHORPE  United Kingdom                 Y   \n",
       "1    53.04612      -2.92787     Wrexham  United Kingdom                 Y   \n",
       "2    53.04612      -2.92787     Wrexham  United Kingdom                 Y   \n",
       "3    53.71874      -1.41235   YORKSHIRE  United Kingdom                 N   \n",
       "4    55.87784      -3.65235    Bathgate  United Kingdom                 Y   \n",
       "\n",
       "  EmptyBookingIndicator                           Customer Name  \n",
       "0                     N     DFDS LOGISTICS LIMITED (WARRINGTON)  \n",
       "1                     N  NEEROCK T/A WOODHEAD BROS MEAT COMPANY  \n",
       "2                     N  NEEROCK T/A WOODHEAD BROS MEAT COMPANY  \n",
       "3                     N           GREENCORE GROCERY LTD (LEEDS)  \n",
       "4                     N           GREENCORE GROCERY LTD (LEEDS)  "
      ]
     },
     "execution_count": 11,
     "metadata": {},
     "output_type": "execute_result"
    }
   ],
   "source": [
    "# Creating list of columns to drop\n",
    "columns_to_drop = [\"SubBookingLegId\", \"StartLegLocationId\", \"EndLegLocationId\", \"TransportId\", \"LoadMetres\", \"CubicMetres\", \"Length\", \"Width\", \"Height\", \"GrossWeight\"]\n",
    "\n",
    "# Dropping columns\n",
    "df_final = df_final.drop(columns_to_drop, axis = 1)\n",
    "\n",
    "# Check dataset \n",
    "df_final.head()"
   ]
  },
  {
   "cell_type": "markdown",
   "metadata": {},
   "source": [
    "#### 4) Feature Deep Dive"
   ]
  },
  {
   "cell_type": "code",
   "execution_count": 28,
   "metadata": {},
   "outputs": [
    {
     "name": "stdout",
     "output_type": "stream",
     "text": [
      "['BookingId', 'SubBookingName', 'FromLocation', 'ToLocation', 'StartRequestedDate', 'EndRequestedDate', 'GrossWeight', 'Temperature', 'FromLatitude', 'FromLongtitude', 'FromCity', 'FromCountry', 'ToLatitude', 'ToLongtitude', 'ToCity', 'ToCountry', 'FullLoadIndicator', 'EmptyBookingIndicator', 'Customer Name']\n"
     ]
    }
   ],
   "source": [
    "columns = list(df_final.columns)\n",
    "print(columns)"
   ]
  },
  {
   "cell_type": "markdown",
   "metadata": {},
   "source": [
    "4.1) \"BookingId\""
   ]
  },
  {
   "cell_type": "code",
   "execution_count": 12,
   "metadata": {},
   "outputs": [
    {
     "data": {
      "text/plain": [
       "3322128"
      ]
     },
     "execution_count": 12,
     "metadata": {},
     "output_type": "execute_result"
    }
   ],
   "source": [
    "# = A unique ID for every delivery. Sometimes it includes more than one \"Leg\" (which is the reason some \n",
    "# IDs span over several rows)\n",
    "\n",
    "df_final['BookingId'].nunique() # ~3.3m unique BookingIDs"
   ]
  },
  {
   "cell_type": "code",
   "execution_count": 13,
   "metadata": {},
   "outputs": [
    {
     "name": "stdout",
     "output_type": "stream",
     "text": [
      "          count  frequency\n",
      "8382237     135          1\n",
      "8708339     134          1\n",
      "8818872     131          1\n",
      "8403071     129          1\n",
      "8862355     128          2\n",
      "...         ...        ...\n",
      "8516401       5      10653\n",
      "7677843       4      23573\n",
      "7759452       3      48401\n",
      "10394945      2     253879\n",
      "10141763      1    2925778\n",
      "\n",
      "[128 rows x 2 columns]\n"
     ]
    }
   ],
   "source": [
    "# Finding about how many bookings are divided into multiple legs\n",
    "# -> And in the case they are divided, in how many legs? \n",
    "\n",
    "id_counts = df_final['BookingId'].value_counts()\n",
    "\n",
    "# Create a new DataFrame to hold the results\n",
    "id_result = pd.DataFrame({'count': id_counts})\n",
    "\n",
    "# Add a new column indicating how many times each ID appears\n",
    "id_result['frequency'] = id_result.groupby('count')['count'].transform('count')\n",
    "\n",
    "# Keep only the unique frequency counts\n",
    "id_result = id_result.drop_duplicates(subset = 'count').sort_values('count', ascending = False)\n",
    "\n",
    "# Print the result\n",
    "print(id_result)"
   ]
  },
  {
   "cell_type": "markdown",
   "metadata": {},
   "source": [
    "4.2) \"SubBookingName\""
   ]
  },
  {
   "cell_type": "code",
   "execution_count": 14,
   "metadata": {},
   "outputs": [
    {
     "data": {
      "text/plain": [
       "A    4619213\n",
       "B     244863\n",
       "C      90890\n",
       "D      35139\n",
       "E      13490\n",
       "F       4746\n",
       "G       1765\n",
       "H        846\n",
       "I        417\n",
       "J        244\n",
       "K        134\n",
       "L         94\n",
       "M         30\n",
       "N         18\n",
       "O          8\n",
       "P          4\n",
       "R          4\n",
       "Q          4\n",
       "S          4\n",
       "U          3\n",
       "T          3\n",
       "V          3\n",
       "W          2\n",
       "Y          1\n",
       "X          1\n",
       "Name: SubBookingName, dtype: int64"
      ]
     },
     "execution_count": 14,
     "metadata": {},
     "output_type": "execute_result"
    }
   ],
   "source": [
    "# = Gives information whether one delivery is sub-divided into multiple sub-bookings\n",
    "# The vast majority of deliveries only consists of one booking\n",
    "\n",
    "df_final[\"SubBookingName\"].value_counts()"
   ]
  },
  {
   "cell_type": "code",
   "execution_count": 15,
   "metadata": {},
   "outputs": [],
   "source": [
    "# Explain problems with data representation via visualization in the report"
   ]
  },
  {
   "cell_type": "markdown",
   "metadata": {},
   "source": [
    "4.3) \"FromLocation\" & 4.4) \"ToLocation\""
   ]
  },
  {
   "cell_type": "code",
   "execution_count": 16,
   "metadata": {},
   "outputs": [],
   "source": [
    "# = Information about the senders and receivers of deliveries"
   ]
  },
  {
   "cell_type": "code",
   "execution_count": 17,
   "metadata": {},
   "outputs": [
    {
     "data": {
      "text/html": [
       "<div>\n",
       "<style scoped>\n",
       "    .dataframe tbody tr th:only-of-type {\n",
       "        vertical-align: middle;\n",
       "    }\n",
       "\n",
       "    .dataframe tbody tr th {\n",
       "        vertical-align: top;\n",
       "    }\n",
       "\n",
       "    .dataframe thead th {\n",
       "        text-align: right;\n",
       "    }\n",
       "</style>\n",
       "<table border=\"1\" class=\"dataframe\">\n",
       "  <thead>\n",
       "    <tr style=\"text-align: right;\">\n",
       "      <th></th>\n",
       "      <th>BookingId</th>\n",
       "      <th>SubBookingName</th>\n",
       "      <th>FromLocation</th>\n",
       "      <th>ToLocation</th>\n",
       "      <th>StartRequestedDate</th>\n",
       "      <th>EndRequestedDate</th>\n",
       "      <th>Temperature</th>\n",
       "      <th>FromLatitude</th>\n",
       "      <th>FromLongtitude</th>\n",
       "      <th>FromCity</th>\n",
       "      <th>FromCountry</th>\n",
       "      <th>ToLatitude</th>\n",
       "      <th>ToLongtitude</th>\n",
       "      <th>ToCity</th>\n",
       "      <th>ToCountry</th>\n",
       "      <th>FullLoadIndicator</th>\n",
       "      <th>EmptyBookingIndicator</th>\n",
       "      <th>Customer Name</th>\n",
       "      <th>FromLocationString</th>\n",
       "      <th>ToLocationString</th>\n",
       "    </tr>\n",
       "  </thead>\n",
       "  <tbody>\n",
       "    <tr>\n",
       "      <th>0</th>\n",
       "      <td>7399574</td>\n",
       "      <td>A</td>\n",
       "      <td>33917</td>\n",
       "      <td>32289</td>\n",
       "      <td>2020-12-31</td>\n",
       "      <td>2020-12-31</td>\n",
       "      <td>NaN</td>\n",
       "      <td>53.51131</td>\n",
       "      <td>-1.12540</td>\n",
       "      <td>YORKSHIRE</td>\n",
       "      <td>United Kingdom</td>\n",
       "      <td>53.60475</td>\n",
       "      <td>-0.65636</td>\n",
       "      <td>SCUNTHORPE</td>\n",
       "      <td>United Kingdom</td>\n",
       "      <td>Y</td>\n",
       "      <td>N</td>\n",
       "      <td>DFDS LOGISTICS LIMITED (WARRINGTON)</td>\n",
       "      <td>TESCO</td>\n",
       "      <td>GRAYRENTALS</td>\n",
       "    </tr>\n",
       "    <tr>\n",
       "      <th>1</th>\n",
       "      <td>7399575</td>\n",
       "      <td>A</td>\n",
       "      <td>9443</td>\n",
       "      <td>57716</td>\n",
       "      <td>2020-12-31</td>\n",
       "      <td>2020-12-31</td>\n",
       "      <td>NaN</td>\n",
       "      <td>53.50446</td>\n",
       "      <td>-2.84867</td>\n",
       "      <td>Liverpool</td>\n",
       "      <td>United Kingdom</td>\n",
       "      <td>53.04612</td>\n",
       "      <td>-2.92787</td>\n",
       "      <td>Wrexham</td>\n",
       "      <td>United Kingdom</td>\n",
       "      <td>Y</td>\n",
       "      <td>N</td>\n",
       "      <td>NEEROCK T/A WOODHEAD BROS MEAT COMPANY</td>\n",
       "      <td>DFDS SIMONSWOOD</td>\n",
       "      <td>NORISH COLD STORAGE WREXHAM</td>\n",
       "    </tr>\n",
       "    <tr>\n",
       "      <th>2</th>\n",
       "      <td>7399576</td>\n",
       "      <td>A</td>\n",
       "      <td>9443</td>\n",
       "      <td>57716</td>\n",
       "      <td>2020-12-31</td>\n",
       "      <td>2020-12-31</td>\n",
       "      <td>NaN</td>\n",
       "      <td>53.50446</td>\n",
       "      <td>-2.84867</td>\n",
       "      <td>Liverpool</td>\n",
       "      <td>United Kingdom</td>\n",
       "      <td>53.04612</td>\n",
       "      <td>-2.92787</td>\n",
       "      <td>Wrexham</td>\n",
       "      <td>United Kingdom</td>\n",
       "      <td>Y</td>\n",
       "      <td>N</td>\n",
       "      <td>NEEROCK T/A WOODHEAD BROS MEAT COMPANY</td>\n",
       "      <td>DFDS SIMONSWOOD</td>\n",
       "      <td>NORISH COLD STORAGE WREXHAM</td>\n",
       "    </tr>\n",
       "    <tr>\n",
       "      <th>3</th>\n",
       "      <td>7399577</td>\n",
       "      <td>A</td>\n",
       "      <td>5977</td>\n",
       "      <td>9831</td>\n",
       "      <td>2020-12-31</td>\n",
       "      <td>2020-12-31</td>\n",
       "      <td>NaN</td>\n",
       "      <td>53.77629</td>\n",
       "      <td>-1.52585</td>\n",
       "      <td>Leeds</td>\n",
       "      <td>United Kingdom</td>\n",
       "      <td>53.71874</td>\n",
       "      <td>-1.41235</td>\n",
       "      <td>YORKSHIRE</td>\n",
       "      <td>United Kingdom</td>\n",
       "      <td>N</td>\n",
       "      <td>N</td>\n",
       "      <td>GREENCORE GROCERY LTD (LEEDS)</td>\n",
       "      <td>C/O GREENCORE FROZEN FOODS</td>\n",
       "      <td>BIDVEST</td>\n",
       "    </tr>\n",
       "    <tr>\n",
       "      <th>4</th>\n",
       "      <td>7399578</td>\n",
       "      <td>A</td>\n",
       "      <td>5977</td>\n",
       "      <td>3182</td>\n",
       "      <td>2020-12-31</td>\n",
       "      <td>2020-12-31</td>\n",
       "      <td>NaN</td>\n",
       "      <td>53.77629</td>\n",
       "      <td>-1.52585</td>\n",
       "      <td>Leeds</td>\n",
       "      <td>United Kingdom</td>\n",
       "      <td>55.87784</td>\n",
       "      <td>-3.65235</td>\n",
       "      <td>Bathgate</td>\n",
       "      <td>United Kingdom</td>\n",
       "      <td>Y</td>\n",
       "      <td>N</td>\n",
       "      <td>GREENCORE GROCERY LTD (LEEDS)</td>\n",
       "      <td>C/O GREENCORE FROZEN FOODS</td>\n",
       "      <td>ALDI STORES LTD</td>\n",
       "    </tr>\n",
       "  </tbody>\n",
       "</table>\n",
       "</div>"
      ],
      "text/plain": [
       "   BookingId SubBookingName  FromLocation  ToLocation StartRequestedDate  \\\n",
       "0    7399574              A         33917       32289         2020-12-31   \n",
       "1    7399575              A          9443       57716         2020-12-31   \n",
       "2    7399576              A          9443       57716         2020-12-31   \n",
       "3    7399577              A          5977        9831         2020-12-31   \n",
       "4    7399578              A          5977        3182         2020-12-31   \n",
       "\n",
       "  EndRequestedDate  Temperature  FromLatitude  FromLongtitude   FromCity  \\\n",
       "0       2020-12-31          NaN      53.51131        -1.12540  YORKSHIRE   \n",
       "1       2020-12-31          NaN      53.50446        -2.84867  Liverpool   \n",
       "2       2020-12-31          NaN      53.50446        -2.84867  Liverpool   \n",
       "3       2020-12-31          NaN      53.77629        -1.52585      Leeds   \n",
       "4       2020-12-31          NaN      53.77629        -1.52585      Leeds   \n",
       "\n",
       "      FromCountry  ToLatitude  ToLongtitude      ToCity       ToCountry  \\\n",
       "0  United Kingdom    53.60475      -0.65636  SCUNTHORPE  United Kingdom   \n",
       "1  United Kingdom    53.04612      -2.92787     Wrexham  United Kingdom   \n",
       "2  United Kingdom    53.04612      -2.92787     Wrexham  United Kingdom   \n",
       "3  United Kingdom    53.71874      -1.41235   YORKSHIRE  United Kingdom   \n",
       "4  United Kingdom    55.87784      -3.65235    Bathgate  United Kingdom   \n",
       "\n",
       "  FullLoadIndicator EmptyBookingIndicator  \\\n",
       "0                 Y                     N   \n",
       "1                 Y                     N   \n",
       "2                 Y                     N   \n",
       "3                 N                     N   \n",
       "4                 Y                     N   \n",
       "\n",
       "                            Customer Name           FromLocationString  \\\n",
       "0     DFDS LOGISTICS LIMITED (WARRINGTON)                        TESCO   \n",
       "1  NEEROCK T/A WOODHEAD BROS MEAT COMPANY              DFDS SIMONSWOOD   \n",
       "2  NEEROCK T/A WOODHEAD BROS MEAT COMPANY              DFDS SIMONSWOOD   \n",
       "3           GREENCORE GROCERY LTD (LEEDS)  C/O GREENCORE FROZEN FOODS    \n",
       "4           GREENCORE GROCERY LTD (LEEDS)  C/O GREENCORE FROZEN FOODS    \n",
       "\n",
       "              ToLocationString  \n",
       "0                  GRAYRENTALS  \n",
       "1  NORISH COLD STORAGE WREXHAM  \n",
       "2  NORISH COLD STORAGE WREXHAM  \n",
       "3                      BIDVEST  \n",
       "4              ALDI STORES LTD  "
      ]
     },
     "execution_count": 17,
     "metadata": {},
     "output_type": "execute_result"
    }
   ],
   "source": [
    "# Encode senders (FromLocation) and receivers (ToLocation) from deliveries for anonymization purposes\n",
    "# as they usually contain customer information\n",
    "\n",
    "labelencoder = LabelEncoder()\n",
    "\n",
    "# \n",
    "df_final[\"FromLocationString\"] = df_final[\"FromLocation\"]\n",
    "df_final[\"ToLocationString\"] = df_final[\"ToLocation\"]\n",
    "\n",
    "#\n",
    "df_final[\"FromLocation\"] = labelencoder.fit_transform(df_final[\"FromLocationString\"])\n",
    "df_final[\"ToLocation\"] = labelencoder.fit_transform(df_final[\"ToLocationString\"])\n",
    "\n",
    "df_final.head()"
   ]
  },
  {
   "cell_type": "code",
   "execution_count": 18,
   "metadata": {},
   "outputs": [],
   "source": [
    "# Export to CSV and drop columns \n",
    "#\n",
    "#\n",
    "#\n"
   ]
  },
  {
   "cell_type": "markdown",
   "metadata": {},
   "source": [
    "4.5) \"StartRequestedDate\" & 4.6) \"EndRequestedDate\""
   ]
  },
  {
   "cell_type": "code",
   "execution_count": 19,
   "metadata": {},
   "outputs": [
    {
     "name": "stdout",
     "output_type": "stream",
     "text": [
      "<class 'pandas.core.frame.DataFrame'>\n",
      "Int64Index: 5011926 entries, 0 to 5011925\n",
      "Data columns (total 20 columns):\n",
      " #   Column                 Dtype         \n",
      "---  ------                 -----         \n",
      " 0   BookingId              int64         \n",
      " 1   SubBookingName         object        \n",
      " 2   FromLocation           int64         \n",
      " 3   ToLocation             int64         \n",
      " 4   StartRequestedDate     datetime64[ns]\n",
      " 5   EndRequestedDate       datetime64[ns]\n",
      " 6   Temperature            float64       \n",
      " 7   FromLatitude           float64       \n",
      " 8   FromLongtitude         float64       \n",
      " 9   FromCity               object        \n",
      " 10  FromCountry            object        \n",
      " 11  ToLatitude             float64       \n",
      " 12  ToLongtitude           float64       \n",
      " 13  ToCity                 object        \n",
      " 14  ToCountry              object        \n",
      " 15  FullLoadIndicator      object        \n",
      " 16  EmptyBookingIndicator  object        \n",
      " 17  Customer Name          object        \n",
      " 18  FromLocationString     object        \n",
      " 19  ToLocationString       object        \n",
      "dtypes: datetime64[ns](2), float64(5), int64(3), object(10)\n",
      "memory usage: 803.0+ MB\n"
     ]
    }
   ],
   "source": [
    "# = The date when a delivery was requested (Start) vs. when it was actually picked up (End)\n",
    "\n",
    "# First, bring date columns to datetime format before analysis\n",
    "\n",
    "df_final['StartRequestedDate'] = pd.to_datetime(df_final['StartRequestedDate'])\n",
    "df_final['EndRequestedDate'] = pd.to_datetime(df_final['EndRequestedDate'])\n",
    "\n",
    "# Check if it worked\n",
    "df_final.info()"
   ]
  },
  {
   "cell_type": "code",
   "execution_count": 20,
   "metadata": {},
   "outputs": [],
   "source": [
    "# Remove wrong dates \n",
    "\n",
    "# Add column for year in StartRequestedDate and EndRequestedDate\n",
    "df_final['StartYear'] = df_final.StartRequestedDate.apply(lambda x:x.year)\n",
    "df_final['EndYear'] = df_final.EndRequestedDate.apply(lambda x:x.year)"
   ]
  },
  {
   "cell_type": "code",
   "execution_count": 21,
   "metadata": {},
   "outputs": [
    {
     "data": {
      "text/plain": [
       "(64, 22)"
      ]
     },
     "execution_count": 21,
     "metadata": {},
     "output_type": "execute_result"
    }
   ],
   "source": [
    "# There seems to be many wrong inputs for the StartRequestedDate\n",
    "\n",
    "df_final[df_final.StartYear < 2020].shape"
   ]
  },
  {
   "cell_type": "code",
   "execution_count": 22,
   "metadata": {},
   "outputs": [
    {
     "data": {
      "text/plain": [
       "(44, 22)"
      ]
     },
     "execution_count": 22,
     "metadata": {},
     "output_type": "execute_result"
    }
   ],
   "source": [
    "# EndRequestedDate is more contains less wrong inputs, so we can drop values out of our range of interest in EndRequestedDate\n",
    "\n",
    "df_final[df_final.EndYear < 2020].shape"
   ]
  },
  {
   "cell_type": "code",
   "execution_count": 23,
   "metadata": {},
   "outputs": [
    {
     "data": {
      "text/plain": [
       "(4992586, 22)"
      ]
     },
     "execution_count": 23,
     "metadata": {},
     "output_type": "execute_result"
    }
   ],
   "source": [
    "# Remove rows where the EndRequestedDate is before 2020 \n",
    "df_final = df_final[df_final.EndYear >= 2020]\n",
    "\n",
    "# Remove rows where the EndRequestedDate is after 2023\n",
    "df_final = df_final[df_final.EndYear <= 2023]\n",
    "df_final.shape"
   ]
  },
  {
   "cell_type": "code",
   "execution_count": 24,
   "metadata": {},
   "outputs": [
    {
     "data": {
      "text/html": [
       "<div>\n",
       "<style scoped>\n",
       "    .dataframe tbody tr th:only-of-type {\n",
       "        vertical-align: middle;\n",
       "    }\n",
       "\n",
       "    .dataframe tbody tr th {\n",
       "        vertical-align: top;\n",
       "    }\n",
       "\n",
       "    .dataframe thead th {\n",
       "        text-align: right;\n",
       "    }\n",
       "</style>\n",
       "<table border=\"1\" class=\"dataframe\">\n",
       "  <thead>\n",
       "    <tr style=\"text-align: right;\">\n",
       "      <th></th>\n",
       "      <th>BookingId</th>\n",
       "      <th>SubBookingName</th>\n",
       "      <th>FromLocation</th>\n",
       "      <th>ToLocation</th>\n",
       "      <th>StartRequestedDate</th>\n",
       "      <th>EndRequestedDate</th>\n",
       "      <th>Temperature</th>\n",
       "      <th>FromLatitude</th>\n",
       "      <th>FromLongtitude</th>\n",
       "      <th>FromCity</th>\n",
       "      <th>FromCountry</th>\n",
       "      <th>ToLatitude</th>\n",
       "      <th>ToLongtitude</th>\n",
       "      <th>ToCity</th>\n",
       "      <th>ToCountry</th>\n",
       "      <th>FullLoadIndicator</th>\n",
       "      <th>EmptyBookingIndicator</th>\n",
       "      <th>Customer Name</th>\n",
       "      <th>FromLocationString</th>\n",
       "      <th>ToLocationString</th>\n",
       "      <th>StartYear</th>\n",
       "      <th>EndYear</th>\n",
       "    </tr>\n",
       "  </thead>\n",
       "  <tbody>\n",
       "    <tr>\n",
       "      <th>1011</th>\n",
       "      <td>7400270</td>\n",
       "      <td>A</td>\n",
       "      <td>9225</td>\n",
       "      <td>21110</td>\n",
       "      <td>2020-12-31</td>\n",
       "      <td>2021-01-01</td>\n",
       "      <td>NaN</td>\n",
       "      <td>57.12226</td>\n",
       "      <td>-2.08894</td>\n",
       "      <td>Aberdeen</td>\n",
       "      <td>United Kingdom</td>\n",
       "      <td>55.72639</td>\n",
       "      <td>-3.95987</td>\n",
       "      <td>Larkhall</td>\n",
       "      <td>United Kingdom</td>\n",
       "      <td>Y</td>\n",
       "      <td>N</td>\n",
       "      <td>DFDS LOGISTICS LIMITED</td>\n",
       "      <td>DFDS ABERDEEN</td>\n",
       "      <td>DFDS LOGISTICS SCOTLAND LTD</td>\n",
       "      <td>2020.0</td>\n",
       "      <td>2021.0</td>\n",
       "    </tr>\n",
       "    <tr>\n",
       "      <th>1012</th>\n",
       "      <td>7400271</td>\n",
       "      <td>A</td>\n",
       "      <td>8661</td>\n",
       "      <td>21110</td>\n",
       "      <td>2020-12-31</td>\n",
       "      <td>2021-01-01</td>\n",
       "      <td>NaN</td>\n",
       "      <td>55.81563</td>\n",
       "      <td>-4.06952</td>\n",
       "      <td>UDDINGSTON</td>\n",
       "      <td>United Kingdom</td>\n",
       "      <td>55.72639</td>\n",
       "      <td>-3.95987</td>\n",
       "      <td>Larkhall</td>\n",
       "      <td>United Kingdom</td>\n",
       "      <td>Y</td>\n",
       "      <td>N</td>\n",
       "      <td>DFDS LOGISTICS LIMITED</td>\n",
       "      <td>DAWNFRESH SEAFOODS LIMITED</td>\n",
       "      <td>DFDS LOGISTICS SCOTLAND LTD</td>\n",
       "      <td>2020.0</td>\n",
       "      <td>2021.0</td>\n",
       "    </tr>\n",
       "    <tr>\n",
       "      <th>1015</th>\n",
       "      <td>7400273</td>\n",
       "      <td>A</td>\n",
       "      <td>9343</td>\n",
       "      <td>21110</td>\n",
       "      <td>2020-12-31</td>\n",
       "      <td>2021-01-01</td>\n",
       "      <td>NaN</td>\n",
       "      <td>53.57513</td>\n",
       "      <td>-0.11671</td>\n",
       "      <td>GRIMSBY</td>\n",
       "      <td>United Kingdom</td>\n",
       "      <td>55.72639</td>\n",
       "      <td>-3.95987</td>\n",
       "      <td>Larkhall</td>\n",
       "      <td>United Kingdom</td>\n",
       "      <td>Y</td>\n",
       "      <td>N</td>\n",
       "      <td>DFDS LOGISTICS LIMITED</td>\n",
       "      <td>DFDS LOGISTICS GRIMSBY LTD</td>\n",
       "      <td>DFDS LOGISTICS SCOTLAND LTD</td>\n",
       "      <td>2020.0</td>\n",
       "      <td>2021.0</td>\n",
       "    </tr>\n",
       "    <tr>\n",
       "      <th>1017</th>\n",
       "      <td>7400275</td>\n",
       "      <td>A</td>\n",
       "      <td>12331</td>\n",
       "      <td>31337</td>\n",
       "      <td>2020-01-02</td>\n",
       "      <td>2021-01-03</td>\n",
       "      <td>NaN</td>\n",
       "      <td>55.77058</td>\n",
       "      <td>-2.33837</td>\n",
       "      <td>DUNS</td>\n",
       "      <td>United Kingdom</td>\n",
       "      <td>55.82770</td>\n",
       "      <td>-3.98129</td>\n",
       "      <td>NORTH LANARKSHIRE</td>\n",
       "      <td>United Kingdom</td>\n",
       "      <td>Y</td>\n",
       "      <td>N</td>\n",
       "      <td>DFDS LOGISTICS LIMITED</td>\n",
       "      <td>FARNE SALMON &amp; TROUT</td>\n",
       "      <td>GIST EUROCENTRAL</td>\n",
       "      <td>2020.0</td>\n",
       "      <td>2021.0</td>\n",
       "    </tr>\n",
       "    <tr>\n",
       "      <th>1449</th>\n",
       "      <td>7400530</td>\n",
       "      <td>A</td>\n",
       "      <td>17858</td>\n",
       "      <td>56428</td>\n",
       "      <td>2020-12-31</td>\n",
       "      <td>2021-01-05</td>\n",
       "      <td>NaN</td>\n",
       "      <td>45.75822</td>\n",
       "      <td>12.81087</td>\n",
       "      <td>Portogruaro</td>\n",
       "      <td>Italy</td>\n",
       "      <td>57.68486</td>\n",
       "      <td>12.22925</td>\n",
       "      <td>Landvetter</td>\n",
       "      <td>Sweden</td>\n",
       "      <td>Y</td>\n",
       "      <td>N</td>\n",
       "      <td>FERCAM AUSTRIA GMBH</td>\n",
       "      <td>IT PL PORTOGRUARO PETCARE NPP</td>\n",
       "      <td>NESTLE PURINA PETCARE EMENA</td>\n",
       "      <td>2020.0</td>\n",
       "      <td>2021.0</td>\n",
       "    </tr>\n",
       "  </tbody>\n",
       "</table>\n",
       "</div>"
      ],
      "text/plain": [
       "      BookingId SubBookingName  FromLocation  ToLocation StartRequestedDate  \\\n",
       "1011    7400270              A          9225       21110         2020-12-31   \n",
       "1012    7400271              A          8661       21110         2020-12-31   \n",
       "1015    7400273              A          9343       21110         2020-12-31   \n",
       "1017    7400275              A         12331       31337         2020-01-02   \n",
       "1449    7400530              A         17858       56428         2020-12-31   \n",
       "\n",
       "     EndRequestedDate  Temperature  FromLatitude  FromLongtitude     FromCity  \\\n",
       "1011       2021-01-01          NaN      57.12226        -2.08894     Aberdeen   \n",
       "1012       2021-01-01          NaN      55.81563        -4.06952   UDDINGSTON   \n",
       "1015       2021-01-01          NaN      53.57513        -0.11671      GRIMSBY   \n",
       "1017       2021-01-03          NaN      55.77058        -2.33837         DUNS   \n",
       "1449       2021-01-05          NaN      45.75822        12.81087  Portogruaro   \n",
       "\n",
       "         FromCountry  ToLatitude  ToLongtitude             ToCity  \\\n",
       "1011  United Kingdom    55.72639      -3.95987           Larkhall   \n",
       "1012  United Kingdom    55.72639      -3.95987           Larkhall   \n",
       "1015  United Kingdom    55.72639      -3.95987           Larkhall   \n",
       "1017  United Kingdom    55.82770      -3.98129  NORTH LANARKSHIRE   \n",
       "1449           Italy    57.68486      12.22925         Landvetter   \n",
       "\n",
       "           ToCountry FullLoadIndicator EmptyBookingIndicator  \\\n",
       "1011  United Kingdom                 Y                     N   \n",
       "1012  United Kingdom                 Y                     N   \n",
       "1015  United Kingdom                 Y                     N   \n",
       "1017  United Kingdom                 Y                     N   \n",
       "1449          Sweden                 Y                     N   \n",
       "\n",
       "               Customer Name             FromLocationString  \\\n",
       "1011  DFDS LOGISTICS LIMITED                 DFDS ABERDEEN    \n",
       "1012  DFDS LOGISTICS LIMITED     DAWNFRESH SEAFOODS LIMITED   \n",
       "1015  DFDS LOGISTICS LIMITED     DFDS LOGISTICS GRIMSBY LTD   \n",
       "1017  DFDS LOGISTICS LIMITED           FARNE SALMON & TROUT   \n",
       "1449     FERCAM AUSTRIA GMBH  IT PL PORTOGRUARO PETCARE NPP   \n",
       "\n",
       "                 ToLocationString  StartYear  EndYear  \n",
       "1011  DFDS LOGISTICS SCOTLAND LTD     2020.0   2021.0  \n",
       "1012  DFDS LOGISTICS SCOTLAND LTD     2020.0   2021.0  \n",
       "1015  DFDS LOGISTICS SCOTLAND LTD     2020.0   2021.0  \n",
       "1017            GIST EUROCENTRAL      2020.0   2021.0  \n",
       "1449  NESTLE PURINA PETCARE EMENA     2020.0   2021.0  "
      ]
     },
     "execution_count": 24,
     "metadata": {},
     "output_type": "execute_result"
    }
   ],
   "source": [
    "# when the StartYear and EndYear differ (18750 entries), it is mostly because of StartDate = 31.12., EndDate = 1.1. \n",
    "# --> Keep those observations \n",
    "\n",
    "diff = df_final[df_final.StartYear != df_final.EndYear]\n",
    "diff.head()"
   ]
  },
  {
   "cell_type": "code",
   "execution_count": 25,
   "metadata": {},
   "outputs": [],
   "source": [
    "# Remove the columns created before, as not necessary anymore\n",
    "cols = ['StartYear','EndYear']\n",
    "df_final = df_final.drop(cols, axis = 1)"
   ]
  },
  {
   "cell_type": "code",
   "execution_count": 106,
   "metadata": {},
   "outputs": [],
   "source": [
    "#by looking at dataset info it results that for features joined from the 1st dataset there are multiple NaNs --> using one of these features ['Customer Name'] to understand what time periods are not covered by the 1st dataset\n",
    "\n",
    "# missing_df_info = df_final[df_final['Customer Name'].isna()]"
   ]
  },
  {
   "cell_type": "code",
   "execution_count": 29,
   "metadata": {},
   "outputs": [
    {
     "name": "stderr",
     "output_type": "stream",
     "text": [
      "/var/folders/c8/h2cp_4sd6dv_l0f506nl_kg00000gn/T/ipykernel_6060/1263935299.py:2: SettingWithCopyWarning: \n",
      "A value is trying to be set on a copy of a slice from a DataFrame.\n",
      "Try using .loc[row_indexer,col_indexer] = value instead\n",
      "\n",
      "See the caveats in the documentation: https://pandas.pydata.org/pandas-docs/stable/user_guide/indexing.html#returning-a-view-versus-a-copy\n",
      "  missing_df_info['StartRequestedDate'] = pd.to_datetime(missing_df_info['StartRequestedDate'])\n",
      "/var/folders/c8/h2cp_4sd6dv_l0f506nl_kg00000gn/T/ipykernel_6060/1263935299.py:3: SettingWithCopyWarning: \n",
      "A value is trying to be set on a copy of a slice from a DataFrame.\n",
      "Try using .loc[row_indexer,col_indexer] = value instead\n",
      "\n",
      "See the caveats in the documentation: https://pandas.pydata.org/pandas-docs/stable/user_guide/indexing.html#returning-a-view-versus-a-copy\n",
      "  missing_df_info['EndRequestedDate'] = pd.to_datetime(missing_df_info['EndRequestedDate'])\n"
     ]
    }
   ],
   "source": [
    "#ensuring that dates are in the appropriate format\n",
    "# missing_df_info['StartRequestedDate'] = pd.to_datetime(missing_df_info['StartRequestedDate'])\n",
    "# missing_df_info['EndRequestedDate'] = pd.to_datetime(missing_df_info['EndRequestedDate'])"
   ]
  },
  {
   "cell_type": "code",
   "execution_count": 30,
   "metadata": {},
   "outputs": [],
   "source": [
    "#creating a csv file to eventually retrieve data for the missing period and remove Nan\n",
    "\n",
    "#dates_to_add_og=missing_df_info.EndRequestedDate.value_counts()\n",
    "#dates_to_add_og.to_csv('dates_missing.csv')"
   ]
  },
  {
   "cell_type": "code",
   "execution_count": 31,
   "metadata": {},
   "outputs": [
    {
     "name": "stdout",
     "output_type": "stream",
     "text": [
      "Time range: 2020-01-07 00:00:00 - 2023-12-15 00:00:00\n"
     ]
    }
   ],
   "source": [
    "# Looking at time range of missing values --> fairly useless as both upper and lower bound \n",
    "# are false data (with 1907 & 2202 as years)\n",
    "# earliest_missing = missing_df_info['EndRequestedDate'].min()\n",
    "# latest_missing = missing_df_info['EndRequestedDate'].max()\n",
    "\n",
    "# print the time range\n",
    "# print(\"Time range: {} - {}\".format(earliest_missing, latest_missing))\n",
    "#Time range: 2020-01-07 00:00:00 - 2023-12-15 00:00:00"
   ]
  },
  {
   "cell_type": "code",
   "execution_count": 108,
   "metadata": {},
   "outputs": [
    {
     "data": {
      "image/png": "[encoded data removed]",
      "text/plain": [
       "<Figure size 1500x750 with 1 Axes>"
      ]
     },
     "metadata": {},
     "output_type": "display_data"
    }
   ],
   "source": [
    "# Plotting WEEKLY number of deliveries\n",
    "weekly_deliveries = df_final.groupby(pd.Grouper(key = 'EndRequestedDate', freq = 'W')).count()\n",
    "\n",
    "# Setting figure size\n",
    "fig = plt.figure(figsize = (15, 7.5))\n",
    "\n",
    "# Plot the number of deliveries over time\n",
    "plt.plot(weekly_deliveries.index, weekly_deliveries['BookingId'], label = 'Deliveries')\n",
    "\n",
    "# Add axis labels and a title\n",
    "plt.xlabel('Time')\n",
    "plt.xlim(pd.Timestamp('2021-01-01'), pd.Timestamp('2023-03-01'), None)\n",
    "plt.ylabel('Number of deliveries')\n",
    "plt.title('Weekly deliveries over time')\n",
    "\n",
    "# Show the plot\n",
    "plt.show()"
   ]
  },
  {
   "cell_type": "markdown",
   "metadata": {},
   "source": [
    "_Note_:   \n",
    "- The dips at the beginning of 2021, 2022 and 2023 are due to low activity surrounding end/beginning of year and nothing to worry about for now   \n",
    "- The sudden rise in 10/2022 is due to DDFS acquiring another company in 2020/2021; it seems like the operations of this new part of DFDS have only been fed into the data systems around the end of 2022"
   ]
  },
  {
   "cell_type": "code",
   "execution_count": 109,
   "metadata": {},
   "outputs": [
    {
     "data": {
      "image/png": "[encoded data removed]",
      "text/plain": [
       "<Figure size 2500x500 with 1 Axes>"
      ]
     },
     "metadata": {},
     "output_type": "display_data"
    }
   ],
   "source": [
    "# Plotting DAILY number of deliveries \n",
    "daily_deliveries = df_final.groupby(pd.Grouper(key = 'StartRequestedDate', freq = 'D')).count()\n",
    "\n",
    "# Setting figure size\n",
    "fig = plt.figure(figsize=(25, 5))\n",
    "\n",
    "# Plot the number of deliveries over time\n",
    "plt.plot(daily_deliveries.index, daily_deliveries['BookingId'], label = 'Deliveries')\n",
    "\n",
    "# Add axis labels and a title\n",
    "plt.xlabel('Time')\n",
    "plt.xlim(pd.Timestamp('2021-01-01'), pd.Timestamp('2023-03-01'), None)\n",
    "plt.ylabel('Number of deliveries')\n",
    "plt.title('Daily deliveries over time')\n",
    "\n",
    "# Show the plot\n",
    "plt.show()"
   ]
  },
  {
   "cell_type": "code",
   "execution_count": 110,
   "metadata": {},
   "outputs": [
    {
     "name": "stdout",
     "output_type": "stream",
     "text": [
      "2022981\n"
     ]
    }
   ],
   "source": [
    "# \"EndRequestedDate\" Should look similar as the distribution of 'StartRequestedDate', but we'll check: \n",
    "\n",
    "same_date = df_final['StartRequestedDate'] == df_final['EndRequestedDate']\n",
    "\n",
    "# Print the number of unique dates where delivery was planned and actually executed the same day\n",
    "\n",
    "print(same_date.sum()) #2m deliveries are being picked up at the date they are supposed to "
   ]
  },
  {
   "cell_type": "code",
   "execution_count": 111,
   "metadata": {},
   "outputs": [
    {
     "data": {
      "image/png": "[encoded data removed]",
      "text/plain": [
       "<Figure size 1500x750 with 1 Axes>"
      ]
     },
     "metadata": {},
     "output_type": "display_data"
    }
   ],
   "source": [
    "# Now checking if this is also visible in a graph\n",
    "\n",
    "# Plotting WEEKLY number of deliveries\n",
    "weekly_deliveries_planned = df_final.groupby(pd.Grouper(key = 'StartRequestedDate', freq = 'W')).count()\n",
    "weekly_deliveries_actual = df_final.groupby(pd.Grouper(key = 'EndRequestedDate', freq = 'W')).count()\n",
    "\n",
    "# Setting figure size\n",
    "fig = plt.figure(figsize=(15, 7.5))\n",
    "\n",
    "# Plot the number of deliveries over time\n",
    "plt.plot(weekly_deliveries_planned.index, weekly_deliveries_planned['BookingId'], label = 'Planned Deliveries')\n",
    "plt.plot(weekly_deliveries_actual.index, weekly_deliveries_actual['BookingId'], label = 'Actual Deliveries')\n",
    "\n",
    "# Add axis labels and a title\n",
    "plt.xlabel('Time')\n",
    "plt.xlim(pd.Timestamp('2021-01-01'), pd.Timestamp('2023-03-01'), None)\n",
    "plt.ylabel('Number of deliveries')\n",
    "plt.title('Planned vs. Actual Weekly deliveries over time')\n",
    "\n",
    "# Show the plot\n",
    "plt.show()"
   ]
  },
  {
   "cell_type": "markdown",
   "metadata": {},
   "source": [
    "4.8) \"Temperature\""
   ]
  },
  {
   "cell_type": "code",
   "execution_count": 51,
   "metadata": {},
   "outputs": [
    {
     "data": {
      "text/plain": [
       "81.41464163060986"
      ]
     },
     "execution_count": 51,
     "metadata": {},
     "output_type": "execute_result"
    }
   ],
   "source": [
    "# = Temperature of the delivery;\n",
    "# -> 81.1% missing values, so careful with analyses\n",
    "\n",
    "df_final['Temperature'].isna().sum() / len(df_final) * 100 "
   ]
  },
  {
   "cell_type": "code",
   "execution_count": 52,
   "metadata": {},
   "outputs": [
    {
     "data": {
      "text/plain": [
       "count    927890.000000\n",
       "mean         -7.597398\n",
       "std          15.614036\n",
       "min         -40.000000\n",
       "25%         -22.000000\n",
       "50%          -5.000000\n",
       "75%           0.000000\n",
       "max          99.000000\n",
       "Name: Temperature, dtype: float64"
      ]
     },
     "execution_count": 52,
     "metadata": {},
     "output_type": "execute_result"
    }
   ],
   "source": [
    "df_final['Temperature'].describe()"
   ]
  },
  {
   "cell_type": "code",
   "execution_count": 53,
   "metadata": {},
   "outputs": [
    {
     "data": {
      "image/png": "[encoded data removed]",
      "text/plain": [
       "<Figure size 432x288 with 1 Axes>"
      ]
     },
     "metadata": {
      "needs_background": "light"
     },
     "output_type": "display_data"
    }
   ],
   "source": [
    "plt.hist(df_final['Temperature'], bins=100)\n",
    "plt.xlabel('Temperature')\n",
    "plt.ylabel('Frequency')\n",
    "plt.title('Distribution of Temperature')\n",
    "plt.show()"
   ]
  },
  {
   "cell_type": "markdown",
   "metadata": {},
   "source": [
    "**Note:**\n",
    "\n",
    "There are two types of transports: Warm and cold. These have to be differentiated as cold transports have less reach. \n",
    "Find the creation of a new variable for frozen loads in \"Feature Engineering\" part below. "
   ]
  },
  {
   "cell_type": "markdown",
   "metadata": {},
   "source": [
    "4.9) \"FromLatitude\" and 4.10) \"FromLongtitude\" "
   ]
  },
  {
   "cell_type": "code",
   "execution_count": 113,
   "metadata": {},
   "outputs": [],
   "source": [
    "# = Information about the latitude and longitude points where a booking/delivery departs from \n",
    "\n",
    "# No analyses in here; see geographical visualization in Tableau\n",
    "# Will be used to calculate distances below in feature engineering part"
   ]
  },
  {
   "cell_type": "code",
   "execution_count": 26,
   "metadata": {},
   "outputs": [],
   "source": [
    "# Rename longitude column to vanish typo: \n",
    "df_final.rename(columns = {\"FromLongtitude\": \"FromLongitude\"}, inplace = True)"
   ]
  },
  {
   "cell_type": "markdown",
   "metadata": {},
   "source": [
    "4.11) \"FromCity\""
   ]
  },
  {
   "cell_type": "code",
   "execution_count": 115,
   "metadata": {},
   "outputs": [],
   "source": [
    "# = City where a booking/delivery departs from \n",
    "\n",
    "# Only used for vizualisation purposes in Tableau"
   ]
  },
  {
   "cell_type": "markdown",
   "metadata": {},
   "source": [
    "4.12) \"FromCountry\""
   ]
  },
  {
   "cell_type": "code",
   "execution_count": 116,
   "metadata": {},
   "outputs": [
    {
     "data": {
      "text/plain": [
       "88101"
      ]
     },
     "execution_count": 116,
     "metadata": {},
     "output_type": "execute_result"
    }
   ],
   "source": [
    "# = Country where a booking/delivery departs from \n",
    "\n",
    "# There are quite some missing values in this variable due to the merge. \n",
    "\n",
    "df_final[\"FromCountry\"].isna().sum()"
   ]
  },
  {
   "cell_type": "code",
   "execution_count": 36,
   "metadata": {},
   "outputs": [],
   "source": [
    "# Let's fill the gaps by reverse geocoding and get countries via the coordinates. \n",
    "\n",
    "# Define a function to get the country from the latitude and longitude columns\n",
    "\n",
    "def get_from_country(row):\n",
    "    if pd.isnull(row['FromCountry']):\n",
    "        coordinates = (row['FromLatitude'], row['FromLongitude']), (0, 0)\n",
    "        address = reverse_geocode.search(coordinates)[0]\n",
    "        return address['country']\n",
    "    else:\n",
    "        return row['FromCountry']"
   ]
  },
  {
   "cell_type": "code",
   "execution_count": 37,
   "metadata": {},
   "outputs": [],
   "source": [
    "# Apply the function\n",
    "\n",
    "df_final['FromCountry'] = df_final.apply(get_from_country, axis = 1)"
   ]
  },
  {
   "cell_type": "code",
   "execution_count": 38,
   "metadata": {},
   "outputs": [
    {
     "data": {
      "text/plain": [
       "0"
      ]
     },
     "execution_count": 38,
     "metadata": {},
     "output_type": "execute_result"
    }
   ],
   "source": [
    "# Check again for missing values\n",
    "\n",
    "df_final[\"FromCountry\"].isna().sum()"
   ]
  },
  {
   "cell_type": "code",
   "execution_count": 117,
   "metadata": {},
   "outputs": [
    {
     "data": {
      "image/png": "[encoded data removed]",
      "text/plain": [
       "<Figure size 300x300 with 1 Axes>"
      ]
     },
     "metadata": {},
     "output_type": "display_data"
    }
   ],
   "source": [
    "# Now let's visualize the variable\n",
    "\n",
    "from_country = df_final['FromCountry'].value_counts()\n",
    "\n",
    "from_country.plot(kind = 'pie', \n",
    "                  figsize = (3, 3), \n",
    "                  autopct = '%1.1f%%', \n",
    "                  startangle = 90,\n",
    "                  pctdistance = 0.8,\n",
    "                  labeldistance = 1.1)\n",
    "\n",
    "plt.axis('equal')\n",
    "plt.title('Freight Collection Distribution by Country')\n",
    "plt.show()"
   ]
  },
  {
   "cell_type": "markdown",
   "metadata": {},
   "source": [
    "4.13) \"ToLatitude\" and 4.14) \"ToLongtitude\""
   ]
  },
  {
   "cell_type": "code",
   "execution_count": 118,
   "metadata": {},
   "outputs": [],
   "source": [
    "# = Information about the latitude and longitude point where a booking/delivery is headed\n",
    "\n",
    "# No analyses in here; see geographical visualization in Tableau\n",
    "# Will be used to calculate distances below in feature engineering part"
   ]
  },
  {
   "cell_type": "code",
   "execution_count": 27,
   "metadata": {},
   "outputs": [],
   "source": [
    "# Rename longitude column to vanish typo: \n",
    "df_final.rename(columns = {\"ToLongtitude\": \"ToLongitude\"}, inplace = True)"
   ]
  },
  {
   "cell_type": "code",
   "execution_count": 28,
   "metadata": {},
   "outputs": [],
   "source": [
    "# Removing rows with latitude and longitude = 0.00 (due to human error) \n",
    "# --> because that corresponds to NullIsland and so the returned country = Ghana\n",
    "\n",
    "df_final = df_final[df_final.FromLongitude != 0.000000]\n",
    "df_final = df_final[df_final.ToLongitude != 0.000000]"
   ]
  },
  {
   "cell_type": "code",
   "execution_count": 29,
   "metadata": {},
   "outputs": [
    {
     "data": {
      "text/plain": [
       "(4973604, 20)"
      ]
     },
     "execution_count": 29,
     "metadata": {},
     "output_type": "execute_result"
    }
   ],
   "source": [
    "df_final.shape"
   ]
  },
  {
   "cell_type": "markdown",
   "metadata": {},
   "source": [
    "4.15) \"ToCity\""
   ]
  },
  {
   "cell_type": "code",
   "execution_count": 52,
   "metadata": {},
   "outputs": [],
   "source": [
    "# = City where a booking/delivery is headed\n",
    "\n",
    "# Only used for vizualisation purposes in Tableau"
   ]
  },
  {
   "cell_type": "markdown",
   "metadata": {},
   "source": [
    "4.16) \"ToCountry\""
   ]
  },
  {
   "cell_type": "code",
   "execution_count": 121,
   "metadata": {},
   "outputs": [
    {
     "data": {
      "text/plain": [
       "54190"
      ]
     },
     "execution_count": 121,
     "metadata": {},
     "output_type": "execute_result"
    }
   ],
   "source": [
    "# = Country where a booking/delivery is headed\n",
    "\n",
    "# There are quite some missing values in this variable due to the merge. \n",
    "\n",
    "df_final[\"ToCountry\"].isna().sum()"
   ]
  },
  {
   "cell_type": "code",
   "execution_count": 43,
   "metadata": {},
   "outputs": [],
   "source": [
    "# Let's fill the gaps by reverse geocoding and get countries via the coordinates. \n",
    "\n",
    "# Define a function to get the country from the latitude and longitude columns\n",
    "def get_to_country(row):\n",
    "    if pd.isnull(row['ToCountry']):\n",
    "        coordinates = (row['ToLatitude'], row['ToLongitude']), (0, 0)\n",
    "        address=reverse_geocode.search(coordinates)[0]\n",
    "        return address['country']\n",
    "    else:\n",
    "        return row['ToCountry']"
   ]
  },
  {
   "cell_type": "code",
   "execution_count": 44,
   "metadata": {},
   "outputs": [],
   "source": [
    "# Applying the Function\n",
    "df_final['ToCountry'] = df_final.apply(get_to_country, axis=1)"
   ]
  },
  {
   "cell_type": "code",
   "execution_count": 46,
   "metadata": {},
   "outputs": [
    {
     "data": {
      "text/plain": [
       "0"
      ]
     },
     "execution_count": 46,
     "metadata": {},
     "output_type": "execute_result"
    }
   ],
   "source": [
    "# Check again for missing values\n",
    "df_final[\"ToCountry\"].isna().sum()"
   ]
  },
  {
   "cell_type": "code",
   "execution_count": 122,
   "metadata": {},
   "outputs": [
    {
     "data": {
      "image/png": "[encoded data removed]",
      "text/plain": [
       "<Figure size 300x300 with 1 Axes>"
      ]
     },
     "metadata": {},
     "output_type": "display_data"
    }
   ],
   "source": [
    "# Now let's visualize the variable\n",
    "\n",
    "to_country = df_final['ToCountry'].value_counts()\n",
    "\n",
    "to_country.plot(kind = 'pie', \n",
    "                  figsize = (3, 3), \n",
    "                  autopct = '%1.1f%%', \n",
    "                  startangle = 90,\n",
    "                  pctdistance = 0.8,\n",
    "                  labeldistance = 1.1)\n",
    "\n",
    "plt.axis('equal')\n",
    "plt.title('Freight Delivery Distribution by Country')\n",
    "plt.show()"
   ]
  },
  {
   "cell_type": "markdown",
   "metadata": {},
   "source": [
    "4.17) \"FullLoadIndicator\""
   ]
  },
  {
   "cell_type": "code",
   "execution_count": 123,
   "metadata": {},
   "outputs": [
    {
     "name": "stdout",
     "output_type": "stream",
     "text": [
      "Nan: 584367\n"
     ]
    },
    {
     "data": {
      "text/plain": [
       "Y    2515263\n",
       "N    1873974\n",
       "Name: FullLoadIndicator, dtype: int64"
      ]
     },
     "execution_count": 123,
     "metadata": {},
     "output_type": "execute_result"
    }
   ],
   "source": [
    "# = Indicates whether a load was \"full\"\n",
    "\n",
    "# Checking loads counts\n",
    "\n",
    "print('Nan:',df_final.FullLoadIndicator.isna().sum())\n",
    "df_final.FullLoadIndicator.value_counts()"
   ]
  },
  {
   "cell_type": "code",
   "execution_count": 30,
   "metadata": {},
   "outputs": [],
   "source": [
    "# Binary encoding \"FullLoadIndicator\" from Y/N to 1/0\n",
    "\n",
    "labelencoder = preprocessing.LabelEncoder()\n",
    "\n",
    "df_final[\"FullLoadIndicator\"] = df_final[\"FullLoadIndicator\"].astype(str)\n",
    "df_final[\"FullLoadIndicator\"] = df_final[\"FullLoadIndicator\"].map({'Y': 1, 'N': 0})"
   ]
  },
  {
   "cell_type": "code",
   "execution_count": 31,
   "metadata": {},
   "outputs": [
    {
     "data": {
      "image/png": "[encoded data removed]",
      "text/plain": [
       "<Figure size 200x200 with 1 Axes>"
      ]
     },
     "metadata": {},
     "output_type": "display_data"
    }
   ],
   "source": [
    "full_loads = df_final['FullLoadIndicator'].value_counts()\n",
    "\n",
    "full_loads.plot(kind = 'pie', \n",
    "                            figsize = (2, 2), \n",
    "                            autopct = '%1.1f%%', \n",
    "                            startangle = 90,\n",
    "                            pctdistance = 0.8,\n",
    "                            labeldistance = 1.1)\n",
    "\n",
    "plt.axis('equal')\n",
    "plt.title('Share of Full Loads')\n",
    "plt.show()"
   ]
  },
  {
   "cell_type": "markdown",
   "metadata": {},
   "source": [
    "4.18) \"EmptyBookingIndicator\""
   ]
  },
  {
   "cell_type": "code",
   "execution_count": 126,
   "metadata": {},
   "outputs": [
    {
     "data": {
      "text/plain": [
       "N    4389237\n",
       "Name: EmptyBookingIndicator, dtype: int64"
      ]
     },
     "execution_count": 126,
     "metadata": {},
     "output_type": "execute_result"
    }
   ],
   "source": [
    "df_final['EmptyBookingIndicator'].value_counts()"
   ]
  },
  {
   "cell_type": "code",
   "execution_count": 32,
   "metadata": {},
   "outputs": [],
   "source": [
    "# Binary encoding \"EmptyBookingIndicator\" from Y/N to 1/0\n",
    "\n",
    "labelencoder = preprocessing.LabelEncoder()\n",
    "\n",
    "df_final[\"EmptyBookingIndicator\"] = df_final[\"EmptyBookingIndicator\"].astype(str)\n",
    "df_final[\"EmptyBookingIndicator\"] = df_final[\"EmptyBookingIndicator\"].map({'Y': 1, 'N': 0})"
   ]
  },
  {
   "cell_type": "code",
   "execution_count": 128,
   "metadata": {},
   "outputs": [
    {
     "data": {
      "image/png": "[encoded data removed]",
      "text/plain": [
       "<Figure size 400x400 with 1 Axes>"
      ]
     },
     "metadata": {},
     "output_type": "display_data"
    }
   ],
   "source": [
    "# = Gives information about \"empty loads\"; mostly trucks heading back to DFDS entities after a delivery\n",
    "\n",
    "empty_booking = df_final['EmptyBookingIndicator'].value_counts()\n",
    "\n",
    "empty_booking.plot(kind = 'pie', \n",
    "                            figsize = (4, 4), \n",
    "                            autopct = '%1.1f%%', \n",
    "                            startangle = 90,\n",
    "                            pctdistance = 0.8,\n",
    "                            labeldistance = 1.1)\n",
    "\n",
    "plt.axis('equal')\n",
    "plt.title('Empty vs. non-Empty Bookings')\n",
    "plt.show()\n",
    "\n",
    "# No empty bookings in new dataset?"
   ]
  },
  {
   "cell_type": "markdown",
   "metadata": {},
   "source": [
    "4.19) \"Customer Name\""
   ]
  },
  {
   "cell_type": "code",
   "execution_count": 88,
   "metadata": {},
   "outputs": [
    {
     "data": {
      "text/plain": [
       "0"
      ]
     },
     "execution_count": 88,
     "metadata": {},
     "output_type": "execute_result"
    }
   ],
   "source": [
    "# = the name of a customer \n",
    "\n",
    "df_final.rename(columns = {\"Customer Name\": \"CustomerName\"}, inplace = True)\n",
    "# Counting unique number of customers:\n",
    "df_final[\"CustomerName\"].nunique()"
   ]
  },
  {
   "cell_type": "code",
   "execution_count": 89,
   "metadata": {},
   "outputs": [
    {
     "data": {
      "text/html": [
       "<div>\n",
       "<style scoped>\n",
       "    .dataframe tbody tr th:only-of-type {\n",
       "        vertical-align: middle;\n",
       "    }\n",
       "\n",
       "    .dataframe tbody tr th {\n",
       "        vertical-align: top;\n",
       "    }\n",
       "\n",
       "    .dataframe thead th {\n",
       "        text-align: right;\n",
       "    }\n",
       "</style>\n",
       "<table border=\"1\" class=\"dataframe\">\n",
       "  <thead>\n",
       "    <tr style=\"text-align: right;\">\n",
       "      <th></th>\n",
       "      <th>BookingId</th>\n",
       "      <th>SubBookingName</th>\n",
       "      <th>CustomerName</th>\n",
       "      <th>StartRequestedDate</th>\n",
       "      <th>EndRequestedDate</th>\n",
       "      <th>FromLocation</th>\n",
       "      <th>FromLocationString</th>\n",
       "      <th>ToLocation</th>\n",
       "      <th>ToLocationString</th>\n",
       "      <th>FromLatitude</th>\n",
       "      <th>FromLongitude</th>\n",
       "      <th>FromCity</th>\n",
       "      <th>FromCountry</th>\n",
       "      <th>ToLatitude</th>\n",
       "      <th>ToLongitude</th>\n",
       "      <th>ToCity</th>\n",
       "      <th>ToCountry</th>\n",
       "      <th>DomesticDelivery</th>\n",
       "      <th>RouteDistance</th>\n",
       "      <th>FullLoadIndicator</th>\n",
       "      <th>EmptyBookingIndicator</th>\n",
       "      <th>Temperature</th>\n",
       "      <th>FrozenLoad</th>\n",
       "    </tr>\n",
       "  </thead>\n",
       "  <tbody>\n",
       "    <tr>\n",
       "      <th>0</th>\n",
       "      <td>7399574</td>\n",
       "      <td>A</td>\n",
       "      <td>0</td>\n",
       "      <td>2020-12-31</td>\n",
       "      <td>2020-12-31</td>\n",
       "      <td>33917</td>\n",
       "      <td>TESCO</td>\n",
       "      <td>32289</td>\n",
       "      <td>GRAYRENTALS</td>\n",
       "      <td>53.51131</td>\n",
       "      <td>-1.12540</td>\n",
       "      <td>YORKSHIRE</td>\n",
       "      <td>United Kingdom</td>\n",
       "      <td>53.60475</td>\n",
       "      <td>-0.65636</td>\n",
       "      <td>SCUNTHORPE</td>\n",
       "      <td>United Kingdom</td>\n",
       "      <td>1</td>\n",
       "      <td>46.346</td>\n",
       "      <td>1.0</td>\n",
       "      <td>0.0</td>\n",
       "      <td>NaN</td>\n",
       "      <td>0</td>\n",
       "    </tr>\n",
       "    <tr>\n",
       "      <th>1</th>\n",
       "      <td>7399575</td>\n",
       "      <td>A</td>\n",
       "      <td>0</td>\n",
       "      <td>2020-12-31</td>\n",
       "      <td>2020-12-31</td>\n",
       "      <td>9443</td>\n",
       "      <td>DFDS SIMONSWOOD</td>\n",
       "      <td>57716</td>\n",
       "      <td>NORISH COLD STORAGE WREXHAM</td>\n",
       "      <td>53.50446</td>\n",
       "      <td>-2.84867</td>\n",
       "      <td>Liverpool</td>\n",
       "      <td>United Kingdom</td>\n",
       "      <td>53.04612</td>\n",
       "      <td>-2.92787</td>\n",
       "      <td>Wrexham</td>\n",
       "      <td>United Kingdom</td>\n",
       "      <td>1</td>\n",
       "      <td>78.192</td>\n",
       "      <td>1.0</td>\n",
       "      <td>0.0</td>\n",
       "      <td>NaN</td>\n",
       "      <td>0</td>\n",
       "    </tr>\n",
       "    <tr>\n",
       "      <th>2</th>\n",
       "      <td>7399576</td>\n",
       "      <td>A</td>\n",
       "      <td>0</td>\n",
       "      <td>2020-12-31</td>\n",
       "      <td>2020-12-31</td>\n",
       "      <td>9443</td>\n",
       "      <td>DFDS SIMONSWOOD</td>\n",
       "      <td>57716</td>\n",
       "      <td>NORISH COLD STORAGE WREXHAM</td>\n",
       "      <td>53.50446</td>\n",
       "      <td>-2.84867</td>\n",
       "      <td>Liverpool</td>\n",
       "      <td>United Kingdom</td>\n",
       "      <td>53.04612</td>\n",
       "      <td>-2.92787</td>\n",
       "      <td>Wrexham</td>\n",
       "      <td>United Kingdom</td>\n",
       "      <td>1</td>\n",
       "      <td>78.192</td>\n",
       "      <td>1.0</td>\n",
       "      <td>0.0</td>\n",
       "      <td>NaN</td>\n",
       "      <td>0</td>\n",
       "    </tr>\n",
       "    <tr>\n",
       "      <th>3</th>\n",
       "      <td>7399577</td>\n",
       "      <td>A</td>\n",
       "      <td>0</td>\n",
       "      <td>2020-12-31</td>\n",
       "      <td>2020-12-31</td>\n",
       "      <td>5977</td>\n",
       "      <td>C/O GREENCORE FROZEN FOODS</td>\n",
       "      <td>9831</td>\n",
       "      <td>BIDVEST</td>\n",
       "      <td>53.77629</td>\n",
       "      <td>-1.52585</td>\n",
       "      <td>Leeds</td>\n",
       "      <td>United Kingdom</td>\n",
       "      <td>53.71874</td>\n",
       "      <td>-1.41235</td>\n",
       "      <td>YORKSHIRE</td>\n",
       "      <td>United Kingdom</td>\n",
       "      <td>1</td>\n",
       "      <td>17.733</td>\n",
       "      <td>0.0</td>\n",
       "      <td>0.0</td>\n",
       "      <td>NaN</td>\n",
       "      <td>0</td>\n",
       "    </tr>\n",
       "    <tr>\n",
       "      <th>4</th>\n",
       "      <td>7399578</td>\n",
       "      <td>A</td>\n",
       "      <td>0</td>\n",
       "      <td>2020-12-31</td>\n",
       "      <td>2020-12-31</td>\n",
       "      <td>5977</td>\n",
       "      <td>C/O GREENCORE FROZEN FOODS</td>\n",
       "      <td>3182</td>\n",
       "      <td>ALDI STORES LTD</td>\n",
       "      <td>53.77629</td>\n",
       "      <td>-1.52585</td>\n",
       "      <td>Leeds</td>\n",
       "      <td>United Kingdom</td>\n",
       "      <td>55.87784</td>\n",
       "      <td>-3.65235</td>\n",
       "      <td>Bathgate</td>\n",
       "      <td>United Kingdom</td>\n",
       "      <td>1</td>\n",
       "      <td>369.340</td>\n",
       "      <td>1.0</td>\n",
       "      <td>0.0</td>\n",
       "      <td>NaN</td>\n",
       "      <td>0</td>\n",
       "    </tr>\n",
       "  </tbody>\n",
       "</table>\n",
       "</div>"
      ],
      "text/plain": [
       "   BookingId SubBookingName  CustomerName StartRequestedDate EndRequestedDate  \\\n",
       "0    7399574              A             0         2020-12-31       2020-12-31   \n",
       "1    7399575              A             0         2020-12-31       2020-12-31   \n",
       "2    7399576              A             0         2020-12-31       2020-12-31   \n",
       "3    7399577              A             0         2020-12-31       2020-12-31   \n",
       "4    7399578              A             0         2020-12-31       2020-12-31   \n",
       "\n",
       "   FromLocation           FromLocationString  ToLocation  \\\n",
       "0         33917                        TESCO       32289   \n",
       "1          9443              DFDS SIMONSWOOD       57716   \n",
       "2          9443              DFDS SIMONSWOOD       57716   \n",
       "3          5977  C/O GREENCORE FROZEN FOODS         9831   \n",
       "4          5977  C/O GREENCORE FROZEN FOODS         3182   \n",
       "\n",
       "              ToLocationString  FromLatitude  FromLongitude   FromCity  \\\n",
       "0                  GRAYRENTALS      53.51131       -1.12540  YORKSHIRE   \n",
       "1  NORISH COLD STORAGE WREXHAM      53.50446       -2.84867  Liverpool   \n",
       "2  NORISH COLD STORAGE WREXHAM      53.50446       -2.84867  Liverpool   \n",
       "3                      BIDVEST      53.77629       -1.52585      Leeds   \n",
       "4              ALDI STORES LTD      53.77629       -1.52585      Leeds   \n",
       "\n",
       "      FromCountry  ToLatitude  ToLongitude      ToCity       ToCountry  \\\n",
       "0  United Kingdom    53.60475     -0.65636  SCUNTHORPE  United Kingdom   \n",
       "1  United Kingdom    53.04612     -2.92787     Wrexham  United Kingdom   \n",
       "2  United Kingdom    53.04612     -2.92787     Wrexham  United Kingdom   \n",
       "3  United Kingdom    53.71874     -1.41235   YORKSHIRE  United Kingdom   \n",
       "4  United Kingdom    55.87784     -3.65235    Bathgate  United Kingdom   \n",
       "\n",
       "   DomesticDelivery  RouteDistance  FullLoadIndicator  EmptyBookingIndicator  \\\n",
       "0                 1         46.346                1.0                    0.0   \n",
       "1                 1         78.192                1.0                    0.0   \n",
       "2                 1         78.192                1.0                    0.0   \n",
       "3                 1         17.733                0.0                    0.0   \n",
       "4                 1        369.340                1.0                    0.0   \n",
       "\n",
       "   Temperature  FrozenLoad  \n",
       "0          NaN           0  \n",
       "1          NaN           0  \n",
       "2          NaN           0  \n",
       "3          NaN           0  \n",
       "4          NaN           0  "
      ]
     },
     "execution_count": 89,
     "metadata": {},
     "output_type": "execute_result"
    }
   ],
   "source": [
    "# Encoding Customer Name for anonymization purposes\n",
    "\n",
    "df_final[\"CustomerName\"] = labelencoder.fit_transform(df_final[\"CustomerName\"])\n",
    "df_final.head()"
   ]
  },
  {
   "cell_type": "markdown",
   "metadata": {},
   "source": [
    "#### 5) Feature Engineering"
   ]
  },
  {
   "cell_type": "markdown",
   "metadata": {},
   "source": [
    "5.1) \"DomesticDelivery\""
   ]
  },
  {
   "cell_type": "code",
   "execution_count": 35,
   "metadata": {},
   "outputs": [
    {
     "data": {
      "text/html": [
       "<div>\n",
       "<style scoped>\n",
       "    .dataframe tbody tr th:only-of-type {\n",
       "        vertical-align: middle;\n",
       "    }\n",
       "\n",
       "    .dataframe tbody tr th {\n",
       "        vertical-align: top;\n",
       "    }\n",
       "\n",
       "    .dataframe thead th {\n",
       "        text-align: right;\n",
       "    }\n",
       "</style>\n",
       "<table border=\"1\" class=\"dataframe\">\n",
       "  <thead>\n",
       "    <tr style=\"text-align: right;\">\n",
       "      <th></th>\n",
       "      <th>BookingId</th>\n",
       "      <th>SubBookingName</th>\n",
       "      <th>FromLocation</th>\n",
       "      <th>ToLocation</th>\n",
       "      <th>StartRequestedDate</th>\n",
       "      <th>EndRequestedDate</th>\n",
       "      <th>Temperature</th>\n",
       "      <th>FromLatitude</th>\n",
       "      <th>FromLongitude</th>\n",
       "      <th>FromCity</th>\n",
       "      <th>FromCountry</th>\n",
       "      <th>ToLatitude</th>\n",
       "      <th>ToLongitude</th>\n",
       "      <th>ToCity</th>\n",
       "      <th>ToCountry</th>\n",
       "      <th>FullLoadIndicator</th>\n",
       "      <th>EmptyBookingIndicator</th>\n",
       "      <th>CustomerName</th>\n",
       "      <th>FromLocationString</th>\n",
       "      <th>ToLocationString</th>\n",
       "      <th>DomesticDelivery</th>\n",
       "    </tr>\n",
       "  </thead>\n",
       "  <tbody>\n",
       "    <tr>\n",
       "      <th>0</th>\n",
       "      <td>7399574</td>\n",
       "      <td>A</td>\n",
       "      <td>33917</td>\n",
       "      <td>32289</td>\n",
       "      <td>2020-12-31</td>\n",
       "      <td>2020-12-31</td>\n",
       "      <td>NaN</td>\n",
       "      <td>53.51131</td>\n",
       "      <td>-1.12540</td>\n",
       "      <td>YORKSHIRE</td>\n",
       "      <td>United Kingdom</td>\n",
       "      <td>53.60475</td>\n",
       "      <td>-0.65636</td>\n",
       "      <td>SCUNTHORPE</td>\n",
       "      <td>United Kingdom</td>\n",
       "      <td>1.0</td>\n",
       "      <td>0.0</td>\n",
       "      <td>2966</td>\n",
       "      <td>TESCO</td>\n",
       "      <td>GRAYRENTALS</td>\n",
       "      <td>1</td>\n",
       "    </tr>\n",
       "    <tr>\n",
       "      <th>1</th>\n",
       "      <td>7399575</td>\n",
       "      <td>A</td>\n",
       "      <td>9443</td>\n",
       "      <td>57716</td>\n",
       "      <td>2020-12-31</td>\n",
       "      <td>2020-12-31</td>\n",
       "      <td>NaN</td>\n",
       "      <td>53.50446</td>\n",
       "      <td>-2.84867</td>\n",
       "      <td>Liverpool</td>\n",
       "      <td>United Kingdom</td>\n",
       "      <td>53.04612</td>\n",
       "      <td>-2.92787</td>\n",
       "      <td>Wrexham</td>\n",
       "      <td>United Kingdom</td>\n",
       "      <td>1.0</td>\n",
       "      <td>0.0</td>\n",
       "      <td>8183</td>\n",
       "      <td>DFDS SIMONSWOOD</td>\n",
       "      <td>NORISH COLD STORAGE WREXHAM</td>\n",
       "      <td>1</td>\n",
       "    </tr>\n",
       "    <tr>\n",
       "      <th>2</th>\n",
       "      <td>7399576</td>\n",
       "      <td>A</td>\n",
       "      <td>9443</td>\n",
       "      <td>57716</td>\n",
       "      <td>2020-12-31</td>\n",
       "      <td>2020-12-31</td>\n",
       "      <td>NaN</td>\n",
       "      <td>53.50446</td>\n",
       "      <td>-2.84867</td>\n",
       "      <td>Liverpool</td>\n",
       "      <td>United Kingdom</td>\n",
       "      <td>53.04612</td>\n",
       "      <td>-2.92787</td>\n",
       "      <td>Wrexham</td>\n",
       "      <td>United Kingdom</td>\n",
       "      <td>1.0</td>\n",
       "      <td>0.0</td>\n",
       "      <td>8183</td>\n",
       "      <td>DFDS SIMONSWOOD</td>\n",
       "      <td>NORISH COLD STORAGE WREXHAM</td>\n",
       "      <td>1</td>\n",
       "    </tr>\n",
       "    <tr>\n",
       "      <th>3</th>\n",
       "      <td>7399577</td>\n",
       "      <td>A</td>\n",
       "      <td>5977</td>\n",
       "      <td>9831</td>\n",
       "      <td>2020-12-31</td>\n",
       "      <td>2020-12-31</td>\n",
       "      <td>NaN</td>\n",
       "      <td>53.77629</td>\n",
       "      <td>-1.52585</td>\n",
       "      <td>Leeds</td>\n",
       "      <td>United Kingdom</td>\n",
       "      <td>53.71874</td>\n",
       "      <td>-1.41235</td>\n",
       "      <td>YORKSHIRE</td>\n",
       "      <td>United Kingdom</td>\n",
       "      <td>0.0</td>\n",
       "      <td>0.0</td>\n",
       "      <td>4737</td>\n",
       "      <td>C/O GREENCORE FROZEN FOODS</td>\n",
       "      <td>BIDVEST</td>\n",
       "      <td>1</td>\n",
       "    </tr>\n",
       "    <tr>\n",
       "      <th>4</th>\n",
       "      <td>7399578</td>\n",
       "      <td>A</td>\n",
       "      <td>5977</td>\n",
       "      <td>3182</td>\n",
       "      <td>2020-12-31</td>\n",
       "      <td>2020-12-31</td>\n",
       "      <td>NaN</td>\n",
       "      <td>53.77629</td>\n",
       "      <td>-1.52585</td>\n",
       "      <td>Leeds</td>\n",
       "      <td>United Kingdom</td>\n",
       "      <td>55.87784</td>\n",
       "      <td>-3.65235</td>\n",
       "      <td>Bathgate</td>\n",
       "      <td>United Kingdom</td>\n",
       "      <td>1.0</td>\n",
       "      <td>0.0</td>\n",
       "      <td>4737</td>\n",
       "      <td>C/O GREENCORE FROZEN FOODS</td>\n",
       "      <td>ALDI STORES LTD</td>\n",
       "      <td>1</td>\n",
       "    </tr>\n",
       "  </tbody>\n",
       "</table>\n",
       "</div>"
      ],
      "text/plain": [
       "   BookingId SubBookingName  FromLocation  ToLocation StartRequestedDate  \\\n",
       "0    7399574              A         33917       32289         2020-12-31   \n",
       "1    7399575              A          9443       57716         2020-12-31   \n",
       "2    7399576              A          9443       57716         2020-12-31   \n",
       "3    7399577              A          5977        9831         2020-12-31   \n",
       "4    7399578              A          5977        3182         2020-12-31   \n",
       "\n",
       "  EndRequestedDate  Temperature  FromLatitude  FromLongitude   FromCity  \\\n",
       "0       2020-12-31          NaN      53.51131       -1.12540  YORKSHIRE   \n",
       "1       2020-12-31          NaN      53.50446       -2.84867  Liverpool   \n",
       "2       2020-12-31          NaN      53.50446       -2.84867  Liverpool   \n",
       "3       2020-12-31          NaN      53.77629       -1.52585      Leeds   \n",
       "4       2020-12-31          NaN      53.77629       -1.52585      Leeds   \n",
       "\n",
       "      FromCountry  ToLatitude  ToLongitude      ToCity       ToCountry  \\\n",
       "0  United Kingdom    53.60475     -0.65636  SCUNTHORPE  United Kingdom   \n",
       "1  United Kingdom    53.04612     -2.92787     Wrexham  United Kingdom   \n",
       "2  United Kingdom    53.04612     -2.92787     Wrexham  United Kingdom   \n",
       "3  United Kingdom    53.71874     -1.41235   YORKSHIRE  United Kingdom   \n",
       "4  United Kingdom    55.87784     -3.65235    Bathgate  United Kingdom   \n",
       "\n",
       "   FullLoadIndicator  EmptyBookingIndicator  CustomerName  \\\n",
       "0                1.0                    0.0          2966   \n",
       "1                1.0                    0.0          8183   \n",
       "2                1.0                    0.0          8183   \n",
       "3                0.0                    0.0          4737   \n",
       "4                1.0                    0.0          4737   \n",
       "\n",
       "            FromLocationString             ToLocationString  DomesticDelivery  \n",
       "0                        TESCO                  GRAYRENTALS                 1  \n",
       "1              DFDS SIMONSWOOD  NORISH COLD STORAGE WREXHAM                 1  \n",
       "2              DFDS SIMONSWOOD  NORISH COLD STORAGE WREXHAM                 1  \n",
       "3  C/O GREENCORE FROZEN FOODS                       BIDVEST                 1  \n",
       "4  C/O GREENCORE FROZEN FOODS               ALDI STORES LTD                 1  "
      ]
     },
     "execution_count": 35,
     "metadata": {},
     "output_type": "execute_result"
    }
   ],
   "source": [
    "# = equals 1 if delivery is collected and delivered within the same country, 0 if otherwise\n",
    "\n",
    "df_final['DomesticDelivery'] = (df_final['FromCountry'] == df_final['ToCountry']).astype(int)\n",
    "df_final.head()"
   ]
  },
  {
   "cell_type": "code",
   "execution_count": 136,
   "metadata": {},
   "outputs": [
    {
     "data": {
      "image/png": "[encoded data removed]",
      "text/plain": [
       "<Figure size 200x200 with 1 Axes>"
      ]
     },
     "metadata": {},
     "output_type": "display_data"
    }
   ],
   "source": [
    "domestic_delivery = df_final['DomesticDelivery'].value_counts()\n",
    "\n",
    "domestic_delivery.plot(kind = 'pie', \n",
    "                            figsize = (2, 2), \n",
    "                            autopct = '%1.1f%%', \n",
    "                            startangle = 90,\n",
    "                            pctdistance = 0.8,\n",
    "                            labeldistance = 1.1)\n",
    "\n",
    "plt.axis('equal')\n",
    "plt.title('Domestic vs. Non-Domestic Delivery')\n",
    "plt.show()"
   ]
  },
  {
   "cell_type": "code",
   "execution_count": 2,
   "metadata": {},
   "outputs": [],
   "source": [
    "df_final=pd.read_csv('/Users/emanuelazucchetto/thesis/clean_data_distance.csv')"
   ]
  },
  {
   "cell_type": "code",
   "execution_count": 17,
   "metadata": {},
   "outputs": [],
   "source": [
    "#identify which BookingId are present multiple times, meaning that the journey is formed by multiple legs\n",
    "multi_legs = df_final[df_final.groupby('BookingId')['BookingId'].transform('size') > 1]\n"
   ]
  },
  {
   "cell_type": "code",
   "execution_count": 6,
   "metadata": {},
   "outputs": [
    {
     "name": "stdout",
     "output_type": "stream",
     "text": [
      "2062158\n"
     ]
    },
    {
     "data": {
      "text/plain": [
       "2062158"
      ]
     },
     "execution_count": 6,
     "metadata": {},
     "output_type": "execute_result"
    }
   ],
   "source": [
    "#ensuring the data is corrected\n",
    "#count of values > 1\n",
    "print(df_final['BookingId'].value_counts().loc[lambda x : x>1].sum())\n",
    "#matches with new df shape\n",
    "multi_legs.shape[0]"
   ]
  },
  {
   "cell_type": "code",
   "execution_count": null,
   "metadata": {},
   "outputs": [],
   "source": [
    "#creating a new dataframe where to store the fized legs\n",
    "fixed=pd.DataFrame()"
   ]
  },
  {
   "cell_type": "code",
   "execution_count": null,
   "metadata": {},
   "outputs": [],
   "source": [
    "#for each relevant element the ending value of one intermediate leg is used as starting value for the following one \n",
    "def fix_lags(df):\n",
    "    fixed=pd.DataFrame()\n",
    "    for i in df.BookingId.unique():\n",
    "        temp=df[df.BookingId==i]    \n",
    "        temp.reset_index(inplace=True)\n",
    "        #make the \"To\" value of the previous leg the \"From\" value of the current lag\n",
    "        for ix in range(temp.shape[0]): \n",
    "            #all features that have a from/to version (maybe some columns can be dropped)   \n",
    "            #temp.StartLegLocationId[ix+1]=temp.EndLegLocationId[ix]\n",
    "            #temp.FromLocation[ix+1]=temp.ToLocation[ix]\n",
    "            temp.FromLatitude[ix+1]=temp.ToLatitude[ix]#- DONE\n",
    "            temp.FromLongtitude[ix+1]=temp.ToLongtitude[ix] #modify with ToLongitude when I get the latest data -DONE\n",
    "            #temp.StartLegLocationId[ix+1]=temp.EndLegLocationId[ix]\n",
    "            temp.FromCity[ix+1]=temp.ToCity[ix]\n",
    "            #temp.FromCountry[ix+1]=temp.ToCountry[ix] - DONE     \n",
    "        fixed=pd.concat([fixed,temp])\n",
    "    return fixed\n"
   ]
  },
  {
   "cell_type": "code",
   "execution_count": null,
   "metadata": {},
   "outputs": [],
   "source": [
    "#performing the operation on the dataset formed by multiple legs\n",
    "multi_fixed=fix_lags(multi_legs)"
   ]
  },
  {
   "cell_type": "code",
   "execution_count": 15,
   "metadata": {},
   "outputs": [],
   "source": [
    "single_leg = df_final[df_final.groupby('BookingId')['BookingId'].transform('size') <= 1]\n"
   ]
  },
  {
   "cell_type": "code",
   "execution_count": 18,
   "metadata": {},
   "outputs": [
    {
     "data": {
      "text/plain": [
       "4973604"
      ]
     },
     "execution_count": 18,
     "metadata": {},
     "output_type": "execute_result"
    }
   ],
   "source": [
    "#ensuring that in recombining the dataset data is not lost\n",
    "single_leg.shape[0]+multi_fixed.shape[0]"
   ]
  },
  {
   "cell_type": "code",
   "execution_count": null,
   "metadata": {},
   "outputs": [],
   "source": [
    "df_final=pd.concat([single_leg,multi_leg])"
   ]
  },
  {
   "cell_type": "code",
   "execution_count": null,
   "metadata": {},
   "outputs": [],
   "source": [
    "#make sure the dataset is in the right order\n",
    "df_final.sort_values(by=['BookingId'])"
   ]
  },
  {
   "attachments": {},
   "cell_type": "markdown",
   "metadata": {},
   "source": [
    "## jsut temporary!! instead of running we can directly import this dataset"
   ]
  },
  {
   "cell_type": "code",
   "execution_count": 7,
   "metadata": {},
   "outputs": [],
   "source": [
    "temp=pd.read_csv('/Users/emanuelazucchetto/thesis/data_multiple_lags_fixed.csv')"
   ]
  },
  {
   "cell_type": "code",
   "execution_count": 14,
   "metadata": {},
   "outputs": [
    {
     "data": {
      "text/plain": [
       "True"
      ]
     },
     "execution_count": 14,
     "metadata": {},
     "output_type": "execute_result"
    }
   ],
   "source": [
    "temp.shape[0]==df_final.shape[0]"
   ]
  },
  {
   "cell_type": "code",
   "execution_count": null,
   "metadata": {},
   "outputs": [],
   "source": [
    "#df_final=temp"
   ]
  },
  {
   "attachments": {},
   "cell_type": "markdown",
   "metadata": {},
   "source": [
    "5.2) \"HaversineDistance\""
   ]
  },
  {
   "cell_type": "code",
   "execution_count": null,
   "metadata": {},
   "outputs": [],
   "source": [
    "# = Calculate haversine distance between delivery points to have an approximation for delivery distance \n",
    "# Is later gonna be replaced by more exact distance we calculate via API\n",
    "\n",
    "def get_distance_h(lat1, lon1, lat2, lon2):\n",
    "    pickup = (lat1, lon1)\n",
    "    dropoff = (lat2, lon2)\n",
    "    return hs.haversine(pickup, dropoff)\n",
    "\n",
    "# Apply the function to dataframe\n",
    "df_final['HaversineDistance'] = df_final.apply(lambda row: get_distance_h(row['FromLatitude'], row['FromLongitude'], row['ToLatitude'], row['ToLongitude']), axis=1)\n",
    "df_final.head()"
   ]
  },
  {
   "cell_type": "code",
   "execution_count": null,
   "metadata": {},
   "outputs": [],
   "source": [
    "df_final['HaversineDistance'].describe()"
   ]
  },
  {
   "cell_type": "markdown",
   "metadata": {},
   "source": [
    "Mean: 368 km \n",
    "Min.: 0 km\n",
    "Max.: 8543 km"
   ]
  },
  {
   "cell_type": "code",
   "execution_count": null,
   "metadata": {},
   "outputs": [],
   "source": [
    "# Plotting haversine distances\n",
    "\n",
    "plt.hist(df_final[\"HaversineDistance\"], bins = 100)\n",
    "plt.xlabel(\"Driving distance (km)\")\n",
    "plt.ylabel(\"Frequency\")\n",
    "plt.title(\"Distribution of delivery distances\")\n",
    "plt.show()"
   ]
  },
  {
   "cell_type": "code",
   "execution_count": null,
   "metadata": {},
   "outputs": [],
   "source": [
    "# Plotting again, but this time exclusing all deliveries >2,500km, as they usually include sea travel \n",
    "\n",
    "subset = df_final[(df_final['HaversineDistance'] < 2500)]\n",
    "\n",
    "plt.hist(subset[\"HaversineDistance\"], bins = 250)\n",
    "plt.xlabel(\"Driving distance (km)\")\n",
    "plt.ylabel(\"Frequency\")\n",
    "plt.title(\"Distribution of delivery distances\")\n",
    "plt.show()"
   ]
  },
  {
   "attachments": {},
   "cell_type": "markdown",
   "metadata": {},
   "source": [
    "5.3) \"RouteDistance\"\n",
    "\n",
    "= We calculate the route length of a delivery leveraging the Bing Maps API \n",
    "\n",
    "Knowing the distance of a delivery is crucial for us to know, as eTrucks have a limited reach and charging stations have to be placed accordingly "
   ]
  },
  {
   "cell_type": "code",
   "execution_count": 139,
   "metadata": {},
   "outputs": [
    {
     "data": {
      "text/html": [
       "<div>\n",
       "<style scoped>\n",
       "    .dataframe tbody tr th:only-of-type {\n",
       "        vertical-align: middle;\n",
       "    }\n",
       "\n",
       "    .dataframe tbody tr th {\n",
       "        vertical-align: top;\n",
       "    }\n",
       "\n",
       "    .dataframe thead th {\n",
       "        text-align: right;\n",
       "    }\n",
       "</style>\n",
       "<table border=\"1\" class=\"dataframe\">\n",
       "  <thead>\n",
       "    <tr style=\"text-align: right;\">\n",
       "      <th></th>\n",
       "      <th>FromLatitude</th>\n",
       "      <th>FromLongitude</th>\n",
       "      <th>ToLatitude</th>\n",
       "      <th>ToLongitude</th>\n",
       "    </tr>\n",
       "  </thead>\n",
       "  <tbody>\n",
       "    <tr>\n",
       "      <th>0</th>\n",
       "      <td>53.51131</td>\n",
       "      <td>-1.12540</td>\n",
       "      <td>53.60475</td>\n",
       "      <td>-0.65636</td>\n",
       "    </tr>\n",
       "    <tr>\n",
       "      <th>1</th>\n",
       "      <td>53.50446</td>\n",
       "      <td>-2.84867</td>\n",
       "      <td>53.04612</td>\n",
       "      <td>-2.92787</td>\n",
       "    </tr>\n",
       "    <tr>\n",
       "      <th>3</th>\n",
       "      <td>53.77629</td>\n",
       "      <td>-1.52585</td>\n",
       "      <td>53.71874</td>\n",
       "      <td>-1.41235</td>\n",
       "    </tr>\n",
       "    <tr>\n",
       "      <th>4</th>\n",
       "      <td>53.77629</td>\n",
       "      <td>-1.52585</td>\n",
       "      <td>55.87784</td>\n",
       "      <td>-3.65235</td>\n",
       "    </tr>\n",
       "    <tr>\n",
       "      <th>5</th>\n",
       "      <td>53.50446</td>\n",
       "      <td>-2.84867</td>\n",
       "      <td>55.91412</td>\n",
       "      <td>-3.50947</td>\n",
       "    </tr>\n",
       "  </tbody>\n",
       "</table>\n",
       "</div>"
      ],
      "text/plain": [
       "   FromLatitude  FromLongitude  ToLatitude  ToLongitude\n",
       "0      53.51131       -1.12540    53.60475     -0.65636\n",
       "1      53.50446       -2.84867    53.04612     -2.92787\n",
       "3      53.77629       -1.52585    53.71874     -1.41235\n",
       "4      53.77629       -1.52585    55.87784     -3.65235\n",
       "5      53.50446       -2.84867    55.91412     -3.50947"
      ]
     },
     "execution_count": 139,
     "metadata": {},
     "output_type": "execute_result"
    }
   ],
   "source": [
    "# The dataset has ~5 million rows. However, we don't want to make 5 million calls to the APi. \n",
    "# This is why we extract the unique routes first. \n",
    "# Every unique set of the four coordinate variables equals a unique route. \n",
    "\n",
    "# 1) Creating dataframe with only the coordinates \n",
    "routes = df_final[['FromLatitude', 'FromLongitude', 'ToLatitude', 'ToLongitude']]\n",
    "\n",
    "# 2) dropping duplicate rows\n",
    "routes = routes.drop_duplicates()\n",
    "\n",
    "routes.head()"
   ]
  },
  {
   "cell_type": "code",
   "execution_count": 66,
   "metadata": {},
   "outputs": [
    {
     "name": "stdout",
     "output_type": "stream",
     "text": [
      "45000 45000 45000 27113\n"
     ]
    }
   ],
   "source": [
    "# The API Key is configured for educational uses and only allows for 50,000 API calls per day (for free).\n",
    "\n",
    "# As 'routes' has ~220,000 rows, we need to divide this dataset into five parts before calling the API\n",
    "# and then calculate the distances step-by-step\n",
    "\n",
    "#routes_1 = routes.iloc[:45000]\n",
    "#routes_2 = routes.iloc[45000:90000]\n",
    "#routes_3 = routes.iloc[90000:135000]\n",
    "#routes_4 = routes.iloc[135000:180000]\n",
    "#routes_5 = routes.iloc[180000:]\n",
    "\n",
    "#print(len(routes_1), len(routes_2), len(routes_3), len(routes_4), len(routes_5))"
   ]
  },
  {
   "cell_type": "code",
   "execution_count": 68,
   "metadata": {},
   "outputs": [
    {
     "ename": "ReadTimeout",
     "evalue": "HTTPSConnectionPool(host='dev.virtualearth.net', port=443): Read timed out. (read timeout=60)",
     "output_type": "error",
     "traceback": [
      "\u001b[0;31m---------------------------------------------------------------------------\u001b[0m",
      "\u001b[0;31mtimeout\u001b[0m                                   Traceback (most recent call last)",
      "File \u001b[0;32m~/opt/anaconda3/lib/python3.8/site-packages/urllib3/connectionpool.py:449\u001b[0m, in \u001b[0;36mHTTPConnectionPool._make_request\u001b[0;34m(self, conn, method, url, timeout, chunked, **httplib_request_kw)\u001b[0m\n\u001b[1;32m    445\u001b[0m         \u001b[38;5;28;01mexcept\u001b[39;00m \u001b[38;5;167;01mBaseException\u001b[39;00m \u001b[38;5;28;01mas\u001b[39;00m e:\n\u001b[1;32m    446\u001b[0m             \u001b[38;5;66;03m# Remove the TypeError from the exception chain in\u001b[39;00m\n\u001b[1;32m    447\u001b[0m             \u001b[38;5;66;03m# Python 3 (including for exceptions like SystemExit).\u001b[39;00m\n\u001b[1;32m    448\u001b[0m             \u001b[38;5;66;03m# Otherwise it looks like a bug in the code.\u001b[39;00m\n\u001b[0;32m--> 449\u001b[0m             \u001b[43msix\u001b[49m\u001b[38;5;241;43m.\u001b[39;49m\u001b[43mraise_from\u001b[49m\u001b[43m(\u001b[49m\u001b[43me\u001b[49m\u001b[43m,\u001b[49m\u001b[43m \u001b[49m\u001b[38;5;28;43;01mNone\u001b[39;49;00m\u001b[43m)\u001b[49m\n\u001b[1;32m    450\u001b[0m \u001b[38;5;28;01mexcept\u001b[39;00m (SocketTimeout, BaseSSLError, SocketError) \u001b[38;5;28;01mas\u001b[39;00m e:\n",
      "File \u001b[0;32m<string>:3\u001b[0m, in \u001b[0;36mraise_from\u001b[0;34m(value, from_value)\u001b[0m\n",
      "File \u001b[0;32m~/opt/anaconda3/lib/python3.8/site-packages/urllib3/connectionpool.py:444\u001b[0m, in \u001b[0;36mHTTPConnectionPool._make_request\u001b[0;34m(self, conn, method, url, timeout, chunked, **httplib_request_kw)\u001b[0m\n\u001b[1;32m    443\u001b[0m \u001b[38;5;28;01mtry\u001b[39;00m:\n\u001b[0;32m--> 444\u001b[0m     httplib_response \u001b[38;5;241m=\u001b[39m \u001b[43mconn\u001b[49m\u001b[38;5;241;43m.\u001b[39;49m\u001b[43mgetresponse\u001b[49m\u001b[43m(\u001b[49m\u001b[43m)\u001b[49m\n\u001b[1;32m    445\u001b[0m \u001b[38;5;28;01mexcept\u001b[39;00m \u001b[38;5;167;01mBaseException\u001b[39;00m \u001b[38;5;28;01mas\u001b[39;00m e:\n\u001b[1;32m    446\u001b[0m     \u001b[38;5;66;03m# Remove the TypeError from the exception chain in\u001b[39;00m\n\u001b[1;32m    447\u001b[0m     \u001b[38;5;66;03m# Python 3 (including for exceptions like SystemExit).\u001b[39;00m\n\u001b[1;32m    448\u001b[0m     \u001b[38;5;66;03m# Otherwise it looks like a bug in the code.\u001b[39;00m\n",
      "File \u001b[0;32m~/opt/anaconda3/lib/python3.8/http/client.py:1347\u001b[0m, in \u001b[0;36mHTTPConnection.getresponse\u001b[0;34m(self)\u001b[0m\n\u001b[1;32m   1346\u001b[0m \u001b[38;5;28;01mtry\u001b[39;00m:\n\u001b[0;32m-> 1347\u001b[0m     \u001b[43mresponse\u001b[49m\u001b[38;5;241;43m.\u001b[39;49m\u001b[43mbegin\u001b[49m\u001b[43m(\u001b[49m\u001b[43m)\u001b[49m\n\u001b[1;32m   1348\u001b[0m \u001b[38;5;28;01mexcept\u001b[39;00m \u001b[38;5;167;01mConnectionError\u001b[39;00m:\n",
      "File \u001b[0;32m~/opt/anaconda3/lib/python3.8/http/client.py:307\u001b[0m, in \u001b[0;36mHTTPResponse.begin\u001b[0;34m(self)\u001b[0m\n\u001b[1;32m    306\u001b[0m \u001b[38;5;28;01mwhile\u001b[39;00m \u001b[38;5;28;01mTrue\u001b[39;00m:\n\u001b[0;32m--> 307\u001b[0m     version, status, reason \u001b[38;5;241m=\u001b[39m \u001b[38;5;28;43mself\u001b[39;49m\u001b[38;5;241;43m.\u001b[39;49m\u001b[43m_read_status\u001b[49m\u001b[43m(\u001b[49m\u001b[43m)\u001b[49m\n\u001b[1;32m    308\u001b[0m     \u001b[38;5;28;01mif\u001b[39;00m status \u001b[38;5;241m!=\u001b[39m CONTINUE:\n",
      "File \u001b[0;32m~/opt/anaconda3/lib/python3.8/http/client.py:268\u001b[0m, in \u001b[0;36mHTTPResponse._read_status\u001b[0;34m(self)\u001b[0m\n\u001b[1;32m    267\u001b[0m \u001b[38;5;28;01mdef\u001b[39;00m \u001b[38;5;21m_read_status\u001b[39m(\u001b[38;5;28mself\u001b[39m):\n\u001b[0;32m--> 268\u001b[0m     line \u001b[38;5;241m=\u001b[39m \u001b[38;5;28mstr\u001b[39m(\u001b[38;5;28;43mself\u001b[39;49m\u001b[38;5;241;43m.\u001b[39;49m\u001b[43mfp\u001b[49m\u001b[38;5;241;43m.\u001b[39;49m\u001b[43mreadline\u001b[49m\u001b[43m(\u001b[49m\u001b[43m_MAXLINE\u001b[49m\u001b[43m \u001b[49m\u001b[38;5;241;43m+\u001b[39;49m\u001b[43m \u001b[49m\u001b[38;5;241;43m1\u001b[39;49m\u001b[43m)\u001b[49m, \u001b[38;5;124m\"\u001b[39m\u001b[38;5;124miso-8859-1\u001b[39m\u001b[38;5;124m\"\u001b[39m)\n\u001b[1;32m    269\u001b[0m     \u001b[38;5;28;01mif\u001b[39;00m \u001b[38;5;28mlen\u001b[39m(line) \u001b[38;5;241m>\u001b[39m _MAXLINE:\n",
      "File \u001b[0;32m~/opt/anaconda3/lib/python3.8/socket.py:669\u001b[0m, in \u001b[0;36mSocketIO.readinto\u001b[0;34m(self, b)\u001b[0m\n\u001b[1;32m    668\u001b[0m \u001b[38;5;28;01mtry\u001b[39;00m:\n\u001b[0;32m--> 669\u001b[0m     \u001b[38;5;28;01mreturn\u001b[39;00m \u001b[38;5;28;43mself\u001b[39;49m\u001b[38;5;241;43m.\u001b[39;49m\u001b[43m_sock\u001b[49m\u001b[38;5;241;43m.\u001b[39;49m\u001b[43mrecv_into\u001b[49m\u001b[43m(\u001b[49m\u001b[43mb\u001b[49m\u001b[43m)\u001b[49m\n\u001b[1;32m    670\u001b[0m \u001b[38;5;28;01mexcept\u001b[39;00m timeout:\n",
      "File \u001b[0;32m~/opt/anaconda3/lib/python3.8/ssl.py:1241\u001b[0m, in \u001b[0;36mSSLSocket.recv_into\u001b[0;34m(self, buffer, nbytes, flags)\u001b[0m\n\u001b[1;32m   1238\u001b[0m         \u001b[38;5;28;01mraise\u001b[39;00m \u001b[38;5;167;01mValueError\u001b[39;00m(\n\u001b[1;32m   1239\u001b[0m           \u001b[38;5;124m\"\u001b[39m\u001b[38;5;124mnon-zero flags not allowed in calls to recv_into() on \u001b[39m\u001b[38;5;132;01m%s\u001b[39;00m\u001b[38;5;124m\"\u001b[39m \u001b[38;5;241m%\u001b[39m\n\u001b[1;32m   1240\u001b[0m           \u001b[38;5;28mself\u001b[39m\u001b[38;5;241m.\u001b[39m\u001b[38;5;18m__class__\u001b[39m)\n\u001b[0;32m-> 1241\u001b[0m     \u001b[38;5;28;01mreturn\u001b[39;00m \u001b[38;5;28;43mself\u001b[39;49m\u001b[38;5;241;43m.\u001b[39;49m\u001b[43mread\u001b[49m\u001b[43m(\u001b[49m\u001b[43mnbytes\u001b[49m\u001b[43m,\u001b[49m\u001b[43m \u001b[49m\u001b[43mbuffer\u001b[49m\u001b[43m)\u001b[49m\n\u001b[1;32m   1242\u001b[0m \u001b[38;5;28;01melse\u001b[39;00m:\n",
      "File \u001b[0;32m~/opt/anaconda3/lib/python3.8/ssl.py:1099\u001b[0m, in \u001b[0;36mSSLSocket.read\u001b[0;34m(self, len, buffer)\u001b[0m\n\u001b[1;32m   1098\u001b[0m \u001b[38;5;28;01mif\u001b[39;00m buffer \u001b[38;5;129;01mis\u001b[39;00m \u001b[38;5;129;01mnot\u001b[39;00m \u001b[38;5;28;01mNone\u001b[39;00m:\n\u001b[0;32m-> 1099\u001b[0m     \u001b[38;5;28;01mreturn\u001b[39;00m \u001b[38;5;28;43mself\u001b[39;49m\u001b[38;5;241;43m.\u001b[39;49m\u001b[43m_sslobj\u001b[49m\u001b[38;5;241;43m.\u001b[39;49m\u001b[43mread\u001b[49m\u001b[43m(\u001b[49m\u001b[38;5;28;43mlen\u001b[39;49m\u001b[43m,\u001b[49m\u001b[43m \u001b[49m\u001b[43mbuffer\u001b[49m\u001b[43m)\u001b[49m\n\u001b[1;32m   1100\u001b[0m \u001b[38;5;28;01melse\u001b[39;00m:\n",
      "\u001b[0;31mtimeout\u001b[0m: The read operation timed out",
      "\nDuring handling of the above exception, another exception occurred:\n",
      "\u001b[0;31mReadTimeoutError\u001b[0m                          Traceback (most recent call last)",
      "File \u001b[0;32m~/opt/anaconda3/lib/python3.8/site-packages/requests/adapters.py:489\u001b[0m, in \u001b[0;36mHTTPAdapter.send\u001b[0;34m(self, request, stream, timeout, verify, cert, proxies)\u001b[0m\n\u001b[1;32m    488\u001b[0m \u001b[38;5;28;01mif\u001b[39;00m \u001b[38;5;129;01mnot\u001b[39;00m chunked:\n\u001b[0;32m--> 489\u001b[0m     resp \u001b[38;5;241m=\u001b[39m \u001b[43mconn\u001b[49m\u001b[38;5;241;43m.\u001b[39;49m\u001b[43murlopen\u001b[49m\u001b[43m(\u001b[49m\n\u001b[1;32m    490\u001b[0m \u001b[43m        \u001b[49m\u001b[43mmethod\u001b[49m\u001b[38;5;241;43m=\u001b[39;49m\u001b[43mrequest\u001b[49m\u001b[38;5;241;43m.\u001b[39;49m\u001b[43mmethod\u001b[49m\u001b[43m,\u001b[49m\n\u001b[1;32m    491\u001b[0m \u001b[43m        \u001b[49m\u001b[43murl\u001b[49m\u001b[38;5;241;43m=\u001b[39;49m\u001b[43murl\u001b[49m\u001b[43m,\u001b[49m\n\u001b[1;32m    492\u001b[0m \u001b[43m        \u001b[49m\u001b[43mbody\u001b[49m\u001b[38;5;241;43m=\u001b[39;49m\u001b[43mrequest\u001b[49m\u001b[38;5;241;43m.\u001b[39;49m\u001b[43mbody\u001b[49m\u001b[43m,\u001b[49m\n\u001b[1;32m    493\u001b[0m \u001b[43m        \u001b[49m\u001b[43mheaders\u001b[49m\u001b[38;5;241;43m=\u001b[39;49m\u001b[43mrequest\u001b[49m\u001b[38;5;241;43m.\u001b[39;49m\u001b[43mheaders\u001b[49m\u001b[43m,\u001b[49m\n\u001b[1;32m    494\u001b[0m \u001b[43m        \u001b[49m\u001b[43mredirect\u001b[49m\u001b[38;5;241;43m=\u001b[39;49m\u001b[38;5;28;43;01mFalse\u001b[39;49;00m\u001b[43m,\u001b[49m\n\u001b[1;32m    495\u001b[0m \u001b[43m        \u001b[49m\u001b[43massert_same_host\u001b[49m\u001b[38;5;241;43m=\u001b[39;49m\u001b[38;5;28;43;01mFalse\u001b[39;49;00m\u001b[43m,\u001b[49m\n\u001b[1;32m    496\u001b[0m \u001b[43m        \u001b[49m\u001b[43mpreload_content\u001b[49m\u001b[38;5;241;43m=\u001b[39;49m\u001b[38;5;28;43;01mFalse\u001b[39;49;00m\u001b[43m,\u001b[49m\n\u001b[1;32m    497\u001b[0m \u001b[43m        \u001b[49m\u001b[43mdecode_content\u001b[49m\u001b[38;5;241;43m=\u001b[39;49m\u001b[38;5;28;43;01mFalse\u001b[39;49;00m\u001b[43m,\u001b[49m\n\u001b[1;32m    498\u001b[0m \u001b[43m        \u001b[49m\u001b[43mretries\u001b[49m\u001b[38;5;241;43m=\u001b[39;49m\u001b[38;5;28;43mself\u001b[39;49m\u001b[38;5;241;43m.\u001b[39;49m\u001b[43mmax_retries\u001b[49m\u001b[43m,\u001b[49m\n\u001b[1;32m    499\u001b[0m \u001b[43m        \u001b[49m\u001b[43mtimeout\u001b[49m\u001b[38;5;241;43m=\u001b[39;49m\u001b[43mtimeout\u001b[49m\u001b[43m,\u001b[49m\n\u001b[1;32m    500\u001b[0m \u001b[43m    \u001b[49m\u001b[43m)\u001b[49m\n\u001b[1;32m    502\u001b[0m \u001b[38;5;66;03m# Send the request.\u001b[39;00m\n\u001b[1;32m    503\u001b[0m \u001b[38;5;28;01melse\u001b[39;00m:\n",
      "File \u001b[0;32m~/opt/anaconda3/lib/python3.8/site-packages/urllib3/connectionpool.py:787\u001b[0m, in \u001b[0;36mHTTPConnectionPool.urlopen\u001b[0;34m(self, method, url, body, headers, retries, redirect, assert_same_host, timeout, pool_timeout, release_conn, chunked, body_pos, **response_kw)\u001b[0m\n\u001b[1;32m    785\u001b[0m     e \u001b[38;5;241m=\u001b[39m ProtocolError(\u001b[38;5;124m\"\u001b[39m\u001b[38;5;124mConnection aborted.\u001b[39m\u001b[38;5;124m\"\u001b[39m, e)\n\u001b[0;32m--> 787\u001b[0m retries \u001b[38;5;241m=\u001b[39m \u001b[43mretries\u001b[49m\u001b[38;5;241;43m.\u001b[39;49m\u001b[43mincrement\u001b[49m\u001b[43m(\u001b[49m\n\u001b[1;32m    788\u001b[0m \u001b[43m    \u001b[49m\u001b[43mmethod\u001b[49m\u001b[43m,\u001b[49m\u001b[43m \u001b[49m\u001b[43murl\u001b[49m\u001b[43m,\u001b[49m\u001b[43m \u001b[49m\u001b[43merror\u001b[49m\u001b[38;5;241;43m=\u001b[39;49m\u001b[43me\u001b[49m\u001b[43m,\u001b[49m\u001b[43m \u001b[49m\u001b[43m_pool\u001b[49m\u001b[38;5;241;43m=\u001b[39;49m\u001b[38;5;28;43mself\u001b[39;49m\u001b[43m,\u001b[49m\u001b[43m \u001b[49m\u001b[43m_stacktrace\u001b[49m\u001b[38;5;241;43m=\u001b[39;49m\u001b[43msys\u001b[49m\u001b[38;5;241;43m.\u001b[39;49m\u001b[43mexc_info\u001b[49m\u001b[43m(\u001b[49m\u001b[43m)\u001b[49m\u001b[43m[\u001b[49m\u001b[38;5;241;43m2\u001b[39;49m\u001b[43m]\u001b[49m\n\u001b[1;32m    789\u001b[0m \u001b[43m\u001b[49m\u001b[43m)\u001b[49m\n\u001b[1;32m    790\u001b[0m retries\u001b[38;5;241m.\u001b[39msleep()\n",
      "File \u001b[0;32m~/opt/anaconda3/lib/python3.8/site-packages/urllib3/util/retry.py:550\u001b[0m, in \u001b[0;36mRetry.increment\u001b[0;34m(self, method, url, response, error, _pool, _stacktrace)\u001b[0m\n\u001b[1;32m    549\u001b[0m \u001b[38;5;28;01mif\u001b[39;00m read \u001b[38;5;129;01mis\u001b[39;00m \u001b[38;5;28;01mFalse\u001b[39;00m \u001b[38;5;129;01mor\u001b[39;00m \u001b[38;5;129;01mnot\u001b[39;00m \u001b[38;5;28mself\u001b[39m\u001b[38;5;241m.\u001b[39m_is_method_retryable(method):\n\u001b[0;32m--> 550\u001b[0m     \u001b[38;5;28;01mraise\u001b[39;00m \u001b[43msix\u001b[49m\u001b[38;5;241;43m.\u001b[39;49m\u001b[43mreraise\u001b[49m\u001b[43m(\u001b[49m\u001b[38;5;28;43mtype\u001b[39;49m\u001b[43m(\u001b[49m\u001b[43merror\u001b[49m\u001b[43m)\u001b[49m\u001b[43m,\u001b[49m\u001b[43m \u001b[49m\u001b[43merror\u001b[49m\u001b[43m,\u001b[49m\u001b[43m \u001b[49m\u001b[43m_stacktrace\u001b[49m\u001b[43m)\u001b[49m\n\u001b[1;32m    551\u001b[0m \u001b[38;5;28;01melif\u001b[39;00m read \u001b[38;5;129;01mis\u001b[39;00m \u001b[38;5;129;01mnot\u001b[39;00m \u001b[38;5;28;01mNone\u001b[39;00m:\n",
      "File \u001b[0;32m~/opt/anaconda3/lib/python3.8/site-packages/urllib3/packages/six.py:770\u001b[0m, in \u001b[0;36mreraise\u001b[0;34m(tp, value, tb)\u001b[0m\n\u001b[1;32m    769\u001b[0m         \u001b[38;5;28;01mraise\u001b[39;00m value\u001b[38;5;241m.\u001b[39mwith_traceback(tb)\n\u001b[0;32m--> 770\u001b[0m     \u001b[38;5;28;01mraise\u001b[39;00m value\n\u001b[1;32m    771\u001b[0m \u001b[38;5;28;01mfinally\u001b[39;00m:\n",
      "File \u001b[0;32m~/opt/anaconda3/lib/python3.8/site-packages/urllib3/connectionpool.py:703\u001b[0m, in \u001b[0;36mHTTPConnectionPool.urlopen\u001b[0;34m(self, method, url, body, headers, retries, redirect, assert_same_host, timeout, pool_timeout, release_conn, chunked, body_pos, **response_kw)\u001b[0m\n\u001b[1;32m    702\u001b[0m \u001b[38;5;66;03m# Make the request on the httplib connection object.\u001b[39;00m\n\u001b[0;32m--> 703\u001b[0m httplib_response \u001b[38;5;241m=\u001b[39m \u001b[38;5;28;43mself\u001b[39;49m\u001b[38;5;241;43m.\u001b[39;49m\u001b[43m_make_request\u001b[49m\u001b[43m(\u001b[49m\n\u001b[1;32m    704\u001b[0m \u001b[43m    \u001b[49m\u001b[43mconn\u001b[49m\u001b[43m,\u001b[49m\n\u001b[1;32m    705\u001b[0m \u001b[43m    \u001b[49m\u001b[43mmethod\u001b[49m\u001b[43m,\u001b[49m\n\u001b[1;32m    706\u001b[0m \u001b[43m    \u001b[49m\u001b[43murl\u001b[49m\u001b[43m,\u001b[49m\n\u001b[1;32m    707\u001b[0m \u001b[43m    \u001b[49m\u001b[43mtimeout\u001b[49m\u001b[38;5;241;43m=\u001b[39;49m\u001b[43mtimeout_obj\u001b[49m\u001b[43m,\u001b[49m\n\u001b[1;32m    708\u001b[0m \u001b[43m    \u001b[49m\u001b[43mbody\u001b[49m\u001b[38;5;241;43m=\u001b[39;49m\u001b[43mbody\u001b[49m\u001b[43m,\u001b[49m\n\u001b[1;32m    709\u001b[0m \u001b[43m    \u001b[49m\u001b[43mheaders\u001b[49m\u001b[38;5;241;43m=\u001b[39;49m\u001b[43mheaders\u001b[49m\u001b[43m,\u001b[49m\n\u001b[1;32m    710\u001b[0m \u001b[43m    \u001b[49m\u001b[43mchunked\u001b[49m\u001b[38;5;241;43m=\u001b[39;49m\u001b[43mchunked\u001b[49m\u001b[43m,\u001b[49m\n\u001b[1;32m    711\u001b[0m \u001b[43m\u001b[49m\u001b[43m)\u001b[49m\n\u001b[1;32m    713\u001b[0m \u001b[38;5;66;03m# If we're going to release the connection in ``finally:``, then\u001b[39;00m\n\u001b[1;32m    714\u001b[0m \u001b[38;5;66;03m# the response doesn't need to know about the connection. Otherwise\u001b[39;00m\n\u001b[1;32m    715\u001b[0m \u001b[38;5;66;03m# it will also try to release it and we'll have a double-release\u001b[39;00m\n\u001b[1;32m    716\u001b[0m \u001b[38;5;66;03m# mess.\u001b[39;00m\n",
      "File \u001b[0;32m~/opt/anaconda3/lib/python3.8/site-packages/urllib3/connectionpool.py:451\u001b[0m, in \u001b[0;36mHTTPConnectionPool._make_request\u001b[0;34m(self, conn, method, url, timeout, chunked, **httplib_request_kw)\u001b[0m\n\u001b[1;32m    450\u001b[0m \u001b[38;5;28;01mexcept\u001b[39;00m (SocketTimeout, BaseSSLError, SocketError) \u001b[38;5;28;01mas\u001b[39;00m e:\n\u001b[0;32m--> 451\u001b[0m     \u001b[38;5;28;43mself\u001b[39;49m\u001b[38;5;241;43m.\u001b[39;49m\u001b[43m_raise_timeout\u001b[49m\u001b[43m(\u001b[49m\u001b[43merr\u001b[49m\u001b[38;5;241;43m=\u001b[39;49m\u001b[43me\u001b[49m\u001b[43m,\u001b[49m\u001b[43m \u001b[49m\u001b[43murl\u001b[49m\u001b[38;5;241;43m=\u001b[39;49m\u001b[43murl\u001b[49m\u001b[43m,\u001b[49m\u001b[43m \u001b[49m\u001b[43mtimeout_value\u001b[49m\u001b[38;5;241;43m=\u001b[39;49m\u001b[43mread_timeout\u001b[49m\u001b[43m)\u001b[49m\n\u001b[1;32m    452\u001b[0m     \u001b[38;5;28;01mraise\u001b[39;00m\n",
      "File \u001b[0;32m~/opt/anaconda3/lib/python3.8/site-packages/urllib3/connectionpool.py:340\u001b[0m, in \u001b[0;36mHTTPConnectionPool._raise_timeout\u001b[0;34m(self, err, url, timeout_value)\u001b[0m\n\u001b[1;32m    339\u001b[0m \u001b[38;5;28;01mif\u001b[39;00m \u001b[38;5;28misinstance\u001b[39m(err, SocketTimeout):\n\u001b[0;32m--> 340\u001b[0m     \u001b[38;5;28;01mraise\u001b[39;00m ReadTimeoutError(\n\u001b[1;32m    341\u001b[0m         \u001b[38;5;28mself\u001b[39m, url, \u001b[38;5;124m\"\u001b[39m\u001b[38;5;124mRead timed out. (read timeout=\u001b[39m\u001b[38;5;132;01m%s\u001b[39;00m\u001b[38;5;124m)\u001b[39m\u001b[38;5;124m\"\u001b[39m \u001b[38;5;241m%\u001b[39m timeout_value\n\u001b[1;32m    342\u001b[0m     )\n\u001b[1;32m    344\u001b[0m \u001b[38;5;66;03m# See the above comment about EAGAIN in Python 3. In Python 2 we have\u001b[39;00m\n\u001b[1;32m    345\u001b[0m \u001b[38;5;66;03m# to specifically catch it and throw the timeout error\u001b[39;00m\n",
      "\u001b[0;31mReadTimeoutError\u001b[0m: HTTPSConnectionPool(host='dev.virtualearth.net', port=443): Read timed out. (read timeout=60)",
      "\nDuring handling of the above exception, another exception occurred:\n",
      "\u001b[0;31mReadTimeout\u001b[0m                               Traceback (most recent call last)",
      "Cell \u001b[0;32mIn[68], line 39\u001b[0m\n\u001b[1;32m     37\u001b[0m distances \u001b[38;5;241m=\u001b[39m []\n\u001b[1;32m     38\u001b[0m \u001b[38;5;28;01mfor\u001b[39;00m batch \u001b[38;5;129;01min\u001b[39;00m batches:\n\u001b[0;32m---> 39\u001b[0m     distances \u001b[38;5;241m+\u001b[39m\u001b[38;5;241m=\u001b[39m \u001b[43mcalculate_distances\u001b[49m\u001b[43m(\u001b[49m\u001b[43mbatch\u001b[49m\u001b[43m)\u001b[49m\n\u001b[1;32m     41\u001b[0m \u001b[38;5;66;03m# Add the distances to the DataFrame\u001b[39;00m\n\u001b[1;32m     42\u001b[0m coordinates_df_1[\u001b[38;5;124m'\u001b[39m\u001b[38;5;124mroute_distance\u001b[39m\u001b[38;5;124m'\u001b[39m] \u001b[38;5;241m=\u001b[39m distances\n",
      "Cell \u001b[0;32mIn[68], line 26\u001b[0m, in \u001b[0;36mcalculate_distances\u001b[0;34m(rows)\u001b[0m\n\u001b[1;32m     19\u001b[0m params \u001b[38;5;241m=\u001b[39m {\n\u001b[1;32m     20\u001b[0m     \u001b[38;5;124m'\u001b[39m\u001b[38;5;124morigins\u001b[39m\u001b[38;5;124m'\u001b[39m: \u001b[38;5;124mf\u001b[39m\u001b[38;5;124m\"\u001b[39m\u001b[38;5;132;01m{\u001b[39;00mrow[\u001b[38;5;124m'\u001b[39m\u001b[38;5;124mFromLatitude\u001b[39m\u001b[38;5;124m'\u001b[39m]\u001b[38;5;132;01m}\u001b[39;00m\u001b[38;5;124m,\u001b[39m\u001b[38;5;132;01m{\u001b[39;00mrow[\u001b[38;5;124m'\u001b[39m\u001b[38;5;124mFromLongitude\u001b[39m\u001b[38;5;124m'\u001b[39m]\u001b[38;5;132;01m}\u001b[39;00m\u001b[38;5;124m\"\u001b[39m,\n\u001b[1;32m     21\u001b[0m     \u001b[38;5;124m'\u001b[39m\u001b[38;5;124mdestinations\u001b[39m\u001b[38;5;124m'\u001b[39m: \u001b[38;5;124mf\u001b[39m\u001b[38;5;124m\"\u001b[39m\u001b[38;5;132;01m{\u001b[39;00mrow[\u001b[38;5;124m'\u001b[39m\u001b[38;5;124mToLatitude\u001b[39m\u001b[38;5;124m'\u001b[39m]\u001b[38;5;132;01m}\u001b[39;00m\u001b[38;5;124m,\u001b[39m\u001b[38;5;132;01m{\u001b[39;00mrow[\u001b[38;5;124m'\u001b[39m\u001b[38;5;124mToLongitude\u001b[39m\u001b[38;5;124m'\u001b[39m]\u001b[38;5;132;01m}\u001b[39;00m\u001b[38;5;124m\"\u001b[39m,\n\u001b[1;32m     22\u001b[0m     \u001b[38;5;124m'\u001b[39m\u001b[38;5;124mtravelMode\u001b[39m\u001b[38;5;124m'\u001b[39m: \u001b[38;5;124m'\u001b[39m\u001b[38;5;124mdriving\u001b[39m\u001b[38;5;124m'\u001b[39m,\n\u001b[1;32m     23\u001b[0m     \u001b[38;5;124m'\u001b[39m\u001b[38;5;124mkey\u001b[39m\u001b[38;5;124m'\u001b[39m: api_key\n\u001b[1;32m     24\u001b[0m }\n\u001b[1;32m     25\u001b[0m \u001b[38;5;66;03m# Send the API request and get the response\u001b[39;00m\n\u001b[0;32m---> 26\u001b[0m response \u001b[38;5;241m=\u001b[39m \u001b[43msession\u001b[49m\u001b[38;5;241;43m.\u001b[39;49m\u001b[43mget\u001b[49m\u001b[43m(\u001b[49m\u001b[43murl\u001b[49m\u001b[43m,\u001b[49m\u001b[43m \u001b[49m\u001b[43mparams\u001b[49m\u001b[38;5;241;43m=\u001b[39;49m\u001b[43mparams\u001b[49m\u001b[43m,\u001b[49m\u001b[43m \u001b[49m\u001b[43mtimeout\u001b[49m\u001b[38;5;241;43m=\u001b[39;49m\u001b[43mtimeout\u001b[49m\u001b[43m)\u001b[49m\u001b[38;5;241m.\u001b[39mjson()\n\u001b[1;32m     27\u001b[0m \u001b[38;5;66;03m# Extract the distance from the response\u001b[39;00m\n\u001b[1;32m     28\u001b[0m distance \u001b[38;5;241m=\u001b[39m response[\u001b[38;5;124m'\u001b[39m\u001b[38;5;124mresourceSets\u001b[39m\u001b[38;5;124m'\u001b[39m][\u001b[38;5;241m0\u001b[39m][\u001b[38;5;124m'\u001b[39m\u001b[38;5;124mresources\u001b[39m\u001b[38;5;124m'\u001b[39m][\u001b[38;5;241m0\u001b[39m][\u001b[38;5;124m'\u001b[39m\u001b[38;5;124mresults\u001b[39m\u001b[38;5;124m'\u001b[39m][\u001b[38;5;241m0\u001b[39m][\u001b[38;5;124m'\u001b[39m\u001b[38;5;124mtravelDistance\u001b[39m\u001b[38;5;124m'\u001b[39m]\n",
      "File \u001b[0;32m~/opt/anaconda3/lib/python3.8/site-packages/requests/sessions.py:600\u001b[0m, in \u001b[0;36mSession.get\u001b[0;34m(self, url, **kwargs)\u001b[0m\n\u001b[1;32m    592\u001b[0m \u001b[38;5;124mr\u001b[39m\u001b[38;5;124;03m\"\"\"Sends a GET request. Returns :class:`Response` object.\u001b[39;00m\n\u001b[1;32m    593\u001b[0m \n\u001b[1;32m    594\u001b[0m \u001b[38;5;124;03m:param url: URL for the new :class:`Request` object.\u001b[39;00m\n\u001b[1;32m    595\u001b[0m \u001b[38;5;124;03m:param \\*\\*kwargs: Optional arguments that ``request`` takes.\u001b[39;00m\n\u001b[1;32m    596\u001b[0m \u001b[38;5;124;03m:rtype: requests.Response\u001b[39;00m\n\u001b[1;32m    597\u001b[0m \u001b[38;5;124;03m\"\"\"\u001b[39;00m\n\u001b[1;32m    599\u001b[0m kwargs\u001b[38;5;241m.\u001b[39msetdefault(\u001b[38;5;124m\"\u001b[39m\u001b[38;5;124mallow_redirects\u001b[39m\u001b[38;5;124m\"\u001b[39m, \u001b[38;5;28;01mTrue\u001b[39;00m)\n\u001b[0;32m--> 600\u001b[0m \u001b[38;5;28;01mreturn\u001b[39;00m \u001b[38;5;28;43mself\u001b[39;49m\u001b[38;5;241;43m.\u001b[39;49m\u001b[43mrequest\u001b[49m\u001b[43m(\u001b[49m\u001b[38;5;124;43m\"\u001b[39;49m\u001b[38;5;124;43mGET\u001b[39;49m\u001b[38;5;124;43m\"\u001b[39;49m\u001b[43m,\u001b[49m\u001b[43m \u001b[49m\u001b[43murl\u001b[49m\u001b[43m,\u001b[49m\u001b[43m \u001b[49m\u001b[38;5;241;43m*\u001b[39;49m\u001b[38;5;241;43m*\u001b[39;49m\u001b[43mkwargs\u001b[49m\u001b[43m)\u001b[49m\n",
      "File \u001b[0;32m~/opt/anaconda3/lib/python3.8/site-packages/requests/sessions.py:587\u001b[0m, in \u001b[0;36mSession.request\u001b[0;34m(self, method, url, params, data, headers, cookies, files, auth, timeout, allow_redirects, proxies, hooks, stream, verify, cert, json)\u001b[0m\n\u001b[1;32m    582\u001b[0m send_kwargs \u001b[38;5;241m=\u001b[39m {\n\u001b[1;32m    583\u001b[0m     \u001b[38;5;124m\"\u001b[39m\u001b[38;5;124mtimeout\u001b[39m\u001b[38;5;124m\"\u001b[39m: timeout,\n\u001b[1;32m    584\u001b[0m     \u001b[38;5;124m\"\u001b[39m\u001b[38;5;124mallow_redirects\u001b[39m\u001b[38;5;124m\"\u001b[39m: allow_redirects,\n\u001b[1;32m    585\u001b[0m }\n\u001b[1;32m    586\u001b[0m send_kwargs\u001b[38;5;241m.\u001b[39mupdate(settings)\n\u001b[0;32m--> 587\u001b[0m resp \u001b[38;5;241m=\u001b[39m \u001b[38;5;28;43mself\u001b[39;49m\u001b[38;5;241;43m.\u001b[39;49m\u001b[43msend\u001b[49m\u001b[43m(\u001b[49m\u001b[43mprep\u001b[49m\u001b[43m,\u001b[49m\u001b[43m \u001b[49m\u001b[38;5;241;43m*\u001b[39;49m\u001b[38;5;241;43m*\u001b[39;49m\u001b[43msend_kwargs\u001b[49m\u001b[43m)\u001b[49m\n\u001b[1;32m    589\u001b[0m \u001b[38;5;28;01mreturn\u001b[39;00m resp\n",
      "File \u001b[0;32m~/opt/anaconda3/lib/python3.8/site-packages/requests/sessions.py:701\u001b[0m, in \u001b[0;36mSession.send\u001b[0;34m(self, request, **kwargs)\u001b[0m\n\u001b[1;32m    698\u001b[0m start \u001b[38;5;241m=\u001b[39m preferred_clock()\n\u001b[1;32m    700\u001b[0m \u001b[38;5;66;03m# Send the request\u001b[39;00m\n\u001b[0;32m--> 701\u001b[0m r \u001b[38;5;241m=\u001b[39m \u001b[43madapter\u001b[49m\u001b[38;5;241;43m.\u001b[39;49m\u001b[43msend\u001b[49m\u001b[43m(\u001b[49m\u001b[43mrequest\u001b[49m\u001b[43m,\u001b[49m\u001b[43m \u001b[49m\u001b[38;5;241;43m*\u001b[39;49m\u001b[38;5;241;43m*\u001b[39;49m\u001b[43mkwargs\u001b[49m\u001b[43m)\u001b[49m\n\u001b[1;32m    703\u001b[0m \u001b[38;5;66;03m# Total elapsed time of the request (approximately)\u001b[39;00m\n\u001b[1;32m    704\u001b[0m elapsed \u001b[38;5;241m=\u001b[39m preferred_clock() \u001b[38;5;241m-\u001b[39m start\n",
      "File \u001b[0;32m~/opt/anaconda3/lib/python3.8/site-packages/requests/adapters.py:578\u001b[0m, in \u001b[0;36mHTTPAdapter.send\u001b[0;34m(self, request, stream, timeout, verify, cert, proxies)\u001b[0m\n\u001b[1;32m    576\u001b[0m     \u001b[38;5;28;01mraise\u001b[39;00m SSLError(e, request\u001b[38;5;241m=\u001b[39mrequest)\n\u001b[1;32m    577\u001b[0m \u001b[38;5;28;01melif\u001b[39;00m \u001b[38;5;28misinstance\u001b[39m(e, ReadTimeoutError):\n\u001b[0;32m--> 578\u001b[0m     \u001b[38;5;28;01mraise\u001b[39;00m ReadTimeout(e, request\u001b[38;5;241m=\u001b[39mrequest)\n\u001b[1;32m    579\u001b[0m \u001b[38;5;28;01melif\u001b[39;00m \u001b[38;5;28misinstance\u001b[39m(e, _InvalidHeader):\n\u001b[1;32m    580\u001b[0m     \u001b[38;5;28;01mraise\u001b[39;00m InvalidHeader(e, request\u001b[38;5;241m=\u001b[39mrequest)\n",
      "\u001b[0;31mReadTimeout\u001b[0m: HTTPSConnectionPool(host='dev.virtualearth.net', port=443): Read timed out. (read timeout=60)"
     ]
    }
   ],
   "source": [
    "### DONT EXECUTE; FIND FINAL OUTPUT CSV BELOW\n",
    "\n",
    "# 3) Calculate distances using Bing Matrix API // Batches\n",
    "\n",
    " # Define Bing Maps API key\n",
    " api_key = 'AjjPXgFK_kEPapm4Aa71lVBC-OD0Cv--TxfWszdsMyVPAptZVtzAxV8a52UjW6Po'\n",
    "\n",
    " # Define the Bing Maps API endpoint\n",
    " url = 'https://dev.virtualearth.net/REST/v1/Routes/DistanceMatrix'\n",
    "\n",
    " # set the timeout value to 60 seconds to prevent errors from short-term connection issues\n",
    " # (default is 10 seconds)\n",
    " timeout = 60\n",
    "\n",
    " # Define a function to calculate distance between two locations using Bing Maps API\n",
    " def calculate_distances(rows):\n",
    "     distances = []\n",
    "     with requests.Session() as session:\n",
    "         for index, row in rows.iterrows():\n",
    "             # Define the request parameters\n",
    "             params = {\n",
    "                 'origins': f\"{row['FromLatitude']},{row['FromLongitude']}\",\n",
    "                 'destinations': f\"{row['ToLatitude']},{row['ToLongitude']}\",\n",
    "                 'travelMode': 'driving',\n",
    "                 'key': api_key\n",
    "             }\n",
    "             # Send the API request and get the response\n",
    "             response = session.get(url, params=params, timeout=timeout).json()\n",
    "             # Extract the distance from the response\n",
    "             distance = response['resourceSets'][0]['resources'][0]['results'][0]['travelDistance']\n",
    "             distances.append(distance)\n",
    "     return distances\n",
    "\n",
    "# Define the batch size\n",
    "batch_size = 100\n",
    "\n",
    "# Split the DataFrame into batches and calculate distances for each batch\n",
    "batches = [routes_1[i:i+batch_size] for i in range(0, len(routes_1), batch_size)]\n",
    "distances = []\n",
    "for batch in batches:\n",
    "     distances += calculate_distances(batch)\n",
    "\n",
    "# # Add the distances to the DataFrame\n",
    "routes_1['RouteDistance'] = distances\n",
    "\n",
    "# # Print the updated DataFrame\n",
    "print(routes_1.head())\n",
    "\n",
    " # Save the DataFrame as a CSV file\n",
    "routes_1.to_csv('routes_1.csv', index=False)\n"
   ]
  },
  {
   "cell_type": "code",
   "execution_count": 59,
   "metadata": {},
   "outputs": [],
   "source": [
    "# DONT EXECUTE\n",
    "# KEEP FOR NOW; TALK WITH DANIEL\n",
    "\n",
    "# Concatenating together the single csv files from the API calls\n",
    "import os \n",
    "# set working directory to where the CSV files are located\n",
    "os.chdir('/Users/jangaydoul/Desktop/Copenhagen Business School/4. Semester :: Thesis/03_Data/csvs')\n",
    "\n",
    "# initialize an empty dataframe to hold the concatenated data\n",
    "routes_with_distance = pd.DataFrame()\n",
    "\n",
    "# loop through each CSV file and append its data to the dataframe\n",
    "for file in os.listdir():\n",
    "    if file.endswith('.csv'):\n",
    "        temp_df = pd.read_csv(file)\n",
    "        routes_with_distance = pd.concat([routes_with_distance, temp_df])\n",
    "\n",
    "# export the concatenated data to a new CSV file\n",
    "routes_with_distance.to_csv('routes_with_distance.csv', index=False)"
   ]
  },
  {
   "cell_type": "code",
   "execution_count": 144,
   "metadata": {},
   "outputs": [
    {
     "data": {
      "text/plain": [
       "162112"
      ]
     },
     "execution_count": 144,
     "metadata": {},
     "output_type": "execute_result"
    }
   ],
   "source": [
    "# DONT EXECUTE \n",
    "# routes_1_with_distance = pd.read_csv(\"routes_1.csv\")\n",
    "# routes_2_with_distance = pd.read_csv(\"routes_2.csv\")\n",
    "# routes_3_with_distance = pd.read_csv(\"routes_3.csv\")\n",
    "# routes_4_with_distance = pd.read_csv(\"routes_4.csv\")\n",
    "# routes_5_with_distance = pd.read_csv(\"routes_5.csv\")"
   ]
  },
  {
   "cell_type": "code",
   "execution_count": null,
   "metadata": {},
   "outputs": [],
   "source": [
    "# DONT EXECUTE \n",
    "routes_with_distances = pd.concat((routes_1_with_distance, routes_2_with_distance, routes_3_with_distance, routes_4_with_distance, routes_5_with_distance))"
   ]
  },
  {
   "cell_type": "code",
   "execution_count": 41,
   "metadata": {},
   "outputs": [],
   "source": [
    "# Provide finalized 'routes_with_distance' dataset\n",
    "routes_with_distance = pd.read_csv(\"/Users/jangaydoul/Desktop/Copenhagen Business School/4. Semester :: Thesis/03_Data/csvs/routes_with_distance.csv\")\n",
    "routes_with_distance.rename(columns = {\"route_distance\": \"RouteDistance\"}, inplace = True)\n",
    "\n",
    "routes_with_distance = routes_with_distance.drop(['Unnamed: 0.1', 'Unnamed: 0'], axis = 1)\n",
    "routes_with_distance = routes_with_distance.drop_duplicates(subset = ['FromLatitude', 'FromLongitude', 'ToLatitude', 'ToLongitude'])\n",
    "\n",
    "len(routes_with_distance)"
   ]
  },
  {
   "cell_type": "code",
   "execution_count": 80,
   "metadata": {},
   "outputs": [
    {
     "data": {
      "text/html": [
       "<div>\n",
       "<style scoped>\n",
       "    .dataframe tbody tr th:only-of-type {\n",
       "        vertical-align: middle;\n",
       "    }\n",
       "\n",
       "    .dataframe tbody tr th {\n",
       "        vertical-align: top;\n",
       "    }\n",
       "\n",
       "    .dataframe thead th {\n",
       "        text-align: right;\n",
       "    }\n",
       "</style>\n",
       "<table border=\"1\" class=\"dataframe\">\n",
       "  <thead>\n",
       "    <tr style=\"text-align: right;\">\n",
       "      <th></th>\n",
       "      <th>FromLatitude</th>\n",
       "      <th>FromLongitude</th>\n",
       "      <th>ToLatitude</th>\n",
       "      <th>ToLongitude</th>\n",
       "      <th>RouteDistance</th>\n",
       "    </tr>\n",
       "  </thead>\n",
       "  <tbody>\n",
       "    <tr>\n",
       "      <th>0</th>\n",
       "      <td>53.51131</td>\n",
       "      <td>-1.12540</td>\n",
       "      <td>53.60475</td>\n",
       "      <td>-0.65636</td>\n",
       "      <td>46.346</td>\n",
       "    </tr>\n",
       "    <tr>\n",
       "      <th>1</th>\n",
       "      <td>53.50446</td>\n",
       "      <td>-2.84867</td>\n",
       "      <td>53.04612</td>\n",
       "      <td>-2.92787</td>\n",
       "      <td>78.192</td>\n",
       "    </tr>\n",
       "    <tr>\n",
       "      <th>2</th>\n",
       "      <td>53.77629</td>\n",
       "      <td>-1.52585</td>\n",
       "      <td>53.71874</td>\n",
       "      <td>-1.41235</td>\n",
       "      <td>17.733</td>\n",
       "    </tr>\n",
       "    <tr>\n",
       "      <th>3</th>\n",
       "      <td>53.77629</td>\n",
       "      <td>-1.52585</td>\n",
       "      <td>55.87784</td>\n",
       "      <td>-3.65235</td>\n",
       "      <td>369.340</td>\n",
       "    </tr>\n",
       "    <tr>\n",
       "      <th>4</th>\n",
       "      <td>53.50446</td>\n",
       "      <td>-2.84867</td>\n",
       "      <td>55.91412</td>\n",
       "      <td>-3.50947</td>\n",
       "      <td>362.516</td>\n",
       "    </tr>\n",
       "  </tbody>\n",
       "</table>\n",
       "</div>"
      ],
      "text/plain": [
       "   FromLatitude  FromLongitude  ToLatitude  ToLongitude  RouteDistance\n",
       "0      53.51131       -1.12540    53.60475     -0.65636         46.346\n",
       "1      53.50446       -2.84867    53.04612     -2.92787         78.192\n",
       "2      53.77629       -1.52585    53.71874     -1.41235         17.733\n",
       "3      53.77629       -1.52585    55.87784     -3.65235        369.340\n",
       "4      53.50446       -2.84867    55.91412     -3.50947        362.516"
      ]
     },
     "execution_count": 80,
     "metadata": {},
     "output_type": "execute_result"
    }
   ],
   "source": [
    "routes_with_distance.head()"
   ]
  },
  {
   "cell_type": "code",
   "execution_count": 81,
   "metadata": {},
   "outputs": [
    {
     "data": {
      "text/plain": [
       "206865"
      ]
     },
     "execution_count": 81,
     "metadata": {},
     "output_type": "execute_result"
    }
   ],
   "source": [
    "len(routes_with_distance)"
   ]
  },
  {
   "cell_type": "code",
   "execution_count": 77,
   "metadata": {},
   "outputs": [],
   "source": [
    "# 4) Merging distances of routes to df_final\n",
    "\n",
    "df_final = pd.merge(df_final, routes_with_distance, on = ['FromLatitude', 'FromLongitude', 'ToLatitude', 'ToLongitude'], how = 'left')"
   ]
  },
  {
   "cell_type": "code",
   "execution_count": 79,
   "metadata": {},
   "outputs": [
    {
     "data": {
      "text/html": [
       "<div>\n",
       "<style scoped>\n",
       "    .dataframe tbody tr th:only-of-type {\n",
       "        vertical-align: middle;\n",
       "    }\n",
       "\n",
       "    .dataframe tbody tr th {\n",
       "        vertical-align: top;\n",
       "    }\n",
       "\n",
       "    .dataframe thead th {\n",
       "        text-align: right;\n",
       "    }\n",
       "</style>\n",
       "<table border=\"1\" class=\"dataframe\">\n",
       "  <thead>\n",
       "    <tr style=\"text-align: right;\">\n",
       "      <th></th>\n",
       "      <th>BookingId</th>\n",
       "      <th>SubBookingName</th>\n",
       "      <th>FromLocation</th>\n",
       "      <th>ToLocation</th>\n",
       "      <th>StartRequestedDate</th>\n",
       "      <th>EndRequestedDate</th>\n",
       "      <th>Temperature</th>\n",
       "      <th>FromLatitude</th>\n",
       "      <th>FromLongitude</th>\n",
       "      <th>FromCity</th>\n",
       "      <th>FromCountry</th>\n",
       "      <th>ToLatitude</th>\n",
       "      <th>ToLongitude</th>\n",
       "      <th>ToCity</th>\n",
       "      <th>ToCountry</th>\n",
       "      <th>FullLoadIndicator</th>\n",
       "      <th>EmptyBookingIndicator</th>\n",
       "      <th>CustomerName</th>\n",
       "      <th>FromLocationString</th>\n",
       "      <th>ToLocationString</th>\n",
       "      <th>DomesticDelivery</th>\n",
       "      <th>RouteDistance</th>\n",
       "    </tr>\n",
       "  </thead>\n",
       "  <tbody>\n",
       "    <tr>\n",
       "      <th>0</th>\n",
       "      <td>7399574</td>\n",
       "      <td>A</td>\n",
       "      <td>33917</td>\n",
       "      <td>32289</td>\n",
       "      <td>2020-12-31</td>\n",
       "      <td>2020-12-31</td>\n",
       "      <td>NaN</td>\n",
       "      <td>53.51131</td>\n",
       "      <td>-1.12540</td>\n",
       "      <td>YORKSHIRE</td>\n",
       "      <td>United Kingdom</td>\n",
       "      <td>53.60475</td>\n",
       "      <td>-0.65636</td>\n",
       "      <td>SCUNTHORPE</td>\n",
       "      <td>United Kingdom</td>\n",
       "      <td>1.0</td>\n",
       "      <td>0.0</td>\n",
       "      <td>2966</td>\n",
       "      <td>TESCO</td>\n",
       "      <td>GRAYRENTALS</td>\n",
       "      <td>1</td>\n",
       "      <td>46.346</td>\n",
       "    </tr>\n",
       "    <tr>\n",
       "      <th>1</th>\n",
       "      <td>7399575</td>\n",
       "      <td>A</td>\n",
       "      <td>9443</td>\n",
       "      <td>57716</td>\n",
       "      <td>2020-12-31</td>\n",
       "      <td>2020-12-31</td>\n",
       "      <td>NaN</td>\n",
       "      <td>53.50446</td>\n",
       "      <td>-2.84867</td>\n",
       "      <td>Liverpool</td>\n",
       "      <td>United Kingdom</td>\n",
       "      <td>53.04612</td>\n",
       "      <td>-2.92787</td>\n",
       "      <td>Wrexham</td>\n",
       "      <td>United Kingdom</td>\n",
       "      <td>1.0</td>\n",
       "      <td>0.0</td>\n",
       "      <td>8183</td>\n",
       "      <td>DFDS SIMONSWOOD</td>\n",
       "      <td>NORISH COLD STORAGE WREXHAM</td>\n",
       "      <td>1</td>\n",
       "      <td>78.192</td>\n",
       "    </tr>\n",
       "    <tr>\n",
       "      <th>2</th>\n",
       "      <td>7399576</td>\n",
       "      <td>A</td>\n",
       "      <td>9443</td>\n",
       "      <td>57716</td>\n",
       "      <td>2020-12-31</td>\n",
       "      <td>2020-12-31</td>\n",
       "      <td>NaN</td>\n",
       "      <td>53.50446</td>\n",
       "      <td>-2.84867</td>\n",
       "      <td>Liverpool</td>\n",
       "      <td>United Kingdom</td>\n",
       "      <td>53.04612</td>\n",
       "      <td>-2.92787</td>\n",
       "      <td>Wrexham</td>\n",
       "      <td>United Kingdom</td>\n",
       "      <td>1.0</td>\n",
       "      <td>0.0</td>\n",
       "      <td>8183</td>\n",
       "      <td>DFDS SIMONSWOOD</td>\n",
       "      <td>NORISH COLD STORAGE WREXHAM</td>\n",
       "      <td>1</td>\n",
       "      <td>78.192</td>\n",
       "    </tr>\n",
       "    <tr>\n",
       "      <th>3</th>\n",
       "      <td>7399577</td>\n",
       "      <td>A</td>\n",
       "      <td>5977</td>\n",
       "      <td>9831</td>\n",
       "      <td>2020-12-31</td>\n",
       "      <td>2020-12-31</td>\n",
       "      <td>NaN</td>\n",
       "      <td>53.77629</td>\n",
       "      <td>-1.52585</td>\n",
       "      <td>Leeds</td>\n",
       "      <td>United Kingdom</td>\n",
       "      <td>53.71874</td>\n",
       "      <td>-1.41235</td>\n",
       "      <td>YORKSHIRE</td>\n",
       "      <td>United Kingdom</td>\n",
       "      <td>0.0</td>\n",
       "      <td>0.0</td>\n",
       "      <td>4737</td>\n",
       "      <td>C/O GREENCORE FROZEN FOODS</td>\n",
       "      <td>BIDVEST</td>\n",
       "      <td>1</td>\n",
       "      <td>17.733</td>\n",
       "    </tr>\n",
       "    <tr>\n",
       "      <th>4</th>\n",
       "      <td>7399578</td>\n",
       "      <td>A</td>\n",
       "      <td>5977</td>\n",
       "      <td>3182</td>\n",
       "      <td>2020-12-31</td>\n",
       "      <td>2020-12-31</td>\n",
       "      <td>NaN</td>\n",
       "      <td>53.77629</td>\n",
       "      <td>-1.52585</td>\n",
       "      <td>Leeds</td>\n",
       "      <td>United Kingdom</td>\n",
       "      <td>55.87784</td>\n",
       "      <td>-3.65235</td>\n",
       "      <td>Bathgate</td>\n",
       "      <td>United Kingdom</td>\n",
       "      <td>1.0</td>\n",
       "      <td>0.0</td>\n",
       "      <td>4737</td>\n",
       "      <td>C/O GREENCORE FROZEN FOODS</td>\n",
       "      <td>ALDI STORES LTD</td>\n",
       "      <td>1</td>\n",
       "      <td>369.340</td>\n",
       "    </tr>\n",
       "  </tbody>\n",
       "</table>\n",
       "</div>"
      ],
      "text/plain": [
       "   BookingId SubBookingName  FromLocation  ToLocation StartRequestedDate  \\\n",
       "0    7399574              A         33917       32289         2020-12-31   \n",
       "1    7399575              A          9443       57716         2020-12-31   \n",
       "2    7399576              A          9443       57716         2020-12-31   \n",
       "3    7399577              A          5977        9831         2020-12-31   \n",
       "4    7399578              A          5977        3182         2020-12-31   \n",
       "\n",
       "  EndRequestedDate  Temperature  FromLatitude  FromLongitude   FromCity  \\\n",
       "0       2020-12-31          NaN      53.51131       -1.12540  YORKSHIRE   \n",
       "1       2020-12-31          NaN      53.50446       -2.84867  Liverpool   \n",
       "2       2020-12-31          NaN      53.50446       -2.84867  Liverpool   \n",
       "3       2020-12-31          NaN      53.77629       -1.52585      Leeds   \n",
       "4       2020-12-31          NaN      53.77629       -1.52585      Leeds   \n",
       "\n",
       "      FromCountry  ToLatitude  ToLongitude      ToCity       ToCountry  \\\n",
       "0  United Kingdom    53.60475     -0.65636  SCUNTHORPE  United Kingdom   \n",
       "1  United Kingdom    53.04612     -2.92787     Wrexham  United Kingdom   \n",
       "2  United Kingdom    53.04612     -2.92787     Wrexham  United Kingdom   \n",
       "3  United Kingdom    53.71874     -1.41235   YORKSHIRE  United Kingdom   \n",
       "4  United Kingdom    55.87784     -3.65235    Bathgate  United Kingdom   \n",
       "\n",
       "   FullLoadIndicator  EmptyBookingIndicator  CustomerName  \\\n",
       "0                1.0                    0.0          2966   \n",
       "1                1.0                    0.0          8183   \n",
       "2                1.0                    0.0          8183   \n",
       "3                0.0                    0.0          4737   \n",
       "4                1.0                    0.0          4737   \n",
       "\n",
       "            FromLocationString             ToLocationString  DomesticDelivery  \\\n",
       "0                        TESCO                  GRAYRENTALS                 1   \n",
       "1              DFDS SIMONSWOOD  NORISH COLD STORAGE WREXHAM                 1   \n",
       "2              DFDS SIMONSWOOD  NORISH COLD STORAGE WREXHAM                 1   \n",
       "3  C/O GREENCORE FROZEN FOODS                       BIDVEST                 1   \n",
       "4  C/O GREENCORE FROZEN FOODS               ALDI STORES LTD                 1   \n",
       "\n",
       "   RouteDistance  \n",
       "0         46.346  \n",
       "1         78.192  \n",
       "2         78.192  \n",
       "3         17.733  \n",
       "4        369.340  "
      ]
     },
     "execution_count": 79,
     "metadata": {},
     "output_type": "execute_result"
    }
   ],
   "source": [
    "df_final.head()"
   ]
  },
  {
   "cell_type": "markdown",
   "metadata": {},
   "source": [
    " 5.4) \"frozen_load\""
   ]
  },
  {
   "cell_type": "code",
   "execution_count": 82,
   "metadata": {},
   "outputs": [],
   "source": [
    "# We want to know whether a load is frozen or not, as this has major implications on the reach of the truck. \n",
    "# That's why we binary encode the \"temperature\" feature \n",
    "\n",
    "# Create the new \"frozen_load\" column using numpy.where\n",
    "df_final['FrozenLoad'] = np.where(df_final['Temperature'] < 0, 1, 0)"
   ]
  },
  {
   "cell_type": "code",
   "execution_count": 83,
   "metadata": {},
   "outputs": [
    {
     "data": {
      "image/png": "[encoded data removed]",
      "text/plain": [
       "<Figure size 200x200 with 1 Axes>"
      ]
     },
     "metadata": {},
     "output_type": "display_data"
    }
   ],
   "source": [
    "frozen_load = df_final['FrozenLoad'].value_counts()\n",
    "\n",
    "frozen_load.plot(kind = 'pie', \n",
    "                        figsize = (2, 2), \n",
    "                        autopct = '%1.1f%%', \n",
    "                        startangle = 90,\n",
    "                        pctdistance = 0.8,\n",
    "                        labeldistance = 1.1)\n",
    "\n",
    "plt.axis('equal')\n",
    "plt.title('Share of frozen loads')\n",
    "plt.show()"
   ]
  },
  {
   "attachments": {},
   "cell_type": "markdown",
   "metadata": {},
   "source": [
    "#### Final touches \n"
   ]
  },
  {
   "cell_type": "code",
   "execution_count": 84,
   "metadata": {},
   "outputs": [
    {
     "data": {
      "text/plain": [
       "BookingId                      0\n",
       "SubBookingName                 0\n",
       "FromLocation                   0\n",
       "ToLocation                     0\n",
       "StartRequestedDate           338\n",
       "EndRequestedDate               0\n",
       "Temperature              4048923\n",
       "FromLatitude                   0\n",
       "FromLongitude                  0\n",
       "FromCity                       0\n",
       "FromCountry                80566\n",
       "ToLatitude                     0\n",
       "ToLongitude                    0\n",
       "ToCity                         2\n",
       "ToCountry                  54190\n",
       "FullLoadIndicator         584367\n",
       "EmptyBookingIndicator     584367\n",
       "CustomerName                   0\n",
       "FromLocationString             0\n",
       "ToLocationString               8\n",
       "DomesticDelivery               0\n",
       "RouteDistance                 28\n",
       "FrozenLoad                     0\n",
       "dtype: int64"
      ]
     },
     "execution_count": 84,
     "metadata": {},
     "output_type": "execute_result"
    }
   ],
   "source": [
    "# Check missing values again to see if everything has been taken care of \n",
    "df_final.isna().sum()"
   ]
  },
  {
   "cell_type": "code",
   "execution_count": 85,
   "metadata": {},
   "outputs": [
    {
     "name": "stdout",
     "output_type": "stream",
     "text": [
      "['BookingId', 'SubBookingName', 'FromLocation', 'ToLocation', 'StartRequestedDate', 'EndRequestedDate', 'Temperature', 'FromLatitude', 'FromLongitude', 'FromCity', 'FromCountry', 'ToLatitude', 'ToLongitude', 'ToCity', 'ToCountry', 'FullLoadIndicator', 'EmptyBookingIndicator', 'CustomerName', 'FromLocationString', 'ToLocationString', 'DomesticDelivery', 'RouteDistance', 'FrozenLoad']\n"
     ]
    }
   ],
   "source": [
    "columns = list(df_final.columns)\n",
    "print(columns)"
   ]
  },
  {
   "cell_type": "code",
   "execution_count": 86,
   "metadata": {},
   "outputs": [],
   "source": [
    "# Order columns of dataset meaningful \n",
    "\n",
    "# Define the desired order of columns\n",
    "column_order = ['BookingId', 'SubBookingName', 'Customer Name', 'StartRequestedDate', 'EndRequestedDate', 'FromLocation', 'FromLocationString', 'ToLocation', 'ToLocationString', 'FromLatitude', 'FromLongitude', 'FromCity', 'FromCountry', 'ToLatitude', 'ToLongitude', 'ToCity', 'ToCountry', 'DomesticDelivery', 'RouteDistance', 'FullLoadIndicator', 'EmptyBookingIndicator', 'Temperature', 'FrozenLoad']\n",
    "\n",
    "# Use the reindex() method to reorder the columns in the dataframe\n",
    "df_final = df_final.reindex(columns = column_order)"
   ]
  },
  {
   "cell_type": "code",
   "execution_count": 87,
   "metadata": {},
   "outputs": [
    {
     "data": {
      "text/html": [
       "<div>\n",
       "<style scoped>\n",
       "    .dataframe tbody tr th:only-of-type {\n",
       "        vertical-align: middle;\n",
       "    }\n",
       "\n",
       "    .dataframe tbody tr th {\n",
       "        vertical-align: top;\n",
       "    }\n",
       "\n",
       "    .dataframe thead th {\n",
       "        text-align: right;\n",
       "    }\n",
       "</style>\n",
       "<table border=\"1\" class=\"dataframe\">\n",
       "  <thead>\n",
       "    <tr style=\"text-align: right;\">\n",
       "      <th></th>\n",
       "      <th>BookingId</th>\n",
       "      <th>SubBookingName</th>\n",
       "      <th>Customer Name</th>\n",
       "      <th>StartRequestedDate</th>\n",
       "      <th>EndRequestedDate</th>\n",
       "      <th>FromLocation</th>\n",
       "      <th>FromLocationString</th>\n",
       "      <th>ToLocation</th>\n",
       "      <th>ToLocationString</th>\n",
       "      <th>FromLatitude</th>\n",
       "      <th>FromLongitude</th>\n",
       "      <th>FromCity</th>\n",
       "      <th>FromCountry</th>\n",
       "      <th>ToLatitude</th>\n",
       "      <th>ToLongitude</th>\n",
       "      <th>ToCity</th>\n",
       "      <th>ToCountry</th>\n",
       "      <th>DomesticDelivery</th>\n",
       "      <th>RouteDistance</th>\n",
       "      <th>FullLoadIndicator</th>\n",
       "      <th>EmptyBookingIndicator</th>\n",
       "      <th>Temperature</th>\n",
       "      <th>FrozenLoad</th>\n",
       "    </tr>\n",
       "  </thead>\n",
       "  <tbody>\n",
       "    <tr>\n",
       "      <th>0</th>\n",
       "      <td>7399574</td>\n",
       "      <td>A</td>\n",
       "      <td>NaN</td>\n",
       "      <td>2020-12-31</td>\n",
       "      <td>2020-12-31</td>\n",
       "      <td>33917</td>\n",
       "      <td>TESCO</td>\n",
       "      <td>32289</td>\n",
       "      <td>GRAYRENTALS</td>\n",
       "      <td>53.51131</td>\n",
       "      <td>-1.12540</td>\n",
       "      <td>YORKSHIRE</td>\n",
       "      <td>United Kingdom</td>\n",
       "      <td>53.60475</td>\n",
       "      <td>-0.65636</td>\n",
       "      <td>SCUNTHORPE</td>\n",
       "      <td>United Kingdom</td>\n",
       "      <td>1</td>\n",
       "      <td>46.346</td>\n",
       "      <td>1.0</td>\n",
       "      <td>0.0</td>\n",
       "      <td>NaN</td>\n",
       "      <td>0</td>\n",
       "    </tr>\n",
       "    <tr>\n",
       "      <th>1</th>\n",
       "      <td>7399575</td>\n",
       "      <td>A</td>\n",
       "      <td>NaN</td>\n",
       "      <td>2020-12-31</td>\n",
       "      <td>2020-12-31</td>\n",
       "      <td>9443</td>\n",
       "      <td>DFDS SIMONSWOOD</td>\n",
       "      <td>57716</td>\n",
       "      <td>NORISH COLD STORAGE WREXHAM</td>\n",
       "      <td>53.50446</td>\n",
       "      <td>-2.84867</td>\n",
       "      <td>Liverpool</td>\n",
       "      <td>United Kingdom</td>\n",
       "      <td>53.04612</td>\n",
       "      <td>-2.92787</td>\n",
       "      <td>Wrexham</td>\n",
       "      <td>United Kingdom</td>\n",
       "      <td>1</td>\n",
       "      <td>78.192</td>\n",
       "      <td>1.0</td>\n",
       "      <td>0.0</td>\n",
       "      <td>NaN</td>\n",
       "      <td>0</td>\n",
       "    </tr>\n",
       "    <tr>\n",
       "      <th>2</th>\n",
       "      <td>7399576</td>\n",
       "      <td>A</td>\n",
       "      <td>NaN</td>\n",
       "      <td>2020-12-31</td>\n",
       "      <td>2020-12-31</td>\n",
       "      <td>9443</td>\n",
       "      <td>DFDS SIMONSWOOD</td>\n",
       "      <td>57716</td>\n",
       "      <td>NORISH COLD STORAGE WREXHAM</td>\n",
       "      <td>53.50446</td>\n",
       "      <td>-2.84867</td>\n",
       "      <td>Liverpool</td>\n",
       "      <td>United Kingdom</td>\n",
       "      <td>53.04612</td>\n",
       "      <td>-2.92787</td>\n",
       "      <td>Wrexham</td>\n",
       "      <td>United Kingdom</td>\n",
       "      <td>1</td>\n",
       "      <td>78.192</td>\n",
       "      <td>1.0</td>\n",
       "      <td>0.0</td>\n",
       "      <td>NaN</td>\n",
       "      <td>0</td>\n",
       "    </tr>\n",
       "    <tr>\n",
       "      <th>3</th>\n",
       "      <td>7399577</td>\n",
       "      <td>A</td>\n",
       "      <td>NaN</td>\n",
       "      <td>2020-12-31</td>\n",
       "      <td>2020-12-31</td>\n",
       "      <td>5977</td>\n",
       "      <td>C/O GREENCORE FROZEN FOODS</td>\n",
       "      <td>9831</td>\n",
       "      <td>BIDVEST</td>\n",
       "      <td>53.77629</td>\n",
       "      <td>-1.52585</td>\n",
       "      <td>Leeds</td>\n",
       "      <td>United Kingdom</td>\n",
       "      <td>53.71874</td>\n",
       "      <td>-1.41235</td>\n",
       "      <td>YORKSHIRE</td>\n",
       "      <td>United Kingdom</td>\n",
       "      <td>1</td>\n",
       "      <td>17.733</td>\n",
       "      <td>0.0</td>\n",
       "      <td>0.0</td>\n",
       "      <td>NaN</td>\n",
       "      <td>0</td>\n",
       "    </tr>\n",
       "    <tr>\n",
       "      <th>4</th>\n",
       "      <td>7399578</td>\n",
       "      <td>A</td>\n",
       "      <td>NaN</td>\n",
       "      <td>2020-12-31</td>\n",
       "      <td>2020-12-31</td>\n",
       "      <td>5977</td>\n",
       "      <td>C/O GREENCORE FROZEN FOODS</td>\n",
       "      <td>3182</td>\n",
       "      <td>ALDI STORES LTD</td>\n",
       "      <td>53.77629</td>\n",
       "      <td>-1.52585</td>\n",
       "      <td>Leeds</td>\n",
       "      <td>United Kingdom</td>\n",
       "      <td>55.87784</td>\n",
       "      <td>-3.65235</td>\n",
       "      <td>Bathgate</td>\n",
       "      <td>United Kingdom</td>\n",
       "      <td>1</td>\n",
       "      <td>369.340</td>\n",
       "      <td>1.0</td>\n",
       "      <td>0.0</td>\n",
       "      <td>NaN</td>\n",
       "      <td>0</td>\n",
       "    </tr>\n",
       "    <tr>\n",
       "      <th>5</th>\n",
       "      <td>7399579</td>\n",
       "      <td>A</td>\n",
       "      <td>NaN</td>\n",
       "      <td>2020-12-31</td>\n",
       "      <td>2020-12-31</td>\n",
       "      <td>9320</td>\n",
       "      <td>DFDS LIVERPOOL</td>\n",
       "      <td>37777</td>\n",
       "      <td>ICELAND</td>\n",
       "      <td>53.50446</td>\n",
       "      <td>-2.84867</td>\n",
       "      <td>Liverpool</td>\n",
       "      <td>United Kingdom</td>\n",
       "      <td>55.91412</td>\n",
       "      <td>-3.50947</td>\n",
       "      <td>LIVINGSTON</td>\n",
       "      <td>United Kingdom</td>\n",
       "      <td>1</td>\n",
       "      <td>362.516</td>\n",
       "      <td>0.0</td>\n",
       "      <td>0.0</td>\n",
       "      <td>NaN</td>\n",
       "      <td>0</td>\n",
       "    </tr>\n",
       "    <tr>\n",
       "      <th>6</th>\n",
       "      <td>7399580</td>\n",
       "      <td>A</td>\n",
       "      <td>NaN</td>\n",
       "      <td>2020-12-31</td>\n",
       "      <td>2020-12-31</td>\n",
       "      <td>5977</td>\n",
       "      <td>C/O GREENCORE FROZEN FOODS</td>\n",
       "      <td>29662</td>\n",
       "      <td>FROZEN VALUE LTD</td>\n",
       "      <td>53.77629</td>\n",
       "      <td>-1.52585</td>\n",
       "      <td>Leeds</td>\n",
       "      <td>United Kingdom</td>\n",
       "      <td>53.58155</td>\n",
       "      <td>-1.52633</td>\n",
       "      <td>Barnsley</td>\n",
       "      <td>United Kingdom</td>\n",
       "      <td>1</td>\n",
       "      <td>27.685</td>\n",
       "      <td>0.0</td>\n",
       "      <td>0.0</td>\n",
       "      <td>NaN</td>\n",
       "      <td>0</td>\n",
       "    </tr>\n",
       "    <tr>\n",
       "      <th>7</th>\n",
       "      <td>7399581</td>\n",
       "      <td>A</td>\n",
       "      <td>NaN</td>\n",
       "      <td>2020-12-31</td>\n",
       "      <td>2020-12-31</td>\n",
       "      <td>5977</td>\n",
       "      <td>C/O GREENCORE FROZEN FOODS</td>\n",
       "      <td>11828</td>\n",
       "      <td>BRAKE BROS - PONTEFRACT/HEMSWORTH</td>\n",
       "      <td>53.77629</td>\n",
       "      <td>-1.52585</td>\n",
       "      <td>Leeds</td>\n",
       "      <td>United Kingdom</td>\n",
       "      <td>53.62632</td>\n",
       "      <td>-1.35656</td>\n",
       "      <td>Pontefract</td>\n",
       "      <td>United Kingdom</td>\n",
       "      <td>1</td>\n",
       "      <td>29.779</td>\n",
       "      <td>0.0</td>\n",
       "      <td>0.0</td>\n",
       "      <td>NaN</td>\n",
       "      <td>0</td>\n",
       "    </tr>\n",
       "    <tr>\n",
       "      <th>8</th>\n",
       "      <td>7399582</td>\n",
       "      <td>A</td>\n",
       "      <td>NaN</td>\n",
       "      <td>2020-12-30</td>\n",
       "      <td>2020-12-31</td>\n",
       "      <td>37964</td>\n",
       "      <td>WOODHEAD BROS</td>\n",
       "      <td>21225</td>\n",
       "      <td>DFDS SIMONSWOOD</td>\n",
       "      <td>53.84792</td>\n",
       "      <td>-2.19863</td>\n",
       "      <td>Colne</td>\n",
       "      <td>United Kingdom</td>\n",
       "      <td>53.50446</td>\n",
       "      <td>-2.84867</td>\n",
       "      <td>Liverpool</td>\n",
       "      <td>United Kingdom</td>\n",
       "      <td>1</td>\n",
       "      <td>79.157</td>\n",
       "      <td>1.0</td>\n",
       "      <td>0.0</td>\n",
       "      <td>NaN</td>\n",
       "      <td>0</td>\n",
       "    </tr>\n",
       "    <tr>\n",
       "      <th>9</th>\n",
       "      <td>7399583</td>\n",
       "      <td>A</td>\n",
       "      <td>NaN</td>\n",
       "      <td>2020-12-31</td>\n",
       "      <td>2020-12-31</td>\n",
       "      <td>9320</td>\n",
       "      <td>DFDS LIVERPOOL</td>\n",
       "      <td>78484</td>\n",
       "      <td>TESCO STORES - DONCASTER</td>\n",
       "      <td>53.50446</td>\n",
       "      <td>-2.84867</td>\n",
       "      <td>Liverpool</td>\n",
       "      <td>United Kingdom</td>\n",
       "      <td>53.51131</td>\n",
       "      <td>-1.12540</td>\n",
       "      <td>Doncaster</td>\n",
       "      <td>United Kingdom</td>\n",
       "      <td>1</td>\n",
       "      <td>167.201</td>\n",
       "      <td>1.0</td>\n",
       "      <td>0.0</td>\n",
       "      <td>NaN</td>\n",
       "      <td>0</td>\n",
       "    </tr>\n",
       "  </tbody>\n",
       "</table>\n",
       "</div>"
      ],
      "text/plain": [
       "   BookingId SubBookingName  Customer Name StartRequestedDate  \\\n",
       "0    7399574              A            NaN         2020-12-31   \n",
       "1    7399575              A            NaN         2020-12-31   \n",
       "2    7399576              A            NaN         2020-12-31   \n",
       "3    7399577              A            NaN         2020-12-31   \n",
       "4    7399578              A            NaN         2020-12-31   \n",
       "5    7399579              A            NaN         2020-12-31   \n",
       "6    7399580              A            NaN         2020-12-31   \n",
       "7    7399581              A            NaN         2020-12-31   \n",
       "8    7399582              A            NaN         2020-12-30   \n",
       "9    7399583              A            NaN         2020-12-31   \n",
       "\n",
       "  EndRequestedDate  FromLocation           FromLocationString  ToLocation  \\\n",
       "0       2020-12-31         33917                        TESCO       32289   \n",
       "1       2020-12-31          9443              DFDS SIMONSWOOD       57716   \n",
       "2       2020-12-31          9443              DFDS SIMONSWOOD       57716   \n",
       "3       2020-12-31          5977  C/O GREENCORE FROZEN FOODS         9831   \n",
       "4       2020-12-31          5977  C/O GREENCORE FROZEN FOODS         3182   \n",
       "5       2020-12-31          9320               DFDS LIVERPOOL       37777   \n",
       "6       2020-12-31          5977  C/O GREENCORE FROZEN FOODS        29662   \n",
       "7       2020-12-31          5977  C/O GREENCORE FROZEN FOODS        11828   \n",
       "8       2020-12-31         37964                WOODHEAD BROS       21225   \n",
       "9       2020-12-31          9320               DFDS LIVERPOOL       78484   \n",
       "\n",
       "                    ToLocationString  FromLatitude  FromLongitude   FromCity  \\\n",
       "0                        GRAYRENTALS      53.51131       -1.12540  YORKSHIRE   \n",
       "1        NORISH COLD STORAGE WREXHAM      53.50446       -2.84867  Liverpool   \n",
       "2        NORISH COLD STORAGE WREXHAM      53.50446       -2.84867  Liverpool   \n",
       "3                            BIDVEST      53.77629       -1.52585      Leeds   \n",
       "4                    ALDI STORES LTD      53.77629       -1.52585      Leeds   \n",
       "5                            ICELAND      53.50446       -2.84867  Liverpool   \n",
       "6                   FROZEN VALUE LTD      53.77629       -1.52585      Leeds   \n",
       "7  BRAKE BROS - PONTEFRACT/HEMSWORTH      53.77629       -1.52585      Leeds   \n",
       "8                    DFDS SIMONSWOOD      53.84792       -2.19863      Colne   \n",
       "9           TESCO STORES - DONCASTER      53.50446       -2.84867  Liverpool   \n",
       "\n",
       "      FromCountry  ToLatitude  ToLongitude      ToCity       ToCountry  \\\n",
       "0  United Kingdom    53.60475     -0.65636  SCUNTHORPE  United Kingdom   \n",
       "1  United Kingdom    53.04612     -2.92787     Wrexham  United Kingdom   \n",
       "2  United Kingdom    53.04612     -2.92787     Wrexham  United Kingdom   \n",
       "3  United Kingdom    53.71874     -1.41235   YORKSHIRE  United Kingdom   \n",
       "4  United Kingdom    55.87784     -3.65235    Bathgate  United Kingdom   \n",
       "5  United Kingdom    55.91412     -3.50947  LIVINGSTON  United Kingdom   \n",
       "6  United Kingdom    53.58155     -1.52633    Barnsley  United Kingdom   \n",
       "7  United Kingdom    53.62632     -1.35656  Pontefract  United Kingdom   \n",
       "8  United Kingdom    53.50446     -2.84867   Liverpool  United Kingdom   \n",
       "9  United Kingdom    53.51131     -1.12540   Doncaster  United Kingdom   \n",
       "\n",
       "   DomesticDelivery  RouteDistance  FullLoadIndicator  EmptyBookingIndicator  \\\n",
       "0                 1         46.346                1.0                    0.0   \n",
       "1                 1         78.192                1.0                    0.0   \n",
       "2                 1         78.192                1.0                    0.0   \n",
       "3                 1         17.733                0.0                    0.0   \n",
       "4                 1        369.340                1.0                    0.0   \n",
       "5                 1        362.516                0.0                    0.0   \n",
       "6                 1         27.685                0.0                    0.0   \n",
       "7                 1         29.779                0.0                    0.0   \n",
       "8                 1         79.157                1.0                    0.0   \n",
       "9                 1        167.201                1.0                    0.0   \n",
       "\n",
       "   Temperature  FrozenLoad  \n",
       "0          NaN           0  \n",
       "1          NaN           0  \n",
       "2          NaN           0  \n",
       "3          NaN           0  \n",
       "4          NaN           0  \n",
       "5          NaN           0  \n",
       "6          NaN           0  \n",
       "7          NaN           0  \n",
       "8          NaN           0  \n",
       "9          NaN           0  "
      ]
     },
     "execution_count": 87,
     "metadata": {},
     "output_type": "execute_result"
    }
   ],
   "source": [
    "# Look at final dataset\n",
    "\n",
    "df_final.head(10)"
   ]
  },
  {
   "attachments": {},
   "cell_type": "markdown",
   "metadata": {},
   "source": [
    "At this point, EDA and Pre-Processingof the data we received from DDFS is done. \n",
    "The last step now is to create two datasets for the following steps. \n",
    "\n",
    "1) For visualizations in Tableau, we keep 'df_final' but we rename it to 'df_deliveries' to emphasize that is it is delivery-based, meaning every row represents one delivery. "
   ]
  },
  {
   "cell_type": "code",
   "execution_count": 92,
   "metadata": {},
   "outputs": [
    {
     "data": {
      "text/plain": [
       "4973604"
      ]
     },
     "execution_count": 92,
     "metadata": {},
     "output_type": "execute_result"
    }
   ],
   "source": [
    "df_deliveries = df_final\n",
    "\n",
    "# Saving df_deliveries\n",
    "df_deliveries.to_csv('df_deliveries.csv', index=False)"
   ]
  },
  {
   "attachments": {},
   "cell_type": "markdown",
   "metadata": {},
   "source": [
    "2. For building the graph in the next steps, the dataframe df_final needs to be transformed. \n",
    "Currently, each row represents one delivery. However, we do need to transform this dataset in a way that every row represents a unique route. \n",
    "To do so, we again work with the 'routes_with_distance' dataset we created before.\n",
    "\n",
    "Please find a more detailed explanation of these important steps and why they were necessary i nth report."
   ]
  },
  {
   "cell_type": "code",
   "execution_count": 96,
   "metadata": {},
   "outputs": [
    {
     "name": "stdout",
     "output_type": "stream",
     "text": [
      "Number of unique routes: 206865\n"
     ]
    }
   ],
   "source": [
    "# Print number of unique routes\n",
    "print(\"Number of unique routes:\", len(routes_with_distance))"
   ]
  },
  {
   "cell_type": "code",
   "execution_count": null,
   "metadata": {},
   "outputs": [],
   "source": [
    "# Drop duplicates from df_final based on the four coordinate variables\n",
    "df_final_unique = df_final.drop_duplicates(subset=['FromLatitude', 'FromLongitude', 'ToLatitude', 'ToLongitude'])\n",
    "\n",
    "# Select the columns to merge from df_final\n",
    "columns_to_merge = ['FromLatitude', 'FromLongitude', 'ToLatitude', 'ToLongitude',\n",
    "                    'FromLocation', 'FromLocationString', 'ToLocation', 'ToLocationString', 'FromCity', 'ToCity', 'FromCountry', 'ToCountry', 'CustomerName']\n",
    "\n",
    "# Merge the two dataframes on the four coordinate variables\n",
    "df_routes = pd.merge(routes_with_distance, df_final_unique[columns_to_merge], on=['FromLatitude', 'FromLongitude', 'ToLatitude', 'ToLongitude'])"
   ]
  },
  {
   "cell_type": "code",
   "execution_count": null,
   "metadata": {},
   "outputs": [],
   "source": [
    "# Count the frequency of each unique route in df_final\n",
    "route_frequency = df_final.groupby(['FromLatitude', 'FromLongitude', 'ToLatitude', 'ToLongitude']).size().reset_index(name='RouteCount')\n",
    "\n",
    "# Merge the frequency information with merged_df\n",
    "df_routes = pd.merge(df_routes, route_frequency, on=['FromLatitude', 'FromLongitude', 'ToLatitude', 'ToLongitude'])"
   ]
  },
  {
   "cell_type": "code",
   "execution_count": null,
   "metadata": {},
   "outputs": [],
   "source": [
    "# Check if merge etc. worked\n",
    "df_routes.head()"
   ]
  },
  {
   "cell_type": "code",
   "execution_count": null,
   "metadata": {},
   "outputs": [],
   "source": [
    "# Sanity check: Does the total amount of routes add up? \n",
    "df_graph['route_count'].sum()"
   ]
  },
  {
   "cell_type": "code",
   "execution_count": 72,
   "metadata": {},
   "outputs": [],
   "source": [
    "# Saving df_routes\n",
    "df_routes.to_csv('df_routes.csv', index=False)"
   ]
  },
  {
   "cell_type": "code",
   "execution_count": null,
   "metadata": {},
   "outputs": [],
   "source": []
  }
 ],
 "metadata": {
  "kernelspec": {
   "display_name": "Python 3 (ipykernel)",
   "language": "python",
   "name": "python3"
  },
  "language_info": {
   "codemirror_mode": {
    "name": "ipython",
    "version": 3
   },
   "file_extension": ".py",
   "mimetype": "text/x-python",
   "name": "python",
   "nbconvert_exporter": "python",
   "pygments_lexer": "ipython3",
   "version": "3.9.7"
  },
  "vscode": {
   "interpreter": {
    "hash": "963c985a3ab934e468d0c83ad8f6cb085181b72f2da62ae8faec564842f144dd"
   }
  }
 },
 "nbformat": 4,
 "nbformat_minor": 2
}
