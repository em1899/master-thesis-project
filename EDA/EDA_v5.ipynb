{
 "cells": [
  {
   "attachments": {},
   "cell_type": "markdown",
   "metadata": {},
   "source": [
    "### Master Thesis Project: Finding optimal EV charging infrastructure on DFDS routes\n",
    "_________________________________________________________________________________________\n",
    "\n",
    "#### Students: Jan Gaydoul & Emanuela Zucchetto\n",
    "\n",
    "#### Code Part 1: Data Pre-processing, Exploratory Data Analysis, Feature Engineering and final datasets generation"
   ]
  },
  {
   "attachments": {},
   "cell_type": "markdown",
   "metadata": {},
   "source": [
    "This notebook contains the following steps:\n",
    "\n",
    "1) Loading the different data sources and merging them into one consolidated dataset \n",
    "2) Get a first overview of the data we are working with \n",
    "3) Checking missing values and dropping redundant variables\n",
    "4) Feature Deep Dive\n",
    "5) Feature Engineering\n",
    "6) Dataset Preparation\n",
    "\n",
    "This file outputs the three final datasets that are used as the basis for the further project:\n",
    "1) df_deliveries: this is the processed version of the original datasets\n",
    "2) df_routes: stores each route in the recorded in the df_deliveries dataset including the number of times they are travelled \n",
    "3) df_locations: aims at storing the each location (as geographical coordinates) appearing in the booking system with the frequency of how many times it appears and how many times it is a starting or ending location (also expressed in % form)\n",
    "______________________________________________________________________________________________________________"
   ]
  },
  {
   "cell_type": "code",
   "execution_count": 1,
   "metadata": {},
   "outputs": [],
   "source": [
    "# Importing needed libraries\n",
    "\n",
    "import pandas as pd\n",
    "pd.set_option('display.max_columns', None)\n",
    "\n",
    "import numpy as np\n",
    "import seaborn as sns\n",
    "import matplotlib.pyplot as plt\n",
    "import haversine as hs\n",
    "import requests\n",
    "import reverse_geocode\n",
    "\n",
    "from sklearn import preprocessing\n",
    "from sklearn.preprocessing import LabelEncoder"
   ]
  },
  {
   "attachments": {},
   "cell_type": "markdown",
   "metadata": {},
   "source": [
    "##### 1) Data Loading and Merging"
   ]
  },
  {
   "attachments": {},
   "cell_type": "markdown",
   "metadata": {},
   "source": [
    "In this first section the dataset by DFDS and a first exploration is done. The main action point deriving from that:\n",
    "- df_with_legs_1 and df_with_legs_2 are concatenated, since they are consecutive from a time perspective \n",
    "- the resulting data frame is merged with df based on BookingId, as it contains additional features. This is due to the fact that the files are pulled from different services within DFDS data infrastructure"
   ]
  },
  {
   "cell_type": "code",
   "execution_count": 2,
   "metadata": {},
   "outputs": [],
   "source": [
    "# Read three initial datasets (csv files) \n",
    "# Please note that the path has to be modified based on the location of the files on your local device. \n",
    "\n",
    "df = pd.read_csv(\"/Users/emanuelazucchetto/Desktop/Copenhagen Business School/Thesis/03_Data/Results_encoded.csv\")\n",
    "df_with_legs_1 = pd.read_csv(\"/Users/emanuelazucchetto/Desktop/Copenhagen Business School/Thesis/03_Data/booking_with_legs_2021-2022_encoded.csv\")\n",
    "df_with_legs_2 = pd.read_csv(\"/Users/emanuelazucchetto/Desktop/Copenhagen Business School/Thesis/03_Data/collections_bookings_with_legs_2022_encoded.csv\")"
   ]
  },
  {
   "cell_type": "code",
   "execution_count": 3,
   "metadata": {},
   "outputs": [],
   "source": [
    "# Creating copies of original datasets\n",
    "\n",
    "df_backup = df.copy()\n",
    "df_with_legs_1_backup = df_with_legs_1.copy()\n",
    "df_with_legs_2_backup = df_with_legs_2.copy()"
   ]
  },
  {
   "attachments": {},
   "cell_type": "markdown",
   "metadata": {},
   "source": [
    "From the observation of the first rows of each dataset it is possible to note that while df_with_legs_1 and df_with_legs_2 have the same structure, df structure differs\n",
    "In addition, the time frames of the datasets don't align 100%"
   ]
  },
  {
   "cell_type": "code",
   "execution_count": 4,
   "metadata": {},
   "outputs": [
    {
     "data": {
      "text/html": [
       "<div>\n",
       "<style scoped>\n",
       "    .dataframe tbody tr th:only-of-type {\n",
       "        vertical-align: middle;\n",
       "    }\n",
       "\n",
       "    .dataframe tbody tr th {\n",
       "        vertical-align: top;\n",
       "    }\n",
       "\n",
       "    .dataframe thead th {\n",
       "        text-align: right;\n",
       "    }\n",
       "</style>\n",
       "<table border=\"1\" class=\"dataframe\">\n",
       "  <thead>\n",
       "    <tr style=\"text-align: right;\">\n",
       "      <th></th>\n",
       "      <th>BookingId</th>\n",
       "      <th>BookingNumber</th>\n",
       "      <th>PlannedFirstCollectionDate</th>\n",
       "      <th>PlannedLastDeliveryDate</th>\n",
       "      <th>ActualFirstCollectionDate</th>\n",
       "      <th>ActualLastDeliveryDate</th>\n",
       "      <th>CreationDate</th>\n",
       "      <th>OrganizationName</th>\n",
       "      <th>TrafficDescription</th>\n",
       "      <th>FirstCollectionFreightLocation</th>\n",
       "      <th>FirstCollectionFreightLocationCity</th>\n",
       "      <th>FirstCollectionFreightLocationPostalCode</th>\n",
       "      <th>FirstCollectionFreightLocationCountry</th>\n",
       "      <th>FirstCollectionFreightLocationLongitudePositionDD</th>\n",
       "      <th>FirstCollectionFreightLocationLatitudePositionDD</th>\n",
       "      <th>LastDeliveryFreightLocation</th>\n",
       "      <th>LastDeliveryFreightLocationCity</th>\n",
       "      <th>LastDeliveryFreightLocationPostalCode</th>\n",
       "      <th>LastDeliveryFreightLocationCountry</th>\n",
       "      <th>LastDeliveryFreightLocationLongitudePositionDD</th>\n",
       "      <th>LastDeliveryFreightLocationLatitudePositionDD</th>\n",
       "      <th>FullLoadIndicator</th>\n",
       "      <th>EmptyBookingIndicator</th>\n",
       "      <th>Customer Name</th>\n",
       "      <th>Customer City</th>\n",
       "    </tr>\n",
       "  </thead>\n",
       "  <tbody>\n",
       "    <tr>\n",
       "      <th>0</th>\n",
       "      <td>6123633</td>\n",
       "      <td>petwarr16123633</td>\n",
       "      <td>2020-01-01 00:00:00.000</td>\n",
       "      <td>2020-01-01 00:00:00.000</td>\n",
       "      <td>1900-01-01 00:00:00.000</td>\n",
       "      <td>1900-01-01 00:00:00.000</td>\n",
       "      <td>2020-01-02 00:00:00.000</td>\n",
       "      <td>Peterborough</td>\n",
       "      <td>293</td>\n",
       "      <td>34610</td>\n",
       "      <td>Warrington</td>\n",
       "      <td>WA3 3JD</td>\n",
       "      <td>United Kingdom</td>\n",
       "      <td>-2.59099</td>\n",
       "      <td>53.46935</td>\n",
       "      <td>79995</td>\n",
       "      <td>Warrington</td>\n",
       "      <td>WA3 3JD</td>\n",
       "      <td>United Kingdom</td>\n",
       "      <td>-2.59099</td>\n",
       "      <td>53.46935</td>\n",
       "      <td>N</td>\n",
       "      <td>N</td>\n",
       "      <td>12243</td>\n",
       "      <td>Warrington</td>\n",
       "    </tr>\n",
       "    <tr>\n",
       "      <th>1</th>\n",
       "      <td>6123634</td>\n",
       "      <td>gotdome16123634</td>\n",
       "      <td>2020-01-02 00:00:00.000</td>\n",
       "      <td>2020-01-02 00:00:00.000</td>\n",
       "      <td>1900-01-01 00:00:00.000</td>\n",
       "      <td>1900-01-01 00:00:00.000</td>\n",
       "      <td>2020-01-02 00:00:00.000</td>\n",
       "      <td>Gothenburg</td>\n",
       "      <td>101</td>\n",
       "      <td>11876</td>\n",
       "      <td>Göteborg</td>\n",
       "      <td>418 79</td>\n",
       "      <td>Sweden</td>\n",
       "      <td>11.82177</td>\n",
       "      <td>57.71499</td>\n",
       "      <td>94771</td>\n",
       "      <td>Göteborg</td>\n",
       "      <td>418 79</td>\n",
       "      <td>Sweden</td>\n",
       "      <td>11.82862</td>\n",
       "      <td>57.71873</td>\n",
       "      <td>Y</td>\n",
       "      <td>N</td>\n",
       "      <td>15901</td>\n",
       "      <td>Göteborg</td>\n",
       "    </tr>\n",
       "    <tr>\n",
       "      <th>2</th>\n",
       "      <td>6123635</td>\n",
       "      <td>petwarr16123635</td>\n",
       "      <td>2020-01-01 00:00:00.000</td>\n",
       "      <td>2020-01-01 00:00:00.000</td>\n",
       "      <td>1900-01-01 00:00:00.000</td>\n",
       "      <td>1900-01-01 00:00:00.000</td>\n",
       "      <td>2020-01-02 00:00:00.000</td>\n",
       "      <td>Peterborough</td>\n",
       "      <td>293</td>\n",
       "      <td>34610</td>\n",
       "      <td>Warrington</td>\n",
       "      <td>WA3 3JD</td>\n",
       "      <td>United Kingdom</td>\n",
       "      <td>0.00000</td>\n",
       "      <td>0.00000</td>\n",
       "      <td>79995</td>\n",
       "      <td>Warrington</td>\n",
       "      <td>WA3 3JD</td>\n",
       "      <td>United Kingdom</td>\n",
       "      <td>0.00000</td>\n",
       "      <td>0.00000</td>\n",
       "      <td>N</td>\n",
       "      <td>N</td>\n",
       "      <td>12243</td>\n",
       "      <td>Warrington</td>\n",
       "    </tr>\n",
       "    <tr>\n",
       "      <th>3</th>\n",
       "      <td>6123636</td>\n",
       "      <td>gotflua16123636</td>\n",
       "      <td>2020-01-02 00:00:00.000</td>\n",
       "      <td>2020-01-02 00:00:00.000</td>\n",
       "      <td>2020-01-03 00:00:00.000</td>\n",
       "      <td>2020-01-02 00:00:00.000</td>\n",
       "      <td>2020-01-02 00:00:00.000</td>\n",
       "      <td>Karlshamn</td>\n",
       "      <td>216</td>\n",
       "      <td>11876</td>\n",
       "      <td>Göteborg</td>\n",
       "      <td>418 79</td>\n",
       "      <td>Sweden</td>\n",
       "      <td>11.82177</td>\n",
       "      <td>57.71499</td>\n",
       "      <td>15325</td>\n",
       "      <td>Olofström</td>\n",
       "      <td>418 79</td>\n",
       "      <td>Sweden</td>\n",
       "      <td>14.51683</td>\n",
       "      <td>56.28538</td>\n",
       "      <td>Y</td>\n",
       "      <td>N</td>\n",
       "      <td>15901</td>\n",
       "      <td>Göteborg</td>\n",
       "    </tr>\n",
       "    <tr>\n",
       "      <th>4</th>\n",
       "      <td>6123637</td>\n",
       "      <td>gotdome16123637</td>\n",
       "      <td>2020-01-02 00:00:00.000</td>\n",
       "      <td>2020-01-02 00:00:00.000</td>\n",
       "      <td>1900-01-01 00:00:00.000</td>\n",
       "      <td>1900-01-01 00:00:00.000</td>\n",
       "      <td>2020-01-02 00:00:00.000</td>\n",
       "      <td>Gothenburg</td>\n",
       "      <td>113</td>\n",
       "      <td>11876</td>\n",
       "      <td>Göteborg</td>\n",
       "      <td>418 79</td>\n",
       "      <td>Sweden</td>\n",
       "      <td>11.82177</td>\n",
       "      <td>57.71499</td>\n",
       "      <td>103154</td>\n",
       "      <td>Skövde</td>\n",
       "      <td>418 79</td>\n",
       "      <td>Sweden</td>\n",
       "      <td>13.87343</td>\n",
       "      <td>58.38001</td>\n",
       "      <td>Y</td>\n",
       "      <td>N</td>\n",
       "      <td>15901</td>\n",
       "      <td>Göteborg</td>\n",
       "    </tr>\n",
       "  </tbody>\n",
       "</table>\n",
       "</div>"
      ],
      "text/plain": [
       "   BookingId    BookingNumber PlannedFirstCollectionDate  \\\n",
       "0    6123633  petwarr16123633    2020-01-01 00:00:00.000   \n",
       "1    6123634  gotdome16123634    2020-01-02 00:00:00.000   \n",
       "2    6123635  petwarr16123635    2020-01-01 00:00:00.000   \n",
       "3    6123636  gotflua16123636    2020-01-02 00:00:00.000   \n",
       "4    6123637  gotdome16123637    2020-01-02 00:00:00.000   \n",
       "\n",
       "   PlannedLastDeliveryDate ActualFirstCollectionDate   ActualLastDeliveryDate  \\\n",
       "0  2020-01-01 00:00:00.000   1900-01-01 00:00:00.000  1900-01-01 00:00:00.000   \n",
       "1  2020-01-02 00:00:00.000   1900-01-01 00:00:00.000  1900-01-01 00:00:00.000   \n",
       "2  2020-01-01 00:00:00.000   1900-01-01 00:00:00.000  1900-01-01 00:00:00.000   \n",
       "3  2020-01-02 00:00:00.000   2020-01-03 00:00:00.000  2020-01-02 00:00:00.000   \n",
       "4  2020-01-02 00:00:00.000   1900-01-01 00:00:00.000  1900-01-01 00:00:00.000   \n",
       "\n",
       "              CreationDate OrganizationName  TrafficDescription  \\\n",
       "0  2020-01-02 00:00:00.000     Peterborough                 293   \n",
       "1  2020-01-02 00:00:00.000       Gothenburg                 101   \n",
       "2  2020-01-02 00:00:00.000     Peterborough                 293   \n",
       "3  2020-01-02 00:00:00.000        Karlshamn                 216   \n",
       "4  2020-01-02 00:00:00.000       Gothenburg                 113   \n",
       "\n",
       "   FirstCollectionFreightLocation FirstCollectionFreightLocationCity  \\\n",
       "0                           34610                         Warrington   \n",
       "1                           11876                           Göteborg   \n",
       "2                           34610                         Warrington   \n",
       "3                           11876                           Göteborg   \n",
       "4                           11876                           Göteborg   \n",
       "\n",
       "  FirstCollectionFreightLocationPostalCode  \\\n",
       "0                                  WA3 3JD   \n",
       "1                                   418 79   \n",
       "2                                  WA3 3JD   \n",
       "3                                   418 79   \n",
       "4                                   418 79   \n",
       "\n",
       "  FirstCollectionFreightLocationCountry  \\\n",
       "0                        United Kingdom   \n",
       "1                                Sweden   \n",
       "2                        United Kingdom   \n",
       "3                                Sweden   \n",
       "4                                Sweden   \n",
       "\n",
       "   FirstCollectionFreightLocationLongitudePositionDD  \\\n",
       "0                                           -2.59099   \n",
       "1                                           11.82177   \n",
       "2                                            0.00000   \n",
       "3                                           11.82177   \n",
       "4                                           11.82177   \n",
       "\n",
       "   FirstCollectionFreightLocationLatitudePositionDD  \\\n",
       "0                                          53.46935   \n",
       "1                                          57.71499   \n",
       "2                                           0.00000   \n",
       "3                                          57.71499   \n",
       "4                                          57.71499   \n",
       "\n",
       "   LastDeliveryFreightLocation LastDeliveryFreightLocationCity  \\\n",
       "0                        79995                      Warrington   \n",
       "1                        94771                        Göteborg   \n",
       "2                        79995                      Warrington   \n",
       "3                        15325                       Olofström   \n",
       "4                       103154                          Skövde   \n",
       "\n",
       "  LastDeliveryFreightLocationPostalCode LastDeliveryFreightLocationCountry  \\\n",
       "0                               WA3 3JD                     United Kingdom   \n",
       "1                                418 79                             Sweden   \n",
       "2                               WA3 3JD                     United Kingdom   \n",
       "3                                418 79                             Sweden   \n",
       "4                                418 79                             Sweden   \n",
       "\n",
       "   LastDeliveryFreightLocationLongitudePositionDD  \\\n",
       "0                                        -2.59099   \n",
       "1                                        11.82862   \n",
       "2                                         0.00000   \n",
       "3                                        14.51683   \n",
       "4                                        13.87343   \n",
       "\n",
       "   LastDeliveryFreightLocationLatitudePositionDD FullLoadIndicator  \\\n",
       "0                                       53.46935                 N   \n",
       "1                                       57.71873                 Y   \n",
       "2                                        0.00000                 N   \n",
       "3                                       56.28538                 Y   \n",
       "4                                       58.38001                 Y   \n",
       "\n",
       "  EmptyBookingIndicator  Customer Name Customer City  \n",
       "0                     N          12243    Warrington  \n",
       "1                     N          15901      Göteborg  \n",
       "2                     N          12243    Warrington  \n",
       "3                     N          15901      Göteborg  \n",
       "4                     N          15901      Göteborg  "
      ]
     },
     "execution_count": 4,
     "metadata": {},
     "output_type": "execute_result"
    }
   ],
   "source": [
    "df.head()"
   ]
  },
  {
   "cell_type": "code",
   "execution_count": 5,
   "metadata": {},
   "outputs": [
    {
     "data": {
      "text/html": [
       "<div>\n",
       "<style scoped>\n",
       "    .dataframe tbody tr th:only-of-type {\n",
       "        vertical-align: middle;\n",
       "    }\n",
       "\n",
       "    .dataframe tbody tr th {\n",
       "        vertical-align: top;\n",
       "    }\n",
       "\n",
       "    .dataframe thead th {\n",
       "        text-align: right;\n",
       "    }\n",
       "</style>\n",
       "<table border=\"1\" class=\"dataframe\">\n",
       "  <thead>\n",
       "    <tr style=\"text-align: right;\">\n",
       "      <th></th>\n",
       "      <th>BookingId</th>\n",
       "      <th>SubBookingName</th>\n",
       "      <th>SubBookingLegId</th>\n",
       "      <th>StartLegLocationId</th>\n",
       "      <th>EndLegLocationId</th>\n",
       "      <th>FromLocation</th>\n",
       "      <th>ToLocation</th>\n",
       "      <th>TransportId</th>\n",
       "      <th>StartRequestedDate</th>\n",
       "      <th>EndRequestedDate</th>\n",
       "      <th>GrossWeight</th>\n",
       "      <th>LoadMetres</th>\n",
       "      <th>CubicMetres</th>\n",
       "      <th>Length</th>\n",
       "      <th>Width</th>\n",
       "      <th>Height</th>\n",
       "      <th>Temperature</th>\n",
       "      <th>FromLatitude</th>\n",
       "      <th>FromLongtitude</th>\n",
       "      <th>FromCity</th>\n",
       "      <th>FromCountry</th>\n",
       "      <th>ToLatitude</th>\n",
       "      <th>ToLongtitude</th>\n",
       "      <th>ToCity</th>\n",
       "      <th>ToCountry</th>\n",
       "    </tr>\n",
       "  </thead>\n",
       "  <tbody>\n",
       "    <tr>\n",
       "      <th>0</th>\n",
       "      <td>7399574</td>\n",
       "      <td>A</td>\n",
       "      <td>8266605</td>\n",
       "      <td>132168</td>\n",
       "      <td>124047</td>\n",
       "      <td>19635</td>\n",
       "      <td>19104</td>\n",
       "      <td>NaN</td>\n",
       "      <td>2020-12-31</td>\n",
       "      <td>2020-12-31</td>\n",
       "      <td>0.0</td>\n",
       "      <td>0.0</td>\n",
       "      <td>0.0</td>\n",
       "      <td>NaN</td>\n",
       "      <td>NaN</td>\n",
       "      <td>NaN</td>\n",
       "      <td>NaN</td>\n",
       "      <td>53.51131</td>\n",
       "      <td>-1.12540</td>\n",
       "      <td>YORKSHIRE</td>\n",
       "      <td>United Kingdom</td>\n",
       "      <td>53.60475</td>\n",
       "      <td>-0.65636</td>\n",
       "      <td>SCUNTHORPE</td>\n",
       "      <td>United Kingdom</td>\n",
       "    </tr>\n",
       "    <tr>\n",
       "      <th>1</th>\n",
       "      <td>7399575</td>\n",
       "      <td>A</td>\n",
       "      <td>8266607</td>\n",
       "      <td>243727</td>\n",
       "      <td>27597</td>\n",
       "      <td>5530</td>\n",
       "      <td>34030</td>\n",
       "      <td>NaN</td>\n",
       "      <td>2020-12-31</td>\n",
       "      <td>2020-12-31</td>\n",
       "      <td>0.0</td>\n",
       "      <td>0.0</td>\n",
       "      <td>0.0</td>\n",
       "      <td>NaN</td>\n",
       "      <td>NaN</td>\n",
       "      <td>NaN</td>\n",
       "      <td>NaN</td>\n",
       "      <td>53.50446</td>\n",
       "      <td>-2.84867</td>\n",
       "      <td>Liverpool</td>\n",
       "      <td>United Kingdom</td>\n",
       "      <td>53.04612</td>\n",
       "      <td>-2.92787</td>\n",
       "      <td>Wrexham</td>\n",
       "      <td>United Kingdom</td>\n",
       "    </tr>\n",
       "    <tr>\n",
       "      <th>2</th>\n",
       "      <td>7399576</td>\n",
       "      <td>A</td>\n",
       "      <td>8266606</td>\n",
       "      <td>243727</td>\n",
       "      <td>27597</td>\n",
       "      <td>5530</td>\n",
       "      <td>34030</td>\n",
       "      <td>NaN</td>\n",
       "      <td>2020-12-31</td>\n",
       "      <td>2020-12-31</td>\n",
       "      <td>0.0</td>\n",
       "      <td>0.0</td>\n",
       "      <td>0.0</td>\n",
       "      <td>NaN</td>\n",
       "      <td>NaN</td>\n",
       "      <td>NaN</td>\n",
       "      <td>NaN</td>\n",
       "      <td>53.50446</td>\n",
       "      <td>-2.84867</td>\n",
       "      <td>Liverpool</td>\n",
       "      <td>United Kingdom</td>\n",
       "      <td>53.04612</td>\n",
       "      <td>-2.92787</td>\n",
       "      <td>Wrexham</td>\n",
       "      <td>United Kingdom</td>\n",
       "    </tr>\n",
       "    <tr>\n",
       "      <th>3</th>\n",
       "      <td>7399577</td>\n",
       "      <td>A</td>\n",
       "      <td>8266608</td>\n",
       "      <td>29361</td>\n",
       "      <td>108395</td>\n",
       "      <td>3392</td>\n",
       "      <td>5652</td>\n",
       "      <td>NaN</td>\n",
       "      <td>2020-12-31</td>\n",
       "      <td>2020-12-31</td>\n",
       "      <td>0.0</td>\n",
       "      <td>0.0</td>\n",
       "      <td>0.0</td>\n",
       "      <td>NaN</td>\n",
       "      <td>NaN</td>\n",
       "      <td>NaN</td>\n",
       "      <td>NaN</td>\n",
       "      <td>53.77629</td>\n",
       "      <td>-1.52585</td>\n",
       "      <td>Leeds</td>\n",
       "      <td>United Kingdom</td>\n",
       "      <td>53.71874</td>\n",
       "      <td>-1.41235</td>\n",
       "      <td>YORKSHIRE</td>\n",
       "      <td>United Kingdom</td>\n",
       "    </tr>\n",
       "    <tr>\n",
       "      <th>4</th>\n",
       "      <td>7399578</td>\n",
       "      <td>A</td>\n",
       "      <td>8266609</td>\n",
       "      <td>29361</td>\n",
       "      <td>69407</td>\n",
       "      <td>3392</td>\n",
       "      <td>1782</td>\n",
       "      <td>NaN</td>\n",
       "      <td>2020-12-31</td>\n",
       "      <td>2020-12-31</td>\n",
       "      <td>0.0</td>\n",
       "      <td>0.0</td>\n",
       "      <td>0.0</td>\n",
       "      <td>NaN</td>\n",
       "      <td>NaN</td>\n",
       "      <td>NaN</td>\n",
       "      <td>NaN</td>\n",
       "      <td>53.77629</td>\n",
       "      <td>-1.52585</td>\n",
       "      <td>Leeds</td>\n",
       "      <td>United Kingdom</td>\n",
       "      <td>55.87784</td>\n",
       "      <td>-3.65235</td>\n",
       "      <td>Bathgate</td>\n",
       "      <td>United Kingdom</td>\n",
       "    </tr>\n",
       "  </tbody>\n",
       "</table>\n",
       "</div>"
      ],
      "text/plain": [
       "   BookingId SubBookingName  SubBookingLegId  StartLegLocationId  \\\n",
       "0    7399574              A          8266605              132168   \n",
       "1    7399575              A          8266607              243727   \n",
       "2    7399576              A          8266606              243727   \n",
       "3    7399577              A          8266608               29361   \n",
       "4    7399578              A          8266609               29361   \n",
       "\n",
       "   EndLegLocationId  FromLocation  ToLocation  TransportId StartRequestedDate  \\\n",
       "0            124047         19635       19104          NaN         2020-12-31   \n",
       "1             27597          5530       34030          NaN         2020-12-31   \n",
       "2             27597          5530       34030          NaN         2020-12-31   \n",
       "3            108395          3392        5652          NaN         2020-12-31   \n",
       "4             69407          3392        1782          NaN         2020-12-31   \n",
       "\n",
       "  EndRequestedDate  GrossWeight  LoadMetres  CubicMetres  Length  Width  \\\n",
       "0       2020-12-31          0.0         0.0          0.0     NaN    NaN   \n",
       "1       2020-12-31          0.0         0.0          0.0     NaN    NaN   \n",
       "2       2020-12-31          0.0         0.0          0.0     NaN    NaN   \n",
       "3       2020-12-31          0.0         0.0          0.0     NaN    NaN   \n",
       "4       2020-12-31          0.0         0.0          0.0     NaN    NaN   \n",
       "\n",
       "   Height  Temperature  FromLatitude  FromLongtitude   FromCity  \\\n",
       "0     NaN          NaN      53.51131        -1.12540  YORKSHIRE   \n",
       "1     NaN          NaN      53.50446        -2.84867  Liverpool   \n",
       "2     NaN          NaN      53.50446        -2.84867  Liverpool   \n",
       "3     NaN          NaN      53.77629        -1.52585      Leeds   \n",
       "4     NaN          NaN      53.77629        -1.52585      Leeds   \n",
       "\n",
       "      FromCountry  ToLatitude  ToLongtitude      ToCity       ToCountry  \n",
       "0  United Kingdom    53.60475      -0.65636  SCUNTHORPE  United Kingdom  \n",
       "1  United Kingdom    53.04612      -2.92787     Wrexham  United Kingdom  \n",
       "2  United Kingdom    53.04612      -2.92787     Wrexham  United Kingdom  \n",
       "3  United Kingdom    53.71874      -1.41235   YORKSHIRE  United Kingdom  \n",
       "4  United Kingdom    55.87784      -3.65235    Bathgate  United Kingdom  "
      ]
     },
     "execution_count": 5,
     "metadata": {},
     "output_type": "execute_result"
    }
   ],
   "source": [
    "df_with_legs_1.head()"
   ]
  },
  {
   "cell_type": "code",
   "execution_count": 6,
   "metadata": {},
   "outputs": [
    {
     "data": {
      "text/html": [
       "<div>\n",
       "<style scoped>\n",
       "    .dataframe tbody tr th:only-of-type {\n",
       "        vertical-align: middle;\n",
       "    }\n",
       "\n",
       "    .dataframe tbody tr th {\n",
       "        vertical-align: top;\n",
       "    }\n",
       "\n",
       "    .dataframe thead th {\n",
       "        text-align: right;\n",
       "    }\n",
       "</style>\n",
       "<table border=\"1\" class=\"dataframe\">\n",
       "  <thead>\n",
       "    <tr style=\"text-align: right;\">\n",
       "      <th></th>\n",
       "      <th>BookingId</th>\n",
       "      <th>SubBookingName</th>\n",
       "      <th>SubBookingLegId</th>\n",
       "      <th>StartLegLocationId</th>\n",
       "      <th>EndLegLocationId</th>\n",
       "      <th>FromLocation</th>\n",
       "      <th>ToLocation</th>\n",
       "      <th>TransportId</th>\n",
       "      <th>StartRequestedDate</th>\n",
       "      <th>EndRequestedDate</th>\n",
       "      <th>GrossWeight</th>\n",
       "      <th>LoadMetres</th>\n",
       "      <th>CubicMetres</th>\n",
       "      <th>Length</th>\n",
       "      <th>Width</th>\n",
       "      <th>Height</th>\n",
       "      <th>Temperature</th>\n",
       "      <th>FromLatitude</th>\n",
       "      <th>FromLongtitude</th>\n",
       "      <th>FromCity</th>\n",
       "      <th>FromCountry</th>\n",
       "      <th>ToLatitude</th>\n",
       "      <th>ToLongtitude</th>\n",
       "      <th>ToCity</th>\n",
       "      <th>ToCountry</th>\n",
       "    </tr>\n",
       "  </thead>\n",
       "  <tbody>\n",
       "    <tr>\n",
       "      <th>0</th>\n",
       "      <td>9031814</td>\n",
       "      <td>A</td>\n",
       "      <td>11006604</td>\n",
       "      <td>219248</td>\n",
       "      <td>45984</td>\n",
       "      <td>14358</td>\n",
       "      <td>25360</td>\n",
       "      <td>4297407.0</td>\n",
       "      <td>2022-01-04</td>\n",
       "      <td>2022-01-04</td>\n",
       "      <td>0.0</td>\n",
       "      <td>7.5</td>\n",
       "      <td>0.0</td>\n",
       "      <td>NaN</td>\n",
       "      <td>NaN</td>\n",
       "      <td>NaN</td>\n",
       "      <td>NaN</td>\n",
       "      <td>53.47114</td>\n",
       "      <td>-2.85863</td>\n",
       "      <td>Liverpool</td>\n",
       "      <td>United Kingdom</td>\n",
       "      <td>53.37030</td>\n",
       "      <td>-1.36706</td>\n",
       "      <td>Sheffield</td>\n",
       "      <td>United Kingdom</td>\n",
       "    </tr>\n",
       "    <tr>\n",
       "      <th>1</th>\n",
       "      <td>9031814</td>\n",
       "      <td>B</td>\n",
       "      <td>11006603</td>\n",
       "      <td>219248</td>\n",
       "      <td>313716</td>\n",
       "      <td>14358</td>\n",
       "      <td>440</td>\n",
       "      <td>4297407.0</td>\n",
       "      <td>2022-01-04</td>\n",
       "      <td>2022-01-04</td>\n",
       "      <td>0.0</td>\n",
       "      <td>3.0</td>\n",
       "      <td>0.0</td>\n",
       "      <td>NaN</td>\n",
       "      <td>NaN</td>\n",
       "      <td>NaN</td>\n",
       "      <td>NaN</td>\n",
       "      <td>53.47114</td>\n",
       "      <td>-2.85863</td>\n",
       "      <td>Liverpool</td>\n",
       "      <td>United Kingdom</td>\n",
       "      <td>53.72657</td>\n",
       "      <td>-1.47493</td>\n",
       "      <td>LEEDS</td>\n",
       "      <td>United Kingdom</td>\n",
       "    </tr>\n",
       "    <tr>\n",
       "      <th>2</th>\n",
       "      <td>9031815</td>\n",
       "      <td>A</td>\n",
       "      <td>11006606</td>\n",
       "      <td>219248</td>\n",
       "      <td>226398</td>\n",
       "      <td>14358</td>\n",
       "      <td>8290</td>\n",
       "      <td>4297408.0</td>\n",
       "      <td>2022-01-04</td>\n",
       "      <td>2022-01-04</td>\n",
       "      <td>0.0</td>\n",
       "      <td>2.5</td>\n",
       "      <td>0.0</td>\n",
       "      <td>NaN</td>\n",
       "      <td>NaN</td>\n",
       "      <td>NaN</td>\n",
       "      <td>NaN</td>\n",
       "      <td>53.47114</td>\n",
       "      <td>-2.85863</td>\n",
       "      <td>Liverpool</td>\n",
       "      <td>United Kingdom</td>\n",
       "      <td>53.41519</td>\n",
       "      <td>-2.65811</td>\n",
       "      <td>Warrington</td>\n",
       "      <td>United Kingdom</td>\n",
       "    </tr>\n",
       "    <tr>\n",
       "      <th>3</th>\n",
       "      <td>9031815</td>\n",
       "      <td>B</td>\n",
       "      <td>11006605</td>\n",
       "      <td>219248</td>\n",
       "      <td>104866</td>\n",
       "      <td>14358</td>\n",
       "      <td>26299</td>\n",
       "      <td>4297408.0</td>\n",
       "      <td>2022-01-04</td>\n",
       "      <td>2022-01-04</td>\n",
       "      <td>0.0</td>\n",
       "      <td>7.5</td>\n",
       "      <td>0.0</td>\n",
       "      <td>NaN</td>\n",
       "      <td>NaN</td>\n",
       "      <td>NaN</td>\n",
       "      <td>NaN</td>\n",
       "      <td>53.47114</td>\n",
       "      <td>-2.85863</td>\n",
       "      <td>Liverpool</td>\n",
       "      <td>United Kingdom</td>\n",
       "      <td>53.40374</td>\n",
       "      <td>-2.52728</td>\n",
       "      <td>Warrington</td>\n",
       "      <td>United Kingdom</td>\n",
       "    </tr>\n",
       "    <tr>\n",
       "      <th>4</th>\n",
       "      <td>9031816</td>\n",
       "      <td>A</td>\n",
       "      <td>11006607</td>\n",
       "      <td>494</td>\n",
       "      <td>268078</td>\n",
       "      <td>15810</td>\n",
       "      <td>33531</td>\n",
       "      <td>4298106.0</td>\n",
       "      <td>2022-01-04</td>\n",
       "      <td>2022-01-04</td>\n",
       "      <td>19436.0</td>\n",
       "      <td>0.0</td>\n",
       "      <td>0.0</td>\n",
       "      <td>NaN</td>\n",
       "      <td>NaN</td>\n",
       "      <td>NaN</td>\n",
       "      <td>NaN</td>\n",
       "      <td>52.55913</td>\n",
       "      <td>-0.17384</td>\n",
       "      <td>Peterborough - McCains</td>\n",
       "      <td>United Kingdom</td>\n",
       "      <td>52.53329</td>\n",
       "      <td>-0.30444</td>\n",
       "      <td>Peterborough - Lineage</td>\n",
       "      <td>United Kingdom</td>\n",
       "    </tr>\n",
       "  </tbody>\n",
       "</table>\n",
       "</div>"
      ],
      "text/plain": [
       "   BookingId SubBookingName  SubBookingLegId  StartLegLocationId  \\\n",
       "0    9031814              A         11006604              219248   \n",
       "1    9031814              B         11006603              219248   \n",
       "2    9031815              A         11006606              219248   \n",
       "3    9031815              B         11006605              219248   \n",
       "4    9031816              A         11006607                 494   \n",
       "\n",
       "   EndLegLocationId  FromLocation  ToLocation  TransportId StartRequestedDate  \\\n",
       "0             45984         14358       25360    4297407.0         2022-01-04   \n",
       "1            313716         14358         440    4297407.0         2022-01-04   \n",
       "2            226398         14358        8290    4297408.0         2022-01-04   \n",
       "3            104866         14358       26299    4297408.0         2022-01-04   \n",
       "4            268078         15810       33531    4298106.0         2022-01-04   \n",
       "\n",
       "  EndRequestedDate  GrossWeight  LoadMetres  CubicMetres  Length  Width  \\\n",
       "0       2022-01-04          0.0         7.5          0.0     NaN    NaN   \n",
       "1       2022-01-04          0.0         3.0          0.0     NaN    NaN   \n",
       "2       2022-01-04          0.0         2.5          0.0     NaN    NaN   \n",
       "3       2022-01-04          0.0         7.5          0.0     NaN    NaN   \n",
       "4       2022-01-04      19436.0         0.0          0.0     NaN    NaN   \n",
       "\n",
       "   Height  Temperature  FromLatitude  FromLongtitude                FromCity  \\\n",
       "0     NaN          NaN      53.47114        -2.85863               Liverpool   \n",
       "1     NaN          NaN      53.47114        -2.85863               Liverpool   \n",
       "2     NaN          NaN      53.47114        -2.85863               Liverpool   \n",
       "3     NaN          NaN      53.47114        -2.85863               Liverpool   \n",
       "4     NaN          NaN      52.55913        -0.17384  Peterborough - McCains   \n",
       "\n",
       "      FromCountry  ToLatitude  ToLongtitude                  ToCity  \\\n",
       "0  United Kingdom    53.37030      -1.36706               Sheffield   \n",
       "1  United Kingdom    53.72657      -1.47493                   LEEDS   \n",
       "2  United Kingdom    53.41519      -2.65811              Warrington   \n",
       "3  United Kingdom    53.40374      -2.52728              Warrington   \n",
       "4  United Kingdom    52.53329      -0.30444  Peterborough - Lineage   \n",
       "\n",
       "        ToCountry  \n",
       "0  United Kingdom  \n",
       "1  United Kingdom  \n",
       "2  United Kingdom  \n",
       "3  United Kingdom  \n",
       "4  United Kingdom  "
      ]
     },
     "execution_count": 6,
     "metadata": {},
     "output_type": "execute_result"
    }
   ],
   "source": [
    "df_with_legs_2.head()"
   ]
  },
  {
   "attachments": {},
   "cell_type": "markdown",
   "metadata": {},
   "source": [
    "After having double-checked that the structure of df_with_legs_1 and df_with_legs_2 corresponds, the datasets are concatenated"
   ]
  },
  {
   "cell_type": "code",
   "execution_count": 7,
   "metadata": {},
   "outputs": [
    {
     "data": {
      "text/plain": [
       "array([ True,  True,  True,  True,  True,  True,  True,  True,  True,\n",
       "        True,  True,  True,  True,  True,  True,  True,  True,  True,\n",
       "        True,  True,  True,  True,  True,  True,  True])"
      ]
     },
     "execution_count": 7,
     "metadata": {},
     "output_type": "execute_result"
    }
   ],
   "source": [
    "# Check if two dfs with legs have the same columns (and if we therefore are able to merge them)\n",
    "\n",
    "df_with_legs_1.columns == df_with_legs_2.columns"
   ]
  },
  {
   "cell_type": "code",
   "execution_count": 8,
   "metadata": {},
   "outputs": [
    {
     "name": "stdout",
     "output_type": "stream",
     "text": [
      "2314233    9031810\n",
      "2314234    9031811\n",
      "2314235    9031811\n",
      "2314236    9031812\n",
      "2314237    9031813\n",
      "Name: BookingId, dtype: int64 0    9031814\n",
      "1    9031814\n",
      "2    9031815\n",
      "3    9031815\n",
      "4    9031816\n",
      "Name: BookingId, dtype: int64\n"
     ]
    }
   ],
   "source": [
    "# From the BookingId we can see that df_with_legs_1/2 are consecutive --> since all columns are the same we can directly concatenate them \n",
    "\n",
    "print(df_with_legs_1[\"BookingId\"].tail(), df_with_legs_2[\"BookingId\"].head())"
   ]
  },
  {
   "cell_type": "code",
   "execution_count": 9,
   "metadata": {},
   "outputs": [],
   "source": [
    "# Concatenating datasets so we can work with one consolidated dataset:\n",
    "\n",
    "df_final = pd.concat([df_with_legs_1, df_with_legs_2], ignore_index = True)"
   ]
  },
  {
   "cell_type": "code",
   "execution_count": 10,
   "metadata": {},
   "outputs": [
    {
     "data": {
      "text/plain": [
       "(5011926, 25)"
      ]
     },
     "execution_count": 10,
     "metadata": {},
     "output_type": "execute_result"
    }
   ],
   "source": [
    "# Consolidated dataset has ~5m rows and 25 columns\n",
    "\n",
    "df_final.shape "
   ]
  },
  {
   "attachments": {},
   "cell_type": "markdown",
   "metadata": {},
   "source": [
    "There are different representations of the same booking in the two systems.  \n",
    "Find example of BookingId 9031814 below:"
   ]
  },
  {
   "cell_type": "code",
   "execution_count": 11,
   "metadata": {},
   "outputs": [
    {
     "data": {
      "text/html": [
       "<div>\n",
       "<style scoped>\n",
       "    .dataframe tbody tr th:only-of-type {\n",
       "        vertical-align: middle;\n",
       "    }\n",
       "\n",
       "    .dataframe tbody tr th {\n",
       "        vertical-align: top;\n",
       "    }\n",
       "\n",
       "    .dataframe thead th {\n",
       "        text-align: right;\n",
       "    }\n",
       "</style>\n",
       "<table border=\"1\" class=\"dataframe\">\n",
       "  <thead>\n",
       "    <tr style=\"text-align: right;\">\n",
       "      <th></th>\n",
       "      <th>BookingId</th>\n",
       "      <th>BookingNumber</th>\n",
       "      <th>PlannedFirstCollectionDate</th>\n",
       "      <th>PlannedLastDeliveryDate</th>\n",
       "      <th>ActualFirstCollectionDate</th>\n",
       "      <th>ActualLastDeliveryDate</th>\n",
       "      <th>CreationDate</th>\n",
       "      <th>OrganizationName</th>\n",
       "      <th>TrafficDescription</th>\n",
       "      <th>FirstCollectionFreightLocation</th>\n",
       "      <th>FirstCollectionFreightLocationCity</th>\n",
       "      <th>FirstCollectionFreightLocationPostalCode</th>\n",
       "      <th>FirstCollectionFreightLocationCountry</th>\n",
       "      <th>FirstCollectionFreightLocationLongitudePositionDD</th>\n",
       "      <th>FirstCollectionFreightLocationLatitudePositionDD</th>\n",
       "      <th>LastDeliveryFreightLocation</th>\n",
       "      <th>LastDeliveryFreightLocationCity</th>\n",
       "      <th>LastDeliveryFreightLocationPostalCode</th>\n",
       "      <th>LastDeliveryFreightLocationCountry</th>\n",
       "      <th>LastDeliveryFreightLocationLongitudePositionDD</th>\n",
       "      <th>LastDeliveryFreightLocationLatitudePositionDD</th>\n",
       "      <th>FullLoadIndicator</th>\n",
       "      <th>EmptyBookingIndicator</th>\n",
       "      <th>Customer Name</th>\n",
       "      <th>Customer City</th>\n",
       "    </tr>\n",
       "  </thead>\n",
       "  <tbody>\n",
       "    <tr>\n",
       "      <th>2703963</th>\n",
       "      <td>9031814</td>\n",
       "      <td>petcher19031814</td>\n",
       "      <td>2022-01-04 00:00:00.000</td>\n",
       "      <td>2022-01-04 00:00:00.000</td>\n",
       "      <td>2022-01-04 00:00:00.000</td>\n",
       "      <td>2022-01-04 00:00:00.000</td>\n",
       "      <td>2022-01-01 00:00:00.000</td>\n",
       "      <td>Peterborough</td>\n",
       "      <td>270</td>\n",
       "      <td>25112</td>\n",
       "      <td>Liverpool</td>\n",
       "      <td>L33 7YQ</td>\n",
       "      <td>United Kingdom</td>\n",
       "      <td>-2.85863</td>\n",
       "      <td>53.47114</td>\n",
       "      <td>656</td>\n",
       "      <td>LEEDS</td>\n",
       "      <td>L33 7YQ</td>\n",
       "      <td>United Kingdom</td>\n",
       "      <td>-1.47493</td>\n",
       "      <td>53.72657</td>\n",
       "      <td>Y</td>\n",
       "      <td>N</td>\n",
       "      <td>14113</td>\n",
       "      <td>Bridgwater</td>\n",
       "    </tr>\n",
       "  </tbody>\n",
       "</table>\n",
       "</div>"
      ],
      "text/plain": [
       "         BookingId    BookingNumber PlannedFirstCollectionDate  \\\n",
       "2703963    9031814  petcher19031814    2022-01-04 00:00:00.000   \n",
       "\n",
       "         PlannedLastDeliveryDate ActualFirstCollectionDate  \\\n",
       "2703963  2022-01-04 00:00:00.000   2022-01-04 00:00:00.000   \n",
       "\n",
       "          ActualLastDeliveryDate             CreationDate OrganizationName  \\\n",
       "2703963  2022-01-04 00:00:00.000  2022-01-01 00:00:00.000     Peterborough   \n",
       "\n",
       "         TrafficDescription  FirstCollectionFreightLocation  \\\n",
       "2703963                 270                           25112   \n",
       "\n",
       "        FirstCollectionFreightLocationCity  \\\n",
       "2703963                          Liverpool   \n",
       "\n",
       "        FirstCollectionFreightLocationPostalCode  \\\n",
       "2703963                                  L33 7YQ   \n",
       "\n",
       "        FirstCollectionFreightLocationCountry  \\\n",
       "2703963                        United Kingdom   \n",
       "\n",
       "         FirstCollectionFreightLocationLongitudePositionDD  \\\n",
       "2703963                                           -2.85863   \n",
       "\n",
       "         FirstCollectionFreightLocationLatitudePositionDD  \\\n",
       "2703963                                          53.47114   \n",
       "\n",
       "         LastDeliveryFreightLocation LastDeliveryFreightLocationCity  \\\n",
       "2703963                          656                           LEEDS   \n",
       "\n",
       "        LastDeliveryFreightLocationPostalCode  \\\n",
       "2703963                               L33 7YQ   \n",
       "\n",
       "        LastDeliveryFreightLocationCountry  \\\n",
       "2703963                     United Kingdom   \n",
       "\n",
       "         LastDeliveryFreightLocationLongitudePositionDD  \\\n",
       "2703963                                        -1.47493   \n",
       "\n",
       "         LastDeliveryFreightLocationLatitudePositionDD FullLoadIndicator  \\\n",
       "2703963                                       53.72657                 Y   \n",
       "\n",
       "        EmptyBookingIndicator  Customer Name Customer City  \n",
       "2703963                     N          14113    Bridgwater  "
      ]
     },
     "execution_count": 11,
     "metadata": {},
     "output_type": "execute_result"
    }
   ],
   "source": [
    "# 1) In df, the bookings don't show sub-bookings (\"legs\"), which essentially constitute different steps in the delivery process\n",
    "\n",
    "df[df['BookingId'] == 9031814]"
   ]
  },
  {
   "cell_type": "code",
   "execution_count": 12,
   "metadata": {},
   "outputs": [
    {
     "data": {
      "text/html": [
       "<div>\n",
       "<style scoped>\n",
       "    .dataframe tbody tr th:only-of-type {\n",
       "        vertical-align: middle;\n",
       "    }\n",
       "\n",
       "    .dataframe tbody tr th {\n",
       "        vertical-align: top;\n",
       "    }\n",
       "\n",
       "    .dataframe thead th {\n",
       "        text-align: right;\n",
       "    }\n",
       "</style>\n",
       "<table border=\"1\" class=\"dataframe\">\n",
       "  <thead>\n",
       "    <tr style=\"text-align: right;\">\n",
       "      <th></th>\n",
       "      <th>BookingId</th>\n",
       "      <th>SubBookingName</th>\n",
       "      <th>SubBookingLegId</th>\n",
       "      <th>StartLegLocationId</th>\n",
       "      <th>EndLegLocationId</th>\n",
       "      <th>FromLocation</th>\n",
       "      <th>ToLocation</th>\n",
       "      <th>TransportId</th>\n",
       "      <th>StartRequestedDate</th>\n",
       "      <th>EndRequestedDate</th>\n",
       "      <th>GrossWeight</th>\n",
       "      <th>LoadMetres</th>\n",
       "      <th>CubicMetres</th>\n",
       "      <th>Length</th>\n",
       "      <th>Width</th>\n",
       "      <th>Height</th>\n",
       "      <th>Temperature</th>\n",
       "      <th>FromLatitude</th>\n",
       "      <th>FromLongtitude</th>\n",
       "      <th>FromCity</th>\n",
       "      <th>FromCountry</th>\n",
       "      <th>ToLatitude</th>\n",
       "      <th>ToLongtitude</th>\n",
       "      <th>ToCity</th>\n",
       "      <th>ToCountry</th>\n",
       "    </tr>\n",
       "  </thead>\n",
       "  <tbody>\n",
       "    <tr>\n",
       "      <th>2314238</th>\n",
       "      <td>9031814</td>\n",
       "      <td>A</td>\n",
       "      <td>11006604</td>\n",
       "      <td>219248</td>\n",
       "      <td>45984</td>\n",
       "      <td>14358</td>\n",
       "      <td>25360</td>\n",
       "      <td>4297407.0</td>\n",
       "      <td>2022-01-04</td>\n",
       "      <td>2022-01-04</td>\n",
       "      <td>0.0</td>\n",
       "      <td>7.5</td>\n",
       "      <td>0.0</td>\n",
       "      <td>NaN</td>\n",
       "      <td>NaN</td>\n",
       "      <td>NaN</td>\n",
       "      <td>NaN</td>\n",
       "      <td>53.47114</td>\n",
       "      <td>-2.85863</td>\n",
       "      <td>Liverpool</td>\n",
       "      <td>United Kingdom</td>\n",
       "      <td>53.37030</td>\n",
       "      <td>-1.36706</td>\n",
       "      <td>Sheffield</td>\n",
       "      <td>United Kingdom</td>\n",
       "    </tr>\n",
       "    <tr>\n",
       "      <th>2314239</th>\n",
       "      <td>9031814</td>\n",
       "      <td>B</td>\n",
       "      <td>11006603</td>\n",
       "      <td>219248</td>\n",
       "      <td>313716</td>\n",
       "      <td>14358</td>\n",
       "      <td>440</td>\n",
       "      <td>4297407.0</td>\n",
       "      <td>2022-01-04</td>\n",
       "      <td>2022-01-04</td>\n",
       "      <td>0.0</td>\n",
       "      <td>3.0</td>\n",
       "      <td>0.0</td>\n",
       "      <td>NaN</td>\n",
       "      <td>NaN</td>\n",
       "      <td>NaN</td>\n",
       "      <td>NaN</td>\n",
       "      <td>53.47114</td>\n",
       "      <td>-2.85863</td>\n",
       "      <td>Liverpool</td>\n",
       "      <td>United Kingdom</td>\n",
       "      <td>53.72657</td>\n",
       "      <td>-1.47493</td>\n",
       "      <td>LEEDS</td>\n",
       "      <td>United Kingdom</td>\n",
       "    </tr>\n",
       "  </tbody>\n",
       "</table>\n",
       "</div>"
      ],
      "text/plain": [
       "         BookingId SubBookingName  SubBookingLegId  StartLegLocationId  \\\n",
       "2314238    9031814              A         11006604              219248   \n",
       "2314239    9031814              B         11006603              219248   \n",
       "\n",
       "         EndLegLocationId  FromLocation  ToLocation  TransportId  \\\n",
       "2314238             45984         14358       25360    4297407.0   \n",
       "2314239            313716         14358         440    4297407.0   \n",
       "\n",
       "        StartRequestedDate EndRequestedDate  GrossWeight  LoadMetres  \\\n",
       "2314238         2022-01-04       2022-01-04          0.0         7.5   \n",
       "2314239         2022-01-04       2022-01-04          0.0         3.0   \n",
       "\n",
       "         CubicMetres  Length  Width  Height  Temperature  FromLatitude  \\\n",
       "2314238          0.0     NaN    NaN     NaN          NaN      53.47114   \n",
       "2314239          0.0     NaN    NaN     NaN          NaN      53.47114   \n",
       "\n",
       "         FromLongtitude   FromCity     FromCountry  ToLatitude  ToLongtitude  \\\n",
       "2314238        -2.85863  Liverpool  United Kingdom    53.37030      -1.36706   \n",
       "2314239        -2.85863  Liverpool  United Kingdom    53.72657      -1.47493   \n",
       "\n",
       "            ToCity       ToCountry  \n",
       "2314238  Sheffield  United Kingdom  \n",
       "2314239      LEEDS  United Kingdom  "
      ]
     },
     "execution_count": 12,
     "metadata": {},
     "output_type": "execute_result"
    }
   ],
   "source": [
    "# 2) In df_with_legs_1/2, every collection is divided into sub-bookings where applicable\n",
    "\n",
    "df_final[df_final['BookingId'] == 9031814]"
   ]
  },
  {
   "attachments": {},
   "cell_type": "markdown",
   "metadata": {},
   "source": [
    "Given that the df_final contains the very relevant split in SubBookings, but df provides additional features, a join is performed "
   ]
  },
  {
   "cell_type": "code",
   "execution_count": 13,
   "metadata": {},
   "outputs": [],
   "source": [
    "# Next step is to add columns from dataset without legs that are missing in the new df_final \n",
    "# --> [\"FullLoadIndicator\", \"EmptyBookingIndicator\", \"CustomerName\"] are being merged using \"BookingId\"\n",
    "\n",
    "df_final = pd.merge(df_final, df[['BookingId','FullLoadIndicator','EmptyBookingIndicator', 'Customer Name']],on = 'BookingId', how = 'left')"
   ]
  },
  {
   "attachments": {},
   "cell_type": "markdown",
   "metadata": {},
   "source": [
    "---"
   ]
  },
  {
   "attachments": {},
   "cell_type": "markdown",
   "metadata": {},
   "source": [
    "##### 2) General Overview"
   ]
  },
  {
   "attachments": {},
   "cell_type": "markdown",
   "metadata": {},
   "source": [
    "Here a very general overview on the consolidated dataset is provided"
   ]
  },
  {
   "cell_type": "code",
   "execution_count": 14,
   "metadata": {},
   "outputs": [
    {
     "data": {
      "text/html": [
       "<div>\n",
       "<style scoped>\n",
       "    .dataframe tbody tr th:only-of-type {\n",
       "        vertical-align: middle;\n",
       "    }\n",
       "\n",
       "    .dataframe tbody tr th {\n",
       "        vertical-align: top;\n",
       "    }\n",
       "\n",
       "    .dataframe thead th {\n",
       "        text-align: right;\n",
       "    }\n",
       "</style>\n",
       "<table border=\"1\" class=\"dataframe\">\n",
       "  <thead>\n",
       "    <tr style=\"text-align: right;\">\n",
       "      <th></th>\n",
       "      <th>BookingId</th>\n",
       "      <th>SubBookingName</th>\n",
       "      <th>SubBookingLegId</th>\n",
       "      <th>StartLegLocationId</th>\n",
       "      <th>EndLegLocationId</th>\n",
       "      <th>FromLocation</th>\n",
       "      <th>ToLocation</th>\n",
       "      <th>TransportId</th>\n",
       "      <th>StartRequestedDate</th>\n",
       "      <th>EndRequestedDate</th>\n",
       "      <th>GrossWeight</th>\n",
       "      <th>LoadMetres</th>\n",
       "      <th>CubicMetres</th>\n",
       "      <th>Length</th>\n",
       "      <th>Width</th>\n",
       "      <th>Height</th>\n",
       "      <th>Temperature</th>\n",
       "      <th>FromLatitude</th>\n",
       "      <th>FromLongtitude</th>\n",
       "      <th>FromCity</th>\n",
       "      <th>FromCountry</th>\n",
       "      <th>ToLatitude</th>\n",
       "      <th>ToLongtitude</th>\n",
       "      <th>ToCity</th>\n",
       "      <th>ToCountry</th>\n",
       "      <th>FullLoadIndicator</th>\n",
       "      <th>EmptyBookingIndicator</th>\n",
       "      <th>Customer Name</th>\n",
       "    </tr>\n",
       "  </thead>\n",
       "  <tbody>\n",
       "    <tr>\n",
       "      <th>0</th>\n",
       "      <td>7399574</td>\n",
       "      <td>A</td>\n",
       "      <td>8266605</td>\n",
       "      <td>132168</td>\n",
       "      <td>124047</td>\n",
       "      <td>19635</td>\n",
       "      <td>19104</td>\n",
       "      <td>NaN</td>\n",
       "      <td>2020-12-31</td>\n",
       "      <td>2020-12-31</td>\n",
       "      <td>0.0</td>\n",
       "      <td>0.0</td>\n",
       "      <td>0.0</td>\n",
       "      <td>NaN</td>\n",
       "      <td>NaN</td>\n",
       "      <td>NaN</td>\n",
       "      <td>NaN</td>\n",
       "      <td>53.51131</td>\n",
       "      <td>-1.12540</td>\n",
       "      <td>YORKSHIRE</td>\n",
       "      <td>United Kingdom</td>\n",
       "      <td>53.60475</td>\n",
       "      <td>-0.65636</td>\n",
       "      <td>SCUNTHORPE</td>\n",
       "      <td>United Kingdom</td>\n",
       "      <td>Y</td>\n",
       "      <td>N</td>\n",
       "      <td>4040.0</td>\n",
       "    </tr>\n",
       "    <tr>\n",
       "      <th>1</th>\n",
       "      <td>7399575</td>\n",
       "      <td>A</td>\n",
       "      <td>8266607</td>\n",
       "      <td>243727</td>\n",
       "      <td>27597</td>\n",
       "      <td>5530</td>\n",
       "      <td>34030</td>\n",
       "      <td>NaN</td>\n",
       "      <td>2020-12-31</td>\n",
       "      <td>2020-12-31</td>\n",
       "      <td>0.0</td>\n",
       "      <td>0.0</td>\n",
       "      <td>0.0</td>\n",
       "      <td>NaN</td>\n",
       "      <td>NaN</td>\n",
       "      <td>NaN</td>\n",
       "      <td>NaN</td>\n",
       "      <td>53.50446</td>\n",
       "      <td>-2.84867</td>\n",
       "      <td>Liverpool</td>\n",
       "      <td>United Kingdom</td>\n",
       "      <td>53.04612</td>\n",
       "      <td>-2.92787</td>\n",
       "      <td>Wrexham</td>\n",
       "      <td>United Kingdom</td>\n",
       "      <td>Y</td>\n",
       "      <td>N</td>\n",
       "      <td>10608.0</td>\n",
       "    </tr>\n",
       "    <tr>\n",
       "      <th>2</th>\n",
       "      <td>7399576</td>\n",
       "      <td>A</td>\n",
       "      <td>8266606</td>\n",
       "      <td>243727</td>\n",
       "      <td>27597</td>\n",
       "      <td>5530</td>\n",
       "      <td>34030</td>\n",
       "      <td>NaN</td>\n",
       "      <td>2020-12-31</td>\n",
       "      <td>2020-12-31</td>\n",
       "      <td>0.0</td>\n",
       "      <td>0.0</td>\n",
       "      <td>0.0</td>\n",
       "      <td>NaN</td>\n",
       "      <td>NaN</td>\n",
       "      <td>NaN</td>\n",
       "      <td>NaN</td>\n",
       "      <td>53.50446</td>\n",
       "      <td>-2.84867</td>\n",
       "      <td>Liverpool</td>\n",
       "      <td>United Kingdom</td>\n",
       "      <td>53.04612</td>\n",
       "      <td>-2.92787</td>\n",
       "      <td>Wrexham</td>\n",
       "      <td>United Kingdom</td>\n",
       "      <td>Y</td>\n",
       "      <td>N</td>\n",
       "      <td>10608.0</td>\n",
       "    </tr>\n",
       "    <tr>\n",
       "      <th>3</th>\n",
       "      <td>7399577</td>\n",
       "      <td>A</td>\n",
       "      <td>8266608</td>\n",
       "      <td>29361</td>\n",
       "      <td>108395</td>\n",
       "      <td>3392</td>\n",
       "      <td>5652</td>\n",
       "      <td>NaN</td>\n",
       "      <td>2020-12-31</td>\n",
       "      <td>2020-12-31</td>\n",
       "      <td>0.0</td>\n",
       "      <td>0.0</td>\n",
       "      <td>0.0</td>\n",
       "      <td>NaN</td>\n",
       "      <td>NaN</td>\n",
       "      <td>NaN</td>\n",
       "      <td>NaN</td>\n",
       "      <td>53.77629</td>\n",
       "      <td>-1.52585</td>\n",
       "      <td>Leeds</td>\n",
       "      <td>United Kingdom</td>\n",
       "      <td>53.71874</td>\n",
       "      <td>-1.41235</td>\n",
       "      <td>YORKSHIRE</td>\n",
       "      <td>United Kingdom</td>\n",
       "      <td>N</td>\n",
       "      <td>N</td>\n",
       "      <td>6255.0</td>\n",
       "    </tr>\n",
       "    <tr>\n",
       "      <th>4</th>\n",
       "      <td>7399578</td>\n",
       "      <td>A</td>\n",
       "      <td>8266609</td>\n",
       "      <td>29361</td>\n",
       "      <td>69407</td>\n",
       "      <td>3392</td>\n",
       "      <td>1782</td>\n",
       "      <td>NaN</td>\n",
       "      <td>2020-12-31</td>\n",
       "      <td>2020-12-31</td>\n",
       "      <td>0.0</td>\n",
       "      <td>0.0</td>\n",
       "      <td>0.0</td>\n",
       "      <td>NaN</td>\n",
       "      <td>NaN</td>\n",
       "      <td>NaN</td>\n",
       "      <td>NaN</td>\n",
       "      <td>53.77629</td>\n",
       "      <td>-1.52585</td>\n",
       "      <td>Leeds</td>\n",
       "      <td>United Kingdom</td>\n",
       "      <td>55.87784</td>\n",
       "      <td>-3.65235</td>\n",
       "      <td>Bathgate</td>\n",
       "      <td>United Kingdom</td>\n",
       "      <td>Y</td>\n",
       "      <td>N</td>\n",
       "      <td>6255.0</td>\n",
       "    </tr>\n",
       "  </tbody>\n",
       "</table>\n",
       "</div>"
      ],
      "text/plain": [
       "   BookingId SubBookingName  SubBookingLegId  StartLegLocationId  \\\n",
       "0    7399574              A          8266605              132168   \n",
       "1    7399575              A          8266607              243727   \n",
       "2    7399576              A          8266606              243727   \n",
       "3    7399577              A          8266608               29361   \n",
       "4    7399578              A          8266609               29361   \n",
       "\n",
       "   EndLegLocationId  FromLocation  ToLocation  TransportId StartRequestedDate  \\\n",
       "0            124047         19635       19104          NaN         2020-12-31   \n",
       "1             27597          5530       34030          NaN         2020-12-31   \n",
       "2             27597          5530       34030          NaN         2020-12-31   \n",
       "3            108395          3392        5652          NaN         2020-12-31   \n",
       "4             69407          3392        1782          NaN         2020-12-31   \n",
       "\n",
       "  EndRequestedDate  GrossWeight  LoadMetres  CubicMetres  Length  Width  \\\n",
       "0       2020-12-31          0.0         0.0          0.0     NaN    NaN   \n",
       "1       2020-12-31          0.0         0.0          0.0     NaN    NaN   \n",
       "2       2020-12-31          0.0         0.0          0.0     NaN    NaN   \n",
       "3       2020-12-31          0.0         0.0          0.0     NaN    NaN   \n",
       "4       2020-12-31          0.0         0.0          0.0     NaN    NaN   \n",
       "\n",
       "   Height  Temperature  FromLatitude  FromLongtitude   FromCity  \\\n",
       "0     NaN          NaN      53.51131        -1.12540  YORKSHIRE   \n",
       "1     NaN          NaN      53.50446        -2.84867  Liverpool   \n",
       "2     NaN          NaN      53.50446        -2.84867  Liverpool   \n",
       "3     NaN          NaN      53.77629        -1.52585      Leeds   \n",
       "4     NaN          NaN      53.77629        -1.52585      Leeds   \n",
       "\n",
       "      FromCountry  ToLatitude  ToLongtitude      ToCity       ToCountry  \\\n",
       "0  United Kingdom    53.60475      -0.65636  SCUNTHORPE  United Kingdom   \n",
       "1  United Kingdom    53.04612      -2.92787     Wrexham  United Kingdom   \n",
       "2  United Kingdom    53.04612      -2.92787     Wrexham  United Kingdom   \n",
       "3  United Kingdom    53.71874      -1.41235   YORKSHIRE  United Kingdom   \n",
       "4  United Kingdom    55.87784      -3.65235    Bathgate  United Kingdom   \n",
       "\n",
       "  FullLoadIndicator EmptyBookingIndicator  Customer Name  \n",
       "0                 Y                     N         4040.0  \n",
       "1                 Y                     N        10608.0  \n",
       "2                 Y                     N        10608.0  \n",
       "3                 N                     N         6255.0  \n",
       "4                 Y                     N         6255.0  "
      ]
     },
     "execution_count": 14,
     "metadata": {},
     "output_type": "execute_result"
    }
   ],
   "source": [
    "# Check if concatenating and merging worked out\n",
    "\n",
    "df_final.head()"
   ]
  },
  {
   "cell_type": "code",
   "execution_count": 15,
   "metadata": {},
   "outputs": [
    {
     "name": "stdout",
     "output_type": "stream",
     "text": [
      "(5011926, 28)\n",
      "Index(['BookingId', 'SubBookingName', 'SubBookingLegId', 'StartLegLocationId',\n",
      "       'EndLegLocationId', 'FromLocation', 'ToLocation', 'TransportId',\n",
      "       'StartRequestedDate', 'EndRequestedDate', 'GrossWeight', 'LoadMetres',\n",
      "       'CubicMetres', 'Length', 'Width', 'Height', 'Temperature',\n",
      "       'FromLatitude', 'FromLongtitude', 'FromCity', 'FromCountry',\n",
      "       'ToLatitude', 'ToLongtitude', 'ToCity', 'ToCountry',\n",
      "       'FullLoadIndicator', 'EmptyBookingIndicator', 'Customer Name'],\n",
      "      dtype='object')\n"
     ]
    }
   ],
   "source": [
    "# Print general information such as shape and column names\n",
    "\n",
    "print(df_final.shape)\n",
    "print(df_final.columns)"
   ]
  },
  {
   "cell_type": "code",
   "execution_count": 16,
   "metadata": {},
   "outputs": [
    {
     "name": "stdout",
     "output_type": "stream",
     "text": [
      "<class 'pandas.core.frame.DataFrame'>\n",
      "Int64Index: 5011926 entries, 0 to 5011925\n",
      "Data columns (total 28 columns):\n",
      " #   Column                 Dtype  \n",
      "---  ------                 -----  \n",
      " 0   BookingId              int64  \n",
      " 1   SubBookingName         object \n",
      " 2   SubBookingLegId        int64  \n",
      " 3   StartLegLocationId     int64  \n",
      " 4   EndLegLocationId       int64  \n",
      " 5   FromLocation           int64  \n",
      " 6   ToLocation             int64  \n",
      " 7   TransportId            float64\n",
      " 8   StartRequestedDate     object \n",
      " 9   EndRequestedDate       object \n",
      " 10  GrossWeight            float64\n",
      " 11  LoadMetres             float64\n",
      " 12  CubicMetres            float64\n",
      " 13  Length                 float64\n",
      " 14  Width                  float64\n",
      " 15  Height                 float64\n",
      " 16  Temperature            float64\n",
      " 17  FromLatitude           float64\n",
      " 18  FromLongtitude         float64\n",
      " 19  FromCity               object \n",
      " 20  FromCountry            object \n",
      " 21  ToLatitude             float64\n",
      " 22  ToLongtitude           float64\n",
      " 23  ToCity                 object \n",
      " 24  ToCountry              object \n",
      " 25  FullLoadIndicator      object \n",
      " 26  EmptyBookingIndicator  object \n",
      " 27  Customer Name          float64\n",
      "dtypes: float64(13), int64(6), object(9)\n",
      "memory usage: 1.1+ GB\n"
     ]
    }
   ],
   "source": [
    "# Information on datatypes\n",
    "\n",
    "df_final.info() "
   ]
  },
  {
   "attachments": {},
   "cell_type": "markdown",
   "metadata": {},
   "source": [
    "---"
   ]
  },
  {
   "attachments": {},
   "cell_type": "markdown",
   "metadata": {},
   "source": [
    "#### 3) Checking missing values and dropping redundant variables"
   ]
  },
  {
   "attachments": {},
   "cell_type": "markdown",
   "metadata": {},
   "source": [
    "Understanding the amount of null values helps in assessing the data of the quality provided and in determining which aspects can be analysed more extensively"
   ]
  },
  {
   "cell_type": "code",
   "execution_count": 17,
   "metadata": {},
   "outputs": [
    {
     "data": {
      "text/plain": [
       "BookingId                      0\n",
       "SubBookingName                 0\n",
       "SubBookingLegId                0\n",
       "StartLegLocationId             0\n",
       "EndLegLocationId               0\n",
       "FromLocation                   0\n",
       "ToLocation                     0\n",
       "TransportId              1937830\n",
       "StartRequestedDate         18968\n",
       "EndRequestedDate           19277\n",
       "GrossWeight                    0\n",
       "LoadMetres                     0\n",
       "CubicMetres                    0\n",
       "Length                   3918187\n",
       "Width                    3930534\n",
       "Height                   3987874\n",
       "Temperature              4066738\n",
       "FromLatitude                   0\n",
       "FromLongtitude                 0\n",
       "FromCity                       1\n",
       "FromCountry                96415\n",
       "ToLatitude                     0\n",
       "ToLongtitude                   0\n",
       "ToCity                        19\n",
       "ToCountry                  80797\n",
       "FullLoadIndicator         619661\n",
       "EmptyBookingIndicator     619661\n",
       "Customer Name             619661\n",
       "dtype: int64"
      ]
     },
     "execution_count": 17,
     "metadata": {},
     "output_type": "execute_result"
    }
   ],
   "source": [
    "# Checking the number of null values for each feature\n",
    "\n",
    "df_final.isna().sum()"
   ]
  },
  {
   "attachments": {},
   "cell_type": "markdown",
   "metadata": {},
   "source": [
    "a) **\"TransportId\"**: around 40% missing   \n",
    " _How to handle_: drop variable (not used anyways)  \n",
    "   \n",
    "b) **\"StartRequestedDate\"/ \"EndRequestedDate\"**: around 0.3% nulls   \n",
    " Only very small amount of data missing, so it won't affect the seasonal analyses   \n",
    " _How to handle_: Keep variables and also don't drop rows, as the routes should still be analyzed  \n",
    "  \n",
    "c) **\"Length\", \"Width\", \"Height\"** : Close to 80% missing values  \n",
    " _How to handle_: drop variables  \n",
    "  \n",
    "d) **\"Temperature\"**: Close to 80% missing values   \n",
    " _How to handle_: Keep as it could provide information on the type of goods transported\n",
    "  \n",
    "e) **\"FullLoadIndicator\", \"EmptyBookingIndicator\", \"Customer Name\"**: 619.661 missing   \n",
    " _How to handle_: Keep as it could provide information on the type of loads \n",
    "  \n",
    "f) **\"FromCountry\" and \"ToCountry\"**: Around 1.5% missing   \n",
    " _How to handle_: geoencode to find out respective values"
   ]
  },
  {
   "cell_type": "code",
   "execution_count": 18,
   "metadata": {},
   "outputs": [
    {
     "data": {
      "text/html": [
       "<div>\n",
       "<style scoped>\n",
       "    .dataframe tbody tr th:only-of-type {\n",
       "        vertical-align: middle;\n",
       "    }\n",
       "\n",
       "    .dataframe tbody tr th {\n",
       "        vertical-align: top;\n",
       "    }\n",
       "\n",
       "    .dataframe thead th {\n",
       "        text-align: right;\n",
       "    }\n",
       "</style>\n",
       "<table border=\"1\" class=\"dataframe\">\n",
       "  <thead>\n",
       "    <tr style=\"text-align: right;\">\n",
       "      <th></th>\n",
       "      <th>BookingId</th>\n",
       "      <th>SubBookingName</th>\n",
       "      <th>SubBookingLegId</th>\n",
       "      <th>FromLocation</th>\n",
       "      <th>ToLocation</th>\n",
       "      <th>StartRequestedDate</th>\n",
       "      <th>EndRequestedDate</th>\n",
       "      <th>Temperature</th>\n",
       "      <th>FromLatitude</th>\n",
       "      <th>FromLongtitude</th>\n",
       "      <th>FromCity</th>\n",
       "      <th>FromCountry</th>\n",
       "      <th>ToLatitude</th>\n",
       "      <th>ToLongtitude</th>\n",
       "      <th>ToCity</th>\n",
       "      <th>ToCountry</th>\n",
       "      <th>FullLoadIndicator</th>\n",
       "      <th>EmptyBookingIndicator</th>\n",
       "      <th>Customer Name</th>\n",
       "    </tr>\n",
       "  </thead>\n",
       "  <tbody>\n",
       "    <tr>\n",
       "      <th>0</th>\n",
       "      <td>7399574</td>\n",
       "      <td>A</td>\n",
       "      <td>8266605</td>\n",
       "      <td>19635</td>\n",
       "      <td>19104</td>\n",
       "      <td>2020-12-31</td>\n",
       "      <td>2020-12-31</td>\n",
       "      <td>NaN</td>\n",
       "      <td>53.51131</td>\n",
       "      <td>-1.12540</td>\n",
       "      <td>YORKSHIRE</td>\n",
       "      <td>United Kingdom</td>\n",
       "      <td>53.60475</td>\n",
       "      <td>-0.65636</td>\n",
       "      <td>SCUNTHORPE</td>\n",
       "      <td>United Kingdom</td>\n",
       "      <td>Y</td>\n",
       "      <td>N</td>\n",
       "      <td>4040.0</td>\n",
       "    </tr>\n",
       "    <tr>\n",
       "      <th>1</th>\n",
       "      <td>7399575</td>\n",
       "      <td>A</td>\n",
       "      <td>8266607</td>\n",
       "      <td>5530</td>\n",
       "      <td>34030</td>\n",
       "      <td>2020-12-31</td>\n",
       "      <td>2020-12-31</td>\n",
       "      <td>NaN</td>\n",
       "      <td>53.50446</td>\n",
       "      <td>-2.84867</td>\n",
       "      <td>Liverpool</td>\n",
       "      <td>United Kingdom</td>\n",
       "      <td>53.04612</td>\n",
       "      <td>-2.92787</td>\n",
       "      <td>Wrexham</td>\n",
       "      <td>United Kingdom</td>\n",
       "      <td>Y</td>\n",
       "      <td>N</td>\n",
       "      <td>10608.0</td>\n",
       "    </tr>\n",
       "    <tr>\n",
       "      <th>2</th>\n",
       "      <td>7399576</td>\n",
       "      <td>A</td>\n",
       "      <td>8266606</td>\n",
       "      <td>5530</td>\n",
       "      <td>34030</td>\n",
       "      <td>2020-12-31</td>\n",
       "      <td>2020-12-31</td>\n",
       "      <td>NaN</td>\n",
       "      <td>53.50446</td>\n",
       "      <td>-2.84867</td>\n",
       "      <td>Liverpool</td>\n",
       "      <td>United Kingdom</td>\n",
       "      <td>53.04612</td>\n",
       "      <td>-2.92787</td>\n",
       "      <td>Wrexham</td>\n",
       "      <td>United Kingdom</td>\n",
       "      <td>Y</td>\n",
       "      <td>N</td>\n",
       "      <td>10608.0</td>\n",
       "    </tr>\n",
       "    <tr>\n",
       "      <th>3</th>\n",
       "      <td>7399577</td>\n",
       "      <td>A</td>\n",
       "      <td>8266608</td>\n",
       "      <td>3392</td>\n",
       "      <td>5652</td>\n",
       "      <td>2020-12-31</td>\n",
       "      <td>2020-12-31</td>\n",
       "      <td>NaN</td>\n",
       "      <td>53.77629</td>\n",
       "      <td>-1.52585</td>\n",
       "      <td>Leeds</td>\n",
       "      <td>United Kingdom</td>\n",
       "      <td>53.71874</td>\n",
       "      <td>-1.41235</td>\n",
       "      <td>YORKSHIRE</td>\n",
       "      <td>United Kingdom</td>\n",
       "      <td>N</td>\n",
       "      <td>N</td>\n",
       "      <td>6255.0</td>\n",
       "    </tr>\n",
       "    <tr>\n",
       "      <th>4</th>\n",
       "      <td>7399578</td>\n",
       "      <td>A</td>\n",
       "      <td>8266609</td>\n",
       "      <td>3392</td>\n",
       "      <td>1782</td>\n",
       "      <td>2020-12-31</td>\n",
       "      <td>2020-12-31</td>\n",
       "      <td>NaN</td>\n",
       "      <td>53.77629</td>\n",
       "      <td>-1.52585</td>\n",
       "      <td>Leeds</td>\n",
       "      <td>United Kingdom</td>\n",
       "      <td>55.87784</td>\n",
       "      <td>-3.65235</td>\n",
       "      <td>Bathgate</td>\n",
       "      <td>United Kingdom</td>\n",
       "      <td>Y</td>\n",
       "      <td>N</td>\n",
       "      <td>6255.0</td>\n",
       "    </tr>\n",
       "  </tbody>\n",
       "</table>\n",
       "</div>"
      ],
      "text/plain": [
       "   BookingId SubBookingName  SubBookingLegId  FromLocation  ToLocation  \\\n",
       "0    7399574              A          8266605         19635       19104   \n",
       "1    7399575              A          8266607          5530       34030   \n",
       "2    7399576              A          8266606          5530       34030   \n",
       "3    7399577              A          8266608          3392        5652   \n",
       "4    7399578              A          8266609          3392        1782   \n",
       "\n",
       "  StartRequestedDate EndRequestedDate  Temperature  FromLatitude  \\\n",
       "0         2020-12-31       2020-12-31          NaN      53.51131   \n",
       "1         2020-12-31       2020-12-31          NaN      53.50446   \n",
       "2         2020-12-31       2020-12-31          NaN      53.50446   \n",
       "3         2020-12-31       2020-12-31          NaN      53.77629   \n",
       "4         2020-12-31       2020-12-31          NaN      53.77629   \n",
       "\n",
       "   FromLongtitude   FromCity     FromCountry  ToLatitude  ToLongtitude  \\\n",
       "0        -1.12540  YORKSHIRE  United Kingdom    53.60475      -0.65636   \n",
       "1        -2.84867  Liverpool  United Kingdom    53.04612      -2.92787   \n",
       "2        -2.84867  Liverpool  United Kingdom    53.04612      -2.92787   \n",
       "3        -1.52585      Leeds  United Kingdom    53.71874      -1.41235   \n",
       "4        -1.52585      Leeds  United Kingdom    55.87784      -3.65235   \n",
       "\n",
       "       ToCity       ToCountry FullLoadIndicator EmptyBookingIndicator  \\\n",
       "0  SCUNTHORPE  United Kingdom                 Y                     N   \n",
       "1     Wrexham  United Kingdom                 Y                     N   \n",
       "2     Wrexham  United Kingdom                 Y                     N   \n",
       "3   YORKSHIRE  United Kingdom                 N                     N   \n",
       "4    Bathgate  United Kingdom                 Y                     N   \n",
       "\n",
       "   Customer Name  \n",
       "0         4040.0  \n",
       "1        10608.0  \n",
       "2        10608.0  \n",
       "3         6255.0  \n",
       "4         6255.0  "
      ]
     },
     "execution_count": 18,
     "metadata": {},
     "output_type": "execute_result"
    }
   ],
   "source": [
    "# Dropping variables that are not needed for the analysis\n",
    "\n",
    "# Creating list of columns to drop\n",
    "columns_to_drop = [\"StartLegLocationId\", \"EndLegLocationId\", \"TransportId\", \"LoadMetres\", \"CubicMetres\", \"Length\", \"Width\", \"Height\", \"GrossWeight\"]\n",
    "\n",
    "# Dropping columns\n",
    "df_final = df_final.drop(columns_to_drop, axis = 1)\n",
    "\n",
    "# Check dataset \n",
    "df_final.head()"
   ]
  },
  {
   "attachments": {},
   "cell_type": "markdown",
   "metadata": {},
   "source": [
    "---"
   ]
  },
  {
   "attachments": {},
   "cell_type": "markdown",
   "metadata": {},
   "source": [
    "#### 4) Feature Deep Dive"
   ]
  },
  {
   "cell_type": "code",
   "execution_count": 19,
   "metadata": {},
   "outputs": [
    {
     "name": "stdout",
     "output_type": "stream",
     "text": [
      "['BookingId', 'SubBookingName', 'SubBookingLegId', 'FromLocation', 'ToLocation', 'StartRequestedDate', 'EndRequestedDate', 'Temperature', 'FromLatitude', 'FromLongtitude', 'FromCity', 'FromCountry', 'ToLatitude', 'ToLongtitude', 'ToCity', 'ToCountry', 'FullLoadIndicator', 'EmptyBookingIndicator', 'Customer Name']\n"
     ]
    }
   ],
   "source": [
    "# Listing the columns in the dataset\n",
    "\n",
    "columns = list(df_final.columns)\n",
    "print(columns)"
   ]
  },
  {
   "attachments": {},
   "cell_type": "markdown",
   "metadata": {},
   "source": [
    "4.1) \"BookingId\""
   ]
  },
  {
   "attachments": {},
   "cell_type": "markdown",
   "metadata": {},
   "source": [
    "There is a unique ID for every delivery. Sometimes it includes more than one \"Leg\" (which is the reason some IDs span over several rows)"
   ]
  },
  {
   "cell_type": "code",
   "execution_count": 20,
   "metadata": {},
   "outputs": [
    {
     "data": {
      "text/plain": [
       "3322128"
      ]
     },
     "execution_count": 20,
     "metadata": {},
     "output_type": "execute_result"
    }
   ],
   "source": [
    "# Counting the number of unique IDs\n",
    "\n",
    "df_final['BookingId'].nunique() # ~3.3m unique BookingIDs"
   ]
  },
  {
   "attachments": {},
   "cell_type": "markdown",
   "metadata": {},
   "source": [
    "Finding how many subBookings are present for each actual Booking"
   ]
  },
  {
   "cell_type": "code",
   "execution_count": 21,
   "metadata": {},
   "outputs": [
    {
     "data": {
      "text/html": [
       "<div>\n",
       "<style scoped>\n",
       "    .dataframe tbody tr th:only-of-type {\n",
       "        vertical-align: middle;\n",
       "    }\n",
       "\n",
       "    .dataframe tbody tr th {\n",
       "        vertical-align: top;\n",
       "    }\n",
       "\n",
       "    .dataframe thead th {\n",
       "        text-align: right;\n",
       "    }\n",
       "</style>\n",
       "<table border=\"1\" class=\"dataframe\">\n",
       "  <thead>\n",
       "    <tr style=\"text-align: right;\">\n",
       "      <th></th>\n",
       "      <th>count</th>\n",
       "    </tr>\n",
       "  </thead>\n",
       "  <tbody>\n",
       "    <tr>\n",
       "      <th>8382237</th>\n",
       "      <td>135</td>\n",
       "    </tr>\n",
       "    <tr>\n",
       "      <th>8708339</th>\n",
       "      <td>134</td>\n",
       "    </tr>\n",
       "    <tr>\n",
       "      <th>8818872</th>\n",
       "      <td>131</td>\n",
       "    </tr>\n",
       "    <tr>\n",
       "      <th>8403071</th>\n",
       "      <td>129</td>\n",
       "    </tr>\n",
       "    <tr>\n",
       "      <th>8862355</th>\n",
       "      <td>128</td>\n",
       "    </tr>\n",
       "    <tr>\n",
       "      <th>...</th>\n",
       "      <td>...</td>\n",
       "    </tr>\n",
       "    <tr>\n",
       "      <th>8665926</th>\n",
       "      <td>1</td>\n",
       "    </tr>\n",
       "    <tr>\n",
       "      <th>8665927</th>\n",
       "      <td>1</td>\n",
       "    </tr>\n",
       "    <tr>\n",
       "      <th>8665928</th>\n",
       "      <td>1</td>\n",
       "    </tr>\n",
       "    <tr>\n",
       "      <th>8665929</th>\n",
       "      <td>1</td>\n",
       "    </tr>\n",
       "    <tr>\n",
       "      <th>11130925</th>\n",
       "      <td>1</td>\n",
       "    </tr>\n",
       "  </tbody>\n",
       "</table>\n",
       "<p>3322128 rows × 1 columns</p>\n",
       "</div>"
      ],
      "text/plain": [
       "          count\n",
       "8382237     135\n",
       "8708339     134\n",
       "8818872     131\n",
       "8403071     129\n",
       "8862355     128\n",
       "...         ...\n",
       "8665926       1\n",
       "8665927       1\n",
       "8665928       1\n",
       "8665929       1\n",
       "11130925      1\n",
       "\n",
       "[3322128 rows x 1 columns]"
      ]
     },
     "execution_count": 21,
     "metadata": {},
     "output_type": "execute_result"
    }
   ],
   "source": [
    "# Counting the number of SubBookings for each BookingId\n",
    "id_counts = df_final['BookingId'].value_counts()\n",
    "\n",
    "# Create a new DataFrame to hold the results\n",
    "id_result = pd.DataFrame({'count': id_counts})\n",
    "\n",
    "id_result"
   ]
  },
  {
   "attachments": {},
   "cell_type": "markdown",
   "metadata": {},
   "source": [
    "Counting how many times bookings with a certain number of SubBookings appear"
   ]
  },
  {
   "cell_type": "code",
   "execution_count": 22,
   "metadata": {},
   "outputs": [
    {
     "name": "stdout",
     "output_type": "stream",
     "text": [
      "          count  frequency\n",
      "10141763      1    2925778\n",
      "10394945      2     253879\n",
      "7759452       3      48401\n",
      "7677843       4      23573\n",
      "8516401       5      10653\n",
      "...         ...        ...\n",
      "7814589     123          1\n",
      "8556900     119          1\n",
      "8369876     115          1\n",
      "8920862     110          1\n",
      "8382237     135          1\n",
      "\n",
      "[128 rows x 2 columns]\n"
     ]
    }
   ],
   "source": [
    "# Add a new column indicating how many times each ID appears\n",
    "id_result['frequency'] = id_result.groupby('count')['count'].transform('count')\n",
    "\n",
    "# Keep only the unique frequency counts\n",
    "id_result = id_result.drop_duplicates(subset = 'count').sort_values('frequency', ascending = False)\n",
    "\n",
    "# Print the result\n",
    "print(id_result)"
   ]
  },
  {
   "attachments": {},
   "cell_type": "markdown",
   "metadata": {},
   "source": [
    "4.2) \"SubBookingName\""
   ]
  },
  {
   "attachments": {},
   "cell_type": "markdown",
   "metadata": {},
   "source": [
    "Counting the frequency of appearance of each SubBookingName. The alphabet letter does not have a full correspondence to the number of subBookings in the Booking beacuse there is no ensured consistency in how this variable is inputted in the system"
   ]
  },
  {
   "cell_type": "code",
   "execution_count": 23,
   "metadata": {},
   "outputs": [
    {
     "data": {
      "text/plain": [
       "A    4619213\n",
       "B     244863\n",
       "C      90890\n",
       "D      35139\n",
       "E      13490\n",
       "F       4746\n",
       "G       1765\n",
       "H        846\n",
       "I        417\n",
       "J        244\n",
       "K        134\n",
       "L         94\n",
       "M         30\n",
       "N         18\n",
       "O          8\n",
       "P          4\n",
       "R          4\n",
       "Q          4\n",
       "S          4\n",
       "U          3\n",
       "T          3\n",
       "V          3\n",
       "W          2\n",
       "Y          1\n",
       "X          1\n",
       "Name: SubBookingName, dtype: int64"
      ]
     },
     "execution_count": 23,
     "metadata": {},
     "output_type": "execute_result"
    }
   ],
   "source": [
    "# SubBookingName feature Gives information whether one delivery is sub-divided into multiple sub-bookings\n",
    "# The vast majority of deliveries only consists of one booking\n",
    "\n",
    "df_final[\"SubBookingName\"].value_counts()"
   ]
  },
  {
   "attachments": {},
   "cell_type": "markdown",
   "metadata": {},
   "source": [
    "4.3) \"FromLocation\" & 4.4) \"ToLocation\""
   ]
  },
  {
   "attachments": {},
   "cell_type": "markdown",
   "metadata": {},
   "source": [
    "These two variables indicate the starting and ending location, in string form.\n",
    "\n",
    "\n",
    "_Note_: In the dataset made available to the examiners these columns will result already encoded, as they contain sensitive data for DFDS. However, the process is provided below commented. Also, a version of the dataset with both encoded and non encoded variables is created, in order to be able to match back each encoding with the corresponding destination, if needed"
   ]
  },
  {
   "cell_type": "code",
   "execution_count": 24,
   "metadata": {},
   "outputs": [],
   "source": [
    "# Encode senders (FromLocation) and receivers (ToLocation) from deliveries for anonymization purposes\n",
    "# as they usually contain customer information\n",
    "\n",
    "# labelencoder = LabelEncoder()\n",
    "\n",
    "\n",
    "# df_final[\"FromLocationString\"] = df_final[\"FromLocation\"]\n",
    "# df_final[\"ToLocationString\"] = df_final[\"ToLocation\"]\n",
    "\n",
    "# #\n",
    "# df_final[\"FromLocation\"] = labelencoder.fit_transform(df_final[\"FromLocationString\"])\n",
    "# df_final[\"ToLocation\"] = labelencoder.fit_transform(df_final[\"ToLocationString\"])\n",
    "\n",
    "# df_final.head()"
   ]
  },
  {
   "cell_type": "code",
   "execution_count": 25,
   "metadata": {},
   "outputs": [],
   "source": [
    "# Export to CSV and drop columns here\n",
    "\n",
    "#df_final.to_csv('df_final_with_customers_internal.csv')\n",
    "\n",
    "# df_final=df_final.drop(['FromLocationString','ToLocationString'], axis=1)"
   ]
  },
  {
   "attachments": {},
   "cell_type": "markdown",
   "metadata": {},
   "source": [
    "4.5) \"StartRequestedDate\" & 4.6) \"EndRequestedDate\""
   ]
  },
  {
   "attachments": {},
   "cell_type": "markdown",
   "metadata": {},
   "source": [
    "Next, the date when a delivery was requested (StartRequestedDate) vs. when it was actually picked up (EndRequestedDate) are analysed  \n",
    "Firstly the variables are transformed to the appropriate format and then the wrong inputs are fixed\n"
   ]
  },
  {
   "cell_type": "code",
   "execution_count": 26,
   "metadata": {},
   "outputs": [
    {
     "name": "stdout",
     "output_type": "stream",
     "text": [
      "<class 'pandas.core.frame.DataFrame'>\n",
      "Int64Index: 5011926 entries, 0 to 5011925\n",
      "Data columns (total 19 columns):\n",
      " #   Column                 Dtype         \n",
      "---  ------                 -----         \n",
      " 0   BookingId              int64         \n",
      " 1   SubBookingName         object        \n",
      " 2   SubBookingLegId        int64         \n",
      " 3   FromLocation           int64         \n",
      " 4   ToLocation             int64         \n",
      " 5   StartRequestedDate     datetime64[ns]\n",
      " 6   EndRequestedDate       datetime64[ns]\n",
      " 7   Temperature            float64       \n",
      " 8   FromLatitude           float64       \n",
      " 9   FromLongtitude         float64       \n",
      " 10  FromCity               object        \n",
      " 11  FromCountry            object        \n",
      " 12  ToLatitude             float64       \n",
      " 13  ToLongtitude           float64       \n",
      " 14  ToCity                 object        \n",
      " 15  ToCountry              object        \n",
      " 16  FullLoadIndicator      object        \n",
      " 17  EmptyBookingIndicator  object        \n",
      " 18  Customer Name          float64       \n",
      "dtypes: datetime64[ns](2), float64(6), int64(4), object(7)\n",
      "memory usage: 764.8+ MB\n"
     ]
    }
   ],
   "source": [
    "# First, bring date columns to datetime format before analysis\n",
    "\n",
    "df_final['StartRequestedDate'] = pd.to_datetime(df_final['StartRequestedDate'])\n",
    "df_final['EndRequestedDate'] = pd.to_datetime(df_final['EndRequestedDate'])\n",
    "\n",
    "# Check if it worked\n",
    "df_final.info()"
   ]
  },
  {
   "attachments": {},
   "cell_type": "markdown",
   "metadata": {},
   "source": [
    "Any evidently wrong date and mimatch between start and end date are analysed and wrong observations are dropped"
   ]
  },
  {
   "cell_type": "code",
   "execution_count": 27,
   "metadata": {},
   "outputs": [],
   "source": [
    "# Add column for year in StartRequestedDate and EndRequestedDate\n",
    "\n",
    "df_final['StartYear'] = df_final.StartRequestedDate.apply(lambda x:x.year)\n",
    "df_final['EndYear'] = df_final.EndRequestedDate.apply(lambda x:x.year)"
   ]
  },
  {
   "attachments": {},
   "cell_type": "markdown",
   "metadata": {},
   "source": [
    "There seems to be some wrong inputs for the StartRequestedDate, as the dataset begins from the 1st January 2020"
   ]
  },
  {
   "cell_type": "code",
   "execution_count": 28,
   "metadata": {},
   "outputs": [
    {
     "data": {
      "text/plain": [
       "(64, 21)"
      ]
     },
     "execution_count": 28,
     "metadata": {},
     "output_type": "execute_result"
    }
   ],
   "source": [
    "# Counting entries before 1st January 2020 for the StartYear variable\n",
    "\n",
    "df_final[df_final.StartYear < 2020].shape"
   ]
  },
  {
   "attachments": {},
   "cell_type": "markdown",
   "metadata": {},
   "source": [
    "EndRequestedDate contains less wrong inputs, so we can use this variable as basis in our analysis"
   ]
  },
  {
   "cell_type": "code",
   "execution_count": 29,
   "metadata": {},
   "outputs": [
    {
     "data": {
      "text/plain": [
       "(44, 21)"
      ]
     },
     "execution_count": 29,
     "metadata": {},
     "output_type": "execute_result"
    }
   ],
   "source": [
    "# Counting entries before 1st January 2020 for the EndYear variable\n",
    "\n",
    "df_final[df_final.EndYear < 2020].shape"
   ]
  },
  {
   "cell_type": "code",
   "execution_count": 8,
   "metadata": {},
   "outputs": [
    {
     "data": {
      "text/plain": [
       "(4992586, 22)"
      ]
     },
     "execution_count": 8,
     "metadata": {},
     "output_type": "execute_result"
    }
   ],
   "source": [
    "# Remove rows where the EndRequestedDate is before 2020 \n",
    "df_final = df_final[df_final.EndYear >= 2020]\n",
    "\n",
    "# Remove rows where the EndRequestedDate is after 2023\n",
    "df_final = df_final[df_final.EndYear <= 2023]\n",
    "df_final.shape"
   ]
  },
  {
   "attachments": {},
   "cell_type": "markdown",
   "metadata": {},
   "source": [
    "When the StartYear and EndYear differ (18750 entries), it is mostly because of they happen in subsequent dates which belong to different years (31/12 vs 01/01), which is reasonable based on the definition of the StartRequestedDate and EndRequestedDate variable, therefore they are kept\n",
    " "
   ]
  },
  {
   "cell_type": "code",
   "execution_count": 30,
   "metadata": {},
   "outputs": [
    {
     "name": "stdout",
     "output_type": "stream",
     "text": [
      "(38279, 21)\n"
     ]
    },
    {
     "data": {
      "text/html": [
       "<div>\n",
       "<style scoped>\n",
       "    .dataframe tbody tr th:only-of-type {\n",
       "        vertical-align: middle;\n",
       "    }\n",
       "\n",
       "    .dataframe tbody tr th {\n",
       "        vertical-align: top;\n",
       "    }\n",
       "\n",
       "    .dataframe thead th {\n",
       "        text-align: right;\n",
       "    }\n",
       "</style>\n",
       "<table border=\"1\" class=\"dataframe\">\n",
       "  <thead>\n",
       "    <tr style=\"text-align: right;\">\n",
       "      <th></th>\n",
       "      <th>BookingId</th>\n",
       "      <th>SubBookingName</th>\n",
       "      <th>SubBookingLegId</th>\n",
       "      <th>FromLocation</th>\n",
       "      <th>ToLocation</th>\n",
       "      <th>StartRequestedDate</th>\n",
       "      <th>EndRequestedDate</th>\n",
       "      <th>Temperature</th>\n",
       "      <th>FromLatitude</th>\n",
       "      <th>FromLongtitude</th>\n",
       "      <th>FromCity</th>\n",
       "      <th>FromCountry</th>\n",
       "      <th>ToLatitude</th>\n",
       "      <th>ToLongtitude</th>\n",
       "      <th>ToCity</th>\n",
       "      <th>ToCountry</th>\n",
       "      <th>FullLoadIndicator</th>\n",
       "      <th>EmptyBookingIndicator</th>\n",
       "      <th>Customer Name</th>\n",
       "      <th>StartYear</th>\n",
       "      <th>EndYear</th>\n",
       "    </tr>\n",
       "  </thead>\n",
       "  <tbody>\n",
       "    <tr>\n",
       "      <th>1011</th>\n",
       "      <td>7400270</td>\n",
       "      <td>A</td>\n",
       "      <td>8267340</td>\n",
       "      <td>5372</td>\n",
       "      <td>12409</td>\n",
       "      <td>2020-12-31</td>\n",
       "      <td>2021-01-01</td>\n",
       "      <td>NaN</td>\n",
       "      <td>57.12226</td>\n",
       "      <td>-2.08894</td>\n",
       "      <td>Aberdeen</td>\n",
       "      <td>United Kingdom</td>\n",
       "      <td>55.72639</td>\n",
       "      <td>-3.95987</td>\n",
       "      <td>Larkhall</td>\n",
       "      <td>United Kingdom</td>\n",
       "      <td>Y</td>\n",
       "      <td>N</td>\n",
       "      <td>4037.0</td>\n",
       "      <td>2020.0</td>\n",
       "      <td>2021.0</td>\n",
       "    </tr>\n",
       "    <tr>\n",
       "      <th>1012</th>\n",
       "      <td>7400271</td>\n",
       "      <td>A</td>\n",
       "      <td>8267341</td>\n",
       "      <td>5064</td>\n",
       "      <td>12409</td>\n",
       "      <td>2020-12-31</td>\n",
       "      <td>2021-01-01</td>\n",
       "      <td>NaN</td>\n",
       "      <td>55.81563</td>\n",
       "      <td>-4.06952</td>\n",
       "      <td>UDDINGSTON</td>\n",
       "      <td>United Kingdom</td>\n",
       "      <td>55.72639</td>\n",
       "      <td>-3.95987</td>\n",
       "      <td>Larkhall</td>\n",
       "      <td>United Kingdom</td>\n",
       "      <td>Y</td>\n",
       "      <td>N</td>\n",
       "      <td>4037.0</td>\n",
       "      <td>2020.0</td>\n",
       "      <td>2021.0</td>\n",
       "    </tr>\n",
       "    <tr>\n",
       "      <th>1015</th>\n",
       "      <td>7400273</td>\n",
       "      <td>A</td>\n",
       "      <td>8267344</td>\n",
       "      <td>5451</td>\n",
       "      <td>12409</td>\n",
       "      <td>2020-12-31</td>\n",
       "      <td>2021-01-01</td>\n",
       "      <td>NaN</td>\n",
       "      <td>53.57513</td>\n",
       "      <td>-0.11671</td>\n",
       "      <td>GRIMSBY</td>\n",
       "      <td>United Kingdom</td>\n",
       "      <td>55.72639</td>\n",
       "      <td>-3.95987</td>\n",
       "      <td>Larkhall</td>\n",
       "      <td>United Kingdom</td>\n",
       "      <td>Y</td>\n",
       "      <td>N</td>\n",
       "      <td>4037.0</td>\n",
       "      <td>2020.0</td>\n",
       "      <td>2021.0</td>\n",
       "    </tr>\n",
       "    <tr>\n",
       "      <th>1017</th>\n",
       "      <td>7400275</td>\n",
       "      <td>A</td>\n",
       "      <td>8267346</td>\n",
       "      <td>7167</td>\n",
       "      <td>18532</td>\n",
       "      <td>2020-01-02</td>\n",
       "      <td>2021-01-03</td>\n",
       "      <td>NaN</td>\n",
       "      <td>55.77058</td>\n",
       "      <td>-2.33837</td>\n",
       "      <td>DUNS</td>\n",
       "      <td>United Kingdom</td>\n",
       "      <td>55.82770</td>\n",
       "      <td>-3.98129</td>\n",
       "      <td>NORTH LANARKSHIRE</td>\n",
       "      <td>United Kingdom</td>\n",
       "      <td>Y</td>\n",
       "      <td>N</td>\n",
       "      <td>4037.0</td>\n",
       "      <td>2020.0</td>\n",
       "      <td>2021.0</td>\n",
       "    </tr>\n",
       "    <tr>\n",
       "      <th>1449</th>\n",
       "      <td>7400530</td>\n",
       "      <td>A</td>\n",
       "      <td>8267622</td>\n",
       "      <td>10339</td>\n",
       "      <td>33302</td>\n",
       "      <td>2020-12-31</td>\n",
       "      <td>2021-01-05</td>\n",
       "      <td>NaN</td>\n",
       "      <td>45.75822</td>\n",
       "      <td>12.81087</td>\n",
       "      <td>Portogruaro</td>\n",
       "      <td>Italy</td>\n",
       "      <td>57.68486</td>\n",
       "      <td>12.22925</td>\n",
       "      <td>Landvetter</td>\n",
       "      <td>Sweden</td>\n",
       "      <td>Y</td>\n",
       "      <td>N</td>\n",
       "      <td>5191.0</td>\n",
       "      <td>2020.0</td>\n",
       "      <td>2021.0</td>\n",
       "    </tr>\n",
       "  </tbody>\n",
       "</table>\n",
       "</div>"
      ],
      "text/plain": [
       "      BookingId SubBookingName  SubBookingLegId  FromLocation  ToLocation  \\\n",
       "1011    7400270              A          8267340          5372       12409   \n",
       "1012    7400271              A          8267341          5064       12409   \n",
       "1015    7400273              A          8267344          5451       12409   \n",
       "1017    7400275              A          8267346          7167       18532   \n",
       "1449    7400530              A          8267622         10339       33302   \n",
       "\n",
       "     StartRequestedDate EndRequestedDate  Temperature  FromLatitude  \\\n",
       "1011         2020-12-31       2021-01-01          NaN      57.12226   \n",
       "1012         2020-12-31       2021-01-01          NaN      55.81563   \n",
       "1015         2020-12-31       2021-01-01          NaN      53.57513   \n",
       "1017         2020-01-02       2021-01-03          NaN      55.77058   \n",
       "1449         2020-12-31       2021-01-05          NaN      45.75822   \n",
       "\n",
       "      FromLongtitude     FromCity     FromCountry  ToLatitude  ToLongtitude  \\\n",
       "1011        -2.08894     Aberdeen  United Kingdom    55.72639      -3.95987   \n",
       "1012        -4.06952   UDDINGSTON  United Kingdom    55.72639      -3.95987   \n",
       "1015        -0.11671      GRIMSBY  United Kingdom    55.72639      -3.95987   \n",
       "1017        -2.33837         DUNS  United Kingdom    55.82770      -3.98129   \n",
       "1449        12.81087  Portogruaro           Italy    57.68486      12.22925   \n",
       "\n",
       "                 ToCity       ToCountry FullLoadIndicator  \\\n",
       "1011           Larkhall  United Kingdom                 Y   \n",
       "1012           Larkhall  United Kingdom                 Y   \n",
       "1015           Larkhall  United Kingdom                 Y   \n",
       "1017  NORTH LANARKSHIRE  United Kingdom                 Y   \n",
       "1449         Landvetter          Sweden                 Y   \n",
       "\n",
       "     EmptyBookingIndicator  Customer Name  StartYear  EndYear  \n",
       "1011                     N         4037.0     2020.0   2021.0  \n",
       "1012                     N         4037.0     2020.0   2021.0  \n",
       "1015                     N         4037.0     2020.0   2021.0  \n",
       "1017                     N         4037.0     2020.0   2021.0  \n",
       "1449                     N         5191.0     2020.0   2021.0  "
      ]
     },
     "execution_count": 30,
     "metadata": {},
     "output_type": "execute_result"
    }
   ],
   "source": [
    "# Mismatch between StartYear and End year\n",
    "diff = df_final[df_final.StartYear != df_final.EndYear]\n",
    "print(diff.shape)\n",
    "diff.head()"
   ]
  },
  {
   "cell_type": "code",
   "execution_count": 9,
   "metadata": {},
   "outputs": [],
   "source": [
    "# Remove the columns created before, as not necessary anymore\n",
    "\n",
    "cols = ['StartYear','EndYear']\n",
    "df_final = df_final.drop(cols, axis = 1)"
   ]
  },
  {
   "attachments": {},
   "cell_type": "markdown",
   "metadata": {},
   "source": [
    "After this data cleaning, weekly deliveries are plotted:\n",
    "\n",
    "- The dips at the beginning of 2021, 2022 and 2023 are due to low activity surrounding end/beginning of year  \n",
    "- The sudden rise in 10/2022 is due to DDFS acquiring another company in 2020/2021; it seems like the operations of this new part of DFDS have only been fed into the data systems around the end of 2022"
   ]
  },
  {
   "cell_type": "code",
   "execution_count": 31,
   "metadata": {},
   "outputs": [
    {
     "data": {
      "image/png": "[encoded data removed]",
      "text/plain": [
       "<Figure size 1080x540 with 1 Axes>"
      ]
     },
     "metadata": {
      "needs_background": "light"
     },
     "output_type": "display_data"
    }
   ],
   "source": [
    "# Plotting WEEKLY number of deliveries\n",
    "weekly_deliveries = df_final.groupby(pd.Grouper(key = 'EndRequestedDate', freq = 'W')).count()\n",
    "\n",
    "# Setting figure size\n",
    "fig = plt.figure(figsize = (15, 7.5))\n",
    "\n",
    "# Plot the number of deliveries over time\n",
    "plt.plot(weekly_deliveries.index, weekly_deliveries['BookingId'], label = 'Deliveries')\n",
    "\n",
    "# Add axis labels and a title\n",
    "plt.xlabel('Time')\n",
    "plt.xlim(pd.Timestamp('2021-01-01'), pd.Timestamp('2023-03-01'), None)\n",
    "plt.ylabel('Number of deliveries')\n",
    "plt.title('Weekly deliveries over time')\n",
    "\n",
    "# Show the plot\n",
    "plt.show()"
   ]
  },
  {
   "attachments": {},
   "cell_type": "markdown",
   "metadata": {},
   "source": [
    "The same data is plotten on a daily level:\n",
    "- in addition to the behaviour shown previously, a weekly pattern can also be seen"
   ]
  },
  {
   "cell_type": "code",
   "execution_count": 32,
   "metadata": {},
   "outputs": [
    {
     "data": {
      "image/png": "[encoded data removed]",
      "text/plain": [
       "<Figure size 1800x360 with 1 Axes>"
      ]
     },
     "metadata": {
      "needs_background": "light"
     },
     "output_type": "display_data"
    }
   ],
   "source": [
    "# Plotting DAILY number of deliveries \n",
    "daily_deliveries = df_final.groupby(pd.Grouper(key = 'StartRequestedDate', freq = 'D')).count()\n",
    "\n",
    "# Setting figure size\n",
    "fig = plt.figure(figsize=(25, 5))\n",
    "\n",
    "# Plot the number of deliveries over time\n",
    "plt.plot(daily_deliveries.index, daily_deliveries['BookingId'], label = 'Deliveries')\n",
    "\n",
    "# Add axis labels and a title\n",
    "plt.xlabel('Time')\n",
    "plt.xlim(pd.Timestamp('2021-01-01'), pd.Timestamp('2023-03-01'), None)\n",
    "plt.ylabel('Number of deliveries')\n",
    "plt.title('Daily deliveries over time')\n",
    "\n",
    "# Show the plot\n",
    "plt.show()"
   ]
  },
  {
   "attachments": {},
   "cell_type": "markdown",
   "metadata": {},
   "source": [
    "'EndRequestedDate' Should look similar as the distribution of 'StartRequestedDate', this is checked: 2m deliveries are being picked up at the date they are supposed to "
   ]
  },
  {
   "cell_type": "code",
   "execution_count": 33,
   "metadata": {},
   "outputs": [
    {
     "name": "stdout",
     "output_type": "stream",
     "text": [
      "2022998\n"
     ]
    }
   ],
   "source": [
    "# Print the number of unique dates where delivery was planned and actually executed the same day\n",
    "\n",
    "same_date = df_final['StartRequestedDate'] == df_final['EndRequestedDate']\n",
    "print(same_date.sum()) #"
   ]
  },
  {
   "cell_type": "code",
   "execution_count": 34,
   "metadata": {},
   "outputs": [
    {
     "data": {
      "image/png": "[encoded data removed]",
      "text/plain": [
       "<Figure size 1080x540 with 1 Axes>"
      ]
     },
     "metadata": {
      "needs_background": "light"
     },
     "output_type": "display_data"
    }
   ],
   "source": [
    "# Now checking if this is also visible in a graph\n",
    "\n",
    "# Plotting WEEKLY number of deliveries\n",
    "weekly_deliveries_planned = df_final.groupby(pd.Grouper(key = 'StartRequestedDate', freq = 'W')).count()\n",
    "weekly_deliveries_actual = df_final.groupby(pd.Grouper(key = 'EndRequestedDate', freq = 'W')).count()\n",
    "\n",
    "# Setting figure size\n",
    "fig = plt.figure(figsize=(15, 7.5))\n",
    "\n",
    "# Plot the number of deliveries over time\n",
    "plt.plot(weekly_deliveries_planned.index, weekly_deliveries_planned['BookingId'], label = 'Planned Deliveries')\n",
    "plt.plot(weekly_deliveries_actual.index, weekly_deliveries_actual['BookingId'], label = 'Actual Deliveries')\n",
    "\n",
    "# Add axis labels and a title\n",
    "plt.xlabel('Time')\n",
    "plt.xlim(pd.Timestamp('2021-01-01'), pd.Timestamp('2023-03-01'), None)\n",
    "plt.ylabel('Number of deliveries')\n",
    "plt.title('Planned vs. Actual Weekly deliveries over time')\n",
    "\n",
    "# Show the plot\n",
    "plt.show()"
   ]
  },
  {
   "attachments": {},
   "cell_type": "markdown",
   "metadata": {},
   "source": [
    "4.8) \"Temperature\""
   ]
  },
  {
   "attachments": {},
   "cell_type": "markdown",
   "metadata": {},
   "source": [
    "As seen before this variable contains more that 81% of missing data, so the analysis has to be evaluated with care  \n",
    "The distribution analysis shows that goods requiring refrigeration are handled. These have to be differentiated as cold transports have less reach. \n",
    "Find the creation of a new variable for frozen loads in \"Feature Engineering\" part below. "
   ]
  },
  {
   "cell_type": "code",
   "execution_count": 35,
   "metadata": {},
   "outputs": [
    {
     "data": {
      "text/plain": [
       "81.14122195738724"
      ]
     },
     "execution_count": 35,
     "metadata": {},
     "output_type": "execute_result"
    }
   ],
   "source": [
    "# Checking number of null values\n",
    "df_final['Temperature'].isna().sum() / len(df_final) * 100 "
   ]
  },
  {
   "cell_type": "code",
   "execution_count": 36,
   "metadata": {},
   "outputs": [
    {
     "data": {
      "text/plain": [
       "count    945188.000000\n",
       "mean         -7.570695\n",
       "std          15.486455\n",
       "min         -40.000000\n",
       "25%         -22.000000\n",
       "50%          -5.000000\n",
       "75%           0.000000\n",
       "max          99.000000\n",
       "Name: Temperature, dtype: float64"
      ]
     },
     "execution_count": 36,
     "metadata": {},
     "output_type": "execute_result"
    }
   ],
   "source": [
    "# Get a description of the overall distribution of the feature value\n",
    "\n",
    "df_final['Temperature'].describe()"
   ]
  },
  {
   "cell_type": "code",
   "execution_count": 37,
   "metadata": {},
   "outputs": [
    {
     "data": {
      "image/png": "[encoded data removed]",
      "text/plain": [
       "<Figure size 432x288 with 1 Axes>"
      ]
     },
     "metadata": {
      "needs_background": "light"
     },
     "output_type": "display_data"
    }
   ],
   "source": [
    "#Create a graph for the frequency of distribution of temperature values\n",
    "\n",
    "plt.hist(df_final['Temperature'], bins=100)\n",
    "plt.xlabel('Temperature')\n",
    "plt.ylabel('Frequency')\n",
    "plt.title('Distribution of Temperature')\n",
    "plt.show()"
   ]
  },
  {
   "attachments": {},
   "cell_type": "markdown",
   "metadata": {},
   "source": [
    "4.9) \"FromLatitude\" and 4.10) \"FromLongtitude\" "
   ]
  },
  {
   "attachments": {},
   "cell_type": "markdown",
   "metadata": {},
   "source": [
    "This variable contains information about the latitude and longitude points where a booking/delivery departs from.  \n",
    "Since no null value is present, no analyses in will be carried out here, for geographical visualization see Tableau.  \n",
    "Still, the variables will be used to calculate distances below in feature engineering part."
   ]
  },
  {
   "cell_type": "code",
   "execution_count": 38,
   "metadata": {},
   "outputs": [],
   "source": [
    "# Rename longitude column to vanish typo: \n",
    "\n",
    "df_final.rename(columns = {\"FromLongtitude\": \"FromLongitude\"}, inplace = True)"
   ]
  },
  {
   "attachments": {},
   "cell_type": "markdown",
   "metadata": {},
   "source": [
    "4.11) \"FromCity\""
   ]
  },
  {
   "attachments": {},
   "cell_type": "markdown",
   "metadata": {},
   "source": [
    "This variable contains information about the city from which a booking/delivery departs from.  \n",
    "Since there is only one null value, which cannot be reconducted from a specific city (latitude = 0, longitude = 0), the value is dropped"
   ]
  },
  {
   "cell_type": "code",
   "execution_count": 39,
   "metadata": {},
   "outputs": [
    {
     "data": {
      "text/plain": [
       "1"
      ]
     },
     "execution_count": 39,
     "metadata": {},
     "output_type": "execute_result"
    }
   ],
   "source": [
    "df_final['FromCity'].isna().sum() "
   ]
  },
  {
   "cell_type": "code",
   "execution_count": 40,
   "metadata": {},
   "outputs": [
    {
     "data": {
      "text/html": [
       "<div>\n",
       "<style scoped>\n",
       "    .dataframe tbody tr th:only-of-type {\n",
       "        vertical-align: middle;\n",
       "    }\n",
       "\n",
       "    .dataframe tbody tr th {\n",
       "        vertical-align: top;\n",
       "    }\n",
       "\n",
       "    .dataframe thead th {\n",
       "        text-align: right;\n",
       "    }\n",
       "</style>\n",
       "<table border=\"1\" class=\"dataframe\">\n",
       "  <thead>\n",
       "    <tr style=\"text-align: right;\">\n",
       "      <th></th>\n",
       "      <th>BookingId</th>\n",
       "      <th>SubBookingName</th>\n",
       "      <th>SubBookingLegId</th>\n",
       "      <th>FromLocation</th>\n",
       "      <th>ToLocation</th>\n",
       "      <th>StartRequestedDate</th>\n",
       "      <th>EndRequestedDate</th>\n",
       "      <th>Temperature</th>\n",
       "      <th>FromLatitude</th>\n",
       "      <th>FromLongitude</th>\n",
       "      <th>FromCity</th>\n",
       "      <th>FromCountry</th>\n",
       "      <th>ToLatitude</th>\n",
       "      <th>ToLongtitude</th>\n",
       "      <th>ToCity</th>\n",
       "      <th>ToCountry</th>\n",
       "      <th>FullLoadIndicator</th>\n",
       "      <th>EmptyBookingIndicator</th>\n",
       "      <th>Customer Name</th>\n",
       "      <th>StartYear</th>\n",
       "      <th>EndYear</th>\n",
       "    </tr>\n",
       "  </thead>\n",
       "  <tbody>\n",
       "    <tr>\n",
       "      <th>1489942</th>\n",
       "      <td>8437542</td>\n",
       "      <td>A</td>\n",
       "      <td>10004064</td>\n",
       "      <td>7345</td>\n",
       "      <td>10662</td>\n",
       "      <td>2021-08-25</td>\n",
       "      <td>2021-08-25</td>\n",
       "      <td>0.0</td>\n",
       "      <td>0.0</td>\n",
       "      <td>0.0</td>\n",
       "      <td>NaN</td>\n",
       "      <td>NaN</td>\n",
       "      <td>53.57836</td>\n",
       "      <td>-2.27776</td>\n",
       "      <td>Bury</td>\n",
       "      <td>United Kingdom</td>\n",
       "      <td>NaN</td>\n",
       "      <td>NaN</td>\n",
       "      <td>NaN</td>\n",
       "      <td>2021.0</td>\n",
       "      <td>2021.0</td>\n",
       "    </tr>\n",
       "  </tbody>\n",
       "</table>\n",
       "</div>"
      ],
      "text/plain": [
       "         BookingId SubBookingName  SubBookingLegId  FromLocation  ToLocation  \\\n",
       "1489942    8437542              A         10004064          7345       10662   \n",
       "\n",
       "        StartRequestedDate EndRequestedDate  Temperature  FromLatitude  \\\n",
       "1489942         2021-08-25       2021-08-25          0.0           0.0   \n",
       "\n",
       "         FromLongitude FromCity FromCountry  ToLatitude  ToLongtitude ToCity  \\\n",
       "1489942            0.0      NaN         NaN    53.57836      -2.27776   Bury   \n",
       "\n",
       "              ToCountry FullLoadIndicator EmptyBookingIndicator  \\\n",
       "1489942  United Kingdom               NaN                   NaN   \n",
       "\n",
       "         Customer Name  StartYear  EndYear  \n",
       "1489942            NaN     2021.0   2021.0  "
      ]
     },
     "execution_count": 40,
     "metadata": {},
     "output_type": "execute_result"
    }
   ],
   "source": [
    "df_final[df_final['FromCity'].isna()]"
   ]
  },
  {
   "cell_type": "code",
   "execution_count": 41,
   "metadata": {},
   "outputs": [],
   "source": [
    "df_final= df_final[df_final['FromCity'].isna()==False]"
   ]
  },
  {
   "attachments": {},
   "cell_type": "markdown",
   "metadata": {},
   "source": [
    "4.12) \"FromCountry\""
   ]
  },
  {
   "attachments": {},
   "cell_type": "markdown",
   "metadata": {},
   "source": [
    "This variable indicates the Country where a booking/delivery departs from.  \n",
    "Since there are missing values, we try to retrieve the County names starting from the geocoordinates. "
   ]
  },
  {
   "cell_type": "code",
   "execution_count": 42,
   "metadata": {},
   "outputs": [
    {
     "data": {
      "text/plain": [
       "96414"
      ]
     },
     "execution_count": 42,
     "metadata": {},
     "output_type": "execute_result"
    }
   ],
   "source": [
    "# There are quite some missing values in this variable due to the merge. \n",
    "\n",
    "df_final[\"FromCountry\"].isna().sum()"
   ]
  },
  {
   "attachments": {},
   "cell_type": "markdown",
   "metadata": {},
   "source": [
    "Let's fill the gaps by reverse geocoding and get countries via the coordinates. \n"
   ]
  },
  {
   "cell_type": "code",
   "execution_count": 43,
   "metadata": {},
   "outputs": [],
   "source": [
    "# Define a function to get the country from the latitude and longitude columns\n",
    "\n",
    "def get_from_country(row):\n",
    "    if pd.isnull(row['FromCountry']):\n",
    "        coordinates = (row['FromLatitude'], row['FromLongitude']), (0, 0)\n",
    "        address = reverse_geocode.search(coordinates)[0]\n",
    "        return address['country']\n",
    "    else:\n",
    "        return row['FromCountry']"
   ]
  },
  {
   "cell_type": "code",
   "execution_count": 44,
   "metadata": {},
   "outputs": [],
   "source": [
    "# Apply the function\n",
    "\n",
    "df_final['FromCountry'] = df_final.apply(get_from_country, axis = 1)"
   ]
  },
  {
   "cell_type": "code",
   "execution_count": 45,
   "metadata": {},
   "outputs": [
    {
     "data": {
      "image/png": "[encoded data removed]",
      "text/plain": [
       "<Figure size 432x288 with 1 Axes>"
      ]
     },
     "metadata": {},
     "output_type": "display_data"
    }
   ],
   "source": [
    "# Now let's visualize the variable\n",
    "\n",
    "from_country = df_final['FromCountry'].value_counts()\n",
    "\n",
    "def my_autopct(pct):\n",
    "    return ('%.2f' % pct) if pct > 3 else ''\n",
    "\n",
    "def get_new_labels(sizes, labels):\n",
    "    new_labels = [label if size > 100801 else '' for size, label in zip(sizes, labels)]\n",
    "    return new_labels\n",
    "\n",
    "plt.pie(from_country,\n",
    "        autopct=my_autopct,\n",
    "        startangle = 90,\n",
    "        pctdistance = 0.8,\n",
    "        labels=get_new_labels(from_country,from_country.index),\n",
    "        labeldistance = 1.2)\n",
    "\n",
    "#plt.legend(from_country.index)\n",
    "plt.axis('equal')\n",
    "plt.title('Freight Collection Distribution by Country (%)')\n",
    "plt.show()"
   ]
  },
  {
   "attachments": {},
   "cell_type": "markdown",
   "metadata": {},
   "source": [
    "4.13) \"ToLatitude\" and 4.14) \"ToLongtitude\""
   ]
  },
  {
   "attachments": {},
   "cell_type": "markdown",
   "metadata": {},
   "source": [
    "This variable contains information about the latitude and longitude points where a booking/delivery is headed.  \n",
    "Since no null value is present, no analyses in will be carried out here, for geographical visualization see Tableau.  \n",
    "Still, the variables will be used to calculate distances below in feature engineering part."
   ]
  },
  {
   "cell_type": "code",
   "execution_count": 46,
   "metadata": {},
   "outputs": [],
   "source": [
    "# Rename longitude column to vanish typo: \n",
    "df_final.rename(columns = {\"ToLongtitude\": \"ToLongitude\"}, inplace = True)"
   ]
  },
  {
   "attachments": {},
   "cell_type": "markdown",
   "metadata": {},
   "source": [
    "Some rows appeared to have latitude and longitude = 0.00. This is most likely due to human error, because that corresponds to \"NullIsland\" and so the returned country = Ghana  \n",
    "For this reason these observations are dropped"
   ]
  },
  {
   "cell_type": "code",
   "execution_count": 47,
   "metadata": {},
   "outputs": [],
   "source": [
    "# Removing rows with latitude and longitude = 0.00 \n",
    "\n",
    "df_final = df_final[df_final.FromLongitude != 0.000000]\n",
    "df_final = df_final[df_final.ToLongitude != 0.000000]"
   ]
  },
  {
   "cell_type": "code",
   "execution_count": 48,
   "metadata": {},
   "outputs": [
    {
     "data": {
      "text/plain": [
       "(4980888, 21)"
      ]
     },
     "execution_count": 48,
     "metadata": {},
     "output_type": "execute_result"
    }
   ],
   "source": [
    "df_final.shape"
   ]
  },
  {
   "attachments": {},
   "cell_type": "markdown",
   "metadata": {},
   "source": [
    "4.15) \"ToCity\""
   ]
  },
  {
   "attachments": {},
   "cell_type": "markdown",
   "metadata": {},
   "source": [
    "This variable contains information about the city from which a booking/delivery departs from.  \n",
    "No null values are present, so no further analysis is carried out here and it will only be use later for vizualisation purposes in Tableau\n"
   ]
  },
  {
   "cell_type": "code",
   "execution_count": 49,
   "metadata": {},
   "outputs": [
    {
     "data": {
      "text/plain": [
       "0"
      ]
     },
     "execution_count": 49,
     "metadata": {},
     "output_type": "execute_result"
    }
   ],
   "source": [
    "df_final['FromCity'].isna().sum() "
   ]
  },
  {
   "attachments": {},
   "cell_type": "markdown",
   "metadata": {},
   "source": [
    "4.16) \"ToCountry\""
   ]
  },
  {
   "attachments": {},
   "cell_type": "markdown",
   "metadata": {},
   "source": [
    "This variable indicates the Country where a booking/delivery is headed.  \n",
    "Since there are missing values, we try to retrieve the County names starting from the geocoordinates. "
   ]
  },
  {
   "cell_type": "code",
   "execution_count": 50,
   "metadata": {},
   "outputs": [
    {
     "data": {
      "text/plain": [
       "54192"
      ]
     },
     "execution_count": 50,
     "metadata": {},
     "output_type": "execute_result"
    }
   ],
   "source": [
    "# There are quite some missing values in this variable due to the merge. \n",
    "\n",
    "df_final[\"ToCountry\"].isna().sum()"
   ]
  },
  {
   "attachments": {},
   "cell_type": "markdown",
   "metadata": {},
   "source": [
    "Let's fill the gaps by reverse geocoding and get countries via the coordinates. \n"
   ]
  },
  {
   "cell_type": "code",
   "execution_count": 51,
   "metadata": {},
   "outputs": [],
   "source": [
    "# Define a function to get the country from the latitude and longitude columns\n",
    "def get_to_country(row):\n",
    "    if pd.isnull(row['ToCountry']):\n",
    "        coordinates = (row['ToLatitude'], row['ToLongitude']), (0, 0)\n",
    "        address=reverse_geocode.search(coordinates)[0]\n",
    "        return address['country']\n",
    "    else:\n",
    "        return row['ToCountry']"
   ]
  },
  {
   "cell_type": "code",
   "execution_count": 52,
   "metadata": {},
   "outputs": [],
   "source": [
    "# Applying the Function\n",
    "df_final['ToCountry'] = df_final.apply(get_to_country, axis=1)"
   ]
  },
  {
   "cell_type": "code",
   "execution_count": 53,
   "metadata": {},
   "outputs": [
    {
     "data": {
      "text/plain": [
       "0"
      ]
     },
     "execution_count": 53,
     "metadata": {},
     "output_type": "execute_result"
    }
   ],
   "source": [
    "# Check again for missing values\n",
    "df_final[\"ToCountry\"].isna().sum()"
   ]
  },
  {
   "cell_type": "code",
   "execution_count": 54,
   "metadata": {},
   "outputs": [
    {
     "data": {
      "image/png": "[encoded data removed]",
      "text/plain": [
       "<Figure size 432x288 with 1 Axes>"
      ]
     },
     "metadata": {},
     "output_type": "display_data"
    }
   ],
   "source": [
    "# Now let's visualize the variable\n",
    "\n",
    "to_country = df_final['ToCountry'].value_counts()\n",
    "\n",
    "def my_autopct(pct):\n",
    "    return ('%.2f' % pct) if pct > 3 else ''\n",
    "\n",
    "def get_new_labels(sizes, labels):\n",
    "    new_labels = [label if size > 100801 else '' for size, label in zip(sizes, labels)]\n",
    "    return new_labels\n",
    "\n",
    "plt.pie(to_country,\n",
    "        autopct=my_autopct,\n",
    "        startangle = 90,\n",
    "        pctdistance = 0.8,\n",
    "        labels=get_new_labels(to_country,to_country.index),\n",
    "        labeldistance = 1.2)\n",
    "\n",
    "#plt.legend(to_country.index)\n",
    "plt.axis('equal')\n",
    "plt.title('Freight Delivery Distribution by Country (%)')\n",
    "plt.show()"
   ]
  },
  {
   "attachments": {},
   "cell_type": "markdown",
   "metadata": {},
   "source": [
    "Creating an additional visualization to compare the number of deliveries starting and ending countries for the top 10 origin countries "
   ]
  },
  {
   "cell_type": "code",
   "execution_count": 55,
   "metadata": {},
   "outputs": [
    {
     "data": {
      "text/plain": [
       "United Kingdom    1938433\n",
       "Sweden            1419592\n",
       "Denmark            537010\n",
       "Belgium            358265\n",
       "Netherlands        217257\n",
       "Germany            168870\n",
       "France             101664\n",
       "Ireland             86796\n",
       "Finland             48264\n",
       "Lithuania           22214\n",
       "Name: FromCountry, dtype: int64"
      ]
     },
     "execution_count": 55,
     "metadata": {},
     "output_type": "execute_result"
    }
   ],
   "source": [
    "# Top 10 origin countries\n",
    "from_country[:10]"
   ]
  },
  {
   "cell_type": "code",
   "execution_count": 56,
   "metadata": {},
   "outputs": [],
   "source": [
    "# Extracting the number of deliveries ending in each country for the top 10 origin countries\n",
    "to_country_value=[]\n",
    "for c in to_country.index:\n",
    "    if c in from_country[:10].index:\n",
    "        to_country_value.append(to_country[c])"
   ]
  },
  {
   "cell_type": "code",
   "execution_count": 57,
   "metadata": {},
   "outputs": [
    {
     "data": {
      "image/png": "[encoded data removed]",
      "text/plain": [
       "<Figure size 1080x360 with 1 Axes>"
      ]
     },
     "metadata": {
      "needs_background": "light"
     },
     "output_type": "display_data"
    }
   ],
   "source": [
    "# Plotting the variables\n",
    "import numpy as np\n",
    "import matplotlib.pyplot as plt\n",
    "\n",
    "X = from_country[:10].index\n",
    "from_values = from_country[:10]\n",
    "to_values = to_country_value\n",
    "\n",
    "X_axis = np.arange(len(X))\n",
    "\n",
    "plt.figure(figsize=(15, 5))\n",
    "plt.bar(X_axis - 0.2, from_values, 0.4, label = 'Origin Country')\n",
    "plt.bar(X_axis + 0.2, to_values, 0.4, label = 'Destination Country')\n",
    "\n",
    "plt.xticks(X_axis, X)\n",
    "plt.xlabel(\"Groups\")\n",
    "plt.ylabel(\"Number of Journeys\")\n",
    "plt.title(\"Freight Distribution for the top 10 Country of Origin\")\n",
    "plt.legend()\n",
    "plt.show()\n"
   ]
  },
  {
   "attachments": {},
   "cell_type": "markdown",
   "metadata": {},
   "source": [
    "4.17) \"FullLoadIndicator\""
   ]
  },
  {
   "attachments": {},
   "cell_type": "markdown",
   "metadata": {},
   "source": [
    "This variable indicates whether a load was \"full\"  \n",
    "Around 11.7% of the variable are nulls, but it is still possible to get an overview of the type of load DFDS transfers"
   ]
  },
  {
   "cell_type": "code",
   "execution_count": 58,
   "metadata": {},
   "outputs": [
    {
     "name": "stdout",
     "output_type": "stream",
     "text": [
      "Nan: 591393\n"
     ]
    },
    {
     "data": {
      "text/plain": [
       "Y    2515483\n",
       "N    1874012\n",
       "Name: FullLoadIndicator, dtype: int64"
      ]
     },
     "execution_count": 58,
     "metadata": {},
     "output_type": "execute_result"
    }
   ],
   "source": [
    "# Checking loads counts\n",
    "\n",
    "print('Nan:',df_final.FullLoadIndicator.isna().sum())\n",
    "df_final.FullLoadIndicator.value_counts()"
   ]
  },
  {
   "attachments": {},
   "cell_type": "markdown",
   "metadata": {},
   "source": [
    "Since the values are in string format, with only 2 possible values (Y/N), the values are encoded"
   ]
  },
  {
   "cell_type": "code",
   "execution_count": 59,
   "metadata": {},
   "outputs": [],
   "source": [
    "# Binary encoding \"FullLoadIndicator\" from Y/N to 1/0\n",
    "\n",
    "labelencoder = preprocessing.LabelEncoder()\n",
    "\n",
    "df_final[\"FullLoadIndicator\"] = df_final[\"FullLoadIndicator\"].astype(str)\n",
    "df_final[\"FullLoadIndicator\"] = df_final[\"FullLoadIndicator\"].map({'Y': 1, 'N': 0})"
   ]
  },
  {
   "cell_type": "code",
   "execution_count": 60,
   "metadata": {},
   "outputs": [
    {
     "data": {
      "image/png": "[encoded data removed]",
      "text/plain": [
       "<Figure size 288x288 with 1 Axes>"
      ]
     },
     "metadata": {},
     "output_type": "display_data"
    }
   ],
   "source": [
    "# Plotting of FullLoadIndicator\n",
    "\n",
    "full_loads = df_final['FullLoadIndicator'].value_counts()\n",
    "\n",
    "full_loads.plot(kind = 'pie', \n",
    "                            figsize = (4, 4), \n",
    "                            autopct = '%1.1f%%', \n",
    "                            startangle = 90,\n",
    "                            pctdistance = 0.8,\n",
    "                            labeldistance = 1.1)\n",
    "\n",
    "plt.axis('equal')\n",
    "plt.title('Share of Full Loads')\n",
    "plt.show()"
   ]
  },
  {
   "attachments": {},
   "cell_type": "markdown",
   "metadata": {},
   "source": [
    "4.18) \"EmptyBookingIndicator\""
   ]
  },
  {
   "attachments": {},
   "cell_type": "markdown",
   "metadata": {},
   "source": [
    "This variable indicates whether a load was \"full\".  \n",
    "While the initial 'df' dataframe collected both empty and non-empty booking, after the merge there are only non-empty bookings. It is then possible to assume that df_with_legs_1/2 only records non-empty booking \n"
   ]
  },
  {
   "cell_type": "code",
   "execution_count": 61,
   "metadata": {},
   "outputs": [
    {
     "name": "stdout",
     "output_type": "stream",
     "text": [
      "Nan: 591393\n"
     ]
    },
    {
     "data": {
      "text/plain": [
       "N    4389495\n",
       "Name: EmptyBookingIndicator, dtype: int64"
      ]
     },
     "execution_count": 61,
     "metadata": {},
     "output_type": "execute_result"
    }
   ],
   "source": [
    "# Checking nulls and value distribution\n",
    "\n",
    "print('Nan:',df_final.FullLoadIndicator.isna().sum())\n",
    "\n",
    "df_final['EmptyBookingIndicator'].value_counts()"
   ]
  },
  {
   "cell_type": "code",
   "execution_count": 62,
   "metadata": {},
   "outputs": [],
   "source": [
    "# Binary encoding \"EmptyBookingIndicator\" from Y/N to 1/0\n",
    "\n",
    "labelencoder = preprocessing.LabelEncoder()\n",
    "\n",
    "df_final[\"EmptyBookingIndicator\"] = df_final[\"EmptyBookingIndicator\"].astype(str)\n",
    "df_final[\"EmptyBookingIndicator\"] = df_final[\"EmptyBookingIndicator\"].map({'Y': 1, 'N': 0})"
   ]
  },
  {
   "cell_type": "code",
   "execution_count": 63,
   "metadata": {},
   "outputs": [
    {
     "data": {
      "image/png": "[encoded data removed]",
      "text/plain": [
       "<Figure size 288x288 with 1 Axes>"
      ]
     },
     "metadata": {},
     "output_type": "display_data"
    }
   ],
   "source": [
    "# = Gives information about \"empty loads\"; mostly trucks heading back to DFDS entities after a delivery\n",
    "\n",
    "empty_booking = df_final['EmptyBookingIndicator'].value_counts()\n",
    "\n",
    "empty_booking.plot(kind = 'pie', \n",
    "                            figsize = (4, 4), \n",
    "                            autopct = '%1.1f%%', \n",
    "                            startangle = 90,\n",
    "                            pctdistance = 0.8,\n",
    "                            labeldistance = 1.1)\n",
    "\n",
    "plt.axis('equal')\n",
    "plt.title('Empty vs. non-Empty Bookings')\n",
    "plt.show()\n",
    "\n",
    "# No empty bookings in new dataset?"
   ]
  },
  {
   "attachments": {},
   "cell_type": "markdown",
   "metadata": {},
   "source": [
    "4.19) \"Customer Name\""
   ]
  },
  {
   "attachments": {},
   "cell_type": "markdown",
   "metadata": {},
   "source": [
    "This variable indicates the name of a customer.  \n",
    "Similarly for what happened for the FromLocation and ToLocation variable, values are encode to guarantee anonymization  \n",
    "_Note_: the data provided are already anonymized, so the related steps are commented out"
   ]
  },
  {
   "cell_type": "code",
   "execution_count": 64,
   "metadata": {},
   "outputs": [
    {
     "data": {
      "text/plain": [
       "12889"
      ]
     },
     "execution_count": 64,
     "metadata": {},
     "output_type": "execute_result"
    }
   ],
   "source": [
    "# For consistency, the column title is reformulated\n",
    "df_final.rename(columns = {\"Customer Name\": \"CustomerName\"}, inplace = True)\n",
    "\n",
    "# Counting unique number of customers:\n",
    "df_final[\"CustomerName\"].nunique()"
   ]
  },
  {
   "cell_type": "code",
   "execution_count": 65,
   "metadata": {},
   "outputs": [
    {
     "data": {
      "text/html": [
       "<div>\n",
       "<style scoped>\n",
       "    .dataframe tbody tr th:only-of-type {\n",
       "        vertical-align: middle;\n",
       "    }\n",
       "\n",
       "    .dataframe tbody tr th {\n",
       "        vertical-align: top;\n",
       "    }\n",
       "\n",
       "    .dataframe thead th {\n",
       "        text-align: right;\n",
       "    }\n",
       "</style>\n",
       "<table border=\"1\" class=\"dataframe\">\n",
       "  <thead>\n",
       "    <tr style=\"text-align: right;\">\n",
       "      <th></th>\n",
       "      <th>BookingId</th>\n",
       "      <th>SubBookingName</th>\n",
       "      <th>SubBookingLegId</th>\n",
       "      <th>FromLocation</th>\n",
       "      <th>ToLocation</th>\n",
       "      <th>StartRequestedDate</th>\n",
       "      <th>EndRequestedDate</th>\n",
       "      <th>Temperature</th>\n",
       "      <th>FromLatitude</th>\n",
       "      <th>FromLongitude</th>\n",
       "      <th>FromCity</th>\n",
       "      <th>FromCountry</th>\n",
       "      <th>ToLatitude</th>\n",
       "      <th>ToLongitude</th>\n",
       "      <th>ToCity</th>\n",
       "      <th>ToCountry</th>\n",
       "      <th>FullLoadIndicator</th>\n",
       "      <th>EmptyBookingIndicator</th>\n",
       "      <th>CustomerName</th>\n",
       "      <th>StartYear</th>\n",
       "      <th>EndYear</th>\n",
       "    </tr>\n",
       "  </thead>\n",
       "  <tbody>\n",
       "    <tr>\n",
       "      <th>0</th>\n",
       "      <td>7399574</td>\n",
       "      <td>A</td>\n",
       "      <td>8266605</td>\n",
       "      <td>19635</td>\n",
       "      <td>19104</td>\n",
       "      <td>2020-12-31</td>\n",
       "      <td>2020-12-31</td>\n",
       "      <td>NaN</td>\n",
       "      <td>53.51131</td>\n",
       "      <td>-1.12540</td>\n",
       "      <td>YORKSHIRE</td>\n",
       "      <td>United Kingdom</td>\n",
       "      <td>53.60475</td>\n",
       "      <td>-0.65636</td>\n",
       "      <td>SCUNTHORPE</td>\n",
       "      <td>United Kingdom</td>\n",
       "      <td>1.0</td>\n",
       "      <td>0.0</td>\n",
       "      <td>2966</td>\n",
       "      <td>2020.0</td>\n",
       "      <td>2020.0</td>\n",
       "    </tr>\n",
       "    <tr>\n",
       "      <th>1</th>\n",
       "      <td>7399575</td>\n",
       "      <td>A</td>\n",
       "      <td>8266607</td>\n",
       "      <td>5530</td>\n",
       "      <td>34030</td>\n",
       "      <td>2020-12-31</td>\n",
       "      <td>2020-12-31</td>\n",
       "      <td>NaN</td>\n",
       "      <td>53.50446</td>\n",
       "      <td>-2.84867</td>\n",
       "      <td>Liverpool</td>\n",
       "      <td>United Kingdom</td>\n",
       "      <td>53.04612</td>\n",
       "      <td>-2.92787</td>\n",
       "      <td>Wrexham</td>\n",
       "      <td>United Kingdom</td>\n",
       "      <td>1.0</td>\n",
       "      <td>0.0</td>\n",
       "      <td>8185</td>\n",
       "      <td>2020.0</td>\n",
       "      <td>2020.0</td>\n",
       "    </tr>\n",
       "    <tr>\n",
       "      <th>2</th>\n",
       "      <td>7399576</td>\n",
       "      <td>A</td>\n",
       "      <td>8266606</td>\n",
       "      <td>5530</td>\n",
       "      <td>34030</td>\n",
       "      <td>2020-12-31</td>\n",
       "      <td>2020-12-31</td>\n",
       "      <td>NaN</td>\n",
       "      <td>53.50446</td>\n",
       "      <td>-2.84867</td>\n",
       "      <td>Liverpool</td>\n",
       "      <td>United Kingdom</td>\n",
       "      <td>53.04612</td>\n",
       "      <td>-2.92787</td>\n",
       "      <td>Wrexham</td>\n",
       "      <td>United Kingdom</td>\n",
       "      <td>1.0</td>\n",
       "      <td>0.0</td>\n",
       "      <td>8185</td>\n",
       "      <td>2020.0</td>\n",
       "      <td>2020.0</td>\n",
       "    </tr>\n",
       "    <tr>\n",
       "      <th>3</th>\n",
       "      <td>7399577</td>\n",
       "      <td>A</td>\n",
       "      <td>8266608</td>\n",
       "      <td>3392</td>\n",
       "      <td>5652</td>\n",
       "      <td>2020-12-31</td>\n",
       "      <td>2020-12-31</td>\n",
       "      <td>NaN</td>\n",
       "      <td>53.77629</td>\n",
       "      <td>-1.52585</td>\n",
       "      <td>Leeds</td>\n",
       "      <td>United Kingdom</td>\n",
       "      <td>53.71874</td>\n",
       "      <td>-1.41235</td>\n",
       "      <td>YORKSHIRE</td>\n",
       "      <td>United Kingdom</td>\n",
       "      <td>0.0</td>\n",
       "      <td>0.0</td>\n",
       "      <td>4739</td>\n",
       "      <td>2020.0</td>\n",
       "      <td>2020.0</td>\n",
       "    </tr>\n",
       "    <tr>\n",
       "      <th>4</th>\n",
       "      <td>7399578</td>\n",
       "      <td>A</td>\n",
       "      <td>8266609</td>\n",
       "      <td>3392</td>\n",
       "      <td>1782</td>\n",
       "      <td>2020-12-31</td>\n",
       "      <td>2020-12-31</td>\n",
       "      <td>NaN</td>\n",
       "      <td>53.77629</td>\n",
       "      <td>-1.52585</td>\n",
       "      <td>Leeds</td>\n",
       "      <td>United Kingdom</td>\n",
       "      <td>55.87784</td>\n",
       "      <td>-3.65235</td>\n",
       "      <td>Bathgate</td>\n",
       "      <td>United Kingdom</td>\n",
       "      <td>1.0</td>\n",
       "      <td>0.0</td>\n",
       "      <td>4739</td>\n",
       "      <td>2020.0</td>\n",
       "      <td>2020.0</td>\n",
       "    </tr>\n",
       "  </tbody>\n",
       "</table>\n",
       "</div>"
      ],
      "text/plain": [
       "   BookingId SubBookingName  SubBookingLegId  FromLocation  ToLocation  \\\n",
       "0    7399574              A          8266605         19635       19104   \n",
       "1    7399575              A          8266607          5530       34030   \n",
       "2    7399576              A          8266606          5530       34030   \n",
       "3    7399577              A          8266608          3392        5652   \n",
       "4    7399578              A          8266609          3392        1782   \n",
       "\n",
       "  StartRequestedDate EndRequestedDate  Temperature  FromLatitude  \\\n",
       "0         2020-12-31       2020-12-31          NaN      53.51131   \n",
       "1         2020-12-31       2020-12-31          NaN      53.50446   \n",
       "2         2020-12-31       2020-12-31          NaN      53.50446   \n",
       "3         2020-12-31       2020-12-31          NaN      53.77629   \n",
       "4         2020-12-31       2020-12-31          NaN      53.77629   \n",
       "\n",
       "   FromLongitude   FromCity     FromCountry  ToLatitude  ToLongitude  \\\n",
       "0       -1.12540  YORKSHIRE  United Kingdom    53.60475     -0.65636   \n",
       "1       -2.84867  Liverpool  United Kingdom    53.04612     -2.92787   \n",
       "2       -2.84867  Liverpool  United Kingdom    53.04612     -2.92787   \n",
       "3       -1.52585      Leeds  United Kingdom    53.71874     -1.41235   \n",
       "4       -1.52585      Leeds  United Kingdom    55.87784     -3.65235   \n",
       "\n",
       "       ToCity       ToCountry  FullLoadIndicator  EmptyBookingIndicator  \\\n",
       "0  SCUNTHORPE  United Kingdom                1.0                    0.0   \n",
       "1     Wrexham  United Kingdom                1.0                    0.0   \n",
       "2     Wrexham  United Kingdom                1.0                    0.0   \n",
       "3   YORKSHIRE  United Kingdom                0.0                    0.0   \n",
       "4    Bathgate  United Kingdom                1.0                    0.0   \n",
       "\n",
       "   CustomerName  StartYear  EndYear  \n",
       "0          2966     2020.0   2020.0  \n",
       "1          8185     2020.0   2020.0  \n",
       "2          8185     2020.0   2020.0  \n",
       "3          4739     2020.0   2020.0  \n",
       "4          4739     2020.0   2020.0  "
      ]
     },
     "execution_count": 65,
     "metadata": {},
     "output_type": "execute_result"
    }
   ],
   "source": [
    "# Encoding Customer Name for anonymization purposes\n",
    "\n",
    "df_final[\"CustomerName\"] = labelencoder.fit_transform(df_final[\"CustomerName\"])\n",
    "df_final.head()"
   ]
  },
  {
   "attachments": {},
   "cell_type": "markdown",
   "metadata": {},
   "source": [
    "#### 5) Feature Engineering"
   ]
  },
  {
   "attachments": {},
   "cell_type": "markdown",
   "metadata": {},
   "source": [
    "In this section feature engineering is performed, meaning that new variables are created from the available ones in order to provide additional value "
   ]
  },
  {
   "attachments": {},
   "cell_type": "markdown",
   "metadata": {},
   "source": [
    "5.1) \"DomesticDelivery\""
   ]
  },
  {
   "attachments": {},
   "cell_type": "markdown",
   "metadata": {},
   "source": [
    "This feature is created to indicate whether the booking (or booking leg) happens only within on country or if it crosses borders.  \n",
    "For this feature: 1 if delivery is collected and delivered within the same country, 0 if otherwise\n"
   ]
  },
  {
   "cell_type": "code",
   "execution_count": 66,
   "metadata": {},
   "outputs": [
    {
     "data": {
      "text/html": [
       "<div>\n",
       "<style scoped>\n",
       "    .dataframe tbody tr th:only-of-type {\n",
       "        vertical-align: middle;\n",
       "    }\n",
       "\n",
       "    .dataframe tbody tr th {\n",
       "        vertical-align: top;\n",
       "    }\n",
       "\n",
       "    .dataframe thead th {\n",
       "        text-align: right;\n",
       "    }\n",
       "</style>\n",
       "<table border=\"1\" class=\"dataframe\">\n",
       "  <thead>\n",
       "    <tr style=\"text-align: right;\">\n",
       "      <th></th>\n",
       "      <th>BookingId</th>\n",
       "      <th>SubBookingName</th>\n",
       "      <th>SubBookingLegId</th>\n",
       "      <th>FromLocation</th>\n",
       "      <th>ToLocation</th>\n",
       "      <th>StartRequestedDate</th>\n",
       "      <th>EndRequestedDate</th>\n",
       "      <th>Temperature</th>\n",
       "      <th>FromLatitude</th>\n",
       "      <th>FromLongitude</th>\n",
       "      <th>FromCity</th>\n",
       "      <th>FromCountry</th>\n",
       "      <th>ToLatitude</th>\n",
       "      <th>ToLongitude</th>\n",
       "      <th>ToCity</th>\n",
       "      <th>ToCountry</th>\n",
       "      <th>FullLoadIndicator</th>\n",
       "      <th>EmptyBookingIndicator</th>\n",
       "      <th>CustomerName</th>\n",
       "      <th>StartYear</th>\n",
       "      <th>EndYear</th>\n",
       "      <th>DomesticDelivery</th>\n",
       "    </tr>\n",
       "  </thead>\n",
       "  <tbody>\n",
       "    <tr>\n",
       "      <th>0</th>\n",
       "      <td>7399574</td>\n",
       "      <td>A</td>\n",
       "      <td>8266605</td>\n",
       "      <td>19635</td>\n",
       "      <td>19104</td>\n",
       "      <td>2020-12-31</td>\n",
       "      <td>2020-12-31</td>\n",
       "      <td>NaN</td>\n",
       "      <td>53.51131</td>\n",
       "      <td>-1.12540</td>\n",
       "      <td>YORKSHIRE</td>\n",
       "      <td>United Kingdom</td>\n",
       "      <td>53.60475</td>\n",
       "      <td>-0.65636</td>\n",
       "      <td>SCUNTHORPE</td>\n",
       "      <td>United Kingdom</td>\n",
       "      <td>1.0</td>\n",
       "      <td>0.0</td>\n",
       "      <td>2966</td>\n",
       "      <td>2020.0</td>\n",
       "      <td>2020.0</td>\n",
       "      <td>1</td>\n",
       "    </tr>\n",
       "    <tr>\n",
       "      <th>1</th>\n",
       "      <td>7399575</td>\n",
       "      <td>A</td>\n",
       "      <td>8266607</td>\n",
       "      <td>5530</td>\n",
       "      <td>34030</td>\n",
       "      <td>2020-12-31</td>\n",
       "      <td>2020-12-31</td>\n",
       "      <td>NaN</td>\n",
       "      <td>53.50446</td>\n",
       "      <td>-2.84867</td>\n",
       "      <td>Liverpool</td>\n",
       "      <td>United Kingdom</td>\n",
       "      <td>53.04612</td>\n",
       "      <td>-2.92787</td>\n",
       "      <td>Wrexham</td>\n",
       "      <td>United Kingdom</td>\n",
       "      <td>1.0</td>\n",
       "      <td>0.0</td>\n",
       "      <td>8185</td>\n",
       "      <td>2020.0</td>\n",
       "      <td>2020.0</td>\n",
       "      <td>1</td>\n",
       "    </tr>\n",
       "    <tr>\n",
       "      <th>2</th>\n",
       "      <td>7399576</td>\n",
       "      <td>A</td>\n",
       "      <td>8266606</td>\n",
       "      <td>5530</td>\n",
       "      <td>34030</td>\n",
       "      <td>2020-12-31</td>\n",
       "      <td>2020-12-31</td>\n",
       "      <td>NaN</td>\n",
       "      <td>53.50446</td>\n",
       "      <td>-2.84867</td>\n",
       "      <td>Liverpool</td>\n",
       "      <td>United Kingdom</td>\n",
       "      <td>53.04612</td>\n",
       "      <td>-2.92787</td>\n",
       "      <td>Wrexham</td>\n",
       "      <td>United Kingdom</td>\n",
       "      <td>1.0</td>\n",
       "      <td>0.0</td>\n",
       "      <td>8185</td>\n",
       "      <td>2020.0</td>\n",
       "      <td>2020.0</td>\n",
       "      <td>1</td>\n",
       "    </tr>\n",
       "    <tr>\n",
       "      <th>3</th>\n",
       "      <td>7399577</td>\n",
       "      <td>A</td>\n",
       "      <td>8266608</td>\n",
       "      <td>3392</td>\n",
       "      <td>5652</td>\n",
       "      <td>2020-12-31</td>\n",
       "      <td>2020-12-31</td>\n",
       "      <td>NaN</td>\n",
       "      <td>53.77629</td>\n",
       "      <td>-1.52585</td>\n",
       "      <td>Leeds</td>\n",
       "      <td>United Kingdom</td>\n",
       "      <td>53.71874</td>\n",
       "      <td>-1.41235</td>\n",
       "      <td>YORKSHIRE</td>\n",
       "      <td>United Kingdom</td>\n",
       "      <td>0.0</td>\n",
       "      <td>0.0</td>\n",
       "      <td>4739</td>\n",
       "      <td>2020.0</td>\n",
       "      <td>2020.0</td>\n",
       "      <td>1</td>\n",
       "    </tr>\n",
       "    <tr>\n",
       "      <th>4</th>\n",
       "      <td>7399578</td>\n",
       "      <td>A</td>\n",
       "      <td>8266609</td>\n",
       "      <td>3392</td>\n",
       "      <td>1782</td>\n",
       "      <td>2020-12-31</td>\n",
       "      <td>2020-12-31</td>\n",
       "      <td>NaN</td>\n",
       "      <td>53.77629</td>\n",
       "      <td>-1.52585</td>\n",
       "      <td>Leeds</td>\n",
       "      <td>United Kingdom</td>\n",
       "      <td>55.87784</td>\n",
       "      <td>-3.65235</td>\n",
       "      <td>Bathgate</td>\n",
       "      <td>United Kingdom</td>\n",
       "      <td>1.0</td>\n",
       "      <td>0.0</td>\n",
       "      <td>4739</td>\n",
       "      <td>2020.0</td>\n",
       "      <td>2020.0</td>\n",
       "      <td>1</td>\n",
       "    </tr>\n",
       "  </tbody>\n",
       "</table>\n",
       "</div>"
      ],
      "text/plain": [
       "   BookingId SubBookingName  SubBookingLegId  FromLocation  ToLocation  \\\n",
       "0    7399574              A          8266605         19635       19104   \n",
       "1    7399575              A          8266607          5530       34030   \n",
       "2    7399576              A          8266606          5530       34030   \n",
       "3    7399577              A          8266608          3392        5652   \n",
       "4    7399578              A          8266609          3392        1782   \n",
       "\n",
       "  StartRequestedDate EndRequestedDate  Temperature  FromLatitude  \\\n",
       "0         2020-12-31       2020-12-31          NaN      53.51131   \n",
       "1         2020-12-31       2020-12-31          NaN      53.50446   \n",
       "2         2020-12-31       2020-12-31          NaN      53.50446   \n",
       "3         2020-12-31       2020-12-31          NaN      53.77629   \n",
       "4         2020-12-31       2020-12-31          NaN      53.77629   \n",
       "\n",
       "   FromLongitude   FromCity     FromCountry  ToLatitude  ToLongitude  \\\n",
       "0       -1.12540  YORKSHIRE  United Kingdom    53.60475     -0.65636   \n",
       "1       -2.84867  Liverpool  United Kingdom    53.04612     -2.92787   \n",
       "2       -2.84867  Liverpool  United Kingdom    53.04612     -2.92787   \n",
       "3       -1.52585      Leeds  United Kingdom    53.71874     -1.41235   \n",
       "4       -1.52585      Leeds  United Kingdom    55.87784     -3.65235   \n",
       "\n",
       "       ToCity       ToCountry  FullLoadIndicator  EmptyBookingIndicator  \\\n",
       "0  SCUNTHORPE  United Kingdom                1.0                    0.0   \n",
       "1     Wrexham  United Kingdom                1.0                    0.0   \n",
       "2     Wrexham  United Kingdom                1.0                    0.0   \n",
       "3   YORKSHIRE  United Kingdom                0.0                    0.0   \n",
       "4    Bathgate  United Kingdom                1.0                    0.0   \n",
       "\n",
       "   CustomerName  StartYear  EndYear  DomesticDelivery  \n",
       "0          2966     2020.0   2020.0                 1  \n",
       "1          8185     2020.0   2020.0                 1  \n",
       "2          8185     2020.0   2020.0                 1  \n",
       "3          4739     2020.0   2020.0                 1  \n",
       "4          4739     2020.0   2020.0                 1  "
      ]
     },
     "execution_count": 66,
     "metadata": {},
     "output_type": "execute_result"
    }
   ],
   "source": [
    "# 1 if delivery is collected and delivered within the same country, 0 if otherwise\n",
    "\n",
    "df_final['DomesticDelivery'] = (df_final['FromCountry'] == df_final['ToCountry']).astype(int)\n",
    "df_final.head()"
   ]
  },
  {
   "cell_type": "code",
   "execution_count": 67,
   "metadata": {},
   "outputs": [
    {
     "data": {
      "image/png": "[encoded data removed]",
      "text/plain": [
       "<Figure size 288x288 with 1 Axes>"
      ]
     },
     "metadata": {},
     "output_type": "display_data"
    }
   ],
   "source": [
    "# Plotting the variable\n",
    "\n",
    "domestic_delivery = df_final['DomesticDelivery'].value_counts()\n",
    "\n",
    "domestic_delivery.plot(kind = 'pie', \n",
    "                            figsize = (4, 4), \n",
    "                            autopct = '%1.1f%%', \n",
    "                            startangle = 90,\n",
    "                            pctdistance = 0.4,\n",
    "                            labeldistance = 1.1)\n",
    "\n",
    "plt.axis('equal')\n",
    "plt.title('Domestic vs. Non-Domestic Delivery')\n",
    "plt.show()"
   ]
  },
  {
   "attachments": {},
   "cell_type": "markdown",
   "metadata": {},
   "source": [
    "5.2) Frozen goods"
   ]
  },
  {
   "cell_type": "code",
   "execution_count": 68,
   "metadata": {},
   "outputs": [],
   "source": [
    "# We want to know whether a load is frozen or not, as this has major implications on the reach of the truck. \n",
    "# That's why we binary encode the \"temperature\" feature \n",
    "\n",
    "# Create the new \"frozen_load\" column using numpy.where\n",
    "df_final['FrozenLoad'] = np.where(df_final['Temperature'] < 0, 1, 0)"
   ]
  },
  {
   "cell_type": "code",
   "execution_count": 69,
   "metadata": {},
   "outputs": [
    {
     "data": {
      "image/png": "[encoded data removed]",
      "text/plain": [
       "<Figure size 144x144 with 1 Axes>"
      ]
     },
     "metadata": {},
     "output_type": "display_data"
    }
   ],
   "source": [
    "frozen_load = df_final['FrozenLoad'].value_counts()\n",
    "\n",
    "frozen_load.plot(kind = 'pie', \n",
    "                        figsize = (2, 2), \n",
    "                        autopct = '%1.1f%%', \n",
    "                        startangle = 90,\n",
    "                        pctdistance = 0.8,\n",
    "                        labeldistance = 1.1)\n",
    "\n",
    "plt.axis('equal')\n",
    "plt.title('Share of frozen loads')\n",
    "plt.show()"
   ]
  },
  {
   "cell_type": "code",
   "execution_count": 70,
   "metadata": {},
   "outputs": [],
   "source": [
    "# Save df_final to .csv file \n",
    "\n",
    "df_final.to_csv('df_final_temp.csv')"
   ]
  },
  {
   "attachments": {},
   "cell_type": "markdown",
   "metadata": {},
   "source": [
    "In the case examiners prefer to run the code from this point onwards, we are providing a file (df_final_temp.csv) that can be uploaded at this point"
   ]
  },
  {
   "attachments": {},
   "cell_type": "markdown",
   "metadata": {},
   "source": [
    "5.3)  Booking leg engineering  \n",
    "\n",
    " Fixing the leg system by using the destination data of a leg as inital data for the following leg, in the case the booking is formed by multiple legs"
   ]
  },
  {
   "cell_type": "code",
   "execution_count": 71,
   "metadata": {},
   "outputs": [],
   "source": [
    "df_final = pd.read_csv('/Users/emanuelazucchetto/Desktop/Copenhagen Business School/Thesis/03_Data/df_final_temp.csv') # Specify path based on destination"
   ]
  },
  {
   "attachments": {},
   "cell_type": "markdown",
   "metadata": {},
   "source": [
    "Firstly, only bookings with multiple legs are extracted, as bookings with a single leg do not nee processing "
   ]
  },
  {
   "cell_type": "code",
   "execution_count": 72,
   "metadata": {},
   "outputs": [],
   "source": [
    "# Identify which BookingId are present multiple times, meaning that the journey is formed by multiple legs\n",
    "\n",
    "multi_legs = df_final[df_final.groupby('BookingId')['BookingId'].transform('size') > 1]"
   ]
  },
  {
   "cell_type": "code",
   "execution_count": 73,
   "metadata": {},
   "outputs": [],
   "source": [
    "# Same operation, but now filtering for bookings with only one leg\n",
    "\n",
    "single_leg = df_final[df_final.groupby('BookingId')['BookingId'].transform('size') <= 1]"
   ]
  },
  {
   "cell_type": "code",
   "execution_count": 74,
   "metadata": {},
   "outputs": [
    {
     "name": "stdout",
     "output_type": "stream",
     "text": [
      "2062158\n"
     ]
    },
    {
     "data": {
      "text/plain": [
       "2062158"
      ]
     },
     "execution_count": 74,
     "metadata": {},
     "output_type": "execute_result"
    }
   ],
   "source": [
    "# Ensuring the data is corrected\n",
    "# Count of values > 1\n",
    "print(df_final['BookingId'].value_counts().loc[lambda x : x>1].sum())\n",
    "\n",
    "# Matches with new df shape\n",
    "multi_legs.shape[0]"
   ]
  },
  {
   "cell_type": "code",
   "execution_count": 75,
   "metadata": {},
   "outputs": [
    {
     "data": {
      "text/html": [
       "<div>\n",
       "<style scoped>\n",
       "    .dataframe tbody tr th:only-of-type {\n",
       "        vertical-align: middle;\n",
       "    }\n",
       "\n",
       "    .dataframe tbody tr th {\n",
       "        vertical-align: top;\n",
       "    }\n",
       "\n",
       "    .dataframe thead th {\n",
       "        text-align: right;\n",
       "    }\n",
       "</style>\n",
       "<table border=\"1\" class=\"dataframe\">\n",
       "  <thead>\n",
       "    <tr style=\"text-align: right;\">\n",
       "      <th></th>\n",
       "      <th>BookingId</th>\n",
       "      <th>SubBookingName</th>\n",
       "      <th>SubBookingLegId</th>\n",
       "      <th>FromLocation</th>\n",
       "      <th>ToLocation</th>\n",
       "      <th>StartRequestedDate</th>\n",
       "      <th>EndRequestedDate</th>\n",
       "      <th>Temperature</th>\n",
       "      <th>FromLatitude</th>\n",
       "      <th>FromLongitude</th>\n",
       "      <th>FromCity</th>\n",
       "      <th>FromCountry</th>\n",
       "      <th>ToLatitude</th>\n",
       "      <th>ToLongitude</th>\n",
       "      <th>ToCity</th>\n",
       "      <th>ToCountry</th>\n",
       "      <th>CustomerName</th>\n",
       "      <th>DomesticDelivery</th>\n",
       "    </tr>\n",
       "  </thead>\n",
       "  <tbody>\n",
       "    <tr>\n",
       "      <th>0</th>\n",
       "      <td>7399574</td>\n",
       "      <td>A</td>\n",
       "      <td>8266605</td>\n",
       "      <td>33917</td>\n",
       "      <td>32289</td>\n",
       "      <td>2020-12-31</td>\n",
       "      <td>2020-12-31</td>\n",
       "      <td>NaN</td>\n",
       "      <td>53.51131</td>\n",
       "      <td>-1.12540</td>\n",
       "      <td>YORKSHIRE</td>\n",
       "      <td>United Kingdom</td>\n",
       "      <td>53.60475</td>\n",
       "      <td>-0.65636</td>\n",
       "      <td>SCUNTHORPE</td>\n",
       "      <td>United Kingdom</td>\n",
       "      <td>2966</td>\n",
       "      <td>1</td>\n",
       "    </tr>\n",
       "    <tr>\n",
       "      <th>1</th>\n",
       "      <td>7399575</td>\n",
       "      <td>A</td>\n",
       "      <td>8266607</td>\n",
       "      <td>9443</td>\n",
       "      <td>57716</td>\n",
       "      <td>2020-12-31</td>\n",
       "      <td>2020-12-31</td>\n",
       "      <td>NaN</td>\n",
       "      <td>53.50446</td>\n",
       "      <td>-2.84867</td>\n",
       "      <td>Liverpool</td>\n",
       "      <td>United Kingdom</td>\n",
       "      <td>53.04612</td>\n",
       "      <td>-2.92787</td>\n",
       "      <td>Wrexham</td>\n",
       "      <td>United Kingdom</td>\n",
       "      <td>8183</td>\n",
       "      <td>1</td>\n",
       "    </tr>\n",
       "    <tr>\n",
       "      <th>2</th>\n",
       "      <td>7399576</td>\n",
       "      <td>A</td>\n",
       "      <td>8266606</td>\n",
       "      <td>9443</td>\n",
       "      <td>57716</td>\n",
       "      <td>2020-12-31</td>\n",
       "      <td>2020-12-31</td>\n",
       "      <td>NaN</td>\n",
       "      <td>53.50446</td>\n",
       "      <td>-2.84867</td>\n",
       "      <td>Liverpool</td>\n",
       "      <td>United Kingdom</td>\n",
       "      <td>53.04612</td>\n",
       "      <td>-2.92787</td>\n",
       "      <td>Wrexham</td>\n",
       "      <td>United Kingdom</td>\n",
       "      <td>8183</td>\n",
       "      <td>1</td>\n",
       "    </tr>\n",
       "    <tr>\n",
       "      <th>3</th>\n",
       "      <td>7399577</td>\n",
       "      <td>A</td>\n",
       "      <td>8266608</td>\n",
       "      <td>5977</td>\n",
       "      <td>9831</td>\n",
       "      <td>2020-12-31</td>\n",
       "      <td>2020-12-31</td>\n",
       "      <td>NaN</td>\n",
       "      <td>53.77629</td>\n",
       "      <td>-1.52585</td>\n",
       "      <td>Leeds</td>\n",
       "      <td>United Kingdom</td>\n",
       "      <td>53.71874</td>\n",
       "      <td>-1.41235</td>\n",
       "      <td>YORKSHIRE</td>\n",
       "      <td>United Kingdom</td>\n",
       "      <td>4737</td>\n",
       "      <td>1</td>\n",
       "    </tr>\n",
       "    <tr>\n",
       "      <th>4</th>\n",
       "      <td>7399578</td>\n",
       "      <td>A</td>\n",
       "      <td>8266609</td>\n",
       "      <td>5977</td>\n",
       "      <td>3182</td>\n",
       "      <td>2020-12-31</td>\n",
       "      <td>2020-12-31</td>\n",
       "      <td>NaN</td>\n",
       "      <td>53.77629</td>\n",
       "      <td>-1.52585</td>\n",
       "      <td>Leeds</td>\n",
       "      <td>United Kingdom</td>\n",
       "      <td>55.87784</td>\n",
       "      <td>-3.65235</td>\n",
       "      <td>Bathgate</td>\n",
       "      <td>United Kingdom</td>\n",
       "      <td>4737</td>\n",
       "      <td>1</td>\n",
       "    </tr>\n",
       "  </tbody>\n",
       "</table>\n",
       "</div>"
      ],
      "text/plain": [
       "   BookingId SubBookingName  SubBookingLegId  FromLocation  ToLocation  \\\n",
       "0    7399574              A          8266605         33917       32289   \n",
       "1    7399575              A          8266607          9443       57716   \n",
       "2    7399576              A          8266606          9443       57716   \n",
       "3    7399577              A          8266608          5977        9831   \n",
       "4    7399578              A          8266609          5977        3182   \n",
       "\n",
       "  StartRequestedDate EndRequestedDate  Temperature  FromLatitude  \\\n",
       "0         2020-12-31       2020-12-31          NaN      53.51131   \n",
       "1         2020-12-31       2020-12-31          NaN      53.50446   \n",
       "2         2020-12-31       2020-12-31          NaN      53.50446   \n",
       "3         2020-12-31       2020-12-31          NaN      53.77629   \n",
       "4         2020-12-31       2020-12-31          NaN      53.77629   \n",
       "\n",
       "   FromLongitude   FromCity     FromCountry  ToLatitude  ToLongitude  \\\n",
       "0       -1.12540  YORKSHIRE  United Kingdom    53.60475     -0.65636   \n",
       "1       -2.84867  Liverpool  United Kingdom    53.04612     -2.92787   \n",
       "2       -2.84867  Liverpool  United Kingdom    53.04612     -2.92787   \n",
       "3       -1.52585      Leeds  United Kingdom    53.71874     -1.41235   \n",
       "4       -1.52585      Leeds  United Kingdom    55.87784     -3.65235   \n",
       "\n",
       "       ToCity       ToCountry  CustomerName  DomesticDelivery  \n",
       "0  SCUNTHORPE  United Kingdom          2966                 1  \n",
       "1     Wrexham  United Kingdom          8183                 1  \n",
       "2     Wrexham  United Kingdom          8183                 1  \n",
       "3   YORKSHIRE  United Kingdom          4737                 1  \n",
       "4    Bathgate  United Kingdom          4737                 1  "
      ]
     },
     "execution_count": 75,
     "metadata": {},
     "output_type": "execute_result"
    }
   ],
   "source": [
    "df_final.head()"
   ]
  },
  {
   "cell_type": "code",
   "execution_count": 76,
   "metadata": {},
   "outputs": [],
   "source": [
    "# Creating a new dataframe where to store the fized legs\n",
    "fixed=pd.DataFrame()"
   ]
  },
  {
   "attachments": {},
   "cell_type": "markdown",
   "metadata": {},
   "source": [
    "Through this function data related to the ending destination of a entry are used as data for starting destination of the entry at the following index, as long as they belong to the same BookingId  \n",
    "_Note_: given the long run time of the function, a csv is provided later to facilitate the execution of the code"
   ]
  },
  {
   "cell_type": "code",
   "execution_count": 77,
   "metadata": {},
   "outputs": [],
   "source": [
    "### Output .csv provided later\n",
    "\n",
    "#For each relevant element the ending value of one intermediate leg is used as starting value for the following one \n",
    "# def fix_legs(df):\n",
    "#     fixed=pd.DataFrame()\n",
    "#     for i in df.BookingId.unique():\n",
    "#         temp=df[df.BookingId==i]    \n",
    "#         temp.reset_index(inplace=True)\n",
    "#        #make the \"To\" value of the previous leg the \"From\" value of the current leg\n",
    "#         for ix in range(temp.shape[0]): \n",
    "#             all features that have a from/to version (maybe some columns can be dropped)   \n",
    "#             temp.StartLegLocationId[ix+1]=temp.EndLegLocationId[ix]\n",
    "#             temp.FromLocation[ix+1]=temp.ToLocation[ix]\n",
    "#             temp.FromLatitude[ix+1]=temp.ToLatitude[ix]#- DONE 2\n",
    "#             temp.FromLongitude[ix+1]=temp.ToLongitude[ix] #modify with ToLongitude when I get the latest data -DONE\n",
    "#             temp.StartLegLocationId[ix+1]=temp.EndLegLocationId[ix]\n",
    "#             temp.FromCity[ix+1]=temp.ToCity[ix]\n",
    "#             temp.FromCountry[ix+1]=temp.ToCountry[ix] #- DONE     \n",
    "#         fixed=pd.concat([fixed,temp])\n",
    "#     return fixed\n"
   ]
  },
  {
   "cell_type": "code",
   "execution_count": 78,
   "metadata": {},
   "outputs": [],
   "source": [
    "# Performing the operation on the dataset formed by multiple legs\n",
    "#multi_fixed=fix_legs(multi_legs)"
   ]
  },
  {
   "cell_type": "code",
   "execution_count": 79,
   "metadata": {},
   "outputs": [],
   "source": [
    "multi_legs.shape"
   ]
  },
  {
   "attachments": {},
   "cell_type": "markdown",
   "metadata": {},
   "source": [
    "Checking that the sum of the size of the new dataset with bookings with multiple legs and the one with single legs match the size of the dataset before this process"
   ]
  },
  {
   "cell_type": "code",
   "execution_count": 80,
   "metadata": {},
   "outputs": [],
   "source": [
    "# Ensuring that in recombining the dataset data is not lost\n",
    "single_leg.shape[0]+multi_fixed.shape[0]"
   ]
  },
  {
   "attachments": {},
   "cell_type": "markdown",
   "metadata": {},
   "source": [
    "the single leg dataset and the multiple leg dataset are concatenated together and the values are sorted by BookingId to restore the initial order"
   ]
  },
  {
   "cell_type": "code",
   "execution_count": 84,
   "metadata": {},
   "outputs": [],
   "source": [
    "# Putting together data about single legs and fixed data about multiple legs\n",
    "df_final=pd.concat([single_leg,multi_leg])"
   ]
  },
  {
   "cell_type": "code",
   "execution_count": 82,
   "metadata": {},
   "outputs": [],
   "source": [
    "# Make sure the dataset is in the right order by sorting BookingIds\n",
    "df_final.sort_values(by=['BookingId'])"
   ]
  },
  {
   "cell_type": "code",
   "execution_count": 85,
   "metadata": {},
   "outputs": [],
   "source": [
    "### Exporting \n",
    "\n",
    "# df_final.to_csv('multiple_legs_fixed.csv')"
   ]
  },
  {
   "attachments": {},
   "cell_type": "markdown",
   "metadata": {},
   "source": [
    "Here it is possible to upload the file data_multiple_legs_fixed.csv, to avoid having to run the previous section"
   ]
  },
  {
   "cell_type": "code",
   "execution_count": 86,
   "metadata": {},
   "outputs": [],
   "source": [
    "df_final = pd.read_csv('/Users/emanuelazucchetto/Desktop/Copenhagen Business School/Thesis/03_Data/data_multiple_legs_fixed.csv') # Write correct path"
   ]
  },
  {
   "cell_type": "code",
   "execution_count": 87,
   "metadata": {},
   "outputs": [
    {
     "data": {
      "text/plain": [
       "4973604"
      ]
     },
     "execution_count": 87,
     "metadata": {},
     "output_type": "execute_result"
    }
   ],
   "source": [
    "len(df_final)"
   ]
  },
  {
   "cell_type": "code",
   "execution_count": 88,
   "metadata": {},
   "outputs": [
    {
     "data": {
      "text/html": [
       "<div>\n",
       "<style scoped>\n",
       "    .dataframe tbody tr th:only-of-type {\n",
       "        vertical-align: middle;\n",
       "    }\n",
       "\n",
       "    .dataframe tbody tr th {\n",
       "        vertical-align: top;\n",
       "    }\n",
       "\n",
       "    .dataframe thead th {\n",
       "        text-align: right;\n",
       "    }\n",
       "</style>\n",
       "<table border=\"1\" class=\"dataframe\">\n",
       "  <thead>\n",
       "    <tr style=\"text-align: right;\">\n",
       "      <th></th>\n",
       "      <th>BookingId</th>\n",
       "      <th>SubBookingName</th>\n",
       "      <th>SubBookingLegId</th>\n",
       "      <th>FromLocation</th>\n",
       "      <th>ToLocation</th>\n",
       "      <th>StartRequestedDate</th>\n",
       "      <th>EndRequestedDate</th>\n",
       "      <th>Temperature</th>\n",
       "      <th>FromLatitude</th>\n",
       "      <th>FromLongitude</th>\n",
       "      <th>FromCity</th>\n",
       "      <th>FromCountry</th>\n",
       "      <th>ToLatitude</th>\n",
       "      <th>ToLongitude</th>\n",
       "      <th>ToCity</th>\n",
       "      <th>ToCountry</th>\n",
       "      <th>CustomerName</th>\n",
       "      <th>DomesticDelivery</th>\n",
       "    </tr>\n",
       "  </thead>\n",
       "  <tbody>\n",
       "    <tr>\n",
       "      <th>3888194</th>\n",
       "      <td>9031814</td>\n",
       "      <td>A</td>\n",
       "      <td>11006604</td>\n",
       "      <td>20181</td>\n",
       "      <td>36288</td>\n",
       "      <td>2022-01-04</td>\n",
       "      <td>2022-01-04</td>\n",
       "      <td>NaN</td>\n",
       "      <td>53.47114</td>\n",
       "      <td>-2.85863</td>\n",
       "      <td>Liverpool</td>\n",
       "      <td>United Kingdom</td>\n",
       "      <td>53.37030</td>\n",
       "      <td>-1.36706</td>\n",
       "      <td>Sheffield</td>\n",
       "      <td>United Kingdom</td>\n",
       "      <td>11014</td>\n",
       "      <td>1</td>\n",
       "    </tr>\n",
       "    <tr>\n",
       "      <th>3888195</th>\n",
       "      <td>9031814</td>\n",
       "      <td>B</td>\n",
       "      <td>11006603</td>\n",
       "      <td>20181</td>\n",
       "      <td>591</td>\n",
       "      <td>2022-01-04</td>\n",
       "      <td>2022-01-04</td>\n",
       "      <td>NaN</td>\n",
       "      <td>53.37030</td>\n",
       "      <td>-1.36706</td>\n",
       "      <td>Liverpool</td>\n",
       "      <td>United Kingdom</td>\n",
       "      <td>53.72657</td>\n",
       "      <td>-1.47493</td>\n",
       "      <td>LEEDS</td>\n",
       "      <td>United Kingdom</td>\n",
       "      <td>11014</td>\n",
       "      <td>1</td>\n",
       "    </tr>\n",
       "  </tbody>\n",
       "</table>\n",
       "</div>"
      ],
      "text/plain": [
       "         BookingId SubBookingName  SubBookingLegId  FromLocation  ToLocation  \\\n",
       "3888194    9031814              A         11006604         20181       36288   \n",
       "3888195    9031814              B         11006603         20181         591   \n",
       "\n",
       "        StartRequestedDate EndRequestedDate  Temperature  FromLatitude  \\\n",
       "3888194         2022-01-04       2022-01-04          NaN      53.47114   \n",
       "3888195         2022-01-04       2022-01-04          NaN      53.37030   \n",
       "\n",
       "         FromLongitude   FromCity     FromCountry  ToLatitude  ToLongitude  \\\n",
       "3888194       -2.85863  Liverpool  United Kingdom    53.37030     -1.36706   \n",
       "3888195       -1.36706  Liverpool  United Kingdom    53.72657     -1.47493   \n",
       "\n",
       "            ToCity       ToCountry  CustomerName  DomesticDelivery  \n",
       "3888194  Sheffield  United Kingdom         11014                 1  \n",
       "3888195      LEEDS  United Kingdom         11014                 1  "
      ]
     },
     "execution_count": 88,
     "metadata": {},
     "output_type": "execute_result"
    }
   ],
   "source": [
    "# Checking whether  BookingIds are represented in the right way now \n",
    "df_final[df_final['BookingId'] == 9031814]"
   ]
  },
  {
   "attachments": {},
   "cell_type": "markdown",
   "metadata": {},
   "source": [
    "5.4) \"HaversineDistance\""
   ]
  },
  {
   "attachments": {},
   "cell_type": "markdown",
   "metadata": {},
   "source": [
    "The initial measure of distance between the starting and ending point calculated is the Haversine Distance, measuring the great-circle distance between two points on a sphere   \n",
    "This is not the final used measure, but a first iteration that is later gonna be replaced by more exact distance we calculate via API"
   ]
  },
  {
   "cell_type": "code",
   "execution_count": 89,
   "metadata": {},
   "outputs": [
    {
     "data": {
      "text/html": [
       "<div>\n",
       "<style scoped>\n",
       "    .dataframe tbody tr th:only-of-type {\n",
       "        vertical-align: middle;\n",
       "    }\n",
       "\n",
       "    .dataframe tbody tr th {\n",
       "        vertical-align: top;\n",
       "    }\n",
       "\n",
       "    .dataframe thead th {\n",
       "        text-align: right;\n",
       "    }\n",
       "</style>\n",
       "<table border=\"1\" class=\"dataframe\">\n",
       "  <thead>\n",
       "    <tr style=\"text-align: right;\">\n",
       "      <th></th>\n",
       "      <th>BookingId</th>\n",
       "      <th>SubBookingName</th>\n",
       "      <th>SubBookingLegId</th>\n",
       "      <th>FromLocation</th>\n",
       "      <th>ToLocation</th>\n",
       "      <th>StartRequestedDate</th>\n",
       "      <th>EndRequestedDate</th>\n",
       "      <th>Temperature</th>\n",
       "      <th>FromLatitude</th>\n",
       "      <th>FromLongitude</th>\n",
       "      <th>FromCity</th>\n",
       "      <th>FromCountry</th>\n",
       "      <th>ToLatitude</th>\n",
       "      <th>ToLongitude</th>\n",
       "      <th>ToCity</th>\n",
       "      <th>ToCountry</th>\n",
       "      <th>CustomerName</th>\n",
       "      <th>DomesticDelivery</th>\n",
       "      <th>HaversineDistance</th>\n",
       "    </tr>\n",
       "  </thead>\n",
       "  <tbody>\n",
       "    <tr>\n",
       "      <th>0</th>\n",
       "      <td>7399574</td>\n",
       "      <td>A</td>\n",
       "      <td>8266605</td>\n",
       "      <td>33476</td>\n",
       "      <td>32187</td>\n",
       "      <td>2020-12-31</td>\n",
       "      <td>2020-12-31</td>\n",
       "      <td>NaN</td>\n",
       "      <td>53.51131</td>\n",
       "      <td>-1.12540</td>\n",
       "      <td>YORKSHIRE</td>\n",
       "      <td>United Kingdom</td>\n",
       "      <td>53.60475</td>\n",
       "      <td>-0.65636</td>\n",
       "      <td>SCUNTHORPE</td>\n",
       "      <td>United Kingdom</td>\n",
       "      <td>2967</td>\n",
       "      <td>1</td>\n",
       "      <td>32.676262</td>\n",
       "    </tr>\n",
       "    <tr>\n",
       "      <th>1</th>\n",
       "      <td>7399575</td>\n",
       "      <td>A</td>\n",
       "      <td>8266607</td>\n",
       "      <td>9315</td>\n",
       "      <td>57536</td>\n",
       "      <td>2020-12-31</td>\n",
       "      <td>2020-12-31</td>\n",
       "      <td>NaN</td>\n",
       "      <td>53.50446</td>\n",
       "      <td>-2.84867</td>\n",
       "      <td>Liverpool</td>\n",
       "      <td>United Kingdom</td>\n",
       "      <td>53.04612</td>\n",
       "      <td>-2.92787</td>\n",
       "      <td>Wrexham</td>\n",
       "      <td>United Kingdom</td>\n",
       "      <td>8190</td>\n",
       "      <td>1</td>\n",
       "      <td>51.236490</td>\n",
       "    </tr>\n",
       "    <tr>\n",
       "      <th>2</th>\n",
       "      <td>7399576</td>\n",
       "      <td>A</td>\n",
       "      <td>8266606</td>\n",
       "      <td>9315</td>\n",
       "      <td>57536</td>\n",
       "      <td>2020-12-31</td>\n",
       "      <td>2020-12-31</td>\n",
       "      <td>NaN</td>\n",
       "      <td>53.50446</td>\n",
       "      <td>-2.84867</td>\n",
       "      <td>Liverpool</td>\n",
       "      <td>United Kingdom</td>\n",
       "      <td>53.04612</td>\n",
       "      <td>-2.92787</td>\n",
       "      <td>Wrexham</td>\n",
       "      <td>United Kingdom</td>\n",
       "      <td>8190</td>\n",
       "      <td>1</td>\n",
       "      <td>51.236490</td>\n",
       "    </tr>\n",
       "    <tr>\n",
       "      <th>3</th>\n",
       "      <td>7399577</td>\n",
       "      <td>A</td>\n",
       "      <td>8266608</td>\n",
       "      <td>5900</td>\n",
       "      <td>9799</td>\n",
       "      <td>2020-12-31</td>\n",
       "      <td>2020-12-31</td>\n",
       "      <td>NaN</td>\n",
       "      <td>53.77629</td>\n",
       "      <td>-1.52585</td>\n",
       "      <td>Leeds</td>\n",
       "      <td>United Kingdom</td>\n",
       "      <td>53.71874</td>\n",
       "      <td>-1.41235</td>\n",
       "      <td>YORKSHIRE</td>\n",
       "      <td>United Kingdom</td>\n",
       "      <td>4742</td>\n",
       "      <td>1</td>\n",
       "      <td>9.831037</td>\n",
       "    </tr>\n",
       "    <tr>\n",
       "      <th>4</th>\n",
       "      <td>7399578</td>\n",
       "      <td>A</td>\n",
       "      <td>8266609</td>\n",
       "      <td>5900</td>\n",
       "      <td>3171</td>\n",
       "      <td>2020-12-31</td>\n",
       "      <td>2020-12-31</td>\n",
       "      <td>NaN</td>\n",
       "      <td>53.77629</td>\n",
       "      <td>-1.52585</td>\n",
       "      <td>Leeds</td>\n",
       "      <td>United Kingdom</td>\n",
       "      <td>55.87784</td>\n",
       "      <td>-3.65235</td>\n",
       "      <td>Bathgate</td>\n",
       "      <td>United Kingdom</td>\n",
       "      <td>4742</td>\n",
       "      <td>1</td>\n",
       "      <td>270.452074</td>\n",
       "    </tr>\n",
       "  </tbody>\n",
       "</table>\n",
       "</div>"
      ],
      "text/plain": [
       "   BookingId SubBookingName  SubBookingLegId  FromLocation  ToLocation  \\\n",
       "0    7399574              A          8266605         33476       32187   \n",
       "1    7399575              A          8266607          9315       57536   \n",
       "2    7399576              A          8266606          9315       57536   \n",
       "3    7399577              A          8266608          5900        9799   \n",
       "4    7399578              A          8266609          5900        3171   \n",
       "\n",
       "  StartRequestedDate EndRequestedDate  Temperature  FromLatitude  \\\n",
       "0         2020-12-31       2020-12-31          NaN      53.51131   \n",
       "1         2020-12-31       2020-12-31          NaN      53.50446   \n",
       "2         2020-12-31       2020-12-31          NaN      53.50446   \n",
       "3         2020-12-31       2020-12-31          NaN      53.77629   \n",
       "4         2020-12-31       2020-12-31          NaN      53.77629   \n",
       "\n",
       "   FromLongitude   FromCity     FromCountry  ToLatitude  ToLongitude  \\\n",
       "0       -1.12540  YORKSHIRE  United Kingdom    53.60475     -0.65636   \n",
       "1       -2.84867  Liverpool  United Kingdom    53.04612     -2.92787   \n",
       "2       -2.84867  Liverpool  United Kingdom    53.04612     -2.92787   \n",
       "3       -1.52585      Leeds  United Kingdom    53.71874     -1.41235   \n",
       "4       -1.52585      Leeds  United Kingdom    55.87784     -3.65235   \n",
       "\n",
       "       ToCity       ToCountry  CustomerName  DomesticDelivery  \\\n",
       "0  SCUNTHORPE  United Kingdom          2967                 1   \n",
       "1     Wrexham  United Kingdom          8190                 1   \n",
       "2     Wrexham  United Kingdom          8190                 1   \n",
       "3   YORKSHIRE  United Kingdom          4742                 1   \n",
       "4    Bathgate  United Kingdom          4742                 1   \n",
       "\n",
       "   HaversineDistance  \n",
       "0          32.676262  \n",
       "1          51.236490  \n",
       "2          51.236490  \n",
       "3           9.831037  \n",
       "4         270.452074  "
      ]
     },
     "execution_count": 89,
     "metadata": {},
     "output_type": "execute_result"
    }
   ],
   "source": [
    "# Calculate haversine distance between delivery points to have an approximation for delivery distance \n",
    "\n",
    "def get_distance_h(lat1, lon1, lat2, lon2):\n",
    "    pickup = (lat1, lon1)\n",
    "    dropoff = (lat2, lon2)\n",
    "    return hs.haversine(pickup, dropoff)\n",
    "\n",
    "# Apply the function to dataframe\n",
    "df_final['HaversineDistance'] = df_final.apply(lambda row: get_distance_h(row['FromLatitude'], row['FromLongitude'], row['ToLatitude'], row['ToLongitude']), axis=1)\n",
    "df_final.head()"
   ]
  },
  {
   "attachments": {},
   "cell_type": "markdown",
   "metadata": {},
   "source": [
    "Mean distance: 368 Km  \n",
    "Min distance: 0 Km  \n",
    "Max distance: 8543 Km"
   ]
  },
  {
   "cell_type": "code",
   "execution_count": 90,
   "metadata": {},
   "outputs": [
    {
     "data": {
      "text/plain": [
       "count    4.973604e+06\n",
       "mean     2.592056e+02\n",
       "std      3.789419e+02\n",
       "min      0.000000e+00\n",
       "25%      0.000000e+00\n",
       "50%      6.025639e+01\n",
       "75%      4.090810e+02\n",
       "max      8.542614e+03\n",
       "Name: HaversineDistance, dtype: float64"
      ]
     },
     "execution_count": 90,
     "metadata": {},
     "output_type": "execute_result"
    }
   ],
   "source": [
    "df_final['HaversineDistance'].describe()"
   ]
  },
  {
   "attachments": {},
   "cell_type": "markdown",
   "metadata": {},
   "source": [
    "First the haversine distance frequency is plotted: the range of lenght is from [0, 800], whith very few observation > 300 Km. The most frequent routed are those corresponding to 0 or very close to it. This is due to the fact that all transport within port are all entered in the system\n"
   ]
  },
  {
   "cell_type": "code",
   "execution_count": 91,
   "metadata": {},
   "outputs": [
    {
     "data": {
      "image/png": "[encoded data removed]",
      "text/plain": [
       "<Figure size 432x288 with 1 Axes>"
      ]
     },
     "metadata": {
      "needs_background": "light"
     },
     "output_type": "display_data"
    }
   ],
   "source": [
    "# Plotting haversine distances\n",
    "\n",
    "plt.hist(df_final[\"HaversineDistance\"], bins = 100)\n",
    "plt.xlabel(\"Driving distance (km)\")\n",
    "plt.ylabel(\"Frequency\")\n",
    "plt.title(\"Distribution of delivery distances\")\n",
    "plt.show()"
   ]
  },
  {
   "attachments": {},
   "cell_type": "markdown",
   "metadata": {},
   "source": [
    "Then the distance distribution is plotted again, but this time excluding all deliveries >2,500km, as they usually include sea travel  \n",
    "Again, route close to 0 have the highest frequencies, with most of the journeys being lower that 1000 Km "
   ]
  },
  {
   "cell_type": "code",
   "execution_count": 92,
   "metadata": {},
   "outputs": [
    {
     "data": {
      "image/png": "[encoded data removed]",
      "text/plain": [
       "<Figure size 432x288 with 1 Axes>"
      ]
     },
     "metadata": {
      "needs_background": "light"
     },
     "output_type": "display_data"
    }
   ],
   "source": [
    "# Plotting deliveries < 2500 km \n",
    "\n",
    "subset = df_final[(df_final['HaversineDistance'] < 2500)]\n",
    "\n",
    "plt.hist(subset[\"HaversineDistance\"], bins = 250)\n",
    "plt.xlabel(\"Driving distance (km)\")\n",
    "plt.ylabel(\"Frequency\")\n",
    "plt.title(\"Distribution of delivery distances\")\n",
    "plt.show()"
   ]
  },
  {
   "attachments": {},
   "cell_type": "markdown",
   "metadata": {},
   "source": [
    "5.4) \"RouteDistance\""
   ]
  },
  {
   "attachments": {},
   "cell_type": "markdown",
   "metadata": {},
   "source": [
    "As a second iteration of distance measuring, We calculate the route length of a delivery leveraging the Bing Maps API.  \n",
    "Knowing the distance of a delivery is crucial for us to know, as eTrucks have a limited reach and charging stations have to be placed accordingly "
   ]
  },
  {
   "attachments": {},
   "cell_type": "markdown",
   "metadata": {},
   "source": [
    "Fist, the unique routes are extracted and stored in a separate dataset, in order to avoid making 5 million calls to the API. "
   ]
  },
  {
   "cell_type": "code",
   "execution_count": 93,
   "metadata": {},
   "outputs": [
    {
     "data": {
      "text/html": [
       "<div>\n",
       "<style scoped>\n",
       "    .dataframe tbody tr th:only-of-type {\n",
       "        vertical-align: middle;\n",
       "    }\n",
       "\n",
       "    .dataframe tbody tr th {\n",
       "        vertical-align: top;\n",
       "    }\n",
       "\n",
       "    .dataframe thead th {\n",
       "        text-align: right;\n",
       "    }\n",
       "</style>\n",
       "<table border=\"1\" class=\"dataframe\">\n",
       "  <thead>\n",
       "    <tr style=\"text-align: right;\">\n",
       "      <th></th>\n",
       "      <th>FromLatitude</th>\n",
       "      <th>FromLongitude</th>\n",
       "      <th>ToLatitude</th>\n",
       "      <th>ToLongitude</th>\n",
       "    </tr>\n",
       "  </thead>\n",
       "  <tbody>\n",
       "    <tr>\n",
       "      <th>0</th>\n",
       "      <td>53.51131</td>\n",
       "      <td>-1.12540</td>\n",
       "      <td>53.60475</td>\n",
       "      <td>-0.65636</td>\n",
       "    </tr>\n",
       "    <tr>\n",
       "      <th>1</th>\n",
       "      <td>53.50446</td>\n",
       "      <td>-2.84867</td>\n",
       "      <td>53.04612</td>\n",
       "      <td>-2.92787</td>\n",
       "    </tr>\n",
       "    <tr>\n",
       "      <th>3</th>\n",
       "      <td>53.77629</td>\n",
       "      <td>-1.52585</td>\n",
       "      <td>53.71874</td>\n",
       "      <td>-1.41235</td>\n",
       "    </tr>\n",
       "    <tr>\n",
       "      <th>4</th>\n",
       "      <td>53.77629</td>\n",
       "      <td>-1.52585</td>\n",
       "      <td>55.87784</td>\n",
       "      <td>-3.65235</td>\n",
       "    </tr>\n",
       "    <tr>\n",
       "      <th>5</th>\n",
       "      <td>53.50446</td>\n",
       "      <td>-2.84867</td>\n",
       "      <td>55.91412</td>\n",
       "      <td>-3.50947</td>\n",
       "    </tr>\n",
       "  </tbody>\n",
       "</table>\n",
       "</div>"
      ],
      "text/plain": [
       "   FromLatitude  FromLongitude  ToLatitude  ToLongitude\n",
       "0      53.51131       -1.12540    53.60475     -0.65636\n",
       "1      53.50446       -2.84867    53.04612     -2.92787\n",
       "3      53.77629       -1.52585    53.71874     -1.41235\n",
       "4      53.77629       -1.52585    55.87784     -3.65235\n",
       "5      53.50446       -2.84867    55.91412     -3.50947"
      ]
     },
     "execution_count": 93,
     "metadata": {},
     "output_type": "execute_result"
    }
   ],
   "source": [
    "# Creating dataframe with only the coordinates \n",
    "routes = df_final[['FromLatitude', 'FromLongitude', 'ToLatitude', 'ToLongitude']]\n",
    "\n",
    "# Dropping duplicate rows\n",
    "routes = routes.drop_duplicates()\n",
    "\n",
    "routes.head()"
   ]
  },
  {
   "attachments": {},
   "cell_type": "markdown",
   "metadata": {},
   "source": [
    "The API Key is configured for educational uses and only allows for 50,000 API calls per day (for free).  \n",
    "As 'routes' has ~220,000 rows, we need to divide this dataset into five parts before calling the API and then calculate the distances step-by-step"
   ]
  },
  {
   "attachments": {},
   "cell_type": "markdown",
   "metadata": {},
   "source": [
    "_Note_: given the high time requirements for the API calls to run and the limited capacity in terms of free call, the code below reproduces the steps undertaken to obtain the route distances, but it is commented out.  \n",
    "The resulting datasets will still made available as csv files, in order to allow the examiners to execute the rest of the code"
   ]
  },
  {
   "cell_type": "code",
   "execution_count": 94,
   "metadata": {},
   "outputs": [],
   "source": [
    "#routes_1 = routes.iloc[:45000]\n",
    "#routes_2 = routes.iloc[45000:90000]\n",
    "#routes_3 = routes.iloc[90000:135000]\n",
    "#routes_4 = routes.iloc[135000:180000]\n",
    "#routes_5 = routes.iloc[180000:]\n",
    "\n",
    "#print(len(routes_1), len(routes_2), len(routes_3), len(routes_4), len(routes_5))"
   ]
  },
  {
   "cell_type": "code",
   "execution_count": 95,
   "metadata": {},
   "outputs": [],
   "source": [
    "### DONT EXECUTE; FIND FINAL OUTPUT CSV BELOW\n",
    "\n",
    "# 3) Calculate distances using Bing Matrix API // Batches\n",
    "\n",
    "#  # Define Bing Maps API key\n",
    "#  api_key = 'AjjPXgFK_kEPapm4Aa71lVBC-OD0Cv--TxfWszdsMyVPAptZVtzAxV8a52UjW6Po'\n",
    "\n",
    "#  # Define the Bing Maps API endpoint\n",
    "#  url = 'https://dev.virtualearth.net/REST/v1/Routes/DistanceMatrix'\n",
    "\n",
    "#  # set the timeout value to 60 seconds to prevent errors from short-term connection issues\n",
    "#  # (default is 10 seconds)\n",
    "#  timeout = 60\n",
    "\n",
    "#  # Define a function to calculate distance between two locations using Bing Maps API\n",
    "#  def calculate_distances(rows):\n",
    "#      distances = []\n",
    "#      with requests.Session() as session:\n",
    "#          for index, row in rows.iterrows():\n",
    "#              # Define the request parameters\n",
    "#              params = {\n",
    "#                  'origins': f\"{row['FromLatitude']},{row['FromLongitude']}\",\n",
    "#                  'destinations': f\"{row['ToLatitude']},{row['ToLongitude']}\",\n",
    "#                  'travelMode': 'driving',\n",
    "#                  'key': api_key\n",
    "#              }\n",
    "#              # Send the API request and get the response\n",
    "#              response = session.get(url, params=params, timeout=timeout).json()\n",
    "#              # Extract the distance from the response\n",
    "#              distance = response['resourceSets'][0]['resources'][0]['results'][0]['travelDistance']\n",
    "#              distances.append(distance)\n",
    "#      return distances\n",
    "\n",
    "# # Define the batch size\n",
    "# batch_size = 100\n",
    "\n",
    "# # Split the DataFrame into batches and calculate distances for each batch\n",
    "# batches = [routes_1[i:i+batch_size] for i in range(0, len(routes_1), batch_size)]\n",
    "# distances = []\n",
    "# for batch in batches:\n",
    "#      distances += calculate_distances(batch)\n",
    "\n",
    "# # # Add the distances to the DataFrame\n",
    "# routes_1['RouteDistance'] = distances\n",
    "\n",
    "# # # Print the updated DataFrame\n",
    "# print(routes_1.head())\n",
    "\n",
    "#  # Save the DataFrame as a CSV file\n",
    "# routes_1.to_csv('routes_1.csv', index=False)\n"
   ]
  },
  {
   "cell_type": "code",
   "execution_count": 96,
   "metadata": {},
   "outputs": [],
   "source": [
    "# DONT EXECUTE\n",
    "\n",
    "# # Concatenating together the single csv files from the API calls\n",
    "# import os \n",
    "# # set working directory to where the CSV files are located\n",
    "# os.chdir('/Users/jangaydoul/Desktop/Copenhagen Business School/4. Semester :: Thesis/03_Data/csvs')\n",
    "\n",
    "# # initialize an empty dataframe to hold the concatenated data\n",
    "# routes_with_distance = pd.DataFrame()\n",
    "\n",
    "# # loop through each CSV file and append its data to the dataframe\n",
    "# for file in os.listdir():\n",
    "#     if file.endswith('.csv'):\n",
    "#         temp_df = pd.read_csv(file)\n",
    "#         routes_with_distance = pd.concat([routes_with_distance, temp_df])\n",
    "\n",
    "# # export the concatenated data to a new CSV file\n",
    "# routes_with_distance.to_csv('routes_with_distance.csv', index=False)"
   ]
  },
  {
   "cell_type": "code",
   "execution_count": 97,
   "metadata": {},
   "outputs": [],
   "source": [
    "# DONT EXECUTE \n",
    "# routes_1_with_distance = pd.read_csv(\"routes_1.csv\")\n",
    "# routes_2_with_distance = pd.read_csv(\"routes_2.csv\")\n",
    "# routes_3_with_distance = pd.read_csv(\"routes_3.csv\")\n",
    "# routes_4_with_distance = pd.read_csv(\"routes_4.csv\")\n",
    "# routes_5_with_distance = pd.read_csv(\"routes_5.csv\")"
   ]
  },
  {
   "attachments": {},
   "cell_type": "markdown",
   "metadata": {},
   "source": [
    "The resulting segment are then concatenated together to obtain the complete routes with the matching distances"
   ]
  },
  {
   "cell_type": "code",
   "execution_count": 106,
   "metadata": {},
   "outputs": [],
   "source": [
    "# DONT EXECUTE \n",
    "#routes_with_distances = pd.concat((routes_1_with_distance, routes_2_with_distance, routes_3_with_distance, routes_4_with_distance, routes_5_with_distance))"
   ]
  },
  {
   "attachments": {},
   "cell_type": "markdown",
   "metadata": {},
   "source": [
    "Here the resulting file with route and distances can be uploaded"
   ]
  },
  {
   "cell_type": "code",
   "execution_count": 98,
   "metadata": {},
   "outputs": [
    {
     "data": {
      "text/plain": [
       "206865"
      ]
     },
     "execution_count": 98,
     "metadata": {},
     "output_type": "execute_result"
    }
   ],
   "source": [
    "# Provided finalized 'routes_with_distance' dataset\n",
    "routes_with_distance = pd.read_csv(\"/Users/emanuelazucchetto/Desktop/Copenhagen Business School/Thesis/03_Data/routes_with_distance.csv\")\n",
    "\n",
    "len(routes_with_distance)"
   ]
  },
  {
   "attachments": {},
   "cell_type": "markdown",
   "metadata": {},
   "source": [
    "For each entry in the df_final dataframe, the corresponding route lentgth (RouteDistance) is matched.  \n",
    "This is done by doing a left joint on df_with route_with_distance dataframe"
   ]
  },
  {
   "cell_type": "code",
   "execution_count": 99,
   "metadata": {},
   "outputs": [
    {
     "data": {
      "text/html": [
       "<div>\n",
       "<style scoped>\n",
       "    .dataframe tbody tr th:only-of-type {\n",
       "        vertical-align: middle;\n",
       "    }\n",
       "\n",
       "    .dataframe tbody tr th {\n",
       "        vertical-align: top;\n",
       "    }\n",
       "\n",
       "    .dataframe thead th {\n",
       "        text-align: right;\n",
       "    }\n",
       "</style>\n",
       "<table border=\"1\" class=\"dataframe\">\n",
       "  <thead>\n",
       "    <tr style=\"text-align: right;\">\n",
       "      <th></th>\n",
       "      <th>FromLatitude</th>\n",
       "      <th>FromLongitude</th>\n",
       "      <th>ToLatitude</th>\n",
       "      <th>ToLongitude</th>\n",
       "      <th>RouteDistance</th>\n",
       "    </tr>\n",
       "  </thead>\n",
       "  <tbody>\n",
       "    <tr>\n",
       "      <th>0</th>\n",
       "      <td>53.51131</td>\n",
       "      <td>-1.12540</td>\n",
       "      <td>53.60475</td>\n",
       "      <td>-0.65636</td>\n",
       "      <td>46.346</td>\n",
       "    </tr>\n",
       "    <tr>\n",
       "      <th>1</th>\n",
       "      <td>53.50446</td>\n",
       "      <td>-2.84867</td>\n",
       "      <td>53.04612</td>\n",
       "      <td>-2.92787</td>\n",
       "      <td>78.192</td>\n",
       "    </tr>\n",
       "    <tr>\n",
       "      <th>2</th>\n",
       "      <td>53.77629</td>\n",
       "      <td>-1.52585</td>\n",
       "      <td>53.71874</td>\n",
       "      <td>-1.41235</td>\n",
       "      <td>17.733</td>\n",
       "    </tr>\n",
       "    <tr>\n",
       "      <th>3</th>\n",
       "      <td>53.77629</td>\n",
       "      <td>-1.52585</td>\n",
       "      <td>55.87784</td>\n",
       "      <td>-3.65235</td>\n",
       "      <td>369.340</td>\n",
       "    </tr>\n",
       "    <tr>\n",
       "      <th>4</th>\n",
       "      <td>53.50446</td>\n",
       "      <td>-2.84867</td>\n",
       "      <td>55.91412</td>\n",
       "      <td>-3.50947</td>\n",
       "      <td>362.516</td>\n",
       "    </tr>\n",
       "  </tbody>\n",
       "</table>\n",
       "</div>"
      ],
      "text/plain": [
       "   FromLatitude  FromLongitude  ToLatitude  ToLongitude  RouteDistance\n",
       "0      53.51131       -1.12540    53.60475     -0.65636         46.346\n",
       "1      53.50446       -2.84867    53.04612     -2.92787         78.192\n",
       "2      53.77629       -1.52585    53.71874     -1.41235         17.733\n",
       "3      53.77629       -1.52585    55.87784     -3.65235        369.340\n",
       "4      53.50446       -2.84867    55.91412     -3.50947        362.516"
      ]
     },
     "execution_count": 99,
     "metadata": {},
     "output_type": "execute_result"
    }
   ],
   "source": [
    "routes_with_distance.head()"
   ]
  },
  {
   "cell_type": "code",
   "execution_count": 100,
   "metadata": {},
   "outputs": [
    {
     "data": {
      "text/html": [
       "<div>\n",
       "<style scoped>\n",
       "    .dataframe tbody tr th:only-of-type {\n",
       "        vertical-align: middle;\n",
       "    }\n",
       "\n",
       "    .dataframe tbody tr th {\n",
       "        vertical-align: top;\n",
       "    }\n",
       "\n",
       "    .dataframe thead th {\n",
       "        text-align: right;\n",
       "    }\n",
       "</style>\n",
       "<table border=\"1\" class=\"dataframe\">\n",
       "  <thead>\n",
       "    <tr style=\"text-align: right;\">\n",
       "      <th></th>\n",
       "      <th>BookingId</th>\n",
       "      <th>SubBookingName</th>\n",
       "      <th>SubBookingLegId</th>\n",
       "      <th>FromLocation</th>\n",
       "      <th>ToLocation</th>\n",
       "      <th>StartRequestedDate</th>\n",
       "      <th>EndRequestedDate</th>\n",
       "      <th>Temperature</th>\n",
       "      <th>FromLatitude</th>\n",
       "      <th>FromLongitude</th>\n",
       "      <th>FromCity</th>\n",
       "      <th>FromCountry</th>\n",
       "      <th>ToLatitude</th>\n",
       "      <th>ToLongitude</th>\n",
       "      <th>ToCity</th>\n",
       "      <th>ToCountry</th>\n",
       "      <th>CustomerName</th>\n",
       "      <th>DomesticDelivery</th>\n",
       "      <th>HaversineDistance</th>\n",
       "    </tr>\n",
       "  </thead>\n",
       "  <tbody>\n",
       "    <tr>\n",
       "      <th>0</th>\n",
       "      <td>7399574</td>\n",
       "      <td>A</td>\n",
       "      <td>8266605</td>\n",
       "      <td>33476</td>\n",
       "      <td>32187</td>\n",
       "      <td>2020-12-31</td>\n",
       "      <td>2020-12-31</td>\n",
       "      <td>NaN</td>\n",
       "      <td>53.51131</td>\n",
       "      <td>-1.12540</td>\n",
       "      <td>YORKSHIRE</td>\n",
       "      <td>United Kingdom</td>\n",
       "      <td>53.60475</td>\n",
       "      <td>-0.65636</td>\n",
       "      <td>SCUNTHORPE</td>\n",
       "      <td>United Kingdom</td>\n",
       "      <td>2967</td>\n",
       "      <td>1</td>\n",
       "      <td>32.676262</td>\n",
       "    </tr>\n",
       "    <tr>\n",
       "      <th>1</th>\n",
       "      <td>7399575</td>\n",
       "      <td>A</td>\n",
       "      <td>8266607</td>\n",
       "      <td>9315</td>\n",
       "      <td>57536</td>\n",
       "      <td>2020-12-31</td>\n",
       "      <td>2020-12-31</td>\n",
       "      <td>NaN</td>\n",
       "      <td>53.50446</td>\n",
       "      <td>-2.84867</td>\n",
       "      <td>Liverpool</td>\n",
       "      <td>United Kingdom</td>\n",
       "      <td>53.04612</td>\n",
       "      <td>-2.92787</td>\n",
       "      <td>Wrexham</td>\n",
       "      <td>United Kingdom</td>\n",
       "      <td>8190</td>\n",
       "      <td>1</td>\n",
       "      <td>51.236490</td>\n",
       "    </tr>\n",
       "    <tr>\n",
       "      <th>2</th>\n",
       "      <td>7399576</td>\n",
       "      <td>A</td>\n",
       "      <td>8266606</td>\n",
       "      <td>9315</td>\n",
       "      <td>57536</td>\n",
       "      <td>2020-12-31</td>\n",
       "      <td>2020-12-31</td>\n",
       "      <td>NaN</td>\n",
       "      <td>53.50446</td>\n",
       "      <td>-2.84867</td>\n",
       "      <td>Liverpool</td>\n",
       "      <td>United Kingdom</td>\n",
       "      <td>53.04612</td>\n",
       "      <td>-2.92787</td>\n",
       "      <td>Wrexham</td>\n",
       "      <td>United Kingdom</td>\n",
       "      <td>8190</td>\n",
       "      <td>1</td>\n",
       "      <td>51.236490</td>\n",
       "    </tr>\n",
       "    <tr>\n",
       "      <th>3</th>\n",
       "      <td>7399577</td>\n",
       "      <td>A</td>\n",
       "      <td>8266608</td>\n",
       "      <td>5900</td>\n",
       "      <td>9799</td>\n",
       "      <td>2020-12-31</td>\n",
       "      <td>2020-12-31</td>\n",
       "      <td>NaN</td>\n",
       "      <td>53.77629</td>\n",
       "      <td>-1.52585</td>\n",
       "      <td>Leeds</td>\n",
       "      <td>United Kingdom</td>\n",
       "      <td>53.71874</td>\n",
       "      <td>-1.41235</td>\n",
       "      <td>YORKSHIRE</td>\n",
       "      <td>United Kingdom</td>\n",
       "      <td>4742</td>\n",
       "      <td>1</td>\n",
       "      <td>9.831037</td>\n",
       "    </tr>\n",
       "    <tr>\n",
       "      <th>4</th>\n",
       "      <td>7399578</td>\n",
       "      <td>A</td>\n",
       "      <td>8266609</td>\n",
       "      <td>5900</td>\n",
       "      <td>3171</td>\n",
       "      <td>2020-12-31</td>\n",
       "      <td>2020-12-31</td>\n",
       "      <td>NaN</td>\n",
       "      <td>53.77629</td>\n",
       "      <td>-1.52585</td>\n",
       "      <td>Leeds</td>\n",
       "      <td>United Kingdom</td>\n",
       "      <td>55.87784</td>\n",
       "      <td>-3.65235</td>\n",
       "      <td>Bathgate</td>\n",
       "      <td>United Kingdom</td>\n",
       "      <td>4742</td>\n",
       "      <td>1</td>\n",
       "      <td>270.452074</td>\n",
       "    </tr>\n",
       "  </tbody>\n",
       "</table>\n",
       "</div>"
      ],
      "text/plain": [
       "   BookingId SubBookingName  SubBookingLegId  FromLocation  ToLocation  \\\n",
       "0    7399574              A          8266605         33476       32187   \n",
       "1    7399575              A          8266607          9315       57536   \n",
       "2    7399576              A          8266606          9315       57536   \n",
       "3    7399577              A          8266608          5900        9799   \n",
       "4    7399578              A          8266609          5900        3171   \n",
       "\n",
       "  StartRequestedDate EndRequestedDate  Temperature  FromLatitude  \\\n",
       "0         2020-12-31       2020-12-31          NaN      53.51131   \n",
       "1         2020-12-31       2020-12-31          NaN      53.50446   \n",
       "2         2020-12-31       2020-12-31          NaN      53.50446   \n",
       "3         2020-12-31       2020-12-31          NaN      53.77629   \n",
       "4         2020-12-31       2020-12-31          NaN      53.77629   \n",
       "\n",
       "   FromLongitude   FromCity     FromCountry  ToLatitude  ToLongitude  \\\n",
       "0       -1.12540  YORKSHIRE  United Kingdom    53.60475     -0.65636   \n",
       "1       -2.84867  Liverpool  United Kingdom    53.04612     -2.92787   \n",
       "2       -2.84867  Liverpool  United Kingdom    53.04612     -2.92787   \n",
       "3       -1.52585      Leeds  United Kingdom    53.71874     -1.41235   \n",
       "4       -1.52585      Leeds  United Kingdom    55.87784     -3.65235   \n",
       "\n",
       "       ToCity       ToCountry  CustomerName  DomesticDelivery  \\\n",
       "0  SCUNTHORPE  United Kingdom          2967                 1   \n",
       "1     Wrexham  United Kingdom          8190                 1   \n",
       "2     Wrexham  United Kingdom          8190                 1   \n",
       "3   YORKSHIRE  United Kingdom          4742                 1   \n",
       "4    Bathgate  United Kingdom          4742                 1   \n",
       "\n",
       "   HaversineDistance  \n",
       "0          32.676262  \n",
       "1          51.236490  \n",
       "2          51.236490  \n",
       "3           9.831037  \n",
       "4         270.452074  "
      ]
     },
     "execution_count": 100,
     "metadata": {},
     "output_type": "execute_result"
    }
   ],
   "source": [
    "df_final.head()"
   ]
  },
  {
   "cell_type": "code",
   "execution_count": 101,
   "metadata": {},
   "outputs": [],
   "source": [
    "# Merging distances of routes to df_final\n",
    "\n",
    "df_final = pd.merge(df_final, routes_with_distance, on = ['FromLatitude', 'FromLongitude', 'ToLatitude', 'ToLongitude'], how = 'left')"
   ]
  },
  {
   "cell_type": "code",
   "execution_count": 102,
   "metadata": {},
   "outputs": [
    {
     "data": {
      "text/html": [
       "<div>\n",
       "<style scoped>\n",
       "    .dataframe tbody tr th:only-of-type {\n",
       "        vertical-align: middle;\n",
       "    }\n",
       "\n",
       "    .dataframe tbody tr th {\n",
       "        vertical-align: top;\n",
       "    }\n",
       "\n",
       "    .dataframe thead th {\n",
       "        text-align: right;\n",
       "    }\n",
       "</style>\n",
       "<table border=\"1\" class=\"dataframe\">\n",
       "  <thead>\n",
       "    <tr style=\"text-align: right;\">\n",
       "      <th></th>\n",
       "      <th>BookingId</th>\n",
       "      <th>SubBookingName</th>\n",
       "      <th>SubBookingLegId</th>\n",
       "      <th>FromLocation</th>\n",
       "      <th>ToLocation</th>\n",
       "      <th>StartRequestedDate</th>\n",
       "      <th>EndRequestedDate</th>\n",
       "      <th>Temperature</th>\n",
       "      <th>FromLatitude</th>\n",
       "      <th>FromLongitude</th>\n",
       "      <th>FromCity</th>\n",
       "      <th>FromCountry</th>\n",
       "      <th>ToLatitude</th>\n",
       "      <th>ToLongitude</th>\n",
       "      <th>ToCity</th>\n",
       "      <th>ToCountry</th>\n",
       "      <th>CustomerName</th>\n",
       "      <th>DomesticDelivery</th>\n",
       "      <th>HaversineDistance</th>\n",
       "      <th>RouteDistance</th>\n",
       "    </tr>\n",
       "  </thead>\n",
       "  <tbody>\n",
       "    <tr>\n",
       "      <th>0</th>\n",
       "      <td>7399574</td>\n",
       "      <td>A</td>\n",
       "      <td>8266605</td>\n",
       "      <td>33476</td>\n",
       "      <td>32187</td>\n",
       "      <td>2020-12-31</td>\n",
       "      <td>2020-12-31</td>\n",
       "      <td>NaN</td>\n",
       "      <td>53.51131</td>\n",
       "      <td>-1.12540</td>\n",
       "      <td>YORKSHIRE</td>\n",
       "      <td>United Kingdom</td>\n",
       "      <td>53.60475</td>\n",
       "      <td>-0.65636</td>\n",
       "      <td>SCUNTHORPE</td>\n",
       "      <td>United Kingdom</td>\n",
       "      <td>2967</td>\n",
       "      <td>1</td>\n",
       "      <td>32.676262</td>\n",
       "      <td>46.346</td>\n",
       "    </tr>\n",
       "    <tr>\n",
       "      <th>1</th>\n",
       "      <td>7399575</td>\n",
       "      <td>A</td>\n",
       "      <td>8266607</td>\n",
       "      <td>9315</td>\n",
       "      <td>57536</td>\n",
       "      <td>2020-12-31</td>\n",
       "      <td>2020-12-31</td>\n",
       "      <td>NaN</td>\n",
       "      <td>53.50446</td>\n",
       "      <td>-2.84867</td>\n",
       "      <td>Liverpool</td>\n",
       "      <td>United Kingdom</td>\n",
       "      <td>53.04612</td>\n",
       "      <td>-2.92787</td>\n",
       "      <td>Wrexham</td>\n",
       "      <td>United Kingdom</td>\n",
       "      <td>8190</td>\n",
       "      <td>1</td>\n",
       "      <td>51.236490</td>\n",
       "      <td>78.192</td>\n",
       "    </tr>\n",
       "    <tr>\n",
       "      <th>2</th>\n",
       "      <td>7399576</td>\n",
       "      <td>A</td>\n",
       "      <td>8266606</td>\n",
       "      <td>9315</td>\n",
       "      <td>57536</td>\n",
       "      <td>2020-12-31</td>\n",
       "      <td>2020-12-31</td>\n",
       "      <td>NaN</td>\n",
       "      <td>53.50446</td>\n",
       "      <td>-2.84867</td>\n",
       "      <td>Liverpool</td>\n",
       "      <td>United Kingdom</td>\n",
       "      <td>53.04612</td>\n",
       "      <td>-2.92787</td>\n",
       "      <td>Wrexham</td>\n",
       "      <td>United Kingdom</td>\n",
       "      <td>8190</td>\n",
       "      <td>1</td>\n",
       "      <td>51.236490</td>\n",
       "      <td>78.192</td>\n",
       "    </tr>\n",
       "    <tr>\n",
       "      <th>3</th>\n",
       "      <td>7399577</td>\n",
       "      <td>A</td>\n",
       "      <td>8266608</td>\n",
       "      <td>5900</td>\n",
       "      <td>9799</td>\n",
       "      <td>2020-12-31</td>\n",
       "      <td>2020-12-31</td>\n",
       "      <td>NaN</td>\n",
       "      <td>53.77629</td>\n",
       "      <td>-1.52585</td>\n",
       "      <td>Leeds</td>\n",
       "      <td>United Kingdom</td>\n",
       "      <td>53.71874</td>\n",
       "      <td>-1.41235</td>\n",
       "      <td>YORKSHIRE</td>\n",
       "      <td>United Kingdom</td>\n",
       "      <td>4742</td>\n",
       "      <td>1</td>\n",
       "      <td>9.831037</td>\n",
       "      <td>17.733</td>\n",
       "    </tr>\n",
       "    <tr>\n",
       "      <th>4</th>\n",
       "      <td>7399578</td>\n",
       "      <td>A</td>\n",
       "      <td>8266609</td>\n",
       "      <td>5900</td>\n",
       "      <td>3171</td>\n",
       "      <td>2020-12-31</td>\n",
       "      <td>2020-12-31</td>\n",
       "      <td>NaN</td>\n",
       "      <td>53.77629</td>\n",
       "      <td>-1.52585</td>\n",
       "      <td>Leeds</td>\n",
       "      <td>United Kingdom</td>\n",
       "      <td>55.87784</td>\n",
       "      <td>-3.65235</td>\n",
       "      <td>Bathgate</td>\n",
       "      <td>United Kingdom</td>\n",
       "      <td>4742</td>\n",
       "      <td>1</td>\n",
       "      <td>270.452074</td>\n",
       "      <td>369.340</td>\n",
       "    </tr>\n",
       "  </tbody>\n",
       "</table>\n",
       "</div>"
      ],
      "text/plain": [
       "   BookingId SubBookingName  SubBookingLegId  FromLocation  ToLocation  \\\n",
       "0    7399574              A          8266605         33476       32187   \n",
       "1    7399575              A          8266607          9315       57536   \n",
       "2    7399576              A          8266606          9315       57536   \n",
       "3    7399577              A          8266608          5900        9799   \n",
       "4    7399578              A          8266609          5900        3171   \n",
       "\n",
       "  StartRequestedDate EndRequestedDate  Temperature  FromLatitude  \\\n",
       "0         2020-12-31       2020-12-31          NaN      53.51131   \n",
       "1         2020-12-31       2020-12-31          NaN      53.50446   \n",
       "2         2020-12-31       2020-12-31          NaN      53.50446   \n",
       "3         2020-12-31       2020-12-31          NaN      53.77629   \n",
       "4         2020-12-31       2020-12-31          NaN      53.77629   \n",
       "\n",
       "   FromLongitude   FromCity     FromCountry  ToLatitude  ToLongitude  \\\n",
       "0       -1.12540  YORKSHIRE  United Kingdom    53.60475     -0.65636   \n",
       "1       -2.84867  Liverpool  United Kingdom    53.04612     -2.92787   \n",
       "2       -2.84867  Liverpool  United Kingdom    53.04612     -2.92787   \n",
       "3       -1.52585      Leeds  United Kingdom    53.71874     -1.41235   \n",
       "4       -1.52585      Leeds  United Kingdom    55.87784     -3.65235   \n",
       "\n",
       "       ToCity       ToCountry  CustomerName  DomesticDelivery  \\\n",
       "0  SCUNTHORPE  United Kingdom          2967                 1   \n",
       "1     Wrexham  United Kingdom          8190                 1   \n",
       "2     Wrexham  United Kingdom          8190                 1   \n",
       "3   YORKSHIRE  United Kingdom          4742                 1   \n",
       "4    Bathgate  United Kingdom          4742                 1   \n",
       "\n",
       "   HaversineDistance  RouteDistance  \n",
       "0          32.676262         46.346  \n",
       "1          51.236490         78.192  \n",
       "2          51.236490         78.192  \n",
       "3           9.831037         17.733  \n",
       "4         270.452074        369.340  "
      ]
     },
     "execution_count": 102,
     "metadata": {},
     "output_type": "execute_result"
    }
   ],
   "source": [
    "df_final.head()\n"
   ]
  },
  {
   "attachments": {},
   "cell_type": "markdown",
   "metadata": {},
   "source": [
    "#### 6) Dataset preparation \n"
   ]
  },
  {
   "attachments": {},
   "cell_type": "markdown",
   "metadata": {},
   "source": [
    "In this section we ensure that the pre-processing has been completed and we start generating the 3 final datasets: a delivery based, a route based and a location based."
   ]
  },
  {
   "cell_type": "code",
   "execution_count": 103,
   "metadata": {},
   "outputs": [
    {
     "data": {
      "text/html": [
       "<div>\n",
       "<style scoped>\n",
       "    .dataframe tbody tr th:only-of-type {\n",
       "        vertical-align: middle;\n",
       "    }\n",
       "\n",
       "    .dataframe tbody tr th {\n",
       "        vertical-align: top;\n",
       "    }\n",
       "\n",
       "    .dataframe thead th {\n",
       "        text-align: right;\n",
       "    }\n",
       "</style>\n",
       "<table border=\"1\" class=\"dataframe\">\n",
       "  <thead>\n",
       "    <tr style=\"text-align: right;\">\n",
       "      <th></th>\n",
       "      <th>BookingId</th>\n",
       "      <th>SubBookingName</th>\n",
       "      <th>SubBookingLegId</th>\n",
       "      <th>FromLocation</th>\n",
       "      <th>ToLocation</th>\n",
       "      <th>StartRequestedDate</th>\n",
       "      <th>EndRequestedDate</th>\n",
       "      <th>Temperature</th>\n",
       "      <th>FromLatitude</th>\n",
       "      <th>FromLongitude</th>\n",
       "      <th>FromCity</th>\n",
       "      <th>FromCountry</th>\n",
       "      <th>ToLatitude</th>\n",
       "      <th>ToLongitude</th>\n",
       "      <th>ToCity</th>\n",
       "      <th>ToCountry</th>\n",
       "      <th>CustomerName</th>\n",
       "      <th>DomesticDelivery</th>\n",
       "      <th>HaversineDistance</th>\n",
       "      <th>RouteDistance</th>\n",
       "    </tr>\n",
       "  </thead>\n",
       "  <tbody>\n",
       "    <tr>\n",
       "      <th>0</th>\n",
       "      <td>7399574</td>\n",
       "      <td>A</td>\n",
       "      <td>8266605</td>\n",
       "      <td>33476</td>\n",
       "      <td>32187</td>\n",
       "      <td>2020-12-31</td>\n",
       "      <td>2020-12-31</td>\n",
       "      <td>NaN</td>\n",
       "      <td>53.51131</td>\n",
       "      <td>-1.12540</td>\n",
       "      <td>YORKSHIRE</td>\n",
       "      <td>United Kingdom</td>\n",
       "      <td>53.60475</td>\n",
       "      <td>-0.65636</td>\n",
       "      <td>SCUNTHORPE</td>\n",
       "      <td>United Kingdom</td>\n",
       "      <td>2967</td>\n",
       "      <td>1</td>\n",
       "      <td>32.676262</td>\n",
       "      <td>46.346</td>\n",
       "    </tr>\n",
       "    <tr>\n",
       "      <th>1</th>\n",
       "      <td>7399575</td>\n",
       "      <td>A</td>\n",
       "      <td>8266607</td>\n",
       "      <td>9315</td>\n",
       "      <td>57536</td>\n",
       "      <td>2020-12-31</td>\n",
       "      <td>2020-12-31</td>\n",
       "      <td>NaN</td>\n",
       "      <td>53.50446</td>\n",
       "      <td>-2.84867</td>\n",
       "      <td>Liverpool</td>\n",
       "      <td>United Kingdom</td>\n",
       "      <td>53.04612</td>\n",
       "      <td>-2.92787</td>\n",
       "      <td>Wrexham</td>\n",
       "      <td>United Kingdom</td>\n",
       "      <td>8190</td>\n",
       "      <td>1</td>\n",
       "      <td>51.236490</td>\n",
       "      <td>78.192</td>\n",
       "    </tr>\n",
       "    <tr>\n",
       "      <th>2</th>\n",
       "      <td>7399576</td>\n",
       "      <td>A</td>\n",
       "      <td>8266606</td>\n",
       "      <td>9315</td>\n",
       "      <td>57536</td>\n",
       "      <td>2020-12-31</td>\n",
       "      <td>2020-12-31</td>\n",
       "      <td>NaN</td>\n",
       "      <td>53.50446</td>\n",
       "      <td>-2.84867</td>\n",
       "      <td>Liverpool</td>\n",
       "      <td>United Kingdom</td>\n",
       "      <td>53.04612</td>\n",
       "      <td>-2.92787</td>\n",
       "      <td>Wrexham</td>\n",
       "      <td>United Kingdom</td>\n",
       "      <td>8190</td>\n",
       "      <td>1</td>\n",
       "      <td>51.236490</td>\n",
       "      <td>78.192</td>\n",
       "    </tr>\n",
       "    <tr>\n",
       "      <th>3</th>\n",
       "      <td>7399577</td>\n",
       "      <td>A</td>\n",
       "      <td>8266608</td>\n",
       "      <td>5900</td>\n",
       "      <td>9799</td>\n",
       "      <td>2020-12-31</td>\n",
       "      <td>2020-12-31</td>\n",
       "      <td>NaN</td>\n",
       "      <td>53.77629</td>\n",
       "      <td>-1.52585</td>\n",
       "      <td>Leeds</td>\n",
       "      <td>United Kingdom</td>\n",
       "      <td>53.71874</td>\n",
       "      <td>-1.41235</td>\n",
       "      <td>YORKSHIRE</td>\n",
       "      <td>United Kingdom</td>\n",
       "      <td>4742</td>\n",
       "      <td>1</td>\n",
       "      <td>9.831037</td>\n",
       "      <td>17.733</td>\n",
       "    </tr>\n",
       "    <tr>\n",
       "      <th>4</th>\n",
       "      <td>7399578</td>\n",
       "      <td>A</td>\n",
       "      <td>8266609</td>\n",
       "      <td>5900</td>\n",
       "      <td>3171</td>\n",
       "      <td>2020-12-31</td>\n",
       "      <td>2020-12-31</td>\n",
       "      <td>NaN</td>\n",
       "      <td>53.77629</td>\n",
       "      <td>-1.52585</td>\n",
       "      <td>Leeds</td>\n",
       "      <td>United Kingdom</td>\n",
       "      <td>55.87784</td>\n",
       "      <td>-3.65235</td>\n",
       "      <td>Bathgate</td>\n",
       "      <td>United Kingdom</td>\n",
       "      <td>4742</td>\n",
       "      <td>1</td>\n",
       "      <td>270.452074</td>\n",
       "      <td>369.340</td>\n",
       "    </tr>\n",
       "  </tbody>\n",
       "</table>\n",
       "</div>"
      ],
      "text/plain": [
       "   BookingId SubBookingName  SubBookingLegId  FromLocation  ToLocation  \\\n",
       "0    7399574              A          8266605         33476       32187   \n",
       "1    7399575              A          8266607          9315       57536   \n",
       "2    7399576              A          8266606          9315       57536   \n",
       "3    7399577              A          8266608          5900        9799   \n",
       "4    7399578              A          8266609          5900        3171   \n",
       "\n",
       "  StartRequestedDate EndRequestedDate  Temperature  FromLatitude  \\\n",
       "0         2020-12-31       2020-12-31          NaN      53.51131   \n",
       "1         2020-12-31       2020-12-31          NaN      53.50446   \n",
       "2         2020-12-31       2020-12-31          NaN      53.50446   \n",
       "3         2020-12-31       2020-12-31          NaN      53.77629   \n",
       "4         2020-12-31       2020-12-31          NaN      53.77629   \n",
       "\n",
       "   FromLongitude   FromCity     FromCountry  ToLatitude  ToLongitude  \\\n",
       "0       -1.12540  YORKSHIRE  United Kingdom    53.60475     -0.65636   \n",
       "1       -2.84867  Liverpool  United Kingdom    53.04612     -2.92787   \n",
       "2       -2.84867  Liverpool  United Kingdom    53.04612     -2.92787   \n",
       "3       -1.52585      Leeds  United Kingdom    53.71874     -1.41235   \n",
       "4       -1.52585      Leeds  United Kingdom    55.87784     -3.65235   \n",
       "\n",
       "       ToCity       ToCountry  CustomerName  DomesticDelivery  \\\n",
       "0  SCUNTHORPE  United Kingdom          2967                 1   \n",
       "1     Wrexham  United Kingdom          8190                 1   \n",
       "2     Wrexham  United Kingdom          8190                 1   \n",
       "3   YORKSHIRE  United Kingdom          4742                 1   \n",
       "4    Bathgate  United Kingdom          4742                 1   \n",
       "\n",
       "   HaversineDistance  RouteDistance  \n",
       "0          32.676262         46.346  \n",
       "1          51.236490         78.192  \n",
       "2          51.236490         78.192  \n",
       "3           9.831037         17.733  \n",
       "4         270.452074        369.340  "
      ]
     },
     "execution_count": 103,
     "metadata": {},
     "output_type": "execute_result"
    }
   ],
   "source": [
    "# Check dataset \n",
    "df_final.head()\n"
   ]
  },
  {
   "cell_type": "code",
   "execution_count": 104,
   "metadata": {},
   "outputs": [
    {
     "data": {
      "text/plain": [
       "BookingId                   0\n",
       "SubBookingName              0\n",
       "SubBookingLegId             0\n",
       "FromLocation                0\n",
       "ToLocation                  0\n",
       "StartRequestedDate        338\n",
       "EndRequestedDate            0\n",
       "Temperature           4048923\n",
       "FromLatitude                0\n",
       "FromLongitude               0\n",
       "FromCity                    0\n",
       "FromCountry                 0\n",
       "ToLatitude                  0\n",
       "ToLongitude                 0\n",
       "ToCity                      2\n",
       "ToCountry                   0\n",
       "CustomerName                0\n",
       "DomesticDelivery            0\n",
       "HaversineDistance           0\n",
       "RouteDistance               0\n",
       "dtype: int64"
      ]
     },
     "execution_count": 104,
     "metadata": {},
     "output_type": "execute_result"
    }
   ],
   "source": [
    "# Check missing values again to see if everything has been taken care of \n",
    "df_final.isna().sum()"
   ]
  },
  {
   "cell_type": "code",
   "execution_count": 105,
   "metadata": {},
   "outputs": [
    {
     "name": "stdout",
     "output_type": "stream",
     "text": [
      "['BookingId', 'SubBookingName', 'SubBookingLegId', 'FromLocation', 'ToLocation', 'StartRequestedDate', 'EndRequestedDate', 'Temperature', 'FromLatitude', 'FromLongitude', 'FromCity', 'FromCountry', 'ToLatitude', 'ToLongitude', 'ToCity', 'ToCountry', 'CustomerName', 'DomesticDelivery', 'HaversineDistance', 'RouteDistance']\n"
     ]
    }
   ],
   "source": [
    "# Listing all the columns\n",
    "columns = list(df_final.columns)\n",
    "print(columns)"
   ]
  },
  {
   "cell_type": "code",
   "execution_count": 106,
   "metadata": {},
   "outputs": [],
   "source": [
    "# Order columns of dataset meaningfully\n",
    "\n",
    "# Define the desired order of columns\n",
    "column_order = ['BookingId', 'SubBookingName', 'SubBookingLegId', 'CustomerName', 'StartRequestedDate', 'EndRequestedDate', 'FromLocation', 'ToLocation', 'FromLatitude', 'FromLongitude', 'FromCity', 'FromCountry', 'ToLatitude', 'ToLongitude', 'ToCity', 'ToCountry', 'DomesticDelivery', 'RouteDistance', 'Temperature', 'FrozenLoad']\n",
    "\n",
    "# Use the reindex() method to reorder the columns in the dataframe\n",
    "df_final = df_final.reindex(columns = column_order)"
   ]
  },
  {
   "cell_type": "code",
   "execution_count": 107,
   "metadata": {},
   "outputs": [
    {
     "data": {
      "text/html": [
       "<div>\n",
       "<style scoped>\n",
       "    .dataframe tbody tr th:only-of-type {\n",
       "        vertical-align: middle;\n",
       "    }\n",
       "\n",
       "    .dataframe tbody tr th {\n",
       "        vertical-align: top;\n",
       "    }\n",
       "\n",
       "    .dataframe thead th {\n",
       "        text-align: right;\n",
       "    }\n",
       "</style>\n",
       "<table border=\"1\" class=\"dataframe\">\n",
       "  <thead>\n",
       "    <tr style=\"text-align: right;\">\n",
       "      <th></th>\n",
       "      <th>BookingId</th>\n",
       "      <th>SubBookingName</th>\n",
       "      <th>SubBookingLegId</th>\n",
       "      <th>CustomerName</th>\n",
       "      <th>StartRequestedDate</th>\n",
       "      <th>EndRequestedDate</th>\n",
       "      <th>FromLocation</th>\n",
       "      <th>ToLocation</th>\n",
       "      <th>FromLatitude</th>\n",
       "      <th>FromLongitude</th>\n",
       "      <th>FromCity</th>\n",
       "      <th>FromCountry</th>\n",
       "      <th>ToLatitude</th>\n",
       "      <th>ToLongitude</th>\n",
       "      <th>ToCity</th>\n",
       "      <th>ToCountry</th>\n",
       "      <th>DomesticDelivery</th>\n",
       "      <th>RouteDistance</th>\n",
       "      <th>Temperature</th>\n",
       "      <th>FrozenLoad</th>\n",
       "    </tr>\n",
       "  </thead>\n",
       "  <tbody>\n",
       "    <tr>\n",
       "      <th>0</th>\n",
       "      <td>7399574</td>\n",
       "      <td>A</td>\n",
       "      <td>8266605</td>\n",
       "      <td>2967</td>\n",
       "      <td>2020-12-31</td>\n",
       "      <td>2020-12-31</td>\n",
       "      <td>33476</td>\n",
       "      <td>32187</td>\n",
       "      <td>53.51131</td>\n",
       "      <td>-1.12540</td>\n",
       "      <td>YORKSHIRE</td>\n",
       "      <td>United Kingdom</td>\n",
       "      <td>53.60475</td>\n",
       "      <td>-0.65636</td>\n",
       "      <td>SCUNTHORPE</td>\n",
       "      <td>United Kingdom</td>\n",
       "      <td>1</td>\n",
       "      <td>46.346</td>\n",
       "      <td>NaN</td>\n",
       "      <td>NaN</td>\n",
       "    </tr>\n",
       "    <tr>\n",
       "      <th>1</th>\n",
       "      <td>7399575</td>\n",
       "      <td>A</td>\n",
       "      <td>8266607</td>\n",
       "      <td>8190</td>\n",
       "      <td>2020-12-31</td>\n",
       "      <td>2020-12-31</td>\n",
       "      <td>9315</td>\n",
       "      <td>57536</td>\n",
       "      <td>53.50446</td>\n",
       "      <td>-2.84867</td>\n",
       "      <td>Liverpool</td>\n",
       "      <td>United Kingdom</td>\n",
       "      <td>53.04612</td>\n",
       "      <td>-2.92787</td>\n",
       "      <td>Wrexham</td>\n",
       "      <td>United Kingdom</td>\n",
       "      <td>1</td>\n",
       "      <td>78.192</td>\n",
       "      <td>NaN</td>\n",
       "      <td>NaN</td>\n",
       "    </tr>\n",
       "    <tr>\n",
       "      <th>2</th>\n",
       "      <td>7399576</td>\n",
       "      <td>A</td>\n",
       "      <td>8266606</td>\n",
       "      <td>8190</td>\n",
       "      <td>2020-12-31</td>\n",
       "      <td>2020-12-31</td>\n",
       "      <td>9315</td>\n",
       "      <td>57536</td>\n",
       "      <td>53.50446</td>\n",
       "      <td>-2.84867</td>\n",
       "      <td>Liverpool</td>\n",
       "      <td>United Kingdom</td>\n",
       "      <td>53.04612</td>\n",
       "      <td>-2.92787</td>\n",
       "      <td>Wrexham</td>\n",
       "      <td>United Kingdom</td>\n",
       "      <td>1</td>\n",
       "      <td>78.192</td>\n",
       "      <td>NaN</td>\n",
       "      <td>NaN</td>\n",
       "    </tr>\n",
       "    <tr>\n",
       "      <th>3</th>\n",
       "      <td>7399577</td>\n",
       "      <td>A</td>\n",
       "      <td>8266608</td>\n",
       "      <td>4742</td>\n",
       "      <td>2020-12-31</td>\n",
       "      <td>2020-12-31</td>\n",
       "      <td>5900</td>\n",
       "      <td>9799</td>\n",
       "      <td>53.77629</td>\n",
       "      <td>-1.52585</td>\n",
       "      <td>Leeds</td>\n",
       "      <td>United Kingdom</td>\n",
       "      <td>53.71874</td>\n",
       "      <td>-1.41235</td>\n",
       "      <td>YORKSHIRE</td>\n",
       "      <td>United Kingdom</td>\n",
       "      <td>1</td>\n",
       "      <td>17.733</td>\n",
       "      <td>NaN</td>\n",
       "      <td>NaN</td>\n",
       "    </tr>\n",
       "    <tr>\n",
       "      <th>4</th>\n",
       "      <td>7399578</td>\n",
       "      <td>A</td>\n",
       "      <td>8266609</td>\n",
       "      <td>4742</td>\n",
       "      <td>2020-12-31</td>\n",
       "      <td>2020-12-31</td>\n",
       "      <td>5900</td>\n",
       "      <td>3171</td>\n",
       "      <td>53.77629</td>\n",
       "      <td>-1.52585</td>\n",
       "      <td>Leeds</td>\n",
       "      <td>United Kingdom</td>\n",
       "      <td>55.87784</td>\n",
       "      <td>-3.65235</td>\n",
       "      <td>Bathgate</td>\n",
       "      <td>United Kingdom</td>\n",
       "      <td>1</td>\n",
       "      <td>369.340</td>\n",
       "      <td>NaN</td>\n",
       "      <td>NaN</td>\n",
       "    </tr>\n",
       "    <tr>\n",
       "      <th>5</th>\n",
       "      <td>7399579</td>\n",
       "      <td>A</td>\n",
       "      <td>8266613</td>\n",
       "      <td>8061</td>\n",
       "      <td>2020-12-31</td>\n",
       "      <td>2020-12-31</td>\n",
       "      <td>9194</td>\n",
       "      <td>37657</td>\n",
       "      <td>53.50446</td>\n",
       "      <td>-2.84867</td>\n",
       "      <td>Liverpool</td>\n",
       "      <td>United Kingdom</td>\n",
       "      <td>55.91412</td>\n",
       "      <td>-3.50947</td>\n",
       "      <td>LIVINGSTON</td>\n",
       "      <td>United Kingdom</td>\n",
       "      <td>1</td>\n",
       "      <td>362.516</td>\n",
       "      <td>NaN</td>\n",
       "      <td>NaN</td>\n",
       "    </tr>\n",
       "    <tr>\n",
       "      <th>6</th>\n",
       "      <td>7399580</td>\n",
       "      <td>A</td>\n",
       "      <td>8266612</td>\n",
       "      <td>4742</td>\n",
       "      <td>2020-12-31</td>\n",
       "      <td>2020-12-31</td>\n",
       "      <td>5900</td>\n",
       "      <td>29572</td>\n",
       "      <td>53.77629</td>\n",
       "      <td>-1.52585</td>\n",
       "      <td>Leeds</td>\n",
       "      <td>United Kingdom</td>\n",
       "      <td>53.58155</td>\n",
       "      <td>-1.52633</td>\n",
       "      <td>Barnsley</td>\n",
       "      <td>United Kingdom</td>\n",
       "      <td>1</td>\n",
       "      <td>27.685</td>\n",
       "      <td>NaN</td>\n",
       "      <td>NaN</td>\n",
       "    </tr>\n",
       "    <tr>\n",
       "      <th>7</th>\n",
       "      <td>7399581</td>\n",
       "      <td>A</td>\n",
       "      <td>8266611</td>\n",
       "      <td>4742</td>\n",
       "      <td>2020-12-31</td>\n",
       "      <td>2020-12-31</td>\n",
       "      <td>5900</td>\n",
       "      <td>11792</td>\n",
       "      <td>53.77629</td>\n",
       "      <td>-1.52585</td>\n",
       "      <td>Leeds</td>\n",
       "      <td>United Kingdom</td>\n",
       "      <td>53.62632</td>\n",
       "      <td>-1.35656</td>\n",
       "      <td>Pontefract</td>\n",
       "      <td>United Kingdom</td>\n",
       "      <td>1</td>\n",
       "      <td>29.779</td>\n",
       "      <td>NaN</td>\n",
       "      <td>NaN</td>\n",
       "    </tr>\n",
       "    <tr>\n",
       "      <th>8</th>\n",
       "      <td>7399582</td>\n",
       "      <td>A</td>\n",
       "      <td>8266614</td>\n",
       "      <td>8190</td>\n",
       "      <td>2020-12-30</td>\n",
       "      <td>2020-12-31</td>\n",
       "      <td>37465</td>\n",
       "      <td>21160</td>\n",
       "      <td>53.84792</td>\n",
       "      <td>-2.19863</td>\n",
       "      <td>Colne</td>\n",
       "      <td>United Kingdom</td>\n",
       "      <td>53.50446</td>\n",
       "      <td>-2.84867</td>\n",
       "      <td>Liverpool</td>\n",
       "      <td>United Kingdom</td>\n",
       "      <td>1</td>\n",
       "      <td>79.157</td>\n",
       "      <td>NaN</td>\n",
       "      <td>NaN</td>\n",
       "    </tr>\n",
       "    <tr>\n",
       "      <th>9</th>\n",
       "      <td>7399583</td>\n",
       "      <td>A</td>\n",
       "      <td>8266615</td>\n",
       "      <td>7665</td>\n",
       "      <td>2020-12-31</td>\n",
       "      <td>2020-12-31</td>\n",
       "      <td>9194</td>\n",
       "      <td>78230</td>\n",
       "      <td>53.50446</td>\n",
       "      <td>-2.84867</td>\n",
       "      <td>Liverpool</td>\n",
       "      <td>United Kingdom</td>\n",
       "      <td>53.51131</td>\n",
       "      <td>-1.12540</td>\n",
       "      <td>Doncaster</td>\n",
       "      <td>United Kingdom</td>\n",
       "      <td>1</td>\n",
       "      <td>167.201</td>\n",
       "      <td>NaN</td>\n",
       "      <td>NaN</td>\n",
       "    </tr>\n",
       "  </tbody>\n",
       "</table>\n",
       "</div>"
      ],
      "text/plain": [
       "   BookingId SubBookingName  SubBookingLegId  CustomerName StartRequestedDate  \\\n",
       "0    7399574              A          8266605          2967         2020-12-31   \n",
       "1    7399575              A          8266607          8190         2020-12-31   \n",
       "2    7399576              A          8266606          8190         2020-12-31   \n",
       "3    7399577              A          8266608          4742         2020-12-31   \n",
       "4    7399578              A          8266609          4742         2020-12-31   \n",
       "5    7399579              A          8266613          8061         2020-12-31   \n",
       "6    7399580              A          8266612          4742         2020-12-31   \n",
       "7    7399581              A          8266611          4742         2020-12-31   \n",
       "8    7399582              A          8266614          8190         2020-12-30   \n",
       "9    7399583              A          8266615          7665         2020-12-31   \n",
       "\n",
       "  EndRequestedDate  FromLocation  ToLocation  FromLatitude  FromLongitude  \\\n",
       "0       2020-12-31         33476       32187      53.51131       -1.12540   \n",
       "1       2020-12-31          9315       57536      53.50446       -2.84867   \n",
       "2       2020-12-31          9315       57536      53.50446       -2.84867   \n",
       "3       2020-12-31          5900        9799      53.77629       -1.52585   \n",
       "4       2020-12-31          5900        3171      53.77629       -1.52585   \n",
       "5       2020-12-31          9194       37657      53.50446       -2.84867   \n",
       "6       2020-12-31          5900       29572      53.77629       -1.52585   \n",
       "7       2020-12-31          5900       11792      53.77629       -1.52585   \n",
       "8       2020-12-31         37465       21160      53.84792       -2.19863   \n",
       "9       2020-12-31          9194       78230      53.50446       -2.84867   \n",
       "\n",
       "    FromCity     FromCountry  ToLatitude  ToLongitude      ToCity  \\\n",
       "0  YORKSHIRE  United Kingdom    53.60475     -0.65636  SCUNTHORPE   \n",
       "1  Liverpool  United Kingdom    53.04612     -2.92787     Wrexham   \n",
       "2  Liverpool  United Kingdom    53.04612     -2.92787     Wrexham   \n",
       "3      Leeds  United Kingdom    53.71874     -1.41235   YORKSHIRE   \n",
       "4      Leeds  United Kingdom    55.87784     -3.65235    Bathgate   \n",
       "5  Liverpool  United Kingdom    55.91412     -3.50947  LIVINGSTON   \n",
       "6      Leeds  United Kingdom    53.58155     -1.52633    Barnsley   \n",
       "7      Leeds  United Kingdom    53.62632     -1.35656  Pontefract   \n",
       "8      Colne  United Kingdom    53.50446     -2.84867   Liverpool   \n",
       "9  Liverpool  United Kingdom    53.51131     -1.12540   Doncaster   \n",
       "\n",
       "        ToCountry  DomesticDelivery  RouteDistance  Temperature  FrozenLoad  \n",
       "0  United Kingdom                 1         46.346          NaN         NaN  \n",
       "1  United Kingdom                 1         78.192          NaN         NaN  \n",
       "2  United Kingdom                 1         78.192          NaN         NaN  \n",
       "3  United Kingdom                 1         17.733          NaN         NaN  \n",
       "4  United Kingdom                 1        369.340          NaN         NaN  \n",
       "5  United Kingdom                 1        362.516          NaN         NaN  \n",
       "6  United Kingdom                 1         27.685          NaN         NaN  \n",
       "7  United Kingdom                 1         29.779          NaN         NaN  \n",
       "8  United Kingdom                 1         79.157          NaN         NaN  \n",
       "9  United Kingdom                 1        167.201          NaN         NaN  "
      ]
     },
     "execution_count": 107,
     "metadata": {},
     "output_type": "execute_result"
    }
   ],
   "source": [
    "# Look at final dataset\n",
    "\n",
    "df_final.head(10)"
   ]
  },
  {
   "attachments": {},
   "cell_type": "markdown",
   "metadata": {},
   "source": [
    "At this point, EDA and Pre-Processingof the data we received from DFDS is done. \n",
    "The last step now is to create two datasets for the following steps. \n",
    "\n",
    "1) df_deliveries \n",
    " \n",
    "For visualizations in Tableau, we keep 'df_final' but we rename it to 'df_deliveries' to emphasize that it is delivery-based, meaning every row represents one delivery. "
   ]
  },
  {
   "cell_type": "code",
   "execution_count": 108,
   "metadata": {},
   "outputs": [],
   "source": [
    "df_deliveries = df_final\n",
    "\n",
    "# Saving df_deliveries\n",
    "df_deliveries.to_csv('df_deliveries.csv')"
   ]
  },
  {
   "attachments": {},
   "cell_type": "markdown",
   "metadata": {},
   "source": [
    "2) df_routes \n",
    " \n",
    "For building the graph in the next steps, the dataframe df_final needs to be transformed. Currently, each row represents one delivery. However, we do need to transform this dataset in a way that every row represents a unique route. \n",
    "To do so, we again work with the 'routes_with_distance' dataset we created before.  \n",
    "Please find a more detailed explanation of these important steps and why they were necessary in the report."
   ]
  },
  {
   "cell_type": "code",
   "execution_count": 109,
   "metadata": {},
   "outputs": [
    {
     "name": "stdout",
     "output_type": "stream",
     "text": [
      "Number of unique routes: 206865\n"
     ]
    }
   ],
   "source": [
    "# Print number of unique routes\n",
    "print(\"Number of unique routes:\", len(routes_with_distance))"
   ]
  },
  {
   "attachments": {},
   "cell_type": "markdown",
   "metadata": {},
   "source": [
    "Firstly, only the unique rows in df_final are kept and then df_final_unique is joint with df_routes, which provides the additional information of route length"
   ]
  },
  {
   "cell_type": "code",
   "execution_count": 110,
   "metadata": {},
   "outputs": [],
   "source": [
    "# Drop duplicates from df_final based on the four coordinate variables\n",
    "df_final_unique = df_final.drop_duplicates(subset=['FromLatitude', 'FromLongitude', 'ToLatitude', 'ToLongitude'])\n",
    "\n",
    "# Select the columns to merge from df_final\n",
    "columns_to_merge = ['FromLatitude', 'FromLongitude', 'ToLatitude', 'ToLongitude',\n",
    "                    'FromLocation', 'ToLocation', 'FromCity', 'ToCity', 'FromCountry', 'ToCountry', 'CustomerName']\n",
    "\n",
    "# Merge the two dataframes on the four coordinate variables\n",
    "df_routes = pd.merge(routes_with_distance, df_final_unique[columns_to_merge], on=['FromLatitude', 'FromLongitude', 'ToLatitude', 'ToLongitude'])"
   ]
  },
  {
   "cell_type": "code",
   "execution_count": 111,
   "metadata": {},
   "outputs": [
    {
     "data": {
      "text/plain": [
       "197129"
      ]
     },
     "execution_count": 111,
     "metadata": {},
     "output_type": "execute_result"
    }
   ],
   "source": [
    "len(df_routes)"
   ]
  },
  {
   "attachments": {},
   "cell_type": "markdown",
   "metadata": {},
   "source": [
    "Secondly, the frequency based on which each route is travelled is calculated and joint to the df_route dataframe"
   ]
  },
  {
   "cell_type": "code",
   "execution_count": 112,
   "metadata": {},
   "outputs": [],
   "source": [
    "# Count the frequency of each unique route in df_final\n",
    "route_frequency = df_final.groupby(['FromLatitude', 'FromLongitude', 'ToLatitude', 'ToLongitude']).size().reset_index(name='RouteCount')\n",
    "\n",
    "# Merge the frequency information with merged_df\n",
    "df_routes = pd.merge(df_routes, route_frequency, on=['FromLatitude', 'FromLongitude', 'ToLatitude', 'ToLongitude'])"
   ]
  },
  {
   "cell_type": "code",
   "execution_count": 113,
   "metadata": {},
   "outputs": [
    {
     "data": {
      "text/html": [
       "<div>\n",
       "<style scoped>\n",
       "    .dataframe tbody tr th:only-of-type {\n",
       "        vertical-align: middle;\n",
       "    }\n",
       "\n",
       "    .dataframe tbody tr th {\n",
       "        vertical-align: top;\n",
       "    }\n",
       "\n",
       "    .dataframe thead th {\n",
       "        text-align: right;\n",
       "    }\n",
       "</style>\n",
       "<table border=\"1\" class=\"dataframe\">\n",
       "  <thead>\n",
       "    <tr style=\"text-align: right;\">\n",
       "      <th></th>\n",
       "      <th>FromLatitude</th>\n",
       "      <th>FromLongitude</th>\n",
       "      <th>ToLatitude</th>\n",
       "      <th>ToLongitude</th>\n",
       "      <th>RouteDistance</th>\n",
       "      <th>FromLocation</th>\n",
       "      <th>ToLocation</th>\n",
       "      <th>FromCity</th>\n",
       "      <th>ToCity</th>\n",
       "      <th>FromCountry</th>\n",
       "      <th>ToCountry</th>\n",
       "      <th>CustomerName</th>\n",
       "      <th>RouteCount</th>\n",
       "    </tr>\n",
       "  </thead>\n",
       "  <tbody>\n",
       "    <tr>\n",
       "      <th>0</th>\n",
       "      <td>53.51131</td>\n",
       "      <td>-1.12540</td>\n",
       "      <td>53.60475</td>\n",
       "      <td>-0.65636</td>\n",
       "      <td>46.346</td>\n",
       "      <td>33476</td>\n",
       "      <td>32187</td>\n",
       "      <td>YORKSHIRE</td>\n",
       "      <td>SCUNTHORPE</td>\n",
       "      <td>United Kingdom</td>\n",
       "      <td>United Kingdom</td>\n",
       "      <td>2967</td>\n",
       "      <td>1</td>\n",
       "    </tr>\n",
       "    <tr>\n",
       "      <th>1</th>\n",
       "      <td>53.50446</td>\n",
       "      <td>-2.84867</td>\n",
       "      <td>53.04612</td>\n",
       "      <td>-2.92787</td>\n",
       "      <td>78.192</td>\n",
       "      <td>9315</td>\n",
       "      <td>57536</td>\n",
       "      <td>Liverpool</td>\n",
       "      <td>Wrexham</td>\n",
       "      <td>United Kingdom</td>\n",
       "      <td>United Kingdom</td>\n",
       "      <td>8190</td>\n",
       "      <td>53</td>\n",
       "    </tr>\n",
       "    <tr>\n",
       "      <th>2</th>\n",
       "      <td>53.77629</td>\n",
       "      <td>-1.52585</td>\n",
       "      <td>53.71874</td>\n",
       "      <td>-1.41235</td>\n",
       "      <td>17.733</td>\n",
       "      <td>5900</td>\n",
       "      <td>9799</td>\n",
       "      <td>Leeds</td>\n",
       "      <td>YORKSHIRE</td>\n",
       "      <td>United Kingdom</td>\n",
       "      <td>United Kingdom</td>\n",
       "      <td>4742</td>\n",
       "      <td>192</td>\n",
       "    </tr>\n",
       "    <tr>\n",
       "      <th>3</th>\n",
       "      <td>53.77629</td>\n",
       "      <td>-1.52585</td>\n",
       "      <td>55.87784</td>\n",
       "      <td>-3.65235</td>\n",
       "      <td>369.340</td>\n",
       "      <td>5900</td>\n",
       "      <td>3171</td>\n",
       "      <td>Leeds</td>\n",
       "      <td>Bathgate</td>\n",
       "      <td>United Kingdom</td>\n",
       "      <td>United Kingdom</td>\n",
       "      <td>4742</td>\n",
       "      <td>3</td>\n",
       "    </tr>\n",
       "    <tr>\n",
       "      <th>4</th>\n",
       "      <td>53.50446</td>\n",
       "      <td>-2.84867</td>\n",
       "      <td>55.91412</td>\n",
       "      <td>-3.50947</td>\n",
       "      <td>362.516</td>\n",
       "      <td>9194</td>\n",
       "      <td>37657</td>\n",
       "      <td>Liverpool</td>\n",
       "      <td>LIVINGSTON</td>\n",
       "      <td>United Kingdom</td>\n",
       "      <td>United Kingdom</td>\n",
       "      <td>8061</td>\n",
       "      <td>639</td>\n",
       "    </tr>\n",
       "  </tbody>\n",
       "</table>\n",
       "</div>"
      ],
      "text/plain": [
       "   FromLatitude  FromLongitude  ToLatitude  ToLongitude  RouteDistance  \\\n",
       "0      53.51131       -1.12540    53.60475     -0.65636         46.346   \n",
       "1      53.50446       -2.84867    53.04612     -2.92787         78.192   \n",
       "2      53.77629       -1.52585    53.71874     -1.41235         17.733   \n",
       "3      53.77629       -1.52585    55.87784     -3.65235        369.340   \n",
       "4      53.50446       -2.84867    55.91412     -3.50947        362.516   \n",
       "\n",
       "   FromLocation  ToLocation   FromCity      ToCity     FromCountry  \\\n",
       "0         33476       32187  YORKSHIRE  SCUNTHORPE  United Kingdom   \n",
       "1          9315       57536  Liverpool     Wrexham  United Kingdom   \n",
       "2          5900        9799      Leeds   YORKSHIRE  United Kingdom   \n",
       "3          5900        3171      Leeds    Bathgate  United Kingdom   \n",
       "4          9194       37657  Liverpool  LIVINGSTON  United Kingdom   \n",
       "\n",
       "        ToCountry  CustomerName  RouteCount  \n",
       "0  United Kingdom          2967           1  \n",
       "1  United Kingdom          8190          53  \n",
       "2  United Kingdom          4742         192  \n",
       "3  United Kingdom          4742           3  \n",
       "4  United Kingdom          8061         639  "
      ]
     },
     "execution_count": 113,
     "metadata": {},
     "output_type": "execute_result"
    }
   ],
   "source": [
    "# Check if merge was successful\n",
    "df_routes.head()"
   ]
  },
  {
   "cell_type": "code",
   "execution_count": 114,
   "metadata": {},
   "outputs": [
    {
     "data": {
      "text/plain": [
       "4973604"
      ]
     },
     "execution_count": 114,
     "metadata": {},
     "output_type": "execute_result"
    }
   ],
   "source": [
    "# Sanity check: the amount of route counts corresponds to the total number of observations in the delivery-based dataset \n",
    "df_routes['RouteCount'].sum()"
   ]
  },
  {
   "cell_type": "code",
   "execution_count": 115,
   "metadata": {},
   "outputs": [
    {
     "data": {
      "text/html": [
       "<div>\n",
       "<style scoped>\n",
       "    .dataframe tbody tr th:only-of-type {\n",
       "        vertical-align: middle;\n",
       "    }\n",
       "\n",
       "    .dataframe tbody tr th {\n",
       "        vertical-align: top;\n",
       "    }\n",
       "\n",
       "    .dataframe thead th {\n",
       "        text-align: right;\n",
       "    }\n",
       "</style>\n",
       "<table border=\"1\" class=\"dataframe\">\n",
       "  <thead>\n",
       "    <tr style=\"text-align: right;\">\n",
       "      <th></th>\n",
       "      <th>FromLatitude</th>\n",
       "      <th>FromLongitude</th>\n",
       "      <th>ToLatitude</th>\n",
       "      <th>ToLongitude</th>\n",
       "      <th>RouteDistance</th>\n",
       "      <th>FromLocation</th>\n",
       "      <th>ToLocation</th>\n",
       "      <th>FromCity</th>\n",
       "      <th>ToCity</th>\n",
       "      <th>FromCountry</th>\n",
       "      <th>ToCountry</th>\n",
       "      <th>CustomerName</th>\n",
       "      <th>RouteCount</th>\n",
       "    </tr>\n",
       "  </thead>\n",
       "  <tbody>\n",
       "    <tr>\n",
       "      <th>152382</th>\n",
       "      <td>57.71873</td>\n",
       "      <td>11.82862</td>\n",
       "      <td>57.71873</td>\n",
       "      <td>11.82862</td>\n",
       "      <td>0.000</td>\n",
       "      <td>968</td>\n",
       "      <td>77695</td>\n",
       "      <td>Skara</td>\n",
       "      <td>Göteborg</td>\n",
       "      <td>Sweden</td>\n",
       "      <td>Sweden</td>\n",
       "      <td>12414</td>\n",
       "      <td>240268</td>\n",
       "    </tr>\n",
       "    <tr>\n",
       "      <th>190150</th>\n",
       "      <td>55.47409</td>\n",
       "      <td>9.15797</td>\n",
       "      <td>55.47409</td>\n",
       "      <td>9.15797</td>\n",
       "      <td>0.000</td>\n",
       "      <td>8409</td>\n",
       "      <td>2301</td>\n",
       "      <td>Horsens</td>\n",
       "      <td>Vejen</td>\n",
       "      <td>Denmark</td>\n",
       "      <td>Denmark</td>\n",
       "      <td>12895</td>\n",
       "      <td>195961</td>\n",
       "    </tr>\n",
       "    <tr>\n",
       "      <th>22250</th>\n",
       "      <td>57.71877</td>\n",
       "      <td>11.82920</td>\n",
       "      <td>57.69555</td>\n",
       "      <td>11.85303</td>\n",
       "      <td>5.714</td>\n",
       "      <td>30251</td>\n",
       "      <td>70713</td>\n",
       "      <td>Gothenburg</td>\n",
       "      <td>Göteborg</td>\n",
       "      <td>Sweden</td>\n",
       "      <td>Sweden</td>\n",
       "      <td>12895</td>\n",
       "      <td>172307</td>\n",
       "    </tr>\n",
       "    <tr>\n",
       "      <th>23781</th>\n",
       "      <td>57.71877</td>\n",
       "      <td>11.82920</td>\n",
       "      <td>57.71225</td>\n",
       "      <td>11.96575</td>\n",
       "      <td>12.148</td>\n",
       "      <td>30251</td>\n",
       "      <td>70709</td>\n",
       "      <td>Gothenburg</td>\n",
       "      <td>Göteborg</td>\n",
       "      <td>Sweden</td>\n",
       "      <td>Sweden</td>\n",
       "      <td>12895</td>\n",
       "      <td>132002</td>\n",
       "    </tr>\n",
       "    <tr>\n",
       "      <th>152428</th>\n",
       "      <td>57.72323</td>\n",
       "      <td>11.85834</td>\n",
       "      <td>57.72323</td>\n",
       "      <td>11.85834</td>\n",
       "      <td>0.000</td>\n",
       "      <td>945</td>\n",
       "      <td>11641</td>\n",
       "      <td>DESTELDONK</td>\n",
       "      <td>Göteborg</td>\n",
       "      <td>Sweden</td>\n",
       "      <td>Sweden</td>\n",
       "      <td>12895</td>\n",
       "      <td>115222</td>\n",
       "    </tr>\n",
       "  </tbody>\n",
       "</table>\n",
       "</div>"
      ],
      "text/plain": [
       "        FromLatitude  FromLongitude  ToLatitude  ToLongitude  RouteDistance  \\\n",
       "152382      57.71873       11.82862    57.71873     11.82862          0.000   \n",
       "190150      55.47409        9.15797    55.47409      9.15797          0.000   \n",
       "22250       57.71877       11.82920    57.69555     11.85303          5.714   \n",
       "23781       57.71877       11.82920    57.71225     11.96575         12.148   \n",
       "152428      57.72323       11.85834    57.72323     11.85834          0.000   \n",
       "\n",
       "        FromLocation  ToLocation    FromCity    ToCity FromCountry ToCountry  \\\n",
       "152382           968       77695       Skara  Göteborg      Sweden    Sweden   \n",
       "190150          8409        2301     Horsens     Vejen     Denmark   Denmark   \n",
       "22250          30251       70713  Gothenburg  Göteborg      Sweden    Sweden   \n",
       "23781          30251       70709  Gothenburg  Göteborg      Sweden    Sweden   \n",
       "152428           945       11641  DESTELDONK  Göteborg      Sweden    Sweden   \n",
       "\n",
       "        CustomerName  RouteCount  \n",
       "152382         12414      240268  \n",
       "190150         12895      195961  \n",
       "22250          12895      172307  \n",
       "23781          12895      132002  \n",
       "152428         12895      115222  "
      ]
     },
     "execution_count": 115,
     "metadata": {},
     "output_type": "execute_result"
    }
   ],
   "source": [
    "# Sorting routes by RouteCount\n",
    "df_routes = df_routes.sort_values(by = ['RouteCount'], ascending = False)\n",
    "df_routes.head()"
   ]
  },
  {
   "cell_type": "code",
   "execution_count": 116,
   "metadata": {},
   "outputs": [],
   "source": [
    "# Saving df_routes\n",
    "df_routes.to_csv('df_routes.csv', index=False)"
   ]
  },
  {
   "attachments": {},
   "cell_type": "markdown",
   "metadata": {},
   "source": [
    "Finally we plot some figures to see the distribution of distances in general and also for each country in analysis"
   ]
  },
  {
   "cell_type": "code",
   "execution_count": 117,
   "metadata": {},
   "outputs": [
    {
     "data": {
      "image/png": "[encoded data removed]",
      "text/plain": [
       "<Figure size 432x288 with 1 Axes>"
      ]
     },
     "metadata": {
      "needs_background": "light"
     },
     "output_type": "display_data"
    }
   ],
   "source": [
    "# Overall distribution of distances\n",
    "\n",
    "plt.hist(df_routes[\"RouteDistance\"], bins = 100)\n",
    "plt.xlabel(\"Driving distance (km)\")\n",
    "plt.ylabel(\"Frequency\")\n",
    "plt.title(\"Distribution of Distances\")\n",
    "plt.show()"
   ]
  },
  {
   "cell_type": "code",
   "execution_count": 118,
   "metadata": {},
   "outputs": [
    {
     "data": {
      "image/png": "[encoded data removed]",
      "text/plain": [
       "<Figure size 432x288 with 1 Axes>"
      ]
     },
     "metadata": {
      "needs_background": "light"
     },
     "output_type": "display_data"
    }
   ],
   "source": [
    "# Distribution of distances for routes longer than 0 Km and smaller that 2500 Km (out of scope as not performed by trucks)\n",
    "subset = df_routes[(df_routes['RouteDistance'] < 2500) & (df_routes['RouteDistance']>0)]\n",
    "plt.hist(subset['RouteDistance'], bins = 100)\n",
    "plt.xlabel(\"Driving distance (km)\")\n",
    "plt.ylabel(\"Frequency\")\n",
    "plt.title(\"Distribution of Distances\")\n",
    "plt.show()"
   ]
  },
  {
   "cell_type": "code",
   "execution_count": 119,
   "metadata": {},
   "outputs": [
    {
     "data": {
      "image/png": "[encoded data removed]",
      "text/plain": [
       "<Figure size 432x288 with 1 Axes>"
      ]
     },
     "metadata": {
      "needs_background": "light"
     },
     "output_type": "display_data"
    }
   ],
   "source": [
    "# United Kindom distance distribution\n",
    "subset_uk = subset[subset['ToCountry'] =='United Kingdom']\n",
    "plt.hist(subset_uk['RouteDistance'], bins = 100)\n",
    "plt.xlabel(\"Driving distance (km)\")\n",
    "plt.ylabel(\"Frequency\")\n",
    "plt.title(\"Distribution of Distances\")\n",
    "plt.show()"
   ]
  },
  {
   "cell_type": "code",
   "execution_count": 120,
   "metadata": {},
   "outputs": [
    {
     "data": {
      "image/png": "[encoded data removed]",
      "text/plain": [
       "<Figure size 432x288 with 1 Axes>"
      ]
     },
     "metadata": {
      "needs_background": "light"
     },
     "output_type": "display_data"
    }
   ],
   "source": [
    "# Sweden distance distribution\n",
    "subset_swe = subset[subset['ToCountry'] =='Sweden']\n",
    "plt.hist(subset_swe['RouteDistance'], bins = 100)\n",
    "plt.xlabel(\"Driving distance (km)\")\n",
    "plt.ylabel(\"Frequency\")\n",
    "plt.title(\"Distribution of Distances\")\n",
    "plt.show()"
   ]
  },
  {
   "cell_type": "code",
   "execution_count": 121,
   "metadata": {},
   "outputs": [
    {
     "data": {
      "image/png": "[encoded data removed]",
      "text/plain": [
       "<Figure size 432x288 with 1 Axes>"
      ]
     },
     "metadata": {
      "needs_background": "light"
     },
     "output_type": "display_data"
    }
   ],
   "source": [
    "# Denmark distance distribution\n",
    "subset_dk = subset[subset['ToCountry'] =='Denmark']\n",
    "plt.hist(subset_dk['RouteDistance'], bins = 100)\n",
    "plt.xlabel(\"Driving distance (km)\")\n",
    "plt.ylabel(\"Frequency\")\n",
    "plt.title(\"Distribution of Distances\")\n",
    "plt.show()"
   ]
  },
  {
   "cell_type": "code",
   "execution_count": 122,
   "metadata": {},
   "outputs": [
    {
     "data": {
      "image/png": "[encoded data removed]",
      "text/plain": [
       "<Figure size 432x288 with 1 Axes>"
      ]
     },
     "metadata": {
      "needs_background": "light"
     },
     "output_type": "display_data"
    }
   ],
   "source": [
    "# Germany distance distribution\n",
    "subset_ger = subset[subset['ToCountry'] =='Germany']\n",
    "plt.hist(subset_ger['RouteDistance'], bins = 100)\n",
    "plt.xlabel(\"Driving distance (km)\")\n",
    "plt.ylabel(\"Frequency\")\n",
    "plt.title(\"Distribution of Distances\")\n",
    "plt.show()"
   ]
  },
  {
   "cell_type": "code",
   "execution_count": 123,
   "metadata": {},
   "outputs": [
    {
     "data": {
      "image/png": "[encoded data removed]",
      "text/plain": [
       "<Figure size 432x288 with 1 Axes>"
      ]
     },
     "metadata": {
      "needs_background": "light"
     },
     "output_type": "display_data"
    }
   ],
   "source": [
    "# Belgium distance distribution\n",
    "subset_bel = subset[subset['ToCountry'] =='Belgium']\n",
    "plt.hist(subset_bel['RouteDistance'], bins = 100)\n",
    "plt.xlabel(\"Driving distance (km)\")\n",
    "plt.ylabel(\"Frequency\")\n",
    "plt.title(\"Distribution of Distances\")\n",
    "plt.show()"
   ]
  },
  {
   "cell_type": "code",
   "execution_count": 124,
   "metadata": {},
   "outputs": [
    {
     "data": {
      "image/png": "[encoded data removed]",
      "text/plain": [
       "<Figure size 432x288 with 1 Axes>"
      ]
     },
     "metadata": {
      "needs_background": "light"
     },
     "output_type": "display_data"
    }
   ],
   "source": [
    "# Netherlands distance distribution\n",
    "subset_ned = subset[subset['ToCountry'] =='Netherlands']\n",
    "plt.hist(subset_ned['RouteDistance'], bins = 100)\n",
    "plt.xlabel(\"Driving distance (km)\")\n",
    "plt.ylabel(\"Frequency\")\n",
    "plt.title(\"Distribution of Distances\")\n",
    "plt.show()"
   ]
  },
  {
   "attachments": {},
   "cell_type": "markdown",
   "metadata": {},
   "source": [
    "3) df_locations\n",
    "  \n",
    "Finally, a third dataset based on location is created. It aims at storing the each location (as geographical coordinates) appearing in the booking system with the frequency of how many times it appears and how many times it is a starting or ending location (also expressed in % form)"
   ]
  },
  {
   "attachments": {},
   "cell_type": "markdown",
   "metadata": {},
   "source": [
    "Since routes = 0 are not relevant for the scope of this research they are dropped"
   ]
  },
  {
   "cell_type": "code",
   "execution_count": 125,
   "metadata": {},
   "outputs": [],
   "source": [
    "# Ensuring that only real trips (RouteDistance > 0) are taken into consideration\n",
    "\n",
    "df_routes=df_routes[df_routes.RouteDistance>0]"
   ]
  },
  {
   "attachments": {},
   "cell_type": "markdown",
   "metadata": {},
   "source": [
    "Creating a variable containing both latitude and longitude for each starting and ending point"
   ]
  },
  {
   "cell_type": "code",
   "execution_count": 126,
   "metadata": {},
   "outputs": [],
   "source": [
    "# latitude and longitude are zipped together\n",
    "\n",
    "df_routes['ToPoint']=list(zip(df_routes.ToLatitude,df_routes.ToLongitude))\n",
    "df_routes['FromPoint']=list(zip(df_routes.FromLatitude,df_routes.FromLongitude))"
   ]
  },
  {
   "attachments": {},
   "cell_type": "markdown",
   "metadata": {},
   "source": [
    "Then, the frequency for starting and ending point as well as the cumulative one is calculated"
   ]
  },
  {
   "cell_type": "code",
   "execution_count": 127,
   "metadata": {},
   "outputs": [],
   "source": [
    "# Calculating the frequency of each starting and ending point \n",
    "\n",
    "end_frequency = df_routes['ToPoint'].value_counts().rename_axis('ToPoint').reset_index(name='counts1')\n",
    "start_frequency = df_routes['FromPoint'].value_counts().rename_axis('FromPoint').reset_index(name='counts2')"
   ]
  },
  {
   "cell_type": "code",
   "execution_count": 128,
   "metadata": {},
   "outputs": [],
   "source": [
    "# Renaming columns so that they can be merged together\n",
    "\n",
    "end_frequency.rename(columns={'ToPoint': 'Location'}, inplace=True)\n",
    "start_frequency.rename(columns={'FromPoint': 'Location'}, inplace=True)"
   ]
  },
  {
   "cell_type": "code",
   "execution_count": 129,
   "metadata": {},
   "outputs": [],
   "source": [
    "# Merge together frequency of starting and ending points, in order to have a summary value\n",
    "\n",
    "df_locations=end_frequency.merge(start_frequency, on='Location')"
   ]
  },
  {
   "cell_type": "code",
   "execution_count": 130,
   "metadata": {},
   "outputs": [],
   "source": [
    "# Split the longitude and latitude into separate variables\n",
    "\n",
    "df_locations['Latitude']=df_locations['Location'].apply(lambda x:x[0])\n",
    "df_locations['Longitude']=df_locations['Location'].apply(lambda x:x[1])"
   ]
  },
  {
   "cell_type": "code",
   "execution_count": 131,
   "metadata": {},
   "outputs": [],
   "source": [
    "# Find the total frequency for each point\n",
    "\n",
    "df_locations['LocationFrequency']=df_locations.counts1+df_locations.counts2"
   ]
  },
  {
   "cell_type": "code",
   "execution_count": 132,
   "metadata": {},
   "outputs": [],
   "source": [
    "# Renaming columns\n",
    "\n",
    "df_locations.rename(columns={'counts1': 'EndLocationFrequency', 'counts2':'StartLocationFrequency'}, inplace=True)"
   ]
  },
  {
   "cell_type": "code",
   "execution_count": 133,
   "metadata": {},
   "outputs": [],
   "source": [
    "# Order columns of dataset meaningful \n",
    "\n",
    "# Define the desired order of columns\n",
    "column_order = ['Location', 'Latitude', 'Longitude', 'StartLocationFrequency', 'EndLocationFrequency', 'LocationFrequency']\n",
    "\n",
    "# Use the reindex() method to reorder the columns in the dataframe\n",
    "df_locations = df_locations.reindex(columns = column_order)"
   ]
  },
  {
   "cell_type": "code",
   "execution_count": 134,
   "metadata": {},
   "outputs": [
    {
     "data": {
      "text/html": [
       "<div>\n",
       "<style scoped>\n",
       "    .dataframe tbody tr th:only-of-type {\n",
       "        vertical-align: middle;\n",
       "    }\n",
       "\n",
       "    .dataframe tbody tr th {\n",
       "        vertical-align: top;\n",
       "    }\n",
       "\n",
       "    .dataframe thead th {\n",
       "        text-align: right;\n",
       "    }\n",
       "</style>\n",
       "<table border=\"1\" class=\"dataframe\">\n",
       "  <thead>\n",
       "    <tr style=\"text-align: right;\">\n",
       "      <th></th>\n",
       "      <th>Location</th>\n",
       "      <th>Latitude</th>\n",
       "      <th>Longitude</th>\n",
       "      <th>StartLocationFrequency</th>\n",
       "      <th>EndLocationFrequency</th>\n",
       "      <th>LocationFrequency</th>\n",
       "    </tr>\n",
       "  </thead>\n",
       "  <tbody>\n",
       "    <tr>\n",
       "      <th>0</th>\n",
       "      <td>(53.62560417, -0.20199861)</td>\n",
       "      <td>53.625604</td>\n",
       "      <td>-0.201999</td>\n",
       "      <td>2250</td>\n",
       "      <td>1254</td>\n",
       "      <td>3504</td>\n",
       "    </tr>\n",
       "    <tr>\n",
       "      <th>1</th>\n",
       "      <td>(53.35047, -6.20923)</td>\n",
       "      <td>53.350470</td>\n",
       "      <td>-6.209230</td>\n",
       "      <td>185</td>\n",
       "      <td>677</td>\n",
       "      <td>862</td>\n",
       "    </tr>\n",
       "    <tr>\n",
       "      <th>2</th>\n",
       "      <td>(53.57513, -0.11671)</td>\n",
       "      <td>53.575130</td>\n",
       "      <td>-0.116710</td>\n",
       "      <td>1876</td>\n",
       "      <td>439</td>\n",
       "      <td>2315</td>\n",
       "    </tr>\n",
       "    <tr>\n",
       "      <th>3</th>\n",
       "      <td>(52.55913, -0.17384)</td>\n",
       "      <td>52.559130</td>\n",
       "      <td>-0.173840</td>\n",
       "      <td>158</td>\n",
       "      <td>392</td>\n",
       "      <td>550</td>\n",
       "    </tr>\n",
       "    <tr>\n",
       "      <th>4</th>\n",
       "      <td>(50.73771, 3.24732)</td>\n",
       "      <td>50.737710</td>\n",
       "      <td>3.247320</td>\n",
       "      <td>988</td>\n",
       "      <td>389</td>\n",
       "      <td>1377</td>\n",
       "    </tr>\n",
       "    <tr>\n",
       "      <th>...</th>\n",
       "      <td>...</td>\n",
       "      <td>...</td>\n",
       "      <td>...</td>\n",
       "      <td>...</td>\n",
       "      <td>...</td>\n",
       "      <td>...</td>\n",
       "    </tr>\n",
       "    <tr>\n",
       "      <th>21163</th>\n",
       "      <td>(57.06785, -2.16012)</td>\n",
       "      <td>57.067850</td>\n",
       "      <td>-2.160120</td>\n",
       "      <td>7</td>\n",
       "      <td>1</td>\n",
       "      <td>8</td>\n",
       "    </tr>\n",
       "    <tr>\n",
       "      <th>21164</th>\n",
       "      <td>(60.30312, 22.29073)</td>\n",
       "      <td>60.303120</td>\n",
       "      <td>22.290730</td>\n",
       "      <td>1</td>\n",
       "      <td>1</td>\n",
       "      <td>2</td>\n",
       "    </tr>\n",
       "    <tr>\n",
       "      <th>21165</th>\n",
       "      <td>(55.81063, -4.02848)</td>\n",
       "      <td>55.810630</td>\n",
       "      <td>-4.028480</td>\n",
       "      <td>1</td>\n",
       "      <td>1</td>\n",
       "      <td>2</td>\n",
       "    </tr>\n",
       "    <tr>\n",
       "      <th>21166</th>\n",
       "      <td>(52.2555, 0.40364)</td>\n",
       "      <td>52.255500</td>\n",
       "      <td>0.403640</td>\n",
       "      <td>1</td>\n",
       "      <td>1</td>\n",
       "      <td>2</td>\n",
       "    </tr>\n",
       "    <tr>\n",
       "      <th>21167</th>\n",
       "      <td>(58.11794, 12.15334)</td>\n",
       "      <td>58.117940</td>\n",
       "      <td>12.153340</td>\n",
       "      <td>2</td>\n",
       "      <td>1</td>\n",
       "      <td>3</td>\n",
       "    </tr>\n",
       "  </tbody>\n",
       "</table>\n",
       "<p>21168 rows × 6 columns</p>\n",
       "</div>"
      ],
      "text/plain": [
       "                         Location   Latitude  Longitude  \\\n",
       "0      (53.62560417, -0.20199861)  53.625604  -0.201999   \n",
       "1            (53.35047, -6.20923)  53.350470  -6.209230   \n",
       "2            (53.57513, -0.11671)  53.575130  -0.116710   \n",
       "3            (52.55913, -0.17384)  52.559130  -0.173840   \n",
       "4             (50.73771, 3.24732)  50.737710   3.247320   \n",
       "...                           ...        ...        ...   \n",
       "21163        (57.06785, -2.16012)  57.067850  -2.160120   \n",
       "21164        (60.30312, 22.29073)  60.303120  22.290730   \n",
       "21165        (55.81063, -4.02848)  55.810630  -4.028480   \n",
       "21166          (52.2555, 0.40364)  52.255500   0.403640   \n",
       "21167        (58.11794, 12.15334)  58.117940  12.153340   \n",
       "\n",
       "       StartLocationFrequency  EndLocationFrequency  LocationFrequency  \n",
       "0                        2250                  1254               3504  \n",
       "1                         185                   677                862  \n",
       "2                        1876                   439               2315  \n",
       "3                         158                   392                550  \n",
       "4                         988                   389               1377  \n",
       "...                       ...                   ...                ...  \n",
       "21163                       7                     1                  8  \n",
       "21164                       1                     1                  2  \n",
       "21165                       1                     1                  2  \n",
       "21166                       1                     1                  2  \n",
       "21167                       2                     1                  3  \n",
       "\n",
       "[21168 rows x 6 columns]"
      ]
     },
     "execution_count": 134,
     "metadata": {},
     "output_type": "execute_result"
    }
   ],
   "source": [
    "df_locations"
   ]
  },
  {
   "attachments": {},
   "cell_type": "markdown",
   "metadata": {},
   "source": [
    "The frequency measures are also caluclated in percentage form"
   ]
  },
  {
   "cell_type": "code",
   "execution_count": 135,
   "metadata": {},
   "outputs": [],
   "source": [
    "# Caluculate total frequency\n",
    "\n",
    "total=df_locations.LocationFrequency.sum()\n",
    "start_total=df_locations.StartLocationFrequency.sum()\n",
    "end_total=df_locations.EndLocationFrequency.sum()"
   ]
  },
  {
   "cell_type": "code",
   "execution_count": 136,
   "metadata": {},
   "outputs": [],
   "source": [
    "# Espress frequencies as percentage of the total\n",
    "\n",
    "df_locations['StartPct']=df_locations['StartLocationFrequency'].apply(lambda x: (x/start_total)*100)\n",
    "df_locations['EndPct']=df_locations['EndLocationFrequency'].apply(lambda x: (x/end_total)*100)\n",
    "df_locations['TotPct']=df_locations['LocationFrequency'].apply(lambda x: (x/total)*100)\n"
   ]
  },
  {
   "cell_type": "code",
   "execution_count": 137,
   "metadata": {},
   "outputs": [
    {
     "data": {
      "text/html": [
       "<div>\n",
       "<style scoped>\n",
       "    .dataframe tbody tr th:only-of-type {\n",
       "        vertical-align: middle;\n",
       "    }\n",
       "\n",
       "    .dataframe tbody tr th {\n",
       "        vertical-align: top;\n",
       "    }\n",
       "\n",
       "    .dataframe thead th {\n",
       "        text-align: right;\n",
       "    }\n",
       "</style>\n",
       "<table border=\"1\" class=\"dataframe\">\n",
       "  <thead>\n",
       "    <tr style=\"text-align: right;\">\n",
       "      <th></th>\n",
       "      <th>Location</th>\n",
       "      <th>Latitude</th>\n",
       "      <th>Longitude</th>\n",
       "      <th>StartLocationFrequency</th>\n",
       "      <th>EndLocationFrequency</th>\n",
       "      <th>LocationFrequency</th>\n",
       "      <th>StartPct</th>\n",
       "      <th>EndPct</th>\n",
       "      <th>TotPct</th>\n",
       "    </tr>\n",
       "  </thead>\n",
       "  <tbody>\n",
       "    <tr>\n",
       "      <th>0</th>\n",
       "      <td>(53.62560417, -0.20199861)</td>\n",
       "      <td>53.625604</td>\n",
       "      <td>-0.201999</td>\n",
       "      <td>2250</td>\n",
       "      <td>1254</td>\n",
       "      <td>3504</td>\n",
       "      <td>1.758252</td>\n",
       "      <td>1.339558</td>\n",
       "      <td>1.581363</td>\n",
       "    </tr>\n",
       "    <tr>\n",
       "      <th>1</th>\n",
       "      <td>(53.35047, -6.20923)</td>\n",
       "      <td>53.350470</td>\n",
       "      <td>-6.209230</td>\n",
       "      <td>185</td>\n",
       "      <td>677</td>\n",
       "      <td>862</td>\n",
       "      <td>0.144567</td>\n",
       "      <td>0.723190</td>\n",
       "      <td>0.389023</td>\n",
       "    </tr>\n",
       "    <tr>\n",
       "      <th>2</th>\n",
       "      <td>(53.57513, -0.11671)</td>\n",
       "      <td>53.575130</td>\n",
       "      <td>-0.116710</td>\n",
       "      <td>1876</td>\n",
       "      <td>439</td>\n",
       "      <td>2315</td>\n",
       "      <td>1.465991</td>\n",
       "      <td>0.468952</td>\n",
       "      <td>1.044765</td>\n",
       "    </tr>\n",
       "    <tr>\n",
       "      <th>3</th>\n",
       "      <td>(52.55913, -0.17384)</td>\n",
       "      <td>52.559130</td>\n",
       "      <td>-0.173840</td>\n",
       "      <td>158</td>\n",
       "      <td>392</td>\n",
       "      <td>550</td>\n",
       "      <td>0.123468</td>\n",
       "      <td>0.418745</td>\n",
       "      <td>0.248216</td>\n",
       "    </tr>\n",
       "    <tr>\n",
       "      <th>4</th>\n",
       "      <td>(50.73771, 3.24732)</td>\n",
       "      <td>50.737710</td>\n",
       "      <td>3.247320</td>\n",
       "      <td>988</td>\n",
       "      <td>389</td>\n",
       "      <td>1377</td>\n",
       "      <td>0.772068</td>\n",
       "      <td>0.415541</td>\n",
       "      <td>0.621443</td>\n",
       "    </tr>\n",
       "    <tr>\n",
       "      <th>...</th>\n",
       "      <td>...</td>\n",
       "      <td>...</td>\n",
       "      <td>...</td>\n",
       "      <td>...</td>\n",
       "      <td>...</td>\n",
       "      <td>...</td>\n",
       "      <td>...</td>\n",
       "      <td>...</td>\n",
       "      <td>...</td>\n",
       "    </tr>\n",
       "    <tr>\n",
       "      <th>21163</th>\n",
       "      <td>(57.06785, -2.16012)</td>\n",
       "      <td>57.067850</td>\n",
       "      <td>-2.160120</td>\n",
       "      <td>7</td>\n",
       "      <td>1</td>\n",
       "      <td>8</td>\n",
       "      <td>0.005470</td>\n",
       "      <td>0.001068</td>\n",
       "      <td>0.003610</td>\n",
       "    </tr>\n",
       "    <tr>\n",
       "      <th>21164</th>\n",
       "      <td>(60.30312, 22.29073)</td>\n",
       "      <td>60.303120</td>\n",
       "      <td>22.290730</td>\n",
       "      <td>1</td>\n",
       "      <td>1</td>\n",
       "      <td>2</td>\n",
       "      <td>0.000781</td>\n",
       "      <td>0.001068</td>\n",
       "      <td>0.000903</td>\n",
       "    </tr>\n",
       "    <tr>\n",
       "      <th>21165</th>\n",
       "      <td>(55.81063, -4.02848)</td>\n",
       "      <td>55.810630</td>\n",
       "      <td>-4.028480</td>\n",
       "      <td>1</td>\n",
       "      <td>1</td>\n",
       "      <td>2</td>\n",
       "      <td>0.000781</td>\n",
       "      <td>0.001068</td>\n",
       "      <td>0.000903</td>\n",
       "    </tr>\n",
       "    <tr>\n",
       "      <th>21166</th>\n",
       "      <td>(52.2555, 0.40364)</td>\n",
       "      <td>52.255500</td>\n",
       "      <td>0.403640</td>\n",
       "      <td>1</td>\n",
       "      <td>1</td>\n",
       "      <td>2</td>\n",
       "      <td>0.000781</td>\n",
       "      <td>0.001068</td>\n",
       "      <td>0.000903</td>\n",
       "    </tr>\n",
       "    <tr>\n",
       "      <th>21167</th>\n",
       "      <td>(58.11794, 12.15334)</td>\n",
       "      <td>58.117940</td>\n",
       "      <td>12.153340</td>\n",
       "      <td>2</td>\n",
       "      <td>1</td>\n",
       "      <td>3</td>\n",
       "      <td>0.001563</td>\n",
       "      <td>0.001068</td>\n",
       "      <td>0.001354</td>\n",
       "    </tr>\n",
       "  </tbody>\n",
       "</table>\n",
       "<p>21168 rows × 9 columns</p>\n",
       "</div>"
      ],
      "text/plain": [
       "                         Location   Latitude  Longitude  \\\n",
       "0      (53.62560417, -0.20199861)  53.625604  -0.201999   \n",
       "1            (53.35047, -6.20923)  53.350470  -6.209230   \n",
       "2            (53.57513, -0.11671)  53.575130  -0.116710   \n",
       "3            (52.55913, -0.17384)  52.559130  -0.173840   \n",
       "4             (50.73771, 3.24732)  50.737710   3.247320   \n",
       "...                           ...        ...        ...   \n",
       "21163        (57.06785, -2.16012)  57.067850  -2.160120   \n",
       "21164        (60.30312, 22.29073)  60.303120  22.290730   \n",
       "21165        (55.81063, -4.02848)  55.810630  -4.028480   \n",
       "21166          (52.2555, 0.40364)  52.255500   0.403640   \n",
       "21167        (58.11794, 12.15334)  58.117940  12.153340   \n",
       "\n",
       "       StartLocationFrequency  EndLocationFrequency  LocationFrequency  \\\n",
       "0                        2250                  1254               3504   \n",
       "1                         185                   677                862   \n",
       "2                        1876                   439               2315   \n",
       "3                         158                   392                550   \n",
       "4                         988                   389               1377   \n",
       "...                       ...                   ...                ...   \n",
       "21163                       7                     1                  8   \n",
       "21164                       1                     1                  2   \n",
       "21165                       1                     1                  2   \n",
       "21166                       1                     1                  2   \n",
       "21167                       2                     1                  3   \n",
       "\n",
       "       StartPct    EndPct    TotPct  \n",
       "0      1.758252  1.339558  1.581363  \n",
       "1      0.144567  0.723190  0.389023  \n",
       "2      1.465991  0.468952  1.044765  \n",
       "3      0.123468  0.418745  0.248216  \n",
       "4      0.772068  0.415541  0.621443  \n",
       "...         ...       ...       ...  \n",
       "21163  0.005470  0.001068  0.003610  \n",
       "21164  0.000781  0.001068  0.000903  \n",
       "21165  0.000781  0.001068  0.000903  \n",
       "21166  0.000781  0.001068  0.000903  \n",
       "21167  0.001563  0.001068  0.001354  \n",
       "\n",
       "[21168 rows x 9 columns]"
      ]
     },
     "execution_count": 137,
     "metadata": {},
     "output_type": "execute_result"
    }
   ],
   "source": [
    "df_locations"
   ]
  },
  {
   "cell_type": "code",
   "execution_count": 138,
   "metadata": {},
   "outputs": [],
   "source": [
    "df_locations.to_csv('df_spike_graph.csv')"
   ]
  }
 ],
 "metadata": {
  "kernelspec": {
   "display_name": "Python 3",
   "language": "python",
   "name": "python3"
  },
  "language_info": {
   "codemirror_mode": {
    "name": "ipython",
    "version": 3
   },
   "file_extension": ".py",
   "mimetype": "text/x-python",
   "name": "python",
   "nbconvert_exporter": "python",
   "pygments_lexer": "ipython3",
   "version": "3.9.7"
  },
  "vscode": {
   "interpreter": {
    "hash": "397704579725e15f5c7cb49fe5f0341eb7531c82d19f2c29d197e8b64ab5776b"
   }
  }
 },
 "nbformat": 4,
 "nbformat_minor": 2
}
