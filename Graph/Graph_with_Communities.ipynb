{
 "cells": [
  {
   "cell_type": "code",
   "execution_count": 17,
   "metadata": {},
   "outputs": [],
   "source": [
    "# Importing libraries\n",
    "import pandas as pd\n",
    "import networkx as nx\n",
    "import matplotlib.pyplot as plt\n",
    "import geopandas as gpd\n",
    "from shapely.geometry import Point, LineString\n",
    "import folium\n",
    "from folium.plugins import MarkerCluster\n",
    "import community as community_louvain\n",
    "import leidenalg\n",
    "import igraph as ig"
   ]
  },
  {
   "cell_type": "code",
   "execution_count": 2,
   "metadata": {},
   "outputs": [
    {
     "data": {
      "text/plain": [
       "906595"
      ]
     },
     "execution_count": 2,
     "metadata": {},
     "output_type": "execute_result"
    }
   ],
   "source": [
    "# Loading dataset and filtering for ... \n",
    "# 1) ... deliveries with pick-up and drop off in the same country \n",
    "# 2) ... route_distance below 300km\n",
    "\n",
    "df_final = pd.read_csv(\"/Users/jangaydoul/Desktop/Copenhagen Business School/4. Semester :: Thesis/03_Data/csvs/df_final.csv\")\n",
    "df_final_UK = df_final[(df_final['FromCountry'] == 'United Kingdom') & (df_final['ToCountry'] == 'United Kingdom')]\n",
    "df_final_UK_300 = df_final_UK[df_final_UK['route_distance'] < 300]\n",
    "\n",
    "len(df_final_UK_300)"
   ]
  },
  {
   "cell_type": "code",
   "execution_count": 3,
   "metadata": {},
   "outputs": [],
   "source": [
    "# In this cell we'll find out about the # of occurence of each route to filter out the routes that have been taken the most often \n",
    "\n",
    "# Count the occurrences of each route\n",
    "route_counts = df_final_UK_300.groupby(['FromLatitude', 'FromLongitude', 'ToLatitude', 'ToLongitude']).size().reset_index(name='route_count')\n",
    "\n",
    "# Sort the routes by the number of times they were taken\n",
    "sorted_routes = route_counts.sort_values('route_count', ascending=False)\n",
    "\n",
    "# Filter the top 10% routes\n",
    "n = int(len(sorted_routes) * 0.1)\n",
    "top_routes = sorted_routes.head(n)\n",
    "\n",
    "# Merge the top_routes data back into the original DataFrame to receive new column 'route_count'\n",
    "top_routes = pd.merge(df_final_UK_300, top_routes, on=['FromLatitude', 'FromLongitude', 'ToLatitude', 'ToLongitude'])\n",
    "\n",
    "\n",
    "# --> 'top_routes' will be dataset we'll be moving forward with; it only contains the routes that have been taken the most often, \n",
    "# but still on delivery level (example UK: 10% of the routes account for ~87% of the deliveries)"
   ]
  },
  {
   "cell_type": "code",
   "execution_count": 13,
   "metadata": {},
   "outputs": [],
   "source": [
    "# Create a graph out of the dataframe containing the top 10% most used routes \n",
    "G = nx.from_pandas_edgelist(\n",
    "    top_routes,\n",
    "    source=\"FromLocation\",\n",
    "    target=\"ToLocation\",\n",
    "    edge_attr=[\"route_distance\"],\n",
    "    create_using=nx.DiGraph(),\n",
    ")"
   ]
  },
  {
   "cell_type": "code",
   "execution_count": 31,
   "metadata": {},
   "outputs": [],
   "source": [
    "# Adding node attributes for color coding\n",
    "for index, row in top_routes.iterrows():\n",
    "    from_location = row['FromLocation']\n",
    "    to_location = row['ToLocation']\n",
    "    route_distance = row['route_distance']\n",
    "    from_lat = row['FromLatitude']\n",
    "    from_lon = row['FromLongitude']\n",
    "    to_lat = row['ToLatitude']\n",
    "    to_lon = row['ToLongitude']\n",
    "\n",
    "    G.add_node(from_location, latitude=from_lat, longitude=from_lon, geometry=Point(from_lon, from_lat))\n",
    "    G.add_node(to_location, latitude=to_lat, longitude=to_lon, geometry=Point(to_lon, to_lat))\n",
    "    G.add_edge(from_location, to_location, weight=route_distance)\n",
    "\n",
    "# Calculate node attributes for pick up and drop off rates\n",
    "pickup_counts = top_routes['FromLocation'].value_counts()\n",
    "dropoff_counts = top_routes['ToLocation'].value_counts()\n",
    "\n",
    "for node in G.nodes():\n",
    "    pickups = pickup_counts.get(node, 0)\n",
    "    dropoffs = dropoff_counts.get(node, 0)\n",
    "    total = pickups + dropoffs\n",
    "    pickup_rate = pickups / total\n",
    "    dropoff_rate = dropoffs / total\n",
    "    \n",
    "    #G.nodes[node]['pickup_rate'] = pickup_rate\n",
    "   # G.nodes[node]['dropoff_rate'] = dropoff_rate\n",
    "\n",
    "    #if pickups > dropoffs:\n",
    "        #G.nodes[node][\"color\"] = \"red\"\n",
    "    #else:\n",
    "        #G.nodes[node][\"color\"] = \"blue\"\n",
    "\n"
   ]
  },
  {
   "cell_type": "code",
   "execution_count": 38,
   "metadata": {},
   "outputs": [
    {
     "data": {
      "text/plain": [
       "12136.209063911545"
      ]
     },
     "execution_count": 38,
     "metadata": {},
     "output_type": "execute_result"
    }
   ],
   "source": [
    "(top_routes['route_count']).mean()"
   ]
  },
  {
   "cell_type": "code",
   "execution_count": 16,
   "metadata": {},
   "outputs": [],
   "source": [
    "# Adding edge attributes to identify most used routes\n",
    "\n",
    "threshold = (top_routes['route_distance']).mean()\n",
    "\n",
    "for u, v, data in G.edges(data=True):\n",
    "    num_routes = len(top_routes[(top_routes[\"FromLocation\"] == u) & (top_routes[\"ToLocation\"] == v)])\n",
    "    data[\"weight\"] = num_routes\n",
    "\n",
    "    if num_routes >= threshold:  # Define a threshold for frequent routes\n",
    "        data[\"color\"] = \"green\"\n",
    "    else:\n",
    "        data[\"color\"] = \"gray\"\n"
   ]
  },
  {
   "cell_type": "code",
   "execution_count": 21,
   "metadata": {},
   "outputs": [],
   "source": [
    "# Community Detection with Leiden algorithm\n",
    "\n",
    "# Convert networkx directed graph to igraph directed graph\n",
    "ig_graph = ig.Graph.from_networkx(G)\n",
    "\n",
    "# Apply the Leiden algorithm for community detection\n",
    "partition = leidenalg.find_partition(ig_graph, leidenalg.ModularityVertexPartition)\n",
    "\n",
    "# Assign communities to nodes in the networkx graph\n",
    "for node, community in zip(G.nodes(), partition.membership):\n",
    "    G.nodes[node][\"community\"] = community\n"
   ]
  },
  {
   "cell_type": "code",
   "execution_count": 22,
   "metadata": {},
   "outputs": [],
   "source": [
    "# Apply centrality measures to find out about the most important nodes within every community:\n",
    "\n",
    "# Calculate centrality measures\n",
    "betweenness_centrality = nx.betweenness_centrality(G)\n",
    "closeness_centrality = nx.closeness_centrality(G)\n",
    "degree_centrality = nx.degree_centrality(G)\n",
    "\n",
    "# Assign centrality measures to nodes\n",
    "for node in G.nodes():\n",
    "    G.nodes[node][\"betweenness\"] = betweenness_centrality[node]\n",
    "    G.nodes[node][\"closeness\"] = closeness_centrality[node]\n",
    "    G.nodes[node][\"degree\"] = degree_centrality[node]"
   ]
  },
  {
   "cell_type": "code",
   "execution_count": 39,
   "metadata": {},
   "outputs": [
    {
     "name": "stdout",
     "output_type": "stream",
     "text": [
      "Top 10 nodes with highest betweenness centrality:  [21143, 9423, 4156, 31163, 5802, 9469, 34263, 239, 30446, 21154]\n",
      "Top 10 nodes with highest closeness centrality:  [52324, 21090, 21048, 21110, 78450, 78441, 48492, 48520, 56646, 86197]\n",
      "Top 10 nodes with highest degree centrality:  [9358, 9343, 9342, 9225, 21143, 9405, 9401, 9423, 9227, 9408]\n"
     ]
    }
   ],
   "source": [
    "# Extract nodes with highest betweenness centrality\n",
    "top_betweenness = sorted(G.nodes(data=True), key=lambda x: x[1]['betweenness'], reverse=True)[:10]\n",
    "print(\"Top 10 nodes with highest betweenness centrality: \", [node[0] for node in top_betweenness])\n",
    "\n",
    "# Extract nodes with highest closeness centrality\n",
    "top_closeness = sorted(G.nodes(data=True), key=lambda x: x[1]['closeness'], reverse=True)[:10]\n",
    "print(\"Top 10 nodes with highest closeness centrality: \", [node[0] for node in top_closeness])\n",
    "\n",
    "# Extract nodes with highest degree centrality\n",
    "top_degree = sorted(G.nodes(data=True), key=lambda x: x[1]['degree'], reverse=True)[:10]\n",
    "print(\"Top 10 nodes with highest degree centrality: \", [node[0] for node in top_degree])\n"
   ]
  },
  {
   "cell_type": "code",
   "execution_count": 44,
   "metadata": {},
   "outputs": [
    {
     "ename": "KeyError",
     "evalue": "9443",
     "output_type": "error",
     "traceback": [
      "\u001b[0;31m---------------------------------------------------------------------------\u001b[0m",
      "\u001b[0;31mValueError\u001b[0m                                Traceback (most recent call last)",
      "File \u001b[0;32m/Library/Frameworks/Python.framework/Versions/3.9/lib/python3.9/site-packages/pandas/core/indexes/range.py:391\u001b[0m, in \u001b[0;36mRangeIndex.get_loc\u001b[0;34m(self, key, method, tolerance)\u001b[0m\n\u001b[1;32m    390\u001b[0m \u001b[39mtry\u001b[39;00m:\n\u001b[0;32m--> 391\u001b[0m     \u001b[39mreturn\u001b[39;00m \u001b[39mself\u001b[39;49m\u001b[39m.\u001b[39;49m_range\u001b[39m.\u001b[39;49mindex(new_key)\n\u001b[1;32m    392\u001b[0m \u001b[39mexcept\u001b[39;00m \u001b[39mValueError\u001b[39;00m \u001b[39mas\u001b[39;00m err:\n",
      "\u001b[0;31mValueError\u001b[0m: 9443 is not in range",
      "\nThe above exception was the direct cause of the following exception:\n",
      "\u001b[0;31mKeyError\u001b[0m                                  Traceback (most recent call last)",
      "\u001b[1;32m/Users/jangaydoul/Desktop/Copenhagen Business School/4. Semester :: Thesis/04_Code/master-thesis-project/Graph/Graph_with_Communities.ipynb Cell 11\u001b[0m in \u001b[0;36m2\n\u001b[1;32m     <a href='vscode-notebook-cell:/Users/jangaydoul/Desktop/Copenhagen%20Business%20School/4.%20Semester%20%3A%3A%20Thesis/04_Code/master-thesis-project/Graph/Graph_with_Communities.ipynb#X13sZmlsZQ%3D%3D?line=16'>17</a>\u001b[0m edges_gdf \u001b[39m=\u001b[39m gpd\u001b[39m.\u001b[39mGeoDataFrame(\n\u001b[1;32m     <a href='vscode-notebook-cell:/Users/jangaydoul/Desktop/Copenhagen%20Business%20School/4.%20Semester%20%3A%3A%20Thesis/04_Code/master-thesis-project/Graph/Graph_with_Communities.ipynb#X13sZmlsZQ%3D%3D?line=17'>18</a>\u001b[0m     [(u, v, data[\u001b[39m'\u001b[39m\u001b[39mweight\u001b[39m\u001b[39m'\u001b[39m], data[\u001b[39m'\u001b[39m\u001b[39mcolor\u001b[39m\u001b[39m'\u001b[39m]) \u001b[39mfor\u001b[39;00m u, v, data \u001b[39min\u001b[39;00m G\u001b[39m.\u001b[39medges(data\u001b[39m=\u001b[39m\u001b[39mTrue\u001b[39;00m)],\n\u001b[1;32m     <a href='vscode-notebook-cell:/Users/jangaydoul/Desktop/Copenhagen%20Business%20School/4.%20Semester%20%3A%3A%20Thesis/04_Code/master-thesis-project/Graph/Graph_with_Communities.ipynb#X13sZmlsZQ%3D%3D?line=18'>19</a>\u001b[0m     columns\u001b[39m=\u001b[39m[\u001b[39m'\u001b[39m\u001b[39msource\u001b[39m\u001b[39m'\u001b[39m, \u001b[39m'\u001b[39m\u001b[39mtarget\u001b[39m\u001b[39m'\u001b[39m, \u001b[39m'\u001b[39m\u001b[39mweight\u001b[39m\u001b[39m'\u001b[39m, \u001b[39m'\u001b[39m\u001b[39mcolor\u001b[39m\u001b[39m'\u001b[39m])\n\u001b[1;32m     <a href='vscode-notebook-cell:/Users/jangaydoul/Desktop/Copenhagen%20Business%20School/4.%20Semester%20%3A%3A%20Thesis/04_Code/master-thesis-project/Graph/Graph_with_Communities.ipynb#X13sZmlsZQ%3D%3D?line=20'>21</a>\u001b[0m \u001b[39m# Create a LineString geometry for each edge\u001b[39;00m\n\u001b[0;32m---> <a href='vscode-notebook-cell:/Users/jangaydoul/Desktop/Copenhagen%20Business%20School/4.%20Semester%20%3A%3A%20Thesis/04_Code/master-thesis-project/Graph/Graph_with_Communities.ipynb#X13sZmlsZQ%3D%3D?line=21'>22</a>\u001b[0m edges_gdf[\u001b[39m'\u001b[39m\u001b[39mgeometry\u001b[39m\u001b[39m'\u001b[39m] \u001b[39m=\u001b[39m edges_gdf\u001b[39m.\u001b[39;49mapply(\u001b[39mlambda\u001b[39;49;00m row: LineString([nodes_gdf\u001b[39m.\u001b[39;49mloc[row[\u001b[39m'\u001b[39;49m\u001b[39msource\u001b[39;49m\u001b[39m'\u001b[39;49m]][\u001b[39m'\u001b[39;49m\u001b[39mgeometry\u001b[39;49m\u001b[39m'\u001b[39;49m]\u001b[39m.\u001b[39;49mcoords[\u001b[39m0\u001b[39;49m], nodes_gdf\u001b[39m.\u001b[39;49mloc[row[\u001b[39m'\u001b[39;49m\u001b[39mtarget\u001b[39;49m\u001b[39m'\u001b[39;49m]][\u001b[39m'\u001b[39;49m\u001b[39mgeometry\u001b[39;49m\u001b[39m'\u001b[39;49m]\u001b[39m.\u001b[39;49mcoords[\u001b[39m0\u001b[39;49m]]), axis\u001b[39m=\u001b[39;49m\u001b[39m1\u001b[39;49m)\n\u001b[1;32m     <a href='vscode-notebook-cell:/Users/jangaydoul/Desktop/Copenhagen%20Business%20School/4.%20Semester%20%3A%3A%20Thesis/04_Code/master-thesis-project/Graph/Graph_with_Communities.ipynb#X13sZmlsZQ%3D%3D?line=24'>25</a>\u001b[0m \u001b[39m# Create a Folium map\u001b[39;00m\n\u001b[1;32m     <a href='vscode-notebook-cell:/Users/jangaydoul/Desktop/Copenhagen%20Business%20School/4.%20Semester%20%3A%3A%20Thesis/04_Code/master-thesis-project/Graph/Graph_with_Communities.ipynb#X13sZmlsZQ%3D%3D?line=25'>26</a>\u001b[0m map_center \u001b[39m=\u001b[39m nodes_gdf[\u001b[39m'\u001b[39m\u001b[39mgeometry\u001b[39m\u001b[39m'\u001b[39m]\u001b[39m.\u001b[39mmean()\u001b[39m.\u001b[39mcoords[\u001b[39m0\u001b[39m][::\u001b[39m-\u001b[39m\u001b[39m1\u001b[39m]\n",
      "File \u001b[0;32m/Library/Frameworks/Python.framework/Versions/3.9/lib/python3.9/site-packages/geopandas/geodataframe.py:1482\u001b[0m, in \u001b[0;36mGeoDataFrame.apply\u001b[0;34m(self, func, axis, raw, result_type, args, **kwargs)\u001b[0m\n\u001b[1;32m   1480\u001b[0m \u001b[39m@doc\u001b[39m(pd\u001b[39m.\u001b[39mDataFrame)\n\u001b[1;32m   1481\u001b[0m \u001b[39mdef\u001b[39;00m \u001b[39mapply\u001b[39m(\u001b[39mself\u001b[39m, func, axis\u001b[39m=\u001b[39m\u001b[39m0\u001b[39m, raw\u001b[39m=\u001b[39m\u001b[39mFalse\u001b[39;00m, result_type\u001b[39m=\u001b[39m\u001b[39mNone\u001b[39;00m, args\u001b[39m=\u001b[39m(), \u001b[39m*\u001b[39m\u001b[39m*\u001b[39mkwargs):\n\u001b[0;32m-> 1482\u001b[0m     result \u001b[39m=\u001b[39m \u001b[39msuper\u001b[39;49m()\u001b[39m.\u001b[39;49mapply(\n\u001b[1;32m   1483\u001b[0m         func, axis\u001b[39m=\u001b[39;49maxis, raw\u001b[39m=\u001b[39;49mraw, result_type\u001b[39m=\u001b[39;49mresult_type, args\u001b[39m=\u001b[39;49margs, \u001b[39m*\u001b[39;49m\u001b[39m*\u001b[39;49mkwargs\n\u001b[1;32m   1484\u001b[0m     )\n\u001b[1;32m   1485\u001b[0m     \u001b[39m# Reconstruct gdf if it was lost by apply\u001b[39;00m\n\u001b[1;32m   1486\u001b[0m     \u001b[39mif\u001b[39;00m (\n\u001b[1;32m   1487\u001b[0m         \u001b[39misinstance\u001b[39m(result, DataFrame)\n\u001b[1;32m   1488\u001b[0m         \u001b[39mand\u001b[39;00m \u001b[39mself\u001b[39m\u001b[39m.\u001b[39m_geometry_column_name \u001b[39min\u001b[39;00m result\u001b[39m.\u001b[39mcolumns\n\u001b[1;32m   1489\u001b[0m     ):\n\u001b[1;32m   1490\u001b[0m         \u001b[39m# axis=1 apply will split GeometryDType to object, try and cast back\u001b[39;00m\n",
      "File \u001b[0;32m/Library/Frameworks/Python.framework/Versions/3.9/lib/python3.9/site-packages/pandas/core/frame.py:9568\u001b[0m, in \u001b[0;36mDataFrame.apply\u001b[0;34m(self, func, axis, raw, result_type, args, **kwargs)\u001b[0m\n\u001b[1;32m   9557\u001b[0m \u001b[39mfrom\u001b[39;00m \u001b[39mpandas\u001b[39;00m\u001b[39m.\u001b[39;00m\u001b[39mcore\u001b[39;00m\u001b[39m.\u001b[39;00m\u001b[39mapply\u001b[39;00m \u001b[39mimport\u001b[39;00m frame_apply\n\u001b[1;32m   9559\u001b[0m op \u001b[39m=\u001b[39m frame_apply(\n\u001b[1;32m   9560\u001b[0m     \u001b[39mself\u001b[39m,\n\u001b[1;32m   9561\u001b[0m     func\u001b[39m=\u001b[39mfunc,\n\u001b[0;32m   (...)\u001b[0m\n\u001b[1;32m   9566\u001b[0m     kwargs\u001b[39m=\u001b[39mkwargs,\n\u001b[1;32m   9567\u001b[0m )\n\u001b[0;32m-> 9568\u001b[0m \u001b[39mreturn\u001b[39;00m op\u001b[39m.\u001b[39;49mapply()\u001b[39m.\u001b[39m__finalize__(\u001b[39mself\u001b[39m, method\u001b[39m=\u001b[39m\u001b[39m\"\u001b[39m\u001b[39mapply\u001b[39m\u001b[39m\"\u001b[39m)\n",
      "File \u001b[0;32m/Library/Frameworks/Python.framework/Versions/3.9/lib/python3.9/site-packages/pandas/core/apply.py:764\u001b[0m, in \u001b[0;36mFrameApply.apply\u001b[0;34m(self)\u001b[0m\n\u001b[1;32m    761\u001b[0m \u001b[39melif\u001b[39;00m \u001b[39mself\u001b[39m\u001b[39m.\u001b[39mraw:\n\u001b[1;32m    762\u001b[0m     \u001b[39mreturn\u001b[39;00m \u001b[39mself\u001b[39m\u001b[39m.\u001b[39mapply_raw()\n\u001b[0;32m--> 764\u001b[0m \u001b[39mreturn\u001b[39;00m \u001b[39mself\u001b[39;49m\u001b[39m.\u001b[39;49mapply_standard()\n",
      "File \u001b[0;32m/Library/Frameworks/Python.framework/Versions/3.9/lib/python3.9/site-packages/pandas/core/apply.py:891\u001b[0m, in \u001b[0;36mFrameApply.apply_standard\u001b[0;34m(self)\u001b[0m\n\u001b[1;32m    890\u001b[0m \u001b[39mdef\u001b[39;00m \u001b[39mapply_standard\u001b[39m(\u001b[39mself\u001b[39m):\n\u001b[0;32m--> 891\u001b[0m     results, res_index \u001b[39m=\u001b[39m \u001b[39mself\u001b[39;49m\u001b[39m.\u001b[39;49mapply_series_generator()\n\u001b[1;32m    893\u001b[0m     \u001b[39m# wrap results\u001b[39;00m\n\u001b[1;32m    894\u001b[0m     \u001b[39mreturn\u001b[39;00m \u001b[39mself\u001b[39m\u001b[39m.\u001b[39mwrap_results(results, res_index)\n",
      "File \u001b[0;32m/Library/Frameworks/Python.framework/Versions/3.9/lib/python3.9/site-packages/pandas/core/apply.py:907\u001b[0m, in \u001b[0;36mFrameApply.apply_series_generator\u001b[0;34m(self)\u001b[0m\n\u001b[1;32m    904\u001b[0m \u001b[39mwith\u001b[39;00m option_context(\u001b[39m\"\u001b[39m\u001b[39mmode.chained_assignment\u001b[39m\u001b[39m\"\u001b[39m, \u001b[39mNone\u001b[39;00m):\n\u001b[1;32m    905\u001b[0m     \u001b[39mfor\u001b[39;00m i, v \u001b[39min\u001b[39;00m \u001b[39menumerate\u001b[39m(series_gen):\n\u001b[1;32m    906\u001b[0m         \u001b[39m# ignore SettingWithCopy here in case the user mutates\u001b[39;00m\n\u001b[0;32m--> 907\u001b[0m         results[i] \u001b[39m=\u001b[39m \u001b[39mself\u001b[39;49m\u001b[39m.\u001b[39;49mf(v)\n\u001b[1;32m    908\u001b[0m         \u001b[39mif\u001b[39;00m \u001b[39misinstance\u001b[39m(results[i], ABCSeries):\n\u001b[1;32m    909\u001b[0m             \u001b[39m# If we have a view on v, we need to make a copy because\u001b[39;00m\n\u001b[1;32m    910\u001b[0m             \u001b[39m#  series_generator will swap out the underlying data\u001b[39;00m\n\u001b[1;32m    911\u001b[0m             results[i] \u001b[39m=\u001b[39m results[i]\u001b[39m.\u001b[39mcopy(deep\u001b[39m=\u001b[39m\u001b[39mFalse\u001b[39;00m)\n",
      "\u001b[1;32m/Users/jangaydoul/Desktop/Copenhagen Business School/4. Semester :: Thesis/04_Code/master-thesis-project/Graph/Graph_with_Communities.ipynb Cell 11\u001b[0m in \u001b[0;36m2\n\u001b[1;32m     <a href='vscode-notebook-cell:/Users/jangaydoul/Desktop/Copenhagen%20Business%20School/4.%20Semester%20%3A%3A%20Thesis/04_Code/master-thesis-project/Graph/Graph_with_Communities.ipynb#X13sZmlsZQ%3D%3D?line=16'>17</a>\u001b[0m edges_gdf \u001b[39m=\u001b[39m gpd\u001b[39m.\u001b[39mGeoDataFrame(\n\u001b[1;32m     <a href='vscode-notebook-cell:/Users/jangaydoul/Desktop/Copenhagen%20Business%20School/4.%20Semester%20%3A%3A%20Thesis/04_Code/master-thesis-project/Graph/Graph_with_Communities.ipynb#X13sZmlsZQ%3D%3D?line=17'>18</a>\u001b[0m     [(u, v, data[\u001b[39m'\u001b[39m\u001b[39mweight\u001b[39m\u001b[39m'\u001b[39m], data[\u001b[39m'\u001b[39m\u001b[39mcolor\u001b[39m\u001b[39m'\u001b[39m]) \u001b[39mfor\u001b[39;00m u, v, data \u001b[39min\u001b[39;00m G\u001b[39m.\u001b[39medges(data\u001b[39m=\u001b[39m\u001b[39mTrue\u001b[39;00m)],\n\u001b[1;32m     <a href='vscode-notebook-cell:/Users/jangaydoul/Desktop/Copenhagen%20Business%20School/4.%20Semester%20%3A%3A%20Thesis/04_Code/master-thesis-project/Graph/Graph_with_Communities.ipynb#X13sZmlsZQ%3D%3D?line=18'>19</a>\u001b[0m     columns\u001b[39m=\u001b[39m[\u001b[39m'\u001b[39m\u001b[39msource\u001b[39m\u001b[39m'\u001b[39m, \u001b[39m'\u001b[39m\u001b[39mtarget\u001b[39m\u001b[39m'\u001b[39m, \u001b[39m'\u001b[39m\u001b[39mweight\u001b[39m\u001b[39m'\u001b[39m, \u001b[39m'\u001b[39m\u001b[39mcolor\u001b[39m\u001b[39m'\u001b[39m])\n\u001b[1;32m     <a href='vscode-notebook-cell:/Users/jangaydoul/Desktop/Copenhagen%20Business%20School/4.%20Semester%20%3A%3A%20Thesis/04_Code/master-thesis-project/Graph/Graph_with_Communities.ipynb#X13sZmlsZQ%3D%3D?line=20'>21</a>\u001b[0m \u001b[39m# Create a LineString geometry for each edge\u001b[39;00m\n\u001b[0;32m---> <a href='vscode-notebook-cell:/Users/jangaydoul/Desktop/Copenhagen%20Business%20School/4.%20Semester%20%3A%3A%20Thesis/04_Code/master-thesis-project/Graph/Graph_with_Communities.ipynb#X13sZmlsZQ%3D%3D?line=21'>22</a>\u001b[0m edges_gdf[\u001b[39m'\u001b[39m\u001b[39mgeometry\u001b[39m\u001b[39m'\u001b[39m] \u001b[39m=\u001b[39m edges_gdf\u001b[39m.\u001b[39mapply(\u001b[39mlambda\u001b[39;00m row: LineString([nodes_gdf\u001b[39m.\u001b[39;49mloc[row[\u001b[39m'\u001b[39;49m\u001b[39msource\u001b[39;49m\u001b[39m'\u001b[39;49m]][\u001b[39m'\u001b[39m\u001b[39mgeometry\u001b[39m\u001b[39m'\u001b[39m]\u001b[39m.\u001b[39mcoords[\u001b[39m0\u001b[39m], nodes_gdf\u001b[39m.\u001b[39mloc[row[\u001b[39m'\u001b[39m\u001b[39mtarget\u001b[39m\u001b[39m'\u001b[39m]][\u001b[39m'\u001b[39m\u001b[39mgeometry\u001b[39m\u001b[39m'\u001b[39m]\u001b[39m.\u001b[39mcoords[\u001b[39m0\u001b[39m]]), axis\u001b[39m=\u001b[39m\u001b[39m1\u001b[39m)\n\u001b[1;32m     <a href='vscode-notebook-cell:/Users/jangaydoul/Desktop/Copenhagen%20Business%20School/4.%20Semester%20%3A%3A%20Thesis/04_Code/master-thesis-project/Graph/Graph_with_Communities.ipynb#X13sZmlsZQ%3D%3D?line=24'>25</a>\u001b[0m \u001b[39m# Create a Folium map\u001b[39;00m\n\u001b[1;32m     <a href='vscode-notebook-cell:/Users/jangaydoul/Desktop/Copenhagen%20Business%20School/4.%20Semester%20%3A%3A%20Thesis/04_Code/master-thesis-project/Graph/Graph_with_Communities.ipynb#X13sZmlsZQ%3D%3D?line=25'>26</a>\u001b[0m map_center \u001b[39m=\u001b[39m nodes_gdf[\u001b[39m'\u001b[39m\u001b[39mgeometry\u001b[39m\u001b[39m'\u001b[39m]\u001b[39m.\u001b[39mmean()\u001b[39m.\u001b[39mcoords[\u001b[39m0\u001b[39m][::\u001b[39m-\u001b[39m\u001b[39m1\u001b[39m]\n",
      "File \u001b[0;32m/Library/Frameworks/Python.framework/Versions/3.9/lib/python3.9/site-packages/pandas/core/indexing.py:1073\u001b[0m, in \u001b[0;36m_LocationIndexer.__getitem__\u001b[0;34m(self, key)\u001b[0m\n\u001b[1;32m   1070\u001b[0m axis \u001b[39m=\u001b[39m \u001b[39mself\u001b[39m\u001b[39m.\u001b[39maxis \u001b[39mor\u001b[39;00m \u001b[39m0\u001b[39m\n\u001b[1;32m   1072\u001b[0m maybe_callable \u001b[39m=\u001b[39m com\u001b[39m.\u001b[39mapply_if_callable(key, \u001b[39mself\u001b[39m\u001b[39m.\u001b[39mobj)\n\u001b[0;32m-> 1073\u001b[0m \u001b[39mreturn\u001b[39;00m \u001b[39mself\u001b[39;49m\u001b[39m.\u001b[39;49m_getitem_axis(maybe_callable, axis\u001b[39m=\u001b[39;49maxis)\n",
      "File \u001b[0;32m/Library/Frameworks/Python.framework/Versions/3.9/lib/python3.9/site-packages/pandas/core/indexing.py:1312\u001b[0m, in \u001b[0;36m_LocIndexer._getitem_axis\u001b[0;34m(self, key, axis)\u001b[0m\n\u001b[1;32m   1310\u001b[0m \u001b[39m# fall thru to straight lookup\u001b[39;00m\n\u001b[1;32m   1311\u001b[0m \u001b[39mself\u001b[39m\u001b[39m.\u001b[39m_validate_key(key, axis)\n\u001b[0;32m-> 1312\u001b[0m \u001b[39mreturn\u001b[39;00m \u001b[39mself\u001b[39;49m\u001b[39m.\u001b[39;49m_get_label(key, axis\u001b[39m=\u001b[39;49maxis)\n",
      "File \u001b[0;32m/Library/Frameworks/Python.framework/Versions/3.9/lib/python3.9/site-packages/pandas/core/indexing.py:1260\u001b[0m, in \u001b[0;36m_LocIndexer._get_label\u001b[0;34m(self, label, axis)\u001b[0m\n\u001b[1;32m   1258\u001b[0m \u001b[39mdef\u001b[39;00m \u001b[39m_get_label\u001b[39m(\u001b[39mself\u001b[39m, label, axis: \u001b[39mint\u001b[39m):\n\u001b[1;32m   1259\u001b[0m     \u001b[39m# GH#5567 this will fail if the label is not present in the axis.\u001b[39;00m\n\u001b[0;32m-> 1260\u001b[0m     \u001b[39mreturn\u001b[39;00m \u001b[39mself\u001b[39;49m\u001b[39m.\u001b[39;49mobj\u001b[39m.\u001b[39;49mxs(label, axis\u001b[39m=\u001b[39;49maxis)\n",
      "File \u001b[0;32m/Library/Frameworks/Python.framework/Versions/3.9/lib/python3.9/site-packages/pandas/core/generic.py:4056\u001b[0m, in \u001b[0;36mNDFrame.xs\u001b[0;34m(self, key, axis, level, drop_level)\u001b[0m\n\u001b[1;32m   4054\u001b[0m             new_index \u001b[39m=\u001b[39m index[loc]\n\u001b[1;32m   4055\u001b[0m \u001b[39melse\u001b[39;00m:\n\u001b[0;32m-> 4056\u001b[0m     loc \u001b[39m=\u001b[39m index\u001b[39m.\u001b[39;49mget_loc(key)\n\u001b[1;32m   4058\u001b[0m     \u001b[39mif\u001b[39;00m \u001b[39misinstance\u001b[39m(loc, np\u001b[39m.\u001b[39mndarray):\n\u001b[1;32m   4059\u001b[0m         \u001b[39mif\u001b[39;00m loc\u001b[39m.\u001b[39mdtype \u001b[39m==\u001b[39m np\u001b[39m.\u001b[39mbool_:\n",
      "File \u001b[0;32m/Library/Frameworks/Python.framework/Versions/3.9/lib/python3.9/site-packages/pandas/core/indexes/range.py:393\u001b[0m, in \u001b[0;36mRangeIndex.get_loc\u001b[0;34m(self, key, method, tolerance)\u001b[0m\n\u001b[1;32m    391\u001b[0m         \u001b[39mreturn\u001b[39;00m \u001b[39mself\u001b[39m\u001b[39m.\u001b[39m_range\u001b[39m.\u001b[39mindex(new_key)\n\u001b[1;32m    392\u001b[0m     \u001b[39mexcept\u001b[39;00m \u001b[39mValueError\u001b[39;00m \u001b[39mas\u001b[39;00m err:\n\u001b[0;32m--> 393\u001b[0m         \u001b[39mraise\u001b[39;00m \u001b[39mKeyError\u001b[39;00m(key) \u001b[39mfrom\u001b[39;00m \u001b[39merr\u001b[39;00m\n\u001b[1;32m    394\u001b[0m \u001b[39mself\u001b[39m\u001b[39m.\u001b[39m_check_indexing_error(key)\n\u001b[1;32m    395\u001b[0m \u001b[39mraise\u001b[39;00m \u001b[39mKeyError\u001b[39;00m(key)\n",
      "\u001b[0;31mKeyError\u001b[0m: 9443"
     ]
    }
   ],
   "source": [
    "import folium\n",
    "from folium.plugins import MarkerCluster\n",
    "import geopandas as gpd\n",
    "from shapely.geometry import Point, LineString\n",
    "\n",
    "\n",
    "# Create a GeoDataFrame with nodes and their coordinates\n",
    "nodes_gdf = gpd.GeoDataFrame(\n",
    "    [(node, data['latitude'], data['longitude'], data['community'], data['betweenness'], data['closeness'], data['degree']) \n",
    "     for node, data in G.nodes(data=True)],\n",
    "    columns=['node', 'latitude', 'longitude', 'community', 'betweenness', 'closeness', 'degree'])\n",
    "\n",
    "# Create a geometry column from the latitude and longitude columns\n",
    "nodes_gdf['geometry'] = nodes_gdf.apply(lambda row: Point(row['longitude'], row['latitude']), axis=1)\n",
    "\n",
    "# Create a GeoDataFrame with edges and their weights\n",
    "edges_gdf = gpd.GeoDataFrame(\n",
    "    [(u, v, data['weight'], data['color']) for u, v, data in G.edges(data=True)],\n",
    "    columns=['source', 'target', 'weight', 'color'])\n",
    "\n",
    "# Create a LineString geometry for each edge\n",
    "edges_gdf['geometry'] = edges_gdf.apply(lambda row: LineString([nodes_gdf.loc[row['source']]['geometry'].coords[0], nodes_gdf.loc[row['target']]['geometry'].coords[0]]), axis=1)\n",
    "\n",
    "\n",
    "# Create a Folium map\n",
    "map_center = nodes_gdf['geometry'].mean().coords[0][::-1]\n",
    "map_1 = folium.Map(location=map_center, zoom_start=10)\n",
    "\n",
    "# Create markers for each community\n",
    "markers = []\n",
    "for i, row in nodes_gdf.iterrows():\n",
    "    popup_html = f\"\"\"Node: {row['node']}<br>\n",
    "                    Community: {row['community']}<br>\n",
    "                    Betweenness Centrality: {row['betweenness']}<br>\n",
    "                    Closeness Centrality: {row['closeness']}<br>\n",
    "                    Degree Centrality: {row['degree']}\"\"\"\n",
    "    marker = folium.Marker(location=row['geometry'].coords[0][::-1], tooltip=row['node'], popup=popup_html)\n",
    "    markers.append(marker)\n",
    "\n",
    "# Add the markers to the map and add the edges as a layer\n",
    "MarkerCluster(markers).add_to(map_1)\n",
    "folium.GeoJson(edges_gdf).add_to(map_1)\n",
    "\n",
    "# Display the map\n",
    "map_1\n",
    "\n",
    "\n",
    "\n"
   ]
  }
 ],
 "metadata": {
  "kernelspec": {
   "display_name": "Python 3",
   "language": "python",
   "name": "python3"
  },
  "language_info": {
   "codemirror_mode": {
    "name": "ipython",
    "version": 3
   },
   "file_extension": ".py",
   "mimetype": "text/x-python",
   "name": "python",
   "nbconvert_exporter": "python",
   "pygments_lexer": "ipython3",
   "version": "3.9.5"
  },
  "orig_nbformat": 4
 },
 "nbformat": 4,
 "nbformat_minor": 2
}
