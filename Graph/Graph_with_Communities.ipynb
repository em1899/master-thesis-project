{
 "cells": [
  {
   "cell_type": "code",
   "execution_count": 63,
   "metadata": {},
   "outputs": [],
   "source": [
    "# Importing libraries\n",
    "import pandas as pd\n",
    "pd.set_option('display.max_columns', None)\n",
    "import geopandas as gpd\n",
    "import matplotlib.pyplot as plt\n",
    "import matplotlib.colors\n",
    "\n",
    "\n",
    "import math\n",
    "\n",
    "import networkx as nx\n",
    "from networkx.drawing.nx_agraph import graphviz_layout\n",
    "import igraph as ig\n",
    "\n",
    "import folium\n",
    "from folium import PolyLine, CircleMarker\n",
    "from folium.plugins import MarkerCluster\n",
    "from shapely.geometry import Point, LineString\n",
    "from pyvis.network import Network\n",
    "\n",
    "import community\n",
    "from community import community_louvain\n",
    "import matplotlib.cm as cm\n",
    "import leidenalg\n"
   ]
  },
  {
   "cell_type": "code",
   "execution_count": 64,
   "metadata": {},
   "outputs": [],
   "source": [
    "### 1) Prepare dataset for Graph building\n",
    "\n",
    "# Loading dataset\n",
    "\n",
    "df_final = pd.read_csv(\"/Users/jangaydoul/Desktop/Copenhagen Business School/4. Semester :: Thesis/03_Data/csvs/df_final.csv\")\n",
    "coordinates_df = pd.read_csv(\"/Users/jangaydoul/Desktop/Copenhagen Business School/4. Semester :: Thesis/03_Data/csvs/df_graph.csv\")"
   ]
  },
  {
   "cell_type": "code",
   "execution_count": 65,
   "metadata": {},
   "outputs": [
    {
     "name": "stdout",
     "output_type": "stream",
     "text": [
      "162112\n",
      "4973604\n"
     ]
    }
   ],
   "source": [
    "print(len(coordinates_df)) #162,112\n",
    "print(len(df_final)) #4,973,604"
   ]
  },
  {
   "cell_type": "code",
   "execution_count": 66,
   "metadata": {},
   "outputs": [
    {
     "data": {
      "text/plain": [
       "87093"
      ]
     },
     "execution_count": 66,
     "metadata": {},
     "output_type": "execute_result"
    }
   ],
   "source": [
    "df_final['FromLocation'].nunique() #37,994\n",
    "df_final['ToLocation'].nunique() #87,093"
   ]
  },
  {
   "cell_type": "code",
   "execution_count": 67,
   "metadata": {},
   "outputs": [
    {
     "name": "stdout",
     "output_type": "stream",
     "text": [
      "Number of unique routes: 162113\n"
     ]
    }
   ],
   "source": [
    "# Group the data by pick-up and drop-off points\n",
    "grouped = df_final.groupby(['FromLatitude', 'FromLongitude', 'ToLatitude', 'ToLongitude'])\n",
    "\n",
    "# Count the number of unique groups\n",
    "unique_routes = len(grouped)\n",
    "\n",
    "# Print the result\n",
    "print(\"Number of unique routes:\", unique_routes)"
   ]
  },
  {
   "cell_type": "code",
   "execution_count": 68,
   "metadata": {},
   "outputs": [],
   "source": [
    "# Drop duplicates from df_final based on the four coordinate variables\n",
    "df_final_unique = df_final.drop_duplicates(subset=['FromLatitude', 'FromLongitude', 'ToLatitude', 'ToLongitude'])\n",
    "\n",
    "# Select the columns to merge from df_final\n",
    "columns_to_merge = ['FromLatitude', 'FromLongitude', 'ToLatitude', 'ToLongitude',\n",
    "                    'FromLocation', 'ToLocation', 'FromCity', 'ToCity', 'FromCountry', 'ToCountry', 'FullLoadIndicator']\n",
    "\n",
    "# Merge the two dataframes on the four coordinate variables\n",
    "df_graph = pd.merge(coordinates_df, df_final_unique[columns_to_merge], on=['FromLatitude', 'FromLongitude', 'ToLatitude', 'ToLongitude'])\n"
   ]
  },
  {
   "cell_type": "code",
   "execution_count": 69,
   "metadata": {},
   "outputs": [],
   "source": [
    "# Count the frequency of each unique route in df_final\n",
    "route_frequency = df_final.groupby(['FromLatitude', 'FromLongitude', 'ToLatitude', 'ToLongitude']).size().reset_index(name='route_count')\n",
    "\n",
    "# Merge the frequency information with merged_df\n",
    "df_graph = pd.merge(df_graph, route_frequency, on=['FromLatitude', 'FromLongitude', 'ToLatitude', 'ToLongitude'])\n"
   ]
  },
  {
   "cell_type": "code",
   "execution_count": 70,
   "metadata": {},
   "outputs": [
    {
     "data": {
      "text/html": [
       "<div>\n",
       "<style scoped>\n",
       "    .dataframe tbody tr th:only-of-type {\n",
       "        vertical-align: middle;\n",
       "    }\n",
       "\n",
       "    .dataframe tbody tr th {\n",
       "        vertical-align: top;\n",
       "    }\n",
       "\n",
       "    .dataframe thead th {\n",
       "        text-align: right;\n",
       "    }\n",
       "</style>\n",
       "<table border=\"1\" class=\"dataframe\">\n",
       "  <thead>\n",
       "    <tr style=\"text-align: right;\">\n",
       "      <th></th>\n",
       "      <th>FromLatitude</th>\n",
       "      <th>FromLongitude</th>\n",
       "      <th>ToLatitude</th>\n",
       "      <th>ToLongitude</th>\n",
       "      <th>route_distance</th>\n",
       "      <th>FromLocation</th>\n",
       "      <th>ToLocation</th>\n",
       "      <th>FromCity</th>\n",
       "      <th>ToCity</th>\n",
       "      <th>FromCountry</th>\n",
       "      <th>ToCountry</th>\n",
       "      <th>FullLoadIndicator</th>\n",
       "      <th>route_count</th>\n",
       "    </tr>\n",
       "  </thead>\n",
       "  <tbody>\n",
       "    <tr>\n",
       "      <th>0</th>\n",
       "      <td>50.63656</td>\n",
       "      <td>4.78251</td>\n",
       "      <td>63.44178</td>\n",
       "      <td>10.40893</td>\n",
       "      <td>2004.311</td>\n",
       "      <td>17287</td>\n",
       "      <td>42342</td>\n",
       "      <td>Perwez</td>\n",
       "      <td>Trondheim</td>\n",
       "      <td>Belgium</td>\n",
       "      <td>Norway</td>\n",
       "      <td>1.0</td>\n",
       "      <td>17</td>\n",
       "    </tr>\n",
       "    <tr>\n",
       "      <th>1</th>\n",
       "      <td>56.20318</td>\n",
       "      <td>14.87340</td>\n",
       "      <td>57.42278</td>\n",
       "      <td>15.06204</td>\n",
       "      <td>160.384</td>\n",
       "      <td>14689</td>\n",
       "      <td>67460</td>\n",
       "      <td>Karlshamn</td>\n",
       "      <td>Vetlanda</td>\n",
       "      <td>Sweden</td>\n",
       "      <td>Sweden</td>\n",
       "      <td>0.0</td>\n",
       "      <td>3</td>\n",
       "    </tr>\n",
       "    <tr>\n",
       "      <th>2</th>\n",
       "      <td>57.73572</td>\n",
       "      <td>11.98862</td>\n",
       "      <td>56.16157</td>\n",
       "      <td>15.58364</td>\n",
       "      <td>376.025</td>\n",
       "      <td>25161</td>\n",
       "      <td>27919</td>\n",
       "      <td>Göteborg</td>\n",
       "      <td>Karlskrona</td>\n",
       "      <td>Sweden</td>\n",
       "      <td>Sweden</td>\n",
       "      <td>0.0</td>\n",
       "      <td>5</td>\n",
       "    </tr>\n",
       "    <tr>\n",
       "      <th>3</th>\n",
       "      <td>60.71076</td>\n",
       "      <td>10.60526</td>\n",
       "      <td>51.00683</td>\n",
       "      <td>-0.42949</td>\n",
       "      <td>1991.237</td>\n",
       "      <td>21503</td>\n",
       "      <td>28913</td>\n",
       "      <td>Raufoss</td>\n",
       "      <td>BILLINGSHURST</td>\n",
       "      <td>Norway</td>\n",
       "      <td>United Kingdom</td>\n",
       "      <td>1.0</td>\n",
       "      <td>2</td>\n",
       "    </tr>\n",
       "    <tr>\n",
       "      <th>4</th>\n",
       "      <td>57.73572</td>\n",
       "      <td>11.98862</td>\n",
       "      <td>56.21754</td>\n",
       "      <td>15.27024</td>\n",
       "      <td>348.243</td>\n",
       "      <td>25161</td>\n",
       "      <td>30402</td>\n",
       "      <td>Göteborg</td>\n",
       "      <td>Ronneby</td>\n",
       "      <td>Sweden</td>\n",
       "      <td>Sweden</td>\n",
       "      <td>0.0</td>\n",
       "      <td>2</td>\n",
       "    </tr>\n",
       "  </tbody>\n",
       "</table>\n",
       "</div>"
      ],
      "text/plain": [
       "   FromLatitude  FromLongitude  ToLatitude  ToLongitude  route_distance  \\\n",
       "0      50.63656        4.78251    63.44178     10.40893        2004.311   \n",
       "1      56.20318       14.87340    57.42278     15.06204         160.384   \n",
       "2      57.73572       11.98862    56.16157     15.58364         376.025   \n",
       "3      60.71076       10.60526    51.00683     -0.42949        1991.237   \n",
       "4      57.73572       11.98862    56.21754     15.27024         348.243   \n",
       "\n",
       "   FromLocation  ToLocation   FromCity         ToCity FromCountry  \\\n",
       "0         17287       42342     Perwez      Trondheim     Belgium   \n",
       "1         14689       67460  Karlshamn       Vetlanda      Sweden   \n",
       "2         25161       27919   Göteborg     Karlskrona      Sweden   \n",
       "3         21503       28913    Raufoss  BILLINGSHURST      Norway   \n",
       "4         25161       30402   Göteborg        Ronneby      Sweden   \n",
       "\n",
       "        ToCountry  FullLoadIndicator  route_count  \n",
       "0          Norway                1.0           17  \n",
       "1          Sweden                0.0            3  \n",
       "2          Sweden                0.0            5  \n",
       "3  United Kingdom                1.0            2  \n",
       "4          Sweden                0.0            2  "
      ]
     },
     "execution_count": 70,
     "metadata": {},
     "output_type": "execute_result"
    }
   ],
   "source": [
    "df_graph.head()"
   ]
  },
  {
   "cell_type": "code",
   "execution_count": 71,
   "metadata": {},
   "outputs": [
    {
     "data": {
      "text/plain": [
       "4973250"
      ]
     },
     "execution_count": 71,
     "metadata": {},
     "output_type": "execute_result"
    }
   ],
   "source": [
    "df_graph['route_count'].sum()"
   ]
  },
  {
   "cell_type": "code",
   "execution_count": 72,
   "metadata": {},
   "outputs": [
    {
     "data": {
      "text/plain": [
       "162112"
      ]
     },
     "execution_count": 72,
     "metadata": {},
     "output_type": "execute_result"
    }
   ],
   "source": [
    "len(df_graph)"
   ]
  },
  {
   "cell_type": "code",
   "execution_count": 13,
   "metadata": {},
   "outputs": [
    {
     "data": {
      "text/plain": [
       "19720"
      ]
     },
     "execution_count": 13,
     "metadata": {},
     "output_type": "execute_result"
    }
   ],
   "source": [
    "### 1.1) Filtering for Country (UK in this case) and distance < 300km \n",
    "\n",
    "df_graph_UK = df_graph[(df_graph['FromCountry'] == 'United Kingdom') & (df_graph['ToCountry'] == 'United Kingdom')]\n",
    "df_graph_UK_300 = df_graph_UK[df_graph_UK['route_distance'] < 300]\n",
    "\n",
    "len(df_graph_UK_300)"
   ]
  },
  {
   "cell_type": "code",
   "execution_count": null,
   "metadata": {},
   "outputs": [],
   "source": [
    "df_graph_UK_300['route_distance'].describe()"
   ]
  },
  {
   "cell_type": "code",
   "execution_count": 73,
   "metadata": {},
   "outputs": [],
   "source": [
    "### 2) Building Graph\n",
    "\n",
    "### BASELINE FOR FURTHER CODING\n",
    "\n",
    "# Build the empty directed graph\n",
    "G = nx.DiGraph()\n",
    "\n",
    "# Filter the top 5% most often used routes and add them as edges to the graph\n",
    "top_routes = df_graph_UK_300.nlargest(int(len(df_graph_UK_300) * 0.05), 'route_count')\n",
    "\n",
    "for idx, row in top_routes.iterrows():\n",
    "    G.add_edge((row['FromLatitude'], row['FromLongitude']),\n",
    "               (row['ToLatitude'], row['ToLongitude']),\n",
    "               route_count=row['route_count'])\n",
    "\n",
    "# Calculate the traffic for each node\n",
    "node_traffic = {}\n",
    "for edge in G.edges(data=True):\n",
    "    start, end, data = edge\n",
    "    route_count = data['route_count']\n",
    "    \n",
    "    if start not in node_traffic:\n",
    "        node_traffic[start] = 0\n",
    "    if end not in node_traffic:\n",
    "        node_traffic[end] = 0\n",
    "    \n",
    "    node_traffic[start] += route_count\n",
    "    node_traffic[end] += route_count\n",
    "\n",
    "# Normalize the node traffic values\n",
    "max_node_traffic = max(node_traffic.values())\n",
    "node_traffic_normalized = {node: math.log(traffic + 1) / math.log(max_node_traffic + 1) for node, traffic in node_traffic.items()}\n",
    "\n",
    "def add_nodes_edges_to_map(graph, folium_map, node_traffic_normalized):\n",
    "    max_route_count = max(data['route_count'] for _, _, data in graph.edges(data=True))\n",
    "    \n",
    "    for edge in graph.edges(data=True):\n",
    "        start, end, data = edge\n",
    "        \n",
    "        # Set the color intensity based on the logarithmic scale of the node traffic\n",
    "        start_intensity = node_traffic_normalized[start]\n",
    "        end_intensity = node_traffic_normalized[end]\n",
    "        \n",
    "        # Get the color from the color gradient\n",
    "        start_color = plt.cm.get_cmap('Blues')(start_intensity)\n",
    "        end_color = plt.cm.get_cmap('Blues')(end_intensity)\n",
    "        \n",
    "        start_color = matplotlib.colors.to_hex(start_color)\n",
    "        end_color = matplotlib.colors.to_hex(end_color)\n",
    "        \n",
    "        start_node_marker = CircleMarker(location=start, radius=0.5, color=start_color, fill=True, fill_opacity=0.5)\n",
    "        end_node_marker = CircleMarker(location=end, radius=0.5, color=end_color, fill=True, fill_opacity=0.5)\n",
    "        \n",
    "        intensity = math.log(data['route_count'] + 1) / math.log(max_route_count + 1)\n",
    "        edge_color = plt.cm.get_cmap('coolwarm')(intensity)\n",
    "        edge_color = matplotlib.colors.to_hex(edge_color)\n",
    "        \n",
    "        polyline = PolyLine(locations=[start, end], color=edge_color, weight=1)\n",
    "        \n",
    "        folium_map.add_child(start_node_marker)\n",
    "        folium_map.add_child(end_node_marker)\n",
    "        folium_map.add_child(polyline)\n",
    "\n",
    "# Create the folium map centered based on the coordinates and add nodes and edges to the map\n",
    "map_center = df_graph_UK_300[['FromLatitude', 'FromLongitude']].mean().tolist()\n",
    "map_UK = folium.Map(location=map_center, zoom_start=5, tiles='CartoDB Positron')\n",
    "add_nodes_edges_to_map(G, map_UK, node_traffic_normalized)\n",
    "\n",
    "# Save the map \n",
    "map_UK.save('UK_map.html')"
   ]
  },
  {
   "cell_type": "code",
   "execution_count": 74,
   "metadata": {},
   "outputs": [
    {
     "name": "stdout",
     "output_type": "stream",
     "text": [
      "Number of nodes: 780\n",
      "Number of edges: 986\n"
     ]
    }
   ],
   "source": [
    "# Counting number of nodes and edges\n",
    "\n",
    "num_nodes = G.number_of_nodes()\n",
    "num_edges = G.number_of_edges()\n",
    "\n",
    "print(\"Number of nodes:\", num_nodes)\n",
    "print(\"Number of edges:\", num_edges)"
   ]
  },
  {
   "cell_type": "code",
   "execution_count": 75,
   "metadata": {},
   "outputs": [],
   "source": [
    "import community.community_louvain as community_louvain"
   ]
  },
  {
   "cell_type": "code",
   "execution_count": 81,
   "metadata": {},
   "outputs": [
    {
     "name": "stdout",
     "output_type": "stream",
     "text": [
      "Number of communities: 40\n"
     ]
    }
   ],
   "source": [
    "### 3) Detecting Communities\n",
    "\n",
    "import community.community_louvain as community_louvain\n",
    "\n",
    "# Convert directed graph to undirected graph for community detection\n",
    "G_undirected = G.to_undirected()\n",
    "\n",
    "# Run the Louvain algorithm to identify communities with a resolution of 0.75\n",
    "partition = community_louvain.best_partition(G_undirected, resolution=0.75)\n",
    "\n",
    "# Get the number of communities\n",
    "num_communities = len(set(partition.values()))\n",
    "print(f\"Number of communities: {num_communities}\")\n",
    "\n",
    "# Find the size of each community\n",
    "community_sizes = {community_id: sum(1 for node in G.nodes() if partition[node] == community_id) for community_id in set(partition.values())}\n",
    "\n",
    "# Sort communities by size and take the top four\n",
    "top_communities = sorted(community_sizes.keys(), key=lambda x: community_sizes[x], reverse=True)[:4]\n",
    "\n",
    "# Assign colors to nodes based on their community\n",
    "node_colors = []\n",
    "for node in G.nodes():\n",
    "    community_id = partition[node]\n",
    "    if community_id in top_communities:\n",
    "        if community_id == top_communities[0]:\n",
    "            color = 'red'\n",
    "        elif community_id == top_communities[1]:\n",
    "            color = 'blue'\n",
    "        elif community_id == top_communities[2]:\n",
    "            color = 'green'\n",
    "        else:\n",
    "            color = 'yellow'\n",
    "    else:\n",
    "        color = 'gray'\n",
    "    node_colors.append(color)\n",
    "\n",
    "# Create the Folium map and add nodes with community colors from the top four communities\n",
    "map_UK = folium.Map(location=map_center, zoom_start=5, tiles='CartoDB Positron')\n",
    "for node, color, community_id in zip(G.nodes(), node_colors, partition.values()):\n",
    "    if community_id in top_communities:\n",
    "        marker = CircleMarker(location=node, radius=5, color=color, fill=True, fill_opacity=0.5)\n",
    "        map_UK.add_child(marker)\n",
    "\n",
    "# Save the map\n",
    "map_UK.save('UK_map_with_top_communities.html')\n"
   ]
  },
  {
   "cell_type": "code",
   "execution_count": 82,
   "metadata": {},
   "outputs": [
    {
     "name": "stdout",
     "output_type": "stream",
     "text": [
      "Community 1: modularity -691.000\n",
      "Community 28: modularity 3.000\n",
      "Community 16: modularity -10.500\n",
      "Community 6: modularity -359.500\n",
      "Community 9: modularity -35.500\n",
      "Community 10: modularity 2.000\n",
      "Community 27: modularity -712.000\n",
      "Community 14: modularity -296.500\n",
      "Community 18: modularity 20.500\n",
      "Community 20: modularity 5.000\n",
      "Community 29: modularity 5.000\n",
      "Community 4: modularity -19.500\n",
      "Community 0: modularity 5.500\n",
      "Community 2: modularity 11.500\n",
      "Community 3: modularity 6.000\n",
      "Community 5: modularity 1.500\n",
      "Community 7: modularity 2.500\n",
      "Community 8: modularity -1.000\n",
      "Community 17: modularity 9.500\n",
      "Community 11: modularity 1.500\n",
      "Community 12: modularity 1.500\n",
      "Community 13: modularity 1.500\n",
      "Community 15: modularity 2.000\n",
      "Community 19: modularity 1.500\n",
      "Community 21: modularity 1.500\n",
      "Community 22: modularity 1.500\n",
      "Community 23: modularity 1.500\n",
      "Community 24: modularity 1.500\n",
      "Community 25: modularity 2.000\n",
      "Community 26: modularity 1.500\n",
      "Community 30: modularity 1.500\n",
      "Community 31: modularity 1.500\n",
      "Community 32: modularity 1.500\n",
      "Community 33: modularity 1.500\n",
      "Community 34: modularity 1.500\n",
      "Community 35: modularity 1.500\n",
      "Community 36: modularity 1.500\n",
      "Community 37: modularity 1.500\n",
      "Community 38: modularity 1.500\n",
      "Community 39: modularity 1.500\n"
     ]
    }
   ],
   "source": [
    "### CHECK\n",
    "\n",
    "# Compute the modularity of each community\n",
    "modularity_dict = {}\n",
    "for node, community_id in partition.items():\n",
    "    if community_id not in modularity_dict:\n",
    "        modularity_dict[community_id] = 0\n",
    "    modularity_dict[community_id] += G.degree(node) - sum(G.degree(n) for n in G.neighbors(node)) / 2.0\n",
    "\n",
    "# Print the modularity of each community\n",
    "for community_id, modularity in modularity_dict.items():\n",
    "    print(f\"Community {community_id}: modularity {modularity:.3f}\")"
   ]
  },
  {
   "cell_type": "code",
   "execution_count": 77,
   "metadata": {},
   "outputs": [
    {
     "name": "stdout",
     "output_type": "stream",
     "text": [
      "{12: [(53.57513, -0.11671), (53.58026, -0.06791), (53.57561, -0.06798)], 1: [(55.72639, -3.95987), (53.58152, -0.06141), (57.12226, -2.08894)], 17: [(52.64919, 0.15457), (52.93645, -1.16425), (53.50446, -2.84867)], 7: [(52.55913, -0.17384), (52.53329, -0.30444), (52.35508, -1.16128)]}\n"
     ]
    }
   ],
   "source": [
    "# Find out most important nodes\n",
    "\n",
    "betweenness_centrality = nx.betweenness_centrality(G)\n",
    "\n",
    "# Find the top three most important nodes within each of the top four communities\n",
    "community_important_nodes = {}\n",
    "for community_id in top_communities:\n",
    "    community_nodes = [node for node, c_id in partition.items() if c_id == community_id]\n",
    "    community_betweenness = {node: betweenness_centrality[node] for node in community_nodes}\n",
    "    most_important_nodes = sorted(community_betweenness, key=community_betweenness.get, reverse=True)[:3]\n",
    "    community_important_nodes[community_id] = most_important_nodes\n",
    "\n",
    "print(community_important_nodes)"
   ]
  },
  {
   "cell_type": "code",
   "execution_count": 78,
   "metadata": {},
   "outputs": [],
   "source": [
    "# Visualize top nodes for each community on a map\n",
    "\n",
    "# Function to get the color for a community\n",
    "def get_color(community_id):\n",
    "    if community_id == top_communities[0]:\n",
    "        return 'red'\n",
    "    elif community_id == top_communities[1]:\n",
    "        return 'blue'\n",
    "    elif community_id == top_communities[2]:\n",
    "        return 'green'\n",
    "    else:\n",
    "        return 'yellow'\n",
    "\n",
    "# Create the Folium map\n",
    "map_UK_important_nodes = folium.Map(location=map_center, zoom_start=5, tiles='CartoDB Positron')\n",
    "\n",
    "# Add the top three most important nodes within each of the top four communities to the map\n",
    "for community_id, important_nodes in community_important_nodes.items():\n",
    "    color = get_color(community_id)\n",
    "    for node in important_nodes:\n",
    "        marker = CircleMarker(location=node, radius=5, color=color, fill=True, fill_opacity=0.5)\n",
    "        map_UK_important_nodes.add_child(marker)\n",
    "\n",
    "# Save the map\n",
    "map_UK_important_nodes.save('UK_map_important_nodes.html')"
   ]
  },
  {
   "cell_type": "code",
   "execution_count": 84,
   "metadata": {},
   "outputs": [
    {
     "name": "stdout",
     "output_type": "stream",
     "text": [
      "{12: [(53.57513, -0.11671), (53.58026, -0.06791), (53.57561, -0.06798)], 1: [(55.72639, -3.95987), (53.58152, -0.06141), (57.12226, -2.08894)], 17: [(52.64919, 0.15457), (52.93645, -1.16425), (53.50446, -2.84867)], 7: [(52.55913, -0.17384), (52.53329, -0.30444), (52.35508, -1.16128)]}\n"
     ]
    }
   ],
   "source": [
    "print(community_important_nodes)"
   ]
  },
  {
   "cell_type": "code",
   "execution_count": 86,
   "metadata": {},
   "outputs": [],
   "source": [
    "### Visualize which routes would be electrified if charging stations were to be placed at most important nodes\n",
    "\n",
    "# Create a set of all the nodes that are important\n",
    "important_nodes = set(node for nodes in community_important_nodes.values() for node in nodes)\n",
    "\n",
    "# Create a set of all the edges that are attached to important nodes\n",
    "important_edges = set()\n",
    "for edge in G.edges():\n",
    "    if edge[0] in important_nodes or edge[1] in important_nodes:\n",
    "        important_edges.add(edge)\n",
    "\n",
    "# Create the Folium map\n",
    "map_UK_important_routes = folium.Map(location=map_center, zoom_start=5, tiles='CartoDB Positron')\n",
    "\n",
    "# Add the edges to the map\n",
    "for edge in G.edges(data=True):\n",
    "    start, end, data = edge\n",
    "    \n",
    "    # Set the color of the edge based on whether it's attached to an important node\n",
    "    edge_color = '#d3d3d3'  # Light gray by default\n",
    "    if (start, end) in important_edges or (end, start) in important_edges:\n",
    "        edge_color = '#4169e1'  # Blue for important edges\n",
    "    \n",
    "    polyline = PolyLine(locations=[start, end], color=edge_color, weight=1)\n",
    "    map_UK_important_routes.add_child(polyline)\n",
    "\n",
    "# Add the nodes to the map\n",
    "for node in G.nodes():\n",
    "    # Set the color of the node based on whether it's an important node\n",
    "    node_color = '#f0f8ff'  # Very light blue by default\n",
    "    if node in important_nodes:\n",
    "        node_color = '#00008b'  # Dark blue for important nodes\n",
    "    \n",
    "    marker = CircleMarker(location=node, radius=0.5, color=node_color, fill=True, fill_opacity=0.5)\n",
    "    map_UK_important_routes.add_child(marker)\n",
    "\n",
    "# Save the map\n",
    "map_UK_important_routes.save('UK_map_important_routes.html')\n",
    "\n"
   ]
  },
  {
   "cell_type": "code",
   "execution_count": 91,
   "metadata": {},
   "outputs": [
    {
     "name": "stdout",
     "output_type": "stream",
     "text": [
      "If charging stations are put at the identified nodes, 2.19% of the routes and 62.21% of the deliveries could be handled by eTrucks\n"
     ]
    }
   ],
   "source": [
    "### Calculate how much of the network would be electrified if charging stations were being out up at important nodes \n",
    "## --> Assumption all incoming and outgoing traffic would be electrfied if charging stations are at node\n",
    "\n",
    "# Calculating total number of routes and storing as int value \n",
    "total_routes = len(df_graph_UK_300)\n",
    "\n",
    "# Creating new graph 'G_electrified' that only contains the edges tha tare connected to important nodes \n",
    "G_electrified = G.edge_subgraph(edge for edge in G.edges() if edge[0] in important_nodes or edge[1] in important_nodes)\n",
    "\n",
    "# Count number of edges of 'G_electrified' and divide by total number of routes \n",
    "electrified_routes = len(G_electrified.edges())\n",
    "proportion_electrified = electrified_routes / total_routes\n",
    "\n",
    "# Proportion of deliveries electrified: Sum weights of edges in 'G_electrified' and divide by weights of all edges in the network\n",
    "\n",
    "# Sum up the weights of the edges in G_electrified\n",
    "total_electrified_deliveries = sum(data['route_count'] for start, end, data in G_electrified.edges(data=True))\n",
    "\n",
    "# Sum up the weights of all edges in the network\n",
    "total_deliveries = sum(data['route_count'] for start, end, data in G.edges(data=True))\n",
    "\n",
    "# Calculate the proportion of deliveries that would be electrified\n",
    "proportion_deliveries_electrified = total_electrified_deliveries / total_deliveries\n",
    "\n",
    "# Print result \n",
    "print(f\"If charging stations are put at the identified nodes, {proportion_electrified:.2%} of the routes and {proportion_deliveries_electrified:.2%} of the deliveries could be handled by eTrucks\")\n"
   ]
  },
  {
   "cell_type": "code",
   "execution_count": null,
   "metadata": {},
   "outputs": [],
   "source": []
  }
 ],
 "metadata": {
  "kernelspec": {
   "display_name": "Python 3",
   "language": "python",
   "name": "python3"
  },
  "language_info": {
   "codemirror_mode": {
    "name": "ipython",
    "version": 3
   },
   "file_extension": ".py",
   "mimetype": "text/x-python",
   "name": "python",
   "nbconvert_exporter": "python",
   "pygments_lexer": "ipython3",
   "version": "3.9.5"
  },
  "orig_nbformat": 4
 },
 "nbformat": 4,
 "nbformat_minor": 2
}
