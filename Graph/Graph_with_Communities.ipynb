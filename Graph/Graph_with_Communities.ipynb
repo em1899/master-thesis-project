{
 "cells": [
  {
   "cell_type": "code",
   "execution_count": 80,
   "metadata": {},
   "outputs": [
    {
     "ename": "ImportError",
     "evalue": "cannot import name 'community_louvain' from 'community' (/Library/Frameworks/Python.framework/Versions/3.9/lib/python3.9/site-packages/community/__init__.py)",
     "output_type": "error",
     "traceback": [
      "\u001b[0;31m---------------------------------------------------------------------------\u001b[0m",
      "\u001b[0;31mImportError\u001b[0m                               Traceback (most recent call last)",
      "\u001b[1;32m/Users/jangaydoul/Desktop/Copenhagen Business School/4. Semester :: Thesis/04_Code/master-thesis-project/Graph/Graph_with_Communities.ipynb Cell 1\u001b[0m in \u001b[0;36m2\n\u001b[1;32m     <a href='vscode-notebook-cell:/Users/jangaydoul/Desktop/Copenhagen%20Business%20School/4.%20Semester%20%3A%3A%20Thesis/04_Code/master-thesis-project/Graph/Graph_with_Communities.ipynb#W1sZmlsZQ%3D%3D?line=17'>18</a>\u001b[0m \u001b[39mfrom\u001b[39;00m \u001b[39mshapely\u001b[39;00m\u001b[39m.\u001b[39;00m\u001b[39mgeometry\u001b[39;00m \u001b[39mimport\u001b[39;00m Point, LineString\n\u001b[1;32m     <a href='vscode-notebook-cell:/Users/jangaydoul/Desktop/Copenhagen%20Business%20School/4.%20Semester%20%3A%3A%20Thesis/04_Code/master-thesis-project/Graph/Graph_with_Communities.ipynb#W1sZmlsZQ%3D%3D?line=18'>19</a>\u001b[0m \u001b[39mfrom\u001b[39;00m \u001b[39mpyvis\u001b[39;00m\u001b[39m.\u001b[39;00m\u001b[39mnetwork\u001b[39;00m \u001b[39mimport\u001b[39;00m Network\n\u001b[0;32m---> <a href='vscode-notebook-cell:/Users/jangaydoul/Desktop/Copenhagen%20Business%20School/4.%20Semester%20%3A%3A%20Thesis/04_Code/master-thesis-project/Graph/Graph_with_Communities.ipynb#W1sZmlsZQ%3D%3D?line=20'>21</a>\u001b[0m \u001b[39mfrom\u001b[39;00m \u001b[39mcommunity\u001b[39;00m \u001b[39mimport\u001b[39;00m community_louvain\n\u001b[1;32m     <a href='vscode-notebook-cell:/Users/jangaydoul/Desktop/Copenhagen%20Business%20School/4.%20Semester%20%3A%3A%20Thesis/04_Code/master-thesis-project/Graph/Graph_with_Communities.ipynb#W1sZmlsZQ%3D%3D?line=21'>22</a>\u001b[0m \u001b[39mimport\u001b[39;00m \u001b[39mmatplotlib\u001b[39;00m\u001b[39m.\u001b[39;00m\u001b[39mcm\u001b[39;00m \u001b[39mas\u001b[39;00m \u001b[39mcm\u001b[39;00m\n\u001b[1;32m     <a href='vscode-notebook-cell:/Users/jangaydoul/Desktop/Copenhagen%20Business%20School/4.%20Semester%20%3A%3A%20Thesis/04_Code/master-thesis-project/Graph/Graph_with_Communities.ipynb#W1sZmlsZQ%3D%3D?line=22'>23</a>\u001b[0m \u001b[39mimport\u001b[39;00m \u001b[39mleidenalg\u001b[39;00m\n",
      "\u001b[0;31mImportError\u001b[0m: cannot import name 'community_louvain' from 'community' (/Library/Frameworks/Python.framework/Versions/3.9/lib/python3.9/site-packages/community/__init__.py)"
     ]
    }
   ],
   "source": [
    "# Importing libraries\n",
    "import pandas as pd\n",
    "pd.set_option('display.max_columns', None)\n",
    "import geopandas as gpd\n",
    "import matplotlib.pyplot as plt\n",
    "import matplotlib.colors\n",
    "\n",
    "\n",
    "import math\n",
    "\n",
    "import networkx as nx\n",
    "from networkx.drawing.nx_agraph import graphviz_layout\n",
    "import igraph as ig\n",
    "\n",
    "import folium\n",
    "from folium import PolyLine, CircleMarker\n",
    "from folium.plugins import MarkerCluster\n",
    "from shapely.geometry import Point, LineString\n",
    "from pyvis.network import Network\n",
    "\n",
    "from community import community_louvain\n",
    "import matplotlib.cm as cm\n",
    "import leidenalg\n"
   ]
  },
  {
   "cell_type": "code",
   "execution_count": 2,
   "metadata": {},
   "outputs": [],
   "source": [
    "# Count how many routes are in df_final_UK_300\n",
    "# Create df with unique routes \n",
    "# Check if .nunique() & len(routes) are the same \n",
    "\n",
    "# Then build graph based on unique routes df "
   ]
  },
  {
   "cell_type": "code",
   "execution_count": 3,
   "metadata": {},
   "outputs": [],
   "source": [
    "### 1) Prepare dataset for Graph building\n",
    "\n",
    "# Loading dataset\n",
    "\n",
    "df_final = pd.read_csv(\"/Users/jangaydoul/Desktop/Copenhagen Business School/4. Semester :: Thesis/03_Data/csvs/df_final.csv\")\n",
    "coordinates_df = pd.read_csv(\"/Users/jangaydoul/Desktop/Copenhagen Business School/4. Semester :: Thesis/03_Data/csvs/df_graph.csv\")"
   ]
  },
  {
   "cell_type": "code",
   "execution_count": 4,
   "metadata": {},
   "outputs": [
    {
     "name": "stdout",
     "output_type": "stream",
     "text": [
      "162112\n",
      "4973604\n"
     ]
    }
   ],
   "source": [
    "print(len(coordinates_df)) #162,112\n",
    "print(len(df_final)) #4,973,604"
   ]
  },
  {
   "cell_type": "code",
   "execution_count": 6,
   "metadata": {},
   "outputs": [
    {
     "data": {
      "text/plain": [
       "37994"
      ]
     },
     "execution_count": 6,
     "metadata": {},
     "output_type": "execute_result"
    }
   ],
   "source": [
    "df_final['FromLocation'].nunique() #37,994\n",
    "df_final['ToLocation'].nunique() #87,093"
   ]
  },
  {
   "cell_type": "code",
   "execution_count": 7,
   "metadata": {},
   "outputs": [
    {
     "name": "stdout",
     "output_type": "stream",
     "text": [
      "Number of unique routes: 162113\n"
     ]
    }
   ],
   "source": [
    "# Group the data by pick-up and drop-off points\n",
    "grouped = df_final.groupby(['FromLatitude', 'FromLongitude', 'ToLatitude', 'ToLongitude'])\n",
    "\n",
    "# Count the number of unique groups\n",
    "unique_routes = len(grouped)\n",
    "\n",
    "# Print the result\n",
    "print(\"Number of unique routes:\", unique_routes)"
   ]
  },
  {
   "cell_type": "code",
   "execution_count": 8,
   "metadata": {},
   "outputs": [],
   "source": [
    "# Drop duplicates from df_final based on the four coordinate variables\n",
    "df_final_unique = df_final.drop_duplicates(subset=['FromLatitude', 'FromLongitude', 'ToLatitude', 'ToLongitude'])\n",
    "\n",
    "# Select the columns to merge from df_final\n",
    "columns_to_merge = ['FromLatitude', 'FromLongitude', 'ToLatitude', 'ToLongitude',\n",
    "                    'FromLocation', 'ToLocation', 'FromCity', 'ToCity', 'FromCountry', 'ToCountry', 'FullLoadIndicator']\n",
    "\n",
    "# Merge the two dataframes on the four coordinate variables\n",
    "df_graph = pd.merge(coordinates_df, df_final_unique[columns_to_merge], on=['FromLatitude', 'FromLongitude', 'ToLatitude', 'ToLongitude'])\n"
   ]
  },
  {
   "cell_type": "code",
   "execution_count": 9,
   "metadata": {},
   "outputs": [],
   "source": [
    "# Count the frequency of each unique route in df_final\n",
    "route_frequency = df_final.groupby(['FromLatitude', 'FromLongitude', 'ToLatitude', 'ToLongitude']).size().reset_index(name='route_count')\n",
    "\n",
    "# Merge the frequency information with merged_df\n",
    "df_graph = pd.merge(df_graph, route_frequency, on=['FromLatitude', 'FromLongitude', 'ToLatitude', 'ToLongitude'])\n"
   ]
  },
  {
   "cell_type": "code",
   "execution_count": 10,
   "metadata": {},
   "outputs": [
    {
     "data": {
      "text/html": [
       "<div>\n",
       "<style scoped>\n",
       "    .dataframe tbody tr th:only-of-type {\n",
       "        vertical-align: middle;\n",
       "    }\n",
       "\n",
       "    .dataframe tbody tr th {\n",
       "        vertical-align: top;\n",
       "    }\n",
       "\n",
       "    .dataframe thead th {\n",
       "        text-align: right;\n",
       "    }\n",
       "</style>\n",
       "<table border=\"1\" class=\"dataframe\">\n",
       "  <thead>\n",
       "    <tr style=\"text-align: right;\">\n",
       "      <th></th>\n",
       "      <th>FromLatitude</th>\n",
       "      <th>FromLongitude</th>\n",
       "      <th>ToLatitude</th>\n",
       "      <th>ToLongitude</th>\n",
       "      <th>route_distance</th>\n",
       "      <th>FromLocation</th>\n",
       "      <th>ToLocation</th>\n",
       "      <th>FromCity</th>\n",
       "      <th>ToCity</th>\n",
       "      <th>FromCountry</th>\n",
       "      <th>ToCountry</th>\n",
       "      <th>FullLoadIndicator</th>\n",
       "      <th>route_count</th>\n",
       "    </tr>\n",
       "  </thead>\n",
       "  <tbody>\n",
       "    <tr>\n",
       "      <th>0</th>\n",
       "      <td>50.63656</td>\n",
       "      <td>4.78251</td>\n",
       "      <td>63.44178</td>\n",
       "      <td>10.40893</td>\n",
       "      <td>2004.311</td>\n",
       "      <td>17287</td>\n",
       "      <td>42342</td>\n",
       "      <td>Perwez</td>\n",
       "      <td>Trondheim</td>\n",
       "      <td>Belgium</td>\n",
       "      <td>Norway</td>\n",
       "      <td>1.0</td>\n",
       "      <td>17</td>\n",
       "    </tr>\n",
       "    <tr>\n",
       "      <th>1</th>\n",
       "      <td>56.20318</td>\n",
       "      <td>14.87340</td>\n",
       "      <td>57.42278</td>\n",
       "      <td>15.06204</td>\n",
       "      <td>160.384</td>\n",
       "      <td>14689</td>\n",
       "      <td>67460</td>\n",
       "      <td>Karlshamn</td>\n",
       "      <td>Vetlanda</td>\n",
       "      <td>Sweden</td>\n",
       "      <td>Sweden</td>\n",
       "      <td>0.0</td>\n",
       "      <td>3</td>\n",
       "    </tr>\n",
       "    <tr>\n",
       "      <th>2</th>\n",
       "      <td>57.73572</td>\n",
       "      <td>11.98862</td>\n",
       "      <td>56.16157</td>\n",
       "      <td>15.58364</td>\n",
       "      <td>376.025</td>\n",
       "      <td>25161</td>\n",
       "      <td>27919</td>\n",
       "      <td>Göteborg</td>\n",
       "      <td>Karlskrona</td>\n",
       "      <td>Sweden</td>\n",
       "      <td>Sweden</td>\n",
       "      <td>0.0</td>\n",
       "      <td>5</td>\n",
       "    </tr>\n",
       "    <tr>\n",
       "      <th>3</th>\n",
       "      <td>60.71076</td>\n",
       "      <td>10.60526</td>\n",
       "      <td>51.00683</td>\n",
       "      <td>-0.42949</td>\n",
       "      <td>1991.237</td>\n",
       "      <td>21503</td>\n",
       "      <td>28913</td>\n",
       "      <td>Raufoss</td>\n",
       "      <td>BILLINGSHURST</td>\n",
       "      <td>Norway</td>\n",
       "      <td>United Kingdom</td>\n",
       "      <td>1.0</td>\n",
       "      <td>2</td>\n",
       "    </tr>\n",
       "    <tr>\n",
       "      <th>4</th>\n",
       "      <td>57.73572</td>\n",
       "      <td>11.98862</td>\n",
       "      <td>56.21754</td>\n",
       "      <td>15.27024</td>\n",
       "      <td>348.243</td>\n",
       "      <td>25161</td>\n",
       "      <td>30402</td>\n",
       "      <td>Göteborg</td>\n",
       "      <td>Ronneby</td>\n",
       "      <td>Sweden</td>\n",
       "      <td>Sweden</td>\n",
       "      <td>0.0</td>\n",
       "      <td>2</td>\n",
       "    </tr>\n",
       "  </tbody>\n",
       "</table>\n",
       "</div>"
      ],
      "text/plain": [
       "   FromLatitude  FromLongitude  ToLatitude  ToLongitude  route_distance  \\\n",
       "0      50.63656        4.78251    63.44178     10.40893        2004.311   \n",
       "1      56.20318       14.87340    57.42278     15.06204         160.384   \n",
       "2      57.73572       11.98862    56.16157     15.58364         376.025   \n",
       "3      60.71076       10.60526    51.00683     -0.42949        1991.237   \n",
       "4      57.73572       11.98862    56.21754     15.27024         348.243   \n",
       "\n",
       "   FromLocation  ToLocation   FromCity         ToCity FromCountry  \\\n",
       "0         17287       42342     Perwez      Trondheim     Belgium   \n",
       "1         14689       67460  Karlshamn       Vetlanda      Sweden   \n",
       "2         25161       27919   Göteborg     Karlskrona      Sweden   \n",
       "3         21503       28913    Raufoss  BILLINGSHURST      Norway   \n",
       "4         25161       30402   Göteborg        Ronneby      Sweden   \n",
       "\n",
       "        ToCountry  FullLoadIndicator  route_count  \n",
       "0          Norway                1.0           17  \n",
       "1          Sweden                0.0            3  \n",
       "2          Sweden                0.0            5  \n",
       "3  United Kingdom                1.0            2  \n",
       "4          Sweden                0.0            2  "
      ]
     },
     "execution_count": 10,
     "metadata": {},
     "output_type": "execute_result"
    }
   ],
   "source": [
    "df_graph.head()"
   ]
  },
  {
   "cell_type": "code",
   "execution_count": 11,
   "metadata": {},
   "outputs": [
    {
     "data": {
      "text/plain": [
       "4973250"
      ]
     },
     "execution_count": 11,
     "metadata": {},
     "output_type": "execute_result"
    }
   ],
   "source": [
    "df_graph['route_count'].sum()"
   ]
  },
  {
   "cell_type": "code",
   "execution_count": 13,
   "metadata": {},
   "outputs": [
    {
     "data": {
      "text/plain": [
       "162112"
      ]
     },
     "execution_count": 13,
     "metadata": {},
     "output_type": "execute_result"
    }
   ],
   "source": [
    "len(df_graph)"
   ]
  },
  {
   "cell_type": "code",
   "execution_count": 14,
   "metadata": {},
   "outputs": [
    {
     "data": {
      "text/plain": [
       "19720"
      ]
     },
     "execution_count": 14,
     "metadata": {},
     "output_type": "execute_result"
    }
   ],
   "source": [
    "### 1.1) Filtering for Country (UK in this case) and distance < 300km \n",
    "\n",
    "df_graph_UK = df_graph[(df_graph['FromCountry'] == 'United Kingdom') & (df_graph['ToCountry'] == 'United Kingdom')]\n",
    "df_graph_UK_300 = df_graph_UK[df_graph_UK['route_distance'] < 300]\n",
    "\n",
    "len(df_graph_UK_300)"
   ]
  },
  {
   "cell_type": "code",
   "execution_count": 56,
   "metadata": {},
   "outputs": [
    {
     "data": {
      "text/plain": [
       "count    19720.000000\n",
       "mean       163.646162\n",
       "std         80.758959\n",
       "min         -1.000000\n",
       "25%        107.263500\n",
       "50%        174.570000\n",
       "75%        227.372250\n",
       "max        299.908000\n",
       "Name: route_distance, dtype: float64"
      ]
     },
     "execution_count": 56,
     "metadata": {},
     "output_type": "execute_result"
    }
   ],
   "source": [
    "df_graph_UK_300['route_distance'].describe()"
   ]
  },
  {
   "cell_type": "code",
   "execution_count": 75,
   "metadata": {},
   "outputs": [],
   "source": [
    "### 2) Building Graph\n",
    "\n",
    "### BASELINE FOR FURTHER CODING\n",
    "\n",
    "# Build the empty directed graph\n",
    "G = nx.DiGraph()\n",
    "\n",
    "# Filter the top 2.5% most often used routes and add them as edges to the graph\n",
    "top_routes = df_graph_UK_300.nlargest(int(len(df_graph_UK_300) * 0.025), 'route_count')\n",
    "\n",
    "for idx, row in top_routes.iterrows():\n",
    "    G.add_edge((row['FromLatitude'], row['FromLongitude']),\n",
    "               (row['ToLatitude'], row['ToLongitude']),\n",
    "               route_count=row['route_count'])\n",
    "\n",
    "# Calculate the traffic for each node\n",
    "node_traffic = {}\n",
    "for edge in G.edges(data=True):\n",
    "    start, end, data = edge\n",
    "    route_count = data['route_count']\n",
    "    \n",
    "    if start not in node_traffic:\n",
    "        node_traffic[start] = 0\n",
    "    if end not in node_traffic:\n",
    "        node_traffic[end] = 0\n",
    "    \n",
    "    node_traffic[start] += route_count\n",
    "    node_traffic[end] += route_count\n",
    "\n",
    "# Normalize the node traffic values\n",
    "max_node_traffic = max(node_traffic.values())\n",
    "node_traffic_normalized = {node: math.log(traffic + 1) / math.log(max_node_traffic + 1) for node, traffic in node_traffic.items()}\n",
    "\n",
    "def add_nodes_edges_to_map(graph, folium_map, node_traffic_normalized):\n",
    "    max_route_count = max(data['route_count'] for _, _, data in graph.edges(data=True))\n",
    "    \n",
    "    for edge in graph.edges(data=True):\n",
    "        start, end, data = edge\n",
    "        \n",
    "        # Set the color intensity based on the logarithmic scale of the node traffic\n",
    "        start_intensity = node_traffic_normalized[start]\n",
    "        end_intensity = node_traffic_normalized[end]\n",
    "        \n",
    "        # Get the color from the color gradient\n",
    "        start_color = plt.cm.get_cmap('Blues')(start_intensity)\n",
    "        end_color = plt.cm.get_cmap('Blues')(end_intensity)\n",
    "        \n",
    "        start_color = matplotlib.colors.to_hex(start_color)\n",
    "        end_color = matplotlib.colors.to_hex(end_color)\n",
    "        \n",
    "        start_node_marker = CircleMarker(location=start, radius=0.5, color=start_color, fill=True, fill_opacity=0.5)\n",
    "        end_node_marker = CircleMarker(location=end, radius=0.5, color=end_color, fill=True, fill_opacity=0.5)\n",
    "        \n",
    "        intensity = math.log(data['route_count'] + 1) / math.log(max_route_count + 1)\n",
    "        edge_color = plt.cm.get_cmap('coolwarm')(intensity)\n",
    "        edge_color = matplotlib.colors.to_hex(edge_color)\n",
    "        \n",
    "        polyline = PolyLine(locations=[start, end], color=edge_color, weight=1)\n",
    "        \n",
    "        folium_map.add_child(start_node_marker)\n",
    "        folium_map.add_child(end_node_marker)\n",
    "        folium_map.add_child(polyline)\n",
    "\n",
    "# Create the folium map centered based on the coordinates and add nodes and edges to the map\n",
    "map_center = df_graph_UK_300[['FromLatitude', 'FromLongitude']].mean().tolist()\n",
    "map_UK = folium.Map(location=map_center, zoom_start=5, tiles='CartoDB Positron')\n",
    "add_nodes_edges_to_map(G, map_UK, node_traffic_normalized)\n",
    "\n",
    "# Save the map \n",
    "map_UK.save('UK_map.html')"
   ]
  },
  {
   "cell_type": "code",
   "execution_count": 76,
   "metadata": {},
   "outputs": [
    {
     "name": "stdout",
     "output_type": "stream",
     "text": [
      "Number of nodes: 432\n",
      "Number of edges: 493\n"
     ]
    }
   ],
   "source": [
    "# Counting number of nodes and edges\n",
    "\n",
    "num_nodes = G.number_of_nodes()\n",
    "num_edges = G.number_of_edges()\n",
    "\n",
    "print(\"Number of nodes:\", num_nodes)\n",
    "print(\"Number of edges:\", num_edges)"
   ]
  },
  {
   "cell_type": "code",
   "execution_count": 78,
   "metadata": {},
   "outputs": [
    {
     "ename": "AttributeError",
     "evalue": "module 'community' has no attribute 'best_partition'",
     "output_type": "error",
     "traceback": [
      "\u001b[0;31m---------------------------------------------------------------------------\u001b[0m",
      "\u001b[0;31mAttributeError\u001b[0m                            Traceback (most recent call last)",
      "\u001b[1;32m/Users/jangaydoul/Desktop/Copenhagen Business School/4. Semester :: Thesis/04_Code/master-thesis-project/Graph/Graph_with_Communities.ipynb Cell 16\u001b[0m in \u001b[0;36m4\n\u001b[1;32m      <a href='vscode-notebook-cell:/Users/jangaydoul/Desktop/Copenhagen%20Business%20School/4.%20Semester%20%3A%3A%20Thesis/04_Code/master-thesis-project/Graph/Graph_with_Communities.ipynb#X53sZmlsZQ%3D%3D?line=0'>1</a>\u001b[0m \u001b[39m### 3) Detecting Communities\u001b[39;00m\n\u001b[1;32m      <a href='vscode-notebook-cell:/Users/jangaydoul/Desktop/Copenhagen%20Business%20School/4.%20Semester%20%3A%3A%20Thesis/04_Code/master-thesis-project/Graph/Graph_with_Communities.ipynb#X53sZmlsZQ%3D%3D?line=1'>2</a>\u001b[0m \n\u001b[1;32m      <a href='vscode-notebook-cell:/Users/jangaydoul/Desktop/Copenhagen%20Business%20School/4.%20Semester%20%3A%3A%20Thesis/04_Code/master-thesis-project/Graph/Graph_with_Communities.ipynb#X53sZmlsZQ%3D%3D?line=2'>3</a>\u001b[0m \u001b[39m# Louvain algorithm returns a dictionary, where the keys represent the nodes and the values represent the community each node belongs to \u001b[39;00m\n\u001b[0;32m----> <a href='vscode-notebook-cell:/Users/jangaydoul/Desktop/Copenhagen%20Business%20School/4.%20Semester%20%3A%3A%20Thesis/04_Code/master-thesis-project/Graph/Graph_with_Communities.ipynb#X53sZmlsZQ%3D%3D?line=3'>4</a>\u001b[0m partition \u001b[39m=\u001b[39m community_louvain\u001b[39m.\u001b[39;49mbest_partition(G)\n",
      "\u001b[0;31mAttributeError\u001b[0m: module 'community' has no attribute 'best_partition'"
     ]
    }
   ],
   "source": [
    "### 3) Detecting Communities\n",
    "\n",
    "# Louvain algorithm returns a dictionary, where the keys represent the nodes and the values represent the community each node belongs to \n",
    "partition = community_louvain.best_partition(G)\n"
   ]
  }
 ],
 "metadata": {
  "kernelspec": {
   "display_name": "Python 3",
   "language": "python",
   "name": "python3"
  },
  "language_info": {
   "codemirror_mode": {
    "name": "ipython",
    "version": 3
   },
   "file_extension": ".py",
   "mimetype": "text/x-python",
   "name": "python",
   "nbconvert_exporter": "python",
   "pygments_lexer": "ipython3",
   "version": "3.9.5"
  },
  "orig_nbformat": 4
 },
 "nbformat": 4,
 "nbformat_minor": 2
}
