{
 "cells": [
  {
   "cell_type": "markdown",
   "id": "2e840d5a",
   "metadata": {},
   "source": [
    "### Master Thesis Project: Finding optimal EV charging infrastructure on DFDS routes\n",
    "_________________________________________________________________________________________\n",
    "\n",
    "#### Students: Jan Gaydoul & Emanuela Zucchetto\n",
    "\n",
    "#### Code Part 2: Using Graph Theory and the NetworkX package to find ideal locations for DFDS eTrucks charging stations"
   ]
  },
  {
   "cell_type": "code",
   "execution_count": 1,
   "id": "eac12c60",
   "metadata": {},
   "outputs": [],
   "source": [
    "# Importing needed libraries\n",
    "\n",
    "import pandas as pd\n",
    "pd.set_option('display.max_columns', None)\n",
    "\n",
    "import networkx as nx\n",
    "from mpl_toolkits.basemap import Basemap\n",
    "import matplotlib.pyplot as plt\n"
   ]
  },
  {
   "cell_type": "code",
   "execution_count": null,
   "id": "10abaeb8",
   "metadata": {},
   "outputs": [],
   "source": [
    "# loading final pre-processed dataset\n",
    "df_final = pd.read_csv('df_final.csv')\n"
   ]
  },
  {
   "cell_type": "code",
   "execution_count": null,
   "id": "b7caa46c",
   "metadata": {},
   "outputs": [],
   "source": [
    "### 1) Building the Graph"
   ]
  },
  {
   "cell_type": "code",
   "execution_count": null,
   "id": "086697e4",
   "metadata": {},
   "outputs": [],
   "source": [
    "# Create an empty graph\n",
    "G = nx.Graph()\n",
    "\n",
    "# Add nodes to the graph\n",
    "for index, row in df_final.iterrows():\n",
    "    from_coords = (row['FromLatitude'], row['FromLongitude'])\n",
    "    to_coords = (row['ToLatitude'], row['ToLongitude'])\n",
    "    G.add_node(from_coords)\n",
    "    G.add_node(to_coords)\n",
    "\n",
    "# Add edges to the graph\n",
    "for index, row in df_final.iterrows():\n",
    "    source = (row['FromLatitude'], row['FromLongitude'])\n",
    "    target = (row['ToLatitude'], row['ToLongitude'])\n",
    "    distance = row['route_distance']\n",
    "    frequency = row['route_frequency']\n",
    "    G.add_edge(source, target, distance=distance, frequency=frequency)\n",
    "\n",
    "# Get the geographical boundaries of the data\n",
    "min_lat, max_lat = df_final[['FromLatitude', 'ToLatitude']].min().min(), df_final[['FromLatitude', 'ToLatitude']].max().max()\n",
    "min_lon, max_lon = df_final[['FromLongitude', 'ToLongitude']].min().min(), df_final[['FromLongitude', 'ToLongitude']].max().max()\n",
    "\n",
    "# Create a Basemap object centered on the data\n",
    "m = Basemap(projection='merc', llcrnrlat=min_lat-1, urcrnrlat=max_lat+1,\n",
    "            llcrnrlon=min_lon-1, urcrnrlon=max_lon+1, lat_ts=0, resolution='h')\n",
    "\n",
    "# Draw the map\n",
    "m.drawcoastlines()\n",
    "m.fillcontinents(color='tan', lake_color='lightblue')\n",
    "m.drawcountries()\n",
    "\n",
    "# Draw the graph\n",
    "pos = {node: m(node[1], node[0]) for node in G.nodes()}\n",
    "nx.draw(G, pos, with_labels=False, node_size=10)\n",
    "\n",
    "# Show the plot\n",
    "plt.show()\n"
   ]
  },
  {
   "cell_type": "code",
   "execution_count": null,
   "id": "ec049b04",
   "metadata": {},
   "outputs": [],
   "source": [
    "### 2) Visualizations"
   ]
  },
  {
   "cell_type": "code",
   "execution_count": null,
   "id": "5d6dcee9",
   "metadata": {},
   "outputs": [],
   "source": [
    "## Color coding the graph based on route_frequency \n",
    "\n",
    "# define a colormap that maps frequency values to colors\n",
    "cmap = plt.cm.get_cmap('Blues')\n",
    "\n",
    "# create a dictionary mapping edge keys to frequencies\n",
    "edge_freq = dict(zip(zip(df_final['FromLatitude'], df_final['FromLongitude'], df_final['ToLatitude'], df_final['ToLongitude']), df_final['route_frequency']))\n",
    "\n",
    "# draw the graph with colored edges\n",
    "nx.draw_networkx_nodes(G, pos)\n",
    "nx.draw_networkx_edges(G, pos, edge_color=[cmap(edge_freq[e]) for e in G.edges()])\n",
    "plt.show()"
   ]
  },
  {
   "cell_type": "code",
   "execution_count": null,
   "id": "159ee642",
   "metadata": {},
   "outputs": [],
   "source": [
    "### 3) Finding the ideal locations for charging stations "
   ]
  }
 ],
 "metadata": {
  "kernelspec": {
   "display_name": "Python 3 (ipykernel)",
   "language": "python",
   "name": "python3"
  },
  "language_info": {
   "codemirror_mode": {
    "name": "ipython",
    "version": 3
   },
   "file_extension": ".py",
   "mimetype": "text/x-python",
   "name": "python",
   "nbconvert_exporter": "python",
   "pygments_lexer": "ipython3",
   "version": "3.8.5"
  }
 },
 "nbformat": 4,
 "nbformat_minor": 5
}
