{
 "cells": [
  {
   "cell_type": "markdown",
   "id": "2e840d5a",
   "metadata": {},
   "source": [
    "### Master Thesis Project: Finding optimal EV charging infrastructure on DFDS routes\n",
    "_________________________________________________________________________________________\n",
    "\n",
    "#### Students: Jan Gaydoul & Emanuela Zucchetto\n",
    "\n",
    "#### Code Part 2: Using Graph Theory and the NetworkX package to find ideal locations for DFDS eTrucks charging stations"
   ]
  },
  {
   "cell_type": "code",
   "execution_count": 5,
   "id": "eac12c60",
   "metadata": {},
   "outputs": [],
   "source": [
    "# Importing needed libraries\n",
    "\n",
    "import pandas as pd\n",
    "import os\n",
    "pd.set_option('display.max_columns', None)\n",
    "\n",
    "import networkx as nx\n",
    "import matplotlib.pyplot as plt\n"
   ]
  },
  {
   "cell_type": "code",
   "execution_count": 6,
   "id": "10abaeb8",
   "metadata": {},
   "outputs": [],
   "source": [
    "#  Preparing dataset\n",
    "\n",
    "# set working directory to where the CSV files are located\n",
    "os.chdir('/Users/jangaydoul/Desktop/Copenhagen Business School/4. Semester :: Thesis/03_Data/csvs')\n",
    "\n",
    "# initialize an empty dataframe to hold the concatenated data\n",
    "df_graph = pd.DataFrame()\n",
    "\n",
    "# loop through each CSV file and append its data to the dataframe\n",
    "for file in os.listdir():\n",
    "    if file.endswith('.csv'):\n",
    "        temp_df = pd.read_csv(file)\n",
    "        df_graph = pd.concat([df_graph, temp_df])\n",
    "\n",
    "# export the concatenated data to a new CSV file\n",
    "df_graph.to_csv('df_graph.csv', index=False)"
   ]
  },
  {
   "cell_type": "code",
   "execution_count": 9,
   "id": "078dee75",
   "metadata": {},
   "outputs": [
    {
     "data": {
      "text/plain": [
       "count    162112.000000\n",
       "mean        822.890598\n",
       "std         683.135621\n",
       "min          -1.000000\n",
       "25%         274.896750\n",
       "50%         612.693000\n",
       "75%        1221.561500\n",
       "max       12065.484000\n",
       "Name: route_distance, dtype: float64"
      ]
     },
     "execution_count": 9,
     "metadata": {},
     "output_type": "execute_result"
    }
   ],
   "source": [
    "# len(df_graph)\n",
    "df_graph['route_distance'].describe()"
   ]
  },
  {
   "cell_type": "code",
   "execution_count": null,
   "id": "b7caa46c",
   "metadata": {},
   "outputs": [],
   "source": [
    "### 1) Building the Graph"
   ]
  },
  {
   "cell_type": "code",
   "execution_count": null,
   "id": "ec049b04",
   "metadata": {},
   "outputs": [],
   "source": [
    "### 2) Visualizations"
   ]
  },
  {
   "cell_type": "code",
   "execution_count": null,
   "id": "159ee642",
   "metadata": {},
   "outputs": [],
   "source": [
    "### 3) Finding the ideal locations for charging stations "
   ]
  }
 ],
 "metadata": {
  "kernelspec": {
   "display_name": "Python 3 (ipykernel)",
   "language": "python",
   "name": "python3"
  },
  "language_info": {
   "codemirror_mode": {
    "name": "ipython",
    "version": 3
   },
   "file_extension": ".py",
   "mimetype": "text/x-python",
   "name": "python",
   "nbconvert_exporter": "python",
   "pygments_lexer": "ipython3",
   "version": "3.9.5"
  }
 },
 "nbformat": 4,
 "nbformat_minor": 5
}
